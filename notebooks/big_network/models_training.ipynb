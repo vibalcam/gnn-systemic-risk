{
 "cells": [
  {
   "cell_type": "code",
   "execution_count": 5,
   "metadata": {},
   "outputs": [],
   "source": [
    "import sys\n",
    "sys.path.append('../../')"
   ]
  },
  {
   "cell_type": "code",
   "execution_count": 6,
   "metadata": {},
   "outputs": [
    {
     "name": "stderr",
     "output_type": "stream",
     "text": [
      "Using backend: pytorch\n"
     ]
    },
    {
     "ename": "SyntaxError",
     "evalue": "invalid syntax (utils.py, line 442)",
     "output_type": "error",
     "traceback": [
      "Traceback \u001b[1;36m(most recent call last)\u001b[0m:\n",
      "  File \u001b[0;32mc:\\Users\\vibal\\PycharmProjects\\systemic-risk-predictor\\venv\\lib\\site-packages\\IPython\\core\\interactiveshell.py:3340\u001b[0m in \u001b[0;35mrun_code\u001b[0m\n    exec(code_obj, self.user_global_ns, self.user_ns)\n",
      "  Input \u001b[0;32mIn [6]\u001b[0m in \u001b[0;35m<cell line: 12>\u001b[0m\n    from models.train import train, test\n",
      "  File \u001b[0;32mc:\\Users\\vibal\\PycharmProjects\\systemic-risk-predictor\\notebooks\\big_network\\../..\\models\\train.py:10\u001b[0m in \u001b[0;35m<module>\u001b[0m\n    from .models import GCN, GAT, GraphSAGE, load_model, save_model, FNN\n",
      "\u001b[1;36m  File \u001b[1;32mc:\\Users\\vibal\\PycharmProjects\\systemic-risk-predictor\\notebooks\\big_network\\../..\\models\\models.py:10\u001b[1;36m in \u001b[1;35m<module>\u001b[1;36m\u001b[0m\n\u001b[1;33m    from models.utils import load_dict, save_dict\u001b[0m\n",
      "\u001b[1;36m  File \u001b[1;32mc:\\Users\\vibal\\PycharmProjects\\systemic-risk-predictor\\notebooks\\big_network\\../..\\models\\utils.py:442\u001b[1;36m\u001b[0m\n\u001b[1;33m    for deterministic behavior on cuda >= 10.2\u001b[0m\n\u001b[1;37m                      ^\u001b[0m\n\u001b[1;31mSyntaxError\u001b[0m\u001b[1;31m:\u001b[0m invalid syntax\n"
     ]
    }
   ],
   "source": [
    "import torch\n",
    "import itertools\n",
    "from sklearn.linear_model import LogisticRegression\n",
    "from sklearn.model_selection import train_test_split\n",
    "from sklearn.ensemble import RandomForestClassifier\n",
    "from sklearn.metrics import classification_report\n",
    "from sklearn.neighbors import KNeighborsClassifier\n",
    "import pandas as pd\n",
    "import numpy as np\n",
    "from tqdm.auto import tqdm, trange\n",
    "\n",
    "from models.train import train, test\n",
    "from models.models import GCN, GAT, GraphSAGE, FNN\n",
    "from models.utils import ContagionDataset, set_seed\n",
    "from sklearn.metrics import matthews_corrcoef, mean_squared_error, mean_absolute_error"
   ]
  },
  {
   "cell_type": "code",
   "execution_count": null,
   "metadata": {},
   "outputs": [],
   "source": [
    "def pretty(ld, indent=0):\n",
    "    with open('result.txt', 'w', encoding='utf-8') as file:\n",
    "        for d in tqdm(ld):\n",
    "            file.write('{' + '\\n')\n",
    "            for key, value in d.items():\n",
    "                file.write('\\t' * (indent+1) + str(key) + ':' + str(value) + '\\n')\n",
    "                # file.write('\\t' * (indent+1) + str(key) + '\\n')\n",
    "                # file.write('\\t' * (indent+2) + str(value) + '\\n')\n",
    "            file.write('},\\n')"
   ]
  },
  {
   "cell_type": "code",
   "execution_count": null,
   "metadata": {},
   "outputs": [],
   "source": [
    "do_train = True\n",
    "\n",
    "seed = 4444\n",
    "set_seed(seed)\n",
    "\n",
    "metric_filter_1 = 'val_mcc'\n",
    "metric_filter_2 = 'test_mcc'\n",
    "\n",
    "data_dir = '../data'\n",
    "log_path = './logs'\n",
    "save_path = './saved'"
   ]
  },
  {
   "cell_type": "markdown",
   "metadata": {},
   "source": [
    "# Big dataset: Additional stress"
   ]
  },
  {
   "cell_type": "code",
   "execution_count": null,
   "metadata": {},
   "outputs": [],
   "source": [
    "sets_lengths = (0.5, 0.25, 0.25)\n",
    "target = 'additional_stress'\n",
    "\n",
    "dataset = ContagionDataset(\n",
    "    raw_dir=data_dir,\n",
    "    drop_edges=0,\n",
    "    sets_lengths=sets_lengths,\n",
    "    target = target,\n",
    ")\n",
    "\n",
    "out_feats = dataset.num_classes"
   ]
  },
  {
   "cell_type": "code",
   "execution_count": null,
   "metadata": {},
   "outputs": [
    {
     "data": {
      "text/plain": [
       "tensor(750)"
      ]
     },
     "execution_count": 7,
     "metadata": {},
     "output_type": "execute_result"
    }
   ],
   "source": [
    "(dataset[0].ndata['train_mask']).sum()"
   ]
  },
  {
   "cell_type": "code",
   "execution_count": null,
   "metadata": {},
   "outputs": [
    {
     "data": {
      "text/plain": [
       "tensor(375)"
      ]
     },
     "execution_count": 8,
     "metadata": {},
     "output_type": "execute_result"
    }
   ],
   "source": [
    "(dataset[0].ndata['val_mask']).sum()"
   ]
  },
  {
   "cell_type": "code",
   "execution_count": null,
   "metadata": {},
   "outputs": [
    {
     "data": {
      "text/plain": [
       "tensor(375)"
      ]
     },
     "execution_count": 9,
     "metadata": {},
     "output_type": "execute_result"
    }
   ],
   "source": [
    "(dataset[0].ndata['test_mask']).sum()"
   ]
  },
  {
   "cell_type": "markdown",
   "metadata": {},
   "source": [
    "## Baseline"
   ]
  },
  {
   "cell_type": "code",
   "execution_count": null,
   "metadata": {},
   "outputs": [],
   "source": [
    "dict_small_acc_train = {}\n",
    "dict_small_acc_val = {}\n",
    "dict_small_acc_test = {}\n",
    "dict_small_rmse_train = {}\n",
    "dict_small_rmse_val = {}\n",
    "dict_small_rmse_test = {}\n",
    "dict_small_mcc_train = {}\n",
    "dict_small_mcc_val = {}\n",
    "dict_small_mcc_test = {}"
   ]
  },
  {
   "cell_type": "code",
   "execution_count": null,
   "metadata": {},
   "outputs": [],
   "source": [
    "# x_train,x_test,y_train,y_test = train_test_split(dataset.node_features[0].to_numpy(), dataset.targets[0], test_size=0.25, random_state=seed)\n",
    "g_data = dataset.graphs[0].ndata\n",
    "feats = g_data['feat']\n",
    "labels = g_data['label']\n",
    "train_mask = g_data['train_mask']\n",
    "val_mask = g_data['val_mask']\n",
    "test_mask = g_data['test_mask']\n",
    "\n",
    "# train + val for training, test for test\n",
    "x_train,x_test = feats[torch.logical_not(test_mask)], feats[test_mask]\n",
    "y_train,y_test = labels[torch.logical_not(test_mask)], labels[test_mask]"
   ]
  },
  {
   "cell_type": "code",
   "execution_count": null,
   "metadata": {},
   "outputs": [
    {
     "data": {
      "text/plain": [
       "torch.Size([1125, 4])"
      ]
     },
     "execution_count": 12,
     "metadata": {},
     "output_type": "execute_result"
    }
   ],
   "source": [
    "x_train.shape"
   ]
  },
  {
   "cell_type": "code",
   "execution_count": null,
   "metadata": {},
   "outputs": [
    {
     "data": {
      "text/plain": [
       "torch.Size([375, 4])"
      ]
     },
     "execution_count": 13,
     "metadata": {},
     "output_type": "execute_result"
    }
   ],
   "source": [
    "x_test.shape"
   ]
  },
  {
   "cell_type": "markdown",
   "metadata": {},
   "source": [
    "### Logistic Regression"
   ]
  },
  {
   "cell_type": "code",
   "execution_count": 14,
   "metadata": {},
   "outputs": [
    {
     "name": "stdout",
     "output_type": "stream",
     "text": [
      "              precision    recall  f1-score   support\n",
      "\n",
      "           0       0.76      0.60      0.67        98\n",
      "           1       0.21      0.05      0.08        95\n",
      "           2       0.34      0.53      0.41        93\n",
      "           3       0.55      0.79      0.65        89\n",
      "\n",
      "    accuracy                           0.49       375\n",
      "   macro avg       0.46      0.49      0.45       375\n",
      "weighted avg       0.46      0.49      0.45       375\n",
      "\n"
     ]
    }
   ],
   "source": [
    "model_lr = LogisticRegression(multi_class='multinomial',random_state=seed, max_iter=800).fit(x_train, y_train)\n",
    "print(classification_report(y_true=y_test, y_pred=model_lr.predict(x_test)))"
   ]
  },
  {
   "cell_type": "code",
   "execution_count": 15,
   "metadata": {},
   "outputs": [
    {
     "name": "stdout",
     "output_type": "stream",
     "text": [
      "Train accuracy: 0.496\n",
      "Test accuracy: 0.488\n",
      "Train rmse: 0.9688481133111974\n",
      "Test rmse: 0.9605553948974868\n",
      "Train mcc: 0.34443142561242607\n",
      "Test mcc: 0.33524435059932634\n"
     ]
    }
   ],
   "source": [
    "dict_small_acc_train['logistic_regression'] = model_lr.score(x_train, y_train)\n",
    "dict_small_acc_test['logistic_regression'] = model_lr.score(x_test, y_test)\n",
    "print(f\"Train accuracy: {dict_small_acc_train['logistic_regression']}\")\n",
    "print(f\"Test accuracy: {dict_small_acc_test['logistic_regression']}\")\n",
    "\n",
    "dict_small_rmse_train['logistic_regression'] = mean_squared_error(y_true=y_train,y_pred=model_lr.predict(x_train), squared=False)\n",
    "dict_small_rmse_test['logistic_regression'] = mean_squared_error(y_true=y_test,y_pred=model_lr.predict(x_test), squared=False)\n",
    "print(f\"Train rmse: {dict_small_rmse_train['logistic_regression']}\")\n",
    "print(f\"Test rmse: {dict_small_rmse_test['logistic_regression']}\")\n",
    "\n",
    "dict_small_mcc_train['logistic_regression'] = matthews_corrcoef(y_true=y_train,y_pred=model_lr.predict(x_train))\n",
    "dict_small_mcc_test['logistic_regression'] = matthews_corrcoef(y_true=y_test,y_pred=model_lr.predict(x_test))\n",
    "print(f\"Train mcc: {dict_small_mcc_train['logistic_regression']}\")\n",
    "print(f\"Test mcc: {dict_small_mcc_test['logistic_regression']}\")"
   ]
  },
  {
   "cell_type": "markdown",
   "metadata": {},
   "source": [
    "### Random Forest"
   ]
  },
  {
   "cell_type": "code",
   "execution_count": 16,
   "metadata": {},
   "outputs": [],
   "source": [
    "# # x_train_rf,x_val_rf,y_train_rf,y_val_rf = train_test_split(x_train, y_train, test_size=0.2, random_state=seed)\n",
    "# x_train_rf,x_val_rf,x_test_rf = feats[train_mask], feats[val_mask], feats[test_mask]\n",
    "# y_train_rf,y_val_rf,y_test_rf = labels[train_mask], labels[val_mask], labels[test_mask]\n",
    "x_train_rf = x_train\n",
    "y_train_rf = y_train\n",
    "x_val_rf = x_test\n",
    "y_val_rf = y_test"
   ]
  },
  {
   "cell_type": "code",
   "execution_count": 17,
   "metadata": {},
   "outputs": [
    {
     "name": "stderr",
     "output_type": "stream",
     "text": [
      "100%|██████████| 21/21 [00:24<00:00,  1.17s/it]"
     ]
    },
    {
     "name": "stdout",
     "output_type": "stream",
     "text": [
      "              precision    recall  f1-score   support\n",
      "\n",
      "           0       0.68      0.70      0.69        98\n",
      "           1       0.38      0.35      0.36        95\n",
      "           2       0.31      0.30      0.31        93\n",
      "           3       0.58      0.63      0.60        89\n",
      "\n",
      "    accuracy                           0.50       375\n",
      "   macro avg       0.49      0.50      0.49       375\n",
      "weighted avg       0.49      0.50      0.49       375\n",
      "\n"
     ]
    },
    {
     "name": "stderr",
     "output_type": "stream",
     "text": [
      "\n"
     ]
    }
   ],
   "source": [
    "n = 20\n",
    "num_nodes = x_train_rf.shape[0]\n",
    "model_rf = None\n",
    "val_acc = 0.0\n",
    "for k in trange(1,num_nodes, (num_nodes - 1) // n):\n",
    "    tmp = RandomForestClassifier(random_state=seed, n_estimators=k).fit(x_train_rf,y_train_rf)\n",
    "    tmp_acc = matthews_corrcoef(y_true=y_val_rf,y_pred=tmp.predict(x_val_rf))\n",
    "    if val_acc < tmp_acc:\n",
    "        val_acc = tmp_acc\n",
    "        model_rf = tmp\n",
    "\n",
    "print(classification_report(y_true=y_test, y_pred=model_rf.predict(x_test)))"
   ]
  },
  {
   "cell_type": "code",
   "execution_count": 18,
   "metadata": {},
   "outputs": [
    {
     "data": {
      "text/plain": [
       "RandomForestClassifier(n_estimators=57, random_state=4444)"
      ]
     },
     "execution_count": 18,
     "metadata": {},
     "output_type": "execute_result"
    }
   ],
   "source": [
    "model_rf"
   ]
  },
  {
   "cell_type": "code",
   "execution_count": 19,
   "metadata": {},
   "outputs": [
    {
     "name": "stdout",
     "output_type": "stream",
     "text": [
      "Train accuracy: 1.0\n",
      "Val accuracy: 0.496\n",
      "Test accuracy: 0.496\n",
      "Train rmse: 0.0\n",
      "Val rmse: 0.977070451229934\n",
      "Test rmse: 0.977070451229934\n",
      "Train mcc: 1.0\n",
      "Val mcc: 0.3281549927912905\n",
      "Test mcc: 0.3281549927912905\n"
     ]
    }
   ],
   "source": [
    "dict_small_acc_train['random_forest'] = model_rf.score(x_train_rf, y_train_rf)\n",
    "dict_small_acc_val['random_forest'] = model_rf.score(x_val_rf, y_val_rf)\n",
    "dict_small_acc_test['random_forest'] = model_rf.score(x_test, y_test)\n",
    "print(f\"Train accuracy: {dict_small_acc_train['random_forest']}\")\n",
    "print(f\"Val accuracy: {dict_small_acc_val['random_forest']}\")\n",
    "print(f\"Test accuracy: {dict_small_acc_test['random_forest']}\")\n",
    "\n",
    "dict_small_rmse_train['random_forest'] = mean_squared_error(y_true=y_train_rf,y_pred=model_rf.predict(x_train_rf), squared=False)\n",
    "dict_small_rmse_val['random_forest'] = mean_squared_error(y_true=y_val_rf,y_pred=model_rf.predict(x_val_rf), squared=False)\n",
    "dict_small_rmse_test['random_forest'] = mean_squared_error(y_true=y_test,y_pred=model_rf.predict(x_test), squared=False)\n",
    "print(f\"Train rmse: {dict_small_rmse_train['random_forest']}\")\n",
    "print(f\"Val rmse: {dict_small_rmse_val['random_forest']}\")\n",
    "print(f\"Test rmse: {dict_small_rmse_test['random_forest']}\")\n",
    "\n",
    "dict_small_mcc_train['random_forest'] = matthews_corrcoef(y_true=y_train_rf,y_pred=model_rf.predict(x_train_rf))\n",
    "dict_small_mcc_val['random_forest'] = matthews_corrcoef(y_true=y_val_rf,y_pred=model_rf.predict(x_val_rf))\n",
    "dict_small_mcc_test['random_forest'] = matthews_corrcoef(y_true=y_test,y_pred=model_rf.predict(x_test))\n",
    "print(f\"Train mcc: {dict_small_mcc_train['random_forest']}\")\n",
    "print(f\"Val mcc: {dict_small_mcc_val['random_forest']}\")\n",
    "print(f\"Test mcc: {dict_small_mcc_test['random_forest']}\")"
   ]
  },
  {
   "cell_type": "markdown",
   "metadata": {},
   "source": [
    "### KNN Classifier"
   ]
  },
  {
   "cell_type": "code",
   "execution_count": 19,
   "metadata": {},
   "outputs": [
    {
     "name": "stdout",
     "output_type": "stream",
     "text": [
      "              precision    recall  f1-score   support\n",
      "\n",
      "           0       0.62      0.67      0.65        98\n",
      "           1       0.25      0.27      0.26        95\n",
      "           2       0.26      0.27      0.26        93\n",
      "           3       0.45      0.34      0.38        89\n",
      "\n",
      "    accuracy                           0.39       375\n",
      "   macro avg       0.39      0.39      0.39       375\n",
      "weighted avg       0.40      0.39      0.39       375\n",
      "\n"
     ]
    }
   ],
   "source": [
    "model_knn = KNeighborsClassifier(n_neighbors=out_feats).fit(x_train,y_train)\n",
    "print(classification_report(y_true=y_test, y_pred=model_knn.predict(x_test)))"
   ]
  },
  {
   "cell_type": "code",
   "execution_count": 20,
   "metadata": {},
   "outputs": [
    {
     "name": "stdout",
     "output_type": "stream",
     "text": [
      "Train accuracy: 0.6328888888888888\n",
      "Test accuracy: 0.392\n",
      "Train rmse: 0.977070451229934\n",
      "Test rmse: 1.1372481406154653\n",
      "Train mcc: 0.5121440277091303\n",
      "Test mcc: 0.18845797689767943\n"
     ]
    }
   ],
   "source": [
    "dict_small_acc_train['knn_classifier'] = model_knn.score(x_train_rf, y_train_rf)\n",
    "dict_small_acc_test['knn_classifier'] = model_knn.score(x_test, y_test)\n",
    "print(f\"Train accuracy: {dict_small_acc_train['knn_classifier']}\")\n",
    "print(f\"Test accuracy: {dict_small_acc_test['knn_classifier']}\")\n",
    "\n",
    "dict_small_rmse_train['knn_classifier'] = mean_squared_error(y_true=y_train_rf,y_pred=model_knn.predict(x_train_rf), squared=False)\n",
    "dict_small_rmse_test['knn_classifier'] = mean_squared_error(y_true=y_test,y_pred=model_knn.predict(x_test), squared=False)\n",
    "print(f\"Train rmse: {dict_small_rmse_train['knn_classifier']}\")\n",
    "print(f\"Test rmse: {dict_small_rmse_test['knn_classifier']}\")\n",
    "\n",
    "dict_small_mcc_train['knn_classifier'] = matthews_corrcoef(y_true=y_train_rf,y_pred=model_knn.predict(x_train_rf))\n",
    "dict_small_mcc_test['knn_classifier'] = matthews_corrcoef(y_true=y_test,y_pred=model_knn.predict(x_test))\n",
    "print(f\"Train mcc: {dict_small_mcc_train['knn_classifier']}\")\n",
    "print(f\"Test mcc: {dict_small_mcc_test['knn_classifier']}\")"
   ]
  },
  {
   "cell_type": "markdown",
   "metadata": {},
   "source": [
    "### FNN"
   ]
  },
  {
   "cell_type": "code",
   "execution_count": 3,
   "metadata": {},
   "outputs": [
    {
     "ename": "NameError",
     "evalue": "name 'save_path' is not defined",
     "output_type": "error",
     "traceback": [
      "\u001b[1;31m---------------------------------------------------------------------------\u001b[0m",
      "\u001b[1;31mNameError\u001b[0m                                 Traceback (most recent call last)",
      "\u001b[1;32mc:\\Users\\vibal\\PycharmProjects\\systemic-risk-predictor\\notebooks\\big_network\\models_training.ipynb Cell 27'\u001b[0m in \u001b[0;36m<cell line: 1>\u001b[1;34m()\u001b[0m\n\u001b[1;32m----> <a href='vscode-notebook-cell:/c%3A/Users/vibal/PycharmProjects/systemic-risk-predictor/notebooks/big_network/models_training.ipynb#ch0000026?line=0'>1</a>\u001b[0m save_model \u001b[39m=\u001b[39m \u001b[39mf\u001b[39m\u001b[39m'\u001b[39m\u001b[39m{\u001b[39;00msave_path\u001b[39m}\u001b[39;00m\u001b[39m_fnn\u001b[39m\u001b[39m'\u001b[39m\n\u001b[0;32m      <a href='vscode-notebook-cell:/c%3A/Users/vibal/PycharmProjects/systemic-risk-predictor/notebooks/big_network/models_training.ipynb#ch0000026?line=1'>2</a>\u001b[0m log_dir \u001b[39m=\u001b[39m \u001b[39mf\u001b[39m\u001b[39m'\u001b[39m\u001b[39m{\u001b[39;00mlog_path\u001b[39m}\u001b[39;00m\u001b[39m_fnn\u001b[39m\u001b[39m'\u001b[39m\n\u001b[0;32m      <a href='vscode-notebook-cell:/c%3A/Users/vibal/PycharmProjects/systemic-risk-predictor/notebooks/big_network/models_training.ipynb#ch0000026?line=3'>4</a>\u001b[0m dataset_val \u001b[39m=\u001b[39m ContagionDataset(\n\u001b[0;32m      <a href='vscode-notebook-cell:/c%3A/Users/vibal/PycharmProjects/systemic-risk-predictor/notebooks/big_network/models_training.ipynb#ch0000026?line=4'>5</a>\u001b[0m     raw_dir\u001b[39m=\u001b[39mdata_dir,\n\u001b[0;32m      <a href='vscode-notebook-cell:/c%3A/Users/vibal/PycharmProjects/systemic-risk-predictor/notebooks/big_network/models_training.ipynb#ch0000026?line=5'>6</a>\u001b[0m     drop_edges\u001b[39m=\u001b[39m\u001b[39m0\u001b[39m,\n\u001b[1;32m   (...)\u001b[0m\n\u001b[0;32m      <a href='vscode-notebook-cell:/c%3A/Users/vibal/PycharmProjects/systemic-risk-predictor/notebooks/big_network/models_training.ipynb#ch0000026?line=8'>9</a>\u001b[0m     target \u001b[39m=\u001b[39m target,\n\u001b[0;32m     <a href='vscode-notebook-cell:/c%3A/Users/vibal/PycharmProjects/systemic-risk-predictor/notebooks/big_network/models_training.ipynb#ch0000026?line=9'>10</a>\u001b[0m )\n",
      "\u001b[1;31mNameError\u001b[0m: name 'save_path' is not defined"
     ]
    }
   ],
   "source": [
    "save_model = f'{save_path}_fnn'\n",
    "log_dir = f'{log_path}_fnn'\n",
    "\n",
    "dataset_val = ContagionDataset(\n",
    "    raw_dir=data_dir,\n",
    "    drop_edges=0,\n",
    "    sets_lengths=sets_lengths,\n",
    "    add_self_loop = False,\n",
    "    target = target,\n",
    ")\n",
    "\n",
    "# fnn_model = dict(\n",
    "#     in_features=[len(dataset_val.node_attributes)],\n",
    "#     h_features=[[5, 10], [10, 15], [5,5,5], [5, 10, 15], [5, 10, 15, 20], [5], [10], [15]],\n",
    "#     out_features=[dataset_val.num_classes],\n",
    "#     activation=[torch.nn.ReLU()],\n",
    "#     norm_nodes = [None, 'bn', 'gn'],\n",
    "#     dropout=[0.2, 0.5, 0.0],\n",
    "#     # other\n",
    "#     lr=[1, 1e-1, 1e-2],\n",
    "#     label_smoothing=[0.0, 0.2, 0.4],\n",
    "# )\n",
    "\n",
    "fnn_model = dict(\n",
    "    in_features=[len(dataset_val.node_attributes)],\n",
    "    h_features=[[10, 15], [10, 15, 20], [5, 10, 15], [15] * 2, [15] * 3],\n",
    "    out_features=[dataset_val.num_classes],\n",
    "    activation=[torch.nn.ReLU()],\n",
    "    norm_nodes = [None, 'bn', 'gn'],\n",
    "    dropout=[0.2, 0.0],\n",
    "    # other\n",
    "    lr=[1e-1],\n",
    "    label_smoothing=[0.0, 0.2],\n",
    ")\n",
    "list_model = [dict(zip(fnn_model.keys(), k)) for k in itertools.product(*fnn_model.values())]"
   ]
  },
  {
   "cell_type": "code",
   "execution_count": 4,
   "metadata": {
    "collapsed": false,
    "pycharm": {
     "name": "#%%\n"
    }
   },
   "outputs": [
    {
     "ename": "NameError",
     "evalue": "name 'do_train' is not defined",
     "output_type": "error",
     "traceback": [
      "\u001b[1;31m---------------------------------------------------------------------------\u001b[0m",
      "\u001b[1;31mNameError\u001b[0m                                 Traceback (most recent call last)",
      "\u001b[1;32mc:\\Users\\vibal\\PycharmProjects\\systemic-risk-predictor\\notebooks\\big_network\\models_training.ipynb Cell 28'\u001b[0m in \u001b[0;36m<cell line: 1>\u001b[1;34m()\u001b[0m\n\u001b[1;32m----> <a href='vscode-notebook-cell:/c%3A/Users/vibal/PycharmProjects/systemic-risk-predictor/notebooks/big_network/models_training.ipynb#ch0000027?line=0'>1</a>\u001b[0m \u001b[39mif\u001b[39;00m do_train:\n\u001b[0;32m      <a href='vscode-notebook-cell:/c%3A/Users/vibal/PycharmProjects/systemic-risk-predictor/notebooks/big_network/models_training.ipynb#ch0000027?line=1'>2</a>\u001b[0m     \u001b[39mfor\u001b[39;00m d \u001b[39min\u001b[39;00m tqdm(list_model):\n\u001b[0;32m      <a href='vscode-notebook-cell:/c%3A/Users/vibal/PycharmProjects/systemic-risk-predictor/notebooks/big_network/models_training.ipynb#ch0000027?line=2'>3</a>\u001b[0m         d \u001b[39m=\u001b[39m d\u001b[39m.\u001b[39mcopy()\n",
      "\u001b[1;31mNameError\u001b[0m: name 'do_train' is not defined"
     ]
    }
   ],
   "source": [
    "if do_train:\n",
    "    for d in tqdm(list_model):\n",
    "        d = d.copy()\n",
    "        lr = d.pop('lr')\n",
    "        ls = d.pop('label_smoothing')\n",
    "\n",
    "        train(\n",
    "            model=FNN(**d),\n",
    "            dict_model=d,\n",
    "            dataset_train=dataset_val,\n",
    "            dataset_val=dataset_val,\n",
    "            log_dir=log_dir,\n",
    "            save_path=save_model,\n",
    "            lr=lr,\n",
    "            optimizer_name=\"adamw\",\n",
    "            n_epochs=100,\n",
    "            scheduler_mode='max_val_mcc',\n",
    "            debug_mode=False,\n",
    "            steps_save=10,\n",
    "            use_cpu=False,\n",
    "            label_smoothing=ls,\n",
    "            use_edge_weight=False,\n",
    "        )"
   ]
  },
  {
   "cell_type": "markdown",
   "metadata": {},
   "source": [
    "#### Results"
   ]
  },
  {
   "cell_type": "code",
   "execution_count": 23,
   "metadata": {},
   "outputs": [
    {
     "name": "stderr",
     "output_type": "stream",
     "text": [
      "100%|██████████| 1193/1193 [01:12<00:00, 16.53it/s]\n"
     ]
    }
   ],
   "source": [
    "res_edges_fnn = test(\n",
    "    dataset=dataset_val,\n",
    "    save_path=save_model,\n",
    "    n_runs=1,\n",
    "    debug_mode=False,\n",
    "    use_cpu=False,\n",
    "    save=True,\n",
    "    use_edge_weight=False,\n",
    ")"
   ]
  },
  {
   "cell_type": "code",
   "execution_count": 56,
   "metadata": {},
   "outputs": [
    {
     "data": {
      "text/plain": [
       "{'in_features': 4,\n",
       " 'h_features': [10, 15, 20],\n",
       " 'out_features': 4,\n",
       " 'activation': ReLU(),\n",
       " 'norm_nodes': 'gn',\n",
       " 'dropout': 0.2,\n",
       " 'train_lr': 0.1,\n",
       " 'train_optimizer_name': 'adamw',\n",
       " 'train_scheduler_mode': 'max_val_mcc',\n",
       " 'train_label_smoothing': 0.2,\n",
       " 'train_use_edge_weight': False,\n",
       " 'train_self_loop': False,\n",
       " 'train_drop_edges': 0,\n",
       " 'train_loss': 1.2582792,\n",
       " 'train_acc': 0.5173333287239075,\n",
       " 'val_acc': 0.48533332347869873,\n",
       " 'epoch': 80,\n",
       " 'model_class': 'fnn',\n",
       " 'path_name': '0.49_4_[10_15_20]_4_ReLU()_gn_0.2_0.1_adamw_max_val_mcc_0.2_False_False_0_80',\n",
       " 'train_mcc': 0.38579769746701903,\n",
       " 'val_mcc': 0.3604527033931331,\n",
       " 'test_mcc': 0.40516614912661547,\n",
       " 'train_rmse': 0.8809086218218096,\n",
       " 'val_rmse': 0.9136009340333813,\n",
       " 'test_rmse': 0.916515138991168,\n",
       " 'test_acc': 0.5253333449363708}"
      ]
     },
     "execution_count": 56,
     "metadata": {},
     "output_type": "execute_result"
    }
   ],
   "source": [
    "res_edges = res_edges_fnn\n",
    "res_edges[0]"
   ]
  },
  {
   "cell_type": "code",
   "execution_count": 57,
   "metadata": {},
   "outputs": [
    {
     "data": {
      "text/plain": [
       "{'in_features': 4,\n",
       " 'h_features': [10, 15, 20],\n",
       " 'out_features': 4,\n",
       " 'activation': ReLU(),\n",
       " 'norm_nodes': 'gn',\n",
       " 'dropout': 0.2,\n",
       " 'train_lr': 0.1,\n",
       " 'train_optimizer_name': 'adamw',\n",
       " 'train_scheduler_mode': 'max_val_mcc',\n",
       " 'train_label_smoothing': 0.2,\n",
       " 'train_use_edge_weight': False,\n",
       " 'train_self_loop': False,\n",
       " 'train_drop_edges': 0,\n",
       " 'train_loss': 1.2633945,\n",
       " 'train_acc': 0.47466665506362915,\n",
       " 'val_acc': 0.46133333444595337,\n",
       " 'epoch': 60,\n",
       " 'model_class': 'fnn',\n",
       " 'path_name': '0.46_4_[10_15_20]_4_ReLU()_gn_0.2_0.1_adamw_max_val_mcc_0.2_False_False_0_60',\n",
       " 'train_mcc': 0.38508205988952576,\n",
       " 'val_mcc': 0.39268795467398016,\n",
       " 'test_mcc': 0.37953226373308824,\n",
       " 'train_rmse': 0.8633268983029159,\n",
       " 'val_rmse': 0.8687155268939694,\n",
       " 'test_rmse': 0.8988882021697693,\n",
       " 'test_acc': 0.47200000286102295}"
      ]
     },
     "execution_count": 57,
     "metadata": {},
     "output_type": "execute_result"
    }
   ],
   "source": [
    "all = res_edges[2]\n",
    "# ascending order\n",
    "sort_idx = np.argsort([k['dict'][metric_filter_1] for k in all])[::-1]\n",
    "all[sort_idx[0]]['dict']"
   ]
  },
  {
   "cell_type": "code",
   "execution_count": 58,
   "metadata": {},
   "outputs": [
    {
     "data": {
      "text/plain": [
       "{'in_features': 4,\n",
       " 'h_features': [10, 15, 20],\n",
       " 'out_features': 4,\n",
       " 'activation': ReLU(),\n",
       " 'norm_nodes': 'gn',\n",
       " 'dropout': 0.2,\n",
       " 'train_lr': 0.1,\n",
       " 'train_optimizer_name': 'adamw',\n",
       " 'train_scheduler_mode': 'max_val_mcc',\n",
       " 'train_label_smoothing': 0.2,\n",
       " 'train_use_edge_weight': False,\n",
       " 'train_self_loop': False,\n",
       " 'train_drop_edges': 0,\n",
       " 'train_loss': 1.2582792,\n",
       " 'train_acc': 0.5173333287239075,\n",
       " 'val_acc': 0.48533332347869873,\n",
       " 'epoch': 80,\n",
       " 'model_class': 'fnn',\n",
       " 'path_name': '0.49_4_[10_15_20]_4_ReLU()_gn_0.2_0.1_adamw_max_val_mcc_0.2_False_False_0_80',\n",
       " 'train_mcc': 0.38579769746701903,\n",
       " 'val_mcc': 0.3604527033931331,\n",
       " 'test_mcc': 0.40516614912661547,\n",
       " 'train_rmse': 0.8809086218218096,\n",
       " 'val_rmse': 0.9136009340333813,\n",
       " 'test_rmse': 0.916515138991168,\n",
       " 'test_acc': 0.5253333449363708}"
      ]
     },
     "execution_count": 58,
     "metadata": {},
     "output_type": "execute_result"
    }
   ],
   "source": [
    "all = res_edges[2]\n",
    "# ascending order\n",
    "sort_idx = np.argsort([k['dict'][metric_filter_2] for k in all])[::-1]\n",
    "all[sort_idx[0]]['dict']"
   ]
  },
  {
   "cell_type": "code",
   "execution_count": 59,
   "metadata": {},
   "outputs": [
    {
     "name": "stderr",
     "output_type": "stream",
     "text": [
      "100%|██████████| 1193/1193 [00:00<00:00, 29925.63it/s]\n"
     ]
    }
   ],
   "source": [
    "pretty([all[k]['dict'] for k in sort_idx])"
   ]
  },
  {
   "cell_type": "code",
   "execution_count": 60,
   "metadata": {},
   "outputs": [],
   "source": [
    "cm = all[sort_idx[0]]['test_cm'][0]"
   ]
  },
  {
   "cell_type": "code",
   "execution_count": 61,
   "metadata": {},
   "outputs": [
    {
     "data": {
      "text/plain": [
       "tensor(98)"
      ]
     },
     "execution_count": 61,
     "metadata": {},
     "output_type": "execute_result"
    }
   ],
   "source": [
    "(cm.labels==0).sum()"
   ]
  },
  {
   "cell_type": "code",
   "execution_count": 62,
   "metadata": {},
   "outputs": [
    {
     "data": {
      "text/plain": [
       "<module 'matplotlib.pyplot' from 'c:\\\\Users\\\\vibal\\\\PycharmProjects\\\\systemic-risk-predictor\\\\venv\\\\lib\\\\site-packages\\\\matplotlib\\\\pyplot.py'>"
      ]
     },
     "execution_count": 62,
     "metadata": {},
     "output_type": "execute_result"
    },
    {
     "data": {
      "image/png": "[encoded data removed]",
      "text/plain": [
       "<Figure size 1080x720 with 2 Axes>"
      ]
     },
     "metadata": {
      "needs_background": "light"
     },
     "output_type": "display_data"
    }
   ],
   "source": [
    "cm.visualize()"
   ]
  },
  {
   "cell_type": "code",
   "execution_count": 63,
   "metadata": {},
   "outputs": [
    {
     "data": {
      "text/plain": [
       "tensor([0.7041, 0.0000, 0.7204, 0.6854])"
      ]
     },
     "execution_count": 63,
     "metadata": {},
     "output_type": "execute_result"
    }
   ],
   "source": [
    "cm.class_accuracy"
   ]
  },
  {
   "cell_type": "markdown",
   "metadata": {},
   "source": [
    "### Baseline Overall"
   ]
  },
  {
   "cell_type": "code",
   "execution_count": 28,
   "metadata": {},
   "outputs": [
    {
     "name": "stdout",
     "output_type": "stream",
     "text": [
      "{'logistic_regression': 0.496, 'random_forest': 1.0, 'knn_classifier': 0.6328888888888888}\n",
      "{'random_forest': 0.496}\n",
      "{'logistic_regression': 0.488, 'random_forest': 0.496, 'knn_classifier': 0.392}\n"
     ]
    }
   ],
   "source": [
    "print(dict_small_acc_train)\n",
    "print(dict_small_acc_val)\n",
    "print(dict_small_acc_test)"
   ]
  },
  {
   "cell_type": "code",
   "execution_count": 29,
   "metadata": {},
   "outputs": [
    {
     "name": "stdout",
     "output_type": "stream",
     "text": [
      "{'logistic_regression': 0.34443142561242607, 'random_forest': 1.0, 'knn_classifier': 0.5121440277091303}\n",
      "{'random_forest': 0.3281549927912905}\n",
      "{'logistic_regression': 0.33524435059932634, 'random_forest': 0.3281549927912905, 'knn_classifier': 0.18845797689767943}\n"
     ]
    }
   ],
   "source": [
    "print(dict_small_mcc_train)\n",
    "print(dict_small_mcc_val)\n",
    "print(dict_small_mcc_test)"
   ]
  },
  {
   "cell_type": "code",
   "execution_count": 30,
   "metadata": {},
   "outputs": [
    {
     "name": "stdout",
     "output_type": "stream",
     "text": [
      "{'logistic_regression': 0.9688481133111974, 'random_forest': 0.0, 'knn_classifier': 0.977070451229934}\n",
      "{'random_forest': 0.977070451229934}\n",
      "{'logistic_regression': 0.9605553948974868, 'random_forest': 0.977070451229934, 'knn_classifier': 1.1372481406154653}\n"
     ]
    }
   ],
   "source": [
    "print(dict_small_rmse_train)\n",
    "print(dict_small_rmse_val)\n",
    "print(dict_small_rmse_test)"
   ]
  },
  {
   "cell_type": "markdown",
   "metadata": {
    "collapsed": false
   },
   "source": [
    "### GCN"
   ]
  },
  {
   "cell_type": "code",
   "execution_count": 31,
   "metadata": {},
   "outputs": [],
   "source": [
    "save_model = f'{save_path}_gcn'\n",
    "log_dir = f'{log_path}_gcn'\n",
    "\n",
    "add_self_loop = True\n",
    "\n",
    "dataset_val = ContagionDataset(\n",
    "    raw_dir=data_dir,\n",
    "    drop_edges=0,\n",
    "    sets_lengths=sets_lengths,\n",
    "    add_self_loop = add_self_loop,\n",
    "    target = target,\n",
    ")\n",
    "\n",
    "gcn_model = dict(\n",
    "    in_features=[len(dataset_val.node_attributes)],\n",
    "    h_features=[[15] * 3, [10, 15, 20], [5, 10, 15, 20],],\n",
    "    out_features=[dataset_val.num_classes],\n",
    "    activation=[torch.nn.ReLU()],\n",
    "    norm_edges=['both', 'none'],\n",
    "    norm_nodes=[None, 'bn', 'gn'],\n",
    "    dropout=[0.2, 0.0],\n",
    "    # other\n",
    "    lr=[1e-1],\n",
    "    label_smoothing=[0.0, 0.2],\n",
    "    use_edge_weight=[True,],\n",
    "    drop_edges=[0,0.2],\n",
    ")\n",
    "list_model = [dict(zip(gcn_model.keys(), k)) for k in itertools.product(*gcn_model.values())]\n",
    "\n",
    "# gcn_model = dict(\n",
    "#     in_features=[len(dataset_val.node_attributes)],\n",
    "#     h_features=[[10] * 3],\n",
    "#     out_features=[dataset_val.num_classes],\n",
    "#     activation=[torch.nn.ReLU()],\n",
    "#     norm_edges=['both', 'none'],\n",
    "#     norm_nodes=[None, 'bn', 'gn'],\n",
    "#     dropout=[0.2, 0.0],\n",
    "#     # other\n",
    "#     lr=[1],\n",
    "#     label_smoothing=[0.0,],\n",
    "#     use_edge_weight=[True, ],\n",
    "#     drop_edges=[0,0.2],\n",
    "# )\n",
    "# list_model = [{i:j[k] for i,j in gcn_model.items()} for k in range(len(gcn_model['in_features']))]"
   ]
  },
  {
   "cell_type": "code",
   "execution_count": 32,
   "metadata": {
    "collapsed": false,
    "pycharm": {
     "name": "#%%\n"
    }
   },
   "outputs": [],
   "source": [
    "if do_train:\n",
    "    for d in tqdm(list_model):\n",
    "        d = d.copy()\n",
    "        lr = d.pop('lr')\n",
    "        ls = d.pop('label_smoothing')\n",
    "        drop_edges = d.pop('drop_edges')\n",
    "        use_edge_weight = d.pop('use_edge_weight')\n",
    "\n",
    "        # dataset_valid = ContagionDataset(\n",
    "        #     raw_dir=data_dir,\n",
    "        #     drop_edges=0,\n",
    "        #     sets_lengths=sets_lengths,\n",
    "        #     add_self_loop = add_self_loop,\n",
    "        #     target = target,\n",
    "        #     seed=seed,\n",
    "        # )\n",
    "\n",
    "        dataset_train = ContagionDataset(\n",
    "            raw_dir=data_dir,\n",
    "            drop_edges=drop_edges,\n",
    "            sets_lengths=sets_lengths,\n",
    "            add_self_loop = add_self_loop,\n",
    "            target = target,\n",
    "        )\n",
    "\n",
    "        train(\n",
    "            model=GCN(**d),\n",
    "            dict_model=d,\n",
    "            dataset_train=dataset_train,\n",
    "            dataset_val=dataset_val,\n",
    "            log_dir=log_dir,\n",
    "            save_path=save_model,\n",
    "            lr=lr,\n",
    "            optimizer_name=\"adamw\",\n",
    "            n_epochs=100,\n",
    "            scheduler_mode='max_val_mcc',\n",
    "            debug_mode=False,\n",
    "            steps_save=10,\n",
    "            use_cpu=False,\n",
    "            label_smoothing=ls,\n",
    "            use_edge_weight=use_edge_weight,\n",
    "        )"
   ]
  },
  {
   "cell_type": "markdown",
   "metadata": {},
   "source": [
    "#### Results"
   ]
  },
  {
   "cell_type": "code",
   "execution_count": 33,
   "metadata": {},
   "outputs": [
    {
     "name": "stderr",
     "output_type": "stream",
     "text": [
      "100%|██████████| 2512/2512 [02:07<00:00, 19.66it/s]\n"
     ]
    }
   ],
   "source": [
    "res_edges_gcn = test(\n",
    "    dataset=dataset_val,\n",
    "    save_path=save_model,\n",
    "    n_runs=1,\n",
    "    debug_mode=False,\n",
    "    use_cpu=False,\n",
    "    save=True,\n",
    "    use_edge_weight=True,\n",
    ")"
   ]
  },
  {
   "cell_type": "code",
   "execution_count": 34,
   "metadata": {},
   "outputs": [
    {
     "data": {
      "text/plain": [
       "{'in_features': 4,\n",
       " 'h_features': [5, 10, 15, 20],\n",
       " 'out_features': 4,\n",
       " 'activation': ReLU(),\n",
       " 'norm_edges': 'none',\n",
       " 'norm_nodes': 'bn',\n",
       " 'dropout': 0.0,\n",
       " 'train_lr': 0.1,\n",
       " 'train_optimizer_name': 'adamw',\n",
       " 'train_scheduler_mode': 'max_val_mcc',\n",
       " 'train_label_smoothing': 0.0,\n",
       " 'train_use_edge_weight': True,\n",
       " 'train_self_loop': True,\n",
       " 'train_drop_edges': 0.2,\n",
       " 'train_loss': 1.7312635,\n",
       " 'train_acc': 0.5199999809265137,\n",
       " 'val_acc': 0.5226666927337646,\n",
       " 'epoch': 30,\n",
       " 'model_class': 'gcn',\n",
       " 'path_name': '0.52_4_[5_10_15_20]_4_ReLU()_none_bn_0.0_0.1_adamw_max_val_mcc_0.0_True_True_0.2_30',\n",
       " 'train_mcc': 0.3687966255722127,\n",
       " 'val_mcc': 0.3884798983961357,\n",
       " 'test_mcc': 0.4180505037758314,\n",
       " 'train_rmse': 0.8687155268939694,\n",
       " 'val_rmse': 0.8702490065109717,\n",
       " 'test_rmse': 0.8326663997864531,\n",
       " 'test_acc': 0.5600000023841858}"
      ]
     },
     "execution_count": 34,
     "metadata": {},
     "output_type": "execute_result"
    }
   ],
   "source": [
    "res_edges = res_edges_gcn\n",
    "res_edges[0]"
   ]
  },
  {
   "cell_type": "code",
   "execution_count": 35,
   "metadata": {},
   "outputs": [
    {
     "data": {
      "text/plain": [
       "{'in_features': 4,\n",
       " 'h_features': [10, 15, 20],\n",
       " 'out_features': 4,\n",
       " 'activation': ReLU(),\n",
       " 'norm_edges': 'none',\n",
       " 'norm_nodes': None,\n",
       " 'dropout': 0.0,\n",
       " 'train_lr': 0.1,\n",
       " 'train_optimizer_name': 'adamw',\n",
       " 'train_scheduler_mode': 'max_val_mcc',\n",
       " 'train_label_smoothing': 0.0,\n",
       " 'train_use_edge_weight': True,\n",
       " 'train_self_loop': True,\n",
       " 'train_drop_edges': 0,\n",
       " 'train_loss': 1.9401753,\n",
       " 'train_acc': 0.5093333125114441,\n",
       " 'val_acc': 0.5413333177566528,\n",
       " 'epoch': 18,\n",
       " 'model_class': 'gcn',\n",
       " 'path_name': '0.54_4_[10_15_20]_4_ReLU()_none_None_0.0_0.1_adamw_max_val_mcc_0.0_True_True_0',\n",
       " 'train_mcc': 0.38843138123882154,\n",
       " 'val_mcc': 0.4310004824315277,\n",
       " 'test_mcc': 0.3998183352136604,\n",
       " 'train_rmse': 0.9667816023625329,\n",
       " 'val_rmse': 0.9549869109050658,\n",
       " 'test_rmse': 0.9223159256278006,\n",
       " 'test_acc': 0.5226666927337646}"
      ]
     },
     "execution_count": 35,
     "metadata": {},
     "output_type": "execute_result"
    }
   ],
   "source": [
    "all = res_edges[2]\n",
    "# ascending order\n",
    "sort_idx = np.argsort([k['dict'][metric_filter_1] for k in all])[::-1]\n",
    "all[sort_idx[0]]['dict']"
   ]
  },
  {
   "cell_type": "code",
   "execution_count": 36,
   "metadata": {},
   "outputs": [
    {
     "data": {
      "text/plain": [
       "{'in_features': 4,\n",
       " 'h_features': [5, 10, 15, 20],\n",
       " 'out_features': 4,\n",
       " 'activation': ReLU(),\n",
       " 'norm_edges': 'none',\n",
       " 'norm_nodes': 'gn',\n",
       " 'dropout': 0.2,\n",
       " 'train_lr': 0.1,\n",
       " 'train_optimizer_name': 'adamw',\n",
       " 'train_scheduler_mode': 'max_val_mcc',\n",
       " 'train_label_smoothing': 0.0,\n",
       " 'train_use_edge_weight': True,\n",
       " 'train_self_loop': True,\n",
       " 'train_drop_edges': 0,\n",
       " 'train_loss': 1.5496266,\n",
       " 'train_acc': 0.5066666603088379,\n",
       " 'val_acc': 0.4906666576862335,\n",
       " 'epoch': 20,\n",
       " 'model_class': 'gcn',\n",
       " 'path_name': '0.49_4_[5_10_15_20]_4_ReLU()_none_gn_0.2_0.1_adamw_max_val_mcc_0.0_True_True_0_20',\n",
       " 'train_mcc': 0.3701886792552317,\n",
       " 'val_mcc': 0.3705651396584429,\n",
       " 'test_mcc': 0.43001101933745617,\n",
       " 'train_rmse': 0.920869154657707,\n",
       " 'val_rmse': 0.9106774035482232,\n",
       " 'test_rmse': 0.920869154657707,\n",
       " 'test_acc': 0.5440000295639038}"
      ]
     },
     "execution_count": 36,
     "metadata": {},
     "output_type": "execute_result"
    }
   ],
   "source": [
    "all = res_edges[2]\n",
    "# ascending order\n",
    "sort_idx = np.argsort([k['dict'][metric_filter_2] for k in all])[::-1]\n",
    "all[sort_idx[0]]['dict']"
   ]
  },
  {
   "cell_type": "code",
   "execution_count": 37,
   "metadata": {},
   "outputs": [
    {
     "name": "stderr",
     "output_type": "stream",
     "text": [
      "100%|██████████| 2512/2512 [00:00<00:00, 33099.89it/s]\n"
     ]
    }
   ],
   "source": [
    "pretty([all[k]['dict'] for k in sort_idx])"
   ]
  },
  {
   "cell_type": "markdown",
   "metadata": {
    "collapsed": false
   },
   "source": [
    "### GraphSAGE"
   ]
  },
  {
   "cell_type": "code",
   "execution_count": 38,
   "metadata": {},
   "outputs": [],
   "source": [
    "save_model = f'{save_path}_sage'\n",
    "log_dir = f'{log_path}_sage'\n",
    "\n",
    "dataset_val = ContagionDataset(\n",
    "    raw_dir=data_dir,\n",
    "    drop_edges=0,\n",
    "    sets_lengths=sets_lengths,\n",
    "    add_self_loop = True,\n",
    "    target = target,\n",
    ")\n",
    "\n",
    "sage_model = dict(\n",
    "    in_features = [len(dataset.node_attributes)],\n",
    "    h_features = [[20] * 3, [25] * 3, [15] * 3, [10], [20,25,20], [30] * 3], \n",
    "    out_features = [out_feats],\n",
    "    # aggregator_type = ['mean', 'lstm'],\n",
    "    aggregator_type = ['lstm'],\n",
    "    norm_edges = ['right', 'none'],\n",
    "    norm_nodes = [None, 'bn', 'gn'],\n",
    "    activation = [torch.nn.ReLU()],\n",
    "    feat_drop = [0.2, 0],\n",
    "    # other\n",
    "    lr=[1e-2],\n",
    "    label_smoothing=[0.0, 0.2],\n",
    "    use_edge_weight=[True],\n",
    "    add_self_loop=[True],\n",
    "    drop_edges=[0,0.2],\n",
    ")\n",
    "list_model = [dict(zip(sage_model.keys(), k)) for k in itertools.product(*sage_model.values())]\n",
    "\n",
    "# sage_model = dict(\n",
    "#     in_features = [len(dataset.node_attributes)],\n",
    "#     h_features = [[30] * 3], \n",
    "#     out_features = [out_feats],\n",
    "#     aggregator_type = ['lstm'],\n",
    "#     norm_edges = ['none'],\n",
    "#     norm_nodes = ['gn'],\n",
    "#     activation = [torch.nn.ReLU()],\n",
    "#     feat_drop = [0],\n",
    "#     # other\n",
    "#     lr=[1e-2],\n",
    "#     label_smoothing=[0.0],\n",
    "#     use_edge_weight=[True],\n",
    "#     add_self_loop=[True],\n",
    "#     drop_edges=[0],\n",
    "# )\n",
    "# list_model = [{i:j[k] for i,j in sage_model.items()} for k in range(len(sage_model['in_features']))]"
   ]
  },
  {
   "cell_type": "code",
   "execution_count": 39,
   "metadata": {
    "collapsed": false,
    "pycharm": {
     "name": "#%%\n"
    }
   },
   "outputs": [],
   "source": [
    "if do_train:\n",
    "    for d in tqdm(list_model):\n",
    "        d = d.copy()\n",
    "        lr = d.pop('lr')\n",
    "        ls = d.pop('label_smoothing')\n",
    "        add_self_loop = d.pop('add_self_loop')\n",
    "        drop_edges = d.pop('drop_edges')\n",
    "        use_edge_weight = d.pop('use_edge_weight')\n",
    "\n",
    "        dataset_valid = ContagionDataset(\n",
    "            raw_dir=data_dir,\n",
    "            drop_edges=0,\n",
    "            sets_lengths=sets_lengths,\n",
    "            add_self_loop = add_self_loop,\n",
    "            target = target,\n",
    "        )\n",
    "\n",
    "        dataset_train = ContagionDataset(\n",
    "            raw_dir=data_dir,\n",
    "            drop_edges=drop_edges,\n",
    "            sets_lengths=sets_lengths,\n",
    "            add_self_loop = add_self_loop,\n",
    "            target = target,\n",
    "        )\n",
    "\n",
    "        train(\n",
    "            model=GraphSAGE(**d),\n",
    "            dict_model=d,\n",
    "            dataset_train=dataset_train,\n",
    "            dataset_val=dataset_valid,\n",
    "            log_dir=log_dir,\n",
    "            save_path=save_model,\n",
    "            lr=lr,\n",
    "            optimizer_name=\"adamw\",\n",
    "            n_epochs=100,\n",
    "            scheduler_mode='max_val_mcc',\n",
    "            debug_mode=False,\n",
    "            steps_save=10,\n",
    "            use_cpu=False,\n",
    "            label_smoothing=ls,\n",
    "            use_edge_weight=use_edge_weight,\n",
    "        )"
   ]
  },
  {
   "cell_type": "markdown",
   "metadata": {},
   "source": [
    "#### Results"
   ]
  },
  {
   "cell_type": "code",
   "execution_count": 40,
   "metadata": {},
   "outputs": [
    {
     "name": "stderr",
     "output_type": "stream",
     "text": [
      "100%|██████████| 6560/6560 [38:51<00:00,  2.81it/s] \n"
     ]
    }
   ],
   "source": [
    "res_edges_sage = test(\n",
    "    dataset=dataset_val,\n",
    "    save_path=save_model,\n",
    "    n_runs=1,\n",
    "    debug_mode=False,\n",
    "    use_cpu=False,\n",
    "    save=True,\n",
    "    use_edge_weight=True,\n",
    ")"
   ]
  },
  {
   "cell_type": "code",
   "execution_count": 41,
   "metadata": {},
   "outputs": [
    {
     "data": {
      "text/plain": [
       "{'in_features': 4,\n",
       " 'h_features': [25, 25, 25],\n",
       " 'out_features': 4,\n",
       " 'aggregator_type': 'lstm',\n",
       " 'norm_edges': 'none',\n",
       " 'norm_nodes': 'gn',\n",
       " 'activation': ReLU(),\n",
       " 'feat_drop': 0,\n",
       " 'train_lr': 0.01,\n",
       " 'train_optimizer_name': 'adamw',\n",
       " 'train_scheduler_mode': 'max_val_mcc',\n",
       " 'train_label_smoothing': 0.0,\n",
       " 'train_use_edge_weight': True,\n",
       " 'train_scheduler_patience': 10,\n",
       " 'train_self_loop': True,\n",
       " 'train_drop_edges': 0.2,\n",
       " 'train_loss': 0.3945291,\n",
       " 'train_acc': 0.9413333535194397,\n",
       " 'val_acc': 0.8399999737739563,\n",
       " 'epoch': 71,\n",
       " 'model_class': 'sage',\n",
       " 'path_name': '0.84_4_[25_25_25]_4_lstm_none_gn_ReLU()_0_0.01_adamw_max_val_mcc_0.0_True_10_True_0.2',\n",
       " 'train_mcc': 0.922015839251606,\n",
       " 'val_mcc': 0.7866126651334473,\n",
       " 'test_mcc': 0.8021669003460641,\n",
       " 'train_rmse': 0.2732520204255893,\n",
       " 'val_rmse': 0.40987803063838396,\n",
       " 'test_rmse': 0.48166378315169184,\n",
       " 'test_acc': 0.8506666421890259}"
      ]
     },
     "execution_count": 41,
     "metadata": {},
     "output_type": "execute_result"
    }
   ],
   "source": [
    "res_edges = res_edges_sage\n",
    "res_edges[0]"
   ]
  },
  {
   "cell_type": "code",
   "execution_count": 42,
   "metadata": {},
   "outputs": [
    {
     "data": {
      "text/plain": [
       "{'in_features': 4,\n",
       " 'h_features': [30, 30, 30],\n",
       " 'out_features': 4,\n",
       " 'aggregator_type': 'lstm',\n",
       " 'norm_edges': 'none',\n",
       " 'norm_nodes': 'gn',\n",
       " 'activation': ReLU(),\n",
       " 'feat_drop': 0,\n",
       " 'train_lr': 0.01,\n",
       " 'train_optimizer_name': 'adamw',\n",
       " 'train_scheduler_mode': 'max_val_mcc',\n",
       " 'train_label_smoothing': 0.2,\n",
       " 'train_use_edge_weight': True,\n",
       " 'train_scheduler_patience': 10,\n",
       " 'train_self_loop': True,\n",
       " 'train_drop_edges': 0,\n",
       " 'train_loss': 0.63557136,\n",
       " 'train_acc': 0.9946666955947876,\n",
       " 'val_acc': 0.8853333592414856,\n",
       " 'epoch': 100,\n",
       " 'model_class': 'sage',\n",
       " 'path_name': '0.89_4_[30_30_30]_4_lstm_none_gn_ReLU()_0_0.01_adamw_max_val_mcc_0.2_True_10_True_0_100',\n",
       " 'train_mcc': 0.9928968395426994,\n",
       " 'val_mcc': 0.8475153433227356,\n",
       " 'test_mcc': 0.7625404665801752,\n",
       " 'train_rmse': 0.07302967433402215,\n",
       " 'val_rmse': 0.35023801430836526,\n",
       " 'test_rmse': 0.46475800154489,\n",
       " 'test_acc': 0.8213333487510681}"
      ]
     },
     "execution_count": 42,
     "metadata": {},
     "output_type": "execute_result"
    }
   ],
   "source": [
    "all = res_edges[2]\n",
    "# ascending order\n",
    "sort_idx = np.argsort([k['dict'][metric_filter_1] for k in all])[::-1]\n",
    "all[sort_idx[0]]['dict']"
   ]
  },
  {
   "cell_type": "code",
   "execution_count": 43,
   "metadata": {},
   "outputs": [
    {
     "data": {
      "text/plain": [
       "{'in_features': 4,\n",
       " 'h_features': [25, 25, 25],\n",
       " 'out_features': 4,\n",
       " 'aggregator_type': 'lstm',\n",
       " 'norm_edges': 'none',\n",
       " 'norm_nodes': 'gn',\n",
       " 'activation': ReLU(),\n",
       " 'feat_drop': 0,\n",
       " 'train_lr': 0.01,\n",
       " 'train_optimizer_name': 'adamw',\n",
       " 'train_scheduler_mode': 'max_val_mcc',\n",
       " 'train_label_smoothing': 0.0,\n",
       " 'train_use_edge_weight': True,\n",
       " 'train_scheduler_patience': 10,\n",
       " 'train_self_loop': True,\n",
       " 'train_drop_edges': 0.2,\n",
       " 'train_loss': 0.3945291,\n",
       " 'train_acc': 0.9413333535194397,\n",
       " 'val_acc': 0.8399999737739563,\n",
       " 'epoch': 71,\n",
       " 'model_class': 'sage',\n",
       " 'path_name': '0.84_4_[25_25_25]_4_lstm_none_gn_ReLU()_0_0.01_adamw_max_val_mcc_0.0_True_10_True_0.2',\n",
       " 'train_mcc': 0.922015839251606,\n",
       " 'val_mcc': 0.7866126651334473,\n",
       " 'test_mcc': 0.8021669003460641,\n",
       " 'train_rmse': 0.2732520204255893,\n",
       " 'val_rmse': 0.40987803063838396,\n",
       " 'test_rmse': 0.48166378315169184,\n",
       " 'test_acc': 0.8506666421890259}"
      ]
     },
     "execution_count": 43,
     "metadata": {},
     "output_type": "execute_result"
    }
   ],
   "source": [
    "all = res_edges[2]\n",
    "# ascending order\n",
    "sort_idx = np.argsort([k['dict'][metric_filter_2] for k in all])[::-1]\n",
    "all[sort_idx[0]]['dict']"
   ]
  },
  {
   "cell_type": "code",
   "execution_count": 44,
   "metadata": {},
   "outputs": [
    {
     "name": "stderr",
     "output_type": "stream",
     "text": [
      "100%|██████████| 6560/6560 [00:00<00:00, 32401.68it/s]\n"
     ]
    }
   ],
   "source": [
    "pretty([all[k]['dict'] for k in sort_idx])"
   ]
  },
  {
   "cell_type": "markdown",
   "metadata": {},
   "source": [
    "#### cm"
   ]
  },
  {
   "cell_type": "code",
   "execution_count": 45,
   "metadata": {},
   "outputs": [],
   "source": [
    "cm = all[sort_idx[0]]['test_cm'][0]"
   ]
  },
  {
   "cell_type": "code",
   "execution_count": 46,
   "metadata": {},
   "outputs": [
    {
     "data": {
      "text/plain": [
       "tensor(98)"
      ]
     },
     "execution_count": 46,
     "metadata": {},
     "output_type": "execute_result"
    }
   ],
   "source": [
    "(cm.labels==0).sum()"
   ]
  },
  {
   "cell_type": "code",
   "execution_count": 47,
   "metadata": {},
   "outputs": [
    {
     "data": {
      "text/plain": [
       "<module 'matplotlib.pyplot' from 'c:\\\\Users\\\\vibal\\\\PycharmProjects\\\\systemic-risk-predictor\\\\venv\\\\lib\\\\site-packages\\\\matplotlib\\\\pyplot.py'>"
      ]
     },
     "execution_count": 47,
     "metadata": {},
     "output_type": "execute_result"
    },
    {
     "data": {
      "image/png": "[encoded data removed]",
      "text/plain": [
       "<Figure size 1080x720 with 2 Axes>"
      ]
     },
     "metadata": {
      "needs_background": "light"
     },
     "output_type": "display_data"
    }
   ],
   "source": [
    "cm.visualize()"
   ]
  },
  {
   "cell_type": "code",
   "execution_count": 48,
   "metadata": {},
   "outputs": [
    {
     "data": {
      "text/plain": [
       "tensor([0.9388, 0.7158, 0.8495, 0.8989])"
      ]
     },
     "execution_count": 48,
     "metadata": {},
     "output_type": "execute_result"
    }
   ],
   "source": [
    "cm.class_accuracy"
   ]
  },
  {
   "cell_type": "markdown",
   "metadata": {
    "collapsed": false
   },
   "source": [
    "### GAT"
   ]
  },
  {
   "cell_type": "code",
   "execution_count": 49,
   "metadata": {},
   "outputs": [],
   "source": [
    "save_model = f'{save_path}_gat'\n",
    "log_dir = f'{log_path}_gat'\n",
    "\n",
    "add_self_loop = True\n",
    "\n",
    "dataset_val = ContagionDataset(\n",
    "    raw_dir=data_dir,\n",
    "    drop_edges=0,\n",
    "    sets_lengths=sets_lengths,\n",
    "    add_self_loop = add_self_loop,\n",
    "    target = target,\n",
    ")\n",
    "\n",
    "gat_model = dict(\n",
    "    in_features = [len(dataset.node_attributes)],\n",
    "    h_features = [[10], [10] * 2, [15], [15] * 2, [20], [20] * 2, [25], [25] * 2],\n",
    "    out_features = [out_feats],\n",
    "    num_heads = [[4] * 2, [2] * 2, [4, 2]],\n",
    "    norm_nodes = [None, 'bn', 'gn'],\n",
    "    activation = [torch.nn.ReLU()],\n",
    "    negative_slope = [0.2, 0.4],\n",
    "    feat_drop = [0.2],\n",
    "    attn_drop = [0.2],\n",
    "    residual = [True],\n",
    "    # other\n",
    "    lr=[1e-2,],\n",
    "    label_smoothing=[0.0, 0.2],\n",
    "    use_edge_weight=[True],\n",
    "    drop_edges=[0,0.2],\n",
    ")\n",
    "list_model = [dict(zip(gat_model.keys(), k)) for k in itertools.product(*gat_model.values())]\n",
    "\n",
    "# gat_model = dict(\n",
    "#     in_features = [len(dataset.node_attributes)],\n",
    "#     # h_features = [[10], [15], [20]], \n",
    "#     h_features = [[10] * 3, [15] * 3, [20] * 3], \n",
    "#     out_features = [out_feats],\n",
    "#     # num_heads = [[4] * 4],\n",
    "#     num_heads = [[4, 2, 2]],\n",
    "#     norm_nodes = [None, 'bn', 'gn'],\n",
    "#     activation = [torch.nn.ReLU()],\n",
    "#     negative_slope = [0.2, 0.3, 0.4],\n",
    "#     feat_drop = [0.2],\n",
    "#     attn_drop = [0.2],\n",
    "#     residual = [True],\n",
    "#     # other\n",
    "#     lr=[1e-2,],\n",
    "#     label_smoothing=[0.0],\n",
    "#     use_edge_weight=[False],\n",
    "#     drop_edges=[0,],\n",
    "# )\n",
    "# list_model = [dict(zip(gat_model.keys(), k)) for k in itertools.product(*gat_model.values())]\n",
    "# list_model = [{i:j[k] for i,j in gat_model.items()} for k in range(len(gat_model['in_features']))]"
   ]
  },
  {
   "cell_type": "code",
   "execution_count": 50,
   "metadata": {
    "collapsed": false,
    "pycharm": {
     "name": "#%%\n"
    }
   },
   "outputs": [],
   "source": [
    "if do_train:\n",
    "    for d in tqdm(list_model):\n",
    "        d = d.copy()\n",
    "        lr = d.pop('lr')\n",
    "        ls = d.pop('label_smoothing')\n",
    "        drop_edges = d.pop('drop_edges')\n",
    "        use_edge_weight = d.pop('use_edge_weight')\n",
    "\n",
    "        # dataset_valid = ContagionDataset(\n",
    "        #     raw_dir=data_dir,\n",
    "        #     drop_edges=0,\n",
    "        #     sets_lengths=sets_lengths,\n",
    "        #     add_self_loop = add_self_loop,\n",
    "        #     target = target,\n",
    "        #     seed=seed,\n",
    "        # )\n",
    "\n",
    "        dataset_train = ContagionDataset(\n",
    "            raw_dir=data_dir,\n",
    "            drop_edges=drop_edges,\n",
    "            sets_lengths=sets_lengths,\n",
    "            add_self_loop = add_self_loop,\n",
    "            target = target,\n",
    "        )\n",
    "\n",
    "        train(\n",
    "            model=GAT(**d),\n",
    "            dict_model=d,\n",
    "            dataset_train=dataset_train,\n",
    "            dataset_val=dataset_val,\n",
    "            log_dir=log_dir,\n",
    "            save_path=save_model,\n",
    "            lr=lr,\n",
    "            optimizer_name=\"adamw\",\n",
    "            n_epochs=100,\n",
    "            scheduler_mode='max_val_mcc',\n",
    "            debug_mode=False,\n",
    "            steps_save=10,\n",
    "            use_cpu=False,\n",
    "            label_smoothing=ls,\n",
    "            use_edge_weight=use_edge_weight,\n",
    "        )"
   ]
  },
  {
   "cell_type": "markdown",
   "metadata": {},
   "source": [
    "#### Results"
   ]
  },
  {
   "cell_type": "code",
   "execution_count": 51,
   "metadata": {},
   "outputs": [
    {
     "name": "stderr",
     "output_type": "stream",
     "text": [
      "100%|██████████| 11549/11549 [08:28<00:00, 22.70it/s]\n"
     ]
    }
   ],
   "source": [
    "res_edges_gat = test(\n",
    "    dataset=dataset_val,\n",
    "    save_path=save_model,\n",
    "    n_runs=1,\n",
    "    debug_mode=False,\n",
    "    use_cpu=False,\n",
    "    save=True,\n",
    "    use_edge_weight=True,\n",
    ")"
   ]
  },
  {
   "cell_type": "code",
   "execution_count": 65,
   "metadata": {},
   "outputs": [
    {
     "data": {
      "text/plain": [
       "{'in_features': 4,\n",
       " 'h_features': [20],\n",
       " 'out_features': 4,\n",
       " 'num_heads': [4, 4],\n",
       " 'norm_nodes': 'bn',\n",
       " 'activation': ReLU(),\n",
       " 'negative_slope': 0.2,\n",
       " 'feat_drop': 0.2,\n",
       " 'attn_drop': 0.2,\n",
       " 'residual': True,\n",
       " 'train_lr': 0.01,\n",
       " 'train_optimizer_name': 'adamw',\n",
       " 'train_scheduler_mode': 'max_val_mcc',\n",
       " 'train_label_smoothing': 0.0,\n",
       " 'train_use_edge_weight': True,\n",
       " 'train_scheduler_patience': 10,\n",
       " 'train_self_loop': True,\n",
       " 'train_drop_edges': 0,\n",
       " 'train_loss': 1.1356635,\n",
       " 'train_acc': 0.5933333039283752,\n",
       " 'val_acc': 0.5946666598320007,\n",
       " 'epoch': 98,\n",
       " 'model_class': 'gat',\n",
       " 'path_name': '0.59_4_[20]_4_[4_4]_bn_ReLU()_0.2_0.2_0.2_True_0.01_adamw_max_val_mcc_0.0_True_10_True_0',\n",
       " 'train_mcc': 0.45879996908854886,\n",
       " 'val_mcc': 0.46179314818883843,\n",
       " 'test_mcc': 0.3713696408029781,\n",
       " 'train_rmse': 0.8422192905255337,\n",
       " 'val_rmse': 0.816496580927726,\n",
       " 'test_rmse': 0.9633275663033837,\n",
       " 'test_acc': 0.527999997138977}"
      ]
     },
     "execution_count": 65,
     "metadata": {},
     "output_type": "execute_result"
    }
   ],
   "source": [
    "res_edges = res_edges_gat\n",
    "res_edges[0]"
   ]
  },
  {
   "cell_type": "code",
   "execution_count": 66,
   "metadata": {},
   "outputs": [
    {
     "data": {
      "text/plain": [
       "{'in_features': 4,\n",
       " 'h_features': [20],\n",
       " 'out_features': 4,\n",
       " 'num_heads': [4, 4],\n",
       " 'norm_nodes': 'bn',\n",
       " 'activation': ReLU(),\n",
       " 'negative_slope': 0.2,\n",
       " 'feat_drop': 0.2,\n",
       " 'attn_drop': 0.2,\n",
       " 'residual': True,\n",
       " 'train_lr': 0.01,\n",
       " 'train_optimizer_name': 'adamw',\n",
       " 'train_scheduler_mode': 'max_val_mcc',\n",
       " 'train_label_smoothing': 0.0,\n",
       " 'train_use_edge_weight': True,\n",
       " 'train_scheduler_patience': 10,\n",
       " 'train_self_loop': True,\n",
       " 'train_drop_edges': 0,\n",
       " 'train_loss': 1.1526488,\n",
       " 'train_acc': 0.590666651725769,\n",
       " 'val_acc': 0.6000000238418579,\n",
       " 'epoch': 100,\n",
       " 'model_class': 'gat',\n",
       " 'path_name': '0.60_4_[20]_4_[4_4]_bn_ReLU()_0.2_0.2_0.2_True_0.01_adamw_max_val_mcc_0.0_True_10_True_0_100',\n",
       " 'train_mcc': 0.4556118412536823,\n",
       " 'val_mcc': 0.46940059191768263,\n",
       " 'test_mcc': 0.3717223258144758,\n",
       " 'train_rmse': 0.8547904226573123,\n",
       " 'val_rmse': 0.8181279443542638,\n",
       " 'test_rmse': 0.9465727652959386,\n",
       " 'test_acc': 0.527999997138977}"
      ]
     },
     "execution_count": 66,
     "metadata": {},
     "output_type": "execute_result"
    }
   ],
   "source": [
    "all = res_edges[2]\n",
    "# ascending order\n",
    "sort_idx = np.argsort([k['dict'][metric_filter_1] for k in all])[::-1]\n",
    "all[sort_idx[0]]['dict']"
   ]
  },
  {
   "cell_type": "code",
   "execution_count": 67,
   "metadata": {},
   "outputs": [
    {
     "data": {
      "text/plain": [
       "{'in_features': 4,\n",
       " 'h_features': [20],\n",
       " 'out_features': 4,\n",
       " 'num_heads': [4, 4],\n",
       " 'norm_nodes': 'bn',\n",
       " 'activation': ReLU(),\n",
       " 'negative_slope': 0.2,\n",
       " 'feat_drop': 0.2,\n",
       " 'attn_drop': 0.2,\n",
       " 'residual': True,\n",
       " 'train_lr': 0.01,\n",
       " 'train_optimizer_name': 'adamw',\n",
       " 'train_scheduler_mode': 'max_val_mcc',\n",
       " 'train_label_smoothing': 0.0,\n",
       " 'train_use_edge_weight': True,\n",
       " 'train_scheduler_patience': 10,\n",
       " 'train_self_loop': True,\n",
       " 'train_drop_edges': 0,\n",
       " 'train_loss': 1.1526488,\n",
       " 'train_acc': 0.590666651725769,\n",
       " 'val_acc': 0.6000000238418579,\n",
       " 'epoch': 100,\n",
       " 'model_class': 'gat',\n",
       " 'path_name': '0.60_4_[20]_4_[4_4]_bn_ReLU()_0.2_0.2_0.2_True_0.01_adamw_max_val_mcc_0.0_True_10_True_0_100',\n",
       " 'train_mcc': 0.4556118412536823,\n",
       " 'val_mcc': 0.46940059191768263,\n",
       " 'test_mcc': 0.3717223258144758,\n",
       " 'train_rmse': 0.8547904226573123,\n",
       " 'val_rmse': 0.8181279443542638,\n",
       " 'test_rmse': 0.9465727652959386,\n",
       " 'test_acc': 0.527999997138977}"
      ]
     },
     "execution_count": 67,
     "metadata": {},
     "output_type": "execute_result"
    }
   ],
   "source": [
    "all = res_edges[2]\n",
    "# ascending order\n",
    "sort_idx = np.argsort([k['dict'][metric_filter_2] for k in all])[::-1]\n",
    "all[sort_idx[0]]['dict']"
   ]
  },
  {
   "cell_type": "code",
   "execution_count": 68,
   "metadata": {},
   "outputs": [
    {
     "name": "stderr",
     "output_type": "stream",
     "text": [
      "100%|██████████| 11549/11549 [00:00<00:00, 30232.48it/s]\n"
     ]
    }
   ],
   "source": [
    "pretty([all[k]['dict'] for k in sort_idx])"
   ]
  },
  {
   "cell_type": "code",
   "execution_count": 69,
   "metadata": {},
   "outputs": [],
   "source": [
    "cm = all[sort_idx[0]]['test_cm'][0]"
   ]
  },
  {
   "cell_type": "code",
   "execution_count": 70,
   "metadata": {},
   "outputs": [
    {
     "data": {
      "text/plain": [
       "tensor(98)"
      ]
     },
     "execution_count": 70,
     "metadata": {},
     "output_type": "execute_result"
    }
   ],
   "source": [
    "(cm.labels==0).sum()"
   ]
  },
  {
   "cell_type": "code",
   "execution_count": 71,
   "metadata": {},
   "outputs": [
    {
     "data": {
      "text/plain": [
       "<module 'matplotlib.pyplot' from 'c:\\\\Users\\\\vibal\\\\PycharmProjects\\\\systemic-risk-predictor\\\\venv\\\\lib\\\\site-packages\\\\matplotlib\\\\pyplot.py'>"
      ]
     },
     "execution_count": 71,
     "metadata": {},
     "output_type": "execute_result"
    },
    {
     "data": {
      "image/png": "[encoded data removed]",
      "text/plain": [
       "<Figure size 1080x720 with 2 Axes>"
      ]
     },
     "metadata": {
      "needs_background": "light"
     },
     "output_type": "display_data"
    }
   ],
   "source": [
    "cm.visualize()"
   ]
  },
  {
   "cell_type": "code",
   "execution_count": 72,
   "metadata": {},
   "outputs": [
    {
     "data": {
      "text/plain": [
       "tensor([0.7755, 0.3474, 0.5269, 0.4494])"
      ]
     },
     "execution_count": 72,
     "metadata": {},
     "output_type": "execute_result"
    }
   ],
   "source": [
    "cm.class_accuracy"
   ]
  },
  {
   "cell_type": "code",
   "execution_count": null,
   "metadata": {},
   "outputs": [],
   "source": []
  }
 ],
 "metadata": {
  "interpreter": {
   "hash": "37be9487e307834247f9cc00a1ec46ceeb3f522b7edf17e3b2d74c6ce713e314"
  },
  "kernelspec": {
   "display_name": "Python 3.9.5 ('venv': venv)",
   "language": "python",
   "name": "python3"
  },
  "language_info": {
   "codemirror_mode": {
    "name": "ipython",
    "version": 3
   },
   "file_extension": ".py",
   "mimetype": "text/x-python",
   "name": "python",
   "nbconvert_exporter": "python",
   "pygments_lexer": "ipython3",
   "version": "3.9.5"
  },
  "orig_nbformat": 4
 },
 "nbformat": 4,
 "nbformat_minor": 2
}
