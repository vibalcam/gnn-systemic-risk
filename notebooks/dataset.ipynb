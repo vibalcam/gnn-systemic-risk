{
 "cells": [
  {
   "cell_type": "code",
   "execution_count": 1,
   "metadata": {},
   "outputs": [
    {
     "name": "stderr",
     "output_type": "stream",
     "text": [
      "Using backend: pytorch\n"
     ]
    }
   ],
   "source": [
    "import pandas as pd\n",
    "import dgl\n",
    "import torch\n",
    "import numpy as np\n",
    "import networkx as nx\n",
    "import seaborn as sns\n",
    "import matplotlib.pyplot as plt"
   ]
  },
  {
   "cell_type": "code",
   "execution_count": 2,
   "metadata": {},
   "outputs": [],
   "source": [
    "# from win10toast import ToastNotifier\n",
    "# toast = ToastNotifier()\n",
    "# toast.show_toast(\"Done\")"
   ]
  },
  {
   "cell_type": "markdown",
   "metadata": {},
   "source": [
    "# Data"
   ]
  },
  {
   "cell_type": "code",
   "execution_count": 3,
   "metadata": {},
   "outputs": [],
   "source": [
    "data_dir = './big_network'"
   ]
  },
  {
   "cell_type": "code",
   "execution_count": 4,
   "metadata": {},
   "outputs": [
    {
     "data": {
      "text/html": [
       "<div>\n",
       "<style scoped>\n",
       "    .dataframe tbody tr th:only-of-type {\n",
       "        vertical-align: middle;\n",
       "    }\n",
       "\n",
       "    .dataframe tbody tr th {\n",
       "        vertical-align: top;\n",
       "    }\n",
       "\n",
       "    .dataframe thead th {\n",
       "        text-align: right;\n",
       "    }\n",
       "</style>\n",
       "<table border=\"1\" class=\"dataframe\">\n",
       "  <thead>\n",
       "    <tr style=\"text-align: right;\">\n",
       "      <th></th>\n",
       "      <th>assets</th>\n",
       "      <th>liabilities</th>\n",
       "      <th>buffer</th>\n",
       "      <th>weights</th>\n",
       "      <th>original_stress</th>\n",
       "      <th>additional_stress</th>\n",
       "      <th>original_losses</th>\n",
       "      <th>additional_losses</th>\n",
       "      <th>additional_defaults</th>\n",
       "    </tr>\n",
       "    <tr>\n",
       "      <th>bank</th>\n",
       "      <th></th>\n",
       "      <th></th>\n",
       "      <th></th>\n",
       "      <th></th>\n",
       "      <th></th>\n",
       "      <th></th>\n",
       "      <th></th>\n",
       "      <th></th>\n",
       "      <th></th>\n",
       "    </tr>\n",
       "  </thead>\n",
       "  <tbody>\n",
       "    <tr>\n",
       "      <th>b1</th>\n",
       "      <td>13.572286</td>\n",
       "      <td>0.161967</td>\n",
       "      <td>6.068679</td>\n",
       "      <td>24.253806</td>\n",
       "      <td>0.000433</td>\n",
       "      <td>0.000548</td>\n",
       "      <td>6.068679</td>\n",
       "      <td>0.171663</td>\n",
       "      <td>0</td>\n",
       "    </tr>\n",
       "    <tr>\n",
       "      <th>b10</th>\n",
       "      <td>1.159245</td>\n",
       "      <td>228.316327</td>\n",
       "      <td>226.497349</td>\n",
       "      <td>457.309267</td>\n",
       "      <td>0.008173</td>\n",
       "      <td>0.023458</td>\n",
       "      <td>226.497349</td>\n",
       "      <td>287.339651</td>\n",
       "      <td>6</td>\n",
       "    </tr>\n",
       "    <tr>\n",
       "      <th>b100</th>\n",
       "      <td>0.552285</td>\n",
       "      <td>0.887618</td>\n",
       "      <td>7.711700</td>\n",
       "      <td>11.883878</td>\n",
       "      <td>0.000212</td>\n",
       "      <td>0.000302</td>\n",
       "      <td>7.711700</td>\n",
       "      <td>1.884005</td>\n",
       "      <td>0</td>\n",
       "    </tr>\n",
       "    <tr>\n",
       "      <th>b1000</th>\n",
       "      <td>1.742721</td>\n",
       "      <td>0.992048</td>\n",
       "      <td>3.935538</td>\n",
       "      <td>9.898941</td>\n",
       "      <td>0.000177</td>\n",
       "      <td>0.001009</td>\n",
       "      <td>3.935538</td>\n",
       "      <td>1.307682</td>\n",
       "      <td>0</td>\n",
       "    </tr>\n",
       "    <tr>\n",
       "      <th>b1001</th>\n",
       "      <td>1.061990</td>\n",
       "      <td>0.314377</td>\n",
       "      <td>2.727904</td>\n",
       "      <td>5.239656</td>\n",
       "      <td>0.000094</td>\n",
       "      <td>0.002205</td>\n",
       "      <td>2.727904</td>\n",
       "      <td>0.700947</td>\n",
       "      <td>0</td>\n",
       "    </tr>\n",
       "  </tbody>\n",
       "</table>\n",
       "</div>"
      ],
      "text/plain": [
       "          assets  liabilities      buffer     weights  original_stress  \\\n",
       "bank                                                                     \n",
       "b1     13.572286     0.161967    6.068679   24.253806         0.000433   \n",
       "b10     1.159245   228.316327  226.497349  457.309267         0.008173   \n",
       "b100    0.552285     0.887618    7.711700   11.883878         0.000212   \n",
       "b1000   1.742721     0.992048    3.935538    9.898941         0.000177   \n",
       "b1001   1.061990     0.314377    2.727904    5.239656         0.000094   \n",
       "\n",
       "       additional_stress  original_losses  additional_losses  \\\n",
       "bank                                                           \n",
       "b1              0.000548         6.068679           0.171663   \n",
       "b10             0.023458       226.497349         287.339651   \n",
       "b100            0.000302         7.711700           1.884005   \n",
       "b1000           0.001009         3.935538           1.307682   \n",
       "b1001           0.002205         2.727904           0.700947   \n",
       "\n",
       "       additional_defaults  \n",
       "bank                        \n",
       "b1                       0  \n",
       "b10                      6  \n",
       "b100                     0  \n",
       "b1000                    0  \n",
       "b1001                    0  "
      ]
     },
     "execution_count": 4,
     "metadata": {},
     "output_type": "execute_result"
    }
   ],
   "source": [
    "nodes = pd.read_csv(f'{data_dir}/data/nodes.csv', index_col=0)\n",
    "nodes.set_index('bank', inplace=True)\n",
    "nodes.head()"
   ]
  },
  {
   "cell_type": "code",
   "execution_count": 5,
   "metadata": {},
   "outputs": [
    {
     "data": {
      "text/plain": [
       "Index(['assets', 'liabilities', 'buffer', 'weights', 'original_stress',\n",
       "       'additional_stress', 'original_losses', 'additional_losses',\n",
       "       'additional_defaults'],\n",
       "      dtype='object')"
      ]
     },
     "execution_count": 5,
     "metadata": {},
     "output_type": "execute_result"
    }
   ],
   "source": [
    "nodes.columns"
   ]
  },
  {
   "cell_type": "code",
   "execution_count": 6,
   "metadata": {},
   "outputs": [
    {
     "data": {
      "text/html": [
       "<div>\n",
       "<style scoped>\n",
       "    .dataframe tbody tr th:only-of-type {\n",
       "        vertical-align: middle;\n",
       "    }\n",
       "\n",
       "    .dataframe tbody tr th {\n",
       "        vertical-align: top;\n",
       "    }\n",
       "\n",
       "    .dataframe thead th {\n",
       "        text-align: right;\n",
       "    }\n",
       "</style>\n",
       "<table border=\"1\" class=\"dataframe\">\n",
       "  <thead>\n",
       "    <tr style=\"text-align: right;\">\n",
       "      <th></th>\n",
       "      <th>assets</th>\n",
       "      <th>liabilities</th>\n",
       "      <th>buffer</th>\n",
       "      <th>weights</th>\n",
       "    </tr>\n",
       "    <tr>\n",
       "      <th>bank</th>\n",
       "      <th></th>\n",
       "      <th></th>\n",
       "      <th></th>\n",
       "      <th></th>\n",
       "    </tr>\n",
       "  </thead>\n",
       "  <tbody>\n",
       "    <tr>\n",
       "      <th>b1</th>\n",
       "      <td>13.572286</td>\n",
       "      <td>0.161967</td>\n",
       "      <td>6.068679</td>\n",
       "      <td>24.253806</td>\n",
       "    </tr>\n",
       "    <tr>\n",
       "      <th>b10</th>\n",
       "      <td>1.159245</td>\n",
       "      <td>228.316327</td>\n",
       "      <td>226.497349</td>\n",
       "      <td>457.309267</td>\n",
       "    </tr>\n",
       "    <tr>\n",
       "      <th>b100</th>\n",
       "      <td>0.552285</td>\n",
       "      <td>0.887618</td>\n",
       "      <td>7.711700</td>\n",
       "      <td>11.883878</td>\n",
       "    </tr>\n",
       "    <tr>\n",
       "      <th>b1000</th>\n",
       "      <td>1.742721</td>\n",
       "      <td>0.992048</td>\n",
       "      <td>3.935538</td>\n",
       "      <td>9.898941</td>\n",
       "    </tr>\n",
       "    <tr>\n",
       "      <th>b1001</th>\n",
       "      <td>1.061990</td>\n",
       "      <td>0.314377</td>\n",
       "      <td>2.727904</td>\n",
       "      <td>5.239656</td>\n",
       "    </tr>\n",
       "  </tbody>\n",
       "</table>\n",
       "</div>"
      ],
      "text/plain": [
       "          assets  liabilities      buffer     weights\n",
       "bank                                                 \n",
       "b1     13.572286     0.161967    6.068679   24.253806\n",
       "b10     1.159245   228.316327  226.497349  457.309267\n",
       "b100    0.552285     0.887618    7.711700   11.883878\n",
       "b1000   1.742721     0.992048    3.935538    9.898941\n",
       "b1001   1.061990     0.314377    2.727904    5.239656"
      ]
     },
     "execution_count": 6,
     "metadata": {},
     "output_type": "execute_result"
    }
   ],
   "source": [
    "node_attr = [\n",
    "    'assets',\n",
    "    'liabilities',\n",
    "    'buffer',\n",
    "    'weights',\n",
    "]\n",
    "nodes_features = nodes[node_attr]\n",
    "nodes_features.head()"
   ]
  },
  {
   "cell_type": "code",
   "execution_count": 7,
   "metadata": {},
   "outputs": [
    {
     "data": {
      "text/html": [
       "<div>\n",
       "<style scoped>\n",
       "    .dataframe tbody tr th:only-of-type {\n",
       "        vertical-align: middle;\n",
       "    }\n",
       "\n",
       "    .dataframe tbody tr th {\n",
       "        vertical-align: top;\n",
       "    }\n",
       "\n",
       "    .dataframe thead th {\n",
       "        text-align: right;\n",
       "    }\n",
       "</style>\n",
       "<table border=\"1\" class=\"dataframe\">\n",
       "  <thead>\n",
       "    <tr style=\"text-align: right;\">\n",
       "      <th></th>\n",
       "      <th>b1</th>\n",
       "      <th>b2</th>\n",
       "      <th>b3</th>\n",
       "      <th>b4</th>\n",
       "      <th>b5</th>\n",
       "      <th>b6</th>\n",
       "      <th>b7</th>\n",
       "      <th>b8</th>\n",
       "      <th>b9</th>\n",
       "      <th>b10</th>\n",
       "      <th>...</th>\n",
       "      <th>b1491</th>\n",
       "      <th>b1492</th>\n",
       "      <th>b1493</th>\n",
       "      <th>b1494</th>\n",
       "      <th>b1495</th>\n",
       "      <th>b1496</th>\n",
       "      <th>b1497</th>\n",
       "      <th>b1498</th>\n",
       "      <th>b1499</th>\n",
       "      <th>b1500</th>\n",
       "    </tr>\n",
       "  </thead>\n",
       "  <tbody>\n",
       "    <tr>\n",
       "      <th>b1</th>\n",
       "      <td>0.0</td>\n",
       "      <td>0.0</td>\n",
       "      <td>0.0</td>\n",
       "      <td>0.0</td>\n",
       "      <td>0.0</td>\n",
       "      <td>0.0</td>\n",
       "      <td>0.0</td>\n",
       "      <td>0.0</td>\n",
       "      <td>0.0</td>\n",
       "      <td>0.0</td>\n",
       "      <td>...</td>\n",
       "      <td>0.0</td>\n",
       "      <td>0.0</td>\n",
       "      <td>0.0</td>\n",
       "      <td>0.0</td>\n",
       "      <td>0.0</td>\n",
       "      <td>0.0</td>\n",
       "      <td>0.0</td>\n",
       "      <td>0.0</td>\n",
       "      <td>0.0</td>\n",
       "      <td>0.0</td>\n",
       "    </tr>\n",
       "    <tr>\n",
       "      <th>b2</th>\n",
       "      <td>0.0</td>\n",
       "      <td>0.0</td>\n",
       "      <td>0.0</td>\n",
       "      <td>0.0</td>\n",
       "      <td>0.0</td>\n",
       "      <td>0.0</td>\n",
       "      <td>0.0</td>\n",
       "      <td>0.0</td>\n",
       "      <td>0.0</td>\n",
       "      <td>0.0</td>\n",
       "      <td>...</td>\n",
       "      <td>0.0</td>\n",
       "      <td>0.0</td>\n",
       "      <td>0.0</td>\n",
       "      <td>0.0</td>\n",
       "      <td>0.0</td>\n",
       "      <td>0.0</td>\n",
       "      <td>0.0</td>\n",
       "      <td>0.0</td>\n",
       "      <td>0.0</td>\n",
       "      <td>0.0</td>\n",
       "    </tr>\n",
       "    <tr>\n",
       "      <th>b3</th>\n",
       "      <td>0.0</td>\n",
       "      <td>0.0</td>\n",
       "      <td>0.0</td>\n",
       "      <td>0.0</td>\n",
       "      <td>0.0</td>\n",
       "      <td>0.0</td>\n",
       "      <td>0.0</td>\n",
       "      <td>0.0</td>\n",
       "      <td>0.0</td>\n",
       "      <td>0.0</td>\n",
       "      <td>...</td>\n",
       "      <td>0.0</td>\n",
       "      <td>0.0</td>\n",
       "      <td>0.0</td>\n",
       "      <td>0.0</td>\n",
       "      <td>0.0</td>\n",
       "      <td>0.0</td>\n",
       "      <td>0.0</td>\n",
       "      <td>0.0</td>\n",
       "      <td>0.0</td>\n",
       "      <td>0.0</td>\n",
       "    </tr>\n",
       "    <tr>\n",
       "      <th>b4</th>\n",
       "      <td>0.0</td>\n",
       "      <td>0.0</td>\n",
       "      <td>0.0</td>\n",
       "      <td>0.0</td>\n",
       "      <td>0.0</td>\n",
       "      <td>0.0</td>\n",
       "      <td>0.0</td>\n",
       "      <td>0.0</td>\n",
       "      <td>0.0</td>\n",
       "      <td>0.0</td>\n",
       "      <td>...</td>\n",
       "      <td>0.0</td>\n",
       "      <td>0.0</td>\n",
       "      <td>0.0</td>\n",
       "      <td>0.0</td>\n",
       "      <td>0.0</td>\n",
       "      <td>0.0</td>\n",
       "      <td>0.0</td>\n",
       "      <td>0.0</td>\n",
       "      <td>0.0</td>\n",
       "      <td>0.0</td>\n",
       "    </tr>\n",
       "    <tr>\n",
       "      <th>b5</th>\n",
       "      <td>0.0</td>\n",
       "      <td>0.0</td>\n",
       "      <td>0.0</td>\n",
       "      <td>0.0</td>\n",
       "      <td>0.0</td>\n",
       "      <td>0.0</td>\n",
       "      <td>0.0</td>\n",
       "      <td>0.0</td>\n",
       "      <td>0.0</td>\n",
       "      <td>0.0</td>\n",
       "      <td>...</td>\n",
       "      <td>0.0</td>\n",
       "      <td>0.0</td>\n",
       "      <td>0.0</td>\n",
       "      <td>0.0</td>\n",
       "      <td>0.0</td>\n",
       "      <td>0.0</td>\n",
       "      <td>0.0</td>\n",
       "      <td>0.0</td>\n",
       "      <td>0.0</td>\n",
       "      <td>0.0</td>\n",
       "    </tr>\n",
       "  </tbody>\n",
       "</table>\n",
       "<p>5 rows × 1500 columns</p>\n",
       "</div>"
      ],
      "text/plain": [
       "     b1   b2   b3   b4   b5   b6   b7   b8   b9  b10  ...  b1491  b1492  \\\n",
       "b1  0.0  0.0  0.0  0.0  0.0  0.0  0.0  0.0  0.0  0.0  ...    0.0    0.0   \n",
       "b2  0.0  0.0  0.0  0.0  0.0  0.0  0.0  0.0  0.0  0.0  ...    0.0    0.0   \n",
       "b3  0.0  0.0  0.0  0.0  0.0  0.0  0.0  0.0  0.0  0.0  ...    0.0    0.0   \n",
       "b4  0.0  0.0  0.0  0.0  0.0  0.0  0.0  0.0  0.0  0.0  ...    0.0    0.0   \n",
       "b5  0.0  0.0  0.0  0.0  0.0  0.0  0.0  0.0  0.0  0.0  ...    0.0    0.0   \n",
       "\n",
       "    b1493  b1494  b1495  b1496  b1497  b1498  b1499  b1500  \n",
       "b1    0.0    0.0    0.0    0.0    0.0    0.0    0.0    0.0  \n",
       "b2    0.0    0.0    0.0    0.0    0.0    0.0    0.0    0.0  \n",
       "b3    0.0    0.0    0.0    0.0    0.0    0.0    0.0    0.0  \n",
       "b4    0.0    0.0    0.0    0.0    0.0    0.0    0.0    0.0  \n",
       "b5    0.0    0.0    0.0    0.0    0.0    0.0    0.0    0.0  \n",
       "\n",
       "[5 rows x 1500 columns]"
      ]
     },
     "execution_count": 7,
     "metadata": {},
     "output_type": "execute_result"
    }
   ],
   "source": [
    "network = pd.read_csv(f'{data_dir}/data/network.csv', index_col=0)\n",
    "network.head()"
   ]
  },
  {
   "cell_type": "markdown",
   "metadata": {},
   "source": [
    "## Plots"
   ]
  },
  {
   "cell_type": "code",
   "execution_count": 8,
   "metadata": {},
   "outputs": [],
   "source": [
    "def plot_hist(s, name):\n",
    "    plt.figure(figsize=(8, 6), dpi=100)\n",
    "    sns.distplot(s)\n",
    "    plt.title(name, fontsize=18)\n",
    "    plt.xlabel(name, fontsize=16)\n",
    "    plt.ylabel('Frequency', fontsize=16)"
   ]
  },
  {
   "cell_type": "markdown",
   "metadata": {},
   "source": [
    "### Liabilities"
   ]
  },
  {
   "cell_type": "code",
   "execution_count": 9,
   "metadata": {},
   "outputs": [
    {
     "name": "stderr",
     "output_type": "stream",
     "text": [
      "c:\\Users\\vibal\\PycharmProjects\\systemic-risk-predictor\\venv\\lib\\site-packages\\seaborn\\distributions.py:2619: FutureWarning: `distplot` is a deprecated function and will be removed in a future version. Please adapt your code to use either `displot` (a figure-level function with similar flexibility) or `histplot` (an axes-level function for histograms).\n",
      "  warnings.warn(msg, FutureWarning)\n"
     ]
    },
    {
     "data": {
      "image/png": "[encoded data removed]",
      "text/plain": [
       "<Figure size 800x600 with 1 Axes>"
      ]
     },
     "metadata": {
      "needs_background": "light"
     },
     "output_type": "display_data"
    }
   ],
   "source": [
    "plot_hist(nodes['liabilities'], 'Liabilities')"
   ]
  },
  {
   "cell_type": "markdown",
   "metadata": {},
   "source": [
    "### Liabilities < 1"
   ]
  },
  {
   "cell_type": "code",
   "execution_count": 10,
   "metadata": {},
   "outputs": [
    {
     "name": "stderr",
     "output_type": "stream",
     "text": [
      "c:\\Users\\vibal\\PycharmProjects\\systemic-risk-predictor\\venv\\lib\\site-packages\\seaborn\\distributions.py:2619: FutureWarning: `distplot` is a deprecated function and will be removed in a future version. Please adapt your code to use either `displot` (a figure-level function with similar flexibility) or `histplot` (an axes-level function for histograms).\n",
      "  warnings.warn(msg, FutureWarning)\n"
     ]
    },
    {
     "data": {
      "image/png": "[encoded data removed]",
      "text/plain": [
       "<Figure size 800x600 with 1 Axes>"
      ]
     },
     "metadata": {
      "needs_background": "light"
     },
     "output_type": "display_data"
    }
   ],
   "source": [
    "plot_hist(nodes['liabilities'][nodes['liabilities'] < 1], 'Liabilities')"
   ]
  },
  {
   "cell_type": "markdown",
   "metadata": {},
   "source": [
    "### Weights"
   ]
  },
  {
   "cell_type": "code",
   "execution_count": 11,
   "metadata": {},
   "outputs": [
    {
     "name": "stderr",
     "output_type": "stream",
     "text": [
      "c:\\Users\\vibal\\PycharmProjects\\systemic-risk-predictor\\venv\\lib\\site-packages\\seaborn\\distributions.py:2619: FutureWarning: `distplot` is a deprecated function and will be removed in a future version. Please adapt your code to use either `displot` (a figure-level function with similar flexibility) or `histplot` (an axes-level function for histograms).\n",
      "  warnings.warn(msg, FutureWarning)\n"
     ]
    },
    {
     "data": {
      "image/png": "[encoded data removed]",
      "text/plain": [
       "<Figure size 800x600 with 1 Axes>"
      ]
     },
     "metadata": {
      "needs_background": "light"
     },
     "output_type": "display_data"
    }
   ],
   "source": [
    "plot_hist(nodes['weights'], 'Weights')"
   ]
  },
  {
   "cell_type": "markdown",
   "metadata": {},
   "source": [
    "### Correlations"
   ]
  },
  {
   "cell_type": "code",
   "execution_count": 12,
   "metadata": {},
   "outputs": [
    {
     "data": {
      "text/html": [
       "<div>\n",
       "<style scoped>\n",
       "    .dataframe tbody tr th:only-of-type {\n",
       "        vertical-align: middle;\n",
       "    }\n",
       "\n",
       "    .dataframe tbody tr th {\n",
       "        vertical-align: top;\n",
       "    }\n",
       "\n",
       "    .dataframe thead th {\n",
       "        text-align: right;\n",
       "    }\n",
       "</style>\n",
       "<table border=\"1\" class=\"dataframe\">\n",
       "  <thead>\n",
       "    <tr style=\"text-align: right;\">\n",
       "      <th></th>\n",
       "      <th>assets</th>\n",
       "      <th>liabilities</th>\n",
       "      <th>buffer</th>\n",
       "      <th>weights</th>\n",
       "      <th>original_stress</th>\n",
       "      <th>additional_stress</th>\n",
       "      <th>original_losses</th>\n",
       "      <th>additional_losses</th>\n",
       "      <th>additional_defaults</th>\n",
       "    </tr>\n",
       "  </thead>\n",
       "  <tbody>\n",
       "    <tr>\n",
       "      <th>assets</th>\n",
       "      <td>1.000000</td>\n",
       "      <td>0.023470</td>\n",
       "      <td>0.077237</td>\n",
       "      <td>0.300888</td>\n",
       "      <td>0.300888</td>\n",
       "      <td>0.030136</td>\n",
       "      <td>0.077237</td>\n",
       "      <td>0.021029</td>\n",
       "      <td>0.020826</td>\n",
       "    </tr>\n",
       "    <tr>\n",
       "      <th>liabilities</th>\n",
       "      <td>0.023470</td>\n",
       "      <td>1.000000</td>\n",
       "      <td>0.868729</td>\n",
       "      <td>0.953010</td>\n",
       "      <td>0.953010</td>\n",
       "      <td>0.893452</td>\n",
       "      <td>0.868729</td>\n",
       "      <td>0.997770</td>\n",
       "      <td>0.988240</td>\n",
       "    </tr>\n",
       "    <tr>\n",
       "      <th>buffer</th>\n",
       "      <td>0.077237</td>\n",
       "      <td>0.868729</td>\n",
       "      <td>1.000000</td>\n",
       "      <td>0.902008</td>\n",
       "      <td>0.902008</td>\n",
       "      <td>0.820843</td>\n",
       "      <td>1.000000</td>\n",
       "      <td>0.858551</td>\n",
       "      <td>0.855299</td>\n",
       "    </tr>\n",
       "    <tr>\n",
       "      <th>weights</th>\n",
       "      <td>0.300888</td>\n",
       "      <td>0.953010</td>\n",
       "      <td>0.902008</td>\n",
       "      <td>1.000000</td>\n",
       "      <td>1.000000</td>\n",
       "      <td>0.864814</td>\n",
       "      <td>0.902008</td>\n",
       "      <td>0.948315</td>\n",
       "      <td>0.940514</td>\n",
       "    </tr>\n",
       "    <tr>\n",
       "      <th>original_stress</th>\n",
       "      <td>0.300888</td>\n",
       "      <td>0.953010</td>\n",
       "      <td>0.902008</td>\n",
       "      <td>1.000000</td>\n",
       "      <td>1.000000</td>\n",
       "      <td>0.864814</td>\n",
       "      <td>0.902008</td>\n",
       "      <td>0.948315</td>\n",
       "      <td>0.940514</td>\n",
       "    </tr>\n",
       "    <tr>\n",
       "      <th>additional_stress</th>\n",
       "      <td>0.030136</td>\n",
       "      <td>0.893452</td>\n",
       "      <td>0.820843</td>\n",
       "      <td>0.864814</td>\n",
       "      <td>0.864814</td>\n",
       "      <td>1.000000</td>\n",
       "      <td>0.820843</td>\n",
       "      <td>0.903068</td>\n",
       "      <td>0.921188</td>\n",
       "    </tr>\n",
       "    <tr>\n",
       "      <th>original_losses</th>\n",
       "      <td>0.077237</td>\n",
       "      <td>0.868729</td>\n",
       "      <td>1.000000</td>\n",
       "      <td>0.902008</td>\n",
       "      <td>0.902008</td>\n",
       "      <td>0.820843</td>\n",
       "      <td>1.000000</td>\n",
       "      <td>0.858551</td>\n",
       "      <td>0.855299</td>\n",
       "    </tr>\n",
       "    <tr>\n",
       "      <th>additional_losses</th>\n",
       "      <td>0.021029</td>\n",
       "      <td>0.997770</td>\n",
       "      <td>0.858551</td>\n",
       "      <td>0.948315</td>\n",
       "      <td>0.948315</td>\n",
       "      <td>0.903068</td>\n",
       "      <td>0.858551</td>\n",
       "      <td>1.000000</td>\n",
       "      <td>0.993809</td>\n",
       "    </tr>\n",
       "    <tr>\n",
       "      <th>additional_defaults</th>\n",
       "      <td>0.020826</td>\n",
       "      <td>0.988240</td>\n",
       "      <td>0.855299</td>\n",
       "      <td>0.940514</td>\n",
       "      <td>0.940514</td>\n",
       "      <td>0.921188</td>\n",
       "      <td>0.855299</td>\n",
       "      <td>0.993809</td>\n",
       "      <td>1.000000</td>\n",
       "    </tr>\n",
       "  </tbody>\n",
       "</table>\n",
       "</div>"
      ],
      "text/plain": [
       "                       assets  liabilities    buffer   weights  \\\n",
       "assets               1.000000     0.023470  0.077237  0.300888   \n",
       "liabilities          0.023470     1.000000  0.868729  0.953010   \n",
       "buffer               0.077237     0.868729  1.000000  0.902008   \n",
       "weights              0.300888     0.953010  0.902008  1.000000   \n",
       "original_stress      0.300888     0.953010  0.902008  1.000000   \n",
       "additional_stress    0.030136     0.893452  0.820843  0.864814   \n",
       "original_losses      0.077237     0.868729  1.000000  0.902008   \n",
       "additional_losses    0.021029     0.997770  0.858551  0.948315   \n",
       "additional_defaults  0.020826     0.988240  0.855299  0.940514   \n",
       "\n",
       "                     original_stress  additional_stress  original_losses  \\\n",
       "assets                      0.300888           0.030136         0.077237   \n",
       "liabilities                 0.953010           0.893452         0.868729   \n",
       "buffer                      0.902008           0.820843         1.000000   \n",
       "weights                     1.000000           0.864814         0.902008   \n",
       "original_stress             1.000000           0.864814         0.902008   \n",
       "additional_stress           0.864814           1.000000         0.820843   \n",
       "original_losses             0.902008           0.820843         1.000000   \n",
       "additional_losses           0.948315           0.903068         0.858551   \n",
       "additional_defaults         0.940514           0.921188         0.855299   \n",
       "\n",
       "                     additional_losses  additional_defaults  \n",
       "assets                        0.021029             0.020826  \n",
       "liabilities                   0.997770             0.988240  \n",
       "buffer                        0.858551             0.855299  \n",
       "weights                       0.948315             0.940514  \n",
       "original_stress               0.948315             0.940514  \n",
       "additional_stress             0.903068             0.921188  \n",
       "original_losses               0.858551             0.855299  \n",
       "additional_losses             1.000000             0.993809  \n",
       "additional_defaults           0.993809             1.000000  "
      ]
     },
     "execution_count": 12,
     "metadata": {},
     "output_type": "execute_result"
    }
   ],
   "source": [
    "corr = nodes.corr()\n",
    "corr"
   ]
  },
  {
   "cell_type": "code",
   "execution_count": 13,
   "metadata": {},
   "outputs": [
    {
     "data": {
      "text/plain": [
       "<matplotlib.collections.LineCollection at 0x1ecf857d4c0>"
      ]
     },
     "execution_count": 13,
     "metadata": {},
     "output_type": "execute_result"
    },
    {
     "data": {
      "image/png": "[encoded data removed]",
      "text/plain": [
       "<Figure size 1152x432 with 2 Axes>"
      ]
     },
     "metadata": {
      "needs_background": "light"
     },
     "output_type": "display_data"
    }
   ],
   "source": [
    "plt.figure(figsize=(16, 6))\n",
    "# define the mask to set the values in the upper triangle to True\n",
    "mask = np.triu(np.ones_like(corr, dtype=bool))\n",
    "heatmap = sns.heatmap(corr, mask=mask, vmin=-1, vmax=1, annot=True, cmap='BrBG')\n",
    "heatmap.set_title('Correlation Small Heavy Tailed Dataset', fontdict={'fontsize':18}, pad=16)\n",
    "# add box lines\n",
    "lines_style = dict(\n",
    "    linestyles='dashed', \n",
    "    colors='blue', \n",
    "    linewidth=3,\n",
    ")\n",
    "heatmap.hlines([4, corr.shape[0]], xmin=0, xmax=4, **lines_style)\n",
    "heatmap.vlines([0, 4], ymin=4, ymax=corr.shape[0], **lines_style)"
   ]
  },
  {
   "cell_type": "markdown",
   "metadata": {},
   "source": [
    "## Get target"
   ]
  },
  {
   "cell_type": "code",
   "execution_count": 14,
   "metadata": {},
   "outputs": [
    {
     "data": {
      "text/plain": [
       "0.4"
      ]
     },
     "execution_count": 14,
     "metadata": {},
     "output_type": "execute_result"
    }
   ],
   "source": [
    "0.1*4"
   ]
  },
  {
   "cell_type": "code",
   "execution_count": 15,
   "metadata": {},
   "outputs": [
    {
     "data": {
      "text/plain": [
       "0.75    0.002706\n",
       "0.50    0.000859\n",
       "0.25    0.000218\n",
       "Name: additional_stress, dtype: float64"
      ]
     },
     "execution_count": 15,
     "metadata": {},
     "output_type": "execute_result"
    }
   ],
   "source": [
    "TARGET_COLUMN = 'additional_stress'\n",
    "QUANTILES = [0.75, 0.5, 0.25]\n",
    "\n",
    "quant = nodes[TARGET_COLUMN].quantile(QUANTILES)\n",
    "quant"
   ]
  },
  {
   "cell_type": "code",
   "execution_count": 16,
   "metadata": {},
   "outputs": [
    {
     "data": {
      "text/html": [
       "<div>\n",
       "<style scoped>\n",
       "    .dataframe tbody tr th:only-of-type {\n",
       "        vertical-align: middle;\n",
       "    }\n",
       "\n",
       "    .dataframe tbody tr th {\n",
       "        vertical-align: top;\n",
       "    }\n",
       "\n",
       "    .dataframe thead th {\n",
       "        text-align: right;\n",
       "    }\n",
       "</style>\n",
       "<table border=\"1\" class=\"dataframe\">\n",
       "  <thead>\n",
       "    <tr style=\"text-align: right;\">\n",
       "      <th></th>\n",
       "      <th>0.75</th>\n",
       "      <th>0.50</th>\n",
       "      <th>0.25</th>\n",
       "      <th>0.00</th>\n",
       "    </tr>\n",
       "    <tr>\n",
       "      <th>bank</th>\n",
       "      <th></th>\n",
       "      <th></th>\n",
       "      <th></th>\n",
       "      <th></th>\n",
       "    </tr>\n",
       "  </thead>\n",
       "  <tbody>\n",
       "    <tr>\n",
       "      <th>b1</th>\n",
       "      <td>False</td>\n",
       "      <td>False</td>\n",
       "      <td>True</td>\n",
       "      <td>False</td>\n",
       "    </tr>\n",
       "    <tr>\n",
       "      <th>b10</th>\n",
       "      <td>True</td>\n",
       "      <td>False</td>\n",
       "      <td>False</td>\n",
       "      <td>False</td>\n",
       "    </tr>\n",
       "    <tr>\n",
       "      <th>b100</th>\n",
       "      <td>False</td>\n",
       "      <td>False</td>\n",
       "      <td>True</td>\n",
       "      <td>False</td>\n",
       "    </tr>\n",
       "    <tr>\n",
       "      <th>b1000</th>\n",
       "      <td>False</td>\n",
       "      <td>True</td>\n",
       "      <td>False</td>\n",
       "      <td>False</td>\n",
       "    </tr>\n",
       "    <tr>\n",
       "      <th>b1001</th>\n",
       "      <td>False</td>\n",
       "      <td>True</td>\n",
       "      <td>False</td>\n",
       "      <td>False</td>\n",
       "    </tr>\n",
       "    <tr>\n",
       "      <th>...</th>\n",
       "      <td>...</td>\n",
       "      <td>...</td>\n",
       "      <td>...</td>\n",
       "      <td>...</td>\n",
       "    </tr>\n",
       "    <tr>\n",
       "      <th>b995</th>\n",
       "      <td>False</td>\n",
       "      <td>False</td>\n",
       "      <td>True</td>\n",
       "      <td>False</td>\n",
       "    </tr>\n",
       "    <tr>\n",
       "      <th>b996</th>\n",
       "      <td>False</td>\n",
       "      <td>False</td>\n",
       "      <td>True</td>\n",
       "      <td>False</td>\n",
       "    </tr>\n",
       "    <tr>\n",
       "      <th>b997</th>\n",
       "      <td>True</td>\n",
       "      <td>False</td>\n",
       "      <td>False</td>\n",
       "      <td>False</td>\n",
       "    </tr>\n",
       "    <tr>\n",
       "      <th>b998</th>\n",
       "      <td>False</td>\n",
       "      <td>False</td>\n",
       "      <td>True</td>\n",
       "      <td>False</td>\n",
       "    </tr>\n",
       "    <tr>\n",
       "      <th>b999</th>\n",
       "      <td>False</td>\n",
       "      <td>False</td>\n",
       "      <td>False</td>\n",
       "      <td>True</td>\n",
       "    </tr>\n",
       "  </tbody>\n",
       "</table>\n",
       "<p>1500 rows × 4 columns</p>\n",
       "</div>"
      ],
      "text/plain": [
       "        0.75   0.50   0.25   0.00\n",
       "bank                             \n",
       "b1     False  False   True  False\n",
       "b10     True  False  False  False\n",
       "b100   False  False   True  False\n",
       "b1000  False   True  False  False\n",
       "b1001  False   True  False  False\n",
       "...      ...    ...    ...    ...\n",
       "b995   False  False   True  False\n",
       "b996   False  False   True  False\n",
       "b997    True  False  False  False\n",
       "b998   False  False   True  False\n",
       "b999   False  False  False   True\n",
       "\n",
       "[1500 rows x 4 columns]"
      ]
     },
     "execution_count": 16,
     "metadata": {},
     "output_type": "execute_result"
    }
   ],
   "source": [
    "is_quant = pd.DataFrame()\n",
    "free = np.ones(nodes.shape[0]).astype(bool)\n",
    "for k,v in quant.iteritems():\n",
    "    is_quant[k] = np.logical_and(nodes[TARGET_COLUMN] >= v, free)\n",
    "    free = np.logical_and(free, np.logical_not(is_quant[k]))\n",
    "is_quant[0.0] = free\n",
    "\n",
    "is_quant"
   ]
  },
  {
   "cell_type": "code",
   "execution_count": 17,
   "metadata": {},
   "outputs": [
    {
     "name": "stdout",
     "output_type": "stream",
     "text": [
      "Length 1500\n",
      "Number of True values 1500\n"
     ]
    }
   ],
   "source": [
    "print(f\"Length {is_quant.shape[0]}\")\n",
    "print(f\"Number of True values {is_quant.sum().sum()}\")"
   ]
  },
  {
   "cell_type": "code",
   "execution_count": 18,
   "metadata": {},
   "outputs": [
    {
     "data": {
      "text/plain": [
       "dtype('float64')"
      ]
     },
     "execution_count": 18,
     "metadata": {},
     "output_type": "execute_result"
    }
   ],
   "source": [
    "is_quant_np = is_quant.to_numpy().astype(float)\n",
    "is_quant_np.dtype"
   ]
  },
  {
   "cell_type": "code",
   "execution_count": 19,
   "metadata": {},
   "outputs": [
    {
     "data": {
      "text/plain": [
       "array([2, 0, 2, ..., 0, 2, 3], dtype=int64)"
      ]
     },
     "execution_count": 19,
     "metadata": {},
     "output_type": "execute_result"
    }
   ],
   "source": [
    "target_np = is_quant_np.argmax(1)\n",
    "target_np"
   ]
  },
  {
   "cell_type": "code",
   "execution_count": 20,
   "metadata": {},
   "outputs": [
    {
     "data": {
      "text/html": [
       "<div>\n",
       "<style scoped>\n",
       "    .dataframe tbody tr th:only-of-type {\n",
       "        vertical-align: middle;\n",
       "    }\n",
       "\n",
       "    .dataframe tbody tr th {\n",
       "        vertical-align: top;\n",
       "    }\n",
       "\n",
       "    .dataframe thead th {\n",
       "        text-align: right;\n",
       "    }\n",
       "</style>\n",
       "<table border=\"1\" class=\"dataframe\">\n",
       "  <thead>\n",
       "    <tr style=\"text-align: right;\">\n",
       "      <th></th>\n",
       "      <th>label</th>\n",
       "    </tr>\n",
       "    <tr>\n",
       "      <th>bank</th>\n",
       "      <th></th>\n",
       "    </tr>\n",
       "  </thead>\n",
       "  <tbody>\n",
       "    <tr>\n",
       "      <th>b1</th>\n",
       "      <td>2</td>\n",
       "    </tr>\n",
       "    <tr>\n",
       "      <th>b10</th>\n",
       "      <td>0</td>\n",
       "    </tr>\n",
       "    <tr>\n",
       "      <th>b100</th>\n",
       "      <td>2</td>\n",
       "    </tr>\n",
       "    <tr>\n",
       "      <th>b1000</th>\n",
       "      <td>1</td>\n",
       "    </tr>\n",
       "    <tr>\n",
       "      <th>b1001</th>\n",
       "      <td>1</td>\n",
       "    </tr>\n",
       "    <tr>\n",
       "      <th>...</th>\n",
       "      <td>...</td>\n",
       "    </tr>\n",
       "    <tr>\n",
       "      <th>b995</th>\n",
       "      <td>2</td>\n",
       "    </tr>\n",
       "    <tr>\n",
       "      <th>b996</th>\n",
       "      <td>2</td>\n",
       "    </tr>\n",
       "    <tr>\n",
       "      <th>b997</th>\n",
       "      <td>0</td>\n",
       "    </tr>\n",
       "    <tr>\n",
       "      <th>b998</th>\n",
       "      <td>2</td>\n",
       "    </tr>\n",
       "    <tr>\n",
       "      <th>b999</th>\n",
       "      <td>3</td>\n",
       "    </tr>\n",
       "  </tbody>\n",
       "</table>\n",
       "<p>1500 rows × 1 columns</p>\n",
       "</div>"
      ],
      "text/plain": [
       "       label\n",
       "bank        \n",
       "b1         2\n",
       "b10        0\n",
       "b100       2\n",
       "b1000      1\n",
       "b1001      1\n",
       "...      ...\n",
       "b995       2\n",
       "b996       2\n",
       "b997       0\n",
       "b998       2\n",
       "b999       3\n",
       "\n",
       "[1500 rows x 1 columns]"
      ]
     },
     "execution_count": 20,
     "metadata": {},
     "output_type": "execute_result"
    }
   ],
   "source": [
    "is_quant = pd.DataFrame(data=target_np, index=is_quant.index, columns=['label'])\n",
    "is_quant"
   ]
  },
  {
   "cell_type": "markdown",
   "metadata": {},
   "source": [
    "# Get Percentiles"
   ]
  },
  {
   "cell_type": "markdown",
   "metadata": {},
   "source": [
    "0 is the highest class, n_classes - 1 the lowest"
   ]
  },
  {
   "cell_type": "code",
   "execution_count": 21,
   "metadata": {},
   "outputs": [
    {
     "data": {
      "text/plain": [
       "bank\n",
       "b1       2\n",
       "b10      0\n",
       "b100     2\n",
       "b1000    1\n",
       "b1001    1\n",
       "        ..\n",
       "b995     2\n",
       "b996     2\n",
       "b997     0\n",
       "b998     2\n",
       "b999     3\n",
       "Name: additional_stress, Length: 1500, dtype: int64"
      ]
     },
     "execution_count": 21,
     "metadata": {},
     "output_type": "execute_result"
    }
   ],
   "source": [
    "3 - pd.qcut(nodes[TARGET_COLUMN], 4, labels=False)"
   ]
  },
  {
   "cell_type": "markdown",
   "metadata": {},
   "source": [
    "Percentile 100 is the highest, 0 the lowest"
   ]
  },
  {
   "cell_type": "code",
   "execution_count": 27,
   "metadata": {},
   "outputs": [
    {
     "data": {
      "text/plain": [
       "bank\n",
       "b1       0.40\n",
       "b10      0.98\n",
       "b100     0.30\n",
       "b1000    0.52\n",
       "b1001    0.71\n",
       "         ... \n",
       "b995     0.34\n",
       "b996     0.27\n",
       "b997     0.78\n",
       "b998     0.32\n",
       "b999     0.17\n",
       "Name: additional_stress, Length: 1500, dtype: float64"
      ]
     },
     "execution_count": 27,
     "metadata": {},
     "output_type": "execute_result"
    }
   ],
   "source": [
    "(pd.qcut(nodes[TARGET_COLUMN], 100, labels=False) / 100)"
   ]
  },
  {
   "cell_type": "code",
   "execution_count": null,
   "metadata": {},
   "outputs": [],
   "source": []
  },
  {
   "cell_type": "markdown",
   "metadata": {},
   "source": [
    "# Labels - Percentiles"
   ]
  },
  {
   "cell_type": "code",
   "execution_count": 20,
   "metadata": {},
   "outputs": [
    {
     "data": {
      "text/plain": [
       "array([2, 0, 2, 1, 1, 3, 1, 0, 0, 1], dtype=int64)"
      ]
     },
     "execution_count": 20,
     "metadata": {},
     "output_type": "execute_result"
    }
   ],
   "source": [
    "target_np[:10]"
   ]
  },
  {
   "cell_type": "code",
   "execution_count": 57,
   "metadata": {},
   "outputs": [
    {
     "data": {
      "text/plain": [
       "array([0.5621864 , 0.16416985, 0.65925436, 0.36126483, 0.33596248,\n",
       "       0.87455077, 0.27031008, 0.03483931, 0.07166031, 0.31324281])"
      ]
     },
     "execution_count": 57,
     "metadata": {},
     "output_type": "execute_result"
    }
   ],
   "source": [
    "# NOT USED\n",
    "\n",
    "n = 4\n",
    "\n",
    "alpha = 1   # alpha > 1 -> classes overlap; alpha = 1 -> classes touch; alpha < 1 -> classes more far apart; None -> middle point\n",
    "if alpha is None:\n",
    "    perc_unif = np.zeros(*target_np.shape)\n",
    "else:\n",
    "    perc_unif = (np.random.rand(*target_np.shape) - 0.5) / (n * alpha)    # [0,1) -.5 -> [-.5,.5) * 1/n -> [-1/n/2, 1/n/2]\n",
    "\n",
    "perc_mid = perc = (target_np / n) + 1/n/2\n",
    "perc = np.clip(0, perc_mid + perc_unif, 1)\n",
    "perc[:10]"
   ]
  },
  {
   "cell_type": "code",
   "execution_count": 138,
   "metadata": {},
   "outputs": [
    {
     "data": {
      "text/plain": [
       "tensor([1.6866, 0.4925, 1.9778,  ..., 0.2565, 2.0122, 2.9162],\n",
       "       dtype=torch.float64)"
      ]
     },
     "execution_count": 138,
     "metadata": {},
     "output_type": "execute_result"
    }
   ],
   "source": [
    "x = torch.as_tensor(perc)\n",
    "# x = torch.as_tensor([0,0.75,0.5,0.25,1])\n",
    "\n",
    "x_sc = x * (n - 1)\n",
    "x_sc"
   ]
  },
  {
   "cell_type": "code",
   "execution_count": 136,
   "metadata": {},
   "outputs": [
    {
     "data": {
      "text/plain": [
       "tensor([[1.6866, 1.6866, 1.6866, 1.6866],\n",
       "        [1.6866, 1.6866, 1.6866, 1.6866],\n",
       "        [1.6866, 1.6866, 1.6866, 1.6866],\n",
       "        ...,\n",
       "        [2.9162, 2.9162, 2.9162, 2.9162],\n",
       "        [2.9162, 2.9162, 2.9162, 2.9162],\n",
       "        [2.9162, 2.9162, 2.9162, 2.9162]], dtype=torch.float64)"
      ]
     },
     "execution_count": 136,
     "metadata": {},
     "output_type": "execute_result"
    }
   ],
   "source": [
    "x_sc = x_sc.reshape(-1)[:,None].repeat(1,n)\n",
    "x_sc"
   ]
  },
  {
   "cell_type": "code",
   "execution_count": 114,
   "metadata": {},
   "outputs": [
    {
     "data": {
      "text/plain": [
       "tensor([[0.0000, 0.7500, 1.5000, 2.2500]])"
      ]
     },
     "execution_count": 114,
     "metadata": {},
     "output_type": "execute_result"
    }
   ],
   "source": [
    "tmp = (torch.arange(0, n-1, (n-1)/n, dtype=torch.float))[None]\n",
    "tmp"
   ]
  },
  {
   "cell_type": "code",
   "execution_count": 115,
   "metadata": {},
   "outputs": [
    {
     "data": {
      "text/plain": [
       "tensor([[ 1.6866,  0.9366,  0.1866, -0.5634],\n",
       "        [ 0.4925, -0.2575, -1.0075, -1.7575],\n",
       "        [ 1.9778,  1.2278,  0.4778, -0.2722],\n",
       "        ...,\n",
       "        [ 0.2565, -0.4935, -1.2435, -1.9935],\n",
       "        [ 2.0122,  1.2622,  0.5122, -0.2378],\n",
       "        [ 2.9162,  2.1662,  1.4162,  0.6662]], dtype=torch.float64)"
      ]
     },
     "execution_count": 115,
     "metadata": {},
     "output_type": "execute_result"
    }
   ],
   "source": [
    "t = (x_sc - tmp)\n",
    "t"
   ]
  },
  {
   "cell_type": "code",
   "execution_count": 123,
   "metadata": {},
   "outputs": [
    {
     "data": {
      "text/plain": [
       "tensor([2, 0, 2, 1, 1, 3, 1, 0, 0, 1])"
      ]
     },
     "execution_count": 123,
     "metadata": {},
     "output_type": "execute_result"
    }
   ],
   "source": [
    "e = torch.logical_and(t < (n-1)/n, t >= 0).int()\n",
    "lab = e.argmax(1)\n",
    "lab[e.sum(1) == 0] = n-1\n",
    "lab[:10]"
   ]
  },
  {
   "cell_type": "code",
   "execution_count": 117,
   "metadata": {},
   "outputs": [],
   "source": [
    "# lab = np.clip(0, (perc * n - 1e-6).astype(int), n-1).astype(float)\n",
    "# lab[:10]"
   ]
  },
  {
   "cell_type": "code",
   "execution_count": 128,
   "metadata": {},
   "outputs": [
    {
     "data": {
      "text/plain": [
       "0"
      ]
     },
     "execution_count": 128,
     "metadata": {},
     "output_type": "execute_result"
    }
   ],
   "source": [
    "np.logical_not(lab.numpy() == target_np).sum()"
   ]
  },
  {
   "cell_type": "markdown",
   "metadata": {},
   "source": [
    "## Dataset"
   ]
  },
  {
   "cell_type": "code",
   "execution_count": 58,
   "metadata": {},
   "outputs": [
    {
     "data": {
      "text/plain": [
       "{'weight': 0.37490927455228}"
      ]
     },
     "execution_count": 58,
     "metadata": {},
     "output_type": "execute_result"
    }
   ],
   "source": [
    "graph = nx.convert_matrix.from_pandas_adjacency(network, create_using=nx.DiGraph)\n",
    "graph.edges[('b1', 'b55')]"
   ]
  },
  {
   "cell_type": "markdown",
   "metadata": {},
   "source": [
    "In order to group the features together we need to get a dictionary of {\"bank\":{\"feat\":values}}"
   ]
  },
  {
   "cell_type": "code",
   "execution_count": 64,
   "metadata": {},
   "outputs": [
    {
     "data": {
      "text/plain": [
       "{'feat': tensor([22.2623,  0.9958,  2.5481, 26.9459])}"
      ]
     },
     "execution_count": 64,
     "metadata": {},
     "output_type": "execute_result"
    }
   ],
   "source": [
    "{k:{\"feat\":torch.as_tensor(v, dtype=torch.float)} for k,v in nodes_features.T.to_dict('list').items()}['b10']"
   ]
  },
  {
   "cell_type": "code",
   "execution_count": 65,
   "metadata": {},
   "outputs": [
    {
     "data": {
      "text/plain": [
       "{'feat': tensor([22.2623,  0.9958,  2.5481, 26.9459])}"
      ]
     },
     "execution_count": 65,
     "metadata": {},
     "output_type": "execute_result"
    }
   ],
   "source": [
    "nx.set_node_attributes(graph, {k:{\"feat\":torch.as_tensor(v, dtype=torch.float)} for k,v in nodes_features.T.to_dict('list').items()})\n",
    "graph.nodes(True)['b10']"
   ]
  },
  {
   "cell_type": "markdown",
   "metadata": {},
   "source": [
    "Add target to graph"
   ]
  },
  {
   "cell_type": "code",
   "execution_count": 77,
   "metadata": {},
   "outputs": [
    {
     "data": {
      "text/plain": [
       "{'label': 3}"
      ]
     },
     "execution_count": 77,
     "metadata": {},
     "output_type": "execute_result"
    }
   ],
   "source": [
    "is_quant.to_dict('index')['b10']"
   ]
  },
  {
   "cell_type": "code",
   "execution_count": 67,
   "metadata": {},
   "outputs": [
    {
     "data": {
      "text/plain": [
       "{'feat': tensor([22.2623,  0.9958,  2.5481, 26.9459]), 'label': 3}"
      ]
     },
     "execution_count": 67,
     "metadata": {},
     "output_type": "execute_result"
    }
   ],
   "source": [
    "nx.set_node_attributes(graph, is_quant.to_dict('index'))\n",
    "graph.nodes(True)['b10']"
   ]
  },
  {
   "cell_type": "markdown",
   "metadata": {},
   "source": [
    "Add bank id to graph"
   ]
  },
  {
   "cell_type": "code",
   "execution_count": 86,
   "metadata": {},
   "outputs": [
    {
     "data": {
      "text/plain": [
       "{'id': 116}"
      ]
     },
     "execution_count": 86,
     "metadata": {},
     "output_type": "execute_result"
    }
   ],
   "source": [
    "{k:{'id':int(k[1:])} for k in is_quant.index}['b116']"
   ]
  },
  {
   "cell_type": "code",
   "execution_count": 87,
   "metadata": {},
   "outputs": [
    {
     "data": {
      "text/plain": [
       "{'feat': tensor([22.2623,  0.9958,  2.5481, 26.9459]), 'label': 3, 'id': 10}"
      ]
     },
     "execution_count": 87,
     "metadata": {},
     "output_type": "execute_result"
    }
   ],
   "source": [
    "nx.set_node_attributes(graph, {k:{'id':int(k[1:])} for k in is_quant.index})\n",
    "graph.nodes(True)['b10']"
   ]
  },
  {
   "cell_type": "markdown",
   "metadata": {},
   "source": [
    "### Create dgl graph"
   ]
  },
  {
   "cell_type": "code",
   "execution_count": 68,
   "metadata": {},
   "outputs": [
    {
     "name": "stdout",
     "output_type": "stream",
     "text": [
      "Graph with 125 nodes\n",
      "Graph with 249 edges\n"
     ]
    }
   ],
   "source": [
    "print(f\"Graph with {graph.number_of_nodes()} nodes\")\n",
    "print(f\"Graph with {graph.number_of_edges()} edges\")"
   ]
  },
  {
   "cell_type": "code",
   "execution_count": 69,
   "metadata": {},
   "outputs": [
    {
     "data": {
      "text/plain": [
       "Graph(num_nodes=125, num_edges=249,\n",
       "      ndata_schemes={'feat': Scheme(shape=(4,), dtype=torch.float32), 'label': Scheme(shape=(), dtype=torch.int64)}\n",
       "      edata_schemes={'weight': Scheme(shape=(), dtype=torch.float32)})"
      ]
     },
     "execution_count": 69,
     "metadata": {},
     "output_type": "execute_result"
    }
   ],
   "source": [
    "graph_dgl = dgl.from_networkx(graph,node_attrs=['feat', 'label'],edge_attrs=['weight'])\n",
    "graph_dgl"
   ]
  },
  {
   "cell_type": "markdown",
   "metadata": {},
   "source": [
    "### Dataset class"
   ]
  },
  {
   "cell_type": "markdown",
   "metadata": {},
   "source": [
    "https://docs.dgl.ai/en/0.6.x/api/python/dgl.data.html\n",
    "\n",
    "The basic DGL dataset for creating graph datasets. This class defines a basic template class for DGL Dataset. The following steps will are executed automatically:\n",
    "\n",
    "1. Check whether there is a dataset cache on disk (already processed and stored on the disk) by invoking has_cache(). If true, goto 5.\n",
    "2. Call download() to download the data.\n",
    "3. Call process() to process the data.\n",
    "4. Call save() to save the processed dataset on disk and goto 6.\n",
    "5. Call load() to load the processed dataset from disk.\n",
    "6. Done."
   ]
  },
  {
   "cell_type": "code",
   "execution_count": 70,
   "metadata": {},
   "outputs": [],
   "source": [
    "class ContagionDataset(dgl.data.DGLDataset):\n",
    "    def __init__(self, sets_lengths=(0.8,0.1,0.1)):\n",
    "        super().__init__(name='sistemic_risk', verbose=True)\n",
    "        self.sets_lengths = sets_lengths\n",
    "\n",
    "    def process(self):\n",
    "        # graph with nodes and edges features\n",
    "        self.graph = graph_dgl\n",
    "\n",
    "        # for each graph in list: in this case only one\n",
    "        # create train, validation and test masks\n",
    "        n_nodes = self.graph.num_nodes()\n",
    "        n_train, n_val = (int(n_nodes * k) for k in self.sets_lengths[:2])\n",
    "        train_mask, val_mask, test_mask = [torch.zeros(n_nodes, dtype=torch.bool) for k in range(3)]\n",
    "        train_mask[:n_train] = True\n",
    "        val_mask[n_train:n_train+n_val] = True\n",
    "        test_mask[n_train+n_val:] = True\n",
    "\n",
    "        # shuffle\n",
    "        idx = torch.randperm(n_nodes)\n",
    "        train_mask, val_mask[idx], test_mask[idx] = train_mask[idx], val_mask[idx], test_mask[idx]\n",
    "\n",
    "        # set mask in nodes\n",
    "        self.graph.ndata['train_mask'] = train_mask\n",
    "        self.graph.ndata['val_mask'] = val_mask\n",
    "        self.graph.ndata['test_mask'] = test_mask\n",
    "\n",
    "    def __len__(self):\n",
    "        return len(self.graphs)\n",
    "\n",
    "    def __getitem__(self,i):\n",
    "        return self.graphs[i]\n",
    "    "
   ]
  },
  {
   "cell_type": "markdown",
   "metadata": {},
   "source": [
    "### Try DropEdge"
   ]
  },
  {
   "cell_type": "code",
   "execution_count": 71,
   "metadata": {},
   "outputs": [],
   "source": [
    "import copy\n",
    "np.random.seed(123)"
   ]
  },
  {
   "cell_type": "code",
   "execution_count": 72,
   "metadata": {},
   "outputs": [
    {
     "data": {
      "text/plain": [
       "Graph(num_nodes=125, num_edges=249,\n",
       "      ndata_schemes={'feat': Scheme(shape=(4,), dtype=torch.float32), 'label': Scheme(shape=(), dtype=torch.int64)}\n",
       "      edata_schemes={'weight': Scheme(shape=(), dtype=torch.float32)})"
      ]
     },
     "execution_count": 72,
     "metadata": {},
     "output_type": "execute_result"
    }
   ],
   "source": [
    "k = copy.deepcopy(graph_dgl)\n",
    "k"
   ]
  },
  {
   "cell_type": "code",
   "execution_count": 73,
   "metadata": {},
   "outputs": [
    {
     "data": {
      "text/plain": [
       "array([109, 126,  66, 220,  98, 230,  17,  83, 106, 123,  57, 214, 225,\n",
       "        96, 113, 126,  47,  73,  32, 174])"
      ]
     },
     "execution_count": 73,
     "metadata": {},
     "output_type": "execute_result"
    }
   ],
   "source": [
    "remove_eids = np.random.randint(k.num_edges(), size=20)\n",
    "remove_eids"
   ]
  },
  {
   "cell_type": "code",
   "execution_count": 74,
   "metadata": {},
   "outputs": [
    {
     "data": {
      "text/plain": [
       "Graph(num_nodes=125, num_edges=230,\n",
       "      ndata_schemes={'feat': Scheme(shape=(4,), dtype=torch.float32), 'label': Scheme(shape=(), dtype=torch.int64)}\n",
       "      edata_schemes={'weight': Scheme(shape=(), dtype=torch.float32)})"
      ]
     },
     "execution_count": 74,
     "metadata": {},
     "output_type": "execute_result"
    }
   ],
   "source": [
    "k.remove_edges(remove_eids)\n",
    "k"
   ]
  },
  {
   "cell_type": "code",
   "execution_count": 75,
   "metadata": {},
   "outputs": [
    {
     "data": {
      "text/plain": [
       "Graph(num_nodes=125, num_edges=249,\n",
       "      ndata_schemes={'feat': Scheme(shape=(4,), dtype=torch.float32), 'label': Scheme(shape=(), dtype=torch.int64)}\n",
       "      edata_schemes={'weight': Scheme(shape=(), dtype=torch.float32)})"
      ]
     },
     "execution_count": 75,
     "metadata": {},
     "output_type": "execute_result"
    }
   ],
   "source": [
    "graph_dgl"
   ]
  }
 ],
 "metadata": {
  "interpreter": {
   "hash": "2da91f19cea543ea127b8c1ff0ea9ffb552ab46e9cf91a4314fee3111aa128d8"
  },
  "kernelspec": {
   "display_name": "Python 3.9.7 64-bit ('venv': venv)",
   "language": "python",
   "name": "python3"
  },
  "language_info": {
   "codemirror_mode": {
    "name": "ipython",
    "version": 3
   },
   "file_extension": ".py",
   "mimetype": "text/x-python",
   "name": "python",
   "nbconvert_exporter": "python",
   "pygments_lexer": "ipython3",
   "version": "3.9.5"
  },
  "orig_nbformat": 4
 },
 "nbformat": 4,
 "nbformat_minor": 2
}
