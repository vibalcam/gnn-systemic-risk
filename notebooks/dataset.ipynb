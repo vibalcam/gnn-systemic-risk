{
 "cells": [
  {
   "cell_type": "code",
   "execution_count": 6,
   "metadata": {},
   "outputs": [],
   "source": [
    "import pandas as pd\n",
    "import dgl\n",
    "import torch\n",
    "import numpy as np\n",
    "import networkx as nx\n",
    "import seaborn as sns\n",
    "import matplotlib.pyplot as plt"
   ]
  },
  {
   "cell_type": "code",
   "execution_count": 7,
   "metadata": {},
   "outputs": [],
   "source": [
    "# from win10toast import ToastNotifier\n",
    "# toast = ToastNotifier()\n",
    "# toast.show_toast(\"Done\")"
   ]
  },
  {
   "cell_type": "markdown",
   "metadata": {},
   "source": [
    "# Data"
   ]
  },
  {
   "cell_type": "code",
   "execution_count": 8,
   "metadata": {},
   "outputs": [],
   "source": [
    "data_dir = './europe_network'"
   ]
  },
  {
   "cell_type": "code",
   "execution_count": 9,
   "metadata": {},
   "outputs": [
    {
     "data": {
      "text/html": [
       "<div>\n",
       "<style scoped>\n",
       "    .dataframe tbody tr th:only-of-type {\n",
       "        vertical-align: middle;\n",
       "    }\n",
       "\n",
       "    .dataframe tbody tr th {\n",
       "        vertical-align: top;\n",
       "    }\n",
       "\n",
       "    .dataframe thead th {\n",
       "        text-align: right;\n",
       "    }\n",
       "</style>\n",
       "<table border=\"1\" class=\"dataframe\">\n",
       "  <thead>\n",
       "    <tr style=\"text-align: right;\">\n",
       "      <th></th>\n",
       "      <th>assets</th>\n",
       "      <th>liabilities</th>\n",
       "      <th>buffer</th>\n",
       "      <th>weights</th>\n",
       "      <th>original_stress</th>\n",
       "      <th>additional_stress</th>\n",
       "      <th>original_losses</th>\n",
       "      <th>additional_losses</th>\n",
       "      <th>additional_defaults</th>\n",
       "    </tr>\n",
       "    <tr>\n",
       "      <th>bank</th>\n",
       "      <th></th>\n",
       "      <th></th>\n",
       "      <th></th>\n",
       "      <th></th>\n",
       "      <th></th>\n",
       "      <th></th>\n",
       "      <th></th>\n",
       "      <th></th>\n",
       "      <th></th>\n",
       "    </tr>\n",
       "  </thead>\n",
       "  <tbody>\n",
       "    <tr>\n",
       "      <th>b1</th>\n",
       "      <td>266508.633115</td>\n",
       "      <td>21467.258984</td>\n",
       "      <td>1.767190e+05</td>\n",
       "      <td>1.643507e+06</td>\n",
       "      <td>0.000036</td>\n",
       "      <td>0.000006</td>\n",
       "      <td>1.767190e+05</td>\n",
       "      <td>2.146726e+04</td>\n",
       "      <td>0</td>\n",
       "    </tr>\n",
       "    <tr>\n",
       "      <th>b10</th>\n",
       "      <td>3593.873481</td>\n",
       "      <td>31049.212324</td>\n",
       "      <td>6.966636e+04</td>\n",
       "      <td>2.150559e+05</td>\n",
       "      <td>0.000005</td>\n",
       "      <td>0.000032</td>\n",
       "      <td>6.966636e+04</td>\n",
       "      <td>1.047354e+05</td>\n",
       "      <td>0</td>\n",
       "    </tr>\n",
       "    <tr>\n",
       "      <th>b100</th>\n",
       "      <td>12766.073055</td>\n",
       "      <td>15804.110997</td>\n",
       "      <td>2.535776e+04</td>\n",
       "      <td>1.366006e+05</td>\n",
       "      <td>0.000003</td>\n",
       "      <td>0.000010</td>\n",
       "      <td>2.535776e+04</td>\n",
       "      <td>1.580411e+04</td>\n",
       "      <td>0</td>\n",
       "    </tr>\n",
       "    <tr>\n",
       "      <th>b1000</th>\n",
       "      <td>511397.892389</td>\n",
       "      <td>466472.406209</td>\n",
       "      <td>4.753911e+06</td>\n",
       "      <td>3.204261e+07</td>\n",
       "      <td>0.000707</td>\n",
       "      <td>0.450881</td>\n",
       "      <td>4.753911e+06</td>\n",
       "      <td>1.858920e+09</td>\n",
       "      <td>222</td>\n",
       "    </tr>\n",
       "    <tr>\n",
       "      <th>b1001</th>\n",
       "      <td>534861.922281</td>\n",
       "      <td>688709.290061</td>\n",
       "      <td>2.611763e+06</td>\n",
       "      <td>2.734010e+07</td>\n",
       "      <td>0.000604</td>\n",
       "      <td>0.451067</td>\n",
       "      <td>2.611763e+06</td>\n",
       "      <td>1.859969e+09</td>\n",
       "      <td>222</td>\n",
       "    </tr>\n",
       "  </tbody>\n",
       "</table>\n",
       "</div>"
      ],
      "text/plain": [
       "              assets    liabilities        buffer       weights  \\\n",
       "bank                                                              \n",
       "b1     266508.633115   21467.258984  1.767190e+05  1.643507e+06   \n",
       "b10      3593.873481   31049.212324  6.966636e+04  2.150559e+05   \n",
       "b100    12766.073055   15804.110997  2.535776e+04  1.366006e+05   \n",
       "b1000  511397.892389  466472.406209  4.753911e+06  3.204261e+07   \n",
       "b1001  534861.922281  688709.290061  2.611763e+06  2.734010e+07   \n",
       "\n",
       "       original_stress  additional_stress  original_losses  additional_losses  \\\n",
       "bank                                                                            \n",
       "b1            0.000036           0.000006     1.767190e+05       2.146726e+04   \n",
       "b10           0.000005           0.000032     6.966636e+04       1.047354e+05   \n",
       "b100          0.000003           0.000010     2.535776e+04       1.580411e+04   \n",
       "b1000         0.000707           0.450881     4.753911e+06       1.858920e+09   \n",
       "b1001         0.000604           0.451067     2.611763e+06       1.859969e+09   \n",
       "\n",
       "       additional_defaults  \n",
       "bank                        \n",
       "b1                       0  \n",
       "b10                      0  \n",
       "b100                     0  \n",
       "b1000                  222  \n",
       "b1001                  222  "
      ]
     },
     "execution_count": 9,
     "metadata": {},
     "output_type": "execute_result"
    }
   ],
   "source": [
    "nodes = pd.read_csv(f'{data_dir}/data/nodes.csv', index_col=0)\n",
    "nodes.set_index('bank', inplace=True)\n",
    "nodes.head()"
   ]
  },
  {
   "cell_type": "code",
   "execution_count": 10,
   "metadata": {},
   "outputs": [
    {
     "data": {
      "text/plain": [
       "Index(['assets', 'liabilities', 'buffer', 'weights', 'original_stress',\n",
       "       'additional_stress', 'original_losses', 'additional_losses',\n",
       "       'additional_defaults'],\n",
       "      dtype='object')"
      ]
     },
     "execution_count": 10,
     "metadata": {},
     "output_type": "execute_result"
    }
   ],
   "source": [
    "nodes.columns"
   ]
  },
  {
   "cell_type": "code",
   "execution_count": 11,
   "metadata": {},
   "outputs": [
    {
     "data": {
      "text/html": [
       "<div>\n",
       "<style scoped>\n",
       "    .dataframe tbody tr th:only-of-type {\n",
       "        vertical-align: middle;\n",
       "    }\n",
       "\n",
       "    .dataframe tbody tr th {\n",
       "        vertical-align: top;\n",
       "    }\n",
       "\n",
       "    .dataframe thead th {\n",
       "        text-align: right;\n",
       "    }\n",
       "</style>\n",
       "<table border=\"1\" class=\"dataframe\">\n",
       "  <thead>\n",
       "    <tr style=\"text-align: right;\">\n",
       "      <th></th>\n",
       "      <th>assets</th>\n",
       "      <th>liabilities</th>\n",
       "      <th>buffer</th>\n",
       "      <th>weights</th>\n",
       "    </tr>\n",
       "    <tr>\n",
       "      <th>bank</th>\n",
       "      <th></th>\n",
       "      <th></th>\n",
       "      <th></th>\n",
       "      <th></th>\n",
       "    </tr>\n",
       "  </thead>\n",
       "  <tbody>\n",
       "    <tr>\n",
       "      <th>b1</th>\n",
       "      <td>266508.633115</td>\n",
       "      <td>21467.258984</td>\n",
       "      <td>1.767190e+05</td>\n",
       "      <td>1.643507e+06</td>\n",
       "    </tr>\n",
       "    <tr>\n",
       "      <th>b10</th>\n",
       "      <td>3593.873481</td>\n",
       "      <td>31049.212324</td>\n",
       "      <td>6.966636e+04</td>\n",
       "      <td>2.150559e+05</td>\n",
       "    </tr>\n",
       "    <tr>\n",
       "      <th>b100</th>\n",
       "      <td>12766.073055</td>\n",
       "      <td>15804.110997</td>\n",
       "      <td>2.535776e+04</td>\n",
       "      <td>1.366006e+05</td>\n",
       "    </tr>\n",
       "    <tr>\n",
       "      <th>b1000</th>\n",
       "      <td>511397.892389</td>\n",
       "      <td>466472.406209</td>\n",
       "      <td>4.753911e+06</td>\n",
       "      <td>3.204261e+07</td>\n",
       "    </tr>\n",
       "    <tr>\n",
       "      <th>b1001</th>\n",
       "      <td>534861.922281</td>\n",
       "      <td>688709.290061</td>\n",
       "      <td>2.611763e+06</td>\n",
       "      <td>2.734010e+07</td>\n",
       "    </tr>\n",
       "  </tbody>\n",
       "</table>\n",
       "</div>"
      ],
      "text/plain": [
       "              assets    liabilities        buffer       weights\n",
       "bank                                                           \n",
       "b1     266508.633115   21467.258984  1.767190e+05  1.643507e+06\n",
       "b10      3593.873481   31049.212324  6.966636e+04  2.150559e+05\n",
       "b100    12766.073055   15804.110997  2.535776e+04  1.366006e+05\n",
       "b1000  511397.892389  466472.406209  4.753911e+06  3.204261e+07\n",
       "b1001  534861.922281  688709.290061  2.611763e+06  2.734010e+07"
      ]
     },
     "execution_count": 11,
     "metadata": {},
     "output_type": "execute_result"
    }
   ],
   "source": [
    "node_attr = [\n",
    "    'assets',\n",
    "    'liabilities',\n",
    "    'buffer',\n",
    "    'weights',\n",
    "]\n",
    "nodes_features = nodes[node_attr]\n",
    "nodes_features.head()"
   ]
  },
  {
   "cell_type": "code",
   "execution_count": 12,
   "metadata": {},
   "outputs": [
    {
     "data": {
      "text/html": [
       "<div>\n",
       "<style scoped>\n",
       "    .dataframe tbody tr th:only-of-type {\n",
       "        vertical-align: middle;\n",
       "    }\n",
       "\n",
       "    .dataframe tbody tr th {\n",
       "        vertical-align: top;\n",
       "    }\n",
       "\n",
       "    .dataframe thead th {\n",
       "        text-align: right;\n",
       "    }\n",
       "</style>\n",
       "<table border=\"1\" class=\"dataframe\">\n",
       "  <thead>\n",
       "    <tr style=\"text-align: right;\">\n",
       "      <th></th>\n",
       "      <th>b1</th>\n",
       "      <th>b2</th>\n",
       "      <th>b3</th>\n",
       "      <th>b4</th>\n",
       "      <th>b5</th>\n",
       "      <th>b6</th>\n",
       "      <th>b7</th>\n",
       "      <th>b8</th>\n",
       "      <th>b9</th>\n",
       "      <th>b10</th>\n",
       "      <th>...</th>\n",
       "      <th>b1435</th>\n",
       "      <th>b1436</th>\n",
       "      <th>b1437</th>\n",
       "      <th>b1438</th>\n",
       "      <th>b1439</th>\n",
       "      <th>b1440</th>\n",
       "      <th>b1441</th>\n",
       "      <th>b1442</th>\n",
       "      <th>b1443</th>\n",
       "      <th>b1444</th>\n",
       "    </tr>\n",
       "  </thead>\n",
       "  <tbody>\n",
       "    <tr>\n",
       "      <th>b1</th>\n",
       "      <td>0.0</td>\n",
       "      <td>0.0</td>\n",
       "      <td>0.0</td>\n",
       "      <td>0.0</td>\n",
       "      <td>0.0</td>\n",
       "      <td>0.0</td>\n",
       "      <td>0.0</td>\n",
       "      <td>0.0</td>\n",
       "      <td>0.0</td>\n",
       "      <td>0.0</td>\n",
       "      <td>...</td>\n",
       "      <td>0.0</td>\n",
       "      <td>0.0</td>\n",
       "      <td>0.0</td>\n",
       "      <td>0.0</td>\n",
       "      <td>0.0</td>\n",
       "      <td>0.0</td>\n",
       "      <td>0.0</td>\n",
       "      <td>0.0</td>\n",
       "      <td>0.0</td>\n",
       "      <td>0.0</td>\n",
       "    </tr>\n",
       "    <tr>\n",
       "      <th>b2</th>\n",
       "      <td>0.0</td>\n",
       "      <td>0.0</td>\n",
       "      <td>0.0</td>\n",
       "      <td>0.0</td>\n",
       "      <td>0.0</td>\n",
       "      <td>0.0</td>\n",
       "      <td>0.0</td>\n",
       "      <td>0.0</td>\n",
       "      <td>0.0</td>\n",
       "      <td>0.0</td>\n",
       "      <td>...</td>\n",
       "      <td>0.0</td>\n",
       "      <td>0.0</td>\n",
       "      <td>0.0</td>\n",
       "      <td>0.0</td>\n",
       "      <td>0.0</td>\n",
       "      <td>0.0</td>\n",
       "      <td>0.0</td>\n",
       "      <td>0.0</td>\n",
       "      <td>0.0</td>\n",
       "      <td>0.0</td>\n",
       "    </tr>\n",
       "    <tr>\n",
       "      <th>b3</th>\n",
       "      <td>0.0</td>\n",
       "      <td>0.0</td>\n",
       "      <td>0.0</td>\n",
       "      <td>0.0</td>\n",
       "      <td>0.0</td>\n",
       "      <td>0.0</td>\n",
       "      <td>0.0</td>\n",
       "      <td>0.0</td>\n",
       "      <td>0.0</td>\n",
       "      <td>0.0</td>\n",
       "      <td>...</td>\n",
       "      <td>0.0</td>\n",
       "      <td>0.0</td>\n",
       "      <td>0.0</td>\n",
       "      <td>0.0</td>\n",
       "      <td>0.0</td>\n",
       "      <td>0.0</td>\n",
       "      <td>0.0</td>\n",
       "      <td>0.0</td>\n",
       "      <td>0.0</td>\n",
       "      <td>0.0</td>\n",
       "    </tr>\n",
       "    <tr>\n",
       "      <th>b4</th>\n",
       "      <td>0.0</td>\n",
       "      <td>0.0</td>\n",
       "      <td>0.0</td>\n",
       "      <td>0.0</td>\n",
       "      <td>0.0</td>\n",
       "      <td>0.0</td>\n",
       "      <td>0.0</td>\n",
       "      <td>0.0</td>\n",
       "      <td>0.0</td>\n",
       "      <td>0.0</td>\n",
       "      <td>...</td>\n",
       "      <td>0.0</td>\n",
       "      <td>0.0</td>\n",
       "      <td>0.0</td>\n",
       "      <td>0.0</td>\n",
       "      <td>0.0</td>\n",
       "      <td>0.0</td>\n",
       "      <td>0.0</td>\n",
       "      <td>0.0</td>\n",
       "      <td>0.0</td>\n",
       "      <td>0.0</td>\n",
       "    </tr>\n",
       "    <tr>\n",
       "      <th>b5</th>\n",
       "      <td>0.0</td>\n",
       "      <td>0.0</td>\n",
       "      <td>0.0</td>\n",
       "      <td>0.0</td>\n",
       "      <td>0.0</td>\n",
       "      <td>0.0</td>\n",
       "      <td>0.0</td>\n",
       "      <td>0.0</td>\n",
       "      <td>0.0</td>\n",
       "      <td>0.0</td>\n",
       "      <td>...</td>\n",
       "      <td>0.0</td>\n",
       "      <td>0.0</td>\n",
       "      <td>0.0</td>\n",
       "      <td>0.0</td>\n",
       "      <td>0.0</td>\n",
       "      <td>0.0</td>\n",
       "      <td>0.0</td>\n",
       "      <td>0.0</td>\n",
       "      <td>0.0</td>\n",
       "      <td>0.0</td>\n",
       "    </tr>\n",
       "  </tbody>\n",
       "</table>\n",
       "<p>5 rows × 1444 columns</p>\n",
       "</div>"
      ],
      "text/plain": [
       "     b1   b2   b3   b4   b5   b6   b7   b8   b9  b10  ...  b1435  b1436  \\\n",
       "b1  0.0  0.0  0.0  0.0  0.0  0.0  0.0  0.0  0.0  0.0  ...    0.0    0.0   \n",
       "b2  0.0  0.0  0.0  0.0  0.0  0.0  0.0  0.0  0.0  0.0  ...    0.0    0.0   \n",
       "b3  0.0  0.0  0.0  0.0  0.0  0.0  0.0  0.0  0.0  0.0  ...    0.0    0.0   \n",
       "b4  0.0  0.0  0.0  0.0  0.0  0.0  0.0  0.0  0.0  0.0  ...    0.0    0.0   \n",
       "b5  0.0  0.0  0.0  0.0  0.0  0.0  0.0  0.0  0.0  0.0  ...    0.0    0.0   \n",
       "\n",
       "    b1437  b1438  b1439  b1440  b1441  b1442  b1443  b1444  \n",
       "b1    0.0    0.0    0.0    0.0    0.0    0.0    0.0    0.0  \n",
       "b2    0.0    0.0    0.0    0.0    0.0    0.0    0.0    0.0  \n",
       "b3    0.0    0.0    0.0    0.0    0.0    0.0    0.0    0.0  \n",
       "b4    0.0    0.0    0.0    0.0    0.0    0.0    0.0    0.0  \n",
       "b5    0.0    0.0    0.0    0.0    0.0    0.0    0.0    0.0  \n",
       "\n",
       "[5 rows x 1444 columns]"
      ]
     },
     "execution_count": 12,
     "metadata": {},
     "output_type": "execute_result"
    }
   ],
   "source": [
    "network = pd.read_csv(f'{data_dir}/data/network.csv', index_col=0)\n",
    "network.head()"
   ]
  },
  {
   "cell_type": "markdown",
   "metadata": {},
   "source": [
    "## Plots"
   ]
  },
  {
   "cell_type": "code",
   "execution_count": 13,
   "metadata": {},
   "outputs": [],
   "source": [
    "def plot_hist(s, name):\n",
    "    plt.figure(figsize=(8, 6), dpi=100)\n",
    "    sns.distplot(s)\n",
    "    plt.title(name, fontsize=18)\n",
    "    plt.xlabel(name, fontsize=16)\n",
    "    plt.ylabel('Frequency', fontsize=16)"
   ]
  },
  {
   "cell_type": "markdown",
   "metadata": {},
   "source": [
    "### Liabilities"
   ]
  },
  {
   "cell_type": "code",
   "execution_count": 14,
   "metadata": {},
   "outputs": [
    {
     "name": "stderr",
     "output_type": "stream",
     "text": [
      "c:\\Users\\vibal\\PycharmProjects\\systemic-risk-predictor\\venv\\lib\\site-packages\\seaborn\\distributions.py:2619: FutureWarning: `distplot` is a deprecated function and will be removed in a future version. Please adapt your code to use either `displot` (a figure-level function with similar flexibility) or `histplot` (an axes-level function for histograms).\n",
      "  warnings.warn(msg, FutureWarning)\n"
     ]
    },
    {
     "data": {
      "image/png": "[encoded data removed]",
      "text/plain": [
       "<Figure size 800x600 with 1 Axes>"
      ]
     },
     "metadata": {
      "needs_background": "light"
     },
     "output_type": "display_data"
    }
   ],
   "source": [
    "plot_hist(nodes['liabilities'], 'Liabilities')"
   ]
  },
  {
   "cell_type": "markdown",
   "metadata": {},
   "source": [
    "### Liabilities zoom"
   ]
  },
  {
   "cell_type": "code",
   "execution_count": 15,
   "metadata": {},
   "outputs": [
    {
     "name": "stderr",
     "output_type": "stream",
     "text": [
      "c:\\Users\\vibal\\PycharmProjects\\systemic-risk-predictor\\venv\\lib\\site-packages\\seaborn\\distributions.py:2619: FutureWarning: `distplot` is a deprecated function and will be removed in a future version. Please adapt your code to use either `displot` (a figure-level function with similar flexibility) or `histplot` (an axes-level function for histograms).\n",
      "  warnings.warn(msg, FutureWarning)\n"
     ]
    },
    {
     "data": {
      "image/png": "[encoded data removed]",
      "text/plain": [
       "<Figure size 800x600 with 1 Axes>"
      ]
     },
     "metadata": {
      "needs_background": "light"
     },
     "output_type": "display_data"
    }
   ],
   "source": [
    "plot_hist(nodes['liabilities'][nodes['liabilities'] < 2e6], 'Liabilities')"
   ]
  },
  {
   "cell_type": "code",
   "execution_count": 16,
   "metadata": {},
   "outputs": [
    {
     "name": "stderr",
     "output_type": "stream",
     "text": [
      "c:\\Users\\vibal\\PycharmProjects\\systemic-risk-predictor\\venv\\lib\\site-packages\\seaborn\\distributions.py:2619: FutureWarning: `distplot` is a deprecated function and will be removed in a future version. Please adapt your code to use either `displot` (a figure-level function with similar flexibility) or `histplot` (an axes-level function for histograms).\n",
      "  warnings.warn(msg, FutureWarning)\n"
     ]
    },
    {
     "data": {
      "image/png": "[encoded data removed]",
      "text/plain": [
       "<Figure size 800x600 with 1 Axes>"
      ]
     },
     "metadata": {
      "needs_background": "light"
     },
     "output_type": "display_data"
    }
   ],
   "source": [
    "plot_hist(nodes['liabilities'][nodes['liabilities'] > 4e7], 'Liabilities')"
   ]
  },
  {
   "cell_type": "code",
   "execution_count": 17,
   "metadata": {},
   "outputs": [
    {
     "name": "stderr",
     "output_type": "stream",
     "text": [
      "c:\\Users\\vibal\\PycharmProjects\\systemic-risk-predictor\\venv\\lib\\site-packages\\seaborn\\distributions.py:2619: FutureWarning: `distplot` is a deprecated function and will be removed in a future version. Please adapt your code to use either `displot` (a figure-level function with similar flexibility) or `histplot` (an axes-level function for histograms).\n",
      "  warnings.warn(msg, FutureWarning)\n"
     ]
    },
    {
     "data": {
      "image/png": "[encoded data removed]",
      "text/plain": [
       "<Figure size 800x600 with 1 Axes>"
      ]
     },
     "metadata": {
      "needs_background": "light"
     },
     "output_type": "display_data"
    }
   ],
   "source": [
    "plot_hist(nodes['additional_stress'], 'additional_stress')"
   ]
  },
  {
   "cell_type": "code",
   "execution_count": 18,
   "metadata": {},
   "outputs": [
    {
     "data": {
      "text/plain": [
       "0.00    0.00000\n",
       "0.25    0.00001\n",
       "0.50    0.45093\n",
       "0.75    0.45096\n",
       "1.00    0.47666\n",
       "Name: additional_stress, dtype: float64"
      ]
     },
     "execution_count": 18,
     "metadata": {},
     "output_type": "execute_result"
    }
   ],
   "source": [
    "nodes['additional_stress'].quantile([0,0.25,0.5,0.75,1]).round(5)"
   ]
  },
  {
   "cell_type": "markdown",
   "metadata": {},
   "source": [
    "### Correlations"
   ]
  },
  {
   "cell_type": "code",
   "execution_count": 19,
   "metadata": {},
   "outputs": [
    {
     "data": {
      "text/html": [
       "<div>\n",
       "<style scoped>\n",
       "    .dataframe tbody tr th:only-of-type {\n",
       "        vertical-align: middle;\n",
       "    }\n",
       "\n",
       "    .dataframe tbody tr th {\n",
       "        vertical-align: top;\n",
       "    }\n",
       "\n",
       "    .dataframe thead th {\n",
       "        text-align: right;\n",
       "    }\n",
       "</style>\n",
       "<table border=\"1\" class=\"dataframe\">\n",
       "  <thead>\n",
       "    <tr style=\"text-align: right;\">\n",
       "      <th></th>\n",
       "      <th>assets</th>\n",
       "      <th>liabilities</th>\n",
       "      <th>buffer</th>\n",
       "      <th>weights</th>\n",
       "      <th>original_stress</th>\n",
       "      <th>additional_stress</th>\n",
       "      <th>original_losses</th>\n",
       "      <th>additional_losses</th>\n",
       "      <th>additional_defaults</th>\n",
       "    </tr>\n",
       "  </thead>\n",
       "  <tbody>\n",
       "    <tr>\n",
       "      <th>assets</th>\n",
       "      <td>1.000000</td>\n",
       "      <td>0.722277</td>\n",
       "      <td>0.597447</td>\n",
       "      <td>0.693019</td>\n",
       "      <td>0.693019</td>\n",
       "      <td>0.104904</td>\n",
       "      <td>0.597447</td>\n",
       "      <td>0.113429</td>\n",
       "      <td>0.112678</td>\n",
       "    </tr>\n",
       "    <tr>\n",
       "      <th>liabilities</th>\n",
       "      <td>0.722277</td>\n",
       "      <td>1.000000</td>\n",
       "      <td>0.759968</td>\n",
       "      <td>0.802344</td>\n",
       "      <td>0.802344</td>\n",
       "      <td>0.161591</td>\n",
       "      <td>0.759968</td>\n",
       "      <td>0.170922</td>\n",
       "      <td>0.169775</td>\n",
       "    </tr>\n",
       "    <tr>\n",
       "      <th>buffer</th>\n",
       "      <td>0.597447</td>\n",
       "      <td>0.759968</td>\n",
       "      <td>1.000000</td>\n",
       "      <td>0.967749</td>\n",
       "      <td>0.967749</td>\n",
       "      <td>0.150672</td>\n",
       "      <td>1.000000</td>\n",
       "      <td>0.159671</td>\n",
       "      <td>0.158981</td>\n",
       "    </tr>\n",
       "    <tr>\n",
       "      <th>weights</th>\n",
       "      <td>0.693019</td>\n",
       "      <td>0.802344</td>\n",
       "      <td>0.967749</td>\n",
       "      <td>1.000000</td>\n",
       "      <td>1.000000</td>\n",
       "      <td>0.142666</td>\n",
       "      <td>0.967749</td>\n",
       "      <td>0.152079</td>\n",
       "      <td>0.151278</td>\n",
       "    </tr>\n",
       "    <tr>\n",
       "      <th>original_stress</th>\n",
       "      <td>0.693019</td>\n",
       "      <td>0.802344</td>\n",
       "      <td>0.967749</td>\n",
       "      <td>1.000000</td>\n",
       "      <td>1.000000</td>\n",
       "      <td>0.142666</td>\n",
       "      <td>0.967749</td>\n",
       "      <td>0.152079</td>\n",
       "      <td>0.151278</td>\n",
       "    </tr>\n",
       "    <tr>\n",
       "      <th>additional_stress</th>\n",
       "      <td>0.104904</td>\n",
       "      <td>0.161591</td>\n",
       "      <td>0.150672</td>\n",
       "      <td>0.142666</td>\n",
       "      <td>0.142666</td>\n",
       "      <td>1.000000</td>\n",
       "      <td>0.150672</td>\n",
       "      <td>0.999944</td>\n",
       "      <td>0.999938</td>\n",
       "    </tr>\n",
       "    <tr>\n",
       "      <th>original_losses</th>\n",
       "      <td>0.597447</td>\n",
       "      <td>0.759968</td>\n",
       "      <td>1.000000</td>\n",
       "      <td>0.967749</td>\n",
       "      <td>0.967749</td>\n",
       "      <td>0.150672</td>\n",
       "      <td>1.000000</td>\n",
       "      <td>0.159671</td>\n",
       "      <td>0.158981</td>\n",
       "    </tr>\n",
       "    <tr>\n",
       "      <th>additional_losses</th>\n",
       "      <td>0.113429</td>\n",
       "      <td>0.170922</td>\n",
       "      <td>0.159671</td>\n",
       "      <td>0.152079</td>\n",
       "      <td>0.152079</td>\n",
       "      <td>0.999944</td>\n",
       "      <td>0.159671</td>\n",
       "      <td>1.000000</td>\n",
       "      <td>0.999986</td>\n",
       "    </tr>\n",
       "    <tr>\n",
       "      <th>additional_defaults</th>\n",
       "      <td>0.112678</td>\n",
       "      <td>0.169775</td>\n",
       "      <td>0.158981</td>\n",
       "      <td>0.151278</td>\n",
       "      <td>0.151278</td>\n",
       "      <td>0.999938</td>\n",
       "      <td>0.158981</td>\n",
       "      <td>0.999986</td>\n",
       "      <td>1.000000</td>\n",
       "    </tr>\n",
       "  </tbody>\n",
       "</table>\n",
       "</div>"
      ],
      "text/plain": [
       "                       assets  liabilities    buffer   weights  \\\n",
       "assets               1.000000     0.722277  0.597447  0.693019   \n",
       "liabilities          0.722277     1.000000  0.759968  0.802344   \n",
       "buffer               0.597447     0.759968  1.000000  0.967749   \n",
       "weights              0.693019     0.802344  0.967749  1.000000   \n",
       "original_stress      0.693019     0.802344  0.967749  1.000000   \n",
       "additional_stress    0.104904     0.161591  0.150672  0.142666   \n",
       "original_losses      0.597447     0.759968  1.000000  0.967749   \n",
       "additional_losses    0.113429     0.170922  0.159671  0.152079   \n",
       "additional_defaults  0.112678     0.169775  0.158981  0.151278   \n",
       "\n",
       "                     original_stress  additional_stress  original_losses  \\\n",
       "assets                      0.693019           0.104904         0.597447   \n",
       "liabilities                 0.802344           0.161591         0.759968   \n",
       "buffer                      0.967749           0.150672         1.000000   \n",
       "weights                     1.000000           0.142666         0.967749   \n",
       "original_stress             1.000000           0.142666         0.967749   \n",
       "additional_stress           0.142666           1.000000         0.150672   \n",
       "original_losses             0.967749           0.150672         1.000000   \n",
       "additional_losses           0.152079           0.999944         0.159671   \n",
       "additional_defaults         0.151278           0.999938         0.158981   \n",
       "\n",
       "                     additional_losses  additional_defaults  \n",
       "assets                        0.113429             0.112678  \n",
       "liabilities                   0.170922             0.169775  \n",
       "buffer                        0.159671             0.158981  \n",
       "weights                       0.152079             0.151278  \n",
       "original_stress               0.152079             0.151278  \n",
       "additional_stress             0.999944             0.999938  \n",
       "original_losses               0.159671             0.158981  \n",
       "additional_losses             1.000000             0.999986  \n",
       "additional_defaults           0.999986             1.000000  "
      ]
     },
     "execution_count": 19,
     "metadata": {},
     "output_type": "execute_result"
    }
   ],
   "source": [
    "corr = nodes.corr()\n",
    "corr"
   ]
  },
  {
   "cell_type": "code",
   "execution_count": 20,
   "metadata": {},
   "outputs": [
    {
     "data": {
      "text/plain": [
       "<matplotlib.collections.LineCollection at 0x1faa65c36d0>"
      ]
     },
     "execution_count": 20,
     "metadata": {},
     "output_type": "execute_result"
    },
    {
     "data": {
      "image/png": "[encoded data removed]",
      "text/plain": [
       "<Figure size 1152x432 with 2 Axes>"
      ]
     },
     "metadata": {
      "needs_background": "light"
     },
     "output_type": "display_data"
    }
   ],
   "source": [
    "plt.figure(figsize=(16, 6))\n",
    "# define the mask to set the values in the upper triangle to True\n",
    "mask = np.triu(np.ones_like(corr, dtype=bool))\n",
    "heatmap = sns.heatmap(corr, mask=mask, vmin=-1, vmax=1, annot=True, cmap='BrBG')\n",
    "heatmap.set_title('Correlation Small Heavy Tailed Dataset', fontdict={'fontsize':18}, pad=16)\n",
    "# add box lines\n",
    "lines_style = dict(\n",
    "    linestyles='dashed', \n",
    "    colors='blue', \n",
    "    linewidth=3,\n",
    ")\n",
    "heatmap.hlines([4, corr.shape[0]], xmin=0, xmax=4, **lines_style)\n",
    "heatmap.vlines([0, 4], ymin=4, ymax=corr.shape[0], **lines_style)"
   ]
  },
  {
   "cell_type": "markdown",
   "metadata": {},
   "source": [
    "## Get target"
   ]
  },
  {
   "cell_type": "code",
   "execution_count": 21,
   "metadata": {},
   "outputs": [
    {
     "data": {
      "text/plain": [
       "0.4"
      ]
     },
     "execution_count": 21,
     "metadata": {},
     "output_type": "execute_result"
    }
   ],
   "source": [
    "0.1*4"
   ]
  },
  {
   "cell_type": "code",
   "execution_count": 22,
   "metadata": {},
   "outputs": [
    {
     "data": {
      "text/plain": [
       "0.75    0.450964\n",
       "0.50    0.450928\n",
       "0.25    0.000010\n",
       "Name: additional_stress, dtype: float64"
      ]
     },
     "execution_count": 22,
     "metadata": {},
     "output_type": "execute_result"
    }
   ],
   "source": [
    "TARGET_COLUMN = 'additional_stress'\n",
    "QUANTILES = [0.75, 0.5, 0.25]\n",
    "\n",
    "quant = nodes[TARGET_COLUMN].quantile(QUANTILES)\n",
    "quant"
   ]
  },
  {
   "cell_type": "code",
   "execution_count": 23,
   "metadata": {},
   "outputs": [
    {
     "data": {
      "text/html": [
       "<div>\n",
       "<style scoped>\n",
       "    .dataframe tbody tr th:only-of-type {\n",
       "        vertical-align: middle;\n",
       "    }\n",
       "\n",
       "    .dataframe tbody tr th {\n",
       "        vertical-align: top;\n",
       "    }\n",
       "\n",
       "    .dataframe thead th {\n",
       "        text-align: right;\n",
       "    }\n",
       "</style>\n",
       "<table border=\"1\" class=\"dataframe\">\n",
       "  <thead>\n",
       "    <tr style=\"text-align: right;\">\n",
       "      <th></th>\n",
       "      <th>0.75</th>\n",
       "      <th>0.50</th>\n",
       "      <th>0.25</th>\n",
       "      <th>0.00</th>\n",
       "    </tr>\n",
       "    <tr>\n",
       "      <th>bank</th>\n",
       "      <th></th>\n",
       "      <th></th>\n",
       "      <th></th>\n",
       "      <th></th>\n",
       "    </tr>\n",
       "  </thead>\n",
       "  <tbody>\n",
       "    <tr>\n",
       "      <th>b1</th>\n",
       "      <td>False</td>\n",
       "      <td>False</td>\n",
       "      <td>False</td>\n",
       "      <td>True</td>\n",
       "    </tr>\n",
       "    <tr>\n",
       "      <th>b10</th>\n",
       "      <td>False</td>\n",
       "      <td>False</td>\n",
       "      <td>True</td>\n",
       "      <td>False</td>\n",
       "    </tr>\n",
       "    <tr>\n",
       "      <th>b100</th>\n",
       "      <td>False</td>\n",
       "      <td>False</td>\n",
       "      <td>False</td>\n",
       "      <td>True</td>\n",
       "    </tr>\n",
       "    <tr>\n",
       "      <th>b1000</th>\n",
       "      <td>False</td>\n",
       "      <td>False</td>\n",
       "      <td>True</td>\n",
       "      <td>False</td>\n",
       "    </tr>\n",
       "    <tr>\n",
       "      <th>b1001</th>\n",
       "      <td>True</td>\n",
       "      <td>False</td>\n",
       "      <td>False</td>\n",
       "      <td>False</td>\n",
       "    </tr>\n",
       "    <tr>\n",
       "      <th>...</th>\n",
       "      <td>...</td>\n",
       "      <td>...</td>\n",
       "      <td>...</td>\n",
       "      <td>...</td>\n",
       "    </tr>\n",
       "    <tr>\n",
       "      <th>b995</th>\n",
       "      <td>False</td>\n",
       "      <td>True</td>\n",
       "      <td>False</td>\n",
       "      <td>False</td>\n",
       "    </tr>\n",
       "    <tr>\n",
       "      <th>b996</th>\n",
       "      <td>False</td>\n",
       "      <td>True</td>\n",
       "      <td>False</td>\n",
       "      <td>False</td>\n",
       "    </tr>\n",
       "    <tr>\n",
       "      <th>b997</th>\n",
       "      <td>True</td>\n",
       "      <td>False</td>\n",
       "      <td>False</td>\n",
       "      <td>False</td>\n",
       "    </tr>\n",
       "    <tr>\n",
       "      <th>b998</th>\n",
       "      <td>True</td>\n",
       "      <td>False</td>\n",
       "      <td>False</td>\n",
       "      <td>False</td>\n",
       "    </tr>\n",
       "    <tr>\n",
       "      <th>b999</th>\n",
       "      <td>False</td>\n",
       "      <td>False</td>\n",
       "      <td>True</td>\n",
       "      <td>False</td>\n",
       "    </tr>\n",
       "  </tbody>\n",
       "</table>\n",
       "<p>1444 rows × 4 columns</p>\n",
       "</div>"
      ],
      "text/plain": [
       "        0.75   0.50   0.25   0.00\n",
       "bank                             \n",
       "b1     False  False  False   True\n",
       "b10    False  False   True  False\n",
       "b100   False  False  False   True\n",
       "b1000  False  False   True  False\n",
       "b1001   True  False  False  False\n",
       "...      ...    ...    ...    ...\n",
       "b995   False   True  False  False\n",
       "b996   False   True  False  False\n",
       "b997    True  False  False  False\n",
       "b998    True  False  False  False\n",
       "b999   False  False   True  False\n",
       "\n",
       "[1444 rows x 4 columns]"
      ]
     },
     "execution_count": 23,
     "metadata": {},
     "output_type": "execute_result"
    }
   ],
   "source": [
    "is_quant = pd.DataFrame()\n",
    "free = np.ones(nodes.shape[0]).astype(bool)\n",
    "for k,v in quant.iteritems():\n",
    "    is_quant[k] = np.logical_and(nodes[TARGET_COLUMN] >= v, free)\n",
    "    free = np.logical_and(free, np.logical_not(is_quant[k]))\n",
    "is_quant[0.0] = free\n",
    "\n",
    "is_quant"
   ]
  },
  {
   "cell_type": "code",
   "execution_count": 24,
   "metadata": {},
   "outputs": [
    {
     "name": "stdout",
     "output_type": "stream",
     "text": [
      "Length 1444\n",
      "Number of True values 1444\n"
     ]
    }
   ],
   "source": [
    "print(f\"Length {is_quant.shape[0]}\")\n",
    "print(f\"Number of True values {is_quant.sum().sum()}\")"
   ]
  },
  {
   "cell_type": "code",
   "execution_count": 25,
   "metadata": {},
   "outputs": [
    {
     "data": {
      "text/plain": [
       "dtype('float64')"
      ]
     },
     "execution_count": 25,
     "metadata": {},
     "output_type": "execute_result"
    }
   ],
   "source": [
    "is_quant_np = is_quant.to_numpy().astype(float)\n",
    "is_quant_np.dtype"
   ]
  },
  {
   "cell_type": "code",
   "execution_count": 26,
   "metadata": {},
   "outputs": [
    {
     "data": {
      "text/plain": [
       "array([3, 2, 3, ..., 0, 0, 2], dtype=int64)"
      ]
     },
     "execution_count": 26,
     "metadata": {},
     "output_type": "execute_result"
    }
   ],
   "source": [
    "target_np = is_quant_np.argmax(1)\n",
    "target_np"
   ]
  },
  {
   "cell_type": "code",
   "execution_count": 27,
   "metadata": {},
   "outputs": [
    {
     "data": {
      "text/html": [
       "<div>\n",
       "<style scoped>\n",
       "    .dataframe tbody tr th:only-of-type {\n",
       "        vertical-align: middle;\n",
       "    }\n",
       "\n",
       "    .dataframe tbody tr th {\n",
       "        vertical-align: top;\n",
       "    }\n",
       "\n",
       "    .dataframe thead th {\n",
       "        text-align: right;\n",
       "    }\n",
       "</style>\n",
       "<table border=\"1\" class=\"dataframe\">\n",
       "  <thead>\n",
       "    <tr style=\"text-align: right;\">\n",
       "      <th></th>\n",
       "      <th>label</th>\n",
       "    </tr>\n",
       "    <tr>\n",
       "      <th>bank</th>\n",
       "      <th></th>\n",
       "    </tr>\n",
       "  </thead>\n",
       "  <tbody>\n",
       "    <tr>\n",
       "      <th>b1</th>\n",
       "      <td>3</td>\n",
       "    </tr>\n",
       "    <tr>\n",
       "      <th>b10</th>\n",
       "      <td>2</td>\n",
       "    </tr>\n",
       "    <tr>\n",
       "      <th>b100</th>\n",
       "      <td>3</td>\n",
       "    </tr>\n",
       "    <tr>\n",
       "      <th>b1000</th>\n",
       "      <td>2</td>\n",
       "    </tr>\n",
       "    <tr>\n",
       "      <th>b1001</th>\n",
       "      <td>0</td>\n",
       "    </tr>\n",
       "    <tr>\n",
       "      <th>...</th>\n",
       "      <td>...</td>\n",
       "    </tr>\n",
       "    <tr>\n",
       "      <th>b995</th>\n",
       "      <td>1</td>\n",
       "    </tr>\n",
       "    <tr>\n",
       "      <th>b996</th>\n",
       "      <td>1</td>\n",
       "    </tr>\n",
       "    <tr>\n",
       "      <th>b997</th>\n",
       "      <td>0</td>\n",
       "    </tr>\n",
       "    <tr>\n",
       "      <th>b998</th>\n",
       "      <td>0</td>\n",
       "    </tr>\n",
       "    <tr>\n",
       "      <th>b999</th>\n",
       "      <td>2</td>\n",
       "    </tr>\n",
       "  </tbody>\n",
       "</table>\n",
       "<p>1444 rows × 1 columns</p>\n",
       "</div>"
      ],
      "text/plain": [
       "       label\n",
       "bank        \n",
       "b1         3\n",
       "b10        2\n",
       "b100       3\n",
       "b1000      2\n",
       "b1001      0\n",
       "...      ...\n",
       "b995       1\n",
       "b996       1\n",
       "b997       0\n",
       "b998       0\n",
       "b999       2\n",
       "\n",
       "[1444 rows x 1 columns]"
      ]
     },
     "execution_count": 27,
     "metadata": {},
     "output_type": "execute_result"
    }
   ],
   "source": [
    "is_quant = pd.DataFrame(data=target_np, index=is_quant.index, columns=['label'])\n",
    "is_quant"
   ]
  },
  {
   "cell_type": "markdown",
   "metadata": {},
   "source": [
    "# Get Percentiles"
   ]
  },
  {
   "cell_type": "markdown",
   "metadata": {},
   "source": [
    "0 is the highest class, n_classes - 1 the lowest"
   ]
  },
  {
   "cell_type": "code",
   "execution_count": 28,
   "metadata": {},
   "outputs": [
    {
     "data": {
      "text/plain": [
       "bank\n",
       "b1       3\n",
       "b10      2\n",
       "b100     3\n",
       "b1000    2\n",
       "b1001    0\n",
       "        ..\n",
       "b995     1\n",
       "b996     1\n",
       "b997     0\n",
       "b998     0\n",
       "b999     2\n",
       "Name: additional_stress, Length: 1444, dtype: int64"
      ]
     },
     "execution_count": 28,
     "metadata": {},
     "output_type": "execute_result"
    }
   ],
   "source": [
    "3 - pd.qcut(nodes[TARGET_COLUMN], 4, labels=False)"
   ]
  },
  {
   "cell_type": "markdown",
   "metadata": {},
   "source": [
    "Percentile 100 is the highest, 0 the lowest"
   ]
  },
  {
   "cell_type": "code",
   "execution_count": 29,
   "metadata": {},
   "outputs": [
    {
     "data": {
      "text/plain": [
       "bank\n",
       "b1       0.21\n",
       "b10      0.31\n",
       "b100     0.24\n",
       "b1000    0.44\n",
       "b1001    0.87\n",
       "         ... \n",
       "b995     0.71\n",
       "b996     0.63\n",
       "b997     0.93\n",
       "b998     0.91\n",
       "b999     0.43\n",
       "Name: additional_stress, Length: 1444, dtype: float64"
      ]
     },
     "execution_count": 29,
     "metadata": {},
     "output_type": "execute_result"
    }
   ],
   "source": [
    "(pd.qcut(nodes[TARGET_COLUMN], 100, labels=False) / 100)"
   ]
  },
  {
   "cell_type": "code",
   "execution_count": null,
   "metadata": {},
   "outputs": [],
   "source": []
  },
  {
   "cell_type": "markdown",
   "metadata": {},
   "source": [
    "# Labels - Percentiles"
   ]
  },
  {
   "cell_type": "code",
   "execution_count": 30,
   "metadata": {},
   "outputs": [
    {
     "data": {
      "text/plain": [
       "array([3, 2, 3, 2, 0, 1, 0, 1, 0, 1], dtype=int64)"
      ]
     },
     "execution_count": 30,
     "metadata": {},
     "output_type": "execute_result"
    }
   ],
   "source": [
    "target_np[:10]"
   ]
  },
  {
   "cell_type": "code",
   "execution_count": 31,
   "metadata": {},
   "outputs": [
    {
     "data": {
      "text/plain": [
       "array([0.8959337 , 0.64130548, 0.84531612, 0.53624554, 0.04364603,\n",
       "       0.39308815, 0.2013829 , 0.34834902, 0.05398107, 0.34831621])"
      ]
     },
     "execution_count": 31,
     "metadata": {},
     "output_type": "execute_result"
    }
   ],
   "source": [
    "# NOT USED\n",
    "\n",
    "n = 4\n",
    "\n",
    "alpha = 1   # alpha > 1 -> classes overlap; alpha = 1 -> classes touch; alpha < 1 -> classes more far apart; None -> middle point\n",
    "if alpha is None:\n",
    "    perc_unif = np.zeros(*target_np.shape)\n",
    "else:\n",
    "    perc_unif = (np.random.rand(*target_np.shape) - 0.5) / (n * alpha)    # [0,1) -.5 -> [-.5,.5) * 1/n -> [-1/n/2, 1/n/2]\n",
    "\n",
    "perc_mid = perc = (target_np / n) + 1/n/2\n",
    "perc = np.clip(0, perc_mid + perc_unif, 1)\n",
    "perc[:10]"
   ]
  },
  {
   "cell_type": "code",
   "execution_count": 32,
   "metadata": {},
   "outputs": [
    {
     "data": {
      "text/plain": [
       "tensor([2.6878, 1.9239, 2.5359,  ..., 0.3085, 0.5173, 2.1853],\n",
       "       dtype=torch.float64)"
      ]
     },
     "execution_count": 32,
     "metadata": {},
     "output_type": "execute_result"
    }
   ],
   "source": [
    "x = torch.as_tensor(perc)\n",
    "# x = torch.as_tensor([0,0.75,0.5,0.25,1])\n",
    "\n",
    "x_sc = x * (n - 1)\n",
    "x_sc"
   ]
  },
  {
   "cell_type": "code",
   "execution_count": 33,
   "metadata": {},
   "outputs": [
    {
     "data": {
      "text/plain": [
       "tensor([[2.6878, 2.6878, 2.6878, 2.6878],\n",
       "        [1.9239, 1.9239, 1.9239, 1.9239],\n",
       "        [2.5359, 2.5359, 2.5359, 2.5359],\n",
       "        ...,\n",
       "        [0.3085, 0.3085, 0.3085, 0.3085],\n",
       "        [0.5173, 0.5173, 0.5173, 0.5173],\n",
       "        [2.1853, 2.1853, 2.1853, 2.1853]], dtype=torch.float64)"
      ]
     },
     "execution_count": 33,
     "metadata": {},
     "output_type": "execute_result"
    }
   ],
   "source": [
    "x_sc = x_sc.reshape(-1)[:,None].repeat(1,n)\n",
    "x_sc"
   ]
  },
  {
   "cell_type": "code",
   "execution_count": 34,
   "metadata": {},
   "outputs": [
    {
     "data": {
      "text/plain": [
       "tensor([[0.0000, 0.7500, 1.5000, 2.2500]])"
      ]
     },
     "execution_count": 34,
     "metadata": {},
     "output_type": "execute_result"
    }
   ],
   "source": [
    "tmp = (torch.arange(0, n-1, (n-1)/n, dtype=torch.float))[None]\n",
    "tmp"
   ]
  },
  {
   "cell_type": "code",
   "execution_count": 35,
   "metadata": {},
   "outputs": [
    {
     "data": {
      "text/plain": [
       "tensor([[ 2.6878,  1.9378,  1.1878,  0.4378],\n",
       "        [ 1.9239,  1.1739,  0.4239, -0.3261],\n",
       "        [ 2.5359,  1.7859,  1.0359,  0.2859],\n",
       "        ...,\n",
       "        [ 0.3085, -0.4415, -1.1915, -1.9415],\n",
       "        [ 0.5173, -0.2327, -0.9827, -1.7327],\n",
       "        [ 2.1853,  1.4353,  0.6853, -0.0647]], dtype=torch.float64)"
      ]
     },
     "execution_count": 35,
     "metadata": {},
     "output_type": "execute_result"
    }
   ],
   "source": [
    "t = (x_sc - tmp)\n",
    "t"
   ]
  },
  {
   "cell_type": "code",
   "execution_count": 36,
   "metadata": {},
   "outputs": [
    {
     "data": {
      "text/plain": [
       "tensor([3, 2, 3, 2, 0, 1, 0, 1, 0, 1])"
      ]
     },
     "execution_count": 36,
     "metadata": {},
     "output_type": "execute_result"
    }
   ],
   "source": [
    "e = torch.logical_and(t < (n-1)/n, t >= 0).int()\n",
    "lab = e.argmax(1)\n",
    "lab[e.sum(1) == 0] = n-1\n",
    "lab[:10]"
   ]
  },
  {
   "cell_type": "code",
   "execution_count": 37,
   "metadata": {},
   "outputs": [],
   "source": [
    "# lab = np.clip(0, (perc * n - 1e-6).astype(int), n-1).astype(float)\n",
    "# lab[:10]"
   ]
  },
  {
   "cell_type": "code",
   "execution_count": 38,
   "metadata": {},
   "outputs": [
    {
     "data": {
      "text/plain": [
       "0"
      ]
     },
     "execution_count": 38,
     "metadata": {},
     "output_type": "execute_result"
    }
   ],
   "source": [
    "np.logical_not(lab.numpy() == target_np).sum()"
   ]
  },
  {
   "cell_type": "markdown",
   "metadata": {},
   "source": [
    "## Dataset"
   ]
  },
  {
   "cell_type": "code",
   "execution_count": 40,
   "metadata": {},
   "outputs": [],
   "source": [
    "graph = nx.convert_matrix.from_pandas_adjacency(network, create_using=nx.DiGraph)"
   ]
  },
  {
   "cell_type": "markdown",
   "metadata": {},
   "source": [
    "In order to group the features together we need to get a dictionary of {\"bank\":{\"feat\":values}}"
   ]
  },
  {
   "cell_type": "code",
   "execution_count": 41,
   "metadata": {},
   "outputs": [
    {
     "data": {
      "text/plain": [
       "{'feat': tensor([  3593.8735,  31049.2129,  69666.3672, 215055.8594])}"
      ]
     },
     "execution_count": 41,
     "metadata": {},
     "output_type": "execute_result"
    }
   ],
   "source": [
    "{k:{\"feat\":torch.as_tensor(v, dtype=torch.float)} for k,v in nodes_features.T.to_dict('list').items()}['b10']"
   ]
  },
  {
   "cell_type": "code",
   "execution_count": 42,
   "metadata": {},
   "outputs": [
    {
     "data": {
      "text/plain": [
       "{'feat': tensor([  3593.8735,  31049.2129,  69666.3672, 215055.8594])}"
      ]
     },
     "execution_count": 42,
     "metadata": {},
     "output_type": "execute_result"
    }
   ],
   "source": [
    "nx.set_node_attributes(graph, {k:{\"feat\":torch.as_tensor(v, dtype=torch.float)} for k,v in nodes_features.T.to_dict('list').items()})\n",
    "graph.nodes(True)['b10']"
   ]
  },
  {
   "cell_type": "markdown",
   "metadata": {},
   "source": [
    "Add target to graph"
   ]
  },
  {
   "cell_type": "code",
   "execution_count": 43,
   "metadata": {},
   "outputs": [
    {
     "data": {
      "text/plain": [
       "{'label': 2}"
      ]
     },
     "execution_count": 43,
     "metadata": {},
     "output_type": "execute_result"
    }
   ],
   "source": [
    "is_quant.to_dict('index')['b10']"
   ]
  },
  {
   "cell_type": "code",
   "execution_count": 44,
   "metadata": {},
   "outputs": [
    {
     "data": {
      "text/plain": [
       "{'feat': tensor([  3593.8735,  31049.2129,  69666.3672, 215055.8594]),\n",
       " 'label': 2}"
      ]
     },
     "execution_count": 44,
     "metadata": {},
     "output_type": "execute_result"
    }
   ],
   "source": [
    "nx.set_node_attributes(graph, is_quant.to_dict('index'))\n",
    "graph.nodes(True)['b10']"
   ]
  },
  {
   "cell_type": "markdown",
   "metadata": {},
   "source": [
    "Add bank id to graph"
   ]
  },
  {
   "cell_type": "code",
   "execution_count": 45,
   "metadata": {},
   "outputs": [
    {
     "data": {
      "text/plain": [
       "{'id': 116}"
      ]
     },
     "execution_count": 45,
     "metadata": {},
     "output_type": "execute_result"
    }
   ],
   "source": [
    "{k:{'id':int(k[1:])} for k in is_quant.index}['b116']"
   ]
  },
  {
   "cell_type": "code",
   "execution_count": 46,
   "metadata": {},
   "outputs": [
    {
     "data": {
      "text/plain": [
       "{'feat': tensor([  3593.8735,  31049.2129,  69666.3672, 215055.8594]),\n",
       " 'label': 2,\n",
       " 'id': 10}"
      ]
     },
     "execution_count": 46,
     "metadata": {},
     "output_type": "execute_result"
    }
   ],
   "source": [
    "nx.set_node_attributes(graph, {k:{'id':int(k[1:])} for k in is_quant.index})\n",
    "graph.nodes(True)['b10']"
   ]
  },
  {
   "cell_type": "markdown",
   "metadata": {},
   "source": [
    "### Create dgl graph"
   ]
  },
  {
   "cell_type": "code",
   "execution_count": 47,
   "metadata": {},
   "outputs": [
    {
     "name": "stdout",
     "output_type": "stream",
     "text": [
      "Graph with 1444 nodes\n",
      "Graph with 2893 edges\n"
     ]
    }
   ],
   "source": [
    "print(f\"Graph with {graph.number_of_nodes()} nodes\")\n",
    "print(f\"Graph with {graph.number_of_edges()} edges\")"
   ]
  },
  {
   "cell_type": "code",
   "execution_count": 48,
   "metadata": {},
   "outputs": [
    {
     "data": {
      "text/plain": [
       "Graph(num_nodes=1444, num_edges=2893,\n",
       "      ndata_schemes={'feat': Scheme(shape=(4,), dtype=torch.float32), 'label': Scheme(shape=(), dtype=torch.int64)}\n",
       "      edata_schemes={'weight': Scheme(shape=(), dtype=torch.float32)})"
      ]
     },
     "execution_count": 48,
     "metadata": {},
     "output_type": "execute_result"
    }
   ],
   "source": [
    "graph_dgl = dgl.from_networkx(graph,node_attrs=['feat', 'label'],edge_attrs=['weight'])\n",
    "graph_dgl"
   ]
  },
  {
   "cell_type": "markdown",
   "metadata": {},
   "source": [
    "### Dataset class"
   ]
  },
  {
   "cell_type": "markdown",
   "metadata": {},
   "source": [
    "https://docs.dgl.ai/en/0.6.x/api/python/dgl.data.html\n",
    "\n",
    "The basic DGL dataset for creating graph datasets. This class defines a basic template class for DGL Dataset. The following steps will are executed automatically:\n",
    "\n",
    "1. Check whether there is a dataset cache on disk (already processed and stored on the disk) by invoking has_cache(). If true, goto 5.\n",
    "2. Call download() to download the data.\n",
    "3. Call process() to process the data.\n",
    "4. Call save() to save the processed dataset on disk and goto 6.\n",
    "5. Call load() to load the processed dataset from disk.\n",
    "6. Done."
   ]
  },
  {
   "cell_type": "code",
   "execution_count": 70,
   "metadata": {},
   "outputs": [],
   "source": [
    "class ContagionDataset(dgl.data.DGLDataset):\n",
    "    def __init__(self, sets_lengths=(0.8,0.1,0.1)):\n",
    "        super().__init__(name='sistemic_risk', verbose=True)\n",
    "        self.sets_lengths = sets_lengths\n",
    "\n",
    "    def process(self):\n",
    "        # graph with nodes and edges features\n",
    "        self.graph = graph_dgl\n",
    "\n",
    "        # for each graph in list: in this case only one\n",
    "        # create train, validation and test masks\n",
    "        n_nodes = self.graph.num_nodes()\n",
    "        n_train, n_val = (int(n_nodes * k) for k in self.sets_lengths[:2])\n",
    "        train_mask, val_mask, test_mask = [torch.zeros(n_nodes, dtype=torch.bool) for k in range(3)]\n",
    "        train_mask[:n_train] = True\n",
    "        val_mask[n_train:n_train+n_val] = True\n",
    "        test_mask[n_train+n_val:] = True\n",
    "\n",
    "        # shuffle\n",
    "        idx = torch.randperm(n_nodes)\n",
    "        train_mask, val_mask[idx], test_mask[idx] = train_mask[idx], val_mask[idx], test_mask[idx]\n",
    "\n",
    "        # set mask in nodes\n",
    "        self.graph.ndata['train_mask'] = train_mask\n",
    "        self.graph.ndata['val_mask'] = val_mask\n",
    "        self.graph.ndata['test_mask'] = test_mask\n",
    "\n",
    "    def __len__(self):\n",
    "        return len(self.graphs)\n",
    "\n",
    "    def __getitem__(self,i):\n",
    "        return self.graphs[i]\n",
    "    "
   ]
  },
  {
   "cell_type": "markdown",
   "metadata": {},
   "source": [
    "### Try DropEdge"
   ]
  },
  {
   "cell_type": "code",
   "execution_count": 71,
   "metadata": {},
   "outputs": [],
   "source": [
    "import copy\n",
    "np.random.seed(123)"
   ]
  },
  {
   "cell_type": "code",
   "execution_count": 72,
   "metadata": {},
   "outputs": [
    {
     "data": {
      "text/plain": [
       "Graph(num_nodes=125, num_edges=249,\n",
       "      ndata_schemes={'feat': Scheme(shape=(4,), dtype=torch.float32), 'label': Scheme(shape=(), dtype=torch.int64)}\n",
       "      edata_schemes={'weight': Scheme(shape=(), dtype=torch.float32)})"
      ]
     },
     "execution_count": 72,
     "metadata": {},
     "output_type": "execute_result"
    }
   ],
   "source": [
    "k = copy.deepcopy(graph_dgl)\n",
    "k"
   ]
  },
  {
   "cell_type": "code",
   "execution_count": 73,
   "metadata": {},
   "outputs": [
    {
     "data": {
      "text/plain": [
       "array([109, 126,  66, 220,  98, 230,  17,  83, 106, 123,  57, 214, 225,\n",
       "        96, 113, 126,  47,  73,  32, 174])"
      ]
     },
     "execution_count": 73,
     "metadata": {},
     "output_type": "execute_result"
    }
   ],
   "source": [
    "remove_eids = np.random.randint(k.num_edges(), size=20)\n",
    "remove_eids"
   ]
  },
  {
   "cell_type": "code",
   "execution_count": 74,
   "metadata": {},
   "outputs": [
    {
     "data": {
      "text/plain": [
       "Graph(num_nodes=125, num_edges=230,\n",
       "      ndata_schemes={'feat': Scheme(shape=(4,), dtype=torch.float32), 'label': Scheme(shape=(), dtype=torch.int64)}\n",
       "      edata_schemes={'weight': Scheme(shape=(), dtype=torch.float32)})"
      ]
     },
     "execution_count": 74,
     "metadata": {},
     "output_type": "execute_result"
    }
   ],
   "source": [
    "k.remove_edges(remove_eids)\n",
    "k"
   ]
  },
  {
   "cell_type": "code",
   "execution_count": 75,
   "metadata": {},
   "outputs": [
    {
     "data": {
      "text/plain": [
       "Graph(num_nodes=125, num_edges=249,\n",
       "      ndata_schemes={'feat': Scheme(shape=(4,), dtype=torch.float32), 'label': Scheme(shape=(), dtype=torch.int64)}\n",
       "      edata_schemes={'weight': Scheme(shape=(), dtype=torch.float32)})"
      ]
     },
     "execution_count": 75,
     "metadata": {},
     "output_type": "execute_result"
    }
   ],
   "source": [
    "graph_dgl"
   ]
  }
 ],
 "metadata": {
  "interpreter": {
   "hash": "2da91f19cea543ea127b8c1ff0ea9ffb552ab46e9cf91a4314fee3111aa128d8"
  },
  "kernelspec": {
   "display_name": "Python 3.9.7 64-bit ('venv': venv)",
   "language": "python",
   "name": "python3"
  },
  "language_info": {
   "codemirror_mode": {
    "name": "ipython",
    "version": 3
   },
   "file_extension": ".py",
   "mimetype": "text/x-python",
   "name": "python",
   "nbconvert_exporter": "python",
   "pygments_lexer": "ipython3",
   "version": "3.9.5"
  },
  "orig_nbformat": 4
 },
 "nbformat": 4,
 "nbformat_minor": 2
}
