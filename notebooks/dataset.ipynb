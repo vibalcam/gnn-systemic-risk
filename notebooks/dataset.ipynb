{
 "cells": [
  {
   "cell_type": "code",
   "execution_count": 26,
   "metadata": {},
   "outputs": [],
   "source": [
    "import pandas as pd\n",
    "import dgl\n",
    "import torch\n",
    "import numpy as np\n",
    "import networkx as nx\n",
    "import seaborn as sns\n",
    "import matplotlib.pyplot as plt"
   ]
  },
  {
   "cell_type": "markdown",
   "metadata": {},
   "source": [
    "# Data"
   ]
  },
  {
   "cell_type": "code",
   "execution_count": 7,
   "metadata": {},
   "outputs": [
    {
     "data": {
      "text/html": [
       "<div>\n",
       "<style scoped>\n",
       "    .dataframe tbody tr th:only-of-type {\n",
       "        vertical-align: middle;\n",
       "    }\n",
       "\n",
       "    .dataframe tbody tr th {\n",
       "        vertical-align: top;\n",
       "    }\n",
       "\n",
       "    .dataframe thead th {\n",
       "        text-align: right;\n",
       "    }\n",
       "</style>\n",
       "<table border=\"1\" class=\"dataframe\">\n",
       "  <thead>\n",
       "    <tr style=\"text-align: right;\">\n",
       "      <th></th>\n",
       "      <th>assets</th>\n",
       "      <th>liabilities</th>\n",
       "      <th>buffer</th>\n",
       "      <th>weights</th>\n",
       "      <th>original_stress</th>\n",
       "      <th>additional_stress</th>\n",
       "      <th>original_losses</th>\n",
       "      <th>additional_losses</th>\n",
       "      <th>additional_defaults</th>\n",
       "    </tr>\n",
       "    <tr>\n",
       "      <th>bank</th>\n",
       "      <th></th>\n",
       "      <th></th>\n",
       "      <th></th>\n",
       "      <th></th>\n",
       "      <th></th>\n",
       "      <th></th>\n",
       "      <th></th>\n",
       "      <th></th>\n",
       "      <th></th>\n",
       "    </tr>\n",
       "  </thead>\n",
       "  <tbody>\n",
       "    <tr>\n",
       "      <th>b1</th>\n",
       "      <td>0.374909</td>\n",
       "      <td>9.631713</td>\n",
       "      <td>5.628295</td>\n",
       "      <td>17.119551</td>\n",
       "      <td>0.007464</td>\n",
       "      <td>0.091307</td>\n",
       "      <td>5.628295</td>\n",
       "      <td>30.256686</td>\n",
       "      <td>3</td>\n",
       "    </tr>\n",
       "    <tr>\n",
       "      <th>b10</th>\n",
       "      <td>22.262280</td>\n",
       "      <td>0.995829</td>\n",
       "      <td>2.548139</td>\n",
       "      <td>26.945868</td>\n",
       "      <td>0.011748</td>\n",
       "      <td>0.004283</td>\n",
       "      <td>2.548139</td>\n",
       "      <td>1.159732</td>\n",
       "      <td>0</td>\n",
       "    </tr>\n",
       "    <tr>\n",
       "      <th>b100</th>\n",
       "      <td>0.260467</td>\n",
       "      <td>0.056702</td>\n",
       "      <td>5.022584</td>\n",
       "      <td>8.564855</td>\n",
       "      <td>0.003734</td>\n",
       "      <td>0.000189</td>\n",
       "      <td>5.022584</td>\n",
       "      <td>0.061172</td>\n",
       "      <td>0</td>\n",
       "    </tr>\n",
       "    <tr>\n",
       "      <th>b101</th>\n",
       "      <td>0.148554</td>\n",
       "      <td>4.966443</td>\n",
       "      <td>9.311341</td>\n",
       "      <td>15.981748</td>\n",
       "      <td>0.006968</td>\n",
       "      <td>0.110387</td>\n",
       "      <td>9.311341</td>\n",
       "      <td>25.097576</td>\n",
       "      <td>3</td>\n",
       "    </tr>\n",
       "    <tr>\n",
       "      <th>b102</th>\n",
       "      <td>6.483663</td>\n",
       "      <td>0.525904</td>\n",
       "      <td>6.496722</td>\n",
       "      <td>15.501686</td>\n",
       "      <td>0.006758</td>\n",
       "      <td>0.075514</td>\n",
       "      <td>6.496722</td>\n",
       "      <td>20.851029</td>\n",
       "      <td>2</td>\n",
       "    </tr>\n",
       "  </tbody>\n",
       "</table>\n",
       "</div>"
      ],
      "text/plain": [
       "         assets  liabilities    buffer    weights  original_stress  \\\n",
       "bank                                                                 \n",
       "b1     0.374909     9.631713  5.628295  17.119551         0.007464   \n",
       "b10   22.262280     0.995829  2.548139  26.945868         0.011748   \n",
       "b100   0.260467     0.056702  5.022584   8.564855         0.003734   \n",
       "b101   0.148554     4.966443  9.311341  15.981748         0.006968   \n",
       "b102   6.483663     0.525904  6.496722  15.501686         0.006758   \n",
       "\n",
       "      additional_stress  original_losses  additional_losses  \\\n",
       "bank                                                          \n",
       "b1             0.091307         5.628295          30.256686   \n",
       "b10            0.004283         2.548139           1.159732   \n",
       "b100           0.000189         5.022584           0.061172   \n",
       "b101           0.110387         9.311341          25.097576   \n",
       "b102           0.075514         6.496722          20.851029   \n",
       "\n",
       "      additional_defaults  \n",
       "bank                       \n",
       "b1                      3  \n",
       "b10                     0  \n",
       "b100                    0  \n",
       "b101                    3  \n",
       "b102                    2  "
      ]
     },
     "execution_count": 7,
     "metadata": {},
     "output_type": "execute_result"
    }
   ],
   "source": [
    "nodes = pd.read_csv('./small_network/data/nodes.csv', index_col=0)\n",
    "nodes.set_index('bank', inplace=True)\n",
    "nodes.head()"
   ]
  },
  {
   "cell_type": "code",
   "execution_count": null,
   "metadata": {},
   "outputs": [
    {
     "data": {
      "text/plain": [
       "Index(['assets', 'liabilities', 'buffer', 'weights', 'original_stress',\n",
       "       'additional_stress', 'original_losses', 'additional_losses',\n",
       "       'additional_defaults'],\n",
       "      dtype='object')"
      ]
     },
     "metadata": {},
     "output_type": "display_data"
    }
   ],
   "source": [
    "nodes.columns"
   ]
  },
  {
   "cell_type": "code",
   "execution_count": 55,
   "metadata": {},
   "outputs": [
    {
     "data": {
      "text/html": [
       "<div>\n",
       "<style scoped>\n",
       "    .dataframe tbody tr th:only-of-type {\n",
       "        vertical-align: middle;\n",
       "    }\n",
       "\n",
       "    .dataframe tbody tr th {\n",
       "        vertical-align: top;\n",
       "    }\n",
       "\n",
       "    .dataframe thead th {\n",
       "        text-align: right;\n",
       "    }\n",
       "</style>\n",
       "<table border=\"1\" class=\"dataframe\">\n",
       "  <thead>\n",
       "    <tr style=\"text-align: right;\">\n",
       "      <th></th>\n",
       "      <th>assets</th>\n",
       "      <th>liabilities</th>\n",
       "      <th>buffer</th>\n",
       "      <th>weights</th>\n",
       "    </tr>\n",
       "    <tr>\n",
       "      <th>bank</th>\n",
       "      <th></th>\n",
       "      <th></th>\n",
       "      <th></th>\n",
       "      <th></th>\n",
       "    </tr>\n",
       "  </thead>\n",
       "  <tbody>\n",
       "    <tr>\n",
       "      <th>b1</th>\n",
       "      <td>0.374909</td>\n",
       "      <td>9.631713</td>\n",
       "      <td>5.628295</td>\n",
       "      <td>17.119551</td>\n",
       "    </tr>\n",
       "    <tr>\n",
       "      <th>b10</th>\n",
       "      <td>22.262280</td>\n",
       "      <td>0.995829</td>\n",
       "      <td>2.548139</td>\n",
       "      <td>26.945868</td>\n",
       "    </tr>\n",
       "    <tr>\n",
       "      <th>b100</th>\n",
       "      <td>0.260467</td>\n",
       "      <td>0.056702</td>\n",
       "      <td>5.022584</td>\n",
       "      <td>8.564855</td>\n",
       "    </tr>\n",
       "    <tr>\n",
       "      <th>b101</th>\n",
       "      <td>0.148554</td>\n",
       "      <td>4.966443</td>\n",
       "      <td>9.311341</td>\n",
       "      <td>15.981748</td>\n",
       "    </tr>\n",
       "    <tr>\n",
       "      <th>b102</th>\n",
       "      <td>6.483663</td>\n",
       "      <td>0.525904</td>\n",
       "      <td>6.496722</td>\n",
       "      <td>15.501686</td>\n",
       "    </tr>\n",
       "  </tbody>\n",
       "</table>\n",
       "</div>"
      ],
      "text/plain": [
       "         assets  liabilities    buffer    weights\n",
       "bank                                             \n",
       "b1     0.374909     9.631713  5.628295  17.119551\n",
       "b10   22.262280     0.995829  2.548139  26.945868\n",
       "b100   0.260467     0.056702  5.022584   8.564855\n",
       "b101   0.148554     4.966443  9.311341  15.981748\n",
       "b102   6.483663     0.525904  6.496722  15.501686"
      ]
     },
     "execution_count": 55,
     "metadata": {},
     "output_type": "execute_result"
    }
   ],
   "source": [
    "node_attr = [\n",
    "    'assets',\n",
    "    'liabilities',\n",
    "    'buffer',\n",
    "    'weights',\n",
    "]\n",
    "nodes_features = nodes[node_attr]\n",
    "nodes_features.head()"
   ]
  },
  {
   "cell_type": "code",
   "execution_count": 8,
   "metadata": {},
   "outputs": [
    {
     "data": {
      "text/html": [
       "<div>\n",
       "<style scoped>\n",
       "    .dataframe tbody tr th:only-of-type {\n",
       "        vertical-align: middle;\n",
       "    }\n",
       "\n",
       "    .dataframe tbody tr th {\n",
       "        vertical-align: top;\n",
       "    }\n",
       "\n",
       "    .dataframe thead th {\n",
       "        text-align: right;\n",
       "    }\n",
       "</style>\n",
       "<table border=\"1\" class=\"dataframe\">\n",
       "  <thead>\n",
       "    <tr style=\"text-align: right;\">\n",
       "      <th></th>\n",
       "      <th>b1</th>\n",
       "      <th>b2</th>\n",
       "      <th>b3</th>\n",
       "      <th>b4</th>\n",
       "      <th>b5</th>\n",
       "      <th>b6</th>\n",
       "      <th>b7</th>\n",
       "      <th>b8</th>\n",
       "      <th>b9</th>\n",
       "      <th>b10</th>\n",
       "      <th>...</th>\n",
       "      <th>b116</th>\n",
       "      <th>b117</th>\n",
       "      <th>b118</th>\n",
       "      <th>b119</th>\n",
       "      <th>b120</th>\n",
       "      <th>b121</th>\n",
       "      <th>b122</th>\n",
       "      <th>b123</th>\n",
       "      <th>b124</th>\n",
       "      <th>b125</th>\n",
       "    </tr>\n",
       "  </thead>\n",
       "  <tbody>\n",
       "    <tr>\n",
       "      <th>b1</th>\n",
       "      <td>0.0</td>\n",
       "      <td>0.0</td>\n",
       "      <td>0.0</td>\n",
       "      <td>0.0</td>\n",
       "      <td>0.0</td>\n",
       "      <td>0.0</td>\n",
       "      <td>0.0</td>\n",
       "      <td>0.0</td>\n",
       "      <td>0.0</td>\n",
       "      <td>0.0</td>\n",
       "      <td>...</td>\n",
       "      <td>0.0</td>\n",
       "      <td>0.0</td>\n",
       "      <td>0.0</td>\n",
       "      <td>0.0</td>\n",
       "      <td>0.0</td>\n",
       "      <td>0.0</td>\n",
       "      <td>0.0</td>\n",
       "      <td>0.0</td>\n",
       "      <td>0.0</td>\n",
       "      <td>0.0</td>\n",
       "    </tr>\n",
       "    <tr>\n",
       "      <th>b2</th>\n",
       "      <td>0.0</td>\n",
       "      <td>0.0</td>\n",
       "      <td>0.0</td>\n",
       "      <td>0.0</td>\n",
       "      <td>0.0</td>\n",
       "      <td>0.0</td>\n",
       "      <td>0.0</td>\n",
       "      <td>0.0</td>\n",
       "      <td>0.0</td>\n",
       "      <td>0.0</td>\n",
       "      <td>...</td>\n",
       "      <td>0.0</td>\n",
       "      <td>0.0</td>\n",
       "      <td>0.0</td>\n",
       "      <td>0.0</td>\n",
       "      <td>0.0</td>\n",
       "      <td>0.0</td>\n",
       "      <td>0.0</td>\n",
       "      <td>0.0</td>\n",
       "      <td>0.0</td>\n",
       "      <td>0.0</td>\n",
       "    </tr>\n",
       "    <tr>\n",
       "      <th>b3</th>\n",
       "      <td>0.0</td>\n",
       "      <td>0.0</td>\n",
       "      <td>0.0</td>\n",
       "      <td>0.0</td>\n",
       "      <td>0.0</td>\n",
       "      <td>0.0</td>\n",
       "      <td>0.0</td>\n",
       "      <td>0.0</td>\n",
       "      <td>0.0</td>\n",
       "      <td>0.0</td>\n",
       "      <td>...</td>\n",
       "      <td>0.0</td>\n",
       "      <td>0.0</td>\n",
       "      <td>0.0</td>\n",
       "      <td>0.0</td>\n",
       "      <td>0.0</td>\n",
       "      <td>0.0</td>\n",
       "      <td>0.0</td>\n",
       "      <td>0.0</td>\n",
       "      <td>0.0</td>\n",
       "      <td>0.0</td>\n",
       "    </tr>\n",
       "    <tr>\n",
       "      <th>b4</th>\n",
       "      <td>0.0</td>\n",
       "      <td>0.0</td>\n",
       "      <td>0.0</td>\n",
       "      <td>0.0</td>\n",
       "      <td>0.0</td>\n",
       "      <td>0.0</td>\n",
       "      <td>0.0</td>\n",
       "      <td>0.0</td>\n",
       "      <td>0.0</td>\n",
       "      <td>0.0</td>\n",
       "      <td>...</td>\n",
       "      <td>0.0</td>\n",
       "      <td>0.0</td>\n",
       "      <td>0.0</td>\n",
       "      <td>0.0</td>\n",
       "      <td>0.0</td>\n",
       "      <td>0.0</td>\n",
       "      <td>0.0</td>\n",
       "      <td>0.0</td>\n",
       "      <td>0.0</td>\n",
       "      <td>0.0</td>\n",
       "    </tr>\n",
       "    <tr>\n",
       "      <th>b5</th>\n",
       "      <td>0.0</td>\n",
       "      <td>0.0</td>\n",
       "      <td>0.0</td>\n",
       "      <td>0.0</td>\n",
       "      <td>0.0</td>\n",
       "      <td>0.0</td>\n",
       "      <td>0.0</td>\n",
       "      <td>0.0</td>\n",
       "      <td>0.0</td>\n",
       "      <td>0.0</td>\n",
       "      <td>...</td>\n",
       "      <td>0.0</td>\n",
       "      <td>0.0</td>\n",
       "      <td>0.0</td>\n",
       "      <td>0.0</td>\n",
       "      <td>0.0</td>\n",
       "      <td>0.0</td>\n",
       "      <td>0.0</td>\n",
       "      <td>0.0</td>\n",
       "      <td>0.0</td>\n",
       "      <td>0.0</td>\n",
       "    </tr>\n",
       "  </tbody>\n",
       "</table>\n",
       "<p>5 rows × 125 columns</p>\n",
       "</div>"
      ],
      "text/plain": [
       "     b1   b2   b3   b4   b5   b6   b7   b8   b9  b10  ...  b116  b117  b118  \\\n",
       "b1  0.0  0.0  0.0  0.0  0.0  0.0  0.0  0.0  0.0  0.0  ...   0.0   0.0   0.0   \n",
       "b2  0.0  0.0  0.0  0.0  0.0  0.0  0.0  0.0  0.0  0.0  ...   0.0   0.0   0.0   \n",
       "b3  0.0  0.0  0.0  0.0  0.0  0.0  0.0  0.0  0.0  0.0  ...   0.0   0.0   0.0   \n",
       "b4  0.0  0.0  0.0  0.0  0.0  0.0  0.0  0.0  0.0  0.0  ...   0.0   0.0   0.0   \n",
       "b5  0.0  0.0  0.0  0.0  0.0  0.0  0.0  0.0  0.0  0.0  ...   0.0   0.0   0.0   \n",
       "\n",
       "    b119  b120  b121  b122  b123  b124  b125  \n",
       "b1   0.0   0.0   0.0   0.0   0.0   0.0   0.0  \n",
       "b2   0.0   0.0   0.0   0.0   0.0   0.0   0.0  \n",
       "b3   0.0   0.0   0.0   0.0   0.0   0.0   0.0  \n",
       "b4   0.0   0.0   0.0   0.0   0.0   0.0   0.0  \n",
       "b5   0.0   0.0   0.0   0.0   0.0   0.0   0.0  \n",
       "\n",
       "[5 rows x 125 columns]"
      ]
     },
     "execution_count": 8,
     "metadata": {},
     "output_type": "execute_result"
    }
   ],
   "source": [
    "network = pd.read_csv('./small_network/data/network.csv', index_col=0)\n",
    "network.head()"
   ]
  },
  {
   "cell_type": "markdown",
   "metadata": {},
   "source": [
    "## Plots"
   ]
  },
  {
   "cell_type": "code",
   "execution_count": 36,
   "metadata": {},
   "outputs": [],
   "source": [
    "def plot_hist(s, name):\n",
    "    plt.figure(figsize=(8, 6), dpi=100)\n",
    "    sns.distplot(s)\n",
    "    plt.title(name, fontsize=18)\n",
    "    plt.xlabel(name, fontsize=16)\n",
    "    plt.ylabel('Frequency', fontsize=16)"
   ]
  },
  {
   "cell_type": "markdown",
   "metadata": {},
   "source": [
    "### Liabilities"
   ]
  },
  {
   "cell_type": "code",
   "execution_count": 62,
   "metadata": {},
   "outputs": [
    {
     "name": "stderr",
     "output_type": "stream",
     "text": [
      "c:\\Users\\vibal\\PycharmProjects\\systemic-risk-predictor\\venv\\lib\\site-packages\\seaborn\\distributions.py:2619: FutureWarning: `distplot` is a deprecated function and will be removed in a future version. Please adapt your code to use either `displot` (a figure-level function with similar flexibility) or `histplot` (an axes-level function for histograms).\n",
      "  warnings.warn(msg, FutureWarning)\n"
     ]
    },
    {
     "data": {
      "image/png": "[encoded data removed]",
      "text/plain": [
       "<Figure size 800x600 with 1 Axes>"
      ]
     },
     "metadata": {
      "needs_background": "light"
     },
     "output_type": "display_data"
    }
   ],
   "source": [
    "plot_hist(nodes['liabilities'], 'Liabilities')"
   ]
  },
  {
   "cell_type": "markdown",
   "metadata": {},
   "source": [
    "### Liabilities > 1"
   ]
  },
  {
   "cell_type": "code",
   "execution_count": 61,
   "metadata": {},
   "outputs": [
    {
     "name": "stderr",
     "output_type": "stream",
     "text": [
      "c:\\Users\\vibal\\PycharmProjects\\systemic-risk-predictor\\venv\\lib\\site-packages\\seaborn\\distributions.py:2619: FutureWarning: `distplot` is a deprecated function and will be removed in a future version. Please adapt your code to use either `displot` (a figure-level function with similar flexibility) or `histplot` (an axes-level function for histograms).\n",
      "  warnings.warn(msg, FutureWarning)\n"
     ]
    },
    {
     "data": {
      "image/png": "[encoded data removed]",
      "text/plain": [
       "<Figure size 800x600 with 1 Axes>"
      ]
     },
     "metadata": {
      "needs_background": "light"
     },
     "output_type": "display_data"
    }
   ],
   "source": [
    "plot_hist(nodes['liabilities'][nodes['liabilities'] > 1], 'Liabilities')"
   ]
  },
  {
   "cell_type": "markdown",
   "metadata": {},
   "source": [
    "### Weights"
   ]
  },
  {
   "cell_type": "code",
   "execution_count": 53,
   "metadata": {},
   "outputs": [
    {
     "name": "stderr",
     "output_type": "stream",
     "text": [
      "c:\\Users\\vibal\\PycharmProjects\\systemic-risk-predictor\\venv\\lib\\site-packages\\seaborn\\distributions.py:2619: FutureWarning: `distplot` is a deprecated function and will be removed in a future version. Please adapt your code to use either `displot` (a figure-level function with similar flexibility) or `histplot` (an axes-level function for histograms).\n",
      "  warnings.warn(msg, FutureWarning)\n"
     ]
    },
    {
     "data": {
      "image/png": "[encoded data removed]",
      "text/plain": [
       "<Figure size 800x600 with 1 Axes>"
      ]
     },
     "metadata": {
      "needs_background": "light"
     },
     "output_type": "display_data"
    }
   ],
   "source": [
    "plot_hist(nodes['weights'], 'Weights')"
   ]
  },
  {
   "cell_type": "markdown",
   "metadata": {},
   "source": [
    "### Correlations"
   ]
  },
  {
   "cell_type": "code",
   "execution_count": 58,
   "metadata": {},
   "outputs": [
    {
     "data": {
      "text/html": [
       "<div>\n",
       "<style scoped>\n",
       "    .dataframe tbody tr th:only-of-type {\n",
       "        vertical-align: middle;\n",
       "    }\n",
       "\n",
       "    .dataframe tbody tr th {\n",
       "        vertical-align: top;\n",
       "    }\n",
       "\n",
       "    .dataframe thead th {\n",
       "        text-align: right;\n",
       "    }\n",
       "</style>\n",
       "<table border=\"1\" class=\"dataframe\">\n",
       "  <thead>\n",
       "    <tr style=\"text-align: right;\">\n",
       "      <th></th>\n",
       "      <th>assets</th>\n",
       "      <th>liabilities</th>\n",
       "      <th>buffer</th>\n",
       "      <th>weights</th>\n",
       "      <th>original_stress</th>\n",
       "      <th>additional_stress</th>\n",
       "      <th>original_losses</th>\n",
       "      <th>additional_losses</th>\n",
       "      <th>additional_defaults</th>\n",
       "    </tr>\n",
       "  </thead>\n",
       "  <tbody>\n",
       "    <tr>\n",
       "      <th>assets</th>\n",
       "      <td>1.000000</td>\n",
       "      <td>-0.008496</td>\n",
       "      <td>-0.050062</td>\n",
       "      <td>0.455492</td>\n",
       "      <td>0.455492</td>\n",
       "      <td>-0.038958</td>\n",
       "      <td>-0.050062</td>\n",
       "      <td>-0.010415</td>\n",
       "      <td>-0.014997</td>\n",
       "    </tr>\n",
       "    <tr>\n",
       "      <th>liabilities</th>\n",
       "      <td>-0.008496</td>\n",
       "      <td>1.000000</td>\n",
       "      <td>0.841430</td>\n",
       "      <td>0.872922</td>\n",
       "      <td>0.872922</td>\n",
       "      <td>0.672667</td>\n",
       "      <td>0.841430</td>\n",
       "      <td>0.943117</td>\n",
       "      <td>0.895663</td>\n",
       "    </tr>\n",
       "    <tr>\n",
       "      <th>buffer</th>\n",
       "      <td>-0.050062</td>\n",
       "      <td>0.841430</td>\n",
       "      <td>1.000000</td>\n",
       "      <td>0.791784</td>\n",
       "      <td>0.791784</td>\n",
       "      <td>0.622282</td>\n",
       "      <td>1.000000</td>\n",
       "      <td>0.814857</td>\n",
       "      <td>0.789095</td>\n",
       "    </tr>\n",
       "    <tr>\n",
       "      <th>weights</th>\n",
       "      <td>0.455492</td>\n",
       "      <td>0.872922</td>\n",
       "      <td>0.791784</td>\n",
       "      <td>1.000000</td>\n",
       "      <td>1.000000</td>\n",
       "      <td>0.578439</td>\n",
       "      <td>0.791784</td>\n",
       "      <td>0.824718</td>\n",
       "      <td>0.782851</td>\n",
       "    </tr>\n",
       "    <tr>\n",
       "      <th>original_stress</th>\n",
       "      <td>0.455492</td>\n",
       "      <td>0.872922</td>\n",
       "      <td>0.791784</td>\n",
       "      <td>1.000000</td>\n",
       "      <td>1.000000</td>\n",
       "      <td>0.578439</td>\n",
       "      <td>0.791784</td>\n",
       "      <td>0.824718</td>\n",
       "      <td>0.782851</td>\n",
       "    </tr>\n",
       "    <tr>\n",
       "      <th>additional_stress</th>\n",
       "      <td>-0.038958</td>\n",
       "      <td>0.672667</td>\n",
       "      <td>0.622282</td>\n",
       "      <td>0.578439</td>\n",
       "      <td>0.578439</td>\n",
       "      <td>1.000000</td>\n",
       "      <td>0.622282</td>\n",
       "      <td>0.873140</td>\n",
       "      <td>0.896896</td>\n",
       "    </tr>\n",
       "    <tr>\n",
       "      <th>original_losses</th>\n",
       "      <td>-0.050062</td>\n",
       "      <td>0.841430</td>\n",
       "      <td>1.000000</td>\n",
       "      <td>0.791784</td>\n",
       "      <td>0.791784</td>\n",
       "      <td>0.622282</td>\n",
       "      <td>1.000000</td>\n",
       "      <td>0.814857</td>\n",
       "      <td>0.789095</td>\n",
       "    </tr>\n",
       "    <tr>\n",
       "      <th>additional_losses</th>\n",
       "      <td>-0.010415</td>\n",
       "      <td>0.943117</td>\n",
       "      <td>0.814857</td>\n",
       "      <td>0.824718</td>\n",
       "      <td>0.824718</td>\n",
       "      <td>0.873140</td>\n",
       "      <td>0.814857</td>\n",
       "      <td>1.000000</td>\n",
       "      <td>0.972603</td>\n",
       "    </tr>\n",
       "    <tr>\n",
       "      <th>additional_defaults</th>\n",
       "      <td>-0.014997</td>\n",
       "      <td>0.895663</td>\n",
       "      <td>0.789095</td>\n",
       "      <td>0.782851</td>\n",
       "      <td>0.782851</td>\n",
       "      <td>0.896896</td>\n",
       "      <td>0.789095</td>\n",
       "      <td>0.972603</td>\n",
       "      <td>1.000000</td>\n",
       "    </tr>\n",
       "  </tbody>\n",
       "</table>\n",
       "</div>"
      ],
      "text/plain": [
       "                       assets  liabilities    buffer   weights  \\\n",
       "assets               1.000000    -0.008496 -0.050062  0.455492   \n",
       "liabilities         -0.008496     1.000000  0.841430  0.872922   \n",
       "buffer              -0.050062     0.841430  1.000000  0.791784   \n",
       "weights              0.455492     0.872922  0.791784  1.000000   \n",
       "original_stress      0.455492     0.872922  0.791784  1.000000   \n",
       "additional_stress   -0.038958     0.672667  0.622282  0.578439   \n",
       "original_losses     -0.050062     0.841430  1.000000  0.791784   \n",
       "additional_losses   -0.010415     0.943117  0.814857  0.824718   \n",
       "additional_defaults -0.014997     0.895663  0.789095  0.782851   \n",
       "\n",
       "                     original_stress  additional_stress  original_losses  \\\n",
       "assets                      0.455492          -0.038958        -0.050062   \n",
       "liabilities                 0.872922           0.672667         0.841430   \n",
       "buffer                      0.791784           0.622282         1.000000   \n",
       "weights                     1.000000           0.578439         0.791784   \n",
       "original_stress             1.000000           0.578439         0.791784   \n",
       "additional_stress           0.578439           1.000000         0.622282   \n",
       "original_losses             0.791784           0.622282         1.000000   \n",
       "additional_losses           0.824718           0.873140         0.814857   \n",
       "additional_defaults         0.782851           0.896896         0.789095   \n",
       "\n",
       "                     additional_losses  additional_defaults  \n",
       "assets                       -0.010415            -0.014997  \n",
       "liabilities                   0.943117             0.895663  \n",
       "buffer                        0.814857             0.789095  \n",
       "weights                       0.824718             0.782851  \n",
       "original_stress               0.824718             0.782851  \n",
       "additional_stress             0.873140             0.896896  \n",
       "original_losses               0.814857             0.789095  \n",
       "additional_losses             1.000000             0.972603  \n",
       "additional_defaults           0.972603             1.000000  "
      ]
     },
     "execution_count": 58,
     "metadata": {},
     "output_type": "execute_result"
    }
   ],
   "source": [
    "corr = nodes.corr()\n",
    "corr"
   ]
  },
  {
   "cell_type": "code",
   "execution_count": 96,
   "metadata": {},
   "outputs": [
    {
     "data": {
      "text/plain": [
       "<matplotlib.collections.LineCollection at 0x1ce8feddfa0>"
      ]
     },
     "execution_count": 96,
     "metadata": {},
     "output_type": "execute_result"
    },
    {
     "data": {
      "image/png": "[encoded data removed]",
      "text/plain": [
       "<Figure size 1152x432 with 2 Axes>"
      ]
     },
     "metadata": {
      "needs_background": "light"
     },
     "output_type": "display_data"
    }
   ],
   "source": [
    "plt.figure(figsize=(16, 6))\n",
    "# define the mask to set the values in the upper triangle to True\n",
    "mask = np.triu(np.ones_like(corr, dtype=bool))\n",
    "heatmap = sns.heatmap(corr, mask=mask, vmin=-1, vmax=1, annot=True, cmap='BrBG')\n",
    "heatmap.set_title('Correlation Small Heavy Tailed Dataset', fontdict={'fontsize':18}, pad=16)\n",
    "# add box lines\n",
    "lines_style = dict(\n",
    "    linestyles='dashed', \n",
    "    colors='blue', \n",
    "    linewidth=3,\n",
    ")\n",
    "heatmap.hlines([4, corr.shape[0]], xmin=0, xmax=4, **lines_style)\n",
    "heatmap.vlines([0, 4], ymin=4, ymax=corr.shape[0], **lines_style)"
   ]
  },
  {
   "cell_type": "markdown",
   "metadata": {},
   "source": [
    "## Get target"
   ]
  },
  {
   "cell_type": "markdown",
   "metadata": {},
   "source": [
    "CrossEntropyLoss since we have more than 2 classes"
   ]
  },
  {
   "cell_type": "code",
   "execution_count": 4,
   "metadata": {},
   "outputs": [
    {
     "data": {
      "text/plain": [
       "0.75    0.076151\n",
       "0.50    0.047829\n",
       "0.25    0.014961\n",
       "Name: additional_stress, dtype: float64"
      ]
     },
     "execution_count": 4,
     "metadata": {},
     "output_type": "execute_result"
    }
   ],
   "source": [
    "TARGET_COLUMN = 'additional_stress'\n",
    "QUANTILES = [0.75, 0.5, 0.25]\n",
    "\n",
    "quant = nodes[TARGET_COLUMN].quantile(QUANTILES)\n",
    "quant"
   ]
  },
  {
   "cell_type": "code",
   "execution_count": 5,
   "metadata": {},
   "outputs": [
    {
     "data": {
      "text/html": [
       "<div>\n",
       "<style scoped>\n",
       "    .dataframe tbody tr th:only-of-type {\n",
       "        vertical-align: middle;\n",
       "    }\n",
       "\n",
       "    .dataframe tbody tr th {\n",
       "        vertical-align: top;\n",
       "    }\n",
       "\n",
       "    .dataframe thead th {\n",
       "        text-align: right;\n",
       "    }\n",
       "</style>\n",
       "<table border=\"1\" class=\"dataframe\">\n",
       "  <thead>\n",
       "    <tr style=\"text-align: right;\">\n",
       "      <th></th>\n",
       "      <th>0.75</th>\n",
       "      <th>0.50</th>\n",
       "      <th>0.25</th>\n",
       "      <th>0.00</th>\n",
       "    </tr>\n",
       "    <tr>\n",
       "      <th>bank</th>\n",
       "      <th></th>\n",
       "      <th></th>\n",
       "      <th></th>\n",
       "      <th></th>\n",
       "    </tr>\n",
       "  </thead>\n",
       "  <tbody>\n",
       "    <tr>\n",
       "      <th>b1</th>\n",
       "      <td>True</td>\n",
       "      <td>False</td>\n",
       "      <td>False</td>\n",
       "      <td>False</td>\n",
       "    </tr>\n",
       "    <tr>\n",
       "      <th>b10</th>\n",
       "      <td>False</td>\n",
       "      <td>False</td>\n",
       "      <td>False</td>\n",
       "      <td>True</td>\n",
       "    </tr>\n",
       "    <tr>\n",
       "      <th>b100</th>\n",
       "      <td>False</td>\n",
       "      <td>False</td>\n",
       "      <td>False</td>\n",
       "      <td>True</td>\n",
       "    </tr>\n",
       "    <tr>\n",
       "      <th>b101</th>\n",
       "      <td>True</td>\n",
       "      <td>False</td>\n",
       "      <td>False</td>\n",
       "      <td>False</td>\n",
       "    </tr>\n",
       "    <tr>\n",
       "      <th>b102</th>\n",
       "      <td>False</td>\n",
       "      <td>True</td>\n",
       "      <td>False</td>\n",
       "      <td>False</td>\n",
       "    </tr>\n",
       "    <tr>\n",
       "      <th>...</th>\n",
       "      <td>...</td>\n",
       "      <td>...</td>\n",
       "      <td>...</td>\n",
       "      <td>...</td>\n",
       "    </tr>\n",
       "    <tr>\n",
       "      <th>b95</th>\n",
       "      <td>False</td>\n",
       "      <td>True</td>\n",
       "      <td>False</td>\n",
       "      <td>False</td>\n",
       "    </tr>\n",
       "    <tr>\n",
       "      <th>b96</th>\n",
       "      <td>False</td>\n",
       "      <td>False</td>\n",
       "      <td>True</td>\n",
       "      <td>False</td>\n",
       "    </tr>\n",
       "    <tr>\n",
       "      <th>b97</th>\n",
       "      <td>False</td>\n",
       "      <td>True</td>\n",
       "      <td>False</td>\n",
       "      <td>False</td>\n",
       "    </tr>\n",
       "    <tr>\n",
       "      <th>b98</th>\n",
       "      <td>False</td>\n",
       "      <td>False</td>\n",
       "      <td>False</td>\n",
       "      <td>True</td>\n",
       "    </tr>\n",
       "    <tr>\n",
       "      <th>b99</th>\n",
       "      <td>False</td>\n",
       "      <td>False</td>\n",
       "      <td>True</td>\n",
       "      <td>False</td>\n",
       "    </tr>\n",
       "  </tbody>\n",
       "</table>\n",
       "<p>125 rows × 4 columns</p>\n",
       "</div>"
      ],
      "text/plain": [
       "       0.75   0.50   0.25   0.00\n",
       "bank                            \n",
       "b1     True  False  False  False\n",
       "b10   False  False  False   True\n",
       "b100  False  False  False   True\n",
       "b101   True  False  False  False\n",
       "b102  False   True  False  False\n",
       "...     ...    ...    ...    ...\n",
       "b95   False   True  False  False\n",
       "b96   False  False   True  False\n",
       "b97   False   True  False  False\n",
       "b98   False  False  False   True\n",
       "b99   False  False   True  False\n",
       "\n",
       "[125 rows x 4 columns]"
      ]
     },
     "execution_count": 5,
     "metadata": {},
     "output_type": "execute_result"
    }
   ],
   "source": [
    "is_quant = pd.DataFrame()\n",
    "free = np.ones(nodes.shape[0]).astype(bool)\n",
    "for k,v in quant.iteritems():\n",
    "    is_quant[k] = np.logical_and(nodes[TARGET_COLUMN] >= v, free)\n",
    "    free = np.logical_and(free, np.logical_not(is_quant[k]))\n",
    "is_quant[0.0] = free\n",
    "\n",
    "is_quant"
   ]
  },
  {
   "cell_type": "code",
   "execution_count": 6,
   "metadata": {},
   "outputs": [
    {
     "name": "stdout",
     "output_type": "stream",
     "text": [
      "Length 125\n",
      "Number of True values 125\n"
     ]
    }
   ],
   "source": [
    "print(f\"Length {is_quant.shape[0]}\")\n",
    "print(f\"Number of True values {is_quant.sum().sum()}\")"
   ]
  },
  {
   "cell_type": "code",
   "execution_count": 7,
   "metadata": {},
   "outputs": [
    {
     "data": {
      "text/plain": [
       "dtype('float64')"
      ]
     },
     "execution_count": 7,
     "metadata": {},
     "output_type": "execute_result"
    }
   ],
   "source": [
    "is_quant_np = is_quant.to_numpy().astype(float)\n",
    "is_quant_np.dtype"
   ]
  },
  {
   "cell_type": "code",
   "execution_count": 8,
   "metadata": {},
   "outputs": [
    {
     "data": {
      "text/plain": [
       "array([0, 3, 3, 0, 1, 3, 3, 3, 3, 2, 1, 2, 1, 0, 2, 2, 3, 0, 2, 1, 0, 2,\n",
       "       2, 1, 0, 0, 1, 2, 1, 0, 1, 2, 3, 3, 2, 0, 2, 3, 0, 1, 1, 0, 2, 0,\n",
       "       0, 0, 0, 3, 2, 2, 3, 0, 0, 2, 3, 2, 2, 3, 3, 2, 1, 3, 1, 0, 0, 2,\n",
       "       3, 2, 0, 1, 0, 3, 2, 1, 3, 3, 0, 2, 3, 3, 1, 2, 0, 1, 2, 3, 3, 0,\n",
       "       3, 1, 1, 0, 1, 1, 3, 3, 3, 0, 0, 3, 1, 2, 3, 1, 0, 1, 2, 2, 0, 0,\n",
       "       1, 1, 1, 0, 2, 1, 0, 2, 1, 1, 1, 2, 1, 3, 2], dtype=int64)"
      ]
     },
     "execution_count": 8,
     "metadata": {},
     "output_type": "execute_result"
    }
   ],
   "source": [
    "target_np = is_quant_np.argmax(1)\n",
    "target_np"
   ]
  },
  {
   "cell_type": "code",
   "execution_count": 9,
   "metadata": {},
   "outputs": [
    {
     "data": {
      "text/html": [
       "<div>\n",
       "<style scoped>\n",
       "    .dataframe tbody tr th:only-of-type {\n",
       "        vertical-align: middle;\n",
       "    }\n",
       "\n",
       "    .dataframe tbody tr th {\n",
       "        vertical-align: top;\n",
       "    }\n",
       "\n",
       "    .dataframe thead th {\n",
       "        text-align: right;\n",
       "    }\n",
       "</style>\n",
       "<table border=\"1\" class=\"dataframe\">\n",
       "  <thead>\n",
       "    <tr style=\"text-align: right;\">\n",
       "      <th></th>\n",
       "      <th>label</th>\n",
       "    </tr>\n",
       "    <tr>\n",
       "      <th>bank</th>\n",
       "      <th></th>\n",
       "    </tr>\n",
       "  </thead>\n",
       "  <tbody>\n",
       "    <tr>\n",
       "      <th>b1</th>\n",
       "      <td>0</td>\n",
       "    </tr>\n",
       "    <tr>\n",
       "      <th>b10</th>\n",
       "      <td>3</td>\n",
       "    </tr>\n",
       "    <tr>\n",
       "      <th>b100</th>\n",
       "      <td>3</td>\n",
       "    </tr>\n",
       "    <tr>\n",
       "      <th>b101</th>\n",
       "      <td>0</td>\n",
       "    </tr>\n",
       "    <tr>\n",
       "      <th>b102</th>\n",
       "      <td>1</td>\n",
       "    </tr>\n",
       "    <tr>\n",
       "      <th>...</th>\n",
       "      <td>...</td>\n",
       "    </tr>\n",
       "    <tr>\n",
       "      <th>b95</th>\n",
       "      <td>1</td>\n",
       "    </tr>\n",
       "    <tr>\n",
       "      <th>b96</th>\n",
       "      <td>2</td>\n",
       "    </tr>\n",
       "    <tr>\n",
       "      <th>b97</th>\n",
       "      <td>1</td>\n",
       "    </tr>\n",
       "    <tr>\n",
       "      <th>b98</th>\n",
       "      <td>3</td>\n",
       "    </tr>\n",
       "    <tr>\n",
       "      <th>b99</th>\n",
       "      <td>2</td>\n",
       "    </tr>\n",
       "  </tbody>\n",
       "</table>\n",
       "<p>125 rows × 1 columns</p>\n",
       "</div>"
      ],
      "text/plain": [
       "      label\n",
       "bank       \n",
       "b1        0\n",
       "b10       3\n",
       "b100      3\n",
       "b101      0\n",
       "b102      1\n",
       "...     ...\n",
       "b95       1\n",
       "b96       2\n",
       "b97       1\n",
       "b98       3\n",
       "b99       2\n",
       "\n",
       "[125 rows x 1 columns]"
      ]
     },
     "execution_count": 9,
     "metadata": {},
     "output_type": "execute_result"
    }
   ],
   "source": [
    "is_quant = pd.DataFrame(data=target_np, index=is_quant.index, columns=['label'])\n",
    "is_quant"
   ]
  },
  {
   "cell_type": "markdown",
   "metadata": {},
   "source": [
    "## Dataset"
   ]
  },
  {
   "cell_type": "code",
   "execution_count": 10,
   "metadata": {},
   "outputs": [
    {
     "data": {
      "text/plain": [
       "{'weight': 0.37490927455228}"
      ]
     },
     "execution_count": 10,
     "metadata": {},
     "output_type": "execute_result"
    }
   ],
   "source": [
    "graph = nx.convert_matrix.from_pandas_adjacency(network, create_using=nx.DiGraph)\n",
    "graph.edges[('b1', 'b55')]"
   ]
  },
  {
   "cell_type": "markdown",
   "metadata": {},
   "source": [
    "In order to group the features together we need to get a dictionary of {\"bank\":{\"feat\":values}}"
   ]
  },
  {
   "cell_type": "code",
   "execution_count": 13,
   "metadata": {},
   "outputs": [
    {
     "data": {
      "text/plain": [
       "{'feat': tensor([22.2623,  0.9958])}"
      ]
     },
     "execution_count": 13,
     "metadata": {},
     "output_type": "execute_result"
    }
   ],
   "source": [
    "{k:{\"feat\":torch.as_tensor(v, dtype=torch.float)} for k,v in nodes_features.T.to_dict('list').items()}['b10']"
   ]
  },
  {
   "cell_type": "code",
   "execution_count": 14,
   "metadata": {},
   "outputs": [
    {
     "data": {
      "text/plain": [
       "{'feat': tensor([22.2623,  0.9958])}"
      ]
     },
     "execution_count": 14,
     "metadata": {},
     "output_type": "execute_result"
    }
   ],
   "source": [
    "nx.set_node_attributes(graph, {k:{\"feat\":torch.as_tensor(v, dtype=torch.float)} for k,v in nodes_features.T.to_dict('list').items()})\n",
    "graph.nodes(True)['b10']"
   ]
  },
  {
   "cell_type": "markdown",
   "metadata": {},
   "source": [
    "Add target to graph"
   ]
  },
  {
   "cell_type": "code",
   "execution_count": 15,
   "metadata": {},
   "outputs": [
    {
     "data": {
      "text/plain": [
       "{'label': 3}"
      ]
     },
     "execution_count": 15,
     "metadata": {},
     "output_type": "execute_result"
    }
   ],
   "source": [
    "is_quant.to_dict('index')['b10']"
   ]
  },
  {
   "cell_type": "code",
   "execution_count": 16,
   "metadata": {},
   "outputs": [
    {
     "data": {
      "text/plain": [
       "{'feat': tensor([22.2623,  0.9958]), 'label': 3}"
      ]
     },
     "execution_count": 16,
     "metadata": {},
     "output_type": "execute_result"
    }
   ],
   "source": [
    "nx.set_node_attributes(graph, is_quant.to_dict('index'))\n",
    "graph.nodes(True)['b10']"
   ]
  },
  {
   "cell_type": "markdown",
   "metadata": {},
   "source": [
    "### Create dgl graph"
   ]
  },
  {
   "cell_type": "code",
   "execution_count": 17,
   "metadata": {},
   "outputs": [
    {
     "name": "stdout",
     "output_type": "stream",
     "text": [
      "Graph with 125 nodes\n",
      "Graph with 249 edges\n"
     ]
    }
   ],
   "source": [
    "print(f\"Graph with {graph.number_of_nodes()} nodes\")\n",
    "print(f\"Graph with {graph.number_of_edges()} edges\")"
   ]
  },
  {
   "cell_type": "code",
   "execution_count": 18,
   "metadata": {},
   "outputs": [
    {
     "data": {
      "text/plain": [
       "Graph(num_nodes=125, num_edges=249,\n",
       "      ndata_schemes={'feat': Scheme(shape=(2,), dtype=torch.float32), 'label': Scheme(shape=(), dtype=torch.int64)}\n",
       "      edata_schemes={'weight': Scheme(shape=(), dtype=torch.float32)})"
      ]
     },
     "execution_count": 18,
     "metadata": {},
     "output_type": "execute_result"
    }
   ],
   "source": [
    "graph_dgl = dgl.from_networkx(graph,node_attrs=['feat', 'label'],edge_attrs=['weight'])\n",
    "graph_dgl"
   ]
  },
  {
   "cell_type": "markdown",
   "metadata": {},
   "source": [
    "### Dataset class"
   ]
  },
  {
   "cell_type": "markdown",
   "metadata": {},
   "source": [
    "https://docs.dgl.ai/en/0.6.x/api/python/dgl.data.html\n",
    "\n",
    "The basic DGL dataset for creating graph datasets. This class defines a basic template class for DGL Dataset. The following steps will are executed automatically:\n",
    "\n",
    "1. Check whether there is a dataset cache on disk (already processed and stored on the disk) by invoking has_cache(). If true, goto 5.\n",
    "2. Call download() to download the data.\n",
    "3. Call process() to process the data.\n",
    "4. Call save() to save the processed dataset on disk and goto 6.\n",
    "5. Call load() to load the processed dataset from disk.\n",
    "6. Done."
   ]
  },
  {
   "cell_type": "code",
   "execution_count": 19,
   "metadata": {},
   "outputs": [],
   "source": [
    "class ContagionDataset(dgl.data.DGLDataset):\n",
    "    def __init__(self, sets_lengths=(0.8,0.1,0.1)):\n",
    "        super().__init__(name='sistemic_risk', verbose=True)\n",
    "        self.sets_lengths = sets_lengths\n",
    "\n",
    "    def process(self):\n",
    "        # graph with nodes and edges features\n",
    "        self.graph = graph_dgl\n",
    "\n",
    "        # for each graph in list: in this case only one\n",
    "        # create train, validation and test masks\n",
    "        n_nodes = self.graph.num_nodes()\n",
    "        n_train, n_val = (int(n_nodes * k) for k in self.sets_lengths[:2])\n",
    "        train_mask, val_mask, test_mask = [torch.zeros(n_nodes, dtype=torch.bool) for k in range(3)]\n",
    "        train_mask[:n_train] = True\n",
    "        val_mask[n_train:n_train+n_val] = True\n",
    "        test_mask[n_train+n_val:] = True\n",
    "\n",
    "        # shuffle\n",
    "        idx = torch.randperm(n_nodes)\n",
    "        train_mask, val_mask[idx], test_mask[idx] = train_mask[idx], val_mask[idx], test_mask[idx]\n",
    "\n",
    "        # set mask in nodes\n",
    "        self.graph.ndata['train_mask'] = train_mask\n",
    "        self.graph.ndata['val_mask'] = val_mask\n",
    "        self.graph.ndata['test_mask'] = test_mask\n",
    "\n",
    "    def __len__(self):\n",
    "        return len(self.graphs)\n",
    "\n",
    "    def __getitem__(self,i):\n",
    "        return self.graphs[i]\n",
    "    "
   ]
  },
  {
   "cell_type": "markdown",
   "metadata": {},
   "source": [
    "### Try DropEdge"
   ]
  },
  {
   "cell_type": "code",
   "execution_count": 20,
   "metadata": {},
   "outputs": [],
   "source": [
    "import copy\n",
    "np.random.seed(123)"
   ]
  },
  {
   "cell_type": "code",
   "execution_count": 21,
   "metadata": {},
   "outputs": [
    {
     "data": {
      "text/plain": [
       "Graph(num_nodes=125, num_edges=249,\n",
       "      ndata_schemes={'feat': Scheme(shape=(2,), dtype=torch.float32), 'label': Scheme(shape=(), dtype=torch.int64)}\n",
       "      edata_schemes={'weight': Scheme(shape=(), dtype=torch.float32)})"
      ]
     },
     "execution_count": 21,
     "metadata": {},
     "output_type": "execute_result"
    }
   ],
   "source": [
    "k = copy.deepcopy(graph_dgl)\n",
    "k"
   ]
  },
  {
   "cell_type": "code",
   "execution_count": 22,
   "metadata": {},
   "outputs": [
    {
     "data": {
      "text/plain": [
       "array([109, 126,  66, 220,  98, 230,  17,  83, 106, 123,  57, 214, 225,\n",
       "        96, 113, 126,  47,  73,  32, 174])"
      ]
     },
     "execution_count": 22,
     "metadata": {},
     "output_type": "execute_result"
    }
   ],
   "source": [
    "remove_eids = np.random.randint(k.num_edges(), size=20)\n",
    "remove_eids"
   ]
  },
  {
   "cell_type": "code",
   "execution_count": 23,
   "metadata": {},
   "outputs": [
    {
     "data": {
      "text/plain": [
       "Graph(num_nodes=125, num_edges=230,\n",
       "      ndata_schemes={'feat': Scheme(shape=(2,), dtype=torch.float32), 'label': Scheme(shape=(), dtype=torch.int64)}\n",
       "      edata_schemes={'weight': Scheme(shape=(), dtype=torch.float32)})"
      ]
     },
     "execution_count": 23,
     "metadata": {},
     "output_type": "execute_result"
    }
   ],
   "source": [
    "k.remove_edges(remove_eids)\n",
    "k"
   ]
  },
  {
   "cell_type": "code",
   "execution_count": 24,
   "metadata": {},
   "outputs": [
    {
     "data": {
      "text/plain": [
       "Graph(num_nodes=125, num_edges=249,\n",
       "      ndata_schemes={'feat': Scheme(shape=(2,), dtype=torch.float32), 'label': Scheme(shape=(), dtype=torch.int64)}\n",
       "      edata_schemes={'weight': Scheme(shape=(), dtype=torch.float32)})"
      ]
     },
     "execution_count": 24,
     "metadata": {},
     "output_type": "execute_result"
    }
   ],
   "source": [
    "graph_dgl"
   ]
  }
 ],
 "metadata": {
  "interpreter": {
   "hash": "2da91f19cea543ea127b8c1ff0ea9ffb552ab46e9cf91a4314fee3111aa128d8"
  },
  "kernelspec": {
   "display_name": "Python 3.9.7 64-bit ('venv': venv)",
   "language": "python",
   "name": "python3"
  },
  "language_info": {
   "codemirror_mode": {
    "name": "ipython",
    "version": 3
   },
   "file_extension": ".py",
   "mimetype": "text/x-python",
   "name": "python",
   "nbconvert_exporter": "python",
   "pygments_lexer": "ipython3",
   "version": "3.9.5"
  },
  "orig_nbformat": 4
 },
 "nbformat": 4,
 "nbformat_minor": 2
}
