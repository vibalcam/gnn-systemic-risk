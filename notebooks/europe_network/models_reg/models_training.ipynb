{
 "cells": [
  {
   "cell_type": "code",
   "execution_count": 1,
   "metadata": {},
   "outputs": [],
   "source": [
    "import sys\n",
    "sys.path.append('../../../')"
   ]
  },
  {
   "cell_type": "code",
   "execution_count": 2,
   "metadata": {},
   "outputs": [],
   "source": [
    "from win10toast import ToastNotifier\n",
    "toast = ToastNotifier()"
   ]
  },
  {
   "cell_type": "code",
   "execution_count": 3,
   "metadata": {},
   "outputs": [
    {
     "name": "stderr",
     "output_type": "stream",
     "text": [
      "Using backend: pytorch\n"
     ]
    }
   ],
   "source": [
    "import torch\n",
    "import itertools\n",
    "from sklearn.linear_model import LogisticRegression\n",
    "from sklearn.model_selection import train_test_split\n",
    "from sklearn.ensemble import RandomForestClassifier\n",
    "from sklearn.metrics import classification_report\n",
    "from sklearn.neighbors import KNeighborsClassifier\n",
    "import pandas as pd\n",
    "import numpy as np\n",
    "from tqdm.auto import tqdm, trange\n",
    "\n",
    "from models.train_reg import train, test\n",
    "from models.models import GCN, GAT, GraphSAGE, FNN\n",
    "from models.utils import ContagionDataset, set_seed\n",
    "from sklearn.metrics import matthews_corrcoef, mean_squared_error, mean_absolute_error"
   ]
  },
  {
   "cell_type": "code",
   "execution_count": 4,
   "metadata": {},
   "outputs": [],
   "source": [
    "def pretty(ld, indent=0):\n",
    "    with open('result.txt', 'w', encoding='utf-8') as file:\n",
    "        for d in tqdm(ld):\n",
    "            file.write('{' + '\\n')\n",
    "            for key, value in d.items():\n",
    "                file.write('\\t' * (indent+1) + str(key) + ':' + str(value) + '\\n')\n",
    "                # file.write('\\t' * (indent+1) + str(key) + '\\n')\n",
    "                # file.write('\\t' * (indent+2) + str(value) + '\\n')\n",
    "            file.write('},\\n')"
   ]
  },
  {
   "cell_type": "code",
   "execution_count": 41,
   "metadata": {},
   "outputs": [],
   "source": [
    "do_train = False\n",
    "\n",
    "seed = 4444\n",
    "set_seed(seed)\n",
    "\n",
    "metric_filter_1 = 'test_rmse_perc'\n",
    "metric_filter_2 = 'val_rmse_perc'\n",
    "\n",
    "data_dir = '../data'\n",
    "log_path = './logs'\n",
    "save_path = './saved'"
   ]
  },
  {
   "cell_type": "markdown",
   "metadata": {},
   "source": [
    "# Big dataset: Additional stress"
   ]
  },
  {
   "cell_type": "code",
   "execution_count": 6,
   "metadata": {},
   "outputs": [],
   "source": [
    "sets_lengths = (0.5, 0.25, 0.25)\n",
    "target = 'additional_stress'\n",
    "\n",
    "dataset = ContagionDataset(\n",
    "    raw_dir=data_dir,\n",
    "    drop_edges=0,\n",
    "    sets_lengths=sets_lengths,\n",
    "    target = target,\n",
    ")\n",
    "\n",
    "out_feats = 1"
   ]
  },
  {
   "cell_type": "markdown",
   "metadata": {},
   "source": [
    "## Baseline"
   ]
  },
  {
   "cell_type": "markdown",
   "metadata": {},
   "source": [
    "### FNN"
   ]
  },
  {
   "cell_type": "code",
   "execution_count": 7,
   "metadata": {},
   "outputs": [],
   "source": [
    "save_model = f'{save_path}_fnn'\n",
    "log_dir = f'{log_path}_fnn'\n",
    "\n",
    "dataset_val = ContagionDataset(\n",
    "    raw_dir=data_dir,\n",
    "    drop_edges=0,\n",
    "    sets_lengths=sets_lengths,\n",
    "    add_self_loop = False,\n",
    "    target = target,\n",
    ")\n",
    "\n",
    "# fnn_model = dict(\n",
    "#     in_features=[len(dataset_val.node_attributes)],\n",
    "#     h_features=[[5, 10], [10, 15], [5,5,5], [5, 10, 15], [5, 10, 15, 20], [5], [10], [15]],\n",
    "#     out_features=[dataset_val.num_classes],\n",
    "#     activation=[torch.nn.ReLU()],\n",
    "#     norm_nodes = [None, 'bn', 'gn'],\n",
    "#     dropout=[0.2, 0.5, 0.0],\n",
    "#     # other\n",
    "#     lr=[1, 1e-1, 1e-2],\n",
    "#     label_smoothing=[0.0, 0.2, 0.4],\n",
    "# )\n",
    "\n",
    "fnn_model = dict(\n",
    "    in_features=[len(dataset_val.node_attributes)],\n",
    "    h_features=[[100], [100] * 2, [100] * 3, [200], [200]*2,[200]*3,[500],[500]*2,[500]*3],\n",
    "    out_features=[dataset_val.num_classes],\n",
    "    activation=[torch.nn.ReLU()],\n",
    "    norm_nodes = [None, 'bn', 'gn'],\n",
    "    dropout=[0.2, 0.0],\n",
    "    # other\n",
    "    lr=[1e-1],\n",
    ")\n",
    "list_model = [dict(zip(fnn_model.keys(), k)) for k in itertools.product(*fnn_model.values())]"
   ]
  },
  {
   "cell_type": "code",
   "execution_count": 8,
   "metadata": {
    "collapsed": false,
    "pycharm": {
     "name": "#%%\n"
    }
   },
   "outputs": [
    {
     "name": "stderr",
     "output_type": "stream",
     "text": [
      "100%|██████████| 54/54 [17:29<00:00, 19.43s/it]\n"
     ]
    }
   ],
   "source": [
    "if do_train:\n",
    "    for d in tqdm(list_model):\n",
    "        d = d.copy()\n",
    "        lr = d.pop('lr')\n",
    "\n",
    "        train(\n",
    "            model=FNN(**d),\n",
    "            dict_model=d,\n",
    "            dataset_train=dataset_val,\n",
    "            dataset_val=dataset_val,\n",
    "            log_dir=log_dir,\n",
    "            save_path=save_model,\n",
    "            lr=lr,\n",
    "            optimizer_name=\"adamw\",\n",
    "            n_epochs=200,\n",
    "            scheduler_mode='max_val_mcc',\n",
    "            debug_mode=False,\n",
    "            steps_save=10,\n",
    "            use_cpu=False,\n",
    "            use_edge_weight=False,\n",
    "            loss_type='mse',\n",
    "            scheduler_patience=20,\n",
    "        )"
   ]
  },
  {
   "cell_type": "markdown",
   "metadata": {},
   "source": [
    "#### Results"
   ]
  },
  {
   "cell_type": "code",
   "execution_count": 9,
   "metadata": {},
   "outputs": [
    {
     "name": "stderr",
     "output_type": "stream",
     "text": [
      "100%|██████████| 1134/1134 [01:33<00:00, 12.10it/s]\n"
     ]
    }
   ],
   "source": [
    "res_edges_fnn = test(\n",
    "    dataset=dataset_val,\n",
    "    save_path=save_model,\n",
    "    n_runs=1,\n",
    "    debug_mode=False,\n",
    "    use_cpu=False,\n",
    "    save=True,\n",
    "    use_edge_weight=False,\n",
    ")"
   ]
  },
  {
   "cell_type": "code",
   "execution_count": 42,
   "metadata": {},
   "outputs": [
    {
     "data": {
      "text/plain": [
       "{'in_features': 4,\n",
       " 'h_features': [100, 100, 100],\n",
       " 'out_features': 4,\n",
       " 'activation': ReLU(),\n",
       " 'norm_nodes': 'gn',\n",
       " 'dropout': 0.0,\n",
       " 'train_lr': 0.1,\n",
       " 'train_optimizer_name': 'adamw',\n",
       " 'train_scheduler_mode': 'max_val_mcc',\n",
       " 'train_use_edge_weight': False,\n",
       " 'train_loss_type': 'mse',\n",
       " 'train_scheduler_patience': 20,\n",
       " 'train_self_loop': False,\n",
       " 'train_drop_edges': 0,\n",
       " 'train_loss': 0.52224106,\n",
       " 'train_acc': 0.5664820075035095,\n",
       " 'val_acc': 0.5955678820610046,\n",
       " 'epoch': 70,\n",
       " 'model_class': 'fnn',\n",
       " 'path_name': '4_[100_100_100]_4_ReLU()_gn_0.0_0.1_adamw_max_val_mcc_False_mse_20_False_0_70',\n",
       " 'train_rmse': 0.8093977104857736,\n",
       " 'val_rmse': 0.871207650381413,\n",
       " 'test_rmse': 0.902443589446434,\n",
       " 'train_rmse_perc': 0.1884183,\n",
       " 'val_rmse_perc': 0.21049692,\n",
       " 'test_rmse_perc': 0.21672378,\n",
       " 'train_mcc': 0.42365982598505986,\n",
       " 'val_mcc': 0.4587277287084364,\n",
       " 'test_mcc': 0.4701168731181468,\n",
       " 'test_acc': 0.6011080145835876}"
      ]
     },
     "execution_count": 42,
     "metadata": {},
     "output_type": "execute_result"
    }
   ],
   "source": [
    "res_edges = res_edges_fnn\n",
    "res_edges[0]"
   ]
  },
  {
   "cell_type": "code",
   "execution_count": 46,
   "metadata": {},
   "outputs": [
    {
     "data": {
      "text/plain": [
       "{'in_features': 4,\n",
       " 'h_features': [200, 200, 200],\n",
       " 'out_features': 4,\n",
       " 'activation': ReLU(),\n",
       " 'norm_nodes': 'bn',\n",
       " 'dropout': 0.0,\n",
       " 'train_lr': 0.1,\n",
       " 'train_optimizer_name': 'adamw',\n",
       " 'train_scheduler_mode': 'max_val_mcc',\n",
       " 'train_use_edge_weight': False,\n",
       " 'train_loss_type': 'mse',\n",
       " 'train_scheduler_patience': 20,\n",
       " 'train_self_loop': False,\n",
       " 'train_drop_edges': 0,\n",
       " 'train_loss': 0.45421863,\n",
       " 'train_acc': 0.5484764575958252,\n",
       " 'val_acc': 0.5290858745574951,\n",
       " 'epoch': 150,\n",
       " 'model_class': 'fnn',\n",
       " 'path_name': '4_[200_200_200]_4_ReLU()_bn_0.0_0.1_adamw_max_val_mcc_False_mse_20_False_0_150',\n",
       " 'train_rmse': 0.7770959505386,\n",
       " 'val_rmse': 0.8453883370636321,\n",
       " 'test_rmse': 0.8791206888678982,\n",
       " 'train_rmse_perc': 0.17907526,\n",
       " 'val_rmse_perc': 0.20652014,\n",
       " 'test_rmse_perc': 0.21113515,\n",
       " 'train_mcc': 0.3987461700751778,\n",
       " 'val_mcc': 0.374427161303355,\n",
       " 'test_mcc': 0.35828216171561034,\n",
       " 'test_acc': 0.5180055499076843}"
      ]
     },
     "execution_count": 46,
     "metadata": {},
     "output_type": "execute_result"
    }
   ],
   "source": [
    "all = res_edges[2]\n",
    "# ascending order\n",
    "# sort_idx = np.argsort([k['dict'][metric_filter_1] for k in all])[::-1]\n",
    "sort_idx = np.argsort([k['dict'][metric_filter_1] for k in all])\n",
    "all[sort_idx[0]]['dict']"
   ]
  },
  {
   "cell_type": "code",
   "execution_count": 48,
   "metadata": {},
   "outputs": [
    {
     "data": {
      "text/plain": [
       "{'in_features': 4,\n",
       " 'h_features': [200, 200, 200],\n",
       " 'out_features': 4,\n",
       " 'activation': ReLU(),\n",
       " 'norm_nodes': 'bn',\n",
       " 'dropout': 0.0,\n",
       " 'train_lr': 0.1,\n",
       " 'train_optimizer_name': 'adamw',\n",
       " 'train_scheduler_mode': 'max_val_mcc',\n",
       " 'train_use_edge_weight': False,\n",
       " 'train_loss_type': 'mse',\n",
       " 'train_scheduler_patience': 20,\n",
       " 'train_self_loop': False,\n",
       " 'train_drop_edges': 0,\n",
       " 'train_loss': 0.45421863,\n",
       " 'train_acc': 0.5484764575958252,\n",
       " 'val_acc': 0.5290858745574951,\n",
       " 'epoch': 150,\n",
       " 'model_class': 'fnn',\n",
       " 'path_name': '4_[200_200_200]_4_ReLU()_bn_0.0_0.1_adamw_max_val_mcc_False_mse_20_False_0_150',\n",
       " 'train_rmse': 0.7770959505386,\n",
       " 'val_rmse': 0.8453883370636321,\n",
       " 'test_rmse': 0.8791206888678982,\n",
       " 'train_rmse_perc': 0.17907526,\n",
       " 'val_rmse_perc': 0.20652014,\n",
       " 'test_rmse_perc': 0.21113515,\n",
       " 'train_mcc': 0.3987461700751778,\n",
       " 'val_mcc': 0.374427161303355,\n",
       " 'test_mcc': 0.35828216171561034,\n",
       " 'test_acc': 0.5180055499076843}"
      ]
     },
     "execution_count": 48,
     "metadata": {},
     "output_type": "execute_result"
    }
   ],
   "source": [
    "all = res_edges[2]\n",
    "# ascending order\n",
    "# sort_idx = np.argsort([k['dict'][metric_filter_2] for k in all])[::-1]\n",
    "sort_idx = np.argsort([k['dict'][metric_filter_1] for k in all])\n",
    "all[sort_idx[0]]['dict']"
   ]
  },
  {
   "cell_type": "code",
   "execution_count": 45,
   "metadata": {},
   "outputs": [
    {
     "name": "stderr",
     "output_type": "stream",
     "text": [
      "100%|██████████| 1134/1134 [00:00<00:00, 23205.06it/s]\n"
     ]
    }
   ],
   "source": [
    "pretty([all[k]['dict'] for k in sort_idx])"
   ]
  },
  {
   "cell_type": "markdown",
   "metadata": {
    "collapsed": false
   },
   "source": [
    "### GCN"
   ]
  },
  {
   "cell_type": "code",
   "execution_count": null,
   "metadata": {},
   "outputs": [],
   "source": [
    "save_model = f'{save_path}_gcn'\n",
    "log_dir = f'{log_path}_gcn'\n",
    "\n",
    "add_self_loop = True\n",
    "\n",
    "dataset_val = ContagionDataset(\n",
    "    raw_dir=data_dir,\n",
    "    drop_edges=0,\n",
    "    sets_lengths=sets_lengths,\n",
    "    add_self_loop = add_self_loop,\n",
    "    target = target,\n",
    ")\n",
    "\n",
    "gcn_model = dict(\n",
    "    in_features=[len(dataset_val.node_attributes)],\n",
    "    h_features=[[15] * 3, [10, 15, 20], [5, 10, 15, 20],],\n",
    "    out_features=[dataset_val.num_classes],\n",
    "    activation=[torch.nn.ReLU()],\n",
    "    norm_edges=['both', 'none'],\n",
    "    norm_nodes=[None, 'bn', 'gn'],\n",
    "    dropout=[0.2, 0.0],\n",
    "    # other\n",
    "    lr=[1e-1],\n",
    "    use_edge_weight=[True,],\n",
    "    drop_edges=[0,0.2],\n",
    ")\n",
    "list_model = [dict(zip(gcn_model.keys(), k)) for k in itertools.product(*gcn_model.values())]\n",
    "\n",
    "# gcn_model = dict(\n",
    "#     in_features=[len(dataset_val.node_attributes)],\n",
    "#     h_features=[[10] * 3],\n",
    "#     out_features=[dataset_val.num_classes],\n",
    "#     activation=[torch.nn.ReLU()],\n",
    "#     norm_edges=['both', 'none'],\n",
    "#     norm_nodes=[None, 'bn', 'gn'],\n",
    "#     dropout=[0.2, 0.0],\n",
    "#     # other\n",
    "#     lr=[1],\n",
    "#     label_smoothing=[0.0,],\n",
    "#     use_edge_weight=[True, ],\n",
    "#     drop_edges=[0,0.2],\n",
    "# )\n",
    "# list_model = [{i:j[k] for i,j in gcn_model.items()} for k in range(len(gcn_model['in_features']))]"
   ]
  },
  {
   "cell_type": "code",
   "execution_count": null,
   "metadata": {
    "collapsed": false,
    "pycharm": {
     "name": "#%%\n"
    }
   },
   "outputs": [],
   "source": [
    "if do_train:\n",
    "    for d in tqdm(list_model):\n",
    "        d = d.copy()\n",
    "        lr = d.pop('lr')\n",
    "        drop_edges = d.pop('drop_edges')\n",
    "        use_edge_weight = d.pop('use_edge_weight')\n",
    "\n",
    "        # dataset_valid = ContagionDataset(\n",
    "        #     raw_dir=data_dir,\n",
    "        #     drop_edges=0,\n",
    "        #     sets_lengths=sets_lengths,\n",
    "        #     add_self_loop = add_self_loop,\n",
    "        #     target = target,\n",
    "        #     seed=seed,\n",
    "        # )\n",
    "\n",
    "        dataset_train = ContagionDataset(\n",
    "            raw_dir=data_dir,\n",
    "            drop_edges=drop_edges,\n",
    "            sets_lengths=sets_lengths,\n",
    "            add_self_loop = add_self_loop,\n",
    "            target = target,\n",
    "        )\n",
    "\n",
    "        train(\n",
    "            model=GCN(**d),\n",
    "            dict_model=d,\n",
    "            dataset_train=dataset_train,\n",
    "            dataset_val=dataset_val,\n",
    "            log_dir=log_dir,\n",
    "            save_path=save_model,\n",
    "            lr=lr,\n",
    "            optimizer_name=\"adamw\",\n",
    "            n_epochs=100,\n",
    "            scheduler_mode='max_val_mcc',\n",
    "            debug_mode=False,\n",
    "            steps_save=10,\n",
    "            use_cpu=False,\n",
    "            use_edge_weight=use_edge_weight,\n",
    "            loss_type='mse',\n",
    "        )"
   ]
  },
  {
   "cell_type": "markdown",
   "metadata": {},
   "source": [
    "#### Results"
   ]
  },
  {
   "cell_type": "code",
   "execution_count": null,
   "metadata": {},
   "outputs": [],
   "source": [
    "res_edges_gcn = test(\n",
    "    dataset=dataset_val,\n",
    "    save_path=save_model,\n",
    "    n_runs=1,\n",
    "    debug_mode=False,\n",
    "    use_cpu=False,\n",
    "    save=True,\n",
    "    use_edge_weight=True,\n",
    ")"
   ]
  },
  {
   "cell_type": "code",
   "execution_count": null,
   "metadata": {},
   "outputs": [],
   "source": [
    "res_edges = res_edges_gcn\n",
    "res_edges[0]"
   ]
  },
  {
   "cell_type": "code",
   "execution_count": null,
   "metadata": {},
   "outputs": [],
   "source": [
    "all = res_edges[2]\n",
    "# ascending order\n",
    "sort_idx = np.argsort([k['dict'][metric_filter_1] for k in all])[::-1]\n",
    "all[sort_idx[0]]['dict']"
   ]
  },
  {
   "cell_type": "code",
   "execution_count": null,
   "metadata": {},
   "outputs": [],
   "source": [
    "all = res_edges[2]\n",
    "# ascending order\n",
    "sort_idx = np.argsort([k['dict'][metric_filter_2] for k in all])[::-1]\n",
    "all[sort_idx[0]]['dict']"
   ]
  },
  {
   "cell_type": "code",
   "execution_count": null,
   "metadata": {},
   "outputs": [],
   "source": [
    "pretty([all[k]['dict'] for k in sort_idx])"
   ]
  },
  {
   "cell_type": "markdown",
   "metadata": {
    "collapsed": false
   },
   "source": [
    "### GraphSAGE"
   ]
  },
  {
   "cell_type": "code",
   "execution_count": 14,
   "metadata": {},
   "outputs": [],
   "source": [
    "save_model = f'{save_path}_sage'\n",
    "log_dir = f'{log_path}_sage'\n",
    "\n",
    "dataset_val = ContagionDataset(\n",
    "    raw_dir=data_dir,\n",
    "    drop_edges=0,\n",
    "    sets_lengths=sets_lengths,\n",
    "    add_self_loop = True,\n",
    "    target = target,\n",
    ")\n",
    "\n",
    "# sage_model = dict(\n",
    "#     in_features = [len(dataset.node_attributes)],\n",
    "#     h_features = [[20] * 3, [25] * 3, [15] * 3, [10], [20,25,20], [30] * 3], \n",
    "#     out_features = [out_feats],\n",
    "#     aggregator_type = ['lstm'],\n",
    "#     norm_edges = ['right', 'none'],\n",
    "#     norm_nodes = [None, 'bn', 'gn'],\n",
    "#     activation = [torch.nn.ReLU()],\n",
    "#     feat_drop = [0.2, 0],\n",
    "#     # other\n",
    "#     lr=[1e-2],\n",
    "#     use_edge_weight=[True],\n",
    "#     add_self_loop=[True],\n",
    "#     drop_edges=[0,0.2],\n",
    "# )\n",
    "# list_model = [dict(zip(sage_model.keys(), k)) for k in itertools.product(*sage_model.values())]\n",
    "\n",
    "sage_model = dict(\n",
    "    in_features = [len(dataset.node_attributes)],\n",
    "    h_features = [[500]*2], \n",
    "    out_features = [out_feats],\n",
    "    aggregator_type = ['lstm'],\n",
    "    norm_edges = ['none'],\n",
    "    norm_nodes = ['gn'],\n",
    "    activation = [torch.nn.ReLU()],\n",
    "    feat_drop = [0, 0.2],\n",
    "    # other\n",
    "    lr=[1e-2],\n",
    "    use_edge_weight=[True],\n",
    "    add_self_loop=[True],\n",
    "    drop_edges=[0, 0.2],\n",
    ")\n",
    "list_model = [dict(zip(sage_model.keys(), k)) for k in itertools.product(*sage_model.values())]\n",
    "# list_model = [{i:j[k] for i,j in sage_model.items()} for k in range(len(sage_model['in_features']))]"
   ]
  },
  {
   "cell_type": "code",
   "execution_count": 15,
   "metadata": {
    "collapsed": false,
    "pycharm": {
     "name": "#%%\n"
    }
   },
   "outputs": [
    {
     "name": "stderr",
     "output_type": "stream",
     "text": [
      "100%|██████████| 4/4 [1:47:06<00:00, 1606.63s/it]\n"
     ]
    }
   ],
   "source": [
    "if do_train:\n",
    "    for d in tqdm(list_model):\n",
    "        d = d.copy()\n",
    "        lr = d.pop('lr')\n",
    "        add_self_loop = d.pop('add_self_loop')\n",
    "        drop_edges = d.pop('drop_edges')\n",
    "        use_edge_weight = d.pop('use_edge_weight')\n",
    "\n",
    "        dataset_valid = ContagionDataset(\n",
    "            raw_dir=data_dir,\n",
    "            drop_edges=0,\n",
    "            sets_lengths=sets_lengths,\n",
    "            add_self_loop = add_self_loop,\n",
    "            target = target,\n",
    "        )\n",
    "\n",
    "        dataset_train = ContagionDataset(\n",
    "            raw_dir=data_dir,\n",
    "            drop_edges=drop_edges,\n",
    "            sets_lengths=sets_lengths,\n",
    "            add_self_loop = add_self_loop,\n",
    "            target = target,\n",
    "        )\n",
    "\n",
    "        train(\n",
    "            model=GraphSAGE(**d),\n",
    "            dict_model=d,\n",
    "            dataset_train=dataset_train,\n",
    "            dataset_val=dataset_valid,\n",
    "            log_dir=log_dir,\n",
    "            save_path=save_model,\n",
    "            lr=lr,\n",
    "            optimizer_name=\"adamw\",\n",
    "            n_epochs=2000,\n",
    "            scheduler_mode='max_val_mcc',\n",
    "            debug_mode=False,\n",
    "            steps_save=50,\n",
    "            use_cpu=False,\n",
    "            use_edge_weight=use_edge_weight,\n",
    "            loss_type='mse',\n",
    "            scheduler_patience=300,\n",
    "        )"
   ]
  },
  {
   "cell_type": "markdown",
   "metadata": {},
   "source": [
    "#### Results"
   ]
  },
  {
   "cell_type": "code",
   "execution_count": 16,
   "metadata": {},
   "outputs": [
    {
     "name": "stderr",
     "output_type": "stream",
     "text": [
      "100%|██████████| 197/197 [01:50<00:00,  1.78it/s]\n"
     ]
    },
    {
     "data": {
      "text/plain": [
       "True"
      ]
     },
     "execution_count": 16,
     "metadata": {},
     "output_type": "execute_result"
    }
   ],
   "source": [
    "res_edges_sage = test(\n",
    "    dataset=dataset_val,\n",
    "    save_path=save_model,\n",
    "    n_runs=1,\n",
    "    debug_mode=False,\n",
    "    use_cpu=False,\n",
    "    save=True,\n",
    "    use_edge_weight=True,\n",
    ")\n",
    "\n",
    "toast.show_toast(\"Done\")"
   ]
  },
  {
   "cell_type": "code",
   "execution_count": 53,
   "metadata": {},
   "outputs": [
    {
     "data": {
      "text/plain": [
       "{'in_features': 4,\n",
       " 'h_features': [500, 500],\n",
       " 'out_features': 1,\n",
       " 'aggregator_type': 'lstm',\n",
       " 'norm_edges': 'none',\n",
       " 'norm_nodes': 'gn',\n",
       " 'activation': ReLU(),\n",
       " 'feat_drop': 0,\n",
       " 'train_lr': 0.01,\n",
       " 'train_optimizer_name': 'adamw',\n",
       " 'train_scheduler_mode': 'max_val_mcc',\n",
       " 'train_use_edge_weight': True,\n",
       " 'train_loss_type': 'mse',\n",
       " 'train_scheduler_patience': 300,\n",
       " 'train_self_loop': True,\n",
       " 'train_drop_edges': 0.2,\n",
       " 'train_loss': 0.22543687,\n",
       " 'train_acc': 0.8157894611358643,\n",
       " 'val_acc': 0.7119113802909851,\n",
       " 'epoch': 1250,\n",
       " 'model_class': 'sage',\n",
       " 'path_name': '4_[500_500]_1_lstm_none_gn_ReLU()_0_0.01_adamw_max_val_mcc_True_mse_300_True_0.2_1250',\n",
       " 'train_rmse': 0.4794965041654894,\n",
       " 'val_rmse': 0.713929471907923,\n",
       " 'test_rmse': 0.7330730672202168,\n",
       " 'train_rmse_perc': 0.1288818,\n",
       " 'val_rmse_perc': 0.19355673,\n",
       " 'test_rmse_perc': 0.18671641,\n",
       " 'train_mcc': 0.7552885327459816,\n",
       " 'val_mcc': 0.6138580822578542,\n",
       " 'test_mcc': 0.5738211962655886,\n",
       " 'test_acc': 0.678670346736908}"
      ]
     },
     "execution_count": 53,
     "metadata": {},
     "output_type": "execute_result"
    }
   ],
   "source": [
    "res_edges = res_edges_sage\n",
    "res_edges[0]"
   ]
  },
  {
   "cell_type": "code",
   "execution_count": 54,
   "metadata": {},
   "outputs": [
    {
     "data": {
      "text/plain": [
       "{'in_features': 4,\n",
       " 'h_features': [500, 500],\n",
       " 'out_features': 1,\n",
       " 'aggregator_type': 'lstm',\n",
       " 'norm_edges': 'none',\n",
       " 'norm_nodes': 'gn',\n",
       " 'activation': ReLU(),\n",
       " 'feat_drop': 0,\n",
       " 'train_lr': 0.01,\n",
       " 'train_optimizer_name': 'adamw',\n",
       " 'train_scheduler_mode': 'max_val_mcc',\n",
       " 'train_use_edge_weight': True,\n",
       " 'train_loss_type': 'mse',\n",
       " 'train_scheduler_patience': 300,\n",
       " 'train_self_loop': True,\n",
       " 'train_drop_edges': 0.2,\n",
       " 'train_loss': 0.22543687,\n",
       " 'train_acc': 0.8157894611358643,\n",
       " 'val_acc': 0.7119113802909851,\n",
       " 'epoch': 1250,\n",
       " 'model_class': 'sage',\n",
       " 'path_name': '4_[500_500]_1_lstm_none_gn_ReLU()_0_0.01_adamw_max_val_mcc_True_mse_300_True_0.2_1250',\n",
       " 'train_rmse': 0.4794965041654894,\n",
       " 'val_rmse': 0.713929471907923,\n",
       " 'test_rmse': 0.7330730672202168,\n",
       " 'train_rmse_perc': 0.1288818,\n",
       " 'val_rmse_perc': 0.19355673,\n",
       " 'test_rmse_perc': 0.18671641,\n",
       " 'train_mcc': 0.7552885327459816,\n",
       " 'val_mcc': 0.6138580822578542,\n",
       " 'test_mcc': 0.5738211962655886,\n",
       " 'test_acc': 0.678670346736908}"
      ]
     },
     "execution_count": 54,
     "metadata": {},
     "output_type": "execute_result"
    }
   ],
   "source": [
    "all = res_edges[2]\n",
    "# ascending order\n",
    "# sort_idx = np.argsort([k['dict'][metric_filter_1] for k in all])[::-1]\n",
    "sort_idx = np.argsort([k['dict'][metric_filter_1] for k in all])\n",
    "all[sort_idx[0]]['dict']"
   ]
  },
  {
   "cell_type": "code",
   "execution_count": 55,
   "metadata": {},
   "outputs": [
    {
     "data": {
      "text/plain": [
       "{'in_features': 4,\n",
       " 'h_features': [500, 500],\n",
       " 'out_features': 1,\n",
       " 'aggregator_type': 'lstm',\n",
       " 'norm_edges': 'none',\n",
       " 'norm_nodes': 'gn',\n",
       " 'activation': ReLU(),\n",
       " 'feat_drop': 0,\n",
       " 'train_lr': 0.01,\n",
       " 'train_optimizer_name': 'adamw',\n",
       " 'train_scheduler_mode': 'max_val_mcc',\n",
       " 'train_use_edge_weight': True,\n",
       " 'train_loss_type': 'mse',\n",
       " 'train_scheduler_patience': 300,\n",
       " 'train_self_loop': True,\n",
       " 'train_drop_edges': 0.2,\n",
       " 'train_loss': 0.22543687,\n",
       " 'train_acc': 0.8157894611358643,\n",
       " 'val_acc': 0.7119113802909851,\n",
       " 'epoch': 1250,\n",
       " 'model_class': 'sage',\n",
       " 'path_name': '4_[500_500]_1_lstm_none_gn_ReLU()_0_0.01_adamw_max_val_mcc_True_mse_300_True_0.2_1250',\n",
       " 'train_rmse': 0.4794965041654894,\n",
       " 'val_rmse': 0.713929471907923,\n",
       " 'test_rmse': 0.7330730672202168,\n",
       " 'train_rmse_perc': 0.1288818,\n",
       " 'val_rmse_perc': 0.19355673,\n",
       " 'test_rmse_perc': 0.18671641,\n",
       " 'train_mcc': 0.7552885327459816,\n",
       " 'val_mcc': 0.6138580822578542,\n",
       " 'test_mcc': 0.5738211962655886,\n",
       " 'test_acc': 0.678670346736908}"
      ]
     },
     "execution_count": 55,
     "metadata": {},
     "output_type": "execute_result"
    }
   ],
   "source": [
    "all = res_edges[2]\n",
    "# ascending order\n",
    "# sort_idx = np.argsort([k['dict'][metric_filter_2] for k in all])[::-1]\n",
    "sort_idx = np.argsort([k['dict'][metric_filter_1] for k in all])\n",
    "all[sort_idx[0]]['dict']"
   ]
  },
  {
   "cell_type": "code",
   "execution_count": 56,
   "metadata": {},
   "outputs": [
    {
     "name": "stderr",
     "output_type": "stream",
     "text": [
      "100%|██████████| 197/197 [00:00<00:00, 6584.46it/s]\n"
     ]
    }
   ],
   "source": [
    "pretty([all[k]['dict'] for k in sort_idx])"
   ]
  },
  {
   "cell_type": "markdown",
   "metadata": {},
   "source": [
    "#### cm"
   ]
  },
  {
   "cell_type": "code",
   "execution_count": 57,
   "metadata": {},
   "outputs": [],
   "source": [
    "cm = all[sort_idx[0]]['test_cm'][0]"
   ]
  },
  {
   "cell_type": "code",
   "execution_count": 58,
   "metadata": {},
   "outputs": [
    {
     "data": {
      "text/plain": [
       "tensor(87)"
      ]
     },
     "execution_count": 58,
     "metadata": {},
     "output_type": "execute_result"
    }
   ],
   "source": [
    "(cm.labels==0).sum()"
   ]
  },
  {
   "cell_type": "code",
   "execution_count": 71,
   "metadata": {},
   "outputs": [
    {
     "data": {
      "text/plain": [
       "<module 'matplotlib.pyplot' from 'c:\\\\Users\\\\vibal\\\\PycharmProjects\\\\systemic-risk-predictor\\\\venv\\\\lib\\\\site-packages\\\\matplotlib\\\\pyplot.py'>"
      ]
     },
     "execution_count": 71,
     "metadata": {},
     "output_type": "execute_result"
    },
    {
     "data": {
      "image/png": "[encoded data removed]",
      "text/plain": [
       "<Figure size 1080x720 with 2 Axes>"
      ]
     },
     "metadata": {
      "needs_background": "light"
     },
     "output_type": "display_data"
    }
   ],
   "source": [
    "cm.visualize()"
   ]
  },
  {
   "cell_type": "code",
   "execution_count": 60,
   "metadata": {},
   "outputs": [
    {
     "data": {
      "text/plain": [
       "tensor([0.7701, 0.5333, 0.5155, 0.9195])"
      ]
     },
     "execution_count": 60,
     "metadata": {},
     "output_type": "execute_result"
    }
   ],
   "source": [
    "cm.class_accuracy"
   ]
  },
  {
   "cell_type": "code",
   "execution_count": 61,
   "metadata": {},
   "outputs": [
    {
     "data": {
      "text/plain": [
       "[0.17444374, 0.2078008, 0.22503935, 0.11444203]"
      ]
     },
     "execution_count": 61,
     "metadata": {},
     "output_type": "execute_result"
    }
   ],
   "source": [
    "[mean_squared_error(y_true=cm.true_percentiles[cm.labels==k], y_pred=cm.pseudo_perc[cm.labels==k], squared=False) for k in range(0, cm.size)]"
   ]
  },
  {
   "cell_type": "code",
   "execution_count": 62,
   "metadata": {},
   "outputs": [
    {
     "data": {
      "text/plain": [
       "[0.103589155, 0.15490447, 0.16820103, 0.08990897]"
      ]
     },
     "execution_count": 62,
     "metadata": {},
     "output_type": "execute_result"
    }
   ],
   "source": [
    "[mean_absolute_error(y_true=cm.true_percentiles[cm.labels==k], y_pred=cm.pseudo_perc[cm.labels==k]) for k in range(0, cm.size)]"
   ]
  },
  {
   "cell_type": "markdown",
   "metadata": {},
   "source": [
    "#### GraphSAGE Base_n"
   ]
  },
  {
   "cell_type": "code",
   "execution_count": 27,
   "metadata": {},
   "outputs": [],
   "source": [
    "save_model = f'{save_path}_sage_base'\n",
    "log_dir = f'{log_path}_sage_base'\n",
    "\n",
    "dataset_val = ContagionDataset(\n",
    "    raw_dir=data_dir,\n",
    "    drop_edges=0,\n",
    "    sets_lengths=sets_lengths,\n",
    "    add_self_loop = True,\n",
    "    target = target,\n",
    ")\n",
    "\n",
    "# sage_model = dict(\n",
    "#     in_features = [len(dataset.node_attributes)],\n",
    "#     h_features = [[20] * 3, [25] * 3, [15] * 3, [10], [20,25,20], [30] * 3], \n",
    "#     out_features = [out_feats],\n",
    "#     aggregator_type = ['lstm'],\n",
    "#     norm_edges = ['right', 'none'],\n",
    "#     norm_nodes = [None, 'bn', 'gn'],\n",
    "#     activation = [torch.nn.ReLU()],\n",
    "#     feat_drop = [0.2, 0],\n",
    "#     # other\n",
    "#     lr=[1e-2],\n",
    "#     use_edge_weight=[True],\n",
    "#     add_self_loop=[True],\n",
    "#     drop_edges=[0,0.2],\n",
    "# )\n",
    "# list_model = [dict(zip(sage_model.keys(), k)) for k in itertools.product(*sage_model.values())]\n",
    "\n",
    "sage_model = dict(\n",
    "    in_features = [len(dataset.node_attributes)],\n",
    "    h_features = [[500]*2], \n",
    "    out_features = [out_feats],\n",
    "    aggregator_type = ['lstm'],\n",
    "    norm_edges = ['none'],\n",
    "    norm_nodes = ['gn'],\n",
    "    activation = [torch.nn.ReLU()],\n",
    "    feat_drop = [0, 0.2],\n",
    "    # other\n",
    "    lr=[1e-2],\n",
    "    use_edge_weight=[True],\n",
    "    add_self_loop=[True],\n",
    "    drop_edges=[0, 0.2],\n",
    ")\n",
    "list_model = [dict(zip(sage_model.keys(), k)) for k in itertools.product(*sage_model.values())]\n",
    "# list_model = [{i:j[k] for i,j in sage_model.items()} for k in range(len(sage_model['in_features']))]"
   ]
  },
  {
   "cell_type": "code",
   "execution_count": 28,
   "metadata": {
    "collapsed": false,
    "pycharm": {
     "name": "#%%\n"
    }
   },
   "outputs": [
    {
     "name": "stderr",
     "output_type": "stream",
     "text": [
      "100%|██████████| 4/4 [1:45:48<00:00, 1587.00s/it]\n"
     ]
    }
   ],
   "source": [
    "if do_train:\n",
    "    for d in tqdm(list_model):\n",
    "        d = d.copy()\n",
    "        lr = d.pop('lr')\n",
    "        add_self_loop = d.pop('add_self_loop')\n",
    "        drop_edges = d.pop('drop_edges')\n",
    "        use_edge_weight = d.pop('use_edge_weight')\n",
    "\n",
    "        dataset_valid = ContagionDataset(\n",
    "            raw_dir=data_dir,\n",
    "            drop_edges=0,\n",
    "            sets_lengths=sets_lengths,\n",
    "            add_self_loop = add_self_loop,\n",
    "            target = target,\n",
    "        )\n",
    "\n",
    "        dataset_train = ContagionDataset(\n",
    "            raw_dir=data_dir,\n",
    "            drop_edges=drop_edges,\n",
    "            sets_lengths=sets_lengths,\n",
    "            add_self_loop = add_self_loop,\n",
    "            target = target,\n",
    "        )\n",
    "\n",
    "        train(\n",
    "            model=GraphSAGE(**d),\n",
    "            dict_model=d,\n",
    "            dataset_train=dataset_train,\n",
    "            dataset_val=dataset_valid,\n",
    "            log_dir=log_dir,\n",
    "            save_path=save_model,\n",
    "            lr=lr,\n",
    "            optimizer_name=\"adamw\",\n",
    "            n_epochs=2000,\n",
    "            scheduler_mode='max_val_mcc',\n",
    "            debug_mode=False,\n",
    "            steps_save=50,\n",
    "            use_cpu=False,\n",
    "            use_edge_weight=use_edge_weight,\n",
    "            loss_type='mse',\n",
    "            scheduler_patience=300,\n",
    "            base_n=True,\n",
    "        )"
   ]
  },
  {
   "cell_type": "markdown",
   "metadata": {},
   "source": [
    "##### Results"
   ]
  },
  {
   "cell_type": "code",
   "execution_count": 29,
   "metadata": {},
   "outputs": [
    {
     "name": "stderr",
     "output_type": "stream",
     "text": [
      "100%|██████████| 164/164 [01:20<00:00,  2.03it/s]\n"
     ]
    },
    {
     "data": {
      "text/plain": [
       "True"
      ]
     },
     "execution_count": 29,
     "metadata": {},
     "output_type": "execute_result"
    }
   ],
   "source": [
    "res_edges_sage_base = test(\n",
    "    dataset=dataset_val,\n",
    "    save_path=save_model,\n",
    "    n_runs=1,\n",
    "    debug_mode=False,\n",
    "    use_cpu=False,\n",
    "    save=True,\n",
    "    use_edge_weight=True,\n",
    "    base_n=True,\n",
    ")\n",
    "\n",
    "toast.show_toast(\"Done\")"
   ]
  },
  {
   "cell_type": "code",
   "execution_count": 63,
   "metadata": {},
   "outputs": [
    {
     "data": {
      "text/plain": [
       "{'in_features': 4,\n",
       " 'h_features': [500, 500],\n",
       " 'out_features': 1,\n",
       " 'aggregator_type': 'lstm',\n",
       " 'norm_edges': 'none',\n",
       " 'norm_nodes': 'gn',\n",
       " 'activation': ReLU(),\n",
       " 'feat_drop': 0,\n",
       " 'train_lr': 0.01,\n",
       " 'train_optimizer_name': 'adamw',\n",
       " 'train_scheduler_mode': 'max_val_mcc',\n",
       " 'train_use_edge_weight': True,\n",
       " 'train_loss_type': 'mse',\n",
       " 'train_scheduler_patience': 300,\n",
       " 'train_self_loop': True,\n",
       " 'train_drop_edges': 0.2,\n",
       " 'train_loss': 0.19805254,\n",
       " 'train_acc': 0.5512465238571167,\n",
       " 'val_acc': 0.5263158082962036,\n",
       " 'epoch': 1950,\n",
       " 'model_class': 'sage',\n",
       " 'path_name': '4_[500_500]_1_lstm_none_gn_ReLU()_0_0.01_adamw_max_val_mcc_True_mse_300_True_0.2_1950',\n",
       " 'train_rmse': 0.7061267297367757,\n",
       " 'val_rmse': 0.8421052631578947,\n",
       " 'test_rmse': 0.9009075141380889,\n",
       " 'train_rmse_perc': 0.1600515,\n",
       " 'val_rmse_perc': 0.21330921,\n",
       " 'test_rmse_perc': 0.23341696,\n",
       " 'train_mcc': 0.4114926902679057,\n",
       " 'val_mcc': 0.38095856892275876,\n",
       " 'test_mcc': 0.3707744297396156,\n",
       " 'test_acc': 0.5207756161689758}"
      ]
     },
     "execution_count": 63,
     "metadata": {},
     "output_type": "execute_result"
    }
   ],
   "source": [
    "res_edges = res_edges_sage_base\n",
    "res_edges[0]"
   ]
  },
  {
   "cell_type": "code",
   "execution_count": 64,
   "metadata": {},
   "outputs": [
    {
     "data": {
      "text/plain": [
       "{'in_features': 4,\n",
       " 'h_features': [500, 500],\n",
       " 'out_features': 1,\n",
       " 'aggregator_type': 'lstm',\n",
       " 'norm_edges': 'none',\n",
       " 'norm_nodes': 'gn',\n",
       " 'activation': ReLU(),\n",
       " 'feat_drop': 0,\n",
       " 'train_lr': 0.01,\n",
       " 'train_optimizer_name': 'adamw',\n",
       " 'train_scheduler_mode': 'max_val_mcc',\n",
       " 'train_use_edge_weight': True,\n",
       " 'train_loss_type': 'mse',\n",
       " 'train_scheduler_patience': 300,\n",
       " 'train_self_loop': True,\n",
       " 'train_drop_edges': 0.2,\n",
       " 'train_loss': 0.31151733,\n",
       " 'train_acc': 0.5318559408187866,\n",
       " 'val_acc': 0.5180055499076843,\n",
       " 'epoch': 900,\n",
       " 'model_class': 'sage',\n",
       " 'path_name': '4_[500_500]_1_lstm_none_gn_ReLU()_0_0.01_adamw_max_val_mcc_True_mse_300_True_0.2_900',\n",
       " 'train_rmse': 0.764517844543892,\n",
       " 'val_rmse': 0.8486587103472157,\n",
       " 'test_rmse': 0.8743814592545343,\n",
       " 'train_rmse_perc': 0.18183464,\n",
       " 'val_rmse_perc': 0.20883057,\n",
       " 'test_rmse_perc': 0.21984811,\n",
       " 'train_mcc': 0.3845216546826554,\n",
       " 'val_mcc': 0.3657526380554667,\n",
       " 'test_mcc': 0.328404482587202,\n",
       " 'test_acc': 0.49030470848083496}"
      ]
     },
     "execution_count": 64,
     "metadata": {},
     "output_type": "execute_result"
    }
   ],
   "source": [
    "all = res_edges[2]\n",
    "# ascending order\n",
    "# sort_idx = np.argsort([k['dict'][metric_filter_1] for k in all])[::-1]\n",
    "sort_idx = np.argsort([k['dict'][metric_filter_1] for k in all])\n",
    "all[sort_idx[0]]['dict']"
   ]
  },
  {
   "cell_type": "code",
   "execution_count": 65,
   "metadata": {},
   "outputs": [
    {
     "data": {
      "text/plain": [
       "{'in_features': 4,\n",
       " 'h_features': [500, 500],\n",
       " 'out_features': 1,\n",
       " 'aggregator_type': 'lstm',\n",
       " 'norm_edges': 'none',\n",
       " 'norm_nodes': 'gn',\n",
       " 'activation': ReLU(),\n",
       " 'feat_drop': 0,\n",
       " 'train_lr': 0.01,\n",
       " 'train_optimizer_name': 'adamw',\n",
       " 'train_scheduler_mode': 'max_val_mcc',\n",
       " 'train_use_edge_weight': True,\n",
       " 'train_loss_type': 'mse',\n",
       " 'train_scheduler_patience': 300,\n",
       " 'train_self_loop': True,\n",
       " 'train_drop_edges': 0.2,\n",
       " 'train_loss': 0.31151733,\n",
       " 'train_acc': 0.5318559408187866,\n",
       " 'val_acc': 0.5180055499076843,\n",
       " 'epoch': 900,\n",
       " 'model_class': 'sage',\n",
       " 'path_name': '4_[500_500]_1_lstm_none_gn_ReLU()_0_0.01_adamw_max_val_mcc_True_mse_300_True_0.2_900',\n",
       " 'train_rmse': 0.764517844543892,\n",
       " 'val_rmse': 0.8486587103472157,\n",
       " 'test_rmse': 0.8743814592545343,\n",
       " 'train_rmse_perc': 0.18183464,\n",
       " 'val_rmse_perc': 0.20883057,\n",
       " 'test_rmse_perc': 0.21984811,\n",
       " 'train_mcc': 0.3845216546826554,\n",
       " 'val_mcc': 0.3657526380554667,\n",
       " 'test_mcc': 0.328404482587202,\n",
       " 'test_acc': 0.49030470848083496}"
      ]
     },
     "execution_count": 65,
     "metadata": {},
     "output_type": "execute_result"
    }
   ],
   "source": [
    "all = res_edges[2]\n",
    "# ascending order\n",
    "# sort_idx = np.argsort([k['dict'][metric_filter_2] for k in all])[::-1]\n",
    "sort_idx = np.argsort([k['dict'][metric_filter_1] for k in all])\n",
    "all[sort_idx[0]]['dict']"
   ]
  },
  {
   "cell_type": "code",
   "execution_count": 66,
   "metadata": {},
   "outputs": [
    {
     "name": "stderr",
     "output_type": "stream",
     "text": [
      "100%|██████████| 164/164 [00:00<00:00, 18213.89it/s]\n"
     ]
    }
   ],
   "source": [
    "pretty([all[k]['dict'] for k in sort_idx])"
   ]
  },
  {
   "cell_type": "markdown",
   "metadata": {},
   "source": [
    "##### cm"
   ]
  },
  {
   "cell_type": "code",
   "execution_count": 67,
   "metadata": {},
   "outputs": [],
   "source": [
    "cm = all[sort_idx[0]]['test_cm'][0]"
   ]
  },
  {
   "cell_type": "code",
   "execution_count": 68,
   "metadata": {},
   "outputs": [
    {
     "data": {
      "text/plain": [
       "tensor(87)"
      ]
     },
     "execution_count": 68,
     "metadata": {},
     "output_type": "execute_result"
    }
   ],
   "source": [
    "(cm.labels==0).sum()"
   ]
  },
  {
   "cell_type": "code",
   "execution_count": 69,
   "metadata": {},
   "outputs": [
    {
     "data": {
      "text/plain": [
       "tensor(0.9999)"
      ]
     },
     "execution_count": 69,
     "metadata": {},
     "output_type": "execute_result"
    }
   ],
   "source": [
    "cm.pseudo_perc.max()"
   ]
  },
  {
   "cell_type": "code",
   "execution_count": 70,
   "metadata": {},
   "outputs": [
    {
     "data": {
      "text/plain": [
       "<module 'matplotlib.pyplot' from 'c:\\\\Users\\\\vibal\\\\PycharmProjects\\\\systemic-risk-predictor\\\\venv\\\\lib\\\\site-packages\\\\matplotlib\\\\pyplot.py'>"
      ]
     },
     "execution_count": 70,
     "metadata": {},
     "output_type": "execute_result"
    },
    {
     "data": {
      "image/png": "[encoded data removed]",
      "text/plain": [
       "<Figure size 1080x720 with 2 Axes>"
      ]
     },
     "metadata": {
      "needs_background": "light"
     },
     "output_type": "display_data"
    }
   ],
   "source": [
    "cm.visualize()"
   ]
  },
  {
   "cell_type": "code",
   "execution_count": 38,
   "metadata": {},
   "outputs": [
    {
     "data": {
      "text/plain": [
       "tensor([0.8276, 0.6778, 0.3093, 0.2759])"
      ]
     },
     "execution_count": 38,
     "metadata": {},
     "output_type": "execute_result"
    }
   ],
   "source": [
    "cm.class_accuracy"
   ]
  },
  {
   "cell_type": "code",
   "execution_count": 39,
   "metadata": {},
   "outputs": [
    {
     "data": {
      "text/plain": [
       "[0.14404848, 0.17285848, 0.27976328, 0.2926671]"
      ]
     },
     "execution_count": 39,
     "metadata": {},
     "output_type": "execute_result"
    }
   ],
   "source": [
    "[mean_squared_error(y_true=cm.true_percentiles[cm.labels==k], y_pred=cm.pseudo_perc[cm.labels==k], squared=False) for k in range(0, cm.size)]"
   ]
  },
  {
   "cell_type": "code",
   "execution_count": 40,
   "metadata": {},
   "outputs": [
    {
     "data": {
      "text/plain": [
       "[0.10137311, 0.13366127, 0.23259754, 0.25074747]"
      ]
     },
     "execution_count": 40,
     "metadata": {},
     "output_type": "execute_result"
    }
   ],
   "source": [
    "[mean_absolute_error(y_true=cm.true_percentiles[cm.labels==k], y_pred=cm.pseudo_perc[cm.labels==k]) for k in range(0, cm.size)]"
   ]
  },
  {
   "cell_type": "markdown",
   "metadata": {
    "collapsed": false
   },
   "source": [
    "### GAT"
   ]
  },
  {
   "cell_type": "code",
   "execution_count": null,
   "metadata": {},
   "outputs": [],
   "source": [
    "save_model = f'{save_path}_gat'\n",
    "log_dir = f'{log_path}_gat'\n",
    "\n",
    "add_self_loop = True\n",
    "\n",
    "dataset_val = ContagionDataset(\n",
    "    raw_dir=data_dir,\n",
    "    drop_edges=0,\n",
    "    sets_lengths=sets_lengths,\n",
    "    add_self_loop = add_self_loop,\n",
    "    target = target,\n",
    ")\n",
    "\n",
    "gat_model = dict(\n",
    "    in_features = [len(dataset.node_attributes)],\n",
    "    h_features = [[10], [10] * 2, [15], [15] * 2, [20], [20] * 2, [25], [25] * 2],\n",
    "    out_features = [out_feats],\n",
    "    num_heads = [[4] * 2, [2] * 2, [4, 2]],\n",
    "    norm_nodes = [None, 'bn', 'gn'],\n",
    "    activation = [torch.nn.ReLU()],\n",
    "    negative_slope = [0.2, 0.4],\n",
    "    feat_drop = [0.2],\n",
    "    attn_drop = [0.2],\n",
    "    residual = [True],\n",
    "    # other\n",
    "    lr=[1e-2,],\n",
    "    use_edge_weight=[False],\n",
    "    drop_edges=[0,0.2],\n",
    ")\n",
    "list_model = [dict(zip(gat_model.keys(), k)) for k in itertools.product(*gat_model.values())]\n",
    "\n",
    "# gat_model = dict(\n",
    "#     in_features = [len(dataset.node_attributes)],\n",
    "#     # h_features = [[10], [15], [20]], \n",
    "#     h_features = [[10] * 3, [15] * 3, [20] * 3], \n",
    "#     out_features = [out_feats],\n",
    "#     # num_heads = [[4] * 4],\n",
    "#     num_heads = [[4, 2, 2]],\n",
    "#     norm_nodes = [None, 'bn', 'gn'],\n",
    "#     activation = [torch.nn.ReLU()],\n",
    "#     negative_slope = [0.2, 0.3, 0.4],\n",
    "#     feat_drop = [0.2],\n",
    "#     attn_drop = [0.2],\n",
    "#     residual = [True],\n",
    "#     # other\n",
    "#     lr=[1e-2,],\n",
    "#     label_smoothing=[0.0],\n",
    "#     use_edge_weight=[False],\n",
    "#     drop_edges=[0,],\n",
    "# )\n",
    "# list_model = [dict(zip(gat_model.keys(), k)) for k in itertools.product(*gat_model.values())]\n",
    "# list_model = [{i:j[k] for i,j in gat_model.items()} for k in range(len(gat_model['in_features']))]"
   ]
  },
  {
   "cell_type": "code",
   "execution_count": null,
   "metadata": {
    "collapsed": false,
    "pycharm": {
     "name": "#%%\n"
    }
   },
   "outputs": [],
   "source": [
    "if do_train:\n",
    "    for d in tqdm(list_model):\n",
    "        d = d.copy()\n",
    "        lr = d.pop('lr')\n",
    "        drop_edges = d.pop('drop_edges')\n",
    "        use_edge_weight = d.pop('use_edge_weight')\n",
    "\n",
    "        # dataset_valid = ContagionDataset(\n",
    "        #     raw_dir=data_dir,\n",
    "        #     drop_edges=0,\n",
    "        #     sets_lengths=sets_lengths,\n",
    "        #     add_self_loop = add_self_loop,\n",
    "        #     target = target,\n",
    "        #     seed=seed,\n",
    "        # )\n",
    "\n",
    "        dataset_train = ContagionDataset(\n",
    "            raw_dir=data_dir,\n",
    "            drop_edges=drop_edges,\n",
    "            sets_lengths=sets_lengths,\n",
    "            add_self_loop = add_self_loop,\n",
    "            target = target,\n",
    "        )\n",
    "\n",
    "        train(\n",
    "            model=GAT(**d),\n",
    "            dict_model=d,\n",
    "            dataset_train=dataset_train,\n",
    "            dataset_val=dataset_val,\n",
    "            log_dir=log_dir,\n",
    "            save_path=save_model,\n",
    "            lr=lr,\n",
    "            optimizer_name=\"adamw\",\n",
    "            n_epochs=100,\n",
    "            scheduler_mode='max_val_mcc',\n",
    "            debug_mode=False,\n",
    "            steps_save=10,\n",
    "            use_cpu=False,\n",
    "            use_edge_weight=use_edge_weight,\n",
    "            loss_type='mse',\n",
    "        )"
   ]
  },
  {
   "cell_type": "markdown",
   "metadata": {},
   "source": [
    "#### Results"
   ]
  },
  {
   "cell_type": "code",
   "execution_count": null,
   "metadata": {},
   "outputs": [],
   "source": [
    "res_edges_gat = test(\n",
    "    dataset=dataset_val,\n",
    "    save_path=save_model,\n",
    "    n_runs=1,\n",
    "    debug_mode=False,\n",
    "    use_cpu=False,\n",
    "    save=True,\n",
    "    use_edge_weight=False,\n",
    ")"
   ]
  },
  {
   "cell_type": "code",
   "execution_count": null,
   "metadata": {},
   "outputs": [],
   "source": [
    "res_edges = res_edges_gat\n",
    "res_edges[0]"
   ]
  },
  {
   "cell_type": "code",
   "execution_count": null,
   "metadata": {},
   "outputs": [],
   "source": [
    "all = res_edges[2]\n",
    "# ascending order\n",
    "sort_idx = np.argsort([k['dict'][metric_filter_1] for k in all])[::-1]\n",
    "all[sort_idx[0]]['dict']"
   ]
  },
  {
   "cell_type": "code",
   "execution_count": null,
   "metadata": {},
   "outputs": [],
   "source": [
    "all = res_edges[2]\n",
    "# ascending order\n",
    "sort_idx = np.argsort([k['dict'][metric_filter_2] for k in all])[::-1]\n",
    "all[sort_idx[0]]['dict']"
   ]
  },
  {
   "cell_type": "code",
   "execution_count": null,
   "metadata": {},
   "outputs": [],
   "source": [
    "pretty([all[k]['dict'] for k in sort_idx])"
   ]
  },
  {
   "cell_type": "code",
   "execution_count": null,
   "metadata": {},
   "outputs": [],
   "source": []
  }
 ],
 "metadata": {
  "interpreter": {
   "hash": "37be9487e307834247f9cc00a1ec46ceeb3f522b7edf17e3b2d74c6ce713e314"
  },
  "kernelspec": {
   "display_name": "Python 3.9.5 ('venv': venv)",
   "language": "python",
   "name": "python3"
  },
  "language_info": {
   "codemirror_mode": {
    "name": "ipython",
    "version": 3
   },
   "file_extension": ".py",
   "mimetype": "text/x-python",
   "name": "python",
   "nbconvert_exporter": "python",
   "pygments_lexer": "ipython3",
   "version": "3.9.5"
  },
  "orig_nbformat": 4
 },
 "nbformat": 4,
 "nbformat_minor": 2
}
