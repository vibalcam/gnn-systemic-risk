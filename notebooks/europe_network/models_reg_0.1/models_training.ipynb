{
 "cells": [
  {
   "cell_type": "code",
   "execution_count": 1,
   "metadata": {},
   "outputs": [],
   "source": [
    "import sys\n",
    "sys.path.append('../../../')"
   ]
  },
  {
   "cell_type": "code",
   "execution_count": 2,
   "metadata": {},
   "outputs": [],
   "source": [
    "from win10toast import ToastNotifier\n",
    "toast = ToastNotifier()"
   ]
  },
  {
   "cell_type": "code",
   "execution_count": 3,
   "metadata": {},
   "outputs": [
    {
     "name": "stderr",
     "output_type": "stream",
     "text": [
      "Using backend: pytorch\n"
     ]
    }
   ],
   "source": [
    "import torch\n",
    "import itertools\n",
    "from sklearn.linear_model import LogisticRegression\n",
    "from sklearn.model_selection import train_test_split\n",
    "from sklearn.ensemble import RandomForestClassifier\n",
    "from sklearn.metrics import classification_report\n",
    "from sklearn.neighbors import KNeighborsClassifier\n",
    "import pandas as pd\n",
    "import numpy as np\n",
    "from tqdm.auto import tqdm, trange\n",
    "\n",
    "from models.train_reg import train, test\n",
    "from models.models import GCN, GAT, GraphSAGE, FNN\n",
    "from models.utils import ContagionDataset, set_seed\n",
    "from sklearn.metrics import matthews_corrcoef, mean_squared_error, mean_absolute_error"
   ]
  },
  {
   "cell_type": "code",
   "execution_count": 4,
   "metadata": {},
   "outputs": [],
   "source": [
    "def pretty(ld, indent=0):\n",
    "    with open('result.txt', 'w', encoding='utf-8') as file:\n",
    "        for d in tqdm(ld):\n",
    "            file.write('{' + '\\n')\n",
    "            for key, value in d.items():\n",
    "                file.write('\\t' * (indent+1) + str(key) + ':' + str(value) + '\\n')\n",
    "                # file.write('\\t' * (indent+1) + str(key) + '\\n')\n",
    "                # file.write('\\t' * (indent+2) + str(value) + '\\n')\n",
    "            file.write('},\\n')"
   ]
  },
  {
   "cell_type": "code",
   "execution_count": 5,
   "metadata": {},
   "outputs": [],
   "source": [
    "do_train = True\n",
    "\n",
    "seed = 4444\n",
    "set_seed(seed)\n",
    "\n",
    "metric_filter_1 = 'test_mcc'\n",
    "metric_filter_2 = 'val_mcc'\n",
    "\n",
    "data_dir = '../data'\n",
    "log_path = './logs'\n",
    "save_path = './saved'"
   ]
  },
  {
   "cell_type": "markdown",
   "metadata": {},
   "source": [
    "# Big dataset: Additional stress"
   ]
  },
  {
   "cell_type": "code",
   "execution_count": 6,
   "metadata": {},
   "outputs": [],
   "source": [
    "sets_lengths = (0.07, 0.03, 0.9)\n",
    "target = 'additional_stress'\n",
    "\n",
    "dataset = ContagionDataset(\n",
    "    raw_dir=data_dir,\n",
    "    drop_edges=0,\n",
    "    sets_lengths=sets_lengths,\n",
    "    target = target,\n",
    ")\n",
    "\n",
    "out_feats = 1"
   ]
  },
  {
   "cell_type": "markdown",
   "metadata": {},
   "source": [
    "## Baseline"
   ]
  },
  {
   "cell_type": "markdown",
   "metadata": {},
   "source": [
    "### FNN"
   ]
  },
  {
   "cell_type": "code",
   "execution_count": 7,
   "metadata": {},
   "outputs": [],
   "source": [
    "save_model = f'{save_path}_fnn'\n",
    "log_dir = f'{log_path}_fnn'\n",
    "\n",
    "dataset_val = ContagionDataset(\n",
    "    raw_dir=data_dir,\n",
    "    drop_edges=0,\n",
    "    sets_lengths=sets_lengths,\n",
    "    add_self_loop = False,\n",
    "    target = target,\n",
    ")\n",
    "\n",
    "# fnn_model = dict(\n",
    "#     in_features=[len(dataset_val.node_attributes)],\n",
    "#     h_features=[[5, 10], [10, 15], [5,5,5], [5, 10, 15], [5, 10, 15, 20], [5], [10], [15]],\n",
    "#     out_features=[dataset_val.num_classes],\n",
    "#     activation=[torch.nn.ReLU()],\n",
    "#     norm_nodes = [None, 'bn', 'gn'],\n",
    "#     dropout=[0.2, 0.5, 0.0],\n",
    "#     # other\n",
    "#     lr=[1, 1e-1, 1e-2],\n",
    "#     label_smoothing=[0.0, 0.2, 0.4],\n",
    "# )\n",
    "\n",
    "fnn_model = dict(\n",
    "    in_features=[len(dataset_val.node_attributes)],\n",
    "    h_features=[[10, 15], [10, 15, 20], [5, 10, 15], [len(dataset_val.node_attributes)] * 2],\n",
    "    out_features=[dataset_val.num_classes],\n",
    "    activation=[torch.nn.ReLU()],\n",
    "    norm_nodes = [None, 'bn', 'gn'],\n",
    "    dropout=[0.2, 0.0],\n",
    "    # other\n",
    "    lr=[1e-1],\n",
    ")\n",
    "list_model = [dict(zip(fnn_model.keys(), k)) for k in itertools.product(*fnn_model.values())]"
   ]
  },
  {
   "cell_type": "code",
   "execution_count": 8,
   "metadata": {
    "collapsed": false,
    "pycharm": {
     "name": "#%%\n"
    }
   },
   "outputs": [
    {
     "name": "stderr",
     "output_type": "stream",
     "text": [
      "100%|██████████| 24/24 [01:05<00:00,  2.74s/it]\n"
     ]
    }
   ],
   "source": [
    "if do_train:\n",
    "    for d in tqdm(list_model):\n",
    "        d = d.copy()\n",
    "        lr = d.pop('lr')\n",
    "\n",
    "        train(\n",
    "            model=FNN(**d),\n",
    "            dict_model=d,\n",
    "            dataset_train=dataset_val,\n",
    "            dataset_val=dataset_val,\n",
    "            log_dir=log_dir,\n",
    "            save_path=save_model,\n",
    "            lr=lr,\n",
    "            optimizer_name=\"adamw\",\n",
    "            n_epochs=100,\n",
    "            scheduler_mode='max_val_mcc',\n",
    "            debug_mode=False,\n",
    "            steps_save=10,\n",
    "            use_cpu=False,\n",
    "            use_edge_weight=False,\n",
    "            loss_type='mse',\n",
    "        )"
   ]
  },
  {
   "cell_type": "markdown",
   "metadata": {},
   "source": [
    "#### Results"
   ]
  },
  {
   "cell_type": "code",
   "execution_count": 9,
   "metadata": {},
   "outputs": [
    {
     "name": "stderr",
     "output_type": "stream",
     "text": [
      "100%|██████████| 264/264 [00:13<00:00, 20.11it/s]\n"
     ]
    }
   ],
   "source": [
    "res_edges_fnn = test(\n",
    "    dataset=dataset_val,\n",
    "    save_path=save_model,\n",
    "    n_runs=1,\n",
    "    debug_mode=False,\n",
    "    use_cpu=False,\n",
    "    save=True,\n",
    "    use_edge_weight=False,\n",
    ")"
   ]
  },
  {
   "cell_type": "code",
   "execution_count": 10,
   "metadata": {},
   "outputs": [
    {
     "data": {
      "text/plain": [
       "{'in_features': 4,\n",
       " 'h_features': [10, 15],\n",
       " 'out_features': 4,\n",
       " 'activation': ReLU(),\n",
       " 'norm_nodes': None,\n",
       " 'dropout': 0.0,\n",
       " 'train_lr': 0.1,\n",
       " 'train_optimizer_name': 'adamw',\n",
       " 'train_scheduler_mode': 'max_val_mcc',\n",
       " 'train_use_edge_weight': False,\n",
       " 'train_loss_type': 'mse',\n",
       " 'train_self_loop': False,\n",
       " 'train_drop_edges': 0,\n",
       " 'train_loss': 0.5479242,\n",
       " 'train_acc': 0.48571425676345825,\n",
       " 'val_acc': 0.44444432854652405,\n",
       " 'epoch': 20,\n",
       " 'model_class': 'fnn',\n",
       " 'path_name': '4_[10_15]_4_ReLU()_None_0.0_0.1_adamw_max_val_mcc_False_mse_False_0_20',\n",
       " 'train_rmse': 0.828078671210825,\n",
       " 'val_rmse': 1.0954451150103321,\n",
       " 'test_rmse': 1.0081152197523338,\n",
       " 'train_rmse_perc': 0.20851497,\n",
       " 'val_rmse_perc': 0.2763692,\n",
       " 'test_rmse_perc': 0.24368563,\n",
       " 'train_mcc': 0.3051030615148965,\n",
       " 'val_mcc': 0.23097195246903487,\n",
       " 'test_mcc': 0.2888650790834174,\n",
       " 'test_acc': 0.4525925815105438}"
      ]
     },
     "execution_count": 10,
     "metadata": {},
     "output_type": "execute_result"
    }
   ],
   "source": [
    "res_edges = res_edges_fnn\n",
    "res_edges[0]"
   ]
  },
  {
   "cell_type": "code",
   "execution_count": 11,
   "metadata": {},
   "outputs": [
    {
     "data": {
      "text/plain": [
       "{'in_features': 4,\n",
       " 'h_features': [10, 15],\n",
       " 'out_features': 4,\n",
       " 'activation': ReLU(),\n",
       " 'norm_nodes': None,\n",
       " 'dropout': 0.2,\n",
       " 'train_lr': 0.1,\n",
       " 'train_optimizer_name': 'adamw',\n",
       " 'train_scheduler_mode': 'max_val_mcc',\n",
       " 'train_use_edge_weight': False,\n",
       " 'train_loss_type': 'mse',\n",
       " 'train_self_loop': False,\n",
       " 'train_drop_edges': 0,\n",
       " 'train_loss': 0.7047917,\n",
       " 'train_acc': 0.4476190209388733,\n",
       " 'val_acc': 0.4222221076488495,\n",
       " 'epoch': 80,\n",
       " 'model_class': 'fnn',\n",
       " 'path_name': '4_[10_15]_4_ReLU()_None_0.2_0.1_adamw_max_val_mcc_False_mse_False_0_80',\n",
       " 'train_rmse': 0.8338093878327919,\n",
       " 'val_rmse': 1.0540925533894598,\n",
       " 'test_rmse': 0.9071730611977865,\n",
       " 'train_rmse_perc': 0.2290881,\n",
       " 'val_rmse_perc': 0.2832718,\n",
       " 'test_rmse_perc': 0.23170336,\n",
       " 'train_mcc': 0.32864694893805035,\n",
       " 'val_mcc': 0.223918312757173,\n",
       " 'test_mcc': 0.32512921142122125,\n",
       " 'test_acc': 0.4148148000240326}"
      ]
     },
     "execution_count": 11,
     "metadata": {},
     "output_type": "execute_result"
    }
   ],
   "source": [
    "all = res_edges[2]\n",
    "# ascending order\n",
    "sort_idx = np.argsort([k['dict'][metric_filter_1] for k in all])[::-1]\n",
    "all[sort_idx[0]]['dict']"
   ]
  },
  {
   "cell_type": "code",
   "execution_count": 12,
   "metadata": {},
   "outputs": [
    {
     "data": {
      "text/plain": [
       "{'in_features': 4,\n",
       " 'h_features': [10, 15],\n",
       " 'out_features': 4,\n",
       " 'activation': ReLU(),\n",
       " 'norm_nodes': 'gn',\n",
       " 'dropout': 0.2,\n",
       " 'train_lr': 0.1,\n",
       " 'train_optimizer_name': 'adamw',\n",
       " 'train_scheduler_mode': 'max_val_mcc',\n",
       " 'train_use_edge_weight': False,\n",
       " 'train_loss_type': 'mse',\n",
       " 'train_self_loop': False,\n",
       " 'train_drop_edges': 0,\n",
       " 'train_loss': 0.7519978,\n",
       " 'train_acc': 0.39047616720199585,\n",
       " 'val_acc': 0.4666665494441986,\n",
       " 'epoch': 30,\n",
       " 'model_class': 'fnn',\n",
       " 'path_name': '4_[10_15]_4_ReLU()_gn_0.2_0.1_adamw_max_val_mcc_False_mse_False_0_30',\n",
       " 'train_rmse': 0.8338093878327919,\n",
       " 'val_rmse': 1.0954451150103321,\n",
       " 'test_rmse': 0.9790395898626973,\n",
       " 'train_rmse_perc': 0.21490575,\n",
       " 'val_rmse_perc': 0.26732048,\n",
       " 'test_rmse_perc': 0.24634488,\n",
       " 'train_mcc': 0.18986557609449256,\n",
       " 'val_mcc': 0.3838327250665648,\n",
       " 'test_mcc': 0.2171978538308696,\n",
       " 'test_acc': 0.36592593789100647}"
      ]
     },
     "execution_count": 12,
     "metadata": {},
     "output_type": "execute_result"
    }
   ],
   "source": [
    "all = res_edges[2]\n",
    "# ascending order\n",
    "sort_idx = np.argsort([k['dict'][metric_filter_2] for k in all])[::-1]\n",
    "all[sort_idx[0]]['dict']"
   ]
  },
  {
   "cell_type": "code",
   "execution_count": 13,
   "metadata": {},
   "outputs": [
    {
     "name": "stderr",
     "output_type": "stream",
     "text": [
      "100%|██████████| 264/264 [00:00<00:00, 24064.86it/s]\n"
     ]
    }
   ],
   "source": [
    "pretty([all[k]['dict'] for k in sort_idx])"
   ]
  },
  {
   "cell_type": "markdown",
   "metadata": {
    "collapsed": false
   },
   "source": [
    "### GCN"
   ]
  },
  {
   "cell_type": "code",
   "execution_count": 14,
   "metadata": {},
   "outputs": [],
   "source": [
    "save_model = f'{save_path}_gcn'\n",
    "log_dir = f'{log_path}_gcn'\n",
    "\n",
    "add_self_loop = True\n",
    "\n",
    "dataset_val = ContagionDataset(\n",
    "    raw_dir=data_dir,\n",
    "    drop_edges=0,\n",
    "    sets_lengths=sets_lengths,\n",
    "    add_self_loop = add_self_loop,\n",
    "    target = target,\n",
    ")\n",
    "\n",
    "gcn_model = dict(\n",
    "    in_features=[len(dataset_val.node_attributes)],\n",
    "    h_features=[[15] * 3, [10, 15, 20], [5, 10, 15, 20],],\n",
    "    out_features=[dataset_val.num_classes],\n",
    "    activation=[torch.nn.ReLU()],\n",
    "    norm_edges=['both', 'none'],\n",
    "    norm_nodes=[None, 'bn', 'gn'],\n",
    "    dropout=[0.2, 0.0],\n",
    "    # other\n",
    "    lr=[1e-1],\n",
    "    use_edge_weight=[True,],\n",
    "    drop_edges=[0,0.2],\n",
    ")\n",
    "list_model = [dict(zip(gcn_model.keys(), k)) for k in itertools.product(*gcn_model.values())]\n",
    "\n",
    "# gcn_model = dict(\n",
    "#     in_features=[len(dataset_val.node_attributes)],\n",
    "#     h_features=[[10] * 3],\n",
    "#     out_features=[dataset_val.num_classes],\n",
    "#     activation=[torch.nn.ReLU()],\n",
    "#     norm_edges=['both', 'none'],\n",
    "#     norm_nodes=[None, 'bn', 'gn'],\n",
    "#     dropout=[0.2, 0.0],\n",
    "#     # other\n",
    "#     lr=[1],\n",
    "#     label_smoothing=[0.0,],\n",
    "#     use_edge_weight=[True, ],\n",
    "#     drop_edges=[0,0.2],\n",
    "# )\n",
    "# list_model = [{i:j[k] for i,j in gcn_model.items()} for k in range(len(gcn_model['in_features']))]"
   ]
  },
  {
   "cell_type": "code",
   "execution_count": 15,
   "metadata": {
    "collapsed": false,
    "pycharm": {
     "name": "#%%\n"
    }
   },
   "outputs": [
    {
     "name": "stderr",
     "output_type": "stream",
     "text": [
      "100%|██████████| 72/72 [06:45<00:00,  5.63s/it]\n"
     ]
    }
   ],
   "source": [
    "if do_train:\n",
    "    for d in tqdm(list_model):\n",
    "        d = d.copy()\n",
    "        lr = d.pop('lr')\n",
    "        drop_edges = d.pop('drop_edges')\n",
    "        use_edge_weight = d.pop('use_edge_weight')\n",
    "\n",
    "        # dataset_valid = ContagionDataset(\n",
    "        #     raw_dir=data_dir,\n",
    "        #     drop_edges=0,\n",
    "        #     sets_lengths=sets_lengths,\n",
    "        #     add_self_loop = add_self_loop,\n",
    "        #     target = target,\n",
    "        #     seed=seed,\n",
    "        # )\n",
    "\n",
    "        dataset_train = ContagionDataset(\n",
    "            raw_dir=data_dir,\n",
    "            drop_edges=drop_edges,\n",
    "            sets_lengths=sets_lengths,\n",
    "            add_self_loop = add_self_loop,\n",
    "            target = target,\n",
    "        )\n",
    "\n",
    "        train(\n",
    "            model=GCN(**d),\n",
    "            dict_model=d,\n",
    "            dataset_train=dataset_train,\n",
    "            dataset_val=dataset_val,\n",
    "            log_dir=log_dir,\n",
    "            save_path=save_model,\n",
    "            lr=lr,\n",
    "            optimizer_name=\"adamw\",\n",
    "            n_epochs=100,\n",
    "            scheduler_mode='max_val_mcc',\n",
    "            debug_mode=False,\n",
    "            steps_save=10,\n",
    "            use_cpu=False,\n",
    "            use_edge_weight=use_edge_weight,\n",
    "            loss_type='mse',\n",
    "        )"
   ]
  },
  {
   "cell_type": "markdown",
   "metadata": {},
   "source": [
    "#### Results"
   ]
  },
  {
   "cell_type": "code",
   "execution_count": 16,
   "metadata": {},
   "outputs": [
    {
     "name": "stderr",
     "output_type": "stream",
     "text": [
      "100%|██████████| 792/792 [00:48<00:00, 16.40it/s]\n"
     ]
    }
   ],
   "source": [
    "res_edges_gcn = test(\n",
    "    dataset=dataset_val,\n",
    "    save_path=save_model,\n",
    "    n_runs=1,\n",
    "    debug_mode=False,\n",
    "    use_cpu=False,\n",
    "    save=True,\n",
    "    use_edge_weight=True,\n",
    ")"
   ]
  },
  {
   "cell_type": "code",
   "execution_count": 17,
   "metadata": {},
   "outputs": [
    {
     "data": {
      "text/plain": [
       "{'in_features': 4,\n",
       " 'h_features': [10, 15, 20],\n",
       " 'out_features': 4,\n",
       " 'activation': ReLU(),\n",
       " 'norm_edges': 'none',\n",
       " 'norm_nodes': None,\n",
       " 'dropout': 0.0,\n",
       " 'train_lr': 0.1,\n",
       " 'train_optimizer_name': 'adamw',\n",
       " 'train_scheduler_mode': 'max_val_mcc',\n",
       " 'train_use_edge_weight': True,\n",
       " 'train_loss_type': 'mse',\n",
       " 'train_self_loop': True,\n",
       " 'train_drop_edges': 0.2,\n",
       " 'train_loss': 0.74752784,\n",
       " 'train_acc': 0.40952378511428833,\n",
       " 'val_acc': 0.3111110329627991,\n",
       " 'epoch': 30,\n",
       " 'model_class': 'gcn',\n",
       " 'path_name': '4_[10_15_20]_4_ReLU()_none_None_0.0_0.1_adamw_max_val_mcc_True_mse_True_0.2_30',\n",
       " 'train_rmse': 0.9360504666899516,\n",
       " 'val_rmse': 1.2823589374447564,\n",
       " 'test_rmse': 0.9063561559792495,\n",
       " 'train_rmse_perc': 0.24060929,\n",
       " 'val_rmse_perc': 0.35304755,\n",
       " 'test_rmse_perc': 0.24076091,\n",
       " 'train_mcc': 0.29377525400691096,\n",
       " 'val_mcc': 0.07394793914329262,\n",
       " 'test_mcc': 0.3320075479216822,\n",
       " 'test_acc': 0.44370371103286743}"
      ]
     },
     "execution_count": 17,
     "metadata": {},
     "output_type": "execute_result"
    }
   ],
   "source": [
    "res_edges = res_edges_gcn\n",
    "res_edges[0]"
   ]
  },
  {
   "cell_type": "code",
   "execution_count": 18,
   "metadata": {},
   "outputs": [
    {
     "data": {
      "text/plain": [
       "{'in_features': 4,\n",
       " 'h_features': [10, 15, 20],\n",
       " 'out_features': 4,\n",
       " 'activation': ReLU(),\n",
       " 'norm_edges': 'none',\n",
       " 'norm_nodes': 'gn',\n",
       " 'dropout': 0.2,\n",
       " 'train_lr': 0.1,\n",
       " 'train_optimizer_name': 'adamw',\n",
       " 'train_scheduler_mode': 'max_val_mcc',\n",
       " 'train_use_edge_weight': True,\n",
       " 'train_loss_type': 'mse',\n",
       " 'train_self_loop': True,\n",
       " 'train_drop_edges': 0.2,\n",
       " 'train_loss': 0.78913975,\n",
       " 'train_acc': 0.39047616720199585,\n",
       " 'val_acc': 0.37777769565582275,\n",
       " 'epoch': 99,\n",
       " 'model_class': 'gcn',\n",
       " 'path_name': '4_[10_15_20]_4_ReLU()_none_gn_0.2_0.1_adamw_max_val_mcc_True_mse_True_0.2',\n",
       " 'train_rmse': 0.9461702252967461,\n",
       " 'val_rmse': 1.0749676997731399,\n",
       " 'test_rmse': 0.8886110676947647,\n",
       " 'train_rmse_perc': 0.23635091,\n",
       " 'val_rmse_perc': 0.27917218,\n",
       " 'test_rmse_perc': 0.21720244,\n",
       " 'train_mcc': 0.30060945800869554,\n",
       " 'val_mcc': 0.15543832804525193,\n",
       " 'test_mcc': 0.3447095470319685,\n",
       " 'test_acc': 0.4333333373069763}"
      ]
     },
     "execution_count": 18,
     "metadata": {},
     "output_type": "execute_result"
    }
   ],
   "source": [
    "all = res_edges[2]\n",
    "# ascending order\n",
    "sort_idx = np.argsort([k['dict'][metric_filter_1] for k in all])[::-1]\n",
    "all[sort_idx[0]]['dict']"
   ]
  },
  {
   "cell_type": "code",
   "execution_count": 19,
   "metadata": {},
   "outputs": [
    {
     "data": {
      "text/plain": [
       "{'in_features': 4,\n",
       " 'h_features': [5, 10, 15, 20],\n",
       " 'out_features': 4,\n",
       " 'activation': ReLU(),\n",
       " 'norm_edges': 'none',\n",
       " 'norm_nodes': 'bn',\n",
       " 'dropout': 0.2,\n",
       " 'train_lr': 0.1,\n",
       " 'train_optimizer_name': 'adamw',\n",
       " 'train_scheduler_mode': 'max_val_mcc',\n",
       " 'train_use_edge_weight': True,\n",
       " 'train_loss_type': 'mse',\n",
       " 'train_self_loop': True,\n",
       " 'train_drop_edges': 0.2,\n",
       " 'train_loss': 1.0520676,\n",
       " 'train_acc': 0.4285714030265808,\n",
       " 'val_acc': 0.4222221076488495,\n",
       " 'epoch': 10,\n",
       " 'model_class': 'gcn',\n",
       " 'path_name': '4_[5_10_15_20]_4_ReLU()_none_bn_0.2_0.1_adamw_max_val_mcc_True_mse_True_0.2_10',\n",
       " 'train_rmse': 0.9952267030562386,\n",
       " 'val_rmse': 1.1155467020454342,\n",
       " 'test_rmse': 1.0488088481701516,\n",
       " 'train_rmse_perc': 0.2726627,\n",
       " 'val_rmse_perc': 0.2901292,\n",
       " 'test_rmse_perc': 0.27477026,\n",
       " 'train_mcc': 0.24985040350696497,\n",
       " 'val_mcc': 0.2783638805539702,\n",
       " 'test_mcc': 0.2184061506340115,\n",
       " 'test_acc': 0.402222216129303}"
      ]
     },
     "execution_count": 19,
     "metadata": {},
     "output_type": "execute_result"
    }
   ],
   "source": [
    "all = res_edges[2]\n",
    "# ascending order\n",
    "sort_idx = np.argsort([k['dict'][metric_filter_2] for k in all])[::-1]\n",
    "all[sort_idx[0]]['dict']"
   ]
  },
  {
   "cell_type": "code",
   "execution_count": 20,
   "metadata": {},
   "outputs": [
    {
     "name": "stderr",
     "output_type": "stream",
     "text": [
      "100%|██████████| 792/792 [00:00<00:00, 30544.42it/s]\n"
     ]
    }
   ],
   "source": [
    "pretty([all[k]['dict'] for k in sort_idx])"
   ]
  },
  {
   "cell_type": "markdown",
   "metadata": {
    "collapsed": false
   },
   "source": [
    "### GraphSAGE"
   ]
  },
  {
   "cell_type": "code",
   "execution_count": 21,
   "metadata": {},
   "outputs": [],
   "source": [
    "save_model = f'{save_path}_sage'\n",
    "log_dir = f'{log_path}_sage'\n",
    "\n",
    "dataset_val = ContagionDataset(\n",
    "    raw_dir=data_dir,\n",
    "    drop_edges=0,\n",
    "    sets_lengths=sets_lengths,\n",
    "    add_self_loop = True,\n",
    "    target = target,\n",
    ")\n",
    "\n",
    "sage_model = dict(\n",
    "    in_features = [len(dataset.node_attributes)],\n",
    "    h_features = [[15] * 3, [20], [15], [20] * 2, [15] * 2, [25], [30]], \n",
    "    out_features = [out_feats],\n",
    "    aggregator_type = ['lstm'],\n",
    "    norm_edges = ['right', 'none'],\n",
    "    norm_nodes = [None, 'bn', 'gn'],\n",
    "    activation = [torch.nn.ReLU()],\n",
    "    feat_drop = [0.2, 0],\n",
    "    # other\n",
    "    lr=[1e-2],\n",
    "    use_edge_weight=[True],\n",
    "    add_self_loop=[True],\n",
    "    drop_edges=[0,0.2],\n",
    ")\n",
    "list_model = [dict(zip(sage_model.keys(), k)) for k in itertools.product(*sage_model.values())]\n",
    "\n",
    "# sage_model = dict(\n",
    "#     in_features = [len(dataset.node_attributes)],\n",
    "#     h_features = [[30] * 3], \n",
    "#     out_features = [out_feats],\n",
    "#     aggregator_type = ['lstm'],\n",
    "#     norm_edges = ['none'],\n",
    "#     norm_nodes = ['gn'],\n",
    "#     activation = [torch.nn.ReLU()],\n",
    "#     feat_drop = [0],\n",
    "#     # other\n",
    "#     lr=[1e-2],\n",
    "#     label_smoothing=[0.0],\n",
    "#     use_edge_weight=[True],\n",
    "#     add_self_loop=[True],\n",
    "#     drop_edges=[0],\n",
    "# )\n",
    "# list_model = [{i:j[k] for i,j in sage_model.items()} for k in range(len(sage_model['in_features']))]"
   ]
  },
  {
   "cell_type": "code",
   "execution_count": 22,
   "metadata": {
    "collapsed": false,
    "pycharm": {
     "name": "#%%\n"
    }
   },
   "outputs": [
    {
     "name": "stderr",
     "output_type": "stream",
     "text": [
      "100%|██████████| 168/168 [3:05:52<00:00, 66.39s/it]  \n"
     ]
    }
   ],
   "source": [
    "if do_train:\n",
    "    for d in tqdm(list_model):\n",
    "        d = d.copy()\n",
    "        lr = d.pop('lr')\n",
    "        add_self_loop = d.pop('add_self_loop')\n",
    "        drop_edges = d.pop('drop_edges')\n",
    "        use_edge_weight = d.pop('use_edge_weight')\n",
    "\n",
    "        dataset_valid = ContagionDataset(\n",
    "            raw_dir=data_dir,\n",
    "            drop_edges=0,\n",
    "            sets_lengths=sets_lengths,\n",
    "            add_self_loop = add_self_loop,\n",
    "            target = target,\n",
    "        )\n",
    "\n",
    "        dataset_train = ContagionDataset(\n",
    "            raw_dir=data_dir,\n",
    "            drop_edges=drop_edges,\n",
    "            sets_lengths=sets_lengths,\n",
    "            add_self_loop = add_self_loop,\n",
    "            target = target,\n",
    "        )\n",
    "\n",
    "        train(\n",
    "            model=GraphSAGE(**d),\n",
    "            dict_model=d,\n",
    "            dataset_train=dataset_train,\n",
    "            dataset_val=dataset_valid,\n",
    "            log_dir=log_dir,\n",
    "            save_path=save_model,\n",
    "            lr=lr,\n",
    "            optimizer_name=\"adamw\",\n",
    "            n_epochs=100,\n",
    "            scheduler_mode='max_val_mcc',\n",
    "            debug_mode=False,\n",
    "            steps_save=10,\n",
    "            use_cpu=False,\n",
    "            use_edge_weight=use_edge_weight,\n",
    "            loss_type='mse',\n",
    "        )"
   ]
  },
  {
   "cell_type": "markdown",
   "metadata": {},
   "source": [
    "#### Results"
   ]
  },
  {
   "cell_type": "code",
   "execution_count": 23,
   "metadata": {},
   "outputs": [
    {
     "name": "stderr",
     "output_type": "stream",
     "text": [
      "100%|██████████| 1386/1386 [07:58<00:00,  2.90it/s]\n"
     ]
    },
    {
     "data": {
      "text/plain": [
       "True"
      ]
     },
     "execution_count": 23,
     "metadata": {},
     "output_type": "execute_result"
    }
   ],
   "source": [
    "res_edges_sage = test(\n",
    "    dataset=dataset_val,\n",
    "    save_path=save_model,\n",
    "    n_runs=1,\n",
    "    debug_mode=False,\n",
    "    use_cpu=False,\n",
    "    save=True,\n",
    "    use_edge_weight=True,\n",
    ")\n",
    "\n",
    "toast.show_toast(\"Done\")"
   ]
  },
  {
   "cell_type": "code",
   "execution_count": 24,
   "metadata": {},
   "outputs": [
    {
     "data": {
      "text/plain": [
       "{'in_features': 4,\n",
       " 'h_features': [30],\n",
       " 'out_features': 1,\n",
       " 'aggregator_type': 'lstm',\n",
       " 'norm_edges': 'none',\n",
       " 'norm_nodes': 'bn',\n",
       " 'activation': ReLU(),\n",
       " 'feat_drop': 0,\n",
       " 'train_lr': 0.01,\n",
       " 'train_optimizer_name': 'adamw',\n",
       " 'train_scheduler_mode': 'max_val_mcc',\n",
       " 'train_use_edge_weight': True,\n",
       " 'train_loss_type': 'mse',\n",
       " 'train_self_loop': True,\n",
       " 'train_drop_edges': 0,\n",
       " 'train_loss': 0.087658465,\n",
       " 'train_acc': 0.6380952000617981,\n",
       " 'val_acc': 0.7111109495162964,\n",
       " 'epoch': 80,\n",
       " 'model_class': 'sage',\n",
       " 'path_name': '4_[30]_1_lstm_none_bn_ReLU()_0_0.01_adamw_max_val_mcc_True_mse_True_0_80',\n",
       " 'train_rmse': 0.7988086367179802,\n",
       " 'val_rmse': 0.6497862896539309,\n",
       " 'test_rmse': 0.6194382162118379,\n",
       " 'train_rmse_perc': 0.18398976,\n",
       " 'val_rmse_perc': 0.13807438,\n",
       " 'test_rmse_perc': 0.14336288,\n",
       " 'train_mcc': 0.5248961500049361,\n",
       " 'val_mcc': 0.6160268319752573,\n",
       " 'test_mcc': 0.6555090247640487,\n",
       " 'test_acc': 0.7400000095367432}"
      ]
     },
     "execution_count": 24,
     "metadata": {},
     "output_type": "execute_result"
    }
   ],
   "source": [
    "res_edges = res_edges_sage\n",
    "res_edges[0]"
   ]
  },
  {
   "cell_type": "code",
   "execution_count": 25,
   "metadata": {},
   "outputs": [
    {
     "data": {
      "text/plain": [
       "{'in_features': 4,\n",
       " 'h_features': [30],\n",
       " 'out_features': 1,\n",
       " 'aggregator_type': 'lstm',\n",
       " 'norm_edges': 'none',\n",
       " 'norm_nodes': 'bn',\n",
       " 'activation': ReLU(),\n",
       " 'feat_drop': 0,\n",
       " 'train_lr': 0.01,\n",
       " 'train_optimizer_name': 'adamw',\n",
       " 'train_scheduler_mode': 'max_val_mcc',\n",
       " 'train_use_edge_weight': True,\n",
       " 'train_loss_type': 'mse',\n",
       " 'train_self_loop': True,\n",
       " 'train_drop_edges': 0,\n",
       " 'train_loss': 0.087658465,\n",
       " 'train_acc': 0.6380952000617981,\n",
       " 'val_acc': 0.7111109495162964,\n",
       " 'epoch': 80,\n",
       " 'model_class': 'sage',\n",
       " 'path_name': '4_[30]_1_lstm_none_bn_ReLU()_0_0.01_adamw_max_val_mcc_True_mse_True_0_80',\n",
       " 'train_rmse': 0.7988086367179802,\n",
       " 'val_rmse': 0.6497862896539309,\n",
       " 'test_rmse': 0.6194382162118379,\n",
       " 'train_rmse_perc': 0.18398976,\n",
       " 'val_rmse_perc': 0.13807438,\n",
       " 'test_rmse_perc': 0.14336288,\n",
       " 'train_mcc': 0.5248961500049361,\n",
       " 'val_mcc': 0.6160268319752573,\n",
       " 'test_mcc': 0.6555090247640487,\n",
       " 'test_acc': 0.7400000095367432}"
      ]
     },
     "execution_count": 25,
     "metadata": {},
     "output_type": "execute_result"
    }
   ],
   "source": [
    "all = res_edges[2]\n",
    "# ascending order\n",
    "sort_idx = np.argsort([k['dict'][metric_filter_1] for k in all])[::-1]\n",
    "all[sort_idx[0]]['dict']"
   ]
  },
  {
   "cell_type": "code",
   "execution_count": 26,
   "metadata": {},
   "outputs": [
    {
     "data": {
      "text/plain": [
       "{'in_features': 4,\n",
       " 'h_features': [30],\n",
       " 'out_features': 1,\n",
       " 'aggregator_type': 'lstm',\n",
       " 'norm_edges': 'none',\n",
       " 'norm_nodes': 'bn',\n",
       " 'activation': ReLU(),\n",
       " 'feat_drop': 0,\n",
       " 'train_lr': 0.01,\n",
       " 'train_optimizer_name': 'adamw',\n",
       " 'train_scheduler_mode': 'max_val_mcc',\n",
       " 'train_use_edge_weight': True,\n",
       " 'train_loss_type': 'mse',\n",
       " 'train_self_loop': True,\n",
       " 'train_drop_edges': 0.2,\n",
       " 'train_loss': 0.3847801,\n",
       " 'train_acc': 0.6190475821495056,\n",
       " 'val_acc': 0.7777775526046753,\n",
       " 'epoch': 60,\n",
       " 'model_class': 'sage',\n",
       " 'path_name': '4_[30]_1_lstm_none_bn_ReLU()_0_0.01_adamw_max_val_mcc_True_mse_True_0.2_60',\n",
       " 'train_rmse': 0.7745966692414834,\n",
       " 'val_rmse': 0.6497862896539309,\n",
       " 'test_rmse': 0.7200822998230956,\n",
       " 'train_rmse_perc': 0.17440139,\n",
       " 'val_rmse_perc': 0.15619987,\n",
       " 'test_rmse_perc': 0.16268875,\n",
       " 'train_mcc': 0.5029673973410929,\n",
       " 'val_mcc': 0.7167487349599454,\n",
       " 'test_mcc': 0.5728164435372629,\n",
       " 'test_acc': 0.6762962937355042}"
      ]
     },
     "execution_count": 26,
     "metadata": {},
     "output_type": "execute_result"
    }
   ],
   "source": [
    "all = res_edges[2]\n",
    "# ascending order\n",
    "sort_idx = np.argsort([k['dict'][metric_filter_2] for k in all])[::-1]\n",
    "all[sort_idx[0]]['dict']"
   ]
  },
  {
   "cell_type": "code",
   "execution_count": 27,
   "metadata": {},
   "outputs": [
    {
     "name": "stderr",
     "output_type": "stream",
     "text": [
      "100%|██████████| 1386/1386 [00:00<00:00, 29569.50it/s]\n"
     ]
    }
   ],
   "source": [
    "pretty([all[k]['dict'] for k in sort_idx])"
   ]
  },
  {
   "cell_type": "markdown",
   "metadata": {},
   "source": [
    "#### cm"
   ]
  },
  {
   "cell_type": "code",
   "execution_count": 28,
   "metadata": {},
   "outputs": [],
   "source": [
    "cm = all[sort_idx[0]]['test_cm'][0]"
   ]
  },
  {
   "cell_type": "code",
   "execution_count": 29,
   "metadata": {},
   "outputs": [
    {
     "data": {
      "text/plain": [
       "tensor(351)"
      ]
     },
     "execution_count": 29,
     "metadata": {},
     "output_type": "execute_result"
    }
   ],
   "source": [
    "(cm.labels==0).sum()"
   ]
  },
  {
   "cell_type": "code",
   "execution_count": 30,
   "metadata": {},
   "outputs": [
    {
     "data": {
      "text/plain": [
       "<module 'matplotlib.pyplot' from 'c:\\\\Users\\\\vibal\\\\PycharmProjects\\\\systemic-risk-predictor\\\\venv\\\\lib\\\\site-packages\\\\matplotlib\\\\pyplot.py'>"
      ]
     },
     "execution_count": 30,
     "metadata": {},
     "output_type": "execute_result"
    },
    {
     "data": {
      "image/png": "[encoded data removed]",
      "text/plain": [
       "<Figure size 1080x720 with 2 Axes>"
      ]
     },
     "metadata": {
      "needs_background": "light"
     },
     "output_type": "display_data"
    }
   ],
   "source": [
    "cm.visualize()"
   ]
  },
  {
   "cell_type": "code",
   "execution_count": 31,
   "metadata": {},
   "outputs": [
    {
     "data": {
      "text/plain": [
       "tensor([0.7835, 0.5335, 0.4740, 0.8953])"
      ]
     },
     "execution_count": 31,
     "metadata": {},
     "output_type": "execute_result"
    }
   ],
   "source": [
    "cm.class_accuracy"
   ]
  },
  {
   "cell_type": "code",
   "execution_count": 32,
   "metadata": {},
   "outputs": [
    {
     "data": {
      "text/plain": [
       "[0.17597763, 0.1909882, 0.14250371, 0.13486327]"
      ]
     },
     "execution_count": 32,
     "metadata": {},
     "output_type": "execute_result"
    }
   ],
   "source": [
    "[mean_squared_error(y_true=cm.true_percentiles[cm.labels==k], y_pred=cm.pseudo_perc[cm.labels==k], squared=False) for k in range(0, cm.size)]"
   ]
  },
  {
   "cell_type": "code",
   "execution_count": 34,
   "metadata": {},
   "outputs": [
    {
     "data": {
      "text/plain": [
       "[0.10359016, 0.14085221, 0.11275216, 0.09126493]"
      ]
     },
     "execution_count": 34,
     "metadata": {},
     "output_type": "execute_result"
    }
   ],
   "source": [
    "[mean_absolute_error(y_true=cm.true_percentiles[cm.labels==k], y_pred=cm.pseudo_perc[cm.labels==k]) for k in range(0, cm.size)]"
   ]
  },
  {
   "cell_type": "markdown",
   "metadata": {},
   "source": [
    "#### GraphSAGE Base_n"
   ]
  },
  {
   "cell_type": "code",
   "execution_count": 35,
   "metadata": {},
   "outputs": [],
   "source": [
    "save_model = f'{save_path}_sage_base'\n",
    "log_dir = f'{log_path}_sage_base'\n",
    "\n",
    "dataset_val = ContagionDataset(\n",
    "    raw_dir=data_dir,\n",
    "    drop_edges=0,\n",
    "    sets_lengths=sets_lengths,\n",
    "    add_self_loop = True,\n",
    "    target = target,\n",
    ")\n",
    "\n",
    "sage_model = dict(\n",
    "    in_features = [len(dataset.node_attributes)],\n",
    "    h_features = [[15] * 3, [20], [15], [20] * 2, [15] * 2, [25], [30]], \n",
    "    out_features = [out_feats],\n",
    "    aggregator_type = ['mean', 'lstm'],\n",
    "    norm_edges = ['right', 'none'],\n",
    "    norm_nodes = [None, 'bn', 'gn'],\n",
    "    activation = [torch.nn.ReLU()],\n",
    "    feat_drop = [0.2, 0],\n",
    "    # other\n",
    "    lr=[1e-2],\n",
    "    use_edge_weight=[True],\n",
    "    add_self_loop=[True],\n",
    "    drop_edges=[0,0.2],\n",
    ")\n",
    "list_model = [dict(zip(sage_model.keys(), k)) for k in itertools.product(*sage_model.values())]\n",
    "\n",
    "# sage_model = dict(\n",
    "#     in_features = [len(dataset.node_attributes)],\n",
    "#     h_features = [[30] * 3], \n",
    "#     out_features = [out_feats],\n",
    "#     aggregator_type = ['lstm'],\n",
    "#     norm_edges = ['none'],\n",
    "#     norm_nodes = ['gn'],\n",
    "#     activation = [torch.nn.ReLU()],\n",
    "#     feat_drop = [0],\n",
    "#     # other\n",
    "#     lr=[1e-2],\n",
    "#     label_smoothing=[0.0],\n",
    "#     use_edge_weight=[True],\n",
    "#     add_self_loop=[True],\n",
    "#     drop_edges=[0],\n",
    "# )\n",
    "# list_model = [{i:j[k] for i,j in sage_model.items()} for k in range(len(sage_model['in_features']))]"
   ]
  },
  {
   "cell_type": "code",
   "execution_count": 36,
   "metadata": {
    "collapsed": false,
    "pycharm": {
     "name": "#%%\n"
    }
   },
   "outputs": [
    {
     "name": "stderr",
     "output_type": "stream",
     "text": [
      "100%|██████████| 336/336 [3:19:38<00:00, 35.65s/it]  \n"
     ]
    }
   ],
   "source": [
    "if do_train:\n",
    "    for d in tqdm(list_model):\n",
    "        d = d.copy()\n",
    "        lr = d.pop('lr')\n",
    "        add_self_loop = d.pop('add_self_loop')\n",
    "        drop_edges = d.pop('drop_edges')\n",
    "        use_edge_weight = d.pop('use_edge_weight')\n",
    "\n",
    "        dataset_valid = ContagionDataset(\n",
    "            raw_dir=data_dir,\n",
    "            drop_edges=0,\n",
    "            sets_lengths=sets_lengths,\n",
    "            add_self_loop = add_self_loop,\n",
    "            target = target,\n",
    "        )\n",
    "\n",
    "        dataset_train = ContagionDataset(\n",
    "            raw_dir=data_dir,\n",
    "            drop_edges=drop_edges,\n",
    "            sets_lengths=sets_lengths,\n",
    "            add_self_loop = add_self_loop,\n",
    "            target = target,\n",
    "        )\n",
    "\n",
    "        train(\n",
    "            model=GraphSAGE(**d),\n",
    "            dict_model=d,\n",
    "            dataset_train=dataset_train,\n",
    "            dataset_val=dataset_valid,\n",
    "            log_dir=log_dir,\n",
    "            save_path=save_model,\n",
    "            lr=lr,\n",
    "            optimizer_name=\"adamw\",\n",
    "            n_epochs=100,\n",
    "            scheduler_mode='max_val_mcc',\n",
    "            debug_mode=False,\n",
    "            steps_save=10,\n",
    "            use_cpu=False,\n",
    "            use_edge_weight=use_edge_weight,\n",
    "            loss_type='mse',\n",
    "            base_n=True,\n",
    "        )"
   ]
  },
  {
   "cell_type": "markdown",
   "metadata": {},
   "source": [
    "##### Results"
   ]
  },
  {
   "cell_type": "code",
   "execution_count": 37,
   "metadata": {},
   "outputs": [
    {
     "name": "stderr",
     "output_type": "stream",
     "text": [
      "100%|██████████| 2772/2772 [08:51<00:00,  5.22it/s]\n"
     ]
    },
    {
     "data": {
      "text/plain": [
       "True"
      ]
     },
     "execution_count": 37,
     "metadata": {},
     "output_type": "execute_result"
    }
   ],
   "source": [
    "res_edges_sage_base = test(\n",
    "    dataset=dataset_val,\n",
    "    save_path=save_model,\n",
    "    n_runs=1,\n",
    "    debug_mode=False,\n",
    "    use_cpu=False,\n",
    "    save=True,\n",
    "    use_edge_weight=True,\n",
    "    base_n=True,\n",
    ")\n",
    "\n",
    "toast.show_toast(\"Done\")"
   ]
  },
  {
   "cell_type": "code",
   "execution_count": 38,
   "metadata": {},
   "outputs": [
    {
     "data": {
      "text/plain": [
       "{'in_features': 4,\n",
       " 'h_features': [30],\n",
       " 'out_features': 1,\n",
       " 'aggregator_type': 'lstm',\n",
       " 'norm_edges': 'none',\n",
       " 'norm_nodes': 'bn',\n",
       " 'activation': ReLU(),\n",
       " 'feat_drop': 0.2,\n",
       " 'train_lr': 0.01,\n",
       " 'train_optimizer_name': 'adamw',\n",
       " 'train_scheduler_mode': 'max_val_mcc',\n",
       " 'train_use_edge_weight': True,\n",
       " 'train_loss_type': 'mse',\n",
       " 'train_self_loop': True,\n",
       " 'train_drop_edges': 0.2,\n",
       " 'train_loss': 0.43415478,\n",
       " 'train_acc': 0.5714285373687744,\n",
       " 'val_acc': 0.3999998867511749,\n",
       " 'epoch': 30,\n",
       " 'model_class': 'sage',\n",
       " 'path_name': '4_[30]_1_lstm_none_bn_ReLU()_0.2_0.01_adamw_max_val_mcc_True_mse_True_0.2_30',\n",
       " 'train_rmse': 0.6761234037828132,\n",
       " 'val_rmse': 0.7745966692414834,\n",
       " 'test_rmse': 0.7403702777314526,\n",
       " 'train_rmse_perc': 0.18432437,\n",
       " 'val_rmse_perc': 0.20603727,\n",
       " 'test_rmse_perc': 0.18960117,\n",
       " 'train_mcc': 0.47494855953693155,\n",
       " 'val_mcc': 0.3441393239046015,\n",
       " 'test_mcc': 0.423669224109029,\n",
       " 'test_acc': 0.5370370149612427}"
      ]
     },
     "execution_count": 38,
     "metadata": {},
     "output_type": "execute_result"
    }
   ],
   "source": [
    "res_edges = res_edges_sage_base\n",
    "res_edges[0]"
   ]
  },
  {
   "cell_type": "code",
   "execution_count": 39,
   "metadata": {},
   "outputs": [
    {
     "data": {
      "text/plain": [
       "{'in_features': 4,\n",
       " 'h_features': [30],\n",
       " 'out_features': 1,\n",
       " 'aggregator_type': 'lstm',\n",
       " 'norm_edges': 'none',\n",
       " 'norm_nodes': 'bn',\n",
       " 'activation': ReLU(),\n",
       " 'feat_drop': 0.2,\n",
       " 'train_lr': 0.01,\n",
       " 'train_optimizer_name': 'adamw',\n",
       " 'train_scheduler_mode': 'max_val_mcc',\n",
       " 'train_use_edge_weight': True,\n",
       " 'train_loss_type': 'mse',\n",
       " 'train_self_loop': True,\n",
       " 'train_drop_edges': 0.2,\n",
       " 'train_loss': 0.43415478,\n",
       " 'train_acc': 0.5714285373687744,\n",
       " 'val_acc': 0.3999998867511749,\n",
       " 'epoch': 30,\n",
       " 'model_class': 'sage',\n",
       " 'path_name': '4_[30]_1_lstm_none_bn_ReLU()_0.2_0.01_adamw_max_val_mcc_True_mse_True_0.2_30',\n",
       " 'train_rmse': 0.6761234037828132,\n",
       " 'val_rmse': 0.7745966692414834,\n",
       " 'test_rmse': 0.7403702777314526,\n",
       " 'train_rmse_perc': 0.18432437,\n",
       " 'val_rmse_perc': 0.20603727,\n",
       " 'test_rmse_perc': 0.18960117,\n",
       " 'train_mcc': 0.47494855953693155,\n",
       " 'val_mcc': 0.3441393239046015,\n",
       " 'test_mcc': 0.423669224109029,\n",
       " 'test_acc': 0.5370370149612427}"
      ]
     },
     "execution_count": 39,
     "metadata": {},
     "output_type": "execute_result"
    }
   ],
   "source": [
    "all = res_edges[2]\n",
    "# ascending order\n",
    "sort_idx = np.argsort([k['dict'][metric_filter_1] for k in all])[::-1]\n",
    "all[sort_idx[0]]['dict']"
   ]
  },
  {
   "cell_type": "code",
   "execution_count": 40,
   "metadata": {},
   "outputs": [
    {
     "data": {
      "text/plain": [
       "{'in_features': 4,\n",
       " 'h_features': [20, 20],\n",
       " 'out_features': 1,\n",
       " 'aggregator_type': 'mean',\n",
       " 'norm_edges': 'none',\n",
       " 'norm_nodes': 'gn',\n",
       " 'activation': ReLU(),\n",
       " 'feat_drop': 0,\n",
       " 'train_lr': 0.01,\n",
       " 'train_optimizer_name': 'adamw',\n",
       " 'train_scheduler_mode': 'max_val_mcc',\n",
       " 'train_use_edge_weight': True,\n",
       " 'train_loss_type': 'mse',\n",
       " 'train_self_loop': True,\n",
       " 'train_drop_edges': 0,\n",
       " 'train_loss': 0.23273192,\n",
       " 'train_acc': 0.6190475821495056,\n",
       " 'val_acc': 0.577777624130249,\n",
       " 'epoch': 80,\n",
       " 'model_class': 'sage',\n",
       " 'path_name': '4_[20_20]_1_mean_none_gn_ReLU()_0_0.01_adamw_max_val_mcc_True_mse_True_0_80',\n",
       " 'train_rmse': 0.6969320524371696,\n",
       " 'val_rmse': 0.6497862896539309,\n",
       " 'test_rmse': 0.7610908350908315,\n",
       " 'train_rmse_perc': 0.191524,\n",
       " 'val_rmse_perc': 0.19178928,\n",
       " 'test_rmse_perc': 0.190649,\n",
       " 'train_mcc': 0.49622643732044286,\n",
       " 'val_mcc': 0.5198495044910963,\n",
       " 'test_mcc': 0.37171731576748507,\n",
       " 'test_acc': 0.5222222208976746}"
      ]
     },
     "execution_count": 40,
     "metadata": {},
     "output_type": "execute_result"
    }
   ],
   "source": [
    "all = res_edges[2]\n",
    "# ascending order\n",
    "sort_idx = np.argsort([k['dict'][metric_filter_2] for k in all])[::-1]\n",
    "all[sort_idx[0]]['dict']"
   ]
  },
  {
   "cell_type": "code",
   "execution_count": 41,
   "metadata": {},
   "outputs": [
    {
     "name": "stderr",
     "output_type": "stream",
     "text": [
      "100%|██████████| 2772/2772 [00:00<00:00, 30882.17it/s]\n"
     ]
    }
   ],
   "source": [
    "pretty([all[k]['dict'] for k in sort_idx])"
   ]
  },
  {
   "cell_type": "markdown",
   "metadata": {},
   "source": [
    "##### cm"
   ]
  },
  {
   "cell_type": "code",
   "execution_count": 42,
   "metadata": {},
   "outputs": [],
   "source": [
    "cm = all[sort_idx[0]]['test_cm'][0]"
   ]
  },
  {
   "cell_type": "code",
   "execution_count": 43,
   "metadata": {},
   "outputs": [
    {
     "data": {
      "text/plain": [
       "tensor(334)"
      ]
     },
     "execution_count": 43,
     "metadata": {},
     "output_type": "execute_result"
    }
   ],
   "source": [
    "(cm.labels==0).sum()"
   ]
  },
  {
   "cell_type": "code",
   "execution_count": 44,
   "metadata": {},
   "outputs": [
    {
     "data": {
      "text/plain": [
       "<module 'matplotlib.pyplot' from 'c:\\\\Users\\\\vibal\\\\PycharmProjects\\\\systemic-risk-predictor\\\\venv\\\\lib\\\\site-packages\\\\matplotlib\\\\pyplot.py'>"
      ]
     },
     "execution_count": 44,
     "metadata": {},
     "output_type": "execute_result"
    },
    {
     "data": {
      "image/png": "[encoded data removed]",
      "text/plain": [
       "<Figure size 1080x720 with 2 Axes>"
      ]
     },
     "metadata": {
      "needs_background": "light"
     },
     "output_type": "display_data"
    }
   ],
   "source": [
    "cm.visualize()"
   ]
  },
  {
   "cell_type": "code",
   "execution_count": 45,
   "metadata": {},
   "outputs": [
    {
     "data": {
      "text/plain": [
       "tensor([0.8323, 0.4709, 0.5103, 0.2749])"
      ]
     },
     "execution_count": 45,
     "metadata": {},
     "output_type": "execute_result"
    }
   ],
   "source": [
    "cm.class_accuracy"
   ]
  },
  {
   "cell_type": "code",
   "execution_count": 46,
   "metadata": {},
   "outputs": [
    {
     "data": {
      "text/plain": [
       "[0.16944426, 0.17753647, 0.16172728, 0.24406683]"
      ]
     },
     "execution_count": 46,
     "metadata": {},
     "output_type": "execute_result"
    }
   ],
   "source": [
    "[mean_squared_error(y_true=cm.true_percentiles[cm.labels==k], y_pred=cm.pseudo_perc[cm.labels==k], squared=False) for k in range(0, cm.size)]"
   ]
  },
  {
   "cell_type": "code",
   "execution_count": 47,
   "metadata": {},
   "outputs": [
    {
     "data": {
      "text/plain": [
       "[0.12566547, 0.14674291, 0.13903818, 0.2246747]"
      ]
     },
     "execution_count": 47,
     "metadata": {},
     "output_type": "execute_result"
    }
   ],
   "source": [
    "[mean_absolute_error(y_true=cm.true_percentiles[cm.labels==k], y_pred=cm.pseudo_perc[cm.labels==k]) for k in range(0, cm.size)]"
   ]
  },
  {
   "cell_type": "markdown",
   "metadata": {
    "collapsed": false
   },
   "source": [
    "### GAT"
   ]
  },
  {
   "cell_type": "code",
   "execution_count": 48,
   "metadata": {},
   "outputs": [],
   "source": [
    "save_model = f'{save_path}_gat'\n",
    "log_dir = f'{log_path}_gat'\n",
    "\n",
    "add_self_loop = True\n",
    "\n",
    "dataset_val = ContagionDataset(\n",
    "    raw_dir=data_dir,\n",
    "    drop_edges=0,\n",
    "    sets_lengths=sets_lengths,\n",
    "    add_self_loop = add_self_loop,\n",
    "    target = target,\n",
    ")\n",
    "\n",
    "gat_model = dict(\n",
    "    in_features = [len(dataset.node_attributes)],\n",
    "    h_features = [[10], [10] * 2, [15], [15] * 2, [20], [20] * 2, [25], [25] * 2],\n",
    "    out_features = [out_feats],\n",
    "    num_heads = [[4] * 2, [2] * 2, [4, 2]],\n",
    "    norm_nodes = [None, 'bn', 'gn'],\n",
    "    activation = [torch.nn.ReLU()],\n",
    "    negative_slope = [0.2, 0.4],\n",
    "    feat_drop = [0.2],\n",
    "    attn_drop = [0.2],\n",
    "    residual = [True],\n",
    "    # other\n",
    "    lr=[1e-2,],\n",
    "    use_edge_weight=[True, False],\n",
    "    drop_edges=[0,0.2],\n",
    ")\n",
    "list_model = [dict(zip(gat_model.keys(), k)) for k in itertools.product(*gat_model.values())]\n",
    "\n",
    "# gat_model = dict(\n",
    "#     in_features = [len(dataset.node_attributes)],\n",
    "#     # h_features = [[10], [15], [20]], \n",
    "#     h_features = [[10] * 3, [15] * 3, [20] * 3], \n",
    "#     out_features = [out_feats],\n",
    "#     # num_heads = [[4] * 4],\n",
    "#     num_heads = [[4, 2, 2]],\n",
    "#     norm_nodes = [None, 'bn', 'gn'],\n",
    "#     activation = [torch.nn.ReLU()],\n",
    "#     negative_slope = [0.2, 0.3, 0.4],\n",
    "#     feat_drop = [0.2],\n",
    "#     attn_drop = [0.2],\n",
    "#     residual = [True],\n",
    "#     # other\n",
    "#     lr=[1e-2,],\n",
    "#     label_smoothing=[0.0],\n",
    "#     use_edge_weight=[False],\n",
    "#     drop_edges=[0,],\n",
    "# )\n",
    "# list_model = [dict(zip(gat_model.keys(), k)) for k in itertools.product(*gat_model.values())]\n",
    "# list_model = [{i:j[k] for i,j in gat_model.items()} for k in range(len(gat_model['in_features']))]"
   ]
  },
  {
   "cell_type": "code",
   "execution_count": 49,
   "metadata": {
    "collapsed": false,
    "pycharm": {
     "name": "#%%\n"
    }
   },
   "outputs": [
    {
     "name": "stderr",
     "output_type": "stream",
     "text": [
      "100%|██████████| 576/576 [58:15<00:00,  6.07s/it]  \n"
     ]
    }
   ],
   "source": [
    "if do_train:\n",
    "    for d in tqdm(list_model):\n",
    "        d = d.copy()\n",
    "        lr = d.pop('lr')\n",
    "        drop_edges = d.pop('drop_edges')\n",
    "        use_edge_weight = d.pop('use_edge_weight')\n",
    "\n",
    "        # dataset_valid = ContagionDataset(\n",
    "        #     raw_dir=data_dir,\n",
    "        #     drop_edges=0,\n",
    "        #     sets_lengths=sets_lengths,\n",
    "        #     add_self_loop = add_self_loop,\n",
    "        #     target = target,\n",
    "        #     seed=seed,\n",
    "        # )\n",
    "\n",
    "        dataset_train = ContagionDataset(\n",
    "            raw_dir=data_dir,\n",
    "            drop_edges=drop_edges,\n",
    "            sets_lengths=sets_lengths,\n",
    "            add_self_loop = add_self_loop,\n",
    "            target = target,\n",
    "        )\n",
    "\n",
    "        train(\n",
    "            model=GAT(**d),\n",
    "            dict_model=d,\n",
    "            dataset_train=dataset_train,\n",
    "            dataset_val=dataset_val,\n",
    "            log_dir=log_dir,\n",
    "            save_path=save_model,\n",
    "            lr=lr,\n",
    "            optimizer_name=\"adamw\",\n",
    "            n_epochs=100,\n",
    "            scheduler_mode='max_val_mcc',\n",
    "            debug_mode=False,\n",
    "            steps_save=10,\n",
    "            use_cpu=False,\n",
    "            use_edge_weight=use_edge_weight,\n",
    "            loss_type='mse',\n",
    "        )"
   ]
  },
  {
   "cell_type": "markdown",
   "metadata": {},
   "source": [
    "#### Results"
   ]
  },
  {
   "cell_type": "code",
   "execution_count": 50,
   "metadata": {},
   "outputs": [
    {
     "name": "stderr",
     "output_type": "stream",
     "text": [
      "100%|██████████| 6336/6336 [05:19<00:00, 19.84it/s]\n"
     ]
    }
   ],
   "source": [
    "res_edges_gat = test(\n",
    "    dataset=dataset_val,\n",
    "    save_path=save_model,\n",
    "    n_runs=1,\n",
    "    debug_mode=False,\n",
    "    use_cpu=False,\n",
    "    save=True,\n",
    "    use_edge_weight=False,\n",
    ")"
   ]
  },
  {
   "cell_type": "code",
   "execution_count": 51,
   "metadata": {},
   "outputs": [
    {
     "data": {
      "text/plain": [
       "{'in_features': 4,\n",
       " 'h_features': [25, 25],\n",
       " 'out_features': 1,\n",
       " 'num_heads': [4, 2],\n",
       " 'norm_nodes': 'gn',\n",
       " 'activation': ReLU(),\n",
       " 'negative_slope': 0.2,\n",
       " 'feat_drop': 0.2,\n",
       " 'attn_drop': 0.2,\n",
       " 'residual': True,\n",
       " 'train_lr': 0.01,\n",
       " 'train_optimizer_name': 'adamw',\n",
       " 'train_scheduler_mode': 'max_val_mcc',\n",
       " 'train_use_edge_weight': True,\n",
       " 'train_loss_type': 'mse',\n",
       " 'train_self_loop': True,\n",
       " 'train_drop_edges': 0.2,\n",
       " 'train_loss': 0.97702074,\n",
       " 'train_acc': 0.46666663885116577,\n",
       " 'val_acc': 0.5111109614372253,\n",
       " 'epoch': 99,\n",
       " 'model_class': 'gat',\n",
       " 'path_name': '4_[25_25]_1_[4_2]_gn_ReLU()_0.2_0.2_0.2_True_0.01_adamw_max_val_mcc_True_mse_True_0.2',\n",
       " 'train_rmse': 0.9154754164341269,\n",
       " 'val_rmse': 1.0852547064066471,\n",
       " 'test_rmse': 0.9209495904489823,\n",
       " 'train_rmse_perc': 0.20804062,\n",
       " 'val_rmse_perc': 0.22846742,\n",
       " 'test_rmse_perc': 0.21514937,\n",
       " 'train_mcc': 0.2856185651989043,\n",
       " 'val_mcc': 0.3503338915113102,\n",
       " 'test_mcc': 0.37742964573379933,\n",
       " 'test_acc': 0.5303703546524048}"
      ]
     },
     "execution_count": 51,
     "metadata": {},
     "output_type": "execute_result"
    }
   ],
   "source": [
    "res_edges = res_edges_gat\n",
    "res_edges[0]"
   ]
  },
  {
   "cell_type": "code",
   "execution_count": 52,
   "metadata": {},
   "outputs": [
    {
     "data": {
      "text/plain": [
       "{'in_features': 4,\n",
       " 'h_features': [25, 25],\n",
       " 'out_features': 1,\n",
       " 'num_heads': [4, 2],\n",
       " 'norm_nodes': 'gn',\n",
       " 'activation': ReLU(),\n",
       " 'negative_slope': 0.2,\n",
       " 'feat_drop': 0.2,\n",
       " 'attn_drop': 0.2,\n",
       " 'residual': True,\n",
       " 'train_lr': 0.01,\n",
       " 'train_optimizer_name': 'adamw',\n",
       " 'train_scheduler_mode': 'max_val_mcc',\n",
       " 'train_use_edge_weight': True,\n",
       " 'train_loss_type': 'mse',\n",
       " 'train_self_loop': True,\n",
       " 'train_drop_edges': 0.2,\n",
       " 'train_loss': 0.97702074,\n",
       " 'train_acc': 0.46666663885116577,\n",
       " 'val_acc': 0.5111109614372253,\n",
       " 'epoch': 99,\n",
       " 'model_class': 'gat',\n",
       " 'path_name': '4_[25_25]_1_[4_2]_gn_ReLU()_0.2_0.2_0.2_True_0.01_adamw_max_val_mcc_True_mse_True_0.2',\n",
       " 'train_rmse': 0.9154754164341269,\n",
       " 'val_rmse': 1.0852547064066471,\n",
       " 'test_rmse': 0.9209495904489823,\n",
       " 'train_rmse_perc': 0.20804062,\n",
       " 'val_rmse_perc': 0.22846742,\n",
       " 'test_rmse_perc': 0.21514937,\n",
       " 'train_mcc': 0.2856185651989043,\n",
       " 'val_mcc': 0.3503338915113102,\n",
       " 'test_mcc': 0.37742964573379933,\n",
       " 'test_acc': 0.5303703546524048}"
      ]
     },
     "execution_count": 52,
     "metadata": {},
     "output_type": "execute_result"
    }
   ],
   "source": [
    "all = res_edges[2]\n",
    "# ascending order\n",
    "sort_idx = np.argsort([k['dict'][metric_filter_1] for k in all])[::-1]\n",
    "all[sort_idx[0]]['dict']"
   ]
  },
  {
   "cell_type": "code",
   "execution_count": 53,
   "metadata": {},
   "outputs": [
    {
     "data": {
      "text/plain": [
       "{'in_features': 4,\n",
       " 'h_features': [25],\n",
       " 'out_features': 1,\n",
       " 'num_heads': [4, 2],\n",
       " 'norm_nodes': 'gn',\n",
       " 'activation': ReLU(),\n",
       " 'negative_slope': 0.4,\n",
       " 'feat_drop': 0.2,\n",
       " 'attn_drop': 0.2,\n",
       " 'residual': True,\n",
       " 'train_lr': 0.01,\n",
       " 'train_optimizer_name': 'adamw',\n",
       " 'train_scheduler_mode': 'max_val_mcc',\n",
       " 'train_use_edge_weight': True,\n",
       " 'train_loss_type': 'mse',\n",
       " 'train_self_loop': True,\n",
       " 'train_drop_edges': 0,\n",
       " 'train_loss': 0.7337897,\n",
       " 'train_acc': 0.48571425676345825,\n",
       " 'val_acc': 0.6888887286186218,\n",
       " 'epoch': 80,\n",
       " 'model_class': 'gat',\n",
       " 'path_name': '4_[25]_1_[4_2]_gn_ReLU()_0.4_0.2_0.2_True_0.01_adamw_max_val_mcc_True_mse_True_0_80',\n",
       " 'train_rmse': 0.9206622874969125,\n",
       " 'val_rmse': 0.8944271909999159,\n",
       " 'test_rmse': 0.9140872800534726,\n",
       " 'train_rmse_perc': 0.20868236,\n",
       " 'val_rmse_perc': 0.20400171,\n",
       " 'test_rmse_perc': 0.21421756,\n",
       " 'train_mcc': 0.3188995172532371,\n",
       " 'val_mcc': 0.5830586137936496,\n",
       " 'test_mcc': 0.35277962146299047,\n",
       " 'test_acc': 0.5133333206176758}"
      ]
     },
     "execution_count": 53,
     "metadata": {},
     "output_type": "execute_result"
    }
   ],
   "source": [
    "all = res_edges[2]\n",
    "# ascending order\n",
    "sort_idx = np.argsort([k['dict'][metric_filter_2] for k in all])[::-1]\n",
    "all[sort_idx[0]]['dict']"
   ]
  },
  {
   "cell_type": "code",
   "execution_count": 54,
   "metadata": {},
   "outputs": [
    {
     "name": "stderr",
     "output_type": "stream",
     "text": [
      "100%|██████████| 6336/6336 [00:00<00:00, 28110.42it/s]\n"
     ]
    }
   ],
   "source": [
    "pretty([all[k]['dict'] for k in sort_idx])"
   ]
  }
 ],
 "metadata": {
  "interpreter": {
   "hash": "37be9487e307834247f9cc00a1ec46ceeb3f522b7edf17e3b2d74c6ce713e314"
  },
  "kernelspec": {
   "display_name": "Python 3.9.5 ('venv': venv)",
   "language": "python",
   "name": "python3"
  },
  "language_info": {
   "codemirror_mode": {
    "name": "ipython",
    "version": 3
   },
   "file_extension": ".py",
   "mimetype": "text/x-python",
   "name": "python",
   "nbconvert_exporter": "python",
   "pygments_lexer": "ipython3",
   "version": "3.9.5"
  },
  "orig_nbformat": 4
 },
 "nbformat": 4,
 "nbformat_minor": 2
}
