{
 "cells": [
  {
   "cell_type": "code",
   "execution_count": 1,
   "metadata": {},
   "outputs": [],
   "source": [
    "import sys\n",
    "sys.path.append('../')"
   ]
  },
  {
   "cell_type": "code",
   "execution_count": 3,
   "metadata": {},
   "outputs": [],
   "source": [
    "import itertools\n",
    "import pandas as pd\n",
    "import numpy as np\n",
    "from tqdm.auto import tqdm, trange\n",
    "from pathlib import Path\n",
    "\n",
    "from models.train import test\n",
    "from models.utils import ContagionDataset, set_seed, ConfusionMatrix\n",
    "from sklearn.metrics import matthews_corrcoef, mean_squared_error\n",
    "from models.results import ResultCollection"
   ]
  },
  {
   "cell_type": "code",
   "execution_count": 74,
   "metadata": {},
   "outputs": [],
   "source": [
    "seed = 4444\n",
    "\n",
    "metric_filter_1 = 'val_mcc'\n",
    "metric_filter_2 = 'test_mcc'\n",
    "\n",
    "data_dir_name = 'data'\n",
    "save_path_name = 'saved_'\n",
    "networks = ['sym_network', 'europe_network']\n",
    "\n",
    "target = 'additional_stress'\n",
    "dict_sets_lengths = {\n",
    "    '75':(0.5, 0.25, 0.25),\n",
    "    '40':(0.3, 0.1, 0.6),\n",
    "    '10':(0.07, 0.03, 0.9),\n",
    "}\n"
   ]
  },
  {
   "cell_type": "code",
   "execution_count": 75,
   "metadata": {},
   "outputs": [],
   "source": [
    "col = ResultCollection()"
   ]
  },
  {
   "cell_type": "markdown",
   "metadata": {},
   "source": [
    "Get all models that will be tested"
   ]
  },
  {
   "cell_type": "code",
   "execution_count": 76,
   "metadata": {},
   "outputs": [],
   "source": [
    "paths = itertools.chain.from_iterable([[k for k in Path(n).glob(f\"models*/{save_path_name}*\") if k.is_dir()] for n in networks])"
   ]
  },
  {
   "cell_type": "code",
   "execution_count": 78,
   "metadata": {},
   "outputs": [
    {
     "name": "stdout",
     "output_type": "stream",
     "text": [
      "sym_network\\models_clas_10\\saved_gat\n"
     ]
    }
   ],
   "source": [
    "for p in paths:\n",
    "    name = p.name.split(save_path_name)[1]\n",
    "    sets_lengths = dict_sets_lengths[p.parent.name.split('_')[2]]\n",
    "    data_dir = p.parent.parent.joinpath(data_dir_name)\n",
    "    \n",
    "    set_seed(seed)\n",
    "    dataset_val = ContagionDataset(\n",
    "        raw_dir=data_dir,\n",
    "        drop_edges=0,\n",
    "        sets_lengths=sets_lengths,\n",
    "        target = target,\n",
    "        add_self_loop=True,\n",
    "    )\n",
    "\n",
    "    r = test(\n",
    "        dataset=dataset_val,\n",
    "        save_path=str(p),\n",
    "        n_runs=1,\n",
    "        debug_mode=False,\n",
    "        use_cpu=False,\n",
    "        save=True,\n",
    "        use_edge_weight=True,\n",
    "    )\n",
    "\n",
    "    result = col.add(r)\n",
    "\n",
    "    break"
   ]
  },
  {
   "cell_type": "code",
   "execution_count": null,
   "metadata": {},
   "outputs": [],
   "source": []
  }
 ],
 "metadata": {
  "interpreter": {
   "hash": "37be9487e307834247f9cc00a1ec46ceeb3f522b7edf17e3b2d74c6ce713e314"
  },
  "kernelspec": {
   "display_name": "Python 3.9.5 ('venv': venv)",
   "language": "python",
   "name": "python3"
  },
  "language_info": {
   "codemirror_mode": {
    "name": "ipython",
    "version": 3
   },
   "file_extension": ".py",
   "mimetype": "text/x-python",
   "name": "python",
   "nbconvert_exporter": "python",
   "pygments_lexer": "ipython3",
   "version": "3.9.5"
  },
  "orig_nbformat": 4
 },
 "nbformat": 4,
 "nbformat_minor": 2
}
