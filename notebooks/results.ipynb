{
 "cells": [
  {
   "cell_type": "code",
   "execution_count": 1,
   "metadata": {},
   "outputs": [],
   "source": [
    "import sys\n",
    "sys.path.append('../')"
   ]
  },
  {
   "cell_type": "code",
   "execution_count": 2,
   "metadata": {},
   "outputs": [
    {
     "name": "stderr",
     "output_type": "stream",
     "text": [
      "Using backend: pytorch\n"
     ]
    }
   ],
   "source": [
    "import itertools\n",
    "import pandas as pd\n",
    "import numpy as np\n",
    "from tqdm.auto import tqdm, trange\n",
    "from pathlib import Path\n",
    "\n",
    "from models.train import test as test_clas\n",
    "from models.train_reg import test as test_reg\n",
    "from models.utils import ContagionDataset, set_seed, ConfusionMatrix, save_pickle, load_pickle\n",
    "from sklearn.metrics import matthews_corrcoef, mean_squared_error\n",
    "from models.results import ResultCollection"
   ]
  },
  {
   "cell_type": "code",
   "execution_count": 3,
   "metadata": {},
   "outputs": [],
   "source": [
    "seed = 4444\n",
    "\n",
    "metric_filter_1 = 'val_mcc'\n",
    "metric_filter_2 = 'test_mcc'\n",
    "\n",
    "data_dir_name = 'data'\n",
    "save_path_name = 'saved_'\n",
    "networks = ['sym_network', 'europe_network']\n",
    "\n",
    "target = 'additional_stress'\n",
    "dict_sets_lengths = {\n",
    "    '75':(0.5, 0.25, 0.25),\n",
    "    '40':(0.3, 0.1, 0.6),\n",
    "    '10':(0.07, 0.03, 0.9),\n",
    "}\n",
    "dict_test_type = {\n",
    "    'reg': test_reg,\n",
    "    'clas': test_clas,\n",
    "}\n",
    "dict_metric = {\n",
    "    'reg': ('test_rmse_perc', False),\n",
    "    'clas': ('test_mcc', True),\n",
    "}\n"
   ]
  },
  {
   "cell_type": "markdown",
   "metadata": {},
   "source": [
    "Get all models that will be tested"
   ]
  },
  {
   "cell_type": "code",
   "execution_count": 4,
   "metadata": {},
   "outputs": [],
   "source": [
    "# col = ResultCollection()\n",
    "# paths = list(itertools.chain.from_iterable([[k for k in Path(n).glob(f\"models*/{save_path_name}*\") if k.is_dir()] for n in networks]))\n",
    "# network_paths = [[k for k in Path(n).glob(f\"models*/{save_path_name}*\") if k.is_dir()] for n in networks]\n",
    "\n",
    "# list(Path(networks[0]).glob(f\"models_{list(dict_test_type.keys())[0]}*/{save_path_name}*\"))"
   ]
  },
  {
   "cell_type": "code",
   "execution_count": 5,
   "metadata": {},
   "outputs": [
    {
     "name": "stdout",
     "output_type": "stream",
     "text": [
      "sym_network\\models_reg_10\\saved_fnn\n"
     ]
    },
    {
     "name": "stderr",
     "output_type": "stream",
     "text": [
      "100%|██████████| 266/266 [00:13<00:00, 19.04it/s]\n"
     ]
    },
    {
     "name": "stdout",
     "output_type": "stream",
     "text": [
      "sym_network\\models_reg_10\\saved_gat\n"
     ]
    },
    {
     "name": "stderr",
     "output_type": "stream",
     "text": [
      "100%|██████████| 6338/6338 [05:31<00:00, 19.14it/s]\n"
     ]
    },
    {
     "name": "stdout",
     "output_type": "stream",
     "text": [
      "sym_network\\models_reg_10\\saved_gcn\n"
     ]
    },
    {
     "name": "stderr",
     "output_type": "stream",
     "text": [
      "100%|██████████| 794/794 [00:50<00:00, 15.73it/s]\n"
     ]
    },
    {
     "name": "stdout",
     "output_type": "stream",
     "text": [
      "sym_network\\models_reg_10\\saved_sage\n"
     ]
    },
    {
     "name": "stderr",
     "output_type": "stream",
     "text": [
      "100%|██████████| 1388/1388 [04:22<00:00,  5.28it/s]\n"
     ]
    },
    {
     "name": "stdout",
     "output_type": "stream",
     "text": [
      "sym_network\\models_reg_10\\saved_sage_base\n",
      "ahora\n"
     ]
    },
    {
     "name": "stderr",
     "output_type": "stream",
     "text": [
      "100%|██████████| 2774/2774 [05:27<00:00,  8.47it/s]\n"
     ]
    },
    {
     "name": "stdout",
     "output_type": "stream",
     "text": [
      "sym_network\\models_reg_40\\saved_fnn\n"
     ]
    },
    {
     "name": "stderr",
     "output_type": "stream",
     "text": [
      "100%|██████████| 362/362 [00:15<00:00, 24.01it/s]\n"
     ]
    },
    {
     "name": "stdout",
     "output_type": "stream",
     "text": [
      "sym_network\\models_reg_40\\saved_gat\n"
     ]
    },
    {
     "name": "stderr",
     "output_type": "stream",
     "text": [
      "100%|██████████| 3170/3170 [02:39<00:00, 19.83it/s]\n"
     ]
    },
    {
     "name": "stdout",
     "output_type": "stream",
     "text": [
      "sym_network\\models_reg_40\\saved_gcn\n"
     ]
    },
    {
     "name": "stderr",
     "output_type": "stream",
     "text": [
      "100%|██████████| 794/794 [00:43<00:00, 18.41it/s]\n"
     ]
    },
    {
     "name": "stdout",
     "output_type": "stream",
     "text": [
      "sym_network\\models_reg_40\\saved_sage\n"
     ]
    },
    {
     "name": "stderr",
     "output_type": "stream",
     "text": [
      "100%|██████████| 1190/1190 [04:42<00:00,  4.22it/s]\n"
     ]
    },
    {
     "name": "stdout",
     "output_type": "stream",
     "text": [
      "sym_network\\models_reg_40\\saved_sage_base\n",
      "ahora\n"
     ]
    },
    {
     "name": "stderr",
     "output_type": "stream",
     "text": [
      "100%|██████████| 1190/1190 [05:12<00:00,  3.81it/s]\n"
     ]
    },
    {
     "name": "stdout",
     "output_type": "stream",
     "text": [
      "sym_network\\models_reg_75\\saved_fnn\n"
     ]
    },
    {
     "name": "stderr",
     "output_type": "stream",
     "text": [
      "100%|██████████| 356/356 [00:14<00:00, 24.32it/s]\n"
     ]
    },
    {
     "name": "stdout",
     "output_type": "stream",
     "text": [
      "sym_network\\models_reg_75\\saved_gat\n"
     ]
    },
    {
     "name": "stderr",
     "output_type": "stream",
     "text": [
      "100%|██████████| 3169/3169 [02:56<00:00, 17.92it/s]\n"
     ]
    },
    {
     "name": "stdout",
     "output_type": "stream",
     "text": [
      "sym_network\\models_reg_75\\saved_gcn\n"
     ]
    },
    {
     "name": "stderr",
     "output_type": "stream",
     "text": [
      "100%|██████████| 793/793 [00:47<00:00, 16.63it/s]\n"
     ]
    },
    {
     "name": "stdout",
     "output_type": "stream",
     "text": [
      "sym_network\\models_reg_75\\saved_sage\n"
     ]
    },
    {
     "name": "stderr",
     "output_type": "stream",
     "text": [
      "100%|██████████| 1189/1189 [04:38<00:00,  4.26it/s]\n"
     ]
    },
    {
     "name": "stdout",
     "output_type": "stream",
     "text": [
      "sym_network\\models_reg_75\\saved_sage_base\n",
      "ahora\n"
     ]
    },
    {
     "name": "stderr",
     "output_type": "stream",
     "text": [
      "100%|██████████| 1189/1189 [05:17<00:00,  3.74it/s]\n"
     ]
    },
    {
     "name": "stdout",
     "output_type": "stream",
     "text": [
      "sym_network\\models_clas_10\\saved_fnn\n"
     ]
    },
    {
     "name": "stderr",
     "output_type": "stream",
     "text": [
      "100%|██████████| 745/745 [00:41<00:00, 18.13it/s]\n"
     ]
    },
    {
     "name": "stdout",
     "output_type": "stream",
     "text": [
      "sym_network\\models_clas_10\\saved_gat\n"
     ]
    },
    {
     "name": "stderr",
     "output_type": "stream",
     "text": [
      "100%|██████████| 18755/18755 [15:38<00:00, 19.97it/s]\n"
     ]
    },
    {
     "name": "stdout",
     "output_type": "stream",
     "text": [
      "sym_network\\models_clas_10\\saved_gcn\n"
     ]
    },
    {
     "name": "stderr",
     "output_type": "stream",
     "text": [
      "100%|██████████| 2226/2226 [01:54<00:00, 19.43it/s]\n"
     ]
    },
    {
     "name": "stdout",
     "output_type": "stream",
     "text": [
      "sym_network\\models_clas_10\\saved_sage\n"
     ]
    },
    {
     "name": "stderr",
     "output_type": "stream",
     "text": [
      "100%|██████████| 5723/5723 [16:54<00:00,  5.64it/s]\n"
     ]
    },
    {
     "name": "stdout",
     "output_type": "stream",
     "text": [
      "sym_network\\models_clas_40\\saved_fnn\n"
     ]
    },
    {
     "name": "stderr",
     "output_type": "stream",
     "text": [
      "100%|██████████| 1224/1224 [00:51<00:00, 23.76it/s]\n"
     ]
    },
    {
     "name": "stdout",
     "output_type": "stream",
     "text": [
      "sym_network\\models_clas_40\\saved_gat\n"
     ]
    },
    {
     "name": "stderr",
     "output_type": "stream",
     "text": [
      "100%|██████████| 11433/11433 [09:36<00:00, 19.84it/s]\n"
     ]
    },
    {
     "name": "stdout",
     "output_type": "stream",
     "text": [
      "sym_network\\models_clas_40\\saved_gcn\n"
     ]
    },
    {
     "name": "stderr",
     "output_type": "stream",
     "text": [
      "100%|██████████| 3453/3453 [03:01<00:00, 19.07it/s]\n"
     ]
    },
    {
     "name": "stdout",
     "output_type": "stream",
     "text": [
      "sym_network\\models_clas_40\\saved_sage\n"
     ]
    },
    {
     "name": "stderr",
     "output_type": "stream",
     "text": [
      "100%|██████████| 6212/6212 [25:37<00:00,  4.04it/s]  \n"
     ]
    },
    {
     "name": "stdout",
     "output_type": "stream",
     "text": [
      "sym_network\\models_clas_75\\saved_fnn\n"
     ]
    },
    {
     "name": "stderr",
     "output_type": "stream",
     "text": [
      "100%|██████████| 1195/1195 [01:06<00:00, 17.95it/s]\n"
     ]
    },
    {
     "name": "stdout",
     "output_type": "stream",
     "text": [
      "sym_network\\models_clas_75\\saved_gat\n"
     ]
    },
    {
     "name": "stderr",
     "output_type": "stream",
     "text": [
      "100%|██████████| 11551/11551 [10:45<00:00, 17.88it/s] \n"
     ]
    },
    {
     "name": "stdout",
     "output_type": "stream",
     "text": [
      "sym_network\\models_clas_75\\saved_gcn\n"
     ]
    },
    {
     "name": "stderr",
     "output_type": "stream",
     "text": [
      "100%|██████████| 2514/2514 [02:12<00:00, 18.98it/s]\n"
     ]
    },
    {
     "name": "stdout",
     "output_type": "stream",
     "text": [
      "sym_network\\models_clas_75\\saved_sage\n"
     ]
    },
    {
     "name": "stderr",
     "output_type": "stream",
     "text": [
      "100%|██████████| 6562/6562 [26:39<00:00,  4.10it/s] \n"
     ]
    },
    {
     "name": "stdout",
     "output_type": "stream",
     "text": [
      "europe_network\\models_clas_10\\saved_fnn\n"
     ]
    },
    {
     "name": "stderr",
     "output_type": "stream",
     "text": [
      "100%|██████████| 1301/1301 [01:04<00:00, 20.31it/s]\n"
     ]
    },
    {
     "name": "stdout",
     "output_type": "stream",
     "text": [
      "europe_network\\models_clas_10\\saved_sage\n"
     ]
    },
    {
     "name": "stderr",
     "output_type": "stream",
     "text": [
      "100%|██████████| 99/99 [00:29<00:00,  3.34it/s]\n"
     ]
    },
    {
     "name": "stdout",
     "output_type": "stream",
     "text": [
      "europe_network\\models_clas_40\\saved_fnn\n"
     ]
    },
    {
     "name": "stderr",
     "output_type": "stream",
     "text": [
      "100%|██████████| 2479/2479 [01:52<00:00, 22.08it/s]\n"
     ]
    },
    {
     "name": "stdout",
     "output_type": "stream",
     "text": [
      "europe_network\\models_clas_40\\saved_sage\n"
     ]
    },
    {
     "name": "stderr",
     "output_type": "stream",
     "text": [
      "100%|██████████| 475/475 [02:04<00:00,  3.81it/s]\n"
     ]
    },
    {
     "name": "stdout",
     "output_type": "stream",
     "text": [
      "europe_network\\models_clas_75\\saved_fnn\n"
     ]
    },
    {
     "name": "stderr",
     "output_type": "stream",
     "text": [
      "100%|██████████| 2404/2404 [02:20<00:00, 17.05it/s]\n"
     ]
    },
    {
     "name": "stdout",
     "output_type": "stream",
     "text": [
      "europe_network\\models_clas_75\\saved_sage\n"
     ]
    },
    {
     "name": "stderr",
     "output_type": "stream",
     "text": [
      "100%|██████████| 654/654 [02:56<00:00,  3.71it/s]\n"
     ]
    }
   ],
   "source": [
    "col_results = {}\n",
    "\n",
    "for n, test_type in itertools.product(networks, dict_test_type.keys()):\n",
    "    col = ResultCollection()\n",
    "    metric = dict_metric[test_type]\n",
    "    col_results[f\"{n}_{test_type}\"] = (col, metric)\n",
    "\n",
    "    for p in [k for k in Path(n).glob(f\"models_{test_type}*/{save_path_name}*\") if k.is_dir()]:\n",
    "        print(p)\n",
    "        name = p.name.split(save_path_name)[1]\n",
    "        _,_,sets_type = p.parent.name.split('_', 3)\n",
    "        sets_lengths = dict_sets_lengths[sets_type]\n",
    "        data_dir = p.parent.parent.joinpath(data_dir_name)\n",
    "        \n",
    "        set_seed(seed)\n",
    "        dataset_val = ContagionDataset(\n",
    "            raw_dir=data_dir,\n",
    "            drop_edges=0,\n",
    "            sets_lengths=sets_lengths,\n",
    "            target = target,\n",
    "            add_self_loop=True,\n",
    "        )\n",
    "\n",
    "        if 'base' in name:\n",
    "            print(\"ahora\")\n",
    "            pass\n",
    "\n",
    "        r = dict_test_type[test_type](\n",
    "            dataset=dataset_val,\n",
    "            save_path=str(p),\n",
    "            n_runs=1,\n",
    "            debug_mode=False,\n",
    "            use_cpu=False,\n",
    "            save=True,\n",
    "            use_edge_weight=True,\n",
    "            approach_default= 'base_n' if 'base' in name else 'scale'\n",
    "\n",
    "            # todo check if base_n being used comparing with name\n",
    "        )\n",
    "\n",
    "        result = col.add(r[2], f\"{sets_type}_{name}\", sets_type, model=name)\n",
    "        result.save_best(metric[0],p,metric[1])\n"
   ]
  },
  {
   "cell_type": "code",
   "execution_count": 6,
   "metadata": {},
   "outputs": [],
   "source": [
    "# save_pickle(col_results, 'results.pickle')\n",
    "# col_results = load_pickle('results.pickle')"
   ]
  },
  {
   "cell_type": "code",
   "execution_count": 7,
   "metadata": {},
   "outputs": [
    {
     "data": {
      "text/plain": [
       "{'sym_network_reg': (<models.results.ResultCollection at 0x20d2e499a30>,\n",
       "  ('test_rmse_perc', False)),\n",
       " 'sym_network_clas': (<models.results.ResultCollection at 0x20d2e3088b0>,\n",
       "  ('test_mcc', True)),\n",
       " 'europe_network_reg': (<models.results.ResultCollection at 0x20e55e9a370>,\n",
       "  ('test_rmse_perc', False)),\n",
       " 'europe_network_clas': (<models.results.ResultCollection at 0x20f4a18b580>,\n",
       "  ('test_mcc', True))}"
      ]
     },
     "execution_count": 7,
     "metadata": {},
     "output_type": "execute_result"
    }
   ],
   "source": [
    "col_results"
   ]
  },
  {
   "cell_type": "code",
   "execution_count": 8,
   "metadata": {},
   "outputs": [
    {
     "data": {
      "text/plain": [
       "{'sym_network_reg':               train_mcc   val_mcc  test_mcc  train_acc   val_acc  test_acc  \\\n",
       " uid                                                                          \n",
       " 10_sage        0.634618  0.521291  0.581344   0.723809  0.644444  0.684444   \n",
       " 10_sage_base   0.244881  0.266535  0.370856   0.390476  0.488889  0.503704   \n",
       " 10_gat         0.442096  0.344674  0.355414   0.561905  0.511111  0.505185   \n",
       " 10_fnn         0.312659  0.374865  0.332307   0.428571  0.555555  0.480000   \n",
       " 10_gcn         0.308340  0.381849  0.326334   0.380952  0.555555  0.438519   \n",
       " 40_sage        0.835089  0.733372  0.712704   0.871111  0.793333  0.776667   \n",
       " 40_sage_base   0.707345  0.646037  0.613525   0.764444  0.726667  0.697778   \n",
       " 40_gat         0.518122  0.432167  0.444630   0.633333  0.566667  0.580000   \n",
       " 40_fnn         0.360827  0.368414  0.325004   0.515556  0.520000  0.490000   \n",
       " 40_gcn         0.315727  0.329497  0.312130   0.435556  0.426667  0.436667   \n",
       " 75_sage        0.801031  0.776174  0.736340   0.846667  0.829333  0.800000   \n",
       " 75_sage_base   0.633415  0.564257  0.596216   0.713333  0.661333  0.685333   \n",
       " 75_gat         0.534243  0.555925  0.482151   0.650667  0.666667  0.610667   \n",
       " 75_fnn         0.359105  0.378877  0.348252   0.502667  0.501333  0.493333   \n",
       " 75_gcn         0.324546  0.308678  0.310931   0.437333  0.410667  0.434667   \n",
       " \n",
       "               train_rmse  val_rmse  test_rmse  train_mae   val_mae  test_mae  \\\n",
       " uid                                                                            \n",
       " 10_sage         0.601585  0.649786   0.643486   0.304762  0.377778  0.347407   \n",
       " 10_sage_base    0.798809  0.760117   0.736860   0.619048  0.533333  0.511852   \n",
       " 10_gat          0.762202  0.869227   0.843274   0.485714  0.577778  0.564444   \n",
       " 10_fnn          0.878310  0.802773   0.883595   0.638095  0.511111  0.604444   \n",
       " 10_gcn          0.905012  0.802773   0.859371   0.685714  0.511111  0.620000   \n",
       " 40_sage         0.368179  0.454606   0.512076   0.131111  0.206667  0.235556   \n",
       " 40_sage_base    0.485341  0.522813   0.561743   0.235556  0.273333  0.306667   \n",
       " 40_gat          0.707107  0.836660   0.767391   0.411111  0.513333  0.473333   \n",
       " 40_fnn          0.855050  0.856349   0.864741   0.566667  0.560000  0.587778   \n",
       " 40_gcn          0.858940  0.890693   0.848528   0.622222  0.646667  0.615556   \n",
       " 75_sage         0.401663  0.422690   0.518973   0.156000  0.173333  0.221333   \n",
       " 75_sage_base    0.539135  0.613188   0.588784   0.288000  0.349333  0.325333   \n",
       " 75_gat          0.722034  0.715542   0.719259   0.404000  0.389333  0.432000   \n",
       " 75_fnn          0.839047  0.873308   0.877876   0.565333  0.586667  0.594667   \n",
       " 75_gcn          0.859457  0.870249   0.876356   0.621333  0.645333  0.629333   \n",
       " \n",
       "               train_rmse_perc  val_rmse_perc  test_rmse_perc  train_mae_perc  \\\n",
       " uid                                                                            \n",
       " 10_sage              0.134155       0.150404        0.143559        0.104882   \n",
       " 10_sage_base         0.177122       0.165596        0.165149        0.152154   \n",
       " 10_gat               0.165999       0.187621        0.196543        0.134906   \n",
       " 10_fnn               0.210453       0.185058        0.211368        0.179030   \n",
       " 10_gcn               0.231380       0.200166        0.217017        0.199017   \n",
       " 40_sage              0.095655       0.097373        0.112529        0.075609   \n",
       " 40_sage_base         0.105357       0.113051        0.119162        0.084245   \n",
       " 40_gat               0.159566       0.205826        0.173368        0.118210   \n",
       " 40_fnn               0.197678       0.203618        0.205201        0.158469   \n",
       " 40_gcn               0.211265       0.219865        0.206994        0.175307   \n",
       " 75_sage              0.084442       0.088734        0.101873        0.065337   \n",
       " 75_sage_base         0.111910       0.122421        0.117154        0.089590   \n",
       " 75_gat               0.166516       0.161310        0.162221        0.116770   \n",
       " 75_fnn               0.199164       0.205858        0.201252        0.162186   \n",
       " 75_gcn               0.215159       0.214850        0.215234        0.182062   \n",
       " \n",
       "               val_mae_perc  test_mae_perc group      model  \n",
       " uid                                                         \n",
       " 10_sage           0.111082       0.104955    10       sage  \n",
       " 10_sage_base      0.133731       0.133605    10  sage_base  \n",
       " 10_gat            0.139174       0.152113    10        gat  \n",
       " 10_fnn            0.139817       0.169835    10        fnn  \n",
       " 10_gcn            0.160910       0.181670    10        gcn  \n",
       " 40_sage           0.076762       0.082301    40       sage  \n",
       " 40_sage_base      0.091583       0.092553    40  sage_base  \n",
       " 40_gat            0.140881       0.130058    40        gat  \n",
       " 40_fnn            0.167623       0.164736    40        fnn  \n",
       " 40_gcn            0.190456       0.173165    40        gcn  \n",
       " 75_sage           0.068055       0.070746    75       sage  \n",
       " 75_sage_base      0.096329       0.090578    75  sage_base  \n",
       " 75_gat            0.115686       0.119653    75        gat  \n",
       " 75_fnn            0.166230       0.162156    75        fnn  \n",
       " 75_gcn            0.181600       0.176781    75        gcn  ,\n",
       " 'sym_network_clas':          train_mcc   val_mcc  test_mcc  train_acc   val_acc  test_acc  \\\n",
       " uid                                                                     \n",
       " 75_sage   0.922016  0.786613  0.802167   0.941333  0.840000  0.850667   \n",
       " 75_gcn    0.370189  0.370565  0.430011   0.506667  0.490667  0.544000   \n",
       " 75_fnn    0.385798  0.360453  0.405166   0.517333  0.485333  0.525333   \n",
       " 75_gat    0.455612  0.469401  0.371722   0.590667  0.600000  0.528000   \n",
       " 40_sage   1.000000  0.814434  0.764037   1.000000  0.860000  0.822222   \n",
       " 40_gcn    0.381281  0.360564  0.418741   0.511111  0.473333  0.533333   \n",
       " 40_gat    0.476819  0.372075  0.407336   0.604444  0.520000  0.547778   \n",
       " 40_fnn    0.364046  0.313141  0.360033   0.511111  0.460000  0.495556   \n",
       " 10_sage   0.795001  0.608728  0.603387   0.847619  0.711111  0.701481   \n",
       " 10_gcn    0.374599  0.403404  0.407791   0.533333  0.511111  0.522963   \n",
       " 10_fnn    0.314632  0.261668  0.341909   0.495238  0.400000  0.486667   \n",
       " 10_gat    0.531799  0.235435  0.341128   0.647619  0.400000  0.490370   \n",
       " \n",
       "          train_rmse  val_rmse  test_rmse  train_mae   val_mae  test_mae  \\\n",
       " uid                                                                       \n",
       " 75_sage    0.273252  0.409878   0.481664   0.064000  0.162667  0.173333   \n",
       " 75_gcn     0.920869  0.910677   0.920869   0.602667  0.610667  0.576000   \n",
       " 75_fnn     0.880909  0.913601   0.916515   0.578667  0.621333  0.594667   \n",
       " 75_gat     0.854790  0.818128   0.946573   0.506667  0.482667  0.602667   \n",
       " 40_sage    0.000000  0.374166   0.480740   0.000000  0.140000  0.193333   \n",
       " 40_gcn     0.904311  0.894427   0.893806   0.591111  0.613333  0.567778   \n",
       " 40_gat     0.856349  1.116542   0.956266   0.502222  0.700000  0.592222   \n",
       " 40_fnn     1.019804  1.045626   1.092906   0.662222  0.720000  0.725556   \n",
       " 10_sage    0.487950  0.649786   0.642910   0.180952  0.333333  0.334815   \n",
       " 10_gcn     1.004751  0.829993   0.942416   0.647619  0.555556  0.612593   \n",
       " 10_fnn     1.133893  1.220200   1.087641   0.752381  0.866667  0.722222   \n",
       " 10_gat     0.889087  1.105542   1.086960   0.485714  0.777778  0.713333   \n",
       " \n",
       "          train_rmse_perc  val_rmse_perc  test_rmse_perc  train_mae_perc  \\\n",
       " uid                                                                       \n",
       " 75_sage         0.087515       0.102572        0.120330        0.068813   \n",
       " 75_gcn          0.228003       0.223579        0.228121        0.171693   \n",
       " 75_fnn          0.214458       0.223132        0.220422        0.166867   \n",
       " 75_gat          0.212804       0.198866        0.234320        0.151040   \n",
       " 40_sage         0.071691       0.109938        0.112366        0.061533   \n",
       " 40_gcn          0.221574       0.226097        0.219237        0.166689   \n",
       " 40_gat          0.214827       0.282347        0.232304        0.153600   \n",
       " 40_fnn          0.247736       0.260934        0.264152        0.185356   \n",
       " 10_sage         0.120183       0.153690        0.153260        0.085571   \n",
       " 10_gcn          0.258689       0.190492        0.235553        0.192238   \n",
       " 10_fnn          0.280758       0.296383        0.267782        0.211190   \n",
       " 10_gat          0.211719       0.279003        0.268486        0.142143   \n",
       " \n",
       "          val_mae_perc  test_mae_perc group model  \n",
       " uid                                               \n",
       " 75_sage      0.079427       0.085693    75  sage  \n",
       " 75_gcn       0.175053       0.169240    75   gcn  \n",
       " 75_fnn       0.177000       0.171667    75   fnn  \n",
       " 75_gat       0.141987       0.172120    75   gat  \n",
       " 40_sage      0.081200       0.083578    40  sage  \n",
       " 40_gcn       0.175733       0.164889    40   gcn  \n",
       " 40_gat       0.194333       0.167211    40   gat  \n",
       " 40_fnn       0.203333       0.201178    40   fnn  \n",
       " 10_sage      0.107444       0.111600    10  sage  \n",
       " 10_gcn       0.144556       0.178570    10   gcn  \n",
       " 10_fnn       0.222111       0.202422    10   fnn  \n",
       " 10_gat       0.209222       0.198015    10   gat  ,\n",
       " 'europe_network_reg': Empty DataFrame\n",
       " Columns: []\n",
       " Index: [],\n",
       " 'europe_network_clas':          train_mcc   val_mcc  test_mcc  train_acc   val_acc  test_acc  \\\n",
       " uid                                                                     \n",
       " 75_sage   0.865676  0.698638  0.636417   0.898892  0.770083  0.725762   \n",
       " 75_fnn    0.569415  0.417653  0.494235   0.668975  0.551247  0.612188   \n",
       " 40_sage   0.975353  0.613458  0.569752   0.981524  0.708333  0.677047   \n",
       " 40_fnn    0.528022  0.556312  0.481878   0.644342  0.666667  0.606690   \n",
       " 10_sage   0.986745  0.661790  0.508924   0.990099  0.744186  0.630000   \n",
       " 10_fnn    0.648047  0.530814  0.443360   0.732673  0.651163  0.573077   \n",
       " \n",
       "          train_rmse  val_rmse  test_rmse  train_mae   val_mae  test_mae  \\\n",
       " uid                                                                       \n",
       " 75_sage    0.460338  0.734960   0.803386   0.137119  0.329640  0.396122   \n",
       " 75_fnn     0.822973  0.976170   0.944440   0.441828  0.614958  0.548476   \n",
       " 40_sage    0.179813  0.996522   0.975478   0.023095  0.493056  0.515571   \n",
       " 40_fnn     0.869020  0.897527   0.966569   0.487298  0.486111  0.565167   \n",
       " 10_sage    0.099504  0.849076   1.122840   0.009901  0.395349  0.633077   \n",
       " 10_fnn     0.724398  0.876038   0.982148   0.346535  0.488372  0.601538   \n",
       " \n",
       "          train_rmse_perc  val_rmse_perc  test_rmse_perc  train_mae_perc  \\\n",
       " uid                                                                       \n",
       " 75_sage         0.131990       0.194964        0.215396        0.086177   \n",
       " 75_fnn          0.210833       0.249526        0.241841        0.144224   \n",
       " 40_sage         0.080616       0.255992        0.251073        0.065693   \n",
       " 40_fnn          0.218614       0.240538        0.243221        0.151674   \n",
       " 10_sage         0.075592       0.212880        0.284731        0.065990   \n",
       " 10_fnn          0.182587       0.207346        0.248655        0.124802   \n",
       " \n",
       "          val_mae_perc  test_mae_perc group model  \n",
       " uid                                               \n",
       " 75_sage      0.125083       0.139266    75  sage  \n",
       " 75_fnn       0.177604       0.168546    75   fnn  \n",
       " 40_sage      0.155903       0.165115    40  sage  \n",
       " 40_fnn       0.162153       0.168495    40   fnn  \n",
       " 10_sage      0.128256       0.191623    10  sage  \n",
       " 10_fnn       0.143372       0.176985    10   fnn  }"
      ]
     },
     "execution_count": 8,
     "metadata": {},
     "output_type": "execute_result"
    }
   ],
   "source": [
    "r = {k:v[0].df(v[1][0], v[1][1]) for k,v in col_results.items()}\n",
    "r"
   ]
  },
  {
   "cell_type": "code",
   "execution_count": 9,
   "metadata": {},
   "outputs": [
    {
     "data": {
      "text/html": [
       "<div>\n",
       "<style scoped>\n",
       "    .dataframe tbody tr th:only-of-type {\n",
       "        vertical-align: middle;\n",
       "    }\n",
       "\n",
       "    .dataframe tbody tr th {\n",
       "        vertical-align: top;\n",
       "    }\n",
       "\n",
       "    .dataframe thead th {\n",
       "        text-align: right;\n",
       "    }\n",
       "</style>\n",
       "<table border=\"1\" class=\"dataframe\">\n",
       "  <thead>\n",
       "    <tr style=\"text-align: right;\">\n",
       "      <th></th>\n",
       "      <th>train_mcc</th>\n",
       "      <th>val_mcc</th>\n",
       "      <th>test_mcc</th>\n",
       "      <th>train_acc</th>\n",
       "      <th>val_acc</th>\n",
       "      <th>test_acc</th>\n",
       "      <th>train_rmse</th>\n",
       "      <th>val_rmse</th>\n",
       "      <th>test_rmse</th>\n",
       "      <th>train_mae</th>\n",
       "      <th>val_mae</th>\n",
       "      <th>test_mae</th>\n",
       "      <th>train_rmse_perc</th>\n",
       "      <th>val_rmse_perc</th>\n",
       "      <th>test_rmse_perc</th>\n",
       "      <th>train_mae_perc</th>\n",
       "      <th>val_mae_perc</th>\n",
       "      <th>test_mae_perc</th>\n",
       "      <th>group</th>\n",
       "      <th>model</th>\n",
       "    </tr>\n",
       "    <tr>\n",
       "      <th>uid</th>\n",
       "      <th></th>\n",
       "      <th></th>\n",
       "      <th></th>\n",
       "      <th></th>\n",
       "      <th></th>\n",
       "      <th></th>\n",
       "      <th></th>\n",
       "      <th></th>\n",
       "      <th></th>\n",
       "      <th></th>\n",
       "      <th></th>\n",
       "      <th></th>\n",
       "      <th></th>\n",
       "      <th></th>\n",
       "      <th></th>\n",
       "      <th></th>\n",
       "      <th></th>\n",
       "      <th></th>\n",
       "      <th></th>\n",
       "      <th></th>\n",
       "    </tr>\n",
       "  </thead>\n",
       "  <tbody>\n",
       "    <tr>\n",
       "      <th>75_sage</th>\n",
       "      <td>0.922016</td>\n",
       "      <td>0.786613</td>\n",
       "      <td>0.802167</td>\n",
       "      <td>0.941333</td>\n",
       "      <td>0.840000</td>\n",
       "      <td>0.850667</td>\n",
       "      <td>0.273252</td>\n",
       "      <td>0.409878</td>\n",
       "      <td>0.481664</td>\n",
       "      <td>0.064000</td>\n",
       "      <td>0.162667</td>\n",
       "      <td>0.173333</td>\n",
       "      <td>0.087515</td>\n",
       "      <td>0.102572</td>\n",
       "      <td>0.120330</td>\n",
       "      <td>0.068813</td>\n",
       "      <td>0.079427</td>\n",
       "      <td>0.085693</td>\n",
       "      <td>75</td>\n",
       "      <td>sage</td>\n",
       "    </tr>\n",
       "    <tr>\n",
       "      <th>75_gcn</th>\n",
       "      <td>0.370189</td>\n",
       "      <td>0.370565</td>\n",
       "      <td>0.430011</td>\n",
       "      <td>0.506667</td>\n",
       "      <td>0.490667</td>\n",
       "      <td>0.544000</td>\n",
       "      <td>0.920869</td>\n",
       "      <td>0.910677</td>\n",
       "      <td>0.920869</td>\n",
       "      <td>0.602667</td>\n",
       "      <td>0.610667</td>\n",
       "      <td>0.576000</td>\n",
       "      <td>0.228003</td>\n",
       "      <td>0.223579</td>\n",
       "      <td>0.228121</td>\n",
       "      <td>0.171693</td>\n",
       "      <td>0.175053</td>\n",
       "      <td>0.169240</td>\n",
       "      <td>75</td>\n",
       "      <td>gcn</td>\n",
       "    </tr>\n",
       "    <tr>\n",
       "      <th>75_fnn</th>\n",
       "      <td>0.385798</td>\n",
       "      <td>0.360453</td>\n",
       "      <td>0.405166</td>\n",
       "      <td>0.517333</td>\n",
       "      <td>0.485333</td>\n",
       "      <td>0.525333</td>\n",
       "      <td>0.880909</td>\n",
       "      <td>0.913601</td>\n",
       "      <td>0.916515</td>\n",
       "      <td>0.578667</td>\n",
       "      <td>0.621333</td>\n",
       "      <td>0.594667</td>\n",
       "      <td>0.214458</td>\n",
       "      <td>0.223132</td>\n",
       "      <td>0.220422</td>\n",
       "      <td>0.166867</td>\n",
       "      <td>0.177000</td>\n",
       "      <td>0.171667</td>\n",
       "      <td>75</td>\n",
       "      <td>fnn</td>\n",
       "    </tr>\n",
       "    <tr>\n",
       "      <th>75_gat</th>\n",
       "      <td>0.455612</td>\n",
       "      <td>0.469401</td>\n",
       "      <td>0.371722</td>\n",
       "      <td>0.590667</td>\n",
       "      <td>0.600000</td>\n",
       "      <td>0.528000</td>\n",
       "      <td>0.854790</td>\n",
       "      <td>0.818128</td>\n",
       "      <td>0.946573</td>\n",
       "      <td>0.506667</td>\n",
       "      <td>0.482667</td>\n",
       "      <td>0.602667</td>\n",
       "      <td>0.212804</td>\n",
       "      <td>0.198866</td>\n",
       "      <td>0.234320</td>\n",
       "      <td>0.151040</td>\n",
       "      <td>0.141987</td>\n",
       "      <td>0.172120</td>\n",
       "      <td>75</td>\n",
       "      <td>gat</td>\n",
       "    </tr>\n",
       "    <tr>\n",
       "      <th>40_sage</th>\n",
       "      <td>1.000000</td>\n",
       "      <td>0.814434</td>\n",
       "      <td>0.764037</td>\n",
       "      <td>1.000000</td>\n",
       "      <td>0.860000</td>\n",
       "      <td>0.822222</td>\n",
       "      <td>0.000000</td>\n",
       "      <td>0.374166</td>\n",
       "      <td>0.480740</td>\n",
       "      <td>0.000000</td>\n",
       "      <td>0.140000</td>\n",
       "      <td>0.193333</td>\n",
       "      <td>0.071691</td>\n",
       "      <td>0.109938</td>\n",
       "      <td>0.112366</td>\n",
       "      <td>0.061533</td>\n",
       "      <td>0.081200</td>\n",
       "      <td>0.083578</td>\n",
       "      <td>40</td>\n",
       "      <td>sage</td>\n",
       "    </tr>\n",
       "    <tr>\n",
       "      <th>40_gcn</th>\n",
       "      <td>0.381281</td>\n",
       "      <td>0.360564</td>\n",
       "      <td>0.418741</td>\n",
       "      <td>0.511111</td>\n",
       "      <td>0.473333</td>\n",
       "      <td>0.533333</td>\n",
       "      <td>0.904311</td>\n",
       "      <td>0.894427</td>\n",
       "      <td>0.893806</td>\n",
       "      <td>0.591111</td>\n",
       "      <td>0.613333</td>\n",
       "      <td>0.567778</td>\n",
       "      <td>0.221574</td>\n",
       "      <td>0.226097</td>\n",
       "      <td>0.219237</td>\n",
       "      <td>0.166689</td>\n",
       "      <td>0.175733</td>\n",
       "      <td>0.164889</td>\n",
       "      <td>40</td>\n",
       "      <td>gcn</td>\n",
       "    </tr>\n",
       "    <tr>\n",
       "      <th>40_gat</th>\n",
       "      <td>0.476819</td>\n",
       "      <td>0.372075</td>\n",
       "      <td>0.407336</td>\n",
       "      <td>0.604444</td>\n",
       "      <td>0.520000</td>\n",
       "      <td>0.547778</td>\n",
       "      <td>0.856349</td>\n",
       "      <td>1.116542</td>\n",
       "      <td>0.956266</td>\n",
       "      <td>0.502222</td>\n",
       "      <td>0.700000</td>\n",
       "      <td>0.592222</td>\n",
       "      <td>0.214827</td>\n",
       "      <td>0.282347</td>\n",
       "      <td>0.232304</td>\n",
       "      <td>0.153600</td>\n",
       "      <td>0.194333</td>\n",
       "      <td>0.167211</td>\n",
       "      <td>40</td>\n",
       "      <td>gat</td>\n",
       "    </tr>\n",
       "    <tr>\n",
       "      <th>40_fnn</th>\n",
       "      <td>0.364046</td>\n",
       "      <td>0.313141</td>\n",
       "      <td>0.360033</td>\n",
       "      <td>0.511111</td>\n",
       "      <td>0.460000</td>\n",
       "      <td>0.495556</td>\n",
       "      <td>1.019804</td>\n",
       "      <td>1.045626</td>\n",
       "      <td>1.092906</td>\n",
       "      <td>0.662222</td>\n",
       "      <td>0.720000</td>\n",
       "      <td>0.725556</td>\n",
       "      <td>0.247736</td>\n",
       "      <td>0.260934</td>\n",
       "      <td>0.264152</td>\n",
       "      <td>0.185356</td>\n",
       "      <td>0.203333</td>\n",
       "      <td>0.201178</td>\n",
       "      <td>40</td>\n",
       "      <td>fnn</td>\n",
       "    </tr>\n",
       "    <tr>\n",
       "      <th>10_sage</th>\n",
       "      <td>0.795001</td>\n",
       "      <td>0.608728</td>\n",
       "      <td>0.603387</td>\n",
       "      <td>0.847619</td>\n",
       "      <td>0.711111</td>\n",
       "      <td>0.701481</td>\n",
       "      <td>0.487950</td>\n",
       "      <td>0.649786</td>\n",
       "      <td>0.642910</td>\n",
       "      <td>0.180952</td>\n",
       "      <td>0.333333</td>\n",
       "      <td>0.334815</td>\n",
       "      <td>0.120183</td>\n",
       "      <td>0.153690</td>\n",
       "      <td>0.153260</td>\n",
       "      <td>0.085571</td>\n",
       "      <td>0.107444</td>\n",
       "      <td>0.111600</td>\n",
       "      <td>10</td>\n",
       "      <td>sage</td>\n",
       "    </tr>\n",
       "    <tr>\n",
       "      <th>10_gcn</th>\n",
       "      <td>0.374599</td>\n",
       "      <td>0.403404</td>\n",
       "      <td>0.407791</td>\n",
       "      <td>0.533333</td>\n",
       "      <td>0.511111</td>\n",
       "      <td>0.522963</td>\n",
       "      <td>1.004751</td>\n",
       "      <td>0.829993</td>\n",
       "      <td>0.942416</td>\n",
       "      <td>0.647619</td>\n",
       "      <td>0.555556</td>\n",
       "      <td>0.612593</td>\n",
       "      <td>0.258689</td>\n",
       "      <td>0.190492</td>\n",
       "      <td>0.235553</td>\n",
       "      <td>0.192238</td>\n",
       "      <td>0.144556</td>\n",
       "      <td>0.178570</td>\n",
       "      <td>10</td>\n",
       "      <td>gcn</td>\n",
       "    </tr>\n",
       "    <tr>\n",
       "      <th>10_fnn</th>\n",
       "      <td>0.314632</td>\n",
       "      <td>0.261668</td>\n",
       "      <td>0.341909</td>\n",
       "      <td>0.495238</td>\n",
       "      <td>0.400000</td>\n",
       "      <td>0.486667</td>\n",
       "      <td>1.133893</td>\n",
       "      <td>1.220200</td>\n",
       "      <td>1.087641</td>\n",
       "      <td>0.752381</td>\n",
       "      <td>0.866667</td>\n",
       "      <td>0.722222</td>\n",
       "      <td>0.280758</td>\n",
       "      <td>0.296383</td>\n",
       "      <td>0.267782</td>\n",
       "      <td>0.211190</td>\n",
       "      <td>0.222111</td>\n",
       "      <td>0.202422</td>\n",
       "      <td>10</td>\n",
       "      <td>fnn</td>\n",
       "    </tr>\n",
       "    <tr>\n",
       "      <th>10_gat</th>\n",
       "      <td>0.531799</td>\n",
       "      <td>0.235435</td>\n",
       "      <td>0.341128</td>\n",
       "      <td>0.647619</td>\n",
       "      <td>0.400000</td>\n",
       "      <td>0.490370</td>\n",
       "      <td>0.889087</td>\n",
       "      <td>1.105542</td>\n",
       "      <td>1.086960</td>\n",
       "      <td>0.485714</td>\n",
       "      <td>0.777778</td>\n",
       "      <td>0.713333</td>\n",
       "      <td>0.211719</td>\n",
       "      <td>0.279003</td>\n",
       "      <td>0.268486</td>\n",
       "      <td>0.142143</td>\n",
       "      <td>0.209222</td>\n",
       "      <td>0.198015</td>\n",
       "      <td>10</td>\n",
       "      <td>gat</td>\n",
       "    </tr>\n",
       "  </tbody>\n",
       "</table>\n",
       "</div>"
      ],
      "text/plain": [
       "         train_mcc   val_mcc  test_mcc  train_acc   val_acc  test_acc  \\\n",
       "uid                                                                     \n",
       "75_sage   0.922016  0.786613  0.802167   0.941333  0.840000  0.850667   \n",
       "75_gcn    0.370189  0.370565  0.430011   0.506667  0.490667  0.544000   \n",
       "75_fnn    0.385798  0.360453  0.405166   0.517333  0.485333  0.525333   \n",
       "75_gat    0.455612  0.469401  0.371722   0.590667  0.600000  0.528000   \n",
       "40_sage   1.000000  0.814434  0.764037   1.000000  0.860000  0.822222   \n",
       "40_gcn    0.381281  0.360564  0.418741   0.511111  0.473333  0.533333   \n",
       "40_gat    0.476819  0.372075  0.407336   0.604444  0.520000  0.547778   \n",
       "40_fnn    0.364046  0.313141  0.360033   0.511111  0.460000  0.495556   \n",
       "10_sage   0.795001  0.608728  0.603387   0.847619  0.711111  0.701481   \n",
       "10_gcn    0.374599  0.403404  0.407791   0.533333  0.511111  0.522963   \n",
       "10_fnn    0.314632  0.261668  0.341909   0.495238  0.400000  0.486667   \n",
       "10_gat    0.531799  0.235435  0.341128   0.647619  0.400000  0.490370   \n",
       "\n",
       "         train_rmse  val_rmse  test_rmse  train_mae   val_mae  test_mae  \\\n",
       "uid                                                                       \n",
       "75_sage    0.273252  0.409878   0.481664   0.064000  0.162667  0.173333   \n",
       "75_gcn     0.920869  0.910677   0.920869   0.602667  0.610667  0.576000   \n",
       "75_fnn     0.880909  0.913601   0.916515   0.578667  0.621333  0.594667   \n",
       "75_gat     0.854790  0.818128   0.946573   0.506667  0.482667  0.602667   \n",
       "40_sage    0.000000  0.374166   0.480740   0.000000  0.140000  0.193333   \n",
       "40_gcn     0.904311  0.894427   0.893806   0.591111  0.613333  0.567778   \n",
       "40_gat     0.856349  1.116542   0.956266   0.502222  0.700000  0.592222   \n",
       "40_fnn     1.019804  1.045626   1.092906   0.662222  0.720000  0.725556   \n",
       "10_sage    0.487950  0.649786   0.642910   0.180952  0.333333  0.334815   \n",
       "10_gcn     1.004751  0.829993   0.942416   0.647619  0.555556  0.612593   \n",
       "10_fnn     1.133893  1.220200   1.087641   0.752381  0.866667  0.722222   \n",
       "10_gat     0.889087  1.105542   1.086960   0.485714  0.777778  0.713333   \n",
       "\n",
       "         train_rmse_perc  val_rmse_perc  test_rmse_perc  train_mae_perc  \\\n",
       "uid                                                                       \n",
       "75_sage         0.087515       0.102572        0.120330        0.068813   \n",
       "75_gcn          0.228003       0.223579        0.228121        0.171693   \n",
       "75_fnn          0.214458       0.223132        0.220422        0.166867   \n",
       "75_gat          0.212804       0.198866        0.234320        0.151040   \n",
       "40_sage         0.071691       0.109938        0.112366        0.061533   \n",
       "40_gcn          0.221574       0.226097        0.219237        0.166689   \n",
       "40_gat          0.214827       0.282347        0.232304        0.153600   \n",
       "40_fnn          0.247736       0.260934        0.264152        0.185356   \n",
       "10_sage         0.120183       0.153690        0.153260        0.085571   \n",
       "10_gcn          0.258689       0.190492        0.235553        0.192238   \n",
       "10_fnn          0.280758       0.296383        0.267782        0.211190   \n",
       "10_gat          0.211719       0.279003        0.268486        0.142143   \n",
       "\n",
       "         val_mae_perc  test_mae_perc group model  \n",
       "uid                                               \n",
       "75_sage      0.079427       0.085693    75  sage  \n",
       "75_gcn       0.175053       0.169240    75   gcn  \n",
       "75_fnn       0.177000       0.171667    75   fnn  \n",
       "75_gat       0.141987       0.172120    75   gat  \n",
       "40_sage      0.081200       0.083578    40  sage  \n",
       "40_gcn       0.175733       0.164889    40   gcn  \n",
       "40_gat       0.194333       0.167211    40   gat  \n",
       "40_fnn       0.203333       0.201178    40   fnn  \n",
       "10_sage      0.107444       0.111600    10  sage  \n",
       "10_gcn       0.144556       0.178570    10   gcn  \n",
       "10_fnn       0.222111       0.202422    10   fnn  \n",
       "10_gat       0.209222       0.198015    10   gat  "
      ]
     },
     "execution_count": 9,
     "metadata": {},
     "output_type": "execute_result"
    }
   ],
   "source": [
    "r['sym_network_clas']"
   ]
  },
  {
   "cell_type": "code",
   "execution_count": 10,
   "metadata": {},
   "outputs": [
    {
     "data": {
      "text/html": [
       "<div>\n",
       "<style scoped>\n",
       "    .dataframe tbody tr th:only-of-type {\n",
       "        vertical-align: middle;\n",
       "    }\n",
       "\n",
       "    .dataframe tbody tr th {\n",
       "        vertical-align: top;\n",
       "    }\n",
       "\n",
       "    .dataframe thead th {\n",
       "        text-align: right;\n",
       "    }\n",
       "</style>\n",
       "<table border=\"1\" class=\"dataframe\">\n",
       "  <thead>\n",
       "    <tr style=\"text-align: right;\">\n",
       "      <th></th>\n",
       "      <th>train_mcc</th>\n",
       "      <th>val_mcc</th>\n",
       "      <th>test_mcc</th>\n",
       "      <th>train_acc</th>\n",
       "      <th>val_acc</th>\n",
       "      <th>test_acc</th>\n",
       "      <th>train_rmse</th>\n",
       "      <th>val_rmse</th>\n",
       "      <th>test_rmse</th>\n",
       "      <th>train_mae</th>\n",
       "      <th>val_mae</th>\n",
       "      <th>test_mae</th>\n",
       "      <th>train_rmse_perc</th>\n",
       "      <th>val_rmse_perc</th>\n",
       "      <th>test_rmse_perc</th>\n",
       "      <th>train_mae_perc</th>\n",
       "      <th>val_mae_perc</th>\n",
       "      <th>test_mae_perc</th>\n",
       "      <th>group</th>\n",
       "      <th>model</th>\n",
       "    </tr>\n",
       "    <tr>\n",
       "      <th>uid</th>\n",
       "      <th></th>\n",
       "      <th></th>\n",
       "      <th></th>\n",
       "      <th></th>\n",
       "      <th></th>\n",
       "      <th></th>\n",
       "      <th></th>\n",
       "      <th></th>\n",
       "      <th></th>\n",
       "      <th></th>\n",
       "      <th></th>\n",
       "      <th></th>\n",
       "      <th></th>\n",
       "      <th></th>\n",
       "      <th></th>\n",
       "      <th></th>\n",
       "      <th></th>\n",
       "      <th></th>\n",
       "      <th></th>\n",
       "      <th></th>\n",
       "    </tr>\n",
       "  </thead>\n",
       "  <tbody>\n",
       "    <tr>\n",
       "      <th>10_sage</th>\n",
       "      <td>0.634618</td>\n",
       "      <td>0.521291</td>\n",
       "      <td>0.581344</td>\n",
       "      <td>0.723809</td>\n",
       "      <td>0.644444</td>\n",
       "      <td>0.684444</td>\n",
       "      <td>0.601585</td>\n",
       "      <td>0.649786</td>\n",
       "      <td>0.643486</td>\n",
       "      <td>0.304762</td>\n",
       "      <td>0.377778</td>\n",
       "      <td>0.347407</td>\n",
       "      <td>0.134155</td>\n",
       "      <td>0.150404</td>\n",
       "      <td>0.143559</td>\n",
       "      <td>0.104882</td>\n",
       "      <td>0.111082</td>\n",
       "      <td>0.104955</td>\n",
       "      <td>10</td>\n",
       "      <td>sage</td>\n",
       "    </tr>\n",
       "    <tr>\n",
       "      <th>10_sage_base</th>\n",
       "      <td>0.244881</td>\n",
       "      <td>0.266535</td>\n",
       "      <td>0.370856</td>\n",
       "      <td>0.390476</td>\n",
       "      <td>0.488889</td>\n",
       "      <td>0.503704</td>\n",
       "      <td>0.798809</td>\n",
       "      <td>0.760117</td>\n",
       "      <td>0.736860</td>\n",
       "      <td>0.619048</td>\n",
       "      <td>0.533333</td>\n",
       "      <td>0.511852</td>\n",
       "      <td>0.177122</td>\n",
       "      <td>0.165596</td>\n",
       "      <td>0.165149</td>\n",
       "      <td>0.152154</td>\n",
       "      <td>0.133731</td>\n",
       "      <td>0.133605</td>\n",
       "      <td>10</td>\n",
       "      <td>sage_base</td>\n",
       "    </tr>\n",
       "    <tr>\n",
       "      <th>10_gat</th>\n",
       "      <td>0.442096</td>\n",
       "      <td>0.344674</td>\n",
       "      <td>0.355414</td>\n",
       "      <td>0.561905</td>\n",
       "      <td>0.511111</td>\n",
       "      <td>0.505185</td>\n",
       "      <td>0.762202</td>\n",
       "      <td>0.869227</td>\n",
       "      <td>0.843274</td>\n",
       "      <td>0.485714</td>\n",
       "      <td>0.577778</td>\n",
       "      <td>0.564444</td>\n",
       "      <td>0.165999</td>\n",
       "      <td>0.187621</td>\n",
       "      <td>0.196543</td>\n",
       "      <td>0.134906</td>\n",
       "      <td>0.139174</td>\n",
       "      <td>0.152113</td>\n",
       "      <td>10</td>\n",
       "      <td>gat</td>\n",
       "    </tr>\n",
       "    <tr>\n",
       "      <th>10_fnn</th>\n",
       "      <td>0.312659</td>\n",
       "      <td>0.374865</td>\n",
       "      <td>0.332307</td>\n",
       "      <td>0.428571</td>\n",
       "      <td>0.555555</td>\n",
       "      <td>0.480000</td>\n",
       "      <td>0.878310</td>\n",
       "      <td>0.802773</td>\n",
       "      <td>0.883595</td>\n",
       "      <td>0.638095</td>\n",
       "      <td>0.511111</td>\n",
       "      <td>0.604444</td>\n",
       "      <td>0.210453</td>\n",
       "      <td>0.185058</td>\n",
       "      <td>0.211368</td>\n",
       "      <td>0.179030</td>\n",
       "      <td>0.139817</td>\n",
       "      <td>0.169835</td>\n",
       "      <td>10</td>\n",
       "      <td>fnn</td>\n",
       "    </tr>\n",
       "    <tr>\n",
       "      <th>10_gcn</th>\n",
       "      <td>0.308340</td>\n",
       "      <td>0.381849</td>\n",
       "      <td>0.326334</td>\n",
       "      <td>0.380952</td>\n",
       "      <td>0.555555</td>\n",
       "      <td>0.438519</td>\n",
       "      <td>0.905012</td>\n",
       "      <td>0.802773</td>\n",
       "      <td>0.859371</td>\n",
       "      <td>0.685714</td>\n",
       "      <td>0.511111</td>\n",
       "      <td>0.620000</td>\n",
       "      <td>0.231380</td>\n",
       "      <td>0.200166</td>\n",
       "      <td>0.217017</td>\n",
       "      <td>0.199017</td>\n",
       "      <td>0.160910</td>\n",
       "      <td>0.181670</td>\n",
       "      <td>10</td>\n",
       "      <td>gcn</td>\n",
       "    </tr>\n",
       "    <tr>\n",
       "      <th>40_sage</th>\n",
       "      <td>0.835089</td>\n",
       "      <td>0.733372</td>\n",
       "      <td>0.712704</td>\n",
       "      <td>0.871111</td>\n",
       "      <td>0.793333</td>\n",
       "      <td>0.776667</td>\n",
       "      <td>0.368179</td>\n",
       "      <td>0.454606</td>\n",
       "      <td>0.512076</td>\n",
       "      <td>0.131111</td>\n",
       "      <td>0.206667</td>\n",
       "      <td>0.235556</td>\n",
       "      <td>0.095655</td>\n",
       "      <td>0.097373</td>\n",
       "      <td>0.112529</td>\n",
       "      <td>0.075609</td>\n",
       "      <td>0.076762</td>\n",
       "      <td>0.082301</td>\n",
       "      <td>40</td>\n",
       "      <td>sage</td>\n",
       "    </tr>\n",
       "    <tr>\n",
       "      <th>40_sage_base</th>\n",
       "      <td>0.707345</td>\n",
       "      <td>0.646037</td>\n",
       "      <td>0.613525</td>\n",
       "      <td>0.764444</td>\n",
       "      <td>0.726667</td>\n",
       "      <td>0.697778</td>\n",
       "      <td>0.485341</td>\n",
       "      <td>0.522813</td>\n",
       "      <td>0.561743</td>\n",
       "      <td>0.235556</td>\n",
       "      <td>0.273333</td>\n",
       "      <td>0.306667</td>\n",
       "      <td>0.105357</td>\n",
       "      <td>0.113051</td>\n",
       "      <td>0.119162</td>\n",
       "      <td>0.084245</td>\n",
       "      <td>0.091583</td>\n",
       "      <td>0.092553</td>\n",
       "      <td>40</td>\n",
       "      <td>sage_base</td>\n",
       "    </tr>\n",
       "    <tr>\n",
       "      <th>40_gat</th>\n",
       "      <td>0.518122</td>\n",
       "      <td>0.432167</td>\n",
       "      <td>0.444630</td>\n",
       "      <td>0.633333</td>\n",
       "      <td>0.566667</td>\n",
       "      <td>0.580000</td>\n",
       "      <td>0.707107</td>\n",
       "      <td>0.836660</td>\n",
       "      <td>0.767391</td>\n",
       "      <td>0.411111</td>\n",
       "      <td>0.513333</td>\n",
       "      <td>0.473333</td>\n",
       "      <td>0.159566</td>\n",
       "      <td>0.205826</td>\n",
       "      <td>0.173368</td>\n",
       "      <td>0.118210</td>\n",
       "      <td>0.140881</td>\n",
       "      <td>0.130058</td>\n",
       "      <td>40</td>\n",
       "      <td>gat</td>\n",
       "    </tr>\n",
       "    <tr>\n",
       "      <th>40_fnn</th>\n",
       "      <td>0.360827</td>\n",
       "      <td>0.368414</td>\n",
       "      <td>0.325004</td>\n",
       "      <td>0.515556</td>\n",
       "      <td>0.520000</td>\n",
       "      <td>0.490000</td>\n",
       "      <td>0.855050</td>\n",
       "      <td>0.856349</td>\n",
       "      <td>0.864741</td>\n",
       "      <td>0.566667</td>\n",
       "      <td>0.560000</td>\n",
       "      <td>0.587778</td>\n",
       "      <td>0.197678</td>\n",
       "      <td>0.203618</td>\n",
       "      <td>0.205201</td>\n",
       "      <td>0.158469</td>\n",
       "      <td>0.167623</td>\n",
       "      <td>0.164736</td>\n",
       "      <td>40</td>\n",
       "      <td>fnn</td>\n",
       "    </tr>\n",
       "    <tr>\n",
       "      <th>40_gcn</th>\n",
       "      <td>0.315727</td>\n",
       "      <td>0.329497</td>\n",
       "      <td>0.312130</td>\n",
       "      <td>0.435556</td>\n",
       "      <td>0.426667</td>\n",
       "      <td>0.436667</td>\n",
       "      <td>0.858940</td>\n",
       "      <td>0.890693</td>\n",
       "      <td>0.848528</td>\n",
       "      <td>0.622222</td>\n",
       "      <td>0.646667</td>\n",
       "      <td>0.615556</td>\n",
       "      <td>0.211265</td>\n",
       "      <td>0.219865</td>\n",
       "      <td>0.206994</td>\n",
       "      <td>0.175307</td>\n",
       "      <td>0.190456</td>\n",
       "      <td>0.173165</td>\n",
       "      <td>40</td>\n",
       "      <td>gcn</td>\n",
       "    </tr>\n",
       "    <tr>\n",
       "      <th>75_sage</th>\n",
       "      <td>0.801031</td>\n",
       "      <td>0.776174</td>\n",
       "      <td>0.736340</td>\n",
       "      <td>0.846667</td>\n",
       "      <td>0.829333</td>\n",
       "      <td>0.800000</td>\n",
       "      <td>0.401663</td>\n",
       "      <td>0.422690</td>\n",
       "      <td>0.518973</td>\n",
       "      <td>0.156000</td>\n",
       "      <td>0.173333</td>\n",
       "      <td>0.221333</td>\n",
       "      <td>0.084442</td>\n",
       "      <td>0.088734</td>\n",
       "      <td>0.101873</td>\n",
       "      <td>0.065337</td>\n",
       "      <td>0.068055</td>\n",
       "      <td>0.070746</td>\n",
       "      <td>75</td>\n",
       "      <td>sage</td>\n",
       "    </tr>\n",
       "    <tr>\n",
       "      <th>75_sage_base</th>\n",
       "      <td>0.633415</td>\n",
       "      <td>0.564257</td>\n",
       "      <td>0.596216</td>\n",
       "      <td>0.713333</td>\n",
       "      <td>0.661333</td>\n",
       "      <td>0.685333</td>\n",
       "      <td>0.539135</td>\n",
       "      <td>0.613188</td>\n",
       "      <td>0.588784</td>\n",
       "      <td>0.288000</td>\n",
       "      <td>0.349333</td>\n",
       "      <td>0.325333</td>\n",
       "      <td>0.111910</td>\n",
       "      <td>0.122421</td>\n",
       "      <td>0.117154</td>\n",
       "      <td>0.089590</td>\n",
       "      <td>0.096329</td>\n",
       "      <td>0.090578</td>\n",
       "      <td>75</td>\n",
       "      <td>sage_base</td>\n",
       "    </tr>\n",
       "    <tr>\n",
       "      <th>75_gat</th>\n",
       "      <td>0.534243</td>\n",
       "      <td>0.555925</td>\n",
       "      <td>0.482151</td>\n",
       "      <td>0.650667</td>\n",
       "      <td>0.666667</td>\n",
       "      <td>0.610667</td>\n",
       "      <td>0.722034</td>\n",
       "      <td>0.715542</td>\n",
       "      <td>0.719259</td>\n",
       "      <td>0.404000</td>\n",
       "      <td>0.389333</td>\n",
       "      <td>0.432000</td>\n",
       "      <td>0.166516</td>\n",
       "      <td>0.161310</td>\n",
       "      <td>0.162221</td>\n",
       "      <td>0.116770</td>\n",
       "      <td>0.115686</td>\n",
       "      <td>0.119653</td>\n",
       "      <td>75</td>\n",
       "      <td>gat</td>\n",
       "    </tr>\n",
       "    <tr>\n",
       "      <th>75_fnn</th>\n",
       "      <td>0.359105</td>\n",
       "      <td>0.378877</td>\n",
       "      <td>0.348252</td>\n",
       "      <td>0.502667</td>\n",
       "      <td>0.501333</td>\n",
       "      <td>0.493333</td>\n",
       "      <td>0.839047</td>\n",
       "      <td>0.873308</td>\n",
       "      <td>0.877876</td>\n",
       "      <td>0.565333</td>\n",
       "      <td>0.586667</td>\n",
       "      <td>0.594667</td>\n",
       "      <td>0.199164</td>\n",
       "      <td>0.205858</td>\n",
       "      <td>0.201252</td>\n",
       "      <td>0.162186</td>\n",
       "      <td>0.166230</td>\n",
       "      <td>0.162156</td>\n",
       "      <td>75</td>\n",
       "      <td>fnn</td>\n",
       "    </tr>\n",
       "    <tr>\n",
       "      <th>75_gcn</th>\n",
       "      <td>0.324546</td>\n",
       "      <td>0.308678</td>\n",
       "      <td>0.310931</td>\n",
       "      <td>0.437333</td>\n",
       "      <td>0.410667</td>\n",
       "      <td>0.434667</td>\n",
       "      <td>0.859457</td>\n",
       "      <td>0.870249</td>\n",
       "      <td>0.876356</td>\n",
       "      <td>0.621333</td>\n",
       "      <td>0.645333</td>\n",
       "      <td>0.629333</td>\n",
       "      <td>0.215159</td>\n",
       "      <td>0.214850</td>\n",
       "      <td>0.215234</td>\n",
       "      <td>0.182062</td>\n",
       "      <td>0.181600</td>\n",
       "      <td>0.176781</td>\n",
       "      <td>75</td>\n",
       "      <td>gcn</td>\n",
       "    </tr>\n",
       "  </tbody>\n",
       "</table>\n",
       "</div>"
      ],
      "text/plain": [
       "              train_mcc   val_mcc  test_mcc  train_acc   val_acc  test_acc  \\\n",
       "uid                                                                          \n",
       "10_sage        0.634618  0.521291  0.581344   0.723809  0.644444  0.684444   \n",
       "10_sage_base   0.244881  0.266535  0.370856   0.390476  0.488889  0.503704   \n",
       "10_gat         0.442096  0.344674  0.355414   0.561905  0.511111  0.505185   \n",
       "10_fnn         0.312659  0.374865  0.332307   0.428571  0.555555  0.480000   \n",
       "10_gcn         0.308340  0.381849  0.326334   0.380952  0.555555  0.438519   \n",
       "40_sage        0.835089  0.733372  0.712704   0.871111  0.793333  0.776667   \n",
       "40_sage_base   0.707345  0.646037  0.613525   0.764444  0.726667  0.697778   \n",
       "40_gat         0.518122  0.432167  0.444630   0.633333  0.566667  0.580000   \n",
       "40_fnn         0.360827  0.368414  0.325004   0.515556  0.520000  0.490000   \n",
       "40_gcn         0.315727  0.329497  0.312130   0.435556  0.426667  0.436667   \n",
       "75_sage        0.801031  0.776174  0.736340   0.846667  0.829333  0.800000   \n",
       "75_sage_base   0.633415  0.564257  0.596216   0.713333  0.661333  0.685333   \n",
       "75_gat         0.534243  0.555925  0.482151   0.650667  0.666667  0.610667   \n",
       "75_fnn         0.359105  0.378877  0.348252   0.502667  0.501333  0.493333   \n",
       "75_gcn         0.324546  0.308678  0.310931   0.437333  0.410667  0.434667   \n",
       "\n",
       "              train_rmse  val_rmse  test_rmse  train_mae   val_mae  test_mae  \\\n",
       "uid                                                                            \n",
       "10_sage         0.601585  0.649786   0.643486   0.304762  0.377778  0.347407   \n",
       "10_sage_base    0.798809  0.760117   0.736860   0.619048  0.533333  0.511852   \n",
       "10_gat          0.762202  0.869227   0.843274   0.485714  0.577778  0.564444   \n",
       "10_fnn          0.878310  0.802773   0.883595   0.638095  0.511111  0.604444   \n",
       "10_gcn          0.905012  0.802773   0.859371   0.685714  0.511111  0.620000   \n",
       "40_sage         0.368179  0.454606   0.512076   0.131111  0.206667  0.235556   \n",
       "40_sage_base    0.485341  0.522813   0.561743   0.235556  0.273333  0.306667   \n",
       "40_gat          0.707107  0.836660   0.767391   0.411111  0.513333  0.473333   \n",
       "40_fnn          0.855050  0.856349   0.864741   0.566667  0.560000  0.587778   \n",
       "40_gcn          0.858940  0.890693   0.848528   0.622222  0.646667  0.615556   \n",
       "75_sage         0.401663  0.422690   0.518973   0.156000  0.173333  0.221333   \n",
       "75_sage_base    0.539135  0.613188   0.588784   0.288000  0.349333  0.325333   \n",
       "75_gat          0.722034  0.715542   0.719259   0.404000  0.389333  0.432000   \n",
       "75_fnn          0.839047  0.873308   0.877876   0.565333  0.586667  0.594667   \n",
       "75_gcn          0.859457  0.870249   0.876356   0.621333  0.645333  0.629333   \n",
       "\n",
       "              train_rmse_perc  val_rmse_perc  test_rmse_perc  train_mae_perc  \\\n",
       "uid                                                                            \n",
       "10_sage              0.134155       0.150404        0.143559        0.104882   \n",
       "10_sage_base         0.177122       0.165596        0.165149        0.152154   \n",
       "10_gat               0.165999       0.187621        0.196543        0.134906   \n",
       "10_fnn               0.210453       0.185058        0.211368        0.179030   \n",
       "10_gcn               0.231380       0.200166        0.217017        0.199017   \n",
       "40_sage              0.095655       0.097373        0.112529        0.075609   \n",
       "40_sage_base         0.105357       0.113051        0.119162        0.084245   \n",
       "40_gat               0.159566       0.205826        0.173368        0.118210   \n",
       "40_fnn               0.197678       0.203618        0.205201        0.158469   \n",
       "40_gcn               0.211265       0.219865        0.206994        0.175307   \n",
       "75_sage              0.084442       0.088734        0.101873        0.065337   \n",
       "75_sage_base         0.111910       0.122421        0.117154        0.089590   \n",
       "75_gat               0.166516       0.161310        0.162221        0.116770   \n",
       "75_fnn               0.199164       0.205858        0.201252        0.162186   \n",
       "75_gcn               0.215159       0.214850        0.215234        0.182062   \n",
       "\n",
       "              val_mae_perc  test_mae_perc group      model  \n",
       "uid                                                         \n",
       "10_sage           0.111082       0.104955    10       sage  \n",
       "10_sage_base      0.133731       0.133605    10  sage_base  \n",
       "10_gat            0.139174       0.152113    10        gat  \n",
       "10_fnn            0.139817       0.169835    10        fnn  \n",
       "10_gcn            0.160910       0.181670    10        gcn  \n",
       "40_sage           0.076762       0.082301    40       sage  \n",
       "40_sage_base      0.091583       0.092553    40  sage_base  \n",
       "40_gat            0.140881       0.130058    40        gat  \n",
       "40_fnn            0.167623       0.164736    40        fnn  \n",
       "40_gcn            0.190456       0.173165    40        gcn  \n",
       "75_sage           0.068055       0.070746    75       sage  \n",
       "75_sage_base      0.096329       0.090578    75  sage_base  \n",
       "75_gat            0.115686       0.119653    75        gat  \n",
       "75_fnn            0.166230       0.162156    75        fnn  \n",
       "75_gcn            0.181600       0.176781    75        gcn  "
      ]
     },
     "execution_count": 10,
     "metadata": {},
     "output_type": "execute_result"
    }
   ],
   "source": [
    "r['sym_network_reg']"
   ]
  },
  {
   "cell_type": "code",
   "execution_count": null,
   "metadata": {},
   "outputs": [],
   "source": []
  }
 ],
 "metadata": {
  "interpreter": {
   "hash": "37be9487e307834247f9cc00a1ec46ceeb3f522b7edf17e3b2d74c6ce713e314"
  },
  "kernelspec": {
   "display_name": "Python 3.9.5 ('venv': venv)",
   "language": "python",
   "name": "python3"
  },
  "language_info": {
   "codemirror_mode": {
    "name": "ipython",
    "version": 3
   },
   "file_extension": ".py",
   "mimetype": "text/x-python",
   "name": "python",
   "nbconvert_exporter": "python",
   "pygments_lexer": "ipython3",
   "version": "3.9.5"
  },
  "orig_nbformat": 4
 },
 "nbformat": 4,
 "nbformat_minor": 2
}
