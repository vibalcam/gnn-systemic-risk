{
 "cells": [
  {
   "cell_type": "code",
   "execution_count": 1,
   "metadata": {},
   "outputs": [],
   "source": [
    "import sys\n",
    "sys.path.append('../')"
   ]
  },
  {
   "cell_type": "code",
   "execution_count": 2,
   "metadata": {},
   "outputs": [
    {
     "name": "stderr",
     "output_type": "stream",
     "text": [
      "c:\\Users\\vibal\\miniconda3\\envs\\ml\\lib\\site-packages\\tqdm\\auto.py:21: TqdmWarning: IProgress not found. Please update jupyter and ipywidgets. See https://ipywidgets.readthedocs.io/en/stable/user_install.html\n",
      "  from .autonotebook import tqdm as notebook_tqdm\n"
     ]
    }
   ],
   "source": [
    "import itertools\n",
    "import pandas as pd\n",
    "import numpy as np\n",
    "from tqdm.auto import tqdm, trange\n",
    "from pathlib import Path\n",
    "\n",
    "from models.train import test as test_clas\n",
    "from models.train_reg import test as test_reg\n",
    "from models.utils import ContagionDataset, set_seed, ConfusionMatrix, save_pickle, load_pickle\n",
    "from sklearn.metrics import matthews_corrcoef, mean_squared_error\n",
    "from models.results import ResultCollection"
   ]
  },
  {
   "cell_type": "code",
   "execution_count": 3,
   "metadata": {},
   "outputs": [],
   "source": [
    "seed = 4444\n",
    "\n",
    "# metric_filter_1 = 'val_mcc'\n",
    "# metric_filter_2 = 'test_mcc'\n",
    "\n",
    "data_dir_name = 'data'\n",
    "save_path_name = 'saved_'\n",
    "networks = ['sym_network', 'europe_network']\n",
    "\n",
    "target = 'additional_stress'\n",
    "dict_sets_lengths = {\n",
    "    '75':(0.6, 0.15, 0.25),\n",
    "    '40':(0.32, 0.08, 0.6),\n",
    "    '10':(0.08, 0.02, 0.9),\n",
    "}\n",
    "dict_test_type = {\n",
    "    'reg': test_reg,\n",
    "    'clas': test_clas,\n",
    "}\n",
    "dict_metric = {\n",
    "    'reg': ('test_rmse_perc', False),\n",
    "    'clas': ('test_mcc', True),\n",
    "}\n"
   ]
  },
  {
   "cell_type": "code",
   "execution_count": 4,
   "metadata": {},
   "outputs": [],
   "source": [
    "# col = ResultCollection()\n",
    "# paths = list(itertools.chain.from_iterable([[k for k in Path(n).glob(f\"models*/{save_path_name}*\") if k.is_dir()] for n in networks]))\n",
    "# network_paths = [[k for k in Path(n).glob(f\"models*/{save_path_name}*\") if k.is_dir()] for n in networks]"
   ]
  },
  {
   "cell_type": "code",
   "execution_count": 5,
   "metadata": {},
   "outputs": [
    {
     "name": "stdout",
     "output_type": "stream",
     "text": [
      "sym_network\\models_reg_10\\saved_fnn\n"
     ]
    },
    {
     "name": "stderr",
     "output_type": "stream",
     "text": [
      "100%|██████████| 747/747 [00:27<00:00, 26.87it/s]\n"
     ]
    },
    {
     "name": "stdout",
     "output_type": "stream",
     "text": [
      "sym_network\\models_reg_10\\saved_gat\n"
     ]
    },
    {
     "name": "stderr",
     "output_type": "stream",
     "text": [
      "100%|██████████| 7433/7433 [05:46<00:00, 21.46it/s]\n"
     ]
    },
    {
     "name": "stdout",
     "output_type": "stream",
     "text": [
      "sym_network\\models_reg_10\\saved_gcn\n"
     ]
    },
    {
     "name": "stderr",
     "output_type": "stream",
     "text": [
      "100%|██████████| 1066/1066 [00:38<00:00, 27.78it/s]\n"
     ]
    },
    {
     "name": "stdout",
     "output_type": "stream",
     "text": [
      "sym_network\\models_reg_10\\saved_sage_base\n",
      "ahora\n"
     ]
    },
    {
     "name": "stderr",
     "output_type": "stream",
     "text": [
      "100%|██████████| 5341/5341 [06:55<00:00, 12.87it/s]\n"
     ]
    },
    {
     "name": "stdout",
     "output_type": "stream",
     "text": [
      "sym_network\\models_reg_10\\saved_sage_dist\n"
     ]
    },
    {
     "name": "stderr",
     "output_type": "stream",
     "text": [
      "100%|██████████| 2922/2922 [04:55<00:00,  9.89it/s]\n"
     ]
    },
    {
     "name": "stdout",
     "output_type": "stream",
     "text": [
      "sym_network\\models_reg_10\\saved_sage_scale\n"
     ]
    },
    {
     "name": "stderr",
     "output_type": "stream",
     "text": [
      "100%|██████████| 5751/5751 [08:27<00:00, 11.33it/s]\n"
     ]
    },
    {
     "name": "stdout",
     "output_type": "stream",
     "text": [
      "sym_network\\models_reg_40\\saved_fnn\n"
     ]
    },
    {
     "name": "stderr",
     "output_type": "stream",
     "text": [
      "100%|██████████| 551/551 [00:31<00:00, 17.42it/s]\n"
     ]
    },
    {
     "name": "stdout",
     "output_type": "stream",
     "text": [
      "sym_network\\models_reg_40\\saved_gat\n"
     ]
    },
    {
     "name": "stderr",
     "output_type": "stream",
     "text": [
      "100%|██████████| 4471/4471 [05:12<00:00, 14.29it/s]\n"
     ]
    },
    {
     "name": "stdout",
     "output_type": "stream",
     "text": [
      "sym_network\\models_reg_40\\saved_gcn\n"
     ]
    },
    {
     "name": "stderr",
     "output_type": "stream",
     "text": [
      "100%|██████████| 1191/1191 [01:18<00:00, 15.20it/s]\n"
     ]
    },
    {
     "name": "stdout",
     "output_type": "stream",
     "text": [
      "sym_network\\models_reg_40\\saved_sage_base\n",
      "ahora\n"
     ]
    },
    {
     "name": "stderr",
     "output_type": "stream",
     "text": [
      "100%|██████████| 2774/2774 [09:44<00:00,  4.75it/s]\n"
     ]
    },
    {
     "name": "stdout",
     "output_type": "stream",
     "text": [
      "sym_network\\models_reg_40\\saved_sage_dist\n"
     ]
    },
    {
     "name": "stderr",
     "output_type": "stream",
     "text": [
      "100%|██████████| 4026/4026 [14:16<00:00,  4.70it/s]\n"
     ]
    },
    {
     "name": "stdout",
     "output_type": "stream",
     "text": [
      "sym_network\\models_reg_40\\saved_sage_scale\n"
     ]
    },
    {
     "name": "stderr",
     "output_type": "stream",
     "text": [
      "100%|██████████| 3768/3768 [13:18<00:00,  4.72it/s]\n"
     ]
    },
    {
     "name": "stdout",
     "output_type": "stream",
     "text": [
      "sym_network\\models_reg_75\\saved_fnn\n"
     ]
    },
    {
     "name": "stderr",
     "output_type": "stream",
     "text": [
      "100%|██████████| 513/513 [00:29<00:00, 17.24it/s]\n"
     ]
    },
    {
     "name": "stdout",
     "output_type": "stream",
     "text": [
      "sym_network\\models_reg_75\\saved_gat\n"
     ]
    },
    {
     "name": "stderr",
     "output_type": "stream",
     "text": [
      "100%|██████████| 4959/4959 [05:14<00:00, 15.77it/s]\n"
     ]
    },
    {
     "name": "stdout",
     "output_type": "stream",
     "text": [
      "sym_network\\models_reg_75\\saved_gcn\n"
     ]
    },
    {
     "name": "stderr",
     "output_type": "stream",
     "text": [
      "100%|██████████| 1228/1228 [01:21<00:00, 15.15it/s]\n"
     ]
    },
    {
     "name": "stdout",
     "output_type": "stream",
     "text": [
      "sym_network\\models_reg_75\\saved_sage_base\n",
      "ahora\n"
     ]
    },
    {
     "name": "stderr",
     "output_type": "stream",
     "text": [
      "100%|██████████| 2974/2974 [10:31<00:00,  4.71it/s]\n"
     ]
    },
    {
     "name": "stdout",
     "output_type": "stream",
     "text": [
      "sym_network\\models_reg_75\\saved_sage_dist\n"
     ]
    },
    {
     "name": "stderr",
     "output_type": "stream",
     "text": [
      "100%|██████████| 4128/4128 [14:37<00:00,  4.71it/s]\n"
     ]
    },
    {
     "name": "stdout",
     "output_type": "stream",
     "text": [
      "sym_network\\models_reg_75\\saved_sage_scale\n"
     ]
    },
    {
     "name": "stderr",
     "output_type": "stream",
     "text": [
      "100%|██████████| 4155/4155 [14:36<00:00,  4.74it/s]\n"
     ]
    },
    {
     "name": "stdout",
     "output_type": "stream",
     "text": [
      "sym_network\\models_clas_10\\saved_fnn\n"
     ]
    },
    {
     "name": "stderr",
     "output_type": "stream",
     "text": [
      "100%|██████████| 692/692 [00:36<00:00, 18.93it/s]\n"
     ]
    },
    {
     "name": "stdout",
     "output_type": "stream",
     "text": [
      "sym_network\\models_clas_10\\saved_gat\n"
     ]
    },
    {
     "name": "stderr",
     "output_type": "stream",
     "text": [
      "100%|██████████| 16260/16260 [16:52<00:00, 16.06it/s]\n"
     ]
    },
    {
     "name": "stdout",
     "output_type": "stream",
     "text": [
      "sym_network\\models_clas_10\\saved_gcn\n"
     ]
    },
    {
     "name": "stderr",
     "output_type": "stream",
     "text": [
      "100%|██████████| 2020/2020 [02:14<00:00, 15.05it/s]\n"
     ]
    },
    {
     "name": "stdout",
     "output_type": "stream",
     "text": [
      "sym_network\\models_clas_10\\saved_sage\n"
     ]
    },
    {
     "name": "stderr",
     "output_type": "stream",
     "text": [
      "100%|██████████| 5784/5784 [16:16<00:00,  5.92it/s]\n"
     ]
    },
    {
     "name": "stdout",
     "output_type": "stream",
     "text": [
      "sym_network\\models_clas_40\\saved_fnn\n"
     ]
    },
    {
     "name": "stderr",
     "output_type": "stream",
     "text": [
      "100%|██████████| 994/994 [00:52<00:00, 18.78it/s]\n"
     ]
    },
    {
     "name": "stdout",
     "output_type": "stream",
     "text": [
      "sym_network\\models_clas_40\\saved_gat\n"
     ]
    },
    {
     "name": "stderr",
     "output_type": "stream",
     "text": [
      "100%|██████████| 9929/9929 [10:09<00:00, 16.28it/s]\n"
     ]
    },
    {
     "name": "stdout",
     "output_type": "stream",
     "text": [
      "sym_network\\models_clas_40\\saved_gcn\n"
     ]
    },
    {
     "name": "stderr",
     "output_type": "stream",
     "text": [
      "100%|██████████| 3092/3092 [03:31<00:00, 14.62it/s]\n"
     ]
    },
    {
     "name": "stdout",
     "output_type": "stream",
     "text": [
      "sym_network\\models_clas_40\\saved_sage\n"
     ]
    },
    {
     "name": "stderr",
     "output_type": "stream",
     "text": [
      "100%|██████████| 6925/6925 [24:18<00:00,  4.75it/s]\n"
     ]
    },
    {
     "name": "stdout",
     "output_type": "stream",
     "text": [
      "sym_network\\models_clas_75\\saved_fnn\n"
     ]
    },
    {
     "name": "stderr",
     "output_type": "stream",
     "text": [
      "100%|██████████| 991/991 [00:50<00:00, 19.72it/s]\n"
     ]
    },
    {
     "name": "stdout",
     "output_type": "stream",
     "text": [
      "sym_network\\models_clas_75\\saved_gat\n"
     ]
    },
    {
     "name": "stderr",
     "output_type": "stream",
     "text": [
      "100%|██████████| 10641/10641 [11:02<00:00, 16.06it/s]\n"
     ]
    },
    {
     "name": "stdout",
     "output_type": "stream",
     "text": [
      "sym_network\\models_clas_75\\saved_gcn\n"
     ]
    },
    {
     "name": "stderr",
     "output_type": "stream",
     "text": [
      "100%|██████████| 2294/2294 [02:31<00:00, 15.16it/s]\n"
     ]
    },
    {
     "name": "stdout",
     "output_type": "stream",
     "text": [
      "sym_network\\models_clas_75\\saved_sage\n"
     ]
    },
    {
     "name": "stderr",
     "output_type": "stream",
     "text": [
      "100%|██████████| 6957/6957 [23:58<00:00,  4.84it/s] \n"
     ]
    },
    {
     "name": "stdout",
     "output_type": "stream",
     "text": [
      "europe_network\\models_clas_10\\saved_fnn\n"
     ]
    },
    {
     "name": "stderr",
     "output_type": "stream",
     "text": [
      "100%|██████████| 1033/1033 [00:52<00:00, 19.55it/s]\n"
     ]
    },
    {
     "name": "stdout",
     "output_type": "stream",
     "text": [
      "europe_network\\models_clas_10\\saved_gat\n"
     ]
    },
    {
     "name": "stderr",
     "output_type": "stream",
     "text": [
      "100%|██████████| 3288/3288 [03:15<00:00, 16.80it/s]\n"
     ]
    },
    {
     "name": "stdout",
     "output_type": "stream",
     "text": [
      "europe_network\\models_clas_10\\saved_gcn\n"
     ]
    },
    {
     "name": "stderr",
     "output_type": "stream",
     "text": [
      "100%|██████████| 1775/1775 [01:50<00:00, 16.03it/s]\n"
     ]
    },
    {
     "name": "stdout",
     "output_type": "stream",
     "text": [
      "europe_network\\models_clas_10\\saved_sage\n"
     ]
    },
    {
     "name": "stderr",
     "output_type": "stream",
     "text": [
      "100%|██████████| 17/17 [00:04<00:00,  3.50it/s]\n"
     ]
    },
    {
     "name": "stdout",
     "output_type": "stream",
     "text": [
      "europe_network\\models_clas_40\\saved_fnn\n"
     ]
    },
    {
     "name": "stderr",
     "output_type": "stream",
     "text": [
      "100%|██████████| 2011/2011 [01:46<00:00, 18.80it/s]\n"
     ]
    },
    {
     "name": "stdout",
     "output_type": "stream",
     "text": [
      "europe_network\\models_clas_40\\saved_gat\n"
     ]
    },
    {
     "name": "stderr",
     "output_type": "stream",
     "text": [
      "100%|██████████| 9542/9542 [09:30<00:00, 16.72it/s]\n"
     ]
    },
    {
     "name": "stdout",
     "output_type": "stream",
     "text": [
      "europe_network\\models_clas_40\\saved_gcn\n"
     ]
    },
    {
     "name": "stderr",
     "output_type": "stream",
     "text": [
      "100%|██████████| 2417/2417 [02:46<00:00, 14.52it/s]\n"
     ]
    },
    {
     "name": "stdout",
     "output_type": "stream",
     "text": [
      "europe_network\\models_clas_40\\saved_sage\n"
     ]
    },
    {
     "name": "stderr",
     "output_type": "stream",
     "text": [
      "100%|██████████| 400/400 [02:10<00:00,  3.08it/s]\n"
     ]
    },
    {
     "name": "stdout",
     "output_type": "stream",
     "text": [
      "europe_network\\models_clas_75\\saved_fnn\n"
     ]
    },
    {
     "name": "stderr",
     "output_type": "stream",
     "text": [
      "100%|██████████| 1972/1972 [01:42<00:00, 19.33it/s]\n"
     ]
    },
    {
     "name": "stdout",
     "output_type": "stream",
     "text": [
      "europe_network\\models_clas_75\\saved_gat\n"
     ]
    },
    {
     "name": "stderr",
     "output_type": "stream",
     "text": [
      "100%|██████████| 10357/10357 [10:27<00:00, 16.51it/s]\n"
     ]
    },
    {
     "name": "stdout",
     "output_type": "stream",
     "text": [
      "europe_network\\models_clas_75\\saved_gcn\n"
     ]
    },
    {
     "name": "stderr",
     "output_type": "stream",
     "text": [
      "100%|██████████| 1832/1832 [02:00<00:00, 15.20it/s]\n"
     ]
    },
    {
     "name": "stdout",
     "output_type": "stream",
     "text": [
      "europe_network\\models_clas_75\\saved_sage\n"
     ]
    },
    {
     "name": "stderr",
     "output_type": "stream",
     "text": [
      "100%|██████████| 423/423 [02:18<00:00,  3.05it/s]\n"
     ]
    }
   ],
   "source": [
    "col_results = {}\n",
    "\n",
    "for n, test_type in itertools.product(networks, dict_test_type.keys()):\n",
    "    col = ResultCollection()\n",
    "    metric = dict_metric[test_type]\n",
    "    col_results[f\"{n}_{test_type}\"] = (col, metric)\n",
    "\n",
    "    for p in [k for k in Path(n).glob(f\"models_{test_type}*/{save_path_name}*\") if k.is_dir()]:\n",
    "        print(p)\n",
    "        name = p.name.split(save_path_name)[1]\n",
    "        _,_,sets_type = p.parent.name.split('_', 3)\n",
    "        sets_lengths = dict_sets_lengths[sets_type]\n",
    "        data_dir = p.parent.parent.joinpath(data_dir_name)\n",
    "        \n",
    "        set_seed(seed)\n",
    "        dataset_val = ContagionDataset(\n",
    "            raw_dir=data_dir,\n",
    "            drop_edges=0,\n",
    "            sets_lengths=sets_lengths,\n",
    "            target = target,\n",
    "            add_self_loop=True,\n",
    "        )\n",
    "\n",
    "        if 'base' in name:\n",
    "            print(\"ahora\")\n",
    "            pass\n",
    "\n",
    "        def approach(s):\n",
    "            if 'base' in s:\n",
    "                return 'base_n'\n",
    "            elif 'scale' in s:\n",
    "                return 'scale'\n",
    "            else:\n",
    "                return 'dist'\n",
    "\n",
    "        r = dict_test_type[test_type](\n",
    "            dataset=dataset_val,\n",
    "            save_path=str(p),\n",
    "            n_runs=1,\n",
    "            debug_mode=False,\n",
    "            use_cpu=False,\n",
    "            save=True,\n",
    "            use_edge_weight=True,\n",
    "            approach_default= approach(name),\n",
    "        )\n",
    "\n",
    "        result = col.add(r[2], f\"{sets_type}_{name}\", sets_type, model=name)\n",
    "        result.save_best(metric[0],p,metric[1])\n"
   ]
  },
  {
   "cell_type": "code",
   "execution_count": 6,
   "metadata": {},
   "outputs": [],
   "source": [
    "save_pickle(col_results, 'results.pickle')\n",
    "# col_results = load_pickle('results.pickle')"
   ]
  },
  {
   "cell_type": "code",
   "execution_count": 7,
   "metadata": {},
   "outputs": [
    {
     "data": {
      "text/plain": [
       "{'sym_network_reg': (<models.results.ResultCollection at 0x2d9af7498b0>,\n",
       "  ('test_rmse_perc', False)),\n",
       " 'sym_network_clas': (<models.results.ResultCollection at 0x2d9e5779100>,\n",
       "  ('test_mcc', True)),\n",
       " 'europe_network_reg': (<models.results.ResultCollection at 0x2dbb6542bb0>,\n",
       "  ('test_rmse_perc', False)),\n",
       " 'europe_network_clas': (<models.results.ResultCollection at 0x2dc7d6a4310>,\n",
       "  ('test_mcc', True))}"
      ]
     },
     "execution_count": 7,
     "metadata": {},
     "output_type": "execute_result"
    }
   ],
   "source": [
    "col_results"
   ]
  },
  {
   "cell_type": "code",
   "execution_count": 8,
   "metadata": {},
   "outputs": [],
   "source": [
    "r = {k:v[0].df(v[1][0], v[1][1]) for k,v in col_results.items()}"
   ]
  },
  {
   "cell_type": "code",
   "execution_count": 9,
   "metadata": {},
   "outputs": [
    {
     "data": {
      "text/html": [
       "<div>\n",
       "<style scoped>\n",
       "    .dataframe tbody tr th:only-of-type {\n",
       "        vertical-align: middle;\n",
       "    }\n",
       "\n",
       "    .dataframe tbody tr th {\n",
       "        vertical-align: top;\n",
       "    }\n",
       "\n",
       "    .dataframe thead th {\n",
       "        text-align: right;\n",
       "    }\n",
       "</style>\n",
       "<table border=\"1\" class=\"dataframe\">\n",
       "  <thead>\n",
       "    <tr style=\"text-align: right;\">\n",
       "      <th></th>\n",
       "      <th>train_mcc</th>\n",
       "      <th>val_mcc</th>\n",
       "      <th>test_mcc</th>\n",
       "      <th>train_acc</th>\n",
       "      <th>val_acc</th>\n",
       "      <th>test_acc</th>\n",
       "      <th>train_rmse</th>\n",
       "      <th>val_rmse</th>\n",
       "      <th>test_rmse</th>\n",
       "      <th>train_mae</th>\n",
       "      <th>val_mae</th>\n",
       "      <th>test_mae</th>\n",
       "      <th>train_rmse_perc</th>\n",
       "      <th>val_rmse_perc</th>\n",
       "      <th>test_rmse_perc</th>\n",
       "      <th>train_mae_perc</th>\n",
       "      <th>val_mae_perc</th>\n",
       "      <th>test_mae_perc</th>\n",
       "      <th>group</th>\n",
       "      <th>model</th>\n",
       "    </tr>\n",
       "    <tr>\n",
       "      <th>uid</th>\n",
       "      <th></th>\n",
       "      <th></th>\n",
       "      <th></th>\n",
       "      <th></th>\n",
       "      <th></th>\n",
       "      <th></th>\n",
       "      <th></th>\n",
       "      <th></th>\n",
       "      <th></th>\n",
       "      <th></th>\n",
       "      <th></th>\n",
       "      <th></th>\n",
       "      <th></th>\n",
       "      <th></th>\n",
       "      <th></th>\n",
       "      <th></th>\n",
       "      <th></th>\n",
       "      <th></th>\n",
       "      <th></th>\n",
       "      <th></th>\n",
       "    </tr>\n",
       "  </thead>\n",
       "  <tbody>\n",
       "    <tr>\n",
       "      <th>75_sage</th>\n",
       "      <td>0.957</td>\n",
       "      <td>0.830</td>\n",
       "      <td>0.802</td>\n",
       "      <td>0.968</td>\n",
       "      <td>0.871</td>\n",
       "      <td>0.851</td>\n",
       "      <td>0.180</td>\n",
       "      <td>0.377</td>\n",
       "      <td>0.450</td>\n",
       "      <td>0.032</td>\n",
       "      <td>0.133</td>\n",
       "      <td>0.165</td>\n",
       "      <td>0.077</td>\n",
       "      <td>0.103</td>\n",
       "      <td>0.110</td>\n",
       "      <td>0.064</td>\n",
       "      <td>0.077</td>\n",
       "      <td>0.082</td>\n",
       "      <td>75</td>\n",
       "      <td>sage</td>\n",
       "    </tr>\n",
       "    <tr>\n",
       "      <th>75_gcn</th>\n",
       "      <td>0.567</td>\n",
       "      <td>0.503</td>\n",
       "      <td>0.589</td>\n",
       "      <td>0.673</td>\n",
       "      <td>0.622</td>\n",
       "      <td>0.688</td>\n",
       "      <td>0.664</td>\n",
       "      <td>0.745</td>\n",
       "      <td>0.687</td>\n",
       "      <td>0.361</td>\n",
       "      <td>0.431</td>\n",
       "      <td>0.360</td>\n",
       "      <td>0.163</td>\n",
       "      <td>0.176</td>\n",
       "      <td>0.161</td>\n",
       "      <td>0.118</td>\n",
       "      <td>0.128</td>\n",
       "      <td>0.115</td>\n",
       "      <td>75</td>\n",
       "      <td>gcn</td>\n",
       "    </tr>\n",
       "    <tr>\n",
       "      <th>75_fnn</th>\n",
       "      <td>0.373</td>\n",
       "      <td>0.370</td>\n",
       "      <td>0.409</td>\n",
       "      <td>0.494</td>\n",
       "      <td>0.480</td>\n",
       "      <td>0.520</td>\n",
       "      <td>0.896</td>\n",
       "      <td>0.894</td>\n",
       "      <td>0.919</td>\n",
       "      <td>0.602</td>\n",
       "      <td>0.613</td>\n",
       "      <td>0.600</td>\n",
       "      <td>0.219</td>\n",
       "      <td>0.218</td>\n",
       "      <td>0.220</td>\n",
       "      <td>0.172</td>\n",
       "      <td>0.174</td>\n",
       "      <td>0.171</td>\n",
       "      <td>75</td>\n",
       "      <td>fnn</td>\n",
       "    </tr>\n",
       "    <tr>\n",
       "      <th>75_gat</th>\n",
       "      <td>0.419</td>\n",
       "      <td>0.446</td>\n",
       "      <td>0.375</td>\n",
       "      <td>0.561</td>\n",
       "      <td>0.578</td>\n",
       "      <td>0.528</td>\n",
       "      <td>0.910</td>\n",
       "      <td>0.940</td>\n",
       "      <td>0.981</td>\n",
       "      <td>0.556</td>\n",
       "      <td>0.556</td>\n",
       "      <td>0.621</td>\n",
       "      <td>0.228</td>\n",
       "      <td>0.224</td>\n",
       "      <td>0.243</td>\n",
       "      <td>0.163</td>\n",
       "      <td>0.156</td>\n",
       "      <td>0.177</td>\n",
       "      <td>75</td>\n",
       "      <td>gat</td>\n",
       "    </tr>\n",
       "    <tr>\n",
       "      <th>40_sage</th>\n",
       "      <td>0.900</td>\n",
       "      <td>0.713</td>\n",
       "      <td>0.717</td>\n",
       "      <td>0.925</td>\n",
       "      <td>0.783</td>\n",
       "      <td>0.788</td>\n",
       "      <td>0.285</td>\n",
       "      <td>0.492</td>\n",
       "      <td>0.533</td>\n",
       "      <td>0.077</td>\n",
       "      <td>0.225</td>\n",
       "      <td>0.233</td>\n",
       "      <td>0.089</td>\n",
       "      <td>0.127</td>\n",
       "      <td>0.129</td>\n",
       "      <td>0.070</td>\n",
       "      <td>0.092</td>\n",
       "      <td>0.093</td>\n",
       "      <td>40</td>\n",
       "      <td>sage</td>\n",
       "    </tr>\n",
       "    <tr>\n",
       "      <th>40_gcn</th>\n",
       "      <td>0.590</td>\n",
       "      <td>0.548</td>\n",
       "      <td>0.541</td>\n",
       "      <td>0.692</td>\n",
       "      <td>0.658</td>\n",
       "      <td>0.656</td>\n",
       "      <td>0.649</td>\n",
       "      <td>0.665</td>\n",
       "      <td>0.693</td>\n",
       "      <td>0.346</td>\n",
       "      <td>0.375</td>\n",
       "      <td>0.387</td>\n",
       "      <td>0.160</td>\n",
       "      <td>0.167</td>\n",
       "      <td>0.170</td>\n",
       "      <td>0.116</td>\n",
       "      <td>0.126</td>\n",
       "      <td>0.125</td>\n",
       "      <td>40</td>\n",
       "      <td>gcn</td>\n",
       "    </tr>\n",
       "    <tr>\n",
       "      <th>40_fnn</th>\n",
       "      <td>0.360</td>\n",
       "      <td>0.339</td>\n",
       "      <td>0.375</td>\n",
       "      <td>0.510</td>\n",
       "      <td>0.500</td>\n",
       "      <td>0.523</td>\n",
       "      <td>0.926</td>\n",
       "      <td>0.922</td>\n",
       "      <td>0.904</td>\n",
       "      <td>0.612</td>\n",
       "      <td>0.617</td>\n",
       "      <td>0.589</td>\n",
       "      <td>0.225</td>\n",
       "      <td>0.231</td>\n",
       "      <td>0.224</td>\n",
       "      <td>0.173</td>\n",
       "      <td>0.175</td>\n",
       "      <td>0.171</td>\n",
       "      <td>40</td>\n",
       "      <td>fnn</td>\n",
       "    </tr>\n",
       "    <tr>\n",
       "      <th>40_gat</th>\n",
       "      <td>0.467</td>\n",
       "      <td>0.356</td>\n",
       "      <td>0.370</td>\n",
       "      <td>0.596</td>\n",
       "      <td>0.508</td>\n",
       "      <td>0.519</td>\n",
       "      <td>0.885</td>\n",
       "      <td>1.194</td>\n",
       "      <td>0.995</td>\n",
       "      <td>0.525</td>\n",
       "      <td>0.758</td>\n",
       "      <td>0.637</td>\n",
       "      <td>0.216</td>\n",
       "      <td>0.300</td>\n",
       "      <td>0.242</td>\n",
       "      <td>0.155</td>\n",
       "      <td>0.208</td>\n",
       "      <td>0.178</td>\n",
       "      <td>40</td>\n",
       "      <td>gat</td>\n",
       "    </tr>\n",
       "    <tr>\n",
       "      <th>10_sage</th>\n",
       "      <td>0.659</td>\n",
       "      <td>0.676</td>\n",
       "      <td>0.599</td>\n",
       "      <td>0.742</td>\n",
       "      <td>0.767</td>\n",
       "      <td>0.696</td>\n",
       "      <td>0.725</td>\n",
       "      <td>0.483</td>\n",
       "      <td>0.706</td>\n",
       "      <td>0.342</td>\n",
       "      <td>0.233</td>\n",
       "      <td>0.363</td>\n",
       "      <td>0.169</td>\n",
       "      <td>0.115</td>\n",
       "      <td>0.170</td>\n",
       "      <td>0.113</td>\n",
       "      <td>0.084</td>\n",
       "      <td>0.119</td>\n",
       "      <td>10</td>\n",
       "      <td>sage</td>\n",
       "    </tr>\n",
       "    <tr>\n",
       "      <th>10_gcn</th>\n",
       "      <td>0.627</td>\n",
       "      <td>0.446</td>\n",
       "      <td>0.494</td>\n",
       "      <td>0.717</td>\n",
       "      <td>0.600</td>\n",
       "      <td>0.619</td>\n",
       "      <td>0.677</td>\n",
       "      <td>0.632</td>\n",
       "      <td>0.719</td>\n",
       "      <td>0.342</td>\n",
       "      <td>0.400</td>\n",
       "      <td>0.425</td>\n",
       "      <td>0.158</td>\n",
       "      <td>0.153</td>\n",
       "      <td>0.175</td>\n",
       "      <td>0.114</td>\n",
       "      <td>0.122</td>\n",
       "      <td>0.131</td>\n",
       "      <td>10</td>\n",
       "      <td>gcn</td>\n",
       "    </tr>\n",
       "    <tr>\n",
       "      <th>10_gat</th>\n",
       "      <td>0.475</td>\n",
       "      <td>0.451</td>\n",
       "      <td>0.380</td>\n",
       "      <td>0.592</td>\n",
       "      <td>0.600</td>\n",
       "      <td>0.521</td>\n",
       "      <td>1.033</td>\n",
       "      <td>0.775</td>\n",
       "      <td>1.052</td>\n",
       "      <td>0.600</td>\n",
       "      <td>0.467</td>\n",
       "      <td>0.667</td>\n",
       "      <td>0.251</td>\n",
       "      <td>0.196</td>\n",
       "      <td>0.258</td>\n",
       "      <td>0.170</td>\n",
       "      <td>0.134</td>\n",
       "      <td>0.186</td>\n",
       "      <td>10</td>\n",
       "      <td>gat</td>\n",
       "    </tr>\n",
       "    <tr>\n",
       "      <th>10_fnn</th>\n",
       "      <td>0.325</td>\n",
       "      <td>0.368</td>\n",
       "      <td>0.355</td>\n",
       "      <td>0.425</td>\n",
       "      <td>0.467</td>\n",
       "      <td>0.435</td>\n",
       "      <td>1.372</td>\n",
       "      <td>1.354</td>\n",
       "      <td>1.317</td>\n",
       "      <td>0.967</td>\n",
       "      <td>0.900</td>\n",
       "      <td>0.912</td>\n",
       "      <td>0.334</td>\n",
       "      <td>0.327</td>\n",
       "      <td>0.321</td>\n",
       "      <td>0.257</td>\n",
       "      <td>0.234</td>\n",
       "      <td>0.245</td>\n",
       "      <td>10</td>\n",
       "      <td>fnn</td>\n",
       "    </tr>\n",
       "  </tbody>\n",
       "</table>\n",
       "</div>"
      ],
      "text/plain": [
       "         train_mcc  val_mcc  test_mcc  train_acc  val_acc  test_acc  \\\n",
       "uid                                                                   \n",
       "75_sage      0.957    0.830     0.802      0.968    0.871     0.851   \n",
       "75_gcn       0.567    0.503     0.589      0.673    0.622     0.688   \n",
       "75_fnn       0.373    0.370     0.409      0.494    0.480     0.520   \n",
       "75_gat       0.419    0.446     0.375      0.561    0.578     0.528   \n",
       "40_sage      0.900    0.713     0.717      0.925    0.783     0.788   \n",
       "40_gcn       0.590    0.548     0.541      0.692    0.658     0.656   \n",
       "40_fnn       0.360    0.339     0.375      0.510    0.500     0.523   \n",
       "40_gat       0.467    0.356     0.370      0.596    0.508     0.519   \n",
       "10_sage      0.659    0.676     0.599      0.742    0.767     0.696   \n",
       "10_gcn       0.627    0.446     0.494      0.717    0.600     0.619   \n",
       "10_gat       0.475    0.451     0.380      0.592    0.600     0.521   \n",
       "10_fnn       0.325    0.368     0.355      0.425    0.467     0.435   \n",
       "\n",
       "         train_rmse  val_rmse  test_rmse  train_mae  val_mae  test_mae  \\\n",
       "uid                                                                      \n",
       "75_sage       0.180     0.377      0.450      0.032    0.133     0.165   \n",
       "75_gcn        0.664     0.745      0.687      0.361    0.431     0.360   \n",
       "75_fnn        0.896     0.894      0.919      0.602    0.613     0.600   \n",
       "75_gat        0.910     0.940      0.981      0.556    0.556     0.621   \n",
       "40_sage       0.285     0.492      0.533      0.077    0.225     0.233   \n",
       "40_gcn        0.649     0.665      0.693      0.346    0.375     0.387   \n",
       "40_fnn        0.926     0.922      0.904      0.612    0.617     0.589   \n",
       "40_gat        0.885     1.194      0.995      0.525    0.758     0.637   \n",
       "10_sage       0.725     0.483      0.706      0.342    0.233     0.363   \n",
       "10_gcn        0.677     0.632      0.719      0.342    0.400     0.425   \n",
       "10_gat        1.033     0.775      1.052      0.600    0.467     0.667   \n",
       "10_fnn        1.372     1.354      1.317      0.967    0.900     0.912   \n",
       "\n",
       "         train_rmse_perc  val_rmse_perc  test_rmse_perc  train_mae_perc  \\\n",
       "uid                                                                       \n",
       "75_sage            0.077          0.103           0.110           0.064   \n",
       "75_gcn             0.163          0.176           0.161           0.118   \n",
       "75_fnn             0.219          0.218           0.220           0.172   \n",
       "75_gat             0.228          0.224           0.243           0.163   \n",
       "40_sage            0.089          0.127           0.129           0.070   \n",
       "40_gcn             0.160          0.167           0.170           0.116   \n",
       "40_fnn             0.225          0.231           0.224           0.173   \n",
       "40_gat             0.216          0.300           0.242           0.155   \n",
       "10_sage            0.169          0.115           0.170           0.113   \n",
       "10_gcn             0.158          0.153           0.175           0.114   \n",
       "10_gat             0.251          0.196           0.258           0.170   \n",
       "10_fnn             0.334          0.327           0.321           0.257   \n",
       "\n",
       "         val_mae_perc  test_mae_perc group model  \n",
       "uid                                               \n",
       "75_sage         0.077          0.082    75  sage  \n",
       "75_gcn          0.128          0.115    75   gcn  \n",
       "75_fnn          0.174          0.171    75   fnn  \n",
       "75_gat          0.156          0.177    75   gat  \n",
       "40_sage         0.092          0.093    40  sage  \n",
       "40_gcn          0.126          0.125    40   gcn  \n",
       "40_fnn          0.175          0.171    40   fnn  \n",
       "40_gat          0.208          0.178    40   gat  \n",
       "10_sage         0.084          0.119    10  sage  \n",
       "10_gcn          0.122          0.131    10   gcn  \n",
       "10_gat          0.134          0.186    10   gat  \n",
       "10_fnn          0.234          0.245    10   fnn  "
      ]
     },
     "execution_count": 9,
     "metadata": {},
     "output_type": "execute_result"
    }
   ],
   "source": [
    "r['sym_network_clas'].round(3).to_excel('sym_clas.xlsx')\n",
    "r['sym_network_clas'].round(3)"
   ]
  },
  {
   "cell_type": "code",
   "execution_count": 10,
   "metadata": {},
   "outputs": [
    {
     "data": {
      "text/html": [
       "<div>\n",
       "<style scoped>\n",
       "    .dataframe tbody tr th:only-of-type {\n",
       "        vertical-align: middle;\n",
       "    }\n",
       "\n",
       "    .dataframe tbody tr th {\n",
       "        vertical-align: top;\n",
       "    }\n",
       "\n",
       "    .dataframe thead th {\n",
       "        text-align: right;\n",
       "    }\n",
       "</style>\n",
       "<table border=\"1\" class=\"dataframe\">\n",
       "  <thead>\n",
       "    <tr style=\"text-align: right;\">\n",
       "      <th></th>\n",
       "      <th>train_mcc</th>\n",
       "      <th>val_mcc</th>\n",
       "      <th>test_mcc</th>\n",
       "      <th>train_acc</th>\n",
       "      <th>val_acc</th>\n",
       "      <th>test_acc</th>\n",
       "      <th>train_rmse</th>\n",
       "      <th>val_rmse</th>\n",
       "      <th>test_rmse</th>\n",
       "      <th>train_mae</th>\n",
       "      <th>val_mae</th>\n",
       "      <th>test_mae</th>\n",
       "      <th>train_rmse_perc</th>\n",
       "      <th>val_rmse_perc</th>\n",
       "      <th>test_rmse_perc</th>\n",
       "      <th>train_mae_perc</th>\n",
       "      <th>val_mae_perc</th>\n",
       "      <th>test_mae_perc</th>\n",
       "      <th>group</th>\n",
       "      <th>model</th>\n",
       "    </tr>\n",
       "    <tr>\n",
       "      <th>uid</th>\n",
       "      <th></th>\n",
       "      <th></th>\n",
       "      <th></th>\n",
       "      <th></th>\n",
       "      <th></th>\n",
       "      <th></th>\n",
       "      <th></th>\n",
       "      <th></th>\n",
       "      <th></th>\n",
       "      <th></th>\n",
       "      <th></th>\n",
       "      <th></th>\n",
       "      <th></th>\n",
       "      <th></th>\n",
       "      <th></th>\n",
       "      <th></th>\n",
       "      <th></th>\n",
       "      <th></th>\n",
       "      <th></th>\n",
       "      <th></th>\n",
       "    </tr>\n",
       "  </thead>\n",
       "  <tbody>\n",
       "    <tr>\n",
       "      <th>75_sage</th>\n",
       "      <td>0.910</td>\n",
       "      <td>0.690</td>\n",
       "      <td>0.629</td>\n",
       "      <td>0.932</td>\n",
       "      <td>0.769</td>\n",
       "      <td>0.721</td>\n",
       "      <td>0.383</td>\n",
       "      <td>0.736</td>\n",
       "      <td>0.849</td>\n",
       "      <td>0.091</td>\n",
       "      <td>0.329</td>\n",
       "      <td>0.417</td>\n",
       "      <td>0.115</td>\n",
       "      <td>0.194</td>\n",
       "      <td>0.219</td>\n",
       "      <td>0.078</td>\n",
       "      <td>0.121</td>\n",
       "      <td>0.141</td>\n",
       "      <td>75</td>\n",
       "      <td>sage</td>\n",
       "    </tr>\n",
       "    <tr>\n",
       "      <th>75_fnn</th>\n",
       "      <td>0.560</td>\n",
       "      <td>0.451</td>\n",
       "      <td>0.489</td>\n",
       "      <td>0.665</td>\n",
       "      <td>0.569</td>\n",
       "      <td>0.610</td>\n",
       "      <td>0.849</td>\n",
       "      <td>0.940</td>\n",
       "      <td>0.975</td>\n",
       "      <td>0.460</td>\n",
       "      <td>0.579</td>\n",
       "      <td>0.569</td>\n",
       "      <td>0.217</td>\n",
       "      <td>0.237</td>\n",
       "      <td>0.248</td>\n",
       "      <td>0.149</td>\n",
       "      <td>0.165</td>\n",
       "      <td>0.174</td>\n",
       "      <td>75</td>\n",
       "      <td>fnn</td>\n",
       "    </tr>\n",
       "    <tr>\n",
       "      <th>75_gat</th>\n",
       "      <td>0.424</td>\n",
       "      <td>0.443</td>\n",
       "      <td>0.459</td>\n",
       "      <td>0.551</td>\n",
       "      <td>0.569</td>\n",
       "      <td>0.577</td>\n",
       "      <td>1.420</td>\n",
       "      <td>1.442</td>\n",
       "      <td>1.349</td>\n",
       "      <td>0.888</td>\n",
       "      <td>0.894</td>\n",
       "      <td>0.815</td>\n",
       "      <td>0.364</td>\n",
       "      <td>0.376</td>\n",
       "      <td>0.357</td>\n",
       "      <td>0.253</td>\n",
       "      <td>0.259</td>\n",
       "      <td>0.245</td>\n",
       "      <td>75</td>\n",
       "      <td>gat</td>\n",
       "    </tr>\n",
       "    <tr>\n",
       "      <th>75_gcn</th>\n",
       "      <td>0.269</td>\n",
       "      <td>0.339</td>\n",
       "      <td>0.254</td>\n",
       "      <td>0.403</td>\n",
       "      <td>0.491</td>\n",
       "      <td>0.395</td>\n",
       "      <td>1.490</td>\n",
       "      <td>1.445</td>\n",
       "      <td>1.513</td>\n",
       "      <td>1.052</td>\n",
       "      <td>0.940</td>\n",
       "      <td>1.080</td>\n",
       "      <td>0.368</td>\n",
       "      <td>0.363</td>\n",
       "      <td>0.382</td>\n",
       "      <td>0.283</td>\n",
       "      <td>0.263</td>\n",
       "      <td>0.296</td>\n",
       "      <td>75</td>\n",
       "      <td>gcn</td>\n",
       "    </tr>\n",
       "    <tr>\n",
       "      <th>40_sage</th>\n",
       "      <td>0.974</td>\n",
       "      <td>0.613</td>\n",
       "      <td>0.578</td>\n",
       "      <td>0.981</td>\n",
       "      <td>0.713</td>\n",
       "      <td>0.683</td>\n",
       "      <td>0.140</td>\n",
       "      <td>0.928</td>\n",
       "      <td>0.957</td>\n",
       "      <td>0.019</td>\n",
       "      <td>0.461</td>\n",
       "      <td>0.507</td>\n",
       "      <td>0.075</td>\n",
       "      <td>0.236</td>\n",
       "      <td>0.248</td>\n",
       "      <td>0.063</td>\n",
       "      <td>0.150</td>\n",
       "      <td>0.164</td>\n",
       "      <td>40</td>\n",
       "      <td>sage</td>\n",
       "    </tr>\n",
       "    <tr>\n",
       "      <th>40_fnn</th>\n",
       "      <td>0.524</td>\n",
       "      <td>0.576</td>\n",
       "      <td>0.494</td>\n",
       "      <td>0.643</td>\n",
       "      <td>0.687</td>\n",
       "      <td>0.616</td>\n",
       "      <td>0.870</td>\n",
       "      <td>0.786</td>\n",
       "      <td>0.928</td>\n",
       "      <td>0.489</td>\n",
       "      <td>0.409</td>\n",
       "      <td>0.537</td>\n",
       "      <td>0.224</td>\n",
       "      <td>0.213</td>\n",
       "      <td>0.236</td>\n",
       "      <td>0.154</td>\n",
       "      <td>0.142</td>\n",
       "      <td>0.164</td>\n",
       "      <td>40</td>\n",
       "      <td>fnn</td>\n",
       "    </tr>\n",
       "    <tr>\n",
       "      <th>40_gat</th>\n",
       "      <td>0.466</td>\n",
       "      <td>0.490</td>\n",
       "      <td>0.410</td>\n",
       "      <td>0.589</td>\n",
       "      <td>0.617</td>\n",
       "      <td>0.541</td>\n",
       "      <td>1.217</td>\n",
       "      <td>1.244</td>\n",
       "      <td>1.318</td>\n",
       "      <td>0.727</td>\n",
       "      <td>0.713</td>\n",
       "      <td>0.829</td>\n",
       "      <td>0.311</td>\n",
       "      <td>0.311</td>\n",
       "      <td>0.331</td>\n",
       "      <td>0.211</td>\n",
       "      <td>0.206</td>\n",
       "      <td>0.234</td>\n",
       "      <td>40</td>\n",
       "      <td>gat</td>\n",
       "    </tr>\n",
       "    <tr>\n",
       "      <th>40_gcn</th>\n",
       "      <td>0.278</td>\n",
       "      <td>0.232</td>\n",
       "      <td>0.276</td>\n",
       "      <td>0.346</td>\n",
       "      <td>0.287</td>\n",
       "      <td>0.361</td>\n",
       "      <td>1.164</td>\n",
       "      <td>1.146</td>\n",
       "      <td>1.198</td>\n",
       "      <td>0.887</td>\n",
       "      <td>0.913</td>\n",
       "      <td>0.904</td>\n",
       "      <td>0.290</td>\n",
       "      <td>0.289</td>\n",
       "      <td>0.301</td>\n",
       "      <td>0.235</td>\n",
       "      <td>0.242</td>\n",
       "      <td>0.242</td>\n",
       "      <td>40</td>\n",
       "      <td>gcn</td>\n",
       "    </tr>\n",
       "    <tr>\n",
       "      <th>10_fnn</th>\n",
       "      <td>0.651</td>\n",
       "      <td>0.605</td>\n",
       "      <td>0.463</td>\n",
       "      <td>0.739</td>\n",
       "      <td>0.714</td>\n",
       "      <td>0.590</td>\n",
       "      <td>0.734</td>\n",
       "      <td>0.707</td>\n",
       "      <td>0.958</td>\n",
       "      <td>0.348</td>\n",
       "      <td>0.357</td>\n",
       "      <td>0.574</td>\n",
       "      <td>0.187</td>\n",
       "      <td>0.163</td>\n",
       "      <td>0.243</td>\n",
       "      <td>0.128</td>\n",
       "      <td>0.115</td>\n",
       "      <td>0.171</td>\n",
       "      <td>10</td>\n",
       "      <td>fnn</td>\n",
       "    </tr>\n",
       "    <tr>\n",
       "      <th>10_sage</th>\n",
       "      <td>0.977</td>\n",
       "      <td>0.534</td>\n",
       "      <td>0.460</td>\n",
       "      <td>0.983</td>\n",
       "      <td>0.643</td>\n",
       "      <td>0.594</td>\n",
       "      <td>0.132</td>\n",
       "      <td>1.035</td>\n",
       "      <td>1.216</td>\n",
       "      <td>0.017</td>\n",
       "      <td>0.571</td>\n",
       "      <td>0.719</td>\n",
       "      <td>0.078</td>\n",
       "      <td>0.259</td>\n",
       "      <td>0.305</td>\n",
       "      <td>0.067</td>\n",
       "      <td>0.170</td>\n",
       "      <td>0.208</td>\n",
       "      <td>10</td>\n",
       "      <td>sage</td>\n",
       "    </tr>\n",
       "    <tr>\n",
       "      <th>10_gat</th>\n",
       "      <td>0.374</td>\n",
       "      <td>0.271</td>\n",
       "      <td>0.319</td>\n",
       "      <td>0.530</td>\n",
       "      <td>0.464</td>\n",
       "      <td>0.468</td>\n",
       "      <td>1.345</td>\n",
       "      <td>1.488</td>\n",
       "      <td>1.515</td>\n",
       "      <td>0.835</td>\n",
       "      <td>1.000</td>\n",
       "      <td>1.018</td>\n",
       "      <td>0.346</td>\n",
       "      <td>0.355</td>\n",
       "      <td>0.391</td>\n",
       "      <td>0.234</td>\n",
       "      <td>0.263</td>\n",
       "      <td>0.284</td>\n",
       "      <td>10</td>\n",
       "      <td>gat</td>\n",
       "    </tr>\n",
       "    <tr>\n",
       "      <th>10_gcn</th>\n",
       "      <td>0.193</td>\n",
       "      <td>-0.021</td>\n",
       "      <td>0.099</td>\n",
       "      <td>0.374</td>\n",
       "      <td>0.214</td>\n",
       "      <td>0.313</td>\n",
       "      <td>1.134</td>\n",
       "      <td>1.512</td>\n",
       "      <td>1.459</td>\n",
       "      <td>0.835</td>\n",
       "      <td>1.214</td>\n",
       "      <td>1.108</td>\n",
       "      <td>0.285</td>\n",
       "      <td>0.369</td>\n",
       "      <td>0.371</td>\n",
       "      <td>0.222</td>\n",
       "      <td>0.306</td>\n",
       "      <td>0.295</td>\n",
       "      <td>10</td>\n",
       "      <td>gcn</td>\n",
       "    </tr>\n",
       "  </tbody>\n",
       "</table>\n",
       "</div>"
      ],
      "text/plain": [
       "         train_mcc  val_mcc  test_mcc  train_acc  val_acc  test_acc  \\\n",
       "uid                                                                   \n",
       "75_sage      0.910    0.690     0.629      0.932    0.769     0.721   \n",
       "75_fnn       0.560    0.451     0.489      0.665    0.569     0.610   \n",
       "75_gat       0.424    0.443     0.459      0.551    0.569     0.577   \n",
       "75_gcn       0.269    0.339     0.254      0.403    0.491     0.395   \n",
       "40_sage      0.974    0.613     0.578      0.981    0.713     0.683   \n",
       "40_fnn       0.524    0.576     0.494      0.643    0.687     0.616   \n",
       "40_gat       0.466    0.490     0.410      0.589    0.617     0.541   \n",
       "40_gcn       0.278    0.232     0.276      0.346    0.287     0.361   \n",
       "10_fnn       0.651    0.605     0.463      0.739    0.714     0.590   \n",
       "10_sage      0.977    0.534     0.460      0.983    0.643     0.594   \n",
       "10_gat       0.374    0.271     0.319      0.530    0.464     0.468   \n",
       "10_gcn       0.193   -0.021     0.099      0.374    0.214     0.313   \n",
       "\n",
       "         train_rmse  val_rmse  test_rmse  train_mae  val_mae  test_mae  \\\n",
       "uid                                                                      \n",
       "75_sage       0.383     0.736      0.849      0.091    0.329     0.417   \n",
       "75_fnn        0.849     0.940      0.975      0.460    0.579     0.569   \n",
       "75_gat        1.420     1.442      1.349      0.888    0.894     0.815   \n",
       "75_gcn        1.490     1.445      1.513      1.052    0.940     1.080   \n",
       "40_sage       0.140     0.928      0.957      0.019    0.461     0.507   \n",
       "40_fnn        0.870     0.786      0.928      0.489    0.409     0.537   \n",
       "40_gat        1.217     1.244      1.318      0.727    0.713     0.829   \n",
       "40_gcn        1.164     1.146      1.198      0.887    0.913     0.904   \n",
       "10_fnn        0.734     0.707      0.958      0.348    0.357     0.574   \n",
       "10_sage       0.132     1.035      1.216      0.017    0.571     0.719   \n",
       "10_gat        1.345     1.488      1.515      0.835    1.000     1.018   \n",
       "10_gcn        1.134     1.512      1.459      0.835    1.214     1.108   \n",
       "\n",
       "         train_rmse_perc  val_rmse_perc  test_rmse_perc  train_mae_perc  \\\n",
       "uid                                                                       \n",
       "75_sage            0.115          0.194           0.219           0.078   \n",
       "75_fnn             0.217          0.237           0.248           0.149   \n",
       "75_gat             0.364          0.376           0.357           0.253   \n",
       "75_gcn             0.368          0.363           0.382           0.283   \n",
       "40_sage            0.075          0.236           0.248           0.063   \n",
       "40_fnn             0.224          0.213           0.236           0.154   \n",
       "40_gat             0.311          0.311           0.331           0.211   \n",
       "40_gcn             0.290          0.289           0.301           0.235   \n",
       "10_fnn             0.187          0.163           0.243           0.128   \n",
       "10_sage            0.078          0.259           0.305           0.067   \n",
       "10_gat             0.346          0.355           0.391           0.234   \n",
       "10_gcn             0.285          0.369           0.371           0.222   \n",
       "\n",
       "         val_mae_perc  test_mae_perc group model  \n",
       "uid                                               \n",
       "75_sage         0.121          0.141    75  sage  \n",
       "75_fnn          0.165          0.174    75   fnn  \n",
       "75_gat          0.259          0.245    75   gat  \n",
       "75_gcn          0.263          0.296    75   gcn  \n",
       "40_sage         0.150          0.164    40  sage  \n",
       "40_fnn          0.142          0.164    40   fnn  \n",
       "40_gat          0.206          0.234    40   gat  \n",
       "40_gcn          0.242          0.242    40   gcn  \n",
       "10_fnn          0.115          0.171    10   fnn  \n",
       "10_sage         0.170          0.208    10  sage  \n",
       "10_gat          0.263          0.284    10   gat  \n",
       "10_gcn          0.306          0.295    10   gcn  "
      ]
     },
     "execution_count": 10,
     "metadata": {},
     "output_type": "execute_result"
    }
   ],
   "source": [
    "r['europe_network_clas'].round(3).to_excel('eur_clas.xlsx')\n",
    "r['europe_network_clas'].round(3)"
   ]
  },
  {
   "cell_type": "code",
   "execution_count": 11,
   "metadata": {},
   "outputs": [
    {
     "data": {
      "text/html": [
       "<div>\n",
       "<style scoped>\n",
       "    .dataframe tbody tr th:only-of-type {\n",
       "        vertical-align: middle;\n",
       "    }\n",
       "\n",
       "    .dataframe tbody tr th {\n",
       "        vertical-align: top;\n",
       "    }\n",
       "\n",
       "    .dataframe thead th {\n",
       "        text-align: right;\n",
       "    }\n",
       "</style>\n",
       "<table border=\"1\" class=\"dataframe\">\n",
       "  <thead>\n",
       "    <tr style=\"text-align: right;\">\n",
       "      <th></th>\n",
       "      <th>train_mcc</th>\n",
       "      <th>val_mcc</th>\n",
       "      <th>test_mcc</th>\n",
       "      <th>train_acc</th>\n",
       "      <th>val_acc</th>\n",
       "      <th>test_acc</th>\n",
       "      <th>train_rmse</th>\n",
       "      <th>val_rmse</th>\n",
       "      <th>test_rmse</th>\n",
       "      <th>train_mae</th>\n",
       "      <th>val_mae</th>\n",
       "      <th>test_mae</th>\n",
       "      <th>train_rmse_perc</th>\n",
       "      <th>val_rmse_perc</th>\n",
       "      <th>test_rmse_perc</th>\n",
       "      <th>train_mae_perc</th>\n",
       "      <th>val_mae_perc</th>\n",
       "      <th>test_mae_perc</th>\n",
       "      <th>group</th>\n",
       "      <th>model</th>\n",
       "    </tr>\n",
       "    <tr>\n",
       "      <th>uid</th>\n",
       "      <th></th>\n",
       "      <th></th>\n",
       "      <th></th>\n",
       "      <th></th>\n",
       "      <th></th>\n",
       "      <th></th>\n",
       "      <th></th>\n",
       "      <th></th>\n",
       "      <th></th>\n",
       "      <th></th>\n",
       "      <th></th>\n",
       "      <th></th>\n",
       "      <th></th>\n",
       "      <th></th>\n",
       "      <th></th>\n",
       "      <th></th>\n",
       "      <th></th>\n",
       "      <th></th>\n",
       "      <th></th>\n",
       "      <th></th>\n",
       "    </tr>\n",
       "  </thead>\n",
       "  <tbody>\n",
       "    <tr>\n",
       "      <th>10_sage_dist</th>\n",
       "      <td>0.802</td>\n",
       "      <td>0.669</td>\n",
       "      <td>0.654</td>\n",
       "      <td>0.850</td>\n",
       "      <td>0.767</td>\n",
       "      <td>0.739</td>\n",
       "      <td>0.418</td>\n",
       "      <td>0.483</td>\n",
       "      <td>0.554</td>\n",
       "      <td>0.158</td>\n",
       "      <td>0.233</td>\n",
       "      <td>0.276</td>\n",
       "      <td>0.084</td>\n",
       "      <td>0.106</td>\n",
       "      <td>0.121</td>\n",
       "      <td>0.068</td>\n",
       "      <td>0.079</td>\n",
       "      <td>0.087</td>\n",
       "      <td>10</td>\n",
       "      <td>sage_dist</td>\n",
       "    </tr>\n",
       "    <tr>\n",
       "      <th>10_sage_scale</th>\n",
       "      <td>0.769</td>\n",
       "      <td>0.575</td>\n",
       "      <td>0.576</td>\n",
       "      <td>0.825</td>\n",
       "      <td>0.700</td>\n",
       "      <td>0.680</td>\n",
       "      <td>0.474</td>\n",
       "      <td>0.548</td>\n",
       "      <td>0.620</td>\n",
       "      <td>0.192</td>\n",
       "      <td>0.300</td>\n",
       "      <td>0.341</td>\n",
       "      <td>0.109</td>\n",
       "      <td>0.144</td>\n",
       "      <td>0.136</td>\n",
       "      <td>0.089</td>\n",
       "      <td>0.119</td>\n",
       "      <td>0.104</td>\n",
       "      <td>10</td>\n",
       "      <td>sage_scale</td>\n",
       "    </tr>\n",
       "    <tr>\n",
       "      <th>10_sage_base</th>\n",
       "      <td>0.521</td>\n",
       "      <td>0.443</td>\n",
       "      <td>0.486</td>\n",
       "      <td>0.592</td>\n",
       "      <td>0.600</td>\n",
       "      <td>0.582</td>\n",
       "      <td>0.658</td>\n",
       "      <td>0.632</td>\n",
       "      <td>0.702</td>\n",
       "      <td>0.417</td>\n",
       "      <td>0.400</td>\n",
       "      <td>0.441</td>\n",
       "      <td>0.124</td>\n",
       "      <td>0.120</td>\n",
       "      <td>0.150</td>\n",
       "      <td>0.096</td>\n",
       "      <td>0.095</td>\n",
       "      <td>0.109</td>\n",
       "      <td>10</td>\n",
       "      <td>sage_base</td>\n",
       "    </tr>\n",
       "    <tr>\n",
       "      <th>10_gcn</th>\n",
       "      <td>0.600</td>\n",
       "      <td>0.444</td>\n",
       "      <td>0.491</td>\n",
       "      <td>0.692</td>\n",
       "      <td>0.600</td>\n",
       "      <td>0.607</td>\n",
       "      <td>0.599</td>\n",
       "      <td>0.816</td>\n",
       "      <td>0.723</td>\n",
       "      <td>0.325</td>\n",
       "      <td>0.467</td>\n",
       "      <td>0.434</td>\n",
       "      <td>0.151</td>\n",
       "      <td>0.206</td>\n",
       "      <td>0.175</td>\n",
       "      <td>0.119</td>\n",
       "      <td>0.160</td>\n",
       "      <td>0.132</td>\n",
       "      <td>10</td>\n",
       "      <td>gcn</td>\n",
       "    </tr>\n",
       "    <tr>\n",
       "      <th>10_fnn</th>\n",
       "      <td>0.158</td>\n",
       "      <td>0.377</td>\n",
       "      <td>0.231</td>\n",
       "      <td>0.333</td>\n",
       "      <td>0.533</td>\n",
       "      <td>0.400</td>\n",
       "      <td>0.917</td>\n",
       "      <td>0.753</td>\n",
       "      <td>0.906</td>\n",
       "      <td>0.725</td>\n",
       "      <td>0.500</td>\n",
       "      <td>0.670</td>\n",
       "      <td>0.212</td>\n",
       "      <td>0.174</td>\n",
       "      <td>0.210</td>\n",
       "      <td>0.182</td>\n",
       "      <td>0.144</td>\n",
       "      <td>0.177</td>\n",
       "      <td>10</td>\n",
       "      <td>fnn</td>\n",
       "    </tr>\n",
       "    <tr>\n",
       "      <th>10_gat</th>\n",
       "      <td>0.292</td>\n",
       "      <td>0.184</td>\n",
       "      <td>0.259</td>\n",
       "      <td>0.458</td>\n",
       "      <td>0.367</td>\n",
       "      <td>0.432</td>\n",
       "      <td>0.801</td>\n",
       "      <td>0.856</td>\n",
       "      <td>0.919</td>\n",
       "      <td>0.575</td>\n",
       "      <td>0.667</td>\n",
       "      <td>0.657</td>\n",
       "      <td>0.183</td>\n",
       "      <td>0.209</td>\n",
       "      <td>0.220</td>\n",
       "      <td>0.148</td>\n",
       "      <td>0.173</td>\n",
       "      <td>0.176</td>\n",
       "      <td>10</td>\n",
       "      <td>gat</td>\n",
       "    </tr>\n",
       "    <tr>\n",
       "      <th>40_sage_dist</th>\n",
       "      <td>0.942</td>\n",
       "      <td>0.789</td>\n",
       "      <td>0.728</td>\n",
       "      <td>0.956</td>\n",
       "      <td>0.842</td>\n",
       "      <td>0.796</td>\n",
       "      <td>0.209</td>\n",
       "      <td>0.398</td>\n",
       "      <td>0.469</td>\n",
       "      <td>0.044</td>\n",
       "      <td>0.158</td>\n",
       "      <td>0.209</td>\n",
       "      <td>0.056</td>\n",
       "      <td>0.078</td>\n",
       "      <td>0.086</td>\n",
       "      <td>0.045</td>\n",
       "      <td>0.057</td>\n",
       "      <td>0.062</td>\n",
       "      <td>40</td>\n",
       "      <td>sage_dist</td>\n",
       "    </tr>\n",
       "    <tr>\n",
       "      <th>40_sage_base</th>\n",
       "      <td>0.770</td>\n",
       "      <td>0.696</td>\n",
       "      <td>0.701</td>\n",
       "      <td>0.823</td>\n",
       "      <td>0.767</td>\n",
       "      <td>0.774</td>\n",
       "      <td>0.421</td>\n",
       "      <td>0.483</td>\n",
       "      <td>0.491</td>\n",
       "      <td>0.177</td>\n",
       "      <td>0.233</td>\n",
       "      <td>0.230</td>\n",
       "      <td>0.098</td>\n",
       "      <td>0.102</td>\n",
       "      <td>0.104</td>\n",
       "      <td>0.079</td>\n",
       "      <td>0.079</td>\n",
       "      <td>0.079</td>\n",
       "      <td>40</td>\n",
       "      <td>sage_base</td>\n",
       "    </tr>\n",
       "    <tr>\n",
       "      <th>40_sage_scale</th>\n",
       "      <td>0.889</td>\n",
       "      <td>0.773</td>\n",
       "      <td>0.752</td>\n",
       "      <td>0.915</td>\n",
       "      <td>0.825</td>\n",
       "      <td>0.808</td>\n",
       "      <td>0.292</td>\n",
       "      <td>0.418</td>\n",
       "      <td>0.463</td>\n",
       "      <td>0.085</td>\n",
       "      <td>0.175</td>\n",
       "      <td>0.199</td>\n",
       "      <td>0.093</td>\n",
       "      <td>0.098</td>\n",
       "      <td>0.108</td>\n",
       "      <td>0.074</td>\n",
       "      <td>0.077</td>\n",
       "      <td>0.080</td>\n",
       "      <td>40</td>\n",
       "      <td>sage_scale</td>\n",
       "    </tr>\n",
       "    <tr>\n",
       "      <th>40_gcn</th>\n",
       "      <td>0.519</td>\n",
       "      <td>0.402</td>\n",
       "      <td>0.502</td>\n",
       "      <td>0.629</td>\n",
       "      <td>0.542</td>\n",
       "      <td>0.621</td>\n",
       "      <td>0.668</td>\n",
       "      <td>0.847</td>\n",
       "      <td>0.700</td>\n",
       "      <td>0.396</td>\n",
       "      <td>0.533</td>\n",
       "      <td>0.414</td>\n",
       "      <td>0.164</td>\n",
       "      <td>0.223</td>\n",
       "      <td>0.166</td>\n",
       "      <td>0.129</td>\n",
       "      <td>0.163</td>\n",
       "      <td>0.128</td>\n",
       "      <td>40</td>\n",
       "      <td>gcn</td>\n",
       "    </tr>\n",
       "    <tr>\n",
       "      <th>40_gat</th>\n",
       "      <td>0.520</td>\n",
       "      <td>0.382</td>\n",
       "      <td>0.443</td>\n",
       "      <td>0.631</td>\n",
       "      <td>0.533</td>\n",
       "      <td>0.579</td>\n",
       "      <td>0.666</td>\n",
       "      <td>0.842</td>\n",
       "      <td>0.756</td>\n",
       "      <td>0.394</td>\n",
       "      <td>0.542</td>\n",
       "      <td>0.470</td>\n",
       "      <td>0.152</td>\n",
       "      <td>0.195</td>\n",
       "      <td>0.167</td>\n",
       "      <td>0.117</td>\n",
       "      <td>0.142</td>\n",
       "      <td>0.127</td>\n",
       "      <td>40</td>\n",
       "      <td>gat</td>\n",
       "    </tr>\n",
       "    <tr>\n",
       "      <th>40_fnn</th>\n",
       "      <td>0.352</td>\n",
       "      <td>0.317</td>\n",
       "      <td>0.313</td>\n",
       "      <td>0.500</td>\n",
       "      <td>0.475</td>\n",
       "      <td>0.477</td>\n",
       "      <td>0.818</td>\n",
       "      <td>0.806</td>\n",
       "      <td>0.832</td>\n",
       "      <td>0.556</td>\n",
       "      <td>0.567</td>\n",
       "      <td>0.579</td>\n",
       "      <td>0.190</td>\n",
       "      <td>0.190</td>\n",
       "      <td>0.193</td>\n",
       "      <td>0.158</td>\n",
       "      <td>0.163</td>\n",
       "      <td>0.161</td>\n",
       "      <td>40</td>\n",
       "      <td>fnn</td>\n",
       "    </tr>\n",
       "    <tr>\n",
       "      <th>75_sage_dist</th>\n",
       "      <td>0.921</td>\n",
       "      <td>0.804</td>\n",
       "      <td>0.787</td>\n",
       "      <td>0.940</td>\n",
       "      <td>0.853</td>\n",
       "      <td>0.840</td>\n",
       "      <td>0.245</td>\n",
       "      <td>0.400</td>\n",
       "      <td>0.444</td>\n",
       "      <td>0.060</td>\n",
       "      <td>0.151</td>\n",
       "      <td>0.171</td>\n",
       "      <td>0.057</td>\n",
       "      <td>0.077</td>\n",
       "      <td>0.075</td>\n",
       "      <td>0.044</td>\n",
       "      <td>0.054</td>\n",
       "      <td>0.050</td>\n",
       "      <td>75</td>\n",
       "      <td>sage_dist</td>\n",
       "    </tr>\n",
       "    <tr>\n",
       "      <th>75_sage_scale</th>\n",
       "      <td>0.818</td>\n",
       "      <td>0.811</td>\n",
       "      <td>0.744</td>\n",
       "      <td>0.860</td>\n",
       "      <td>0.858</td>\n",
       "      <td>0.805</td>\n",
       "      <td>0.374</td>\n",
       "      <td>0.377</td>\n",
       "      <td>0.482</td>\n",
       "      <td>0.140</td>\n",
       "      <td>0.142</td>\n",
       "      <td>0.205</td>\n",
       "      <td>0.081</td>\n",
       "      <td>0.082</td>\n",
       "      <td>0.095</td>\n",
       "      <td>0.064</td>\n",
       "      <td>0.062</td>\n",
       "      <td>0.072</td>\n",
       "      <td>75</td>\n",
       "      <td>sage_scale</td>\n",
       "    </tr>\n",
       "    <tr>\n",
       "      <th>75_sage_base</th>\n",
       "      <td>0.765</td>\n",
       "      <td>0.748</td>\n",
       "      <td>0.664</td>\n",
       "      <td>0.816</td>\n",
       "      <td>0.800</td>\n",
       "      <td>0.741</td>\n",
       "      <td>0.429</td>\n",
       "      <td>0.447</td>\n",
       "      <td>0.532</td>\n",
       "      <td>0.184</td>\n",
       "      <td>0.200</td>\n",
       "      <td>0.267</td>\n",
       "      <td>0.104</td>\n",
       "      <td>0.099</td>\n",
       "      <td>0.114</td>\n",
       "      <td>0.085</td>\n",
       "      <td>0.080</td>\n",
       "      <td>0.089</td>\n",
       "      <td>75</td>\n",
       "      <td>sage_base</td>\n",
       "    </tr>\n",
       "    <tr>\n",
       "      <th>75_gcn</th>\n",
       "      <td>0.540</td>\n",
       "      <td>0.576</td>\n",
       "      <td>0.504</td>\n",
       "      <td>0.649</td>\n",
       "      <td>0.671</td>\n",
       "      <td>0.621</td>\n",
       "      <td>0.648</td>\n",
       "      <td>0.663</td>\n",
       "      <td>0.708</td>\n",
       "      <td>0.373</td>\n",
       "      <td>0.360</td>\n",
       "      <td>0.416</td>\n",
       "      <td>0.151</td>\n",
       "      <td>0.156</td>\n",
       "      <td>0.149</td>\n",
       "      <td>0.117</td>\n",
       "      <td>0.116</td>\n",
       "      <td>0.115</td>\n",
       "      <td>75</td>\n",
       "      <td>gcn</td>\n",
       "    </tr>\n",
       "    <tr>\n",
       "      <th>75_gat</th>\n",
       "      <td>0.476</td>\n",
       "      <td>0.471</td>\n",
       "      <td>0.378</td>\n",
       "      <td>0.596</td>\n",
       "      <td>0.587</td>\n",
       "      <td>0.520</td>\n",
       "      <td>0.684</td>\n",
       "      <td>0.718</td>\n",
       "      <td>0.769</td>\n",
       "      <td>0.426</td>\n",
       "      <td>0.444</td>\n",
       "      <td>0.517</td>\n",
       "      <td>0.152</td>\n",
       "      <td>0.159</td>\n",
       "      <td>0.164</td>\n",
       "      <td>0.119</td>\n",
       "      <td>0.120</td>\n",
       "      <td>0.128</td>\n",
       "      <td>75</td>\n",
       "      <td>gat</td>\n",
       "    </tr>\n",
       "    <tr>\n",
       "      <th>75_fnn</th>\n",
       "      <td>0.292</td>\n",
       "      <td>0.324</td>\n",
       "      <td>0.297</td>\n",
       "      <td>0.457</td>\n",
       "      <td>0.458</td>\n",
       "      <td>0.461</td>\n",
       "      <td>0.837</td>\n",
       "      <td>0.846</td>\n",
       "      <td>0.826</td>\n",
       "      <td>0.596</td>\n",
       "      <td>0.600</td>\n",
       "      <td>0.587</td>\n",
       "      <td>0.193</td>\n",
       "      <td>0.199</td>\n",
       "      <td>0.187</td>\n",
       "      <td>0.163</td>\n",
       "      <td>0.163</td>\n",
       "      <td>0.160</td>\n",
       "      <td>75</td>\n",
       "      <td>fnn</td>\n",
       "    </tr>\n",
       "  </tbody>\n",
       "</table>\n",
       "</div>"
      ],
      "text/plain": [
       "               train_mcc  val_mcc  test_mcc  train_acc  val_acc  test_acc  \\\n",
       "uid                                                                         \n",
       "10_sage_dist       0.802    0.669     0.654      0.850    0.767     0.739   \n",
       "10_sage_scale      0.769    0.575     0.576      0.825    0.700     0.680   \n",
       "10_sage_base       0.521    0.443     0.486      0.592    0.600     0.582   \n",
       "10_gcn             0.600    0.444     0.491      0.692    0.600     0.607   \n",
       "10_fnn             0.158    0.377     0.231      0.333    0.533     0.400   \n",
       "10_gat             0.292    0.184     0.259      0.458    0.367     0.432   \n",
       "40_sage_dist       0.942    0.789     0.728      0.956    0.842     0.796   \n",
       "40_sage_base       0.770    0.696     0.701      0.823    0.767     0.774   \n",
       "40_sage_scale      0.889    0.773     0.752      0.915    0.825     0.808   \n",
       "40_gcn             0.519    0.402     0.502      0.629    0.542     0.621   \n",
       "40_gat             0.520    0.382     0.443      0.631    0.533     0.579   \n",
       "40_fnn             0.352    0.317     0.313      0.500    0.475     0.477   \n",
       "75_sage_dist       0.921    0.804     0.787      0.940    0.853     0.840   \n",
       "75_sage_scale      0.818    0.811     0.744      0.860    0.858     0.805   \n",
       "75_sage_base       0.765    0.748     0.664      0.816    0.800     0.741   \n",
       "75_gcn             0.540    0.576     0.504      0.649    0.671     0.621   \n",
       "75_gat             0.476    0.471     0.378      0.596    0.587     0.520   \n",
       "75_fnn             0.292    0.324     0.297      0.457    0.458     0.461   \n",
       "\n",
       "               train_rmse  val_rmse  test_rmse  train_mae  val_mae  test_mae  \\\n",
       "uid                                                                            \n",
       "10_sage_dist        0.418     0.483      0.554      0.158    0.233     0.276   \n",
       "10_sage_scale       0.474     0.548      0.620      0.192    0.300     0.341   \n",
       "10_sage_base        0.658     0.632      0.702      0.417    0.400     0.441   \n",
       "10_gcn              0.599     0.816      0.723      0.325    0.467     0.434   \n",
       "10_fnn              0.917     0.753      0.906      0.725    0.500     0.670   \n",
       "10_gat              0.801     0.856      0.919      0.575    0.667     0.657   \n",
       "40_sage_dist        0.209     0.398      0.469      0.044    0.158     0.209   \n",
       "40_sage_base        0.421     0.483      0.491      0.177    0.233     0.230   \n",
       "40_sage_scale       0.292     0.418      0.463      0.085    0.175     0.199   \n",
       "40_gcn              0.668     0.847      0.700      0.396    0.533     0.414   \n",
       "40_gat              0.666     0.842      0.756      0.394    0.542     0.470   \n",
       "40_fnn              0.818     0.806      0.832      0.556    0.567     0.579   \n",
       "75_sage_dist        0.245     0.400      0.444      0.060    0.151     0.171   \n",
       "75_sage_scale       0.374     0.377      0.482      0.140    0.142     0.205   \n",
       "75_sage_base        0.429     0.447      0.532      0.184    0.200     0.267   \n",
       "75_gcn              0.648     0.663      0.708      0.373    0.360     0.416   \n",
       "75_gat              0.684     0.718      0.769      0.426    0.444     0.517   \n",
       "75_fnn              0.837     0.846      0.826      0.596    0.600     0.587   \n",
       "\n",
       "               train_rmse_perc  val_rmse_perc  test_rmse_perc  train_mae_perc  \\\n",
       "uid                                                                             \n",
       "10_sage_dist             0.084          0.106           0.121           0.068   \n",
       "10_sage_scale            0.109          0.144           0.136           0.089   \n",
       "10_sage_base             0.124          0.120           0.150           0.096   \n",
       "10_gcn                   0.151          0.206           0.175           0.119   \n",
       "10_fnn                   0.212          0.174           0.210           0.182   \n",
       "10_gat                   0.183          0.209           0.220           0.148   \n",
       "40_sage_dist             0.056          0.078           0.086           0.045   \n",
       "40_sage_base             0.098          0.102           0.104           0.079   \n",
       "40_sage_scale            0.093          0.098           0.108           0.074   \n",
       "40_gcn                   0.164          0.223           0.166           0.129   \n",
       "40_gat                   0.152          0.195           0.167           0.117   \n",
       "40_fnn                   0.190          0.190           0.193           0.158   \n",
       "75_sage_dist             0.057          0.077           0.075           0.044   \n",
       "75_sage_scale            0.081          0.082           0.095           0.064   \n",
       "75_sage_base             0.104          0.099           0.114           0.085   \n",
       "75_gcn                   0.151          0.156           0.149           0.117   \n",
       "75_gat                   0.152          0.159           0.164           0.119   \n",
       "75_fnn                   0.193          0.199           0.187           0.163   \n",
       "\n",
       "               val_mae_perc  test_mae_perc group       model  \n",
       "uid                                                           \n",
       "10_sage_dist          0.079          0.087    10   sage_dist  \n",
       "10_sage_scale         0.119          0.104    10  sage_scale  \n",
       "10_sage_base          0.095          0.109    10   sage_base  \n",
       "10_gcn                0.160          0.132    10         gcn  \n",
       "10_fnn                0.144          0.177    10         fnn  \n",
       "10_gat                0.173          0.176    10         gat  \n",
       "40_sage_dist          0.057          0.062    40   sage_dist  \n",
       "40_sage_base          0.079          0.079    40   sage_base  \n",
       "40_sage_scale         0.077          0.080    40  sage_scale  \n",
       "40_gcn                0.163          0.128    40         gcn  \n",
       "40_gat                0.142          0.127    40         gat  \n",
       "40_fnn                0.163          0.161    40         fnn  \n",
       "75_sage_dist          0.054          0.050    75   sage_dist  \n",
       "75_sage_scale         0.062          0.072    75  sage_scale  \n",
       "75_sage_base          0.080          0.089    75   sage_base  \n",
       "75_gcn                0.116          0.115    75         gcn  \n",
       "75_gat                0.120          0.128    75         gat  \n",
       "75_fnn                0.163          0.160    75         fnn  "
      ]
     },
     "execution_count": 11,
     "metadata": {},
     "output_type": "execute_result"
    }
   ],
   "source": [
    "r['sym_network_reg'].round(3).to_excel('sym_reg.xlsx')\n",
    "r['sym_network_reg'].round(3)"
   ]
  },
  {
   "cell_type": "code",
   "execution_count": 12,
   "metadata": {},
   "outputs": [],
   "source": [
    "col_results = load_pickle('results.pickle')"
   ]
  },
  {
   "cell_type": "code",
   "execution_count": null,
   "metadata": {},
   "outputs": [],
   "source": []
  },
  {
   "cell_type": "code",
   "execution_count": 15,
   "metadata": {},
   "outputs": [
    {
     "data": {
      "text/plain": [
       "<models.results.ResultCollection at 0x2de49a935b0>"
      ]
     },
     "execution_count": 15,
     "metadata": {},
     "output_type": "execute_result"
    }
   ],
   "source": [
    "col_results['sym_network_clas'][0]"
   ]
  },
  {
   "cell_type": "code",
   "execution_count": null,
   "metadata": {},
   "outputs": [],
   "source": []
  }
 ],
 "metadata": {
  "interpreter": {
   "hash": "5533aa900e676eb13701c8fcbd0b5e657688ba839b290cdc5cd85347c7aef055"
  },
  "kernelspec": {
   "display_name": "Python 3.9.5 ('venv': venv)",
   "language": "python",
   "name": "python3"
  },
  "language_info": {
   "codemirror_mode": {
    "name": "ipython",
    "version": 3
   },
   "file_extension": ".py",
   "mimetype": "text/x-python",
   "name": "python",
   "nbconvert_exporter": "python",
   "pygments_lexer": "ipython3",
   "version": "3.9.16"
  },
  "orig_nbformat": 4
 },
 "nbformat": 4,
 "nbformat_minor": 2
}
