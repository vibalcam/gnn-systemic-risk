{
 "cells": [
  {
   "cell_type": "code",
   "execution_count": 1,
   "metadata": {},
   "outputs": [],
   "source": [
    "import sys\n",
    "sys.path.append('../')"
   ]
  },
  {
   "cell_type": "code",
   "execution_count": 2,
   "metadata": {},
   "outputs": [
    {
     "name": "stderr",
     "output_type": "stream",
     "text": [
      "Using backend: pytorch\n"
     ]
    }
   ],
   "source": [
    "import itertools\n",
    "import pandas as pd\n",
    "import numpy as np\n",
    "from tqdm.auto import tqdm, trange\n",
    "from pathlib import Path\n",
    "\n",
    "from models.train import test as test_clas\n",
    "from models.train_reg import test as test_reg\n",
    "from models.utils import ContagionDataset, set_seed, ConfusionMatrix, save_pickle, load_pickle\n",
    "from sklearn.metrics import matthews_corrcoef, mean_squared_error\n",
    "from models.results import ResultCollection"
   ]
  },
  {
   "cell_type": "code",
   "execution_count": 3,
   "metadata": {},
   "outputs": [],
   "source": [
    "seed = 4444\n",
    "\n",
    "metric_filter_1 = 'val_mcc'\n",
    "metric_filter_2 = 'test_mcc'\n",
    "\n",
    "data_dir_name = 'data'\n",
    "save_path_name = 'saved_'\n",
    "networks = ['sym_network', 'europe_network']\n",
    "\n",
    "target = 'additional_stress'\n",
    "dict_sets_lengths = {\n",
    "    '75':(0.5, 0.25, 0.25),\n",
    "    '40':(0.3, 0.1, 0.6),\n",
    "    '10':(0.07, 0.03, 0.9),\n",
    "}\n",
    "dict_test_type = {\n",
    "    'clas': test_clas,\n",
    "    'reg': test_reg,\n",
    "}\n"
   ]
  },
  {
   "cell_type": "markdown",
   "metadata": {},
   "source": [
    "Get all models that will be tested"
   ]
  },
  {
   "cell_type": "code",
   "execution_count": 4,
   "metadata": {},
   "outputs": [],
   "source": [
    "# col = ResultCollection()\n",
    "# paths = list(itertools.chain.from_iterable([[k for k in Path(n).glob(f\"models*/{save_path_name}*\") if k.is_dir()] for n in networks]))\n",
    "network_paths = [[k for k in Path(n).glob(f\"models*/{save_path_name}*\") if k.is_dir()] for n in networks]"
   ]
  },
  {
   "cell_type": "code",
   "execution_count": 5,
   "metadata": {},
   "outputs": [
    {
     "name": "stdout",
     "output_type": "stream",
     "text": [
      "sym_network\\models_clas_10\\saved_fnn\n"
     ]
    },
    {
     "name": "stderr",
     "output_type": "stream",
     "text": [
      "100%|██████████| 743/743 [00:30<00:00, 24.33it/s]\n"
     ]
    },
    {
     "name": "stdout",
     "output_type": "stream",
     "text": [
      "sym_network\\models_clas_10\\saved_gat\n"
     ]
    },
    {
     "name": "stderr",
     "output_type": "stream",
     "text": [
      "100%|██████████| 18753/18753 [14:51<00:00, 21.04it/s]\n"
     ]
    },
    {
     "name": "stdout",
     "output_type": "stream",
     "text": [
      "sym_network\\models_clas_10\\saved_gcn\n"
     ]
    },
    {
     "name": "stderr",
     "output_type": "stream",
     "text": [
      "100%|██████████| 2224/2224 [01:47<00:00, 20.70it/s]\n"
     ]
    },
    {
     "name": "stdout",
     "output_type": "stream",
     "text": [
      "sym_network\\models_clas_10\\saved_sage\n"
     ]
    },
    {
     "name": "stderr",
     "output_type": "stream",
     "text": [
      "100%|██████████| 5721/5721 [14:32<00:00,  6.56it/s]\n"
     ]
    },
    {
     "name": "stdout",
     "output_type": "stream",
     "text": [
      "sym_network\\models_clas_40\\saved_fnn\n"
     ]
    },
    {
     "name": "stderr",
     "output_type": "stream",
     "text": [
      "100%|██████████| 1222/1222 [00:48<00:00, 25.09it/s]\n"
     ]
    },
    {
     "name": "stdout",
     "output_type": "stream",
     "text": [
      "sym_network\\models_clas_40\\saved_gat\n"
     ]
    },
    {
     "name": "stderr",
     "output_type": "stream",
     "text": [
      "100%|██████████| 11431/11431 [08:40<00:00, 21.94it/s]\n"
     ]
    },
    {
     "name": "stdout",
     "output_type": "stream",
     "text": [
      "sym_network\\models_clas_40\\saved_gcn\n"
     ]
    },
    {
     "name": "stderr",
     "output_type": "stream",
     "text": [
      "100%|██████████| 3451/3451 [02:52<00:00, 19.99it/s]\n"
     ]
    },
    {
     "name": "stdout",
     "output_type": "stream",
     "text": [
      "sym_network\\models_clas_40\\saved_sage\n"
     ]
    },
    {
     "name": "stderr",
     "output_type": "stream",
     "text": [
      "100%|██████████| 6210/6210 [20:51<00:00,  4.96it/s]\n"
     ]
    },
    {
     "name": "stdout",
     "output_type": "stream",
     "text": [
      "sym_network\\models_clas_75\\saved_fnn\n"
     ]
    },
    {
     "name": "stderr",
     "output_type": "stream",
     "text": [
      "100%|██████████| 1193/1193 [00:50<00:00, 23.86it/s]\n"
     ]
    },
    {
     "name": "stdout",
     "output_type": "stream",
     "text": [
      "sym_network\\models_clas_75\\saved_gat\n"
     ]
    },
    {
     "name": "stderr",
     "output_type": "stream",
     "text": [
      "100%|██████████| 11549/11549 [08:50<00:00, 21.76it/s]\n"
     ]
    },
    {
     "name": "stdout",
     "output_type": "stream",
     "text": [
      "sym_network\\models_clas_75\\saved_gcn\n"
     ]
    },
    {
     "name": "stderr",
     "output_type": "stream",
     "text": [
      "100%|██████████| 2512/2512 [02:12<00:00, 18.97it/s]\n"
     ]
    },
    {
     "name": "stdout",
     "output_type": "stream",
     "text": [
      "sym_network\\models_clas_75\\saved_sage\n"
     ]
    },
    {
     "name": "stderr",
     "output_type": "stream",
     "text": [
      "100%|██████████| 6560/6560 [22:19<00:00,  4.90it/s]\n"
     ]
    },
    {
     "name": "stdout",
     "output_type": "stream",
     "text": [
      "sym_network\\models_reg_10\\saved_fnn\n"
     ]
    },
    {
     "name": "stderr",
     "output_type": "stream",
     "text": [
      "100%|██████████| 264/264 [00:10<00:00, 24.78it/s]\n"
     ]
    },
    {
     "name": "stdout",
     "output_type": "stream",
     "text": [
      "sym_network\\models_reg_10\\saved_gat\n"
     ]
    },
    {
     "name": "stderr",
     "output_type": "stream",
     "text": [
      "100%|██████████| 6336/6336 [05:13<00:00, 20.21it/s]\n"
     ]
    },
    {
     "name": "stdout",
     "output_type": "stream",
     "text": [
      "sym_network\\models_reg_10\\saved_gcn\n"
     ]
    },
    {
     "name": "stderr",
     "output_type": "stream",
     "text": [
      "100%|██████████| 792/792 [00:42<00:00, 18.71it/s]\n"
     ]
    },
    {
     "name": "stdout",
     "output_type": "stream",
     "text": [
      "sym_network\\models_reg_10\\saved_sage\n"
     ]
    },
    {
     "name": "stderr",
     "output_type": "stream",
     "text": [
      "100%|██████████| 1386/1386 [03:49<00:00,  6.05it/s]\n"
     ]
    },
    {
     "name": "stdout",
     "output_type": "stream",
     "text": [
      "sym_network\\models_reg_10\\saved_sage_base\n"
     ]
    },
    {
     "name": "stderr",
     "output_type": "stream",
     "text": [
      "100%|██████████| 2772/2772 [04:45<00:00,  9.69it/s]\n"
     ]
    },
    {
     "name": "stdout",
     "output_type": "stream",
     "text": [
      "sym_network\\models_reg_40\\saved_fnn\n"
     ]
    },
    {
     "name": "stderr",
     "output_type": "stream",
     "text": [
      "100%|██████████| 360/360 [00:15<00:00, 22.81it/s]\n"
     ]
    },
    {
     "name": "stdout",
     "output_type": "stream",
     "text": [
      "sym_network\\models_reg_40\\saved_gat\n"
     ]
    },
    {
     "name": "stderr",
     "output_type": "stream",
     "text": [
      "100%|██████████| 3168/3168 [02:37<00:00, 20.08it/s]\n"
     ]
    },
    {
     "name": "stdout",
     "output_type": "stream",
     "text": [
      "sym_network\\models_reg_40\\saved_gcn\n"
     ]
    },
    {
     "name": "stderr",
     "output_type": "stream",
     "text": [
      "100%|██████████| 792/792 [00:43<00:00, 18.41it/s]\n"
     ]
    },
    {
     "name": "stdout",
     "output_type": "stream",
     "text": [
      "sym_network\\models_reg_40\\saved_sage\n"
     ]
    },
    {
     "name": "stderr",
     "output_type": "stream",
     "text": [
      "100%|██████████| 1188/1188 [04:15<00:00,  4.65it/s]\n"
     ]
    },
    {
     "name": "stdout",
     "output_type": "stream",
     "text": [
      "sym_network\\models_reg_40\\saved_sage_base\n"
     ]
    },
    {
     "name": "stderr",
     "output_type": "stream",
     "text": [
      "100%|██████████| 1188/1188 [04:07<00:00,  4.80it/s]\n"
     ]
    },
    {
     "name": "stdout",
     "output_type": "stream",
     "text": [
      "sym_network\\models_reg_75\\saved_fnn\n"
     ]
    },
    {
     "name": "stderr",
     "output_type": "stream",
     "text": [
      "100%|██████████| 355/355 [00:16<00:00, 21.23it/s]\n"
     ]
    },
    {
     "name": "stdout",
     "output_type": "stream",
     "text": [
      "sym_network\\models_reg_75\\saved_gat\n"
     ]
    },
    {
     "name": "stderr",
     "output_type": "stream",
     "text": [
      "100%|██████████| 3168/3168 [02:43<00:00, 19.38it/s]\n"
     ]
    },
    {
     "name": "stdout",
     "output_type": "stream",
     "text": [
      "sym_network\\models_reg_75\\saved_gcn\n"
     ]
    },
    {
     "name": "stderr",
     "output_type": "stream",
     "text": [
      "100%|██████████| 792/792 [00:42<00:00, 18.45it/s]\n"
     ]
    },
    {
     "name": "stdout",
     "output_type": "stream",
     "text": [
      "sym_network\\models_reg_75\\saved_sage\n"
     ]
    },
    {
     "name": "stderr",
     "output_type": "stream",
     "text": [
      "100%|██████████| 1188/1188 [03:52<00:00,  5.12it/s]\n"
     ]
    },
    {
     "name": "stdout",
     "output_type": "stream",
     "text": [
      "sym_network\\models_reg_75\\saved_sage_base\n"
     ]
    },
    {
     "name": "stderr",
     "output_type": "stream",
     "text": [
      "100%|██████████| 1188/1188 [03:35<00:00,  5.50it/s]\n"
     ]
    },
    {
     "name": "stdout",
     "output_type": "stream",
     "text": [
      "europe_network\\models_clas_10\\saved_fnn\n"
     ]
    },
    {
     "name": "stderr",
     "output_type": "stream",
     "text": [
      "100%|██████████| 1299/1299 [00:48<00:00, 26.70it/s]\n"
     ]
    },
    {
     "name": "stdout",
     "output_type": "stream",
     "text": [
      "europe_network\\models_clas_10\\saved_sage\n"
     ]
    },
    {
     "name": "stderr",
     "output_type": "stream",
     "text": [
      "100%|██████████| 97/97 [00:20<00:00,  4.64it/s]\n"
     ]
    },
    {
     "name": "stdout",
     "output_type": "stream",
     "text": [
      "europe_network\\models_clas_40\\saved_fnn\n"
     ]
    },
    {
     "name": "stderr",
     "output_type": "stream",
     "text": [
      "100%|██████████| 2477/2477 [01:34<00:00, 26.18it/s]\n"
     ]
    },
    {
     "name": "stdout",
     "output_type": "stream",
     "text": [
      "europe_network\\models_clas_40\\saved_sage\n"
     ]
    },
    {
     "name": "stderr",
     "output_type": "stream",
     "text": [
      "100%|██████████| 473/473 [01:55<00:00,  4.08it/s]\n"
     ]
    },
    {
     "name": "stdout",
     "output_type": "stream",
     "text": [
      "europe_network\\models_clas_75\\saved_fnn\n"
     ]
    },
    {
     "name": "stderr",
     "output_type": "stream",
     "text": [
      "100%|██████████| 2402/2402 [01:31<00:00, 26.19it/s]\n"
     ]
    },
    {
     "name": "stdout",
     "output_type": "stream",
     "text": [
      "europe_network\\models_clas_75\\saved_sage\n"
     ]
    },
    {
     "name": "stderr",
     "output_type": "stream",
     "text": [
      "100%|██████████| 652/652 [02:39<00:00,  4.10it/s]\n"
     ]
    }
   ],
   "source": [
    "col_results = {}\n",
    "\n",
    "for n,paths in zip(networks, network_paths):\n",
    "    col = ResultCollection()\n",
    "    col_results[n] = col\n",
    "\n",
    "    for p in paths:\n",
    "        print(p)\n",
    "        name = p.name.split(save_path_name)[1]\n",
    "        _,test_type,sets_type = p.parent.name.split('_', 3)\n",
    "        sets_lengths = dict_sets_lengths[sets_type]\n",
    "        data_dir = p.parent.parent.joinpath(data_dir_name)\n",
    "        \n",
    "        set_seed(seed)\n",
    "        dataset_val = ContagionDataset(\n",
    "            raw_dir=data_dir,\n",
    "            drop_edges=0,\n",
    "            sets_lengths=sets_lengths,\n",
    "            target = target,\n",
    "            add_self_loop=True,\n",
    "        )\n",
    "\n",
    "        r = dict_test_type[test_type](\n",
    "            dataset=dataset_val,\n",
    "            save_path=str(p),\n",
    "            n_runs=1,\n",
    "            debug_mode=False,\n",
    "            use_cpu=False,\n",
    "            save=True,\n",
    "            use_edge_weight=True,\n",
    "        )\n",
    "\n",
    "        result = col.add(r[2], f\"{p.parent.name}_{name}\")\n",
    "        result.save_best('test_mcc',p,True)\n"
   ]
  },
  {
   "cell_type": "code",
   "execution_count": 6,
   "metadata": {},
   "outputs": [],
   "source": [
    "# col_results = load_pickle('results.pickle')"
   ]
  },
  {
   "cell_type": "code",
   "execution_count": 7,
   "metadata": {},
   "outputs": [
    {
     "data": {
      "text/plain": [
       "{'sym_network':                          train_acc   val_acc  train_mcc   val_mcc  test_mcc  \\\n",
       " name                                                                          \n",
       " models_reg_75_sage_base   0.736000  0.674667   0.653794  0.576053  0.606178   \n",
       " models_reg_75_sage        0.944000  0.853333   0.927167  0.810044  0.788355   \n",
       " models_reg_75_gcn         0.438667  0.413333   0.345090  0.341689  0.323545   \n",
       " models_reg_75_gat         0.650667  0.666667   0.534243  0.555925  0.482151   \n",
       " models_reg_75_fnn         0.516000  0.480000   0.386519  0.352674  0.409551   \n",
       " models_reg_40_sage_base   0.764444  0.726667   0.707345  0.646037  0.613525   \n",
       " models_reg_40_sage        0.875556  0.786667   0.840620  0.724312  0.719139   \n",
       " models_reg_40_gcn         0.437778  0.420000   0.347737  0.346852  0.338712   \n",
       " models_reg_40_gat         0.588889  0.546667   0.451973  0.396770  0.453376   \n",
       " models_reg_40_fnn         0.508889  0.440000   0.382851  0.309779  0.370818   \n",
       " models_reg_10_sage_base   0.428571  0.622222   0.299610  0.478244  0.388902   \n",
       " models_reg_10_sage        0.714286  0.644444   0.622922  0.521291  0.584056   \n",
       " models_reg_10_gcn         0.352381  0.555555   0.287611  0.406210  0.341950   \n",
       " models_reg_10_gat         0.561905  0.511111   0.442096  0.344674  0.355414   \n",
       " models_reg_10_fnn         0.457143  0.511111   0.321285  0.337521  0.346930   \n",
       " models_clas_75_sage       0.941333  0.840000   0.922016  0.786613  0.802167   \n",
       " models_clas_75_gcn        0.506667  0.490667   0.370189  0.370565  0.430011   \n",
       " models_clas_75_gat        0.590667  0.600000   0.455612  0.469401  0.371722   \n",
       " models_clas_75_fnn        0.517333  0.485333   0.385798  0.360453  0.405166   \n",
       " models_clas_40_sage       1.000000  0.860000   1.000000  0.814434  0.764037   \n",
       " models_clas_40_gcn        0.511111  0.473333   0.381281  0.360564  0.418741   \n",
       " models_clas_40_gat        0.604444  0.520000   0.476819  0.372075  0.407336   \n",
       " models_clas_40_fnn        0.511111  0.460000   0.364046  0.313141  0.360033   \n",
       " models_clas_10_sage       0.847619  0.711111   0.795001  0.608728  0.603387   \n",
       " models_clas_10_gcn        0.533333  0.511111   0.374599  0.403404  0.407791   \n",
       " models_clas_10_gat        0.647619  0.400000   0.531799  0.235435  0.341128   \n",
       " models_clas_10_fnn        0.495238  0.400000   0.314632  0.261668  0.341909   \n",
       " \n",
       "                          train_rmse  val_rmse  test_rmse  test_acc  train_mae  \\\n",
       " name                                                                            \n",
       " models_reg_75_sage_base    0.540370  0.640833   0.623966  0.696000   0.273333   \n",
       " models_reg_75_sage         0.236643  0.393277   0.478888  0.837333   0.056000   \n",
       " models_reg_75_gcn          0.881665  0.895917   0.923760  0.426667   0.633333   \n",
       " models_reg_75_gat          0.722034  0.715542   0.719259  0.610667   0.404000   \n",
       " models_reg_75_fnn          0.883931  0.920869   0.912140  0.525333   0.581333   \n",
       " models_reg_40_sage_base    0.485341  0.522813   0.561743  0.697778   0.235556   \n",
       " models_reg_40_sage         0.362093  0.461880   0.507718  0.781111   0.126667   \n",
       " models_reg_40_gcn          0.888194  0.883176   0.883805  0.432222   0.637778   \n",
       " models_reg_40_gat          0.758654  0.923760   0.785281  0.590000   0.464444   \n",
       " models_reg_40_fnn          0.869227  0.923760   0.879394  0.498889   0.577778   \n",
       " models_reg_10_sage_base    0.792825  0.714920   0.771242  0.519259   0.590476   \n",
       " models_reg_10_sage         0.632456  0.649786   0.652630  0.685926   0.323810   \n",
       " models_reg_10_gcn          0.936050  0.881917   0.887360  0.434074   0.723810   \n",
       " models_reg_10_gat          0.762202  0.869227   0.843274  0.505185   0.485714   \n",
       " models_reg_10_fnn          1.000000  1.032796   0.982061  0.497037   0.695238   \n",
       " models_clas_75_sage        0.273252  0.409878   0.481664  0.850667   0.064000   \n",
       " models_clas_75_gcn         0.920869  0.910677   0.920869  0.544000   0.602667   \n",
       " models_clas_75_gat         0.854790  0.818128   0.946573  0.528000   0.506667   \n",
       " models_clas_75_fnn         0.880909  0.913601   0.916515  0.525333   0.578667   \n",
       " models_clas_40_sage        0.000000  0.374166   0.480740  0.822222   0.000000   \n",
       " models_clas_40_gcn         0.904311  0.894427   0.893806  0.533333   0.591111   \n",
       " models_clas_40_gat         0.856349  1.116542   0.956266  0.547778   0.502222   \n",
       " models_clas_40_fnn         1.019804  1.045626   1.092906  0.495556   0.662222   \n",
       " models_clas_10_sage        0.487950  0.649786   0.642910  0.701481   0.180952   \n",
       " models_clas_10_gcn         1.004751  0.829993   0.942416  0.522963   0.647619   \n",
       " models_clas_10_gat         0.889087  1.105542   1.086960  0.490370   0.485714   \n",
       " models_clas_10_fnn         1.133893  1.220200   1.087641  0.486667   0.752381   \n",
       " \n",
       "                           val_mae  test_mae  train_rmse_perc  val_rmse_perc  \\\n",
       " name                                                                          \n",
       " models_reg_75_sage_base  0.352000  0.330667         0.118669       0.134272   \n",
       " models_reg_75_sage       0.149333  0.181333         0.083603       0.092668   \n",
       " models_reg_75_gcn        0.658667  0.666667         0.218745       0.218984   \n",
       " models_reg_75_gat        0.389333  0.432000         0.166516       0.161310   \n",
       " models_reg_75_fnn        0.629333  0.592000         0.233641       0.241780   \n",
       " models_reg_40_sage_base  0.273333  0.306667         0.105357       0.113051   \n",
       " models_reg_40_sage       0.213333  0.231111         0.095517       0.097058   \n",
       " models_reg_40_gcn        0.646667  0.638889         0.219281       0.219495   \n",
       " models_reg_40_gat        0.573333  0.476667         0.173343       0.224731   \n",
       " models_reg_40_fnn        0.653333  0.591111         0.214473       0.230647   \n",
       " models_reg_10_sage_base  0.422222  0.517778         0.189479       0.153736   \n",
       " models_reg_10_sage       0.377778  0.350370         0.133885       0.152663   \n",
       " models_reg_10_gcn        0.555556  0.639259         0.234075       0.200809   \n",
       " models_reg_10_gat        0.577778  0.564444         0.165999       0.187621   \n",
       " models_reg_10_fnn        0.666667  0.650370         0.233040       0.218870   \n",
       " models_clas_75_sage      0.162667  0.173333         0.087515       0.102572   \n",
       " models_clas_75_gcn       0.610667  0.576000         0.228003       0.223579   \n",
       " models_clas_75_gat       0.482667  0.602667         0.212804       0.198866   \n",
       " models_clas_75_fnn       0.621333  0.594667         0.214458       0.223132   \n",
       " models_clas_40_sage      0.140000  0.193333         0.071691       0.109938   \n",
       " models_clas_40_gcn       0.613333  0.567778         0.221574       0.226097   \n",
       " models_clas_40_gat       0.700000  0.592222         0.214827       0.282347   \n",
       " models_clas_40_fnn       0.720000  0.725556         0.247736       0.260934   \n",
       " models_clas_10_sage      0.333333  0.334815         0.120183       0.153690   \n",
       " models_clas_10_gcn       0.555556  0.612593         0.258689       0.190492   \n",
       " models_clas_10_gat       0.777778  0.713333         0.211719       0.279003   \n",
       " models_clas_10_fnn       0.866667  0.722222         0.280758       0.296383   \n",
       " \n",
       "                          test_rmse_perc  train_mae_perc  val_mae_perc  \\\n",
       " name                                                                    \n",
       " models_reg_75_sage_base        0.124594        0.093375      0.102528   \n",
       " models_reg_75_sage             0.117416        0.067518      0.070132   \n",
       " models_reg_75_gcn              0.219243        0.183108      0.183138   \n",
       " models_reg_75_gat              0.162221        0.116770      0.115686   \n",
       " models_reg_75_fnn              0.244187        0.188132      0.193163   \n",
       " models_reg_40_sage_base        0.119162        0.084245      0.091583   \n",
       " models_reg_40_sage             0.112933        0.075700      0.076613   \n",
       " models_reg_40_gcn              0.216487        0.182834      0.190463   \n",
       " models_reg_40_gat              0.183264        0.131595      0.155569   \n",
       " models_reg_40_fnn              0.223169        0.171744      0.194495   \n",
       " models_reg_10_sage_base        0.184297        0.154920      0.124320   \n",
       " models_reg_10_sage             0.144010        0.104408      0.111424   \n",
       " models_reg_10_gcn              0.218496        0.198567      0.157368   \n",
       " models_reg_10_gat              0.196543        0.134906      0.139174   \n",
       " models_reg_10_fnn              0.229984        0.187215      0.160098   \n",
       " models_clas_75_sage            0.120330        0.068813      0.079427   \n",
       " models_clas_75_gcn             0.228121        0.171693      0.175053   \n",
       " models_clas_75_gat             0.234320        0.151040      0.141987   \n",
       " models_clas_75_fnn             0.220422        0.166867      0.177000   \n",
       " models_clas_40_sage            0.112366        0.061533      0.081200   \n",
       " models_clas_40_gcn             0.219237        0.166689      0.175733   \n",
       " models_clas_40_gat             0.232304        0.153600      0.194333   \n",
       " models_clas_40_fnn             0.264152        0.185356      0.203333   \n",
       " models_clas_10_sage            0.153260        0.085571      0.107444   \n",
       " models_clas_10_gcn             0.235553        0.192238      0.144556   \n",
       " models_clas_10_gat             0.268486        0.142143      0.209222   \n",
       " models_clas_10_fnn             0.267782        0.211190      0.222111   \n",
       " \n",
       "                          test_mae_perc  \n",
       " name                                    \n",
       " models_reg_75_sage_base       0.091330  \n",
       " models_reg_75_sage            0.081585  \n",
       " models_reg_75_gcn             0.181033  \n",
       " models_reg_75_gat             0.119653  \n",
       " models_reg_75_fnn             0.193880  \n",
       " models_reg_40_sage_base       0.092553  \n",
       " models_reg_40_sage            0.082773  \n",
       " models_reg_40_gcn             0.179924  \n",
       " models_reg_40_gat             0.136010  \n",
       " models_reg_40_fnn             0.178660  \n",
       " models_reg_10_sage_base       0.143676  \n",
       " models_reg_10_sage            0.104808  \n",
       " models_reg_10_gcn             0.181646  \n",
       " models_reg_10_gat             0.152113  \n",
       " models_reg_10_fnn             0.178307  \n",
       " models_clas_75_sage           0.085693  \n",
       " models_clas_75_gcn            0.169240  \n",
       " models_clas_75_gat            0.172120  \n",
       " models_clas_75_fnn            0.171667  \n",
       " models_clas_40_sage           0.083578  \n",
       " models_clas_40_gcn            0.164889  \n",
       " models_clas_40_gat            0.167211  \n",
       " models_clas_40_fnn            0.201178  \n",
       " models_clas_10_sage           0.111600  \n",
       " models_clas_10_gcn            0.178570  \n",
       " models_clas_10_gat            0.198015  \n",
       " models_clas_10_fnn            0.202422  ,\n",
       " 'europe_network':                      train_acc   val_acc  train_mcc   val_mcc  test_mcc  \\\n",
       " name                                                                      \n",
       " models_clas_75_sage   0.898892  0.770083   0.865676  0.698638  0.636417   \n",
       " models_clas_75_fnn    0.668975  0.551247   0.569415  0.417653  0.494235   \n",
       " models_clas_40_sage   0.981524  0.708333   0.975353  0.613458  0.569752   \n",
       " models_clas_40_fnn    0.644342  0.666667   0.528022  0.556312  0.481878   \n",
       " models_clas_10_sage   0.990099  0.744186   0.986745  0.661790  0.508924   \n",
       " models_clas_10_fnn    0.732673  0.651163   0.648047  0.530814  0.443360   \n",
       " \n",
       "                      train_rmse  val_rmse  test_rmse  test_acc  train_mae  \\\n",
       " name                                                                        \n",
       " models_clas_75_sage    0.460338  0.734960   0.803386  0.725762   0.137119   \n",
       " models_clas_75_fnn     0.822973  0.976170   0.944440  0.612188   0.441828   \n",
       " models_clas_40_sage    0.179813  0.996522   0.975478  0.677047   0.023095   \n",
       " models_clas_40_fnn     0.869020  0.897527   0.966569  0.606690   0.487298   \n",
       " models_clas_10_sage    0.099504  0.849076   1.122840  0.630000   0.009901   \n",
       " models_clas_10_fnn     0.724398  0.876038   0.982148  0.573077   0.346535   \n",
       " \n",
       "                       val_mae  test_mae  train_rmse_perc  val_rmse_perc  \\\n",
       " name                                                                      \n",
       " models_clas_75_sage  0.329640  0.396122         0.131990       0.194964   \n",
       " models_clas_75_fnn   0.614958  0.548476         0.210833       0.249526   \n",
       " models_clas_40_sage  0.493056  0.515571         0.080616       0.255992   \n",
       " models_clas_40_fnn   0.486111  0.565167         0.218614       0.240538   \n",
       " models_clas_10_sage  0.395349  0.633077         0.075592       0.212880   \n",
       " models_clas_10_fnn   0.488372  0.601538         0.182587       0.207346   \n",
       " \n",
       "                      test_rmse_perc  train_mae_perc  val_mae_perc  \\\n",
       " name                                                                \n",
       " models_clas_75_sage        0.215396        0.086177      0.125083   \n",
       " models_clas_75_fnn         0.241841        0.144224      0.177604   \n",
       " models_clas_40_sage        0.251073        0.065693      0.155903   \n",
       " models_clas_40_fnn         0.243221        0.151674      0.162153   \n",
       " models_clas_10_sage        0.284731        0.065990      0.128256   \n",
       " models_clas_10_fnn         0.248655        0.124802      0.143372   \n",
       " \n",
       "                      test_mae_perc  \n",
       " name                                \n",
       " models_clas_75_sage       0.139266  \n",
       " models_clas_75_fnn        0.168546  \n",
       " models_clas_40_sage       0.165115  \n",
       " models_clas_40_fnn        0.168495  \n",
       " models_clas_10_sage       0.191623  \n",
       " models_clas_10_fnn        0.176985  }"
      ]
     },
     "execution_count": 7,
     "metadata": {},
     "output_type": "execute_result"
    }
   ],
   "source": [
    "r = {k:v.df('test_mcc', True) for k,v in col_results.items()}\n",
    "r"
   ]
  },
  {
   "cell_type": "code",
   "execution_count": 13,
   "metadata": {},
   "outputs": [
    {
     "data": {
      "text/html": [
       "<div>\n",
       "<style scoped>\n",
       "    .dataframe tbody tr th:only-of-type {\n",
       "        vertical-align: middle;\n",
       "    }\n",
       "\n",
       "    .dataframe tbody tr th {\n",
       "        vertical-align: top;\n",
       "    }\n",
       "\n",
       "    .dataframe thead th {\n",
       "        text-align: right;\n",
       "    }\n",
       "</style>\n",
       "<table border=\"1\" class=\"dataframe\">\n",
       "  <thead>\n",
       "    <tr style=\"text-align: right;\">\n",
       "      <th></th>\n",
       "      <th>test_mcc</th>\n",
       "      <th>test_rmse</th>\n",
       "      <th>test_acc</th>\n",
       "      <th>test_mae</th>\n",
       "      <th>test_rmse_perc</th>\n",
       "      <th>test_mae_perc</th>\n",
       "    </tr>\n",
       "    <tr>\n",
       "      <th>name</th>\n",
       "      <th></th>\n",
       "      <th></th>\n",
       "      <th></th>\n",
       "      <th></th>\n",
       "      <th></th>\n",
       "      <th></th>\n",
       "    </tr>\n",
       "  </thead>\n",
       "  <tbody>\n",
       "    <tr>\n",
       "      <th>models_reg_75_sage_base</th>\n",
       "      <td>0.606178</td>\n",
       "      <td>0.623966</td>\n",
       "      <td>0.696000</td>\n",
       "      <td>0.330667</td>\n",
       "      <td>0.124594</td>\n",
       "      <td>0.091330</td>\n",
       "    </tr>\n",
       "    <tr>\n",
       "      <th>models_reg_75_sage</th>\n",
       "      <td>0.788355</td>\n",
       "      <td>0.478888</td>\n",
       "      <td>0.837333</td>\n",
       "      <td>0.181333</td>\n",
       "      <td>0.117416</td>\n",
       "      <td>0.081585</td>\n",
       "    </tr>\n",
       "    <tr>\n",
       "      <th>models_reg_75_gcn</th>\n",
       "      <td>0.323545</td>\n",
       "      <td>0.923760</td>\n",
       "      <td>0.426667</td>\n",
       "      <td>0.666667</td>\n",
       "      <td>0.219243</td>\n",
       "      <td>0.181033</td>\n",
       "    </tr>\n",
       "    <tr>\n",
       "      <th>models_reg_75_gat</th>\n",
       "      <td>0.482151</td>\n",
       "      <td>0.719259</td>\n",
       "      <td>0.610667</td>\n",
       "      <td>0.432000</td>\n",
       "      <td>0.162221</td>\n",
       "      <td>0.119653</td>\n",
       "    </tr>\n",
       "    <tr>\n",
       "      <th>models_reg_75_fnn</th>\n",
       "      <td>0.409551</td>\n",
       "      <td>0.912140</td>\n",
       "      <td>0.525333</td>\n",
       "      <td>0.592000</td>\n",
       "      <td>0.244187</td>\n",
       "      <td>0.193880</td>\n",
       "    </tr>\n",
       "    <tr>\n",
       "      <th>models_reg_40_sage_base</th>\n",
       "      <td>0.613525</td>\n",
       "      <td>0.561743</td>\n",
       "      <td>0.697778</td>\n",
       "      <td>0.306667</td>\n",
       "      <td>0.119162</td>\n",
       "      <td>0.092553</td>\n",
       "    </tr>\n",
       "    <tr>\n",
       "      <th>models_reg_40_sage</th>\n",
       "      <td>0.719139</td>\n",
       "      <td>0.507718</td>\n",
       "      <td>0.781111</td>\n",
       "      <td>0.231111</td>\n",
       "      <td>0.112933</td>\n",
       "      <td>0.082773</td>\n",
       "    </tr>\n",
       "    <tr>\n",
       "      <th>models_reg_40_gcn</th>\n",
       "      <td>0.338712</td>\n",
       "      <td>0.883805</td>\n",
       "      <td>0.432222</td>\n",
       "      <td>0.638889</td>\n",
       "      <td>0.216487</td>\n",
       "      <td>0.179924</td>\n",
       "    </tr>\n",
       "    <tr>\n",
       "      <th>models_reg_40_gat</th>\n",
       "      <td>0.453376</td>\n",
       "      <td>0.785281</td>\n",
       "      <td>0.590000</td>\n",
       "      <td>0.476667</td>\n",
       "      <td>0.183264</td>\n",
       "      <td>0.136010</td>\n",
       "    </tr>\n",
       "    <tr>\n",
       "      <th>models_reg_40_fnn</th>\n",
       "      <td>0.370818</td>\n",
       "      <td>0.879394</td>\n",
       "      <td>0.498889</td>\n",
       "      <td>0.591111</td>\n",
       "      <td>0.223169</td>\n",
       "      <td>0.178660</td>\n",
       "    </tr>\n",
       "    <tr>\n",
       "      <th>models_reg_10_sage_base</th>\n",
       "      <td>0.388902</td>\n",
       "      <td>0.771242</td>\n",
       "      <td>0.519259</td>\n",
       "      <td>0.517778</td>\n",
       "      <td>0.184297</td>\n",
       "      <td>0.143676</td>\n",
       "    </tr>\n",
       "    <tr>\n",
       "      <th>models_reg_10_sage</th>\n",
       "      <td>0.584056</td>\n",
       "      <td>0.652630</td>\n",
       "      <td>0.685926</td>\n",
       "      <td>0.350370</td>\n",
       "      <td>0.144010</td>\n",
       "      <td>0.104808</td>\n",
       "    </tr>\n",
       "    <tr>\n",
       "      <th>models_reg_10_gcn</th>\n",
       "      <td>0.341950</td>\n",
       "      <td>0.887360</td>\n",
       "      <td>0.434074</td>\n",
       "      <td>0.639259</td>\n",
       "      <td>0.218496</td>\n",
       "      <td>0.181646</td>\n",
       "    </tr>\n",
       "    <tr>\n",
       "      <th>models_reg_10_gat</th>\n",
       "      <td>0.355414</td>\n",
       "      <td>0.843274</td>\n",
       "      <td>0.505185</td>\n",
       "      <td>0.564444</td>\n",
       "      <td>0.196543</td>\n",
       "      <td>0.152113</td>\n",
       "    </tr>\n",
       "    <tr>\n",
       "      <th>models_reg_10_fnn</th>\n",
       "      <td>0.346930</td>\n",
       "      <td>0.982061</td>\n",
       "      <td>0.497037</td>\n",
       "      <td>0.650370</td>\n",
       "      <td>0.229984</td>\n",
       "      <td>0.178307</td>\n",
       "    </tr>\n",
       "    <tr>\n",
       "      <th>models_clas_75_sage</th>\n",
       "      <td>0.802167</td>\n",
       "      <td>0.481664</td>\n",
       "      <td>0.850667</td>\n",
       "      <td>0.173333</td>\n",
       "      <td>0.120330</td>\n",
       "      <td>0.085693</td>\n",
       "    </tr>\n",
       "    <tr>\n",
       "      <th>models_clas_75_gcn</th>\n",
       "      <td>0.430011</td>\n",
       "      <td>0.920869</td>\n",
       "      <td>0.544000</td>\n",
       "      <td>0.576000</td>\n",
       "      <td>0.228121</td>\n",
       "      <td>0.169240</td>\n",
       "    </tr>\n",
       "    <tr>\n",
       "      <th>models_clas_75_gat</th>\n",
       "      <td>0.371722</td>\n",
       "      <td>0.946573</td>\n",
       "      <td>0.528000</td>\n",
       "      <td>0.602667</td>\n",
       "      <td>0.234320</td>\n",
       "      <td>0.172120</td>\n",
       "    </tr>\n",
       "    <tr>\n",
       "      <th>models_clas_75_fnn</th>\n",
       "      <td>0.405166</td>\n",
       "      <td>0.916515</td>\n",
       "      <td>0.525333</td>\n",
       "      <td>0.594667</td>\n",
       "      <td>0.220422</td>\n",
       "      <td>0.171667</td>\n",
       "    </tr>\n",
       "    <tr>\n",
       "      <th>models_clas_40_sage</th>\n",
       "      <td>0.764037</td>\n",
       "      <td>0.480740</td>\n",
       "      <td>0.822222</td>\n",
       "      <td>0.193333</td>\n",
       "      <td>0.112366</td>\n",
       "      <td>0.083578</td>\n",
       "    </tr>\n",
       "    <tr>\n",
       "      <th>models_clas_40_gcn</th>\n",
       "      <td>0.418741</td>\n",
       "      <td>0.893806</td>\n",
       "      <td>0.533333</td>\n",
       "      <td>0.567778</td>\n",
       "      <td>0.219237</td>\n",
       "      <td>0.164889</td>\n",
       "    </tr>\n",
       "    <tr>\n",
       "      <th>models_clas_40_gat</th>\n",
       "      <td>0.407336</td>\n",
       "      <td>0.956266</td>\n",
       "      <td>0.547778</td>\n",
       "      <td>0.592222</td>\n",
       "      <td>0.232304</td>\n",
       "      <td>0.167211</td>\n",
       "    </tr>\n",
       "    <tr>\n",
       "      <th>models_clas_40_fnn</th>\n",
       "      <td>0.360033</td>\n",
       "      <td>1.092906</td>\n",
       "      <td>0.495556</td>\n",
       "      <td>0.725556</td>\n",
       "      <td>0.264152</td>\n",
       "      <td>0.201178</td>\n",
       "    </tr>\n",
       "    <tr>\n",
       "      <th>models_clas_10_sage</th>\n",
       "      <td>0.603387</td>\n",
       "      <td>0.642910</td>\n",
       "      <td>0.701481</td>\n",
       "      <td>0.334815</td>\n",
       "      <td>0.153260</td>\n",
       "      <td>0.111600</td>\n",
       "    </tr>\n",
       "    <tr>\n",
       "      <th>models_clas_10_gcn</th>\n",
       "      <td>0.407791</td>\n",
       "      <td>0.942416</td>\n",
       "      <td>0.522963</td>\n",
       "      <td>0.612593</td>\n",
       "      <td>0.235553</td>\n",
       "      <td>0.178570</td>\n",
       "    </tr>\n",
       "    <tr>\n",
       "      <th>models_clas_10_gat</th>\n",
       "      <td>0.341128</td>\n",
       "      <td>1.086960</td>\n",
       "      <td>0.490370</td>\n",
       "      <td>0.713333</td>\n",
       "      <td>0.268486</td>\n",
       "      <td>0.198015</td>\n",
       "    </tr>\n",
       "    <tr>\n",
       "      <th>models_clas_10_fnn</th>\n",
       "      <td>0.341909</td>\n",
       "      <td>1.087641</td>\n",
       "      <td>0.486667</td>\n",
       "      <td>0.722222</td>\n",
       "      <td>0.267782</td>\n",
       "      <td>0.202422</td>\n",
       "    </tr>\n",
       "  </tbody>\n",
       "</table>\n",
       "</div>"
      ],
      "text/plain": [
       "                         test_mcc  test_rmse  test_acc  test_mae  \\\n",
       "name                                                               \n",
       "models_reg_75_sage_base  0.606178   0.623966  0.696000  0.330667   \n",
       "models_reg_75_sage       0.788355   0.478888  0.837333  0.181333   \n",
       "models_reg_75_gcn        0.323545   0.923760  0.426667  0.666667   \n",
       "models_reg_75_gat        0.482151   0.719259  0.610667  0.432000   \n",
       "models_reg_75_fnn        0.409551   0.912140  0.525333  0.592000   \n",
       "models_reg_40_sage_base  0.613525   0.561743  0.697778  0.306667   \n",
       "models_reg_40_sage       0.719139   0.507718  0.781111  0.231111   \n",
       "models_reg_40_gcn        0.338712   0.883805  0.432222  0.638889   \n",
       "models_reg_40_gat        0.453376   0.785281  0.590000  0.476667   \n",
       "models_reg_40_fnn        0.370818   0.879394  0.498889  0.591111   \n",
       "models_reg_10_sage_base  0.388902   0.771242  0.519259  0.517778   \n",
       "models_reg_10_sage       0.584056   0.652630  0.685926  0.350370   \n",
       "models_reg_10_gcn        0.341950   0.887360  0.434074  0.639259   \n",
       "models_reg_10_gat        0.355414   0.843274  0.505185  0.564444   \n",
       "models_reg_10_fnn        0.346930   0.982061  0.497037  0.650370   \n",
       "models_clas_75_sage      0.802167   0.481664  0.850667  0.173333   \n",
       "models_clas_75_gcn       0.430011   0.920869  0.544000  0.576000   \n",
       "models_clas_75_gat       0.371722   0.946573  0.528000  0.602667   \n",
       "models_clas_75_fnn       0.405166   0.916515  0.525333  0.594667   \n",
       "models_clas_40_sage      0.764037   0.480740  0.822222  0.193333   \n",
       "models_clas_40_gcn       0.418741   0.893806  0.533333  0.567778   \n",
       "models_clas_40_gat       0.407336   0.956266  0.547778  0.592222   \n",
       "models_clas_40_fnn       0.360033   1.092906  0.495556  0.725556   \n",
       "models_clas_10_sage      0.603387   0.642910  0.701481  0.334815   \n",
       "models_clas_10_gcn       0.407791   0.942416  0.522963  0.612593   \n",
       "models_clas_10_gat       0.341128   1.086960  0.490370  0.713333   \n",
       "models_clas_10_fnn       0.341909   1.087641  0.486667  0.722222   \n",
       "\n",
       "                         test_rmse_perc  test_mae_perc  \n",
       "name                                                    \n",
       "models_reg_75_sage_base        0.124594       0.091330  \n",
       "models_reg_75_sage             0.117416       0.081585  \n",
       "models_reg_75_gcn              0.219243       0.181033  \n",
       "models_reg_75_gat              0.162221       0.119653  \n",
       "models_reg_75_fnn              0.244187       0.193880  \n",
       "models_reg_40_sage_base        0.119162       0.092553  \n",
       "models_reg_40_sage             0.112933       0.082773  \n",
       "models_reg_40_gcn              0.216487       0.179924  \n",
       "models_reg_40_gat              0.183264       0.136010  \n",
       "models_reg_40_fnn              0.223169       0.178660  \n",
       "models_reg_10_sage_base        0.184297       0.143676  \n",
       "models_reg_10_sage             0.144010       0.104808  \n",
       "models_reg_10_gcn              0.218496       0.181646  \n",
       "models_reg_10_gat              0.196543       0.152113  \n",
       "models_reg_10_fnn              0.229984       0.178307  \n",
       "models_clas_75_sage            0.120330       0.085693  \n",
       "models_clas_75_gcn             0.228121       0.169240  \n",
       "models_clas_75_gat             0.234320       0.172120  \n",
       "models_clas_75_fnn             0.220422       0.171667  \n",
       "models_clas_40_sage            0.112366       0.083578  \n",
       "models_clas_40_gcn             0.219237       0.164889  \n",
       "models_clas_40_gat             0.232304       0.167211  \n",
       "models_clas_40_fnn             0.264152       0.201178  \n",
       "models_clas_10_sage            0.153260       0.111600  \n",
       "models_clas_10_gcn             0.235553       0.178570  \n",
       "models_clas_10_gat             0.268486       0.198015  \n",
       "models_clas_10_fnn             0.267782       0.202422  "
      ]
     },
     "execution_count": 13,
     "metadata": {},
     "output_type": "execute_result"
    }
   ],
   "source": [
    "s = r['sym_network']\n",
    "s[[k for k in s.columns if 'test' in k]]"
   ]
  }
 ],
 "metadata": {
  "interpreter": {
   "hash": "37be9487e307834247f9cc00a1ec46ceeb3f522b7edf17e3b2d74c6ce713e314"
  },
  "kernelspec": {
   "display_name": "Python 3.9.5 ('venv': venv)",
   "language": "python",
   "name": "python3"
  },
  "language_info": {
   "codemirror_mode": {
    "name": "ipython",
    "version": 3
   },
   "file_extension": ".py",
   "mimetype": "text/x-python",
   "name": "python",
   "nbconvert_exporter": "python",
   "pygments_lexer": "ipython3",
   "version": "3.9.5"
  },
  "orig_nbformat": 4
 },
 "nbformat": 4,
 "nbformat_minor": 2
}
