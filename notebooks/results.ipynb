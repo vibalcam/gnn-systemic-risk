{
 "cells": [
  {
   "cell_type": "code",
   "execution_count": 1,
   "metadata": {},
   "outputs": [],
   "source": [
    "import sys\n",
    "sys.path.append('../')"
   ]
  },
  {
   "cell_type": "code",
   "execution_count": 2,
   "metadata": {},
   "outputs": [
    {
     "name": "stderr",
     "output_type": "stream",
     "text": [
      "Using backend: pytorch\n"
     ]
    }
   ],
   "source": [
    "import itertools\n",
    "import pandas as pd\n",
    "import numpy as np\n",
    "from tqdm.auto import tqdm, trange\n",
    "from pathlib import Path\n",
    "\n",
    "from models.train import test as test_clas\n",
    "from models.train_reg import test as test_reg\n",
    "from models.utils import ContagionDataset, set_seed, ConfusionMatrix, save_pickle, load_pickle\n",
    "from sklearn.metrics import matthews_corrcoef, mean_squared_error\n",
    "from models.results import ResultCollection"
   ]
  },
  {
   "cell_type": "code",
   "execution_count": 3,
   "metadata": {},
   "outputs": [],
   "source": [
    "seed = 4444\n",
    "\n",
    "metric_filter_1 = 'val_mcc'\n",
    "metric_filter_2 = 'test_mcc'\n",
    "\n",
    "data_dir_name = 'data'\n",
    "save_path_name = 'saved_'\n",
    "networks = ['sym_network', 'europe_network']\n",
    "\n",
    "target = 'additional_stress'\n",
    "dict_sets_lengths = {\n",
    "    '75':(0.5, 0.25, 0.25),\n",
    "    '40':(0.3, 0.1, 0.6),\n",
    "    '10':(0.07, 0.03, 0.9),\n",
    "}\n",
    "dict_test_type = {\n",
    "    'clas': test_clas,\n",
    "    'reg': test_reg,\n",
    "}\n"
   ]
  },
  {
   "cell_type": "markdown",
   "metadata": {},
   "source": [
    "Get all models that will be tested"
   ]
  },
  {
   "cell_type": "code",
   "execution_count": 4,
   "metadata": {},
   "outputs": [],
   "source": [
    "# col = ResultCollection()\n",
    "# paths = list(itertools.chain.from_iterable([[k for k in Path(n).glob(f\"models*/{save_path_name}*\") if k.is_dir()] for n in networks]))\n",
    "network_paths = [[k for k in Path(n).glob(f\"models*/{save_path_name}*\") if k.is_dir()] for n in networks]"
   ]
  },
  {
   "cell_type": "code",
   "execution_count": 6,
   "metadata": {},
   "outputs": [
    {
     "name": "stdout",
     "output_type": "stream",
     "text": [
      "sym_network\\models_clas_10\\saved_fnn\n"
     ]
    },
    {
     "name": "stderr",
     "output_type": "stream",
     "text": [
      "100%|██████████| 743/743 [00:29<00:00, 25.58it/s]\n"
     ]
    },
    {
     "name": "stdout",
     "output_type": "stream",
     "text": [
      "sym_network\\models_clas_10\\saved_gat\n"
     ]
    }
   ],
   "source": [
    "col_results = {}\n",
    "\n",
    "for n,paths in zip(networks, network_paths):\n",
    "    col = ResultCollection()\n",
    "    col_results[n] = col\n",
    "\n",
    "    for p in paths:\n",
    "        print(p)\n",
    "        name = p.name.split(save_path_name)[1]\n",
    "        _,test_type,sets_type = p.parent.name.split('_')\n",
    "        sets_lengths = dict_sets_lengths[sets_type]\n",
    "        data_dir = p.parent.parent.joinpath(data_dir_name)\n",
    "        \n",
    "        set_seed(seed)\n",
    "        dataset_val = ContagionDataset(\n",
    "            raw_dir=data_dir,\n",
    "            drop_edges=0,\n",
    "            sets_lengths=sets_lengths,\n",
    "            target = target,\n",
    "            add_self_loop=True,\n",
    "        )\n",
    "\n",
    "        r = dict_test_type[test_type](\n",
    "            dataset=dataset_val,\n",
    "            save_path=str(p),\n",
    "            n_runs=1,\n",
    "            debug_mode=False,\n",
    "            use_cpu=False,\n",
    "            save=True,\n",
    "            use_edge_weight=True,\n",
    "        )\n",
    "\n",
    "        result = col.add(r[2], f\"{p.parent.name}_{name}\")\n"
   ]
  },
  {
   "cell_type": "code",
   "execution_count": null,
   "metadata": {},
   "outputs": [],
   "source": [
    "# col_results = load_pickle('results.pickle')"
   ]
  },
  {
   "cell_type": "code",
   "execution_count": null,
   "metadata": {},
   "outputs": [],
   "source": [
    "r = {k:v.df('test_mcc', True) for k,v in col_results.items()}\n",
    "r"
   ]
  },
  {
   "cell_type": "code",
   "execution_count": null,
   "metadata": {},
   "outputs": [],
   "source": [
    "r['sym_network'].sort_values(axis=0, by='test_mcc', ascending=not True, na_position='last')"
   ]
  },
  {
   "cell_type": "markdown",
   "metadata": {},
   "source": [
    "# separar networks"
   ]
  },
  {
   "cell_type": "code",
   "execution_count": null,
   "metadata": {},
   "outputs": [],
   "source": [
    "for p in paths:\n",
    "    name = p.name.split(save_path_name)[1]\n",
    "    sets_type = p.parent.name.split('_')[2]\n",
    "    sets_lengths = dict_sets_lengths[sets_type]\n",
    "    data_dir = p.parent.parent.joinpath(data_dir_name)\n",
    "    \n",
    "    set_seed(seed)\n",
    "    dataset_val = ContagionDataset(\n",
    "        raw_dir=data_dir,\n",
    "        drop_edges=0,\n",
    "        sets_lengths=sets_lengths,\n",
    "        target = target,\n",
    "        add_self_loop=True,\n",
    "    )\n",
    "\n",
    "    r = test(\n",
    "        dataset=dataset_val,\n",
    "        save_path=str(p),\n",
    "        n_runs=1,\n",
    "        debug_mode=False,\n",
    "        use_cpu=False,\n",
    "        save=True,\n",
    "        use_edge_weight=True,\n",
    "    )\n",
    "\n",
    "    result = col.add(r[2], f\"{p.parent.name}_{name}\")\n",
    "\n",
    "    break"
   ]
  },
  {
   "cell_type": "code",
   "execution_count": null,
   "metadata": {},
   "outputs": [],
   "source": [
    "result.data[0].keys()"
   ]
  },
  {
   "cell_type": "code",
   "execution_count": null,
   "metadata": {},
   "outputs": [],
   "source": [
    "result.df_metrics_sort('test_mcc')"
   ]
  },
  {
   "cell_type": "code",
   "execution_count": null,
   "metadata": {},
   "outputs": [],
   "source": [
    "result.data[0]['dict']['path_name']"
   ]
  },
  {
   "cell_type": "code",
   "execution_count": null,
   "metadata": {},
   "outputs": [],
   "source": [
    "result.save_best('test_mcc', '.',)"
   ]
  }
 ],
 "metadata": {
  "interpreter": {
   "hash": "37be9487e307834247f9cc00a1ec46ceeb3f522b7edf17e3b2d74c6ce713e314"
  },
  "kernelspec": {
   "display_name": "Python 3.9.5 ('venv': venv)",
   "language": "python",
   "name": "python3"
  },
  "language_info": {
   "codemirror_mode": {
    "name": "ipython",
    "version": 3
   },
   "file_extension": ".py",
   "mimetype": "text/x-python",
   "name": "python",
   "nbconvert_exporter": "python",
   "pygments_lexer": "ipython3",
   "version": "3.9.5"
  },
  "orig_nbformat": 4
 },
 "nbformat": 4,
 "nbformat_minor": 2
}
