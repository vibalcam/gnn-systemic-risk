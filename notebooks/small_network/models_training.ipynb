{
 "cells": [
  {
   "cell_type": "code",
   "execution_count": 1,
   "metadata": {},
   "outputs": [],
   "source": [
    "import sys\n",
    "sys.path.append('../../')"
   ]
  },
  {
   "cell_type": "code",
   "execution_count": 2,
   "metadata": {},
   "outputs": [
    {
     "name": "stderr",
     "output_type": "stream",
     "text": [
      "Using backend: pytorch\n"
     ]
    }
   ],
   "source": [
    "import torch\n",
    "import itertools\n",
    "from sklearn.linear_model import LogisticRegression\n",
    "from sklearn.model_selection import train_test_split\n",
    "from sklearn.ensemble import RandomForestClassifier\n",
    "from sklearn.metrics import classification_report\n",
    "from sklearn.neighbors import KNeighborsClassifier\n",
    "import pandas as pd\n",
    "import numpy as np\n",
    "from tqdm.auto import tqdm, trange\n",
    "\n",
    "from models.train import train, test\n",
    "from models.models import GCN, GAT, GraphSAGE\n",
    "from models.utils import ContagionDataset"
   ]
  },
  {
   "cell_type": "code",
   "execution_count": 3,
   "metadata": {},
   "outputs": [],
   "source": [
    "do_train = True\n",
    "seed = 4444"
   ]
  },
  {
   "cell_type": "markdown",
   "metadata": {},
   "source": [
    "# Small dataset"
   ]
  },
  {
   "cell_type": "code",
   "execution_count": 4,
   "metadata": {},
   "outputs": [],
   "source": [
    "data_dir = './data'\n",
    "log_path = './logs'\n",
    "save_path = './saved'"
   ]
  },
  {
   "cell_type": "markdown",
   "metadata": {},
   "source": [
    "## Target: additional_stress"
   ]
  },
  {
   "cell_type": "code",
   "execution_count": 5,
   "metadata": {},
   "outputs": [],
   "source": [
    "dict_small_total = {}\n",
    "sets_lengths = (0.7, 0.15, 0.15)\n",
    "target = 'additional_stress'"
   ]
  },
  {
   "cell_type": "code",
   "execution_count": 6,
   "metadata": {},
   "outputs": [],
   "source": [
    "dataset = ContagionDataset(\n",
    "    raw_dir=data_dir,\n",
    "    drop_edges=0,\n",
    "    sets_lengths=sets_lengths,\n",
    "    target = target,\n",
    "    seed=seed,\n",
    ")\n",
    "x_train,x_test,y_train,y_test = train_test_split(dataset.node_features[0].to_numpy(), dataset.targets[0], test_size=0.2, random_state=seed)"
   ]
  },
  {
   "cell_type": "markdown",
   "metadata": {},
   "source": [
    "### Logistic Regression"
   ]
  },
  {
   "cell_type": "code",
   "execution_count": 7,
   "metadata": {},
   "outputs": [
    {
     "name": "stdout",
     "output_type": "stream",
     "text": [
      "              precision    recall  f1-score   support\n",
      "\n",
      "           0       0.67      1.00      0.80         4\n",
      "           1       0.50      0.12      0.20         8\n",
      "           2       0.00      0.00      0.00         8\n",
      "           3       0.27      0.80      0.40         5\n",
      "\n",
      "    accuracy                           0.36        25\n",
      "   macro avg       0.36      0.48      0.35        25\n",
      "weighted avg       0.32      0.36      0.27        25\n",
      "\n"
     ]
    }
   ],
   "source": [
    "model_lr = LogisticRegression(multi_class='multinomial',random_state=seed).fit(x_train, y_train)\n",
    "print(classification_report(y_true=y_test, y_pred=model_lr.predict(x_test)))"
   ]
  },
  {
   "cell_type": "code",
   "execution_count": 8,
   "metadata": {},
   "outputs": [
    {
     "name": "stdout",
     "output_type": "stream",
     "text": [
      "Train accuracy: 0.45\n",
      "Test accuracy: 0.36\n"
     ]
    }
   ],
   "source": [
    "test_acc = model_lr.score(x_test, y_test)\n",
    "dict_small_total['logistic_regression'] = test_acc\n",
    "print(f\"Train accuracy: {model_lr.score(x_train, y_train)}\")\n",
    "print(f\"Test accuracy: {test_acc}\")"
   ]
  },
  {
   "cell_type": "markdown",
   "metadata": {},
   "source": [
    "### Random Forest"
   ]
  },
  {
   "cell_type": "code",
   "execution_count": 9,
   "metadata": {},
   "outputs": [
    {
     "name": "stderr",
     "output_type": "stream",
     "text": [
      "100%|██████████| 11/11 [00:00<00:00, 23.92it/s]"
     ]
    },
    {
     "name": "stdout",
     "output_type": "stream",
     "text": [
      "              precision    recall  f1-score   support\n",
      "\n",
      "           0       0.80      1.00      0.89         4\n",
      "           1       1.00      0.25      0.40         8\n",
      "           2       0.50      0.38      0.43         8\n",
      "           3       0.25      0.60      0.35         5\n",
      "\n",
      "    accuracy                           0.48        25\n",
      "   macro avg       0.64      0.56      0.52        25\n",
      "weighted avg       0.66      0.48      0.48        25\n",
      "\n"
     ]
    },
    {
     "name": "stderr",
     "output_type": "stream",
     "text": [
      "\n"
     ]
    }
   ],
   "source": [
    "n = 10\n",
    "num_nodes = x_train.shape[0]\n",
    "model_rf = None\n",
    "test_acc = 0.0\n",
    "for k in trange(1,num_nodes, (num_nodes - 1) // n):\n",
    "    tmp = RandomForestClassifier(random_state=seed, n_estimators=k).fit(x_train,y_train)\n",
    "    tmp_acc = tmp.score(x_test, y_test)\n",
    "    if test_acc < tmp_acc:\n",
    "        test_acc = tmp_acc\n",
    "        model_rf = tmp\n",
    "\n",
    "print(classification_report(y_true=y_test, y_pred=model_rf.predict(x_test)))"
   ]
  },
  {
   "cell_type": "code",
   "execution_count": 10,
   "metadata": {},
   "outputs": [
    {
     "name": "stdout",
     "output_type": "stream",
     "text": [
      "Train accuracy: 1.0\n",
      "Test accuracy: 0.48\n"
     ]
    }
   ],
   "source": [
    "dict_small_total['random_forest'] = test_acc\n",
    "print(f\"Train accuracy: {model_rf.score(x_train, y_train)}\")\n",
    "print(f\"Test accuracy: {test_acc}\")"
   ]
  },
  {
   "cell_type": "markdown",
   "metadata": {},
   "source": [
    "### KNN Classifier"
   ]
  },
  {
   "cell_type": "code",
   "execution_count": 11,
   "metadata": {},
   "outputs": [
    {
     "name": "stdout",
     "output_type": "stream",
     "text": [
      "              precision    recall  f1-score   support\n",
      "\n",
      "           0       0.44      1.00      0.62         4\n",
      "           1       0.50      0.12      0.20         8\n",
      "           2       0.50      0.50      0.50         8\n",
      "           3       0.33      0.40      0.36         5\n",
      "\n",
      "    accuracy                           0.44        25\n",
      "   macro avg       0.44      0.51      0.42        25\n",
      "weighted avg       0.46      0.44      0.40        25\n",
      "\n"
     ]
    }
   ],
   "source": [
    "model_knn = KNeighborsClassifier(n_neighbors=dataset.num_classes).fit(x_train,y_train)\n",
    "print(classification_report(y_true=y_test, y_pred=model_knn.predict(x_test)))"
   ]
  },
  {
   "cell_type": "code",
   "execution_count": 12,
   "metadata": {},
   "outputs": [
    {
     "name": "stdout",
     "output_type": "stream",
     "text": [
      "Train accuracy: 0.61\n",
      "Test accuracy: 0.44\n"
     ]
    }
   ],
   "source": [
    "test_acc = model_knn.score(x_test, y_test)\n",
    "dict_small_total['knn_classifier'] = test_acc\n",
    "print(f\"Train accuracy: {model_knn.score(x_train, y_train)}\")\n",
    "print(f\"Test accuracy: {test_acc}\")"
   ]
  },
  {
   "cell_type": "code",
   "execution_count": 35,
   "metadata": {},
   "outputs": [
    {
     "data": {
      "text/plain": [
       "{'logistic_regression': 0.4, 'random_forest': 0.48, 'knn_classifier': 0.32}"
      ]
     },
     "execution_count": 35,
     "metadata": {},
     "output_type": "execute_result"
    }
   ],
   "source": [
    "dict_small_total"
   ]
  },
  {
   "cell_type": "markdown",
   "metadata": {
    "collapsed": false
   },
   "source": [
    "### GCN"
   ]
  },
  {
   "cell_type": "code",
   "execution_count": 58,
   "metadata": {},
   "outputs": [],
   "source": [
    "save_model = f'{save_path}_gcn'\n",
    "log_dir = f'{log_path}_gcn'\n",
    "\n",
    "dataset_val = ContagionDataset(\n",
    "    raw_dir=data_dir,\n",
    "    drop_edges=0,\n",
    "    sets_lengths=sets_lengths,\n",
    "    add_self_loop = True,\n",
    "    target = target,\n",
    "    seed=seed,\n",
    ")\n",
    "\n",
    "gcn_model = dict(\n",
    "    in_features=[dataset_val.num_node_features],\n",
    "    h_features=[[5, 10], [10, 15], [5,5,5], [5,5,5,5], [5, 10, 15], [5, 10, 15, 20], [5], [10], [15]],\n",
    "    # h_features=[[5, 10], [10, 15], [5], [10], [15], [10,15]],\n",
    "    out_features=[dataset_val.num_classes],\n",
    "    activation=[torch.nn.ReLU()],\n",
    "    norm_edges=['both', 'none'],\n",
    "    norm_nodes=[None, 'bn', 'gn'],\n",
    "    dropout=[0.2, 0.5, 0.0],\n",
    "    # other\n",
    "    lr=[1],\n",
    "    label_smoothing=[0.0, 0.2, 0.4],\n",
    "    use_edge_weight=[True, False],\n",
    "    add_self_loop=[True, False],\n",
    "    drop_edges=[0,0.2,0.4],\n",
    ")\n",
    "list_model = [dict(zip(gcn_model.keys(), k)) for k in itertools.product(*gcn_model.values())]"
   ]
  },
  {
   "cell_type": "code",
   "execution_count": 28,
   "metadata": {
    "collapsed": false,
    "pycharm": {
     "name": "#%%\n"
    }
   },
   "outputs": [
    {
     "name": "stderr",
     "output_type": "stream",
     "text": [
      "100%|██████████| 540/540 [25:50<00:00,  2.87s/it]\n",
      "100%|██████████| 540/540 [28:38<00:00,  3.18s/it]\n",
      "100%|██████████| 540/540 [28:58<00:00,  3.22s/it]\n",
      "100%|██████████| 3/3 [1:23:27<00:00, 1669.18s/it]\n"
     ]
    }
   ],
   "source": [
    "if do_train:\n",
    "    for d in tqdm(list_model):\n",
    "        d = d.copy()\n",
    "        lr = d.pop('lr')\n",
    "        ls = d.pop('label_smoothing')\n",
    "        add_self_loop = d.pop('add_self_loop')\n",
    "        drop_edges = d.pop('drop_edges')\n",
    "        use_edge_weight = d.pop('use_edge_weight')\n",
    "\n",
    "        dataset_valid = ContagionDataset(\n",
    "            raw_dir=data_dir,\n",
    "            drop_edges=0,\n",
    "            sets_lengths=sets_lengths,\n",
    "            add_self_loop = add_self_loop,\n",
    "            target = target,\n",
    "            seed=seed,\n",
    "        )\n",
    "\n",
    "        dataset_train = ContagionDataset(\n",
    "            raw_dir=data_dir,\n",
    "            drop_edges=drop_edges,\n",
    "            sets_lengths=sets_lengths,\n",
    "            add_self_loop = add_self_loop,\n",
    "            target = target,\n",
    "            seed=seed,\n",
    "        )\n",
    "\n",
    "        train(\n",
    "            model=GCN(**d),\n",
    "            dict_model=d,\n",
    "            dataset_train=dataset_train,\n",
    "            dataset_val=dataset_valid,\n",
    "            log_dir=log_dir,\n",
    "            save_path=save_model,\n",
    "            lr=lr,\n",
    "            optimizer_name=\"adamw\",\n",
    "            n_epochs=100,\n",
    "            scheduler_mode='max_val_acc',\n",
    "            debug_mode=False,\n",
    "            steps_validate=1,\n",
    "            use_cpu=False,\n",
    "            label_smoothing=ls,\n",
    "            use_edge_weight=use_edge_weight,\n",
    "        )"
   ]
  },
  {
   "cell_type": "code",
   "execution_count": 36,
   "metadata": {},
   "outputs": [
    {
     "data": {
      "text/plain": [
       "tensor(13)"
      ]
     },
     "execution_count": 36,
     "metadata": {},
     "output_type": "execute_result"
    }
   ],
   "source": [
    "dataset[0].ndata['test_mask'].sum()"
   ]
  },
  {
   "cell_type": "code",
   "execution_count": 45,
   "metadata": {},
   "outputs": [
    {
     "name": "stderr",
     "output_type": "stream",
     "text": [
      "1944it [00:49, 39.05it/s]\n"
     ]
    },
    {
     "data": {
      "text/plain": [
       "0.6999996900558472"
      ]
     },
     "execution_count": 45,
     "metadata": {},
     "output_type": "execute_result"
    }
   ],
   "source": [
    "res_edges = test(\n",
    "    dataset=dataset_val,\n",
    "    save_path=save_model,\n",
    "    n_runs=1,\n",
    "    debug_mode=False,\n",
    "    use_cpu=False,\n",
    "    save=True,\n",
    "    use_edge_weight=True,\n",
    ")\n",
    "res_edges[1]"
   ]
  },
  {
   "cell_type": "code",
   "execution_count": 36,
   "metadata": {},
   "outputs": [
    {
     "data": {
      "text/plain": [
       "{'in_features': 2,\n",
       " 'h_features': [5],\n",
       " 'out_features': 4,\n",
       " 'activation': ReLU(),\n",
       " 'norm_edges': 'both',\n",
       " 'norm_nodes': 'bn',\n",
       " 'dropout': 0.0,\n",
       " 'train_lr': 1,\n",
       " 'train_optimizer_name': 'adamw',\n",
       " 'train_scheduler_mode': 'max_val_acc',\n",
       " 'train_label_smoothing': 0.2,\n",
       " 'train_use_edge_weight': True,\n",
       " 'train_self_loop': True,\n",
       " 'train_drop_edges': 0,\n",
       " 'train_loss': 2.8970888,\n",
       " 'train_acc': 0.4712643325328827,\n",
       " 'val_acc': 0.4444442093372345,\n",
       " 'epoch': 4,\n",
       " 'model_class': 'gcn',\n",
       " 'path_name': '2_[5]_4_ReLU()_both_bn_0.0_1_adamw_max_val_acc_0.2_True_True_0',\n",
       " 'test_acc': 0.6999996900558472}"
      ]
     },
     "execution_count": 36,
     "metadata": {},
     "output_type": "execute_result"
    }
   ],
   "source": [
    "all = res_edges[2]\n",
    "# ascending order\n",
    "sort_idx = np.argsort([k[1] for k in all])[::-1]\n",
    "all[sort_idx[0]][0]"
   ]
  },
  {
   "cell_type": "code",
   "execution_count": 48,
   "metadata": {},
   "outputs": [
    {
     "data": {
      "text/plain": [
       "0.722221851348877"
      ]
     },
     "execution_count": 48,
     "metadata": {},
     "output_type": "execute_result"
    }
   ],
   "source": [
    "max([k[0]['val_acc'] for k in all])"
   ]
  },
  {
   "cell_type": "code",
   "execution_count": 41,
   "metadata": {},
   "outputs": [
    {
     "data": {
      "text/plain": [
       "[{'in_features': 2,\n",
       "  'h_features': [5],\n",
       "  'out_features': 4,\n",
       "  'activation': ReLU(),\n",
       "  'norm_edges': 'both',\n",
       "  'norm_nodes': 'bn',\n",
       "  'dropout': 0.0,\n",
       "  'train_lr': 1,\n",
       "  'train_optimizer_name': 'adamw',\n",
       "  'train_scheduler_mode': 'max_val_acc',\n",
       "  'train_label_smoothing': 0.2,\n",
       "  'train_use_edge_weight': True,\n",
       "  'train_self_loop': True,\n",
       "  'train_drop_edges': 0,\n",
       "  'train_loss': 2.8970888,\n",
       "  'train_acc': 0.4712643325328827,\n",
       "  'val_acc': 0.4444442093372345,\n",
       "  'epoch': 4,\n",
       "  'model_class': 'gcn',\n",
       "  'path_name': '2_[5]_4_ReLU()_both_bn_0.0_1_adamw_max_val_acc_0.2_True_True_0',\n",
       "  'test_acc': 0.6999996900558472},\n",
       " {'in_features': 2,\n",
       "  'h_features': [5, 10],\n",
       "  'out_features': 4,\n",
       "  'activation': ReLU(),\n",
       "  'norm_edges': 'none',\n",
       "  'norm_nodes': 'bn',\n",
       "  'dropout': 0.2,\n",
       "  'train_lr': 1,\n",
       "  'train_optimizer_name': 'adamw',\n",
       "  'train_scheduler_mode': 'max_val_acc',\n",
       "  'train_label_smoothing': 0.0,\n",
       "  'train_use_edge_weight': False,\n",
       "  'train_self_loop': True,\n",
       "  'train_drop_edges': 0.2,\n",
       "  'train_loss': 3.7305326,\n",
       "  'train_acc': 0.41379305720329285,\n",
       "  'val_acc': 0.3888886868953705,\n",
       "  'epoch': 63,\n",
       "  'model_class': 'gcn',\n",
       "  'path_name': '2_[5_10]_4_ReLU()_none_bn_0.2_1_adamw_max_val_acc_0.0_False_True_0.2',\n",
       "  'test_acc': 0.6499996781349182},\n",
       " {'in_features': 2,\n",
       "  'h_features': [10],\n",
       "  'out_features': 4,\n",
       "  'activation': ReLU(),\n",
       "  'norm_edges': 'both',\n",
       "  'norm_nodes': 'bn',\n",
       "  'dropout': 0.5,\n",
       "  'train_lr': 1,\n",
       "  'train_optimizer_name': 'adamw',\n",
       "  'train_scheduler_mode': 'max_val_acc',\n",
       "  'train_label_smoothing': 0.0,\n",
       "  'train_use_edge_weight': True,\n",
       "  'train_self_loop': True,\n",
       "  'train_drop_edges': 0,\n",
       "  'train_loss': 2.0562239,\n",
       "  'train_acc': 0.5057470798492432,\n",
       "  'val_acc': 0.4999997317790985,\n",
       "  'epoch': 10,\n",
       "  'model_class': 'gcn',\n",
       "  'path_name': '2_[10]_4_ReLU()_both_bn_0.5_1_adamw_max_val_acc_0.0_True_True_0',\n",
       "  'test_acc': 0.6499996781349182},\n",
       " {'in_features': 2,\n",
       "  'h_features': [10],\n",
       "  'out_features': 4,\n",
       "  'activation': ReLU(),\n",
       "  'norm_edges': 'none',\n",
       "  'norm_nodes': 'bn',\n",
       "  'dropout': 0.0,\n",
       "  'train_lr': 1,\n",
       "  'train_optimizer_name': 'adamw',\n",
       "  'train_scheduler_mode': 'max_val_acc',\n",
       "  'train_label_smoothing': 0.0,\n",
       "  'train_use_edge_weight': True,\n",
       "  'train_self_loop': True,\n",
       "  'train_drop_edges': 0.4,\n",
       "  'train_loss': 12.734619,\n",
       "  'train_acc': 0.5057470798492432,\n",
       "  'val_acc': 0.4444442093372345,\n",
       "  'epoch': 20,\n",
       "  'model_class': 'gcn',\n",
       "  'path_name': '2_[10]_4_ReLU()_none_bn_0.0_1_adamw_max_val_acc_0.0_True_True_0.4',\n",
       "  'test_acc': 0.6499996781349182},\n",
       " {'in_features': 2,\n",
       "  'h_features': [5, 10],\n",
       "  'out_features': 4,\n",
       "  'activation': ReLU(),\n",
       "  'norm_edges': 'none',\n",
       "  'norm_nodes': 'bn',\n",
       "  'dropout': 0.0,\n",
       "  'train_lr': 1,\n",
       "  'train_optimizer_name': 'adamw',\n",
       "  'train_scheduler_mode': 'max_val_acc',\n",
       "  'train_label_smoothing': 0.4,\n",
       "  'train_use_edge_weight': True,\n",
       "  'train_self_loop': True,\n",
       "  'train_drop_edges': 0.2,\n",
       "  'train_loss': 27.43135,\n",
       "  'train_acc': 0.4942528307437897,\n",
       "  'val_acc': 0.3888886868953705,\n",
       "  'epoch': 17,\n",
       "  'model_class': 'gcn',\n",
       "  'path_name': '2_[5_10]_4_ReLU()_none_bn_0.0_1_adamw_max_val_acc_0.4_True_True_0.2',\n",
       "  'test_acc': 0.6499996781349182},\n",
       " {'in_features': 2,\n",
       "  'h_features': [5, 10],\n",
       "  'out_features': 4,\n",
       "  'activation': ReLU(),\n",
       "  'norm_edges': 'none',\n",
       "  'norm_nodes': 'bn',\n",
       "  'dropout': 0.0,\n",
       "  'train_lr': 1,\n",
       "  'train_optimizer_name': 'adamw',\n",
       "  'train_scheduler_mode': 'max_val_acc',\n",
       "  'train_label_smoothing': 0.4,\n",
       "  'train_use_edge_weight': True,\n",
       "  'train_self_loop': True,\n",
       "  'train_drop_edges': 0.4,\n",
       "  'train_loss': 6.633424,\n",
       "  'train_acc': 0.517241358757019,\n",
       "  'val_acc': 0.4444442093372345,\n",
       "  'epoch': 42,\n",
       "  'model_class': 'gcn',\n",
       "  'path_name': '2_[5_10]_4_ReLU()_none_bn_0.0_1_adamw_max_val_acc_0.4_True_True_0.4',\n",
       "  'test_acc': 0.6499996781349182},\n",
       " {'in_features': 2,\n",
       "  'h_features': [5],\n",
       "  'out_features': 4,\n",
       "  'activation': ReLU(),\n",
       "  'norm_edges': 'both',\n",
       "  'norm_nodes': 'bn',\n",
       "  'dropout': 0.5,\n",
       "  'train_lr': 1,\n",
       "  'train_optimizer_name': 'adamw',\n",
       "  'train_scheduler_mode': 'max_val_acc',\n",
       "  'train_label_smoothing': 0.0,\n",
       "  'train_use_edge_weight': True,\n",
       "  'train_self_loop': True,\n",
       "  'train_drop_edges': 0.2,\n",
       "  'train_loss': 1.5604378,\n",
       "  'train_acc': 0.4712643325328827,\n",
       "  'val_acc': 0.4999997317790985,\n",
       "  'epoch': 12,\n",
       "  'model_class': 'gcn',\n",
       "  'path_name': '2_[5]_4_ReLU()_both_bn_0.5_1_adamw_max_val_acc_0.0_True_True_0.2',\n",
       "  'test_acc': 0.6499996781349182},\n",
       " {'in_features': 2,\n",
       "  'h_features': [10, 15],\n",
       "  'out_features': 4,\n",
       "  'activation': ReLU(),\n",
       "  'norm_edges': 'both',\n",
       "  'norm_nodes': 'gn',\n",
       "  'dropout': 0.5,\n",
       "  'train_lr': 1,\n",
       "  'train_optimizer_name': 'adamw',\n",
       "  'train_scheduler_mode': 'max_val_acc',\n",
       "  'train_label_smoothing': 0.4,\n",
       "  'train_use_edge_weight': True,\n",
       "  'train_self_loop': True,\n",
       "  'train_drop_edges': 0.4,\n",
       "  'train_loss': 2.4613073,\n",
       "  'train_acc': 0.4597700834274292,\n",
       "  'val_acc': 0.4999997317790985,\n",
       "  'epoch': 15,\n",
       "  'model_class': 'gcn',\n",
       "  'path_name': '2_[10_15]_4_ReLU()_both_gn_0.5_1_adamw_max_val_acc_0.4_True_True_0.4',\n",
       "  'test_acc': 0.6499996781349182},\n",
       " {'in_features': 2,\n",
       "  'h_features': [10, 15],\n",
       "  'out_features': 4,\n",
       "  'activation': ReLU(),\n",
       "  'norm_edges': 'both',\n",
       "  'norm_nodes': 'bn',\n",
       "  'dropout': 0.0,\n",
       "  'train_lr': 1,\n",
       "  'train_optimizer_name': 'adamw',\n",
       "  'train_scheduler_mode': 'max_val_acc',\n",
       "  'train_label_smoothing': 0.4,\n",
       "  'train_use_edge_weight': True,\n",
       "  'train_self_loop': True,\n",
       "  'train_drop_edges': 0.4,\n",
       "  'train_loss': 2.0624714,\n",
       "  'train_acc': 0.41379305720329285,\n",
       "  'val_acc': 0.4444442093372345,\n",
       "  'epoch': 98,\n",
       "  'model_class': 'gcn',\n",
       "  'path_name': '2_[10_15]_4_ReLU()_both_bn_0.0_1_adamw_max_val_acc_0.4_True_True_0.4',\n",
       "  'test_acc': 0.6499996781349182},\n",
       " {'in_features': 2,\n",
       "  'h_features': [10],\n",
       "  'out_features': 4,\n",
       "  'activation': ReLU(),\n",
       "  'norm_edges': 'none',\n",
       "  'norm_nodes': 'bn',\n",
       "  'dropout': 0.0,\n",
       "  'train_lr': 1,\n",
       "  'train_optimizer_name': 'adamw',\n",
       "  'train_scheduler_mode': 'max_val_acc',\n",
       "  'train_label_smoothing': 0.0,\n",
       "  'train_use_edge_weight': False,\n",
       "  'train_self_loop': True,\n",
       "  'train_drop_edges': 0.2,\n",
       "  'train_loss': 3.1420908,\n",
       "  'train_acc': 0.4367815852165222,\n",
       "  'val_acc': 0.4444442093372345,\n",
       "  'epoch': 56,\n",
       "  'model_class': 'gcn',\n",
       "  'path_name': '2_[10]_4_ReLU()_none_bn_0.0_1_adamw_max_val_acc_0.0_False_True_0.2',\n",
       "  'test_acc': 0.6499996781349182}]"
      ]
     },
     "execution_count": 41,
     "metadata": {},
     "output_type": "execute_result"
    }
   ],
   "source": [
    "[all[k][0] for k in sort_idx[:10]]"
   ]
  },
  {
   "cell_type": "code",
   "execution_count": 42,
   "metadata": {},
   "outputs": [
    {
     "name": "stderr",
     "output_type": "stream",
     "text": [
      "1296it [00:18, 71.53it/s]\n"
     ]
    },
    {
     "data": {
      "text/plain": [
       "0.6999996900558472"
      ]
     },
     "execution_count": 42,
     "metadata": {},
     "output_type": "execute_result"
    }
   ],
   "source": [
    "res_no_edges = test(\n",
    "    dataset=dataset_val,\n",
    "    save_path=save_model,\n",
    "    n_runs=1,\n",
    "    debug_mode=False,\n",
    "    use_cpu=False,\n",
    "    save=True,\n",
    "    use_edge_weight=False,\n",
    ")\n",
    "res_no_edges[1]"
   ]
  },
  {
   "cell_type": "code",
   "execution_count": null,
   "metadata": {},
   "outputs": [],
   "source": []
  },
  {
   "cell_type": "markdown",
   "metadata": {
    "collapsed": false
   },
   "source": [
    "### GraphSAGE"
   ]
  },
  {
   "cell_type": "code",
   "execution_count": 53,
   "metadata": {},
   "outputs": [],
   "source": [
    "save_model = f'{save_path}_sage'\n",
    "log_dir = f'{log_path}_sage'\n",
    "\n",
    "dataset_val = ContagionDataset(\n",
    "    raw_dir=data_dir,\n",
    "    drop_edges=0,\n",
    "    sets_lengths=sets_lengths,\n",
    "    add_self_loop = True,\n",
    "    target = target,\n",
    "    seed=seed,\n",
    ")\n",
    "\n",
    "sage_model = dict(\n",
    "    in_features = [dataset.num_node_features],\n",
    "    h_features = [[5, 10], [10, 15], [5,5,5], [5, 10, 15], [5], [10]], \n",
    "    out_features = [dataset.num_classes],\n",
    "    aggregator_type = ['mean', 'gcn', 'pool', 'lstm'],\n",
    "    norm_edges = ['right', 'left', 'none'],\n",
    "    norm_nodes = [None, 'bn', 'gn'],\n",
    "    activation = [torch.nn.ReLU()],\n",
    "    feat_drop = [0.2],\n",
    "    # other\n",
    "    lr=[1e-2, 1, 1e-3],\n",
    "    label_smoothing=[0.0, 0.2, 0.4],\n",
    "    use_edge_weight=[True, False],\n",
    "    add_self_loop=[True, False],\n",
    "    drop_edges=[0,0.2,0.4],\n",
    ")\n",
    "list_model = [dict(zip(sage_model.keys(), k)) for k in itertools.product(*sage_model.values())]"
   ]
  },
  {
   "cell_type": "code",
   "execution_count": 54,
   "metadata": {
    "collapsed": false,
    "pycharm": {
     "name": "#%%\n"
    }
   },
   "outputs": [
    {
     "name": "stderr",
     "output_type": "stream",
     "text": [
      "  0%|          | 38/23328 [01:45<17:55:24,  2.77s/it]\n"
     ]
    },
    {
     "ename": "KeyboardInterrupt",
     "evalue": "",
     "output_type": "error",
     "traceback": [
      "\u001b[1;31m---------------------------------------------------------------------------\u001b[0m",
      "\u001b[1;31mKeyboardInterrupt\u001b[0m                         Traceback (most recent call last)",
      "\u001b[1;32mc:\\Users\\vibal\\PycharmProjects\\systemic-risk-predictor\\notebooks\\small_network\\models_training.ipynb Cell 31'\u001b[0m in \u001b[0;36m<cell line: 1>\u001b[1;34m()\u001b[0m\n\u001b[0;32m     <a href='vscode-notebook-cell:/c%3A/Users/vibal/PycharmProjects/systemic-risk-predictor/notebooks/small_network/models_training.ipynb#ch0000054?line=9'>10</a>\u001b[0m dataset_valid \u001b[39m=\u001b[39m ContagionDataset(\n\u001b[0;32m     <a href='vscode-notebook-cell:/c%3A/Users/vibal/PycharmProjects/systemic-risk-predictor/notebooks/small_network/models_training.ipynb#ch0000054?line=10'>11</a>\u001b[0m     raw_dir\u001b[39m=\u001b[39mdata_dir,\n\u001b[0;32m     <a href='vscode-notebook-cell:/c%3A/Users/vibal/PycharmProjects/systemic-risk-predictor/notebooks/small_network/models_training.ipynb#ch0000054?line=11'>12</a>\u001b[0m     drop_edges\u001b[39m=\u001b[39m\u001b[39m0\u001b[39m,\n\u001b[1;32m   (...)\u001b[0m\n\u001b[0;32m     <a href='vscode-notebook-cell:/c%3A/Users/vibal/PycharmProjects/systemic-risk-predictor/notebooks/small_network/models_training.ipynb#ch0000054?line=15'>16</a>\u001b[0m     seed\u001b[39m=\u001b[39mseed,\n\u001b[0;32m     <a href='vscode-notebook-cell:/c%3A/Users/vibal/PycharmProjects/systemic-risk-predictor/notebooks/small_network/models_training.ipynb#ch0000054?line=16'>17</a>\u001b[0m )\n\u001b[0;32m     <a href='vscode-notebook-cell:/c%3A/Users/vibal/PycharmProjects/systemic-risk-predictor/notebooks/small_network/models_training.ipynb#ch0000054?line=18'>19</a>\u001b[0m dataset_train \u001b[39m=\u001b[39m ContagionDataset(\n\u001b[0;32m     <a href='vscode-notebook-cell:/c%3A/Users/vibal/PycharmProjects/systemic-risk-predictor/notebooks/small_network/models_training.ipynb#ch0000054?line=19'>20</a>\u001b[0m     raw_dir\u001b[39m=\u001b[39mdata_dir,\n\u001b[0;32m     <a href='vscode-notebook-cell:/c%3A/Users/vibal/PycharmProjects/systemic-risk-predictor/notebooks/small_network/models_training.ipynb#ch0000054?line=20'>21</a>\u001b[0m     drop_edges\u001b[39m=\u001b[39mdrop_edges,\n\u001b[1;32m   (...)\u001b[0m\n\u001b[0;32m     <a href='vscode-notebook-cell:/c%3A/Users/vibal/PycharmProjects/systemic-risk-predictor/notebooks/small_network/models_training.ipynb#ch0000054?line=24'>25</a>\u001b[0m     seed\u001b[39m=\u001b[39mseed,\n\u001b[0;32m     <a href='vscode-notebook-cell:/c%3A/Users/vibal/PycharmProjects/systemic-risk-predictor/notebooks/small_network/models_training.ipynb#ch0000054?line=25'>26</a>\u001b[0m )\n\u001b[1;32m---> <a href='vscode-notebook-cell:/c%3A/Users/vibal/PycharmProjects/systemic-risk-predictor/notebooks/small_network/models_training.ipynb#ch0000054?line=27'>28</a>\u001b[0m train(\n\u001b[0;32m     <a href='vscode-notebook-cell:/c%3A/Users/vibal/PycharmProjects/systemic-risk-predictor/notebooks/small_network/models_training.ipynb#ch0000054?line=28'>29</a>\u001b[0m     model\u001b[39m=\u001b[39;49mGraphSAGE(\u001b[39m*\u001b[39;49m\u001b[39m*\u001b[39;49md),\n\u001b[0;32m     <a href='vscode-notebook-cell:/c%3A/Users/vibal/PycharmProjects/systemic-risk-predictor/notebooks/small_network/models_training.ipynb#ch0000054?line=29'>30</a>\u001b[0m     dict_model\u001b[39m=\u001b[39;49md,\n\u001b[0;32m     <a href='vscode-notebook-cell:/c%3A/Users/vibal/PycharmProjects/systemic-risk-predictor/notebooks/small_network/models_training.ipynb#ch0000054?line=30'>31</a>\u001b[0m     dataset_train\u001b[39m=\u001b[39;49mdataset_train,\n\u001b[0;32m     <a href='vscode-notebook-cell:/c%3A/Users/vibal/PycharmProjects/systemic-risk-predictor/notebooks/small_network/models_training.ipynb#ch0000054?line=31'>32</a>\u001b[0m     dataset_val\u001b[39m=\u001b[39;49mdataset_valid,\n\u001b[0;32m     <a href='vscode-notebook-cell:/c%3A/Users/vibal/PycharmProjects/systemic-risk-predictor/notebooks/small_network/models_training.ipynb#ch0000054?line=32'>33</a>\u001b[0m     log_dir\u001b[39m=\u001b[39;49mlog_dir,\n\u001b[0;32m     <a href='vscode-notebook-cell:/c%3A/Users/vibal/PycharmProjects/systemic-risk-predictor/notebooks/small_network/models_training.ipynb#ch0000054?line=33'>34</a>\u001b[0m     save_path\u001b[39m=\u001b[39;49msave_model,\n\u001b[0;32m     <a href='vscode-notebook-cell:/c%3A/Users/vibal/PycharmProjects/systemic-risk-predictor/notebooks/small_network/models_training.ipynb#ch0000054?line=34'>35</a>\u001b[0m     lr\u001b[39m=\u001b[39;49mlr,\n\u001b[0;32m     <a href='vscode-notebook-cell:/c%3A/Users/vibal/PycharmProjects/systemic-risk-predictor/notebooks/small_network/models_training.ipynb#ch0000054?line=35'>36</a>\u001b[0m     optimizer_name\u001b[39m=\u001b[39;49m\u001b[39m\"\u001b[39;49m\u001b[39madamw\u001b[39;49m\u001b[39m\"\u001b[39;49m,\n\u001b[0;32m     <a href='vscode-notebook-cell:/c%3A/Users/vibal/PycharmProjects/systemic-risk-predictor/notebooks/small_network/models_training.ipynb#ch0000054?line=36'>37</a>\u001b[0m     n_epochs\u001b[39m=\u001b[39;49m\u001b[39m100\u001b[39;49m,\n\u001b[0;32m     <a href='vscode-notebook-cell:/c%3A/Users/vibal/PycharmProjects/systemic-risk-predictor/notebooks/small_network/models_training.ipynb#ch0000054?line=37'>38</a>\u001b[0m     scheduler_mode\u001b[39m=\u001b[39;49m\u001b[39m'\u001b[39;49m\u001b[39mmax_val_acc\u001b[39;49m\u001b[39m'\u001b[39;49m,\n\u001b[0;32m     <a href='vscode-notebook-cell:/c%3A/Users/vibal/PycharmProjects/systemic-risk-predictor/notebooks/small_network/models_training.ipynb#ch0000054?line=38'>39</a>\u001b[0m     debug_mode\u001b[39m=\u001b[39;49m\u001b[39mFalse\u001b[39;49;00m,\n\u001b[0;32m     <a href='vscode-notebook-cell:/c%3A/Users/vibal/PycharmProjects/systemic-risk-predictor/notebooks/small_network/models_training.ipynb#ch0000054?line=39'>40</a>\u001b[0m     steps_validate\u001b[39m=\u001b[39;49m\u001b[39m1\u001b[39;49m,\n\u001b[0;32m     <a href='vscode-notebook-cell:/c%3A/Users/vibal/PycharmProjects/systemic-risk-predictor/notebooks/small_network/models_training.ipynb#ch0000054?line=40'>41</a>\u001b[0m     use_cpu\u001b[39m=\u001b[39;49m\u001b[39mFalse\u001b[39;49;00m,\n\u001b[0;32m     <a href='vscode-notebook-cell:/c%3A/Users/vibal/PycharmProjects/systemic-risk-predictor/notebooks/small_network/models_training.ipynb#ch0000054?line=41'>42</a>\u001b[0m     label_smoothing\u001b[39m=\u001b[39;49mls,\n\u001b[0;32m     <a href='vscode-notebook-cell:/c%3A/Users/vibal/PycharmProjects/systemic-risk-predictor/notebooks/small_network/models_training.ipynb#ch0000054?line=42'>43</a>\u001b[0m     use_edge_weight\u001b[39m=\u001b[39;49muse_edge_weight,\n\u001b[0;32m     <a href='vscode-notebook-cell:/c%3A/Users/vibal/PycharmProjects/systemic-risk-predictor/notebooks/small_network/models_training.ipynb#ch0000054?line=43'>44</a>\u001b[0m )\n",
      "File \u001b[1;32mc:\\Users\\vibal\\PycharmProjects\\systemic-risk-predictor\\notebooks\\small_network\\../..\\models\\train.py:145\u001b[0m, in \u001b[0;36mtrain\u001b[1;34m(model, dict_model, dataset_train, dataset_val, log_dir, save_path, lr, optimizer_name, n_epochs, scheduler_mode, debug_mode, steps_validate, use_cpu, label_smoothing, use_edge_weight)\u001b[0m\n\u001b[0;32m    <a href='file:///c%3A/Users/vibal/PycharmProjects/systemic-risk-predictor/notebooks/small_network/../../models/train.py?line=142'>143</a>\u001b[0m \u001b[39m# Start training: train mode\u001b[39;00m\n\u001b[0;32m    <a href='file:///c%3A/Users/vibal/PycharmProjects/systemic-risk-predictor/notebooks/small_network/../../models/train.py?line=143'>144</a>\u001b[0m model\u001b[39m.\u001b[39mtrain()\n\u001b[1;32m--> <a href='file:///c%3A/Users/vibal/PycharmProjects/systemic-risk-predictor/notebooks/small_network/../../models/train.py?line=144'>145</a>\u001b[0m \u001b[39mfor\u001b[39;00m g \u001b[39min\u001b[39;00m dataset_train:\n\u001b[0;32m    <a href='file:///c%3A/Users/vibal/PycharmProjects/systemic-risk-predictor/notebooks/small_network/../../models/train.py?line=145'>146</a>\u001b[0m     g \u001b[39m=\u001b[39m g\u001b[39m.\u001b[39mto(device)\n\u001b[0;32m    <a href='file:///c%3A/Users/vibal/PycharmProjects/systemic-risk-predictor/notebooks/small_network/../../models/train.py?line=147'>148</a>\u001b[0m     \u001b[39m# Get data\u001b[39;00m\n",
      "File \u001b[1;32mc:\\Users\\vibal\\PycharmProjects\\systemic-risk-predictor\\notebooks\\small_network\\../..\\models\\utils.py:134\u001b[0m, in \u001b[0;36mContagionDataset.__getitem__\u001b[1;34m(self, i)\u001b[0m\n\u001b[0;32m    <a href='file:///c%3A/Users/vibal/PycharmProjects/systemic-risk-predictor/notebooks/small_network/../../models/utils.py?line=131'>132</a>\u001b[0m \u001b[39m# add self loops\u001b[39;00m\n\u001b[0;32m    <a href='file:///c%3A/Users/vibal/PycharmProjects/systemic-risk-predictor/notebooks/small_network/../../models/utils.py?line=132'>133</a>\u001b[0m \u001b[39mif\u001b[39;00m \u001b[39mself\u001b[39m\u001b[39m.\u001b[39madd_self_loop:\n\u001b[1;32m--> <a href='file:///c%3A/Users/vibal/PycharmProjects/systemic-risk-predictor/notebooks/small_network/../../models/utils.py?line=133'>134</a>\u001b[0m     k \u001b[39m=\u001b[39m k\u001b[39m.\u001b[39;49mremove_self_loop()\u001b[39m.\u001b[39madd_self_loop()\n\u001b[0;32m    <a href='file:///c%3A/Users/vibal/PycharmProjects/systemic-risk-predictor/notebooks/small_network/../../models/utils.py?line=135'>136</a>\u001b[0m \u001b[39mreturn\u001b[39;00m k\n",
      "File \u001b[1;32mc:\\Users\\vibal\\PycharmProjects\\systemic-risk-predictor\\venv\\lib\\site-packages\\dgl\\utils\\internal.py:904\u001b[0m, in \u001b[0;36malias_func.<locals>._fn\u001b[1;34m(*args, **kwargs)\u001b[0m\n\u001b[0;32m    <a href='file:///c%3A/Users/vibal/PycharmProjects/systemic-risk-predictor/venv/lib/site-packages/dgl/utils/internal.py?line=901'>902</a>\u001b[0m \u001b[39m@wraps\u001b[39m(func)\n\u001b[0;32m    <a href='file:///c%3A/Users/vibal/PycharmProjects/systemic-risk-predictor/venv/lib/site-packages/dgl/utils/internal.py?line=902'>903</a>\u001b[0m \u001b[39mdef\u001b[39;00m \u001b[39m_fn\u001b[39m(\u001b[39m*\u001b[39margs, \u001b[39m*\u001b[39m\u001b[39m*\u001b[39mkwargs):\n\u001b[1;32m--> <a href='file:///c%3A/Users/vibal/PycharmProjects/systemic-risk-predictor/venv/lib/site-packages/dgl/utils/internal.py?line=903'>904</a>\u001b[0m     \u001b[39mreturn\u001b[39;00m func(\u001b[39m*\u001b[39margs, \u001b[39m*\u001b[39m\u001b[39m*\u001b[39mkwargs)\n",
      "File \u001b[1;32mc:\\Users\\vibal\\PycharmProjects\\systemic-risk-predictor\\venv\\lib\\site-packages\\dgl\\transform.py:1877\u001b[0m, in \u001b[0;36mremove_self_loop\u001b[1;34m(g, etype)\u001b[0m\n\u001b[0;32m   <a href='file:///c%3A/Users/vibal/PycharmProjects/systemic-risk-predictor/venv/lib/site-packages/dgl/transform.py?line=1874'>1875</a>\u001b[0m u, v \u001b[39m=\u001b[39m g\u001b[39m.\u001b[39medges(form\u001b[39m=\u001b[39m\u001b[39m'\u001b[39m\u001b[39muv\u001b[39m\u001b[39m'\u001b[39m, order\u001b[39m=\u001b[39m\u001b[39m'\u001b[39m\u001b[39meid\u001b[39m\u001b[39m'\u001b[39m, etype\u001b[39m=\u001b[39metype)\n\u001b[0;32m   <a href='file:///c%3A/Users/vibal/PycharmProjects/systemic-risk-predictor/venv/lib/site-packages/dgl/transform.py?line=1875'>1876</a>\u001b[0m self_loop_eids \u001b[39m=\u001b[39m F\u001b[39m.\u001b[39mtensor(F\u001b[39m.\u001b[39mnonzero_1d(u \u001b[39m==\u001b[39m v), dtype\u001b[39m=\u001b[39mF\u001b[39m.\u001b[39mdtype(u))\n\u001b[1;32m-> <a href='file:///c%3A/Users/vibal/PycharmProjects/systemic-risk-predictor/venv/lib/site-packages/dgl/transform.py?line=1876'>1877</a>\u001b[0m new_g \u001b[39m=\u001b[39m remove_edges(g, self_loop_eids, etype\u001b[39m=\u001b[39;49metype)\n\u001b[0;32m   <a href='file:///c%3A/Users/vibal/PycharmProjects/systemic-risk-predictor/venv/lib/site-packages/dgl/transform.py?line=1877'>1878</a>\u001b[0m \u001b[39mreturn\u001b[39;00m new_g\n",
      "File \u001b[1;32mc:\\Users\\vibal\\PycharmProjects\\systemic-risk-predictor\\venv\\lib\\site-packages\\dgl\\transform.py:1638\u001b[0m, in \u001b[0;36mremove_edges\u001b[1;34m(g, eids, etype, store_ids)\u001b[0m\n\u001b[0;32m   <a href='file:///c%3A/Users/vibal/PycharmProjects/systemic-risk-predictor/venv/lib/site-packages/dgl/transform.py?line=1563'>1564</a>\u001b[0m \u001b[39mdef\u001b[39;00m \u001b[39mremove_edges\u001b[39m(g, eids, etype\u001b[39m=\u001b[39m\u001b[39mNone\u001b[39;00m, store_ids\u001b[39m=\u001b[39m\u001b[39mFalse\u001b[39;00m):\n\u001b[0;32m   <a href='file:///c%3A/Users/vibal/PycharmProjects/systemic-risk-predictor/venv/lib/site-packages/dgl/transform.py?line=1564'>1565</a>\u001b[0m     \u001b[39mr\u001b[39m\u001b[39m\"\"\"Remove the specified edges and return a new graph.\u001b[39;00m\n\u001b[0;32m   <a href='file:///c%3A/Users/vibal/PycharmProjects/systemic-risk-predictor/venv/lib/site-packages/dgl/transform.py?line=1565'>1566</a>\u001b[0m \n\u001b[0;32m   <a href='file:///c%3A/Users/vibal/PycharmProjects/systemic-risk-predictor/venv/lib/site-packages/dgl/transform.py?line=1566'>1567</a>\u001b[0m \u001b[39m    Also delete the features of the edges. The edges must exist in the graph.\u001b[39;00m\n\u001b[1;32m   (...)\u001b[0m\n\u001b[0;32m   <a href='file:///c%3A/Users/vibal/PycharmProjects/systemic-risk-predictor/venv/lib/site-packages/dgl/transform.py?line=1635'>1636</a>\u001b[0m \u001b[39m    remove_nodes\u001b[39;00m\n\u001b[0;32m   <a href='file:///c%3A/Users/vibal/PycharmProjects/systemic-risk-predictor/venv/lib/site-packages/dgl/transform.py?line=1636'>1637</a>\u001b[0m \u001b[39m    \"\"\"\u001b[39;00m\n\u001b[1;32m-> <a href='file:///c%3A/Users/vibal/PycharmProjects/systemic-risk-predictor/venv/lib/site-packages/dgl/transform.py?line=1637'>1638</a>\u001b[0m     g \u001b[39m=\u001b[39m g\u001b[39m.\u001b[39;49mclone()\n\u001b[0;32m   <a href='file:///c%3A/Users/vibal/PycharmProjects/systemic-risk-predictor/venv/lib/site-packages/dgl/transform.py?line=1638'>1639</a>\u001b[0m     g\u001b[39m.\u001b[39mremove_edges(eids, etype\u001b[39m=\u001b[39metype, store_ids\u001b[39m=\u001b[39mstore_ids)\n\u001b[0;32m   <a href='file:///c%3A/Users/vibal/PycharmProjects/systemic-risk-predictor/venv/lib/site-packages/dgl/transform.py?line=1639'>1640</a>\u001b[0m     \u001b[39mreturn\u001b[39;00m g\n",
      "File \u001b[1;32mc:\\Users\\vibal\\PycharmProjects\\systemic-risk-predictor\\venv\\lib\\site-packages\\dgl\\heterograph.py:5460\u001b[0m, in \u001b[0;36mDGLHeteroGraph.clone\u001b[1;34m(self)\u001b[0m\n\u001b[0;32m   <a href='file:///c%3A/Users/vibal/PycharmProjects/systemic-risk-predictor/venv/lib/site-packages/dgl/heterograph.py?line=5456'>5457</a>\u001b[0m num_nodes_per_type \u001b[39m=\u001b[39m [\u001b[39mself\u001b[39m\u001b[39m.\u001b[39mnumber_of_nodes(c_ntype) \u001b[39mfor\u001b[39;00m c_ntype \u001b[39min\u001b[39;00m \u001b[39mself\u001b[39m\u001b[39m.\u001b[39mntypes]\n\u001b[0;32m   <a href='file:///c%3A/Users/vibal/PycharmProjects/systemic-risk-predictor/venv/lib/site-packages/dgl/heterograph.py?line=5457'>5458</a>\u001b[0m relation_graphs \u001b[39m=\u001b[39m [\u001b[39mself\u001b[39m\u001b[39m.\u001b[39m_graph\u001b[39m.\u001b[39mget_relation_graph(\u001b[39mself\u001b[39m\u001b[39m.\u001b[39mget_etype_id(c_etype))\n\u001b[0;32m   <a href='file:///c%3A/Users/vibal/PycharmProjects/systemic-risk-predictor/venv/lib/site-packages/dgl/heterograph.py?line=5458'>5459</a>\u001b[0m                    \u001b[39mfor\u001b[39;00m c_etype \u001b[39min\u001b[39;00m \u001b[39mself\u001b[39m\u001b[39m.\u001b[39mcanonical_etypes]\n\u001b[1;32m-> <a href='file:///c%3A/Users/vibal/PycharmProjects/systemic-risk-predictor/venv/lib/site-packages/dgl/heterograph.py?line=5459'>5460</a>\u001b[0m ret\u001b[39m.\u001b[39m_graph \u001b[39m=\u001b[39m heterograph_index\u001b[39m.\u001b[39;49mcreate_heterograph_from_relations(\n\u001b[0;32m   <a href='file:///c%3A/Users/vibal/PycharmProjects/systemic-risk-predictor/venv/lib/site-packages/dgl/heterograph.py?line=5460'>5461</a>\u001b[0m     metagraph, relation_graphs, utils\u001b[39m.\u001b[39;49mtoindex(num_nodes_per_type, \u001b[39m\"\u001b[39;49m\u001b[39mint64\u001b[39;49m\u001b[39m\"\u001b[39;49m))\n\u001b[0;32m   <a href='file:///c%3A/Users/vibal/PycharmProjects/systemic-risk-predictor/venv/lib/site-packages/dgl/heterograph.py?line=5462'>5463</a>\u001b[0m \u001b[39m# Clone the frames\u001b[39;00m\n\u001b[0;32m   <a href='file:///c%3A/Users/vibal/PycharmProjects/systemic-risk-predictor/venv/lib/site-packages/dgl/heterograph.py?line=5463'>5464</a>\u001b[0m ret\u001b[39m.\u001b[39m_node_frames \u001b[39m=\u001b[39m [fr\u001b[39m.\u001b[39mclone() \u001b[39mfor\u001b[39;00m fr \u001b[39min\u001b[39;00m \u001b[39mself\u001b[39m\u001b[39m.\u001b[39m_node_frames]\n",
      "File \u001b[1;32mc:\\Users\\vibal\\PycharmProjects\\systemic-risk-predictor\\venv\\lib\\site-packages\\dgl\\heterograph_index.py:1161\u001b[0m, in \u001b[0;36mcreate_heterograph_from_relations\u001b[1;34m(metagraph, rel_graphs, num_nodes_per_type)\u001b[0m\n\u001b[0;32m   <a href='file:///c%3A/Users/vibal/PycharmProjects/systemic-risk-predictor/venv/lib/site-packages/dgl/heterograph_index.py?line=1158'>1159</a>\u001b[0m     \u001b[39mreturn\u001b[39;00m _CAPI_DGLHeteroCreateHeteroGraph(metagraph, rel_graphs)\n\u001b[0;32m   <a href='file:///c%3A/Users/vibal/PycharmProjects/systemic-risk-predictor/venv/lib/site-packages/dgl/heterograph_index.py?line=1159'>1160</a>\u001b[0m \u001b[39melse\u001b[39;00m:\n\u001b[1;32m-> <a href='file:///c%3A/Users/vibal/PycharmProjects/systemic-risk-predictor/venv/lib/site-packages/dgl/heterograph_index.py?line=1160'>1161</a>\u001b[0m     \u001b[39mreturn\u001b[39;00m _CAPI_DGLHeteroCreateHeteroGraphWithNumNodes(\n\u001b[0;32m   <a href='file:///c%3A/Users/vibal/PycharmProjects/systemic-risk-predictor/venv/lib/site-packages/dgl/heterograph_index.py?line=1161'>1162</a>\u001b[0m         metagraph, rel_graphs, num_nodes_per_type\u001b[39m.\u001b[39;49mtodgltensor())\n",
      "File \u001b[1;32mc:\\Users\\vibal\\PycharmProjects\\systemic-risk-predictor\\venv\\lib\\site-packages\\dgl\\_ffi\\_ctypes\\function.py:188\u001b[0m, in \u001b[0;36mFunctionBase.__call__\u001b[1;34m(self, *args)\u001b[0m\n\u001b[0;32m    <a href='file:///c%3A/Users/vibal/PycharmProjects/systemic-risk-predictor/venv/lib/site-packages/dgl/_ffi/_ctypes/function.py?line=185'>186</a>\u001b[0m ret_val \u001b[39m=\u001b[39m DGLValue()\n\u001b[0;32m    <a href='file:///c%3A/Users/vibal/PycharmProjects/systemic-risk-predictor/venv/lib/site-packages/dgl/_ffi/_ctypes/function.py?line=186'>187</a>\u001b[0m ret_tcode \u001b[39m=\u001b[39m ctypes\u001b[39m.\u001b[39mc_int()\n\u001b[1;32m--> <a href='file:///c%3A/Users/vibal/PycharmProjects/systemic-risk-predictor/venv/lib/site-packages/dgl/_ffi/_ctypes/function.py?line=187'>188</a>\u001b[0m check_call(_LIB\u001b[39m.\u001b[39;49mDGLFuncCall(\n\u001b[0;32m    <a href='file:///c%3A/Users/vibal/PycharmProjects/systemic-risk-predictor/venv/lib/site-packages/dgl/_ffi/_ctypes/function.py?line=188'>189</a>\u001b[0m     \u001b[39mself\u001b[39;49m\u001b[39m.\u001b[39;49mhandle, values, tcodes, ctypes\u001b[39m.\u001b[39;49mc_int(num_args),\n\u001b[0;32m    <a href='file:///c%3A/Users/vibal/PycharmProjects/systemic-risk-predictor/venv/lib/site-packages/dgl/_ffi/_ctypes/function.py?line=189'>190</a>\u001b[0m     ctypes\u001b[39m.\u001b[39;49mbyref(ret_val), ctypes\u001b[39m.\u001b[39;49mbyref(ret_tcode)))\n\u001b[0;32m    <a href='file:///c%3A/Users/vibal/PycharmProjects/systemic-risk-predictor/venv/lib/site-packages/dgl/_ffi/_ctypes/function.py?line=190'>191</a>\u001b[0m _ \u001b[39m=\u001b[39m temp_args\n\u001b[0;32m    <a href='file:///c%3A/Users/vibal/PycharmProjects/systemic-risk-predictor/venv/lib/site-packages/dgl/_ffi/_ctypes/function.py?line=191'>192</a>\u001b[0m _ \u001b[39m=\u001b[39m args\n",
      "\u001b[1;31mKeyboardInterrupt\u001b[0m: "
     ]
    }
   ],
   "source": [
    "if do_train:\n",
    "    for d in tqdm(list_model):\n",
    "        d = d.copy()\n",
    "        lr = d.pop('lr')\n",
    "        ls = d.pop('label_smoothing')\n",
    "        add_self_loop = d.pop('add_self_loop')\n",
    "        drop_edges = d.pop('drop_edges')\n",
    "        use_edge_weight = d.pop('use_edge_weight')\n",
    "\n",
    "        dataset_valid = ContagionDataset(\n",
    "            raw_dir=data_dir,\n",
    "            drop_edges=0,\n",
    "            sets_lengths=sets_lengths,\n",
    "            add_self_loop = add_self_loop,\n",
    "            target = target,\n",
    "            seed=seed,\n",
    "        )\n",
    "\n",
    "        dataset_train = ContagionDataset(\n",
    "            raw_dir=data_dir,\n",
    "            drop_edges=drop_edges,\n",
    "            sets_lengths=sets_lengths,\n",
    "            add_self_loop = add_self_loop,\n",
    "            target = target,\n",
    "            seed=seed,\n",
    "        )\n",
    "\n",
    "        train(\n",
    "            model=GraphSAGE(**d),\n",
    "            dict_model=d,\n",
    "            dataset_train=dataset_train,\n",
    "            dataset_val=dataset_valid,\n",
    "            log_dir=log_dir,\n",
    "            save_path=save_model,\n",
    "            lr=lr,\n",
    "            optimizer_name=\"adamw\",\n",
    "            n_epochs=100,\n",
    "            scheduler_mode='max_val_acc',\n",
    "            debug_mode=False,\n",
    "            steps_validate=1,\n",
    "            use_cpu=False,\n",
    "            label_smoothing=ls,\n",
    "            use_edge_weight=use_edge_weight,\n",
    "        )"
   ]
  },
  {
   "cell_type": "markdown",
   "metadata": {
    "collapsed": false
   },
   "source": [
    "### GAT"
   ]
  },
  {
   "cell_type": "code",
   "execution_count": 18,
   "metadata": {},
   "outputs": [],
   "source": [
    "save_model = f'{save_path}_gat'\n",
    "log_dir = f'{log_path}_gat'\n",
    "\n",
    "add_self_loop = True\n",
    "\n",
    "dataset_val = ContagionDataset(\n",
    "    raw_dir=data_dir,\n",
    "    drop_edges=0,\n",
    "    sets_lengths=sets_lengths,\n",
    "    add_self_loop = add_self_loop,\n",
    "    target = target,\n",
    "    seed=seed,\n",
    ")\n",
    "\n",
    "gat_model = dict(\n",
    "    in_features = [dataset.num_node_features],\n",
    "    h_features = [[5, 10], [10, 15], [5,5,5], [5, 10, 15], [5], [10]], \n",
    "    out_features = [dataset.num_classes],\n",
    "    num_heads = [[dataset.num_node_features] * 4],\n",
    "    norm_nodes = [None, 'bn', 'gn'],\n",
    "    activation = [None, torch.nn.ReLU()],\n",
    "    negative_slope = [0.2],\n",
    "    feat_drop = [0.2],\n",
    "    attn_drop = [0.2],\n",
    "    residual = [False, True],\n",
    "    # other\n",
    "    lr=[1e-2, 1, 1e-3],\n",
    "    label_smoothing=[0.0, 0.2, 0.4],\n",
    "    use_edge_weight=[True, False],\n",
    "    drop_edges=[0,0.2,0.4],\n",
    ")\n",
    "list_model = [dict(zip(gat_model.keys(), k)) for k in itertools.product(*gat_model.values())]"
   ]
  },
  {
   "cell_type": "code",
   "execution_count": 19,
   "metadata": {
    "collapsed": false,
    "pycharm": {
     "name": "#%%\n"
    }
   },
   "outputs": [
    {
     "name": "stderr",
     "output_type": "stream",
     "text": [
      "  0%|          | 2/3888 [00:07<4:15:28,  3.94s/it]\n"
     ]
    },
    {
     "ename": "KeyboardInterrupt",
     "evalue": "",
     "output_type": "error",
     "traceback": [
      "\u001b[1;31m---------------------------------------------------------------------------\u001b[0m",
      "\u001b[1;31mKeyboardInterrupt\u001b[0m                         Traceback (most recent call last)",
      "\u001b[1;32mc:\\Users\\vibal\\PycharmProjects\\systemic-risk-predictor\\notebooks\\small_network\\models_training.ipynb Cell 34'\u001b[0m in \u001b[0;36m<cell line: 1>\u001b[1;34m()\u001b[0m\n\u001b[0;32m      <a href='vscode-notebook-cell:/c%3A/Users/vibal/PycharmProjects/systemic-risk-predictor/notebooks/small_network/models_training.ipynb#ch0000056?line=8'>9</a>\u001b[0m dataset_valid \u001b[39m=\u001b[39m ContagionDataset(\n\u001b[0;32m     <a href='vscode-notebook-cell:/c%3A/Users/vibal/PycharmProjects/systemic-risk-predictor/notebooks/small_network/models_training.ipynb#ch0000056?line=9'>10</a>\u001b[0m     raw_dir\u001b[39m=\u001b[39mdata_dir,\n\u001b[0;32m     <a href='vscode-notebook-cell:/c%3A/Users/vibal/PycharmProjects/systemic-risk-predictor/notebooks/small_network/models_training.ipynb#ch0000056?line=10'>11</a>\u001b[0m     drop_edges\u001b[39m=\u001b[39m\u001b[39m0\u001b[39m,\n\u001b[1;32m   (...)\u001b[0m\n\u001b[0;32m     <a href='vscode-notebook-cell:/c%3A/Users/vibal/PycharmProjects/systemic-risk-predictor/notebooks/small_network/models_training.ipynb#ch0000056?line=14'>15</a>\u001b[0m     seed\u001b[39m=\u001b[39mseed,\n\u001b[0;32m     <a href='vscode-notebook-cell:/c%3A/Users/vibal/PycharmProjects/systemic-risk-predictor/notebooks/small_network/models_training.ipynb#ch0000056?line=15'>16</a>\u001b[0m )\n\u001b[0;32m     <a href='vscode-notebook-cell:/c%3A/Users/vibal/PycharmProjects/systemic-risk-predictor/notebooks/small_network/models_training.ipynb#ch0000056?line=17'>18</a>\u001b[0m dataset_train \u001b[39m=\u001b[39m ContagionDataset(\n\u001b[0;32m     <a href='vscode-notebook-cell:/c%3A/Users/vibal/PycharmProjects/systemic-risk-predictor/notebooks/small_network/models_training.ipynb#ch0000056?line=18'>19</a>\u001b[0m     raw_dir\u001b[39m=\u001b[39mdata_dir,\n\u001b[0;32m     <a href='vscode-notebook-cell:/c%3A/Users/vibal/PycharmProjects/systemic-risk-predictor/notebooks/small_network/models_training.ipynb#ch0000056?line=19'>20</a>\u001b[0m     drop_edges\u001b[39m=\u001b[39mdrop_edges,\n\u001b[1;32m   (...)\u001b[0m\n\u001b[0;32m     <a href='vscode-notebook-cell:/c%3A/Users/vibal/PycharmProjects/systemic-risk-predictor/notebooks/small_network/models_training.ipynb#ch0000056?line=23'>24</a>\u001b[0m     seed\u001b[39m=\u001b[39mseed,\n\u001b[0;32m     <a href='vscode-notebook-cell:/c%3A/Users/vibal/PycharmProjects/systemic-risk-predictor/notebooks/small_network/models_training.ipynb#ch0000056?line=24'>25</a>\u001b[0m )\n\u001b[1;32m---> <a href='vscode-notebook-cell:/c%3A/Users/vibal/PycharmProjects/systemic-risk-predictor/notebooks/small_network/models_training.ipynb#ch0000056?line=26'>27</a>\u001b[0m train(\n\u001b[0;32m     <a href='vscode-notebook-cell:/c%3A/Users/vibal/PycharmProjects/systemic-risk-predictor/notebooks/small_network/models_training.ipynb#ch0000056?line=27'>28</a>\u001b[0m     model\u001b[39m=\u001b[39;49mGAT(\u001b[39m*\u001b[39;49m\u001b[39m*\u001b[39;49md),\n\u001b[0;32m     <a href='vscode-notebook-cell:/c%3A/Users/vibal/PycharmProjects/systemic-risk-predictor/notebooks/small_network/models_training.ipynb#ch0000056?line=28'>29</a>\u001b[0m     dict_model\u001b[39m=\u001b[39;49md,\n\u001b[0;32m     <a href='vscode-notebook-cell:/c%3A/Users/vibal/PycharmProjects/systemic-risk-predictor/notebooks/small_network/models_training.ipynb#ch0000056?line=29'>30</a>\u001b[0m     dataset_train\u001b[39m=\u001b[39;49mdataset_train,\n\u001b[0;32m     <a href='vscode-notebook-cell:/c%3A/Users/vibal/PycharmProjects/systemic-risk-predictor/notebooks/small_network/models_training.ipynb#ch0000056?line=30'>31</a>\u001b[0m     dataset_val\u001b[39m=\u001b[39;49mdataset_valid,\n\u001b[0;32m     <a href='vscode-notebook-cell:/c%3A/Users/vibal/PycharmProjects/systemic-risk-predictor/notebooks/small_network/models_training.ipynb#ch0000056?line=31'>32</a>\u001b[0m     log_dir\u001b[39m=\u001b[39;49mlog_dir,\n\u001b[0;32m     <a href='vscode-notebook-cell:/c%3A/Users/vibal/PycharmProjects/systemic-risk-predictor/notebooks/small_network/models_training.ipynb#ch0000056?line=32'>33</a>\u001b[0m     save_path\u001b[39m=\u001b[39;49msave_model,\n\u001b[0;32m     <a href='vscode-notebook-cell:/c%3A/Users/vibal/PycharmProjects/systemic-risk-predictor/notebooks/small_network/models_training.ipynb#ch0000056?line=33'>34</a>\u001b[0m     lr\u001b[39m=\u001b[39;49mlr,\n\u001b[0;32m     <a href='vscode-notebook-cell:/c%3A/Users/vibal/PycharmProjects/systemic-risk-predictor/notebooks/small_network/models_training.ipynb#ch0000056?line=34'>35</a>\u001b[0m     optimizer_name\u001b[39m=\u001b[39;49m\u001b[39m\"\u001b[39;49m\u001b[39madamw\u001b[39;49m\u001b[39m\"\u001b[39;49m,\n\u001b[0;32m     <a href='vscode-notebook-cell:/c%3A/Users/vibal/PycharmProjects/systemic-risk-predictor/notebooks/small_network/models_training.ipynb#ch0000056?line=35'>36</a>\u001b[0m     n_epochs\u001b[39m=\u001b[39;49m\u001b[39m100\u001b[39;49m,\n\u001b[0;32m     <a href='vscode-notebook-cell:/c%3A/Users/vibal/PycharmProjects/systemic-risk-predictor/notebooks/small_network/models_training.ipynb#ch0000056?line=36'>37</a>\u001b[0m     scheduler_mode\u001b[39m=\u001b[39;49m\u001b[39m'\u001b[39;49m\u001b[39mmax_val_acc\u001b[39;49m\u001b[39m'\u001b[39;49m,\n\u001b[0;32m     <a href='vscode-notebook-cell:/c%3A/Users/vibal/PycharmProjects/systemic-risk-predictor/notebooks/small_network/models_training.ipynb#ch0000056?line=37'>38</a>\u001b[0m     debug_mode\u001b[39m=\u001b[39;49m\u001b[39mFalse\u001b[39;49;00m,\n\u001b[0;32m     <a href='vscode-notebook-cell:/c%3A/Users/vibal/PycharmProjects/systemic-risk-predictor/notebooks/small_network/models_training.ipynb#ch0000056?line=38'>39</a>\u001b[0m     steps_validate\u001b[39m=\u001b[39;49m\u001b[39m1\u001b[39;49m,\n\u001b[0;32m     <a href='vscode-notebook-cell:/c%3A/Users/vibal/PycharmProjects/systemic-risk-predictor/notebooks/small_network/models_training.ipynb#ch0000056?line=39'>40</a>\u001b[0m     use_cpu\u001b[39m=\u001b[39;49m\u001b[39mFalse\u001b[39;49;00m,\n\u001b[0;32m     <a href='vscode-notebook-cell:/c%3A/Users/vibal/PycharmProjects/systemic-risk-predictor/notebooks/small_network/models_training.ipynb#ch0000056?line=40'>41</a>\u001b[0m     label_smoothing\u001b[39m=\u001b[39;49mls,\n\u001b[0;32m     <a href='vscode-notebook-cell:/c%3A/Users/vibal/PycharmProjects/systemic-risk-predictor/notebooks/small_network/models_training.ipynb#ch0000056?line=41'>42</a>\u001b[0m     use_edge_weight\u001b[39m=\u001b[39;49muse_edge_weight,\n\u001b[0;32m     <a href='vscode-notebook-cell:/c%3A/Users/vibal/PycharmProjects/systemic-risk-predictor/notebooks/small_network/models_training.ipynb#ch0000056?line=42'>43</a>\u001b[0m )\n",
      "File \u001b[1;32mc:\\Users\\vibal\\PycharmProjects\\systemic-risk-predictor\\notebooks\\small_network\\../..\\models\\train.py:185\u001b[0m, in \u001b[0;36mtrain\u001b[1;34m(model, dict_model, dataset_train, dataset_val, log_dir, save_path, lr, optimizer_name, n_epochs, scheduler_mode, debug_mode, steps_validate, use_cpu, label_smoothing, use_edge_weight)\u001b[0m\n\u001b[0;32m    <a href='file:///c%3A/Users/vibal/PycharmProjects/systemic-risk-predictor/notebooks/small_network/../../models/train.py?line=181'>182</a>\u001b[0m val_mask \u001b[39m=\u001b[39m g\u001b[39m.\u001b[39mndata[\u001b[39m'\u001b[39m\u001b[39mval_mask\u001b[39m\u001b[39m'\u001b[39m]\u001b[39m.\u001b[39mto(device)\n\u001b[0;32m    <a href='file:///c%3A/Users/vibal/PycharmProjects/systemic-risk-predictor/notebooks/small_network/../../models/train.py?line=182'>183</a>\u001b[0m \u001b[39m# test_mask = g.ndata['test_mask']\u001b[39;00m\n\u001b[1;32m--> <a href='file:///c%3A/Users/vibal/PycharmProjects/systemic-risk-predictor/notebooks/small_network/../../models/train.py?line=184'>185</a>\u001b[0m logits \u001b[39m=\u001b[39m model(g, features, edge_weight\u001b[39m=\u001b[39;49medge_weight \u001b[39mif\u001b[39;49;00m use_edge_weight \u001b[39melse\u001b[39;49;00m \u001b[39mNone\u001b[39;49;00m)\n\u001b[0;32m    <a href='file:///c%3A/Users/vibal/PycharmProjects/systemic-risk-predictor/notebooks/small_network/../../models/train.py?line=186'>187</a>\u001b[0m \u001b[39m# Add loss and accuracy\u001b[39;00m\n\u001b[0;32m    <a href='file:///c%3A/Users/vibal/PycharmProjects/systemic-risk-predictor/notebooks/small_network/../../models/train.py?line=187'>188</a>\u001b[0m val_loss\u001b[39m.\u001b[39mappend(loss(logits[val_mask], labels[val_mask])\u001b[39m.\u001b[39mcpu()\u001b[39m.\u001b[39mdetach()\u001b[39m.\u001b[39mnumpy())\n",
      "File \u001b[1;32mc:\\Users\\vibal\\PycharmProjects\\systemic-risk-predictor\\venv\\lib\\site-packages\\torch\\nn\\modules\\module.py:1102\u001b[0m, in \u001b[0;36mModule._call_impl\u001b[1;34m(self, *input, **kwargs)\u001b[0m\n\u001b[0;32m   <a href='file:///c%3A/Users/vibal/PycharmProjects/systemic-risk-predictor/venv/lib/site-packages/torch/nn/modules/module.py?line=1097'>1098</a>\u001b[0m \u001b[39m# If we don't have any hooks, we want to skip the rest of the logic in\u001b[39;00m\n\u001b[0;32m   <a href='file:///c%3A/Users/vibal/PycharmProjects/systemic-risk-predictor/venv/lib/site-packages/torch/nn/modules/module.py?line=1098'>1099</a>\u001b[0m \u001b[39m# this function, and just call forward.\u001b[39;00m\n\u001b[0;32m   <a href='file:///c%3A/Users/vibal/PycharmProjects/systemic-risk-predictor/venv/lib/site-packages/torch/nn/modules/module.py?line=1099'>1100</a>\u001b[0m \u001b[39mif\u001b[39;00m \u001b[39mnot\u001b[39;00m (\u001b[39mself\u001b[39m\u001b[39m.\u001b[39m_backward_hooks \u001b[39mor\u001b[39;00m \u001b[39mself\u001b[39m\u001b[39m.\u001b[39m_forward_hooks \u001b[39mor\u001b[39;00m \u001b[39mself\u001b[39m\u001b[39m.\u001b[39m_forward_pre_hooks \u001b[39mor\u001b[39;00m _global_backward_hooks\n\u001b[0;32m   <a href='file:///c%3A/Users/vibal/PycharmProjects/systemic-risk-predictor/venv/lib/site-packages/torch/nn/modules/module.py?line=1100'>1101</a>\u001b[0m         \u001b[39mor\u001b[39;00m _global_forward_hooks \u001b[39mor\u001b[39;00m _global_forward_pre_hooks):\n\u001b[1;32m-> <a href='file:///c%3A/Users/vibal/PycharmProjects/systemic-risk-predictor/venv/lib/site-packages/torch/nn/modules/module.py?line=1101'>1102</a>\u001b[0m     \u001b[39mreturn\u001b[39;00m forward_call(\u001b[39m*\u001b[39m\u001b[39minput\u001b[39m, \u001b[39m*\u001b[39m\u001b[39m*\u001b[39mkwargs)\n\u001b[0;32m   <a href='file:///c%3A/Users/vibal/PycharmProjects/systemic-risk-predictor/venv/lib/site-packages/torch/nn/modules/module.py?line=1102'>1103</a>\u001b[0m \u001b[39m# Do not call functions when jit is used\u001b[39;00m\n\u001b[0;32m   <a href='file:///c%3A/Users/vibal/PycharmProjects/systemic-risk-predictor/venv/lib/site-packages/torch/nn/modules/module.py?line=1103'>1104</a>\u001b[0m full_backward_hooks, non_full_backward_hooks \u001b[39m=\u001b[39m [], []\n",
      "File \u001b[1;32mc:\\Users\\vibal\\PycharmProjects\\systemic-risk-predictor\\notebooks\\small_network\\../..\\models\\models.py:237\u001b[0m, in \u001b[0;36mGAT.forward\u001b[1;34m(self, g, feats, **kwargs)\u001b[0m\n\u001b[0;32m    <a href='file:///c%3A/Users/vibal/PycharmProjects/systemic-risk-predictor/notebooks/small_network/../../models/models.py?line=234'>235</a>\u001b[0m     h \u001b[39m=\u001b[39m n(g, h)\n\u001b[0;32m    <a href='file:///c%3A/Users/vibal/PycharmProjects/systemic-risk-predictor/notebooks/small_network/../../models/models.py?line=235'>236</a>\u001b[0m     \u001b[39m# flatten all except dimension 0 (number of nodes)\u001b[39;00m\n\u001b[1;32m--> <a href='file:///c%3A/Users/vibal/PycharmProjects/systemic-risk-predictor/notebooks/small_network/../../models/models.py?line=236'>237</a>\u001b[0m     h \u001b[39m=\u001b[39m l(g, h)\u001b[39m.\u001b[39mflatten(\u001b[39m1\u001b[39m)\n\u001b[0;32m    <a href='file:///c%3A/Users/vibal/PycharmProjects/systemic-risk-predictor/notebooks/small_network/../../models/models.py?line=237'>238</a>\u001b[0m \u001b[39mreturn\u001b[39;00m h\n",
      "File \u001b[1;32mc:\\Users\\vibal\\PycharmProjects\\systemic-risk-predictor\\venv\\lib\\site-packages\\torch\\nn\\modules\\module.py:1102\u001b[0m, in \u001b[0;36mModule._call_impl\u001b[1;34m(self, *input, **kwargs)\u001b[0m\n\u001b[0;32m   <a href='file:///c%3A/Users/vibal/PycharmProjects/systemic-risk-predictor/venv/lib/site-packages/torch/nn/modules/module.py?line=1097'>1098</a>\u001b[0m \u001b[39m# If we don't have any hooks, we want to skip the rest of the logic in\u001b[39;00m\n\u001b[0;32m   <a href='file:///c%3A/Users/vibal/PycharmProjects/systemic-risk-predictor/venv/lib/site-packages/torch/nn/modules/module.py?line=1098'>1099</a>\u001b[0m \u001b[39m# this function, and just call forward.\u001b[39;00m\n\u001b[0;32m   <a href='file:///c%3A/Users/vibal/PycharmProjects/systemic-risk-predictor/venv/lib/site-packages/torch/nn/modules/module.py?line=1099'>1100</a>\u001b[0m \u001b[39mif\u001b[39;00m \u001b[39mnot\u001b[39;00m (\u001b[39mself\u001b[39m\u001b[39m.\u001b[39m_backward_hooks \u001b[39mor\u001b[39;00m \u001b[39mself\u001b[39m\u001b[39m.\u001b[39m_forward_hooks \u001b[39mor\u001b[39;00m \u001b[39mself\u001b[39m\u001b[39m.\u001b[39m_forward_pre_hooks \u001b[39mor\u001b[39;00m _global_backward_hooks\n\u001b[0;32m   <a href='file:///c%3A/Users/vibal/PycharmProjects/systemic-risk-predictor/venv/lib/site-packages/torch/nn/modules/module.py?line=1100'>1101</a>\u001b[0m         \u001b[39mor\u001b[39;00m _global_forward_hooks \u001b[39mor\u001b[39;00m _global_forward_pre_hooks):\n\u001b[1;32m-> <a href='file:///c%3A/Users/vibal/PycharmProjects/systemic-risk-predictor/venv/lib/site-packages/torch/nn/modules/module.py?line=1101'>1102</a>\u001b[0m     \u001b[39mreturn\u001b[39;00m forward_call(\u001b[39m*\u001b[39m\u001b[39minput\u001b[39m, \u001b[39m*\u001b[39m\u001b[39m*\u001b[39mkwargs)\n\u001b[0;32m   <a href='file:///c%3A/Users/vibal/PycharmProjects/systemic-risk-predictor/venv/lib/site-packages/torch/nn/modules/module.py?line=1102'>1103</a>\u001b[0m \u001b[39m# Do not call functions when jit is used\u001b[39;00m\n\u001b[0;32m   <a href='file:///c%3A/Users/vibal/PycharmProjects/systemic-risk-predictor/venv/lib/site-packages/torch/nn/modules/module.py?line=1103'>1104</a>\u001b[0m full_backward_hooks, non_full_backward_hooks \u001b[39m=\u001b[39m [], []\n",
      "File \u001b[1;32mc:\\Users\\vibal\\PycharmProjects\\systemic-risk-predictor\\venv\\lib\\site-packages\\dgl\\nn\\pytorch\\conv\\gatconv.py:310\u001b[0m, in \u001b[0;36mGATConv.forward\u001b[1;34m(self, graph, feat, get_attention)\u001b[0m\n\u001b[0;32m    <a href='file:///c%3A/Users/vibal/PycharmProjects/systemic-risk-predictor/venv/lib/site-packages/dgl/nn/pytorch/conv/gatconv.py?line=307'>308</a>\u001b[0m e \u001b[39m=\u001b[39m \u001b[39mself\u001b[39m\u001b[39m.\u001b[39mleaky_relu(graph\u001b[39m.\u001b[39medata\u001b[39m.\u001b[39mpop(\u001b[39m'\u001b[39m\u001b[39me\u001b[39m\u001b[39m'\u001b[39m))\n\u001b[0;32m    <a href='file:///c%3A/Users/vibal/PycharmProjects/systemic-risk-predictor/venv/lib/site-packages/dgl/nn/pytorch/conv/gatconv.py?line=308'>309</a>\u001b[0m \u001b[39m# compute softmax\u001b[39;00m\n\u001b[1;32m--> <a href='file:///c%3A/Users/vibal/PycharmProjects/systemic-risk-predictor/venv/lib/site-packages/dgl/nn/pytorch/conv/gatconv.py?line=309'>310</a>\u001b[0m graph\u001b[39m.\u001b[39medata[\u001b[39m'\u001b[39m\u001b[39ma\u001b[39m\u001b[39m'\u001b[39m] \u001b[39m=\u001b[39m \u001b[39mself\u001b[39m\u001b[39m.\u001b[39mattn_drop(edge_softmax(graph, e))\n\u001b[0;32m    <a href='file:///c%3A/Users/vibal/PycharmProjects/systemic-risk-predictor/venv/lib/site-packages/dgl/nn/pytorch/conv/gatconv.py?line=310'>311</a>\u001b[0m \u001b[39m# message passing\u001b[39;00m\n\u001b[0;32m    <a href='file:///c%3A/Users/vibal/PycharmProjects/systemic-risk-predictor/venv/lib/site-packages/dgl/nn/pytorch/conv/gatconv.py?line=311'>312</a>\u001b[0m graph\u001b[39m.\u001b[39mupdate_all(fn\u001b[39m.\u001b[39mu_mul_e(\u001b[39m'\u001b[39m\u001b[39mft\u001b[39m\u001b[39m'\u001b[39m, \u001b[39m'\u001b[39m\u001b[39ma\u001b[39m\u001b[39m'\u001b[39m, \u001b[39m'\u001b[39m\u001b[39mm\u001b[39m\u001b[39m'\u001b[39m),\n\u001b[0;32m    <a href='file:///c%3A/Users/vibal/PycharmProjects/systemic-risk-predictor/venv/lib/site-packages/dgl/nn/pytorch/conv/gatconv.py?line=312'>313</a>\u001b[0m                  fn\u001b[39m.\u001b[39msum(\u001b[39m'\u001b[39m\u001b[39mm\u001b[39m\u001b[39m'\u001b[39m, \u001b[39m'\u001b[39m\u001b[39mft\u001b[39m\u001b[39m'\u001b[39m))\n",
      "File \u001b[1;32mc:\\Users\\vibal\\PycharmProjects\\systemic-risk-predictor\\venv\\lib\\site-packages\\dgl\\ops\\edge_softmax.py:108\u001b[0m, in \u001b[0;36medge_softmax\u001b[1;34m(graph, logits, eids, norm_by)\u001b[0m\n\u001b[0;32m    <a href='file:///c%3A/Users/vibal/PycharmProjects/systemic-risk-predictor/venv/lib/site-packages/dgl/ops/edge_softmax.py?line=105'>106</a>\u001b[0m \u001b[39mif\u001b[39;00m \u001b[39mnot\u001b[39;00m is_all(eids):\n\u001b[0;32m    <a href='file:///c%3A/Users/vibal/PycharmProjects/systemic-risk-predictor/venv/lib/site-packages/dgl/ops/edge_softmax.py?line=106'>107</a>\u001b[0m     eids \u001b[39m=\u001b[39m astype(eids, graph\u001b[39m.\u001b[39midtype)\n\u001b[1;32m--> <a href='file:///c%3A/Users/vibal/PycharmProjects/systemic-risk-predictor/venv/lib/site-packages/dgl/ops/edge_softmax.py?line=107'>108</a>\u001b[0m \u001b[39mreturn\u001b[39;00m edge_softmax_internal(graph\u001b[39m.\u001b[39;49m_graph, logits,\n\u001b[0;32m    <a href='file:///c%3A/Users/vibal/PycharmProjects/systemic-risk-predictor/venv/lib/site-packages/dgl/ops/edge_softmax.py?line=108'>109</a>\u001b[0m                              eids\u001b[39m=\u001b[39;49meids, norm_by\u001b[39m=\u001b[39;49mnorm_by)\n",
      "File \u001b[1;32mc:\\Users\\vibal\\PycharmProjects\\systemic-risk-predictor\\venv\\lib\\site-packages\\dgl\\backend\\pytorch\\sparse.py:521\u001b[0m, in \u001b[0;36medge_softmax\u001b[1;34m(gidx, logits, eids, norm_by)\u001b[0m\n\u001b[0;32m    <a href='file:///c%3A/Users/vibal/PycharmProjects/systemic-risk-predictor/venv/lib/site-packages/dgl/backend/pytorch/sparse.py?line=519'>520</a>\u001b[0m \u001b[39mdef\u001b[39;00m \u001b[39medge_softmax\u001b[39m(gidx, logits, eids\u001b[39m=\u001b[39mALL, norm_by\u001b[39m=\u001b[39m\u001b[39m'\u001b[39m\u001b[39mdst\u001b[39m\u001b[39m'\u001b[39m):\n\u001b[1;32m--> <a href='file:///c%3A/Users/vibal/PycharmProjects/systemic-risk-predictor/venv/lib/site-packages/dgl/backend/pytorch/sparse.py?line=520'>521</a>\u001b[0m     \u001b[39mreturn\u001b[39;00m EdgeSoftmax\u001b[39m.\u001b[39;49mapply(gidx, logits, eids, norm_by)\n",
      "File \u001b[1;32mc:\\Users\\vibal\\PycharmProjects\\systemic-risk-predictor\\venv\\lib\\site-packages\\torch\\cuda\\amp\\autocast_mode.py:94\u001b[0m, in \u001b[0;36mcustom_fwd.<locals>.decorate_fwd\u001b[1;34m(*args, **kwargs)\u001b[0m\n\u001b[0;32m     <a href='file:///c%3A/Users/vibal/PycharmProjects/systemic-risk-predictor/venv/lib/site-packages/torch/cuda/amp/autocast_mode.py?line=91'>92</a>\u001b[0m         \u001b[39mreturn\u001b[39;00m fwd(\u001b[39m*\u001b[39m_cast(args, cast_inputs), \u001b[39m*\u001b[39m\u001b[39m*\u001b[39m_cast(kwargs, cast_inputs))\n\u001b[0;32m     <a href='file:///c%3A/Users/vibal/PycharmProjects/systemic-risk-predictor/venv/lib/site-packages/torch/cuda/amp/autocast_mode.py?line=92'>93</a>\u001b[0m \u001b[39melse\u001b[39;00m:\n\u001b[1;32m---> <a href='file:///c%3A/Users/vibal/PycharmProjects/systemic-risk-predictor/venv/lib/site-packages/torch/cuda/amp/autocast_mode.py?line=93'>94</a>\u001b[0m     \u001b[39mreturn\u001b[39;00m fwd(\u001b[39m*\u001b[39margs, \u001b[39m*\u001b[39m\u001b[39m*\u001b[39mkwargs)\n",
      "File \u001b[1;32mc:\\Users\\vibal\\PycharmProjects\\systemic-risk-predictor\\venv\\lib\\site-packages\\dgl\\backend\\pytorch\\sparse.py:356\u001b[0m, in \u001b[0;36mEdgeSoftmax.forward\u001b[1;34m(ctx, gidx, score, eids, norm_by)\u001b[0m\n\u001b[0;32m    <a href='file:///c%3A/Users/vibal/PycharmProjects/systemic-risk-predictor/venv/lib/site-packages/dgl/backend/pytorch/sparse.py?line=353'>354</a>\u001b[0m \u001b[39mif\u001b[39;00m norm_by \u001b[39m==\u001b[39m \u001b[39m'\u001b[39m\u001b[39msrc\u001b[39m\u001b[39m'\u001b[39m:\n\u001b[0;32m    <a href='file:///c%3A/Users/vibal/PycharmProjects/systemic-risk-predictor/venv/lib/site-packages/dgl/backend/pytorch/sparse.py?line=354'>355</a>\u001b[0m     gidx \u001b[39m=\u001b[39m gidx\u001b[39m.\u001b[39mreverse()\n\u001b[1;32m--> <a href='file:///c%3A/Users/vibal/PycharmProjects/systemic-risk-predictor/venv/lib/site-packages/dgl/backend/pytorch/sparse.py?line=355'>356</a>\u001b[0m score_max \u001b[39m=\u001b[39m _gspmm(gidx, \u001b[39m'\u001b[39;49m\u001b[39mcopy_rhs\u001b[39;49m\u001b[39m'\u001b[39;49m, \u001b[39m'\u001b[39;49m\u001b[39mmax\u001b[39;49m\u001b[39m'\u001b[39;49m, \u001b[39mNone\u001b[39;49;00m, score)[\u001b[39m0\u001b[39m]\n\u001b[0;32m    <a href='file:///c%3A/Users/vibal/PycharmProjects/systemic-risk-predictor/venv/lib/site-packages/dgl/backend/pytorch/sparse.py?line=356'>357</a>\u001b[0m score \u001b[39m=\u001b[39m th\u001b[39m.\u001b[39mexp(_gsddmm(gidx, \u001b[39m'\u001b[39m\u001b[39msub\u001b[39m\u001b[39m'\u001b[39m, score, score_max, \u001b[39m'\u001b[39m\u001b[39me\u001b[39m\u001b[39m'\u001b[39m, \u001b[39m'\u001b[39m\u001b[39mv\u001b[39m\u001b[39m'\u001b[39m))\n\u001b[0;32m    <a href='file:///c%3A/Users/vibal/PycharmProjects/systemic-risk-predictor/venv/lib/site-packages/dgl/backend/pytorch/sparse.py?line=357'>358</a>\u001b[0m score_sum \u001b[39m=\u001b[39m _gspmm(gidx, \u001b[39m'\u001b[39m\u001b[39mcopy_rhs\u001b[39m\u001b[39m'\u001b[39m, \u001b[39m'\u001b[39m\u001b[39msum\u001b[39m\u001b[39m'\u001b[39m, \u001b[39mNone\u001b[39;00m, score)[\u001b[39m0\u001b[39m]\n",
      "File \u001b[1;32mc:\\Users\\vibal\\PycharmProjects\\systemic-risk-predictor\\venv\\lib\\site-packages\\dgl\\sparse.py:157\u001b[0m, in \u001b[0;36m_gspmm\u001b[1;34m(gidx, op, reduce_op, u, e)\u001b[0m\n\u001b[0;32m    <a href='file:///c%3A/Users/vibal/PycharmProjects/systemic-risk-predictor/venv/lib/site-packages/dgl/sparse.py?line=154'>155</a>\u001b[0m arg_e_nd \u001b[39m=\u001b[39m to_dgl_nd_for_write(arg_e)\n\u001b[0;32m    <a href='file:///c%3A/Users/vibal/PycharmProjects/systemic-risk-predictor/venv/lib/site-packages/dgl/sparse.py?line=155'>156</a>\u001b[0m \u001b[39mif\u001b[39;00m gidx\u001b[39m.\u001b[39mnumber_of_edges(\u001b[39m0\u001b[39m) \u001b[39m>\u001b[39m \u001b[39m0\u001b[39m:\n\u001b[1;32m--> <a href='file:///c%3A/Users/vibal/PycharmProjects/systemic-risk-predictor/venv/lib/site-packages/dgl/sparse.py?line=156'>157</a>\u001b[0m     _CAPI_DGLKernelSpMM(gidx, op, reduce_op,\n\u001b[0;32m    <a href='file:///c%3A/Users/vibal/PycharmProjects/systemic-risk-predictor/venv/lib/site-packages/dgl/sparse.py?line=157'>158</a>\u001b[0m                         to_dgl_nd(u \u001b[39mif\u001b[39;49;00m use_u \u001b[39melse\u001b[39;49;00m \u001b[39mNone\u001b[39;49;00m),\n\u001b[0;32m    <a href='file:///c%3A/Users/vibal/PycharmProjects/systemic-risk-predictor/venv/lib/site-packages/dgl/sparse.py?line=158'>159</a>\u001b[0m                         to_dgl_nd(e \u001b[39mif\u001b[39;49;00m use_e \u001b[39melse\u001b[39;49;00m \u001b[39mNone\u001b[39;49;00m),\n\u001b[0;32m    <a href='file:///c%3A/Users/vibal/PycharmProjects/systemic-risk-predictor/venv/lib/site-packages/dgl/sparse.py?line=159'>160</a>\u001b[0m                         to_dgl_nd_for_write(v),\n\u001b[0;32m    <a href='file:///c%3A/Users/vibal/PycharmProjects/systemic-risk-predictor/venv/lib/site-packages/dgl/sparse.py?line=160'>161</a>\u001b[0m                         arg_u_nd,\n\u001b[0;32m    <a href='file:///c%3A/Users/vibal/PycharmProjects/systemic-risk-predictor/venv/lib/site-packages/dgl/sparse.py?line=161'>162</a>\u001b[0m                         arg_e_nd)\n\u001b[0;32m    <a href='file:///c%3A/Users/vibal/PycharmProjects/systemic-risk-predictor/venv/lib/site-packages/dgl/sparse.py?line=162'>163</a>\u001b[0m \u001b[39m# NOTE(zihao): actually we can avoid the following step, because arg_*_nd\u001b[39;00m\n\u001b[0;32m    <a href='file:///c%3A/Users/vibal/PycharmProjects/systemic-risk-predictor/venv/lib/site-packages/dgl/sparse.py?line=163'>164</a>\u001b[0m \u001b[39m# refers to the data that stores arg_*. After we call _CAPI_DGLKernelSpMM,\u001b[39;00m\n\u001b[0;32m    <a href='file:///c%3A/Users/vibal/PycharmProjects/systemic-risk-predictor/venv/lib/site-packages/dgl/sparse.py?line=164'>165</a>\u001b[0m \u001b[39m# arg_* should have already been changed. But we found this doesn't work\u001b[39;00m\n\u001b[1;32m   (...)\u001b[0m\n\u001b[0;32m    <a href='file:///c%3A/Users/vibal/PycharmProjects/systemic-risk-predictor/venv/lib/site-packages/dgl/sparse.py?line=167'>168</a>\u001b[0m \u001b[39m# The workaround is proposed by Jinjing, and we still need to investigate\u001b[39;00m\n\u001b[0;32m    <a href='file:///c%3A/Users/vibal/PycharmProjects/systemic-risk-predictor/venv/lib/site-packages/dgl/sparse.py?line=168'>169</a>\u001b[0m \u001b[39m# where the problem is.\u001b[39;00m\n\u001b[0;32m    <a href='file:///c%3A/Users/vibal/PycharmProjects/systemic-risk-predictor/venv/lib/site-packages/dgl/sparse.py?line=169'>170</a>\u001b[0m arg_u \u001b[39m=\u001b[39m \u001b[39mNone\u001b[39;00m \u001b[39mif\u001b[39;00m arg_u \u001b[39mis\u001b[39;00m \u001b[39mNone\u001b[39;00m \u001b[39melse\u001b[39;00m F\u001b[39m.\u001b[39mzerocopy_from_dgl_ndarray(arg_u_nd)\n",
      "File \u001b[1;32mc:\\Users\\vibal\\PycharmProjects\\systemic-risk-predictor\\venv\\lib\\site-packages\\dgl\\_ffi\\_ctypes\\function.py:188\u001b[0m, in \u001b[0;36mFunctionBase.__call__\u001b[1;34m(self, *args)\u001b[0m\n\u001b[0;32m    <a href='file:///c%3A/Users/vibal/PycharmProjects/systemic-risk-predictor/venv/lib/site-packages/dgl/_ffi/_ctypes/function.py?line=185'>186</a>\u001b[0m ret_val \u001b[39m=\u001b[39m DGLValue()\n\u001b[0;32m    <a href='file:///c%3A/Users/vibal/PycharmProjects/systemic-risk-predictor/venv/lib/site-packages/dgl/_ffi/_ctypes/function.py?line=186'>187</a>\u001b[0m ret_tcode \u001b[39m=\u001b[39m ctypes\u001b[39m.\u001b[39mc_int()\n\u001b[1;32m--> <a href='file:///c%3A/Users/vibal/PycharmProjects/systemic-risk-predictor/venv/lib/site-packages/dgl/_ffi/_ctypes/function.py?line=187'>188</a>\u001b[0m check_call(_LIB\u001b[39m.\u001b[39;49mDGLFuncCall(\n\u001b[0;32m    <a href='file:///c%3A/Users/vibal/PycharmProjects/systemic-risk-predictor/venv/lib/site-packages/dgl/_ffi/_ctypes/function.py?line=188'>189</a>\u001b[0m     \u001b[39mself\u001b[39;49m\u001b[39m.\u001b[39;49mhandle, values, tcodes, ctypes\u001b[39m.\u001b[39;49mc_int(num_args),\n\u001b[0;32m    <a href='file:///c%3A/Users/vibal/PycharmProjects/systemic-risk-predictor/venv/lib/site-packages/dgl/_ffi/_ctypes/function.py?line=189'>190</a>\u001b[0m     ctypes\u001b[39m.\u001b[39;49mbyref(ret_val), ctypes\u001b[39m.\u001b[39;49mbyref(ret_tcode)))\n\u001b[0;32m    <a href='file:///c%3A/Users/vibal/PycharmProjects/systemic-risk-predictor/venv/lib/site-packages/dgl/_ffi/_ctypes/function.py?line=190'>191</a>\u001b[0m _ \u001b[39m=\u001b[39m temp_args\n\u001b[0;32m    <a href='file:///c%3A/Users/vibal/PycharmProjects/systemic-risk-predictor/venv/lib/site-packages/dgl/_ffi/_ctypes/function.py?line=191'>192</a>\u001b[0m _ \u001b[39m=\u001b[39m args\n",
      "\u001b[1;31mKeyboardInterrupt\u001b[0m: "
     ]
    }
   ],
   "source": [
    "if do_train:\n",
    "    for d in tqdm(list_model):\n",
    "        d = d.copy()\n",
    "        lr = d.pop('lr')\n",
    "        ls = d.pop('label_smoothing')\n",
    "        drop_edges = d.pop('drop_edges')\n",
    "        use_edge_weight = d.pop('use_edge_weight')\n",
    "\n",
    "        dataset_valid = ContagionDataset(\n",
    "            raw_dir=data_dir,\n",
    "            drop_edges=0,\n",
    "            sets_lengths=sets_lengths,\n",
    "            add_self_loop = add_self_loop,\n",
    "            target = target,\n",
    "            seed=seed,\n",
    "        )\n",
    "\n",
    "        dataset_train = ContagionDataset(\n",
    "            raw_dir=data_dir,\n",
    "            drop_edges=drop_edges,\n",
    "            sets_lengths=sets_lengths,\n",
    "            add_self_loop = add_self_loop,\n",
    "            target = target,\n",
    "            seed=seed,\n",
    "        )\n",
    "\n",
    "        train(\n",
    "            model=GAT(**d),\n",
    "            dict_model=d,\n",
    "            dataset_train=dataset_train,\n",
    "            dataset_val=dataset_valid,\n",
    "            log_dir=log_dir,\n",
    "            save_path=save_model,\n",
    "            lr=lr,\n",
    "            optimizer_name=\"adamw\",\n",
    "            n_epochs=100,\n",
    "            scheduler_mode='max_val_acc',\n",
    "            debug_mode=False,\n",
    "            steps_validate=1,\n",
    "            use_cpu=False,\n",
    "            label_smoothing=ls,\n",
    "            use_edge_weight=use_edge_weight,\n",
    "        )"
   ]
  },
  {
   "cell_type": "markdown",
   "metadata": {},
   "source": [
    "### Overall"
   ]
  },
  {
   "cell_type": "code",
   "execution_count": null,
   "metadata": {},
   "outputs": [],
   "source": []
  }
 ],
 "metadata": {
  "interpreter": {
   "hash": "37be9487e307834247f9cc00a1ec46ceeb3f522b7edf17e3b2d74c6ce713e314"
  },
  "kernelspec": {
   "display_name": "Python 3.9.5 ('venv': venv)",
   "language": "python",
   "name": "python3"
  },
  "language_info": {
   "codemirror_mode": {
    "name": "ipython",
    "version": 3
   },
   "file_extension": ".py",
   "mimetype": "text/x-python",
   "name": "python",
   "nbconvert_exporter": "python",
   "pygments_lexer": "ipython3",
   "version": "3.9.5"
  },
  "orig_nbformat": 4
 },
 "nbformat": 4,
 "nbformat_minor": 2
}
