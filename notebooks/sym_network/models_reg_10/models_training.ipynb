{
 "cells": [
  {
   "cell_type": "code",
   "execution_count": 1,
   "metadata": {},
   "outputs": [],
   "source": [
    "import sys\n",
    "sys.path.append('../../../')"
   ]
  },
  {
   "cell_type": "code",
   "execution_count": 2,
   "metadata": {},
   "outputs": [
    {
     "name": "stderr",
     "output_type": "stream",
     "text": [
      "c:\\Users\\vibal\\miniconda3\\envs\\ml\\lib\\site-packages\\tqdm\\auto.py:21: TqdmWarning: IProgress not found. Please update jupyter and ipywidgets. See https://ipywidgets.readthedocs.io/en/stable/user_install.html\n",
      "  from .autonotebook import tqdm as notebook_tqdm\n"
     ]
    }
   ],
   "source": [
    "import torch\n",
    "import itertools\n",
    "from sklearn.linear_model import LogisticRegression\n",
    "from sklearn.model_selection import train_test_split\n",
    "from sklearn.ensemble import RandomForestClassifier\n",
    "from sklearn.metrics import classification_report\n",
    "from sklearn.neighbors import KNeighborsClassifier\n",
    "import pandas as pd\n",
    "import numpy as np\n",
    "from tqdm.auto import tqdm, trange\n",
    "\n",
    "from models.train_reg import train, test\n",
    "from models.models import GCN, GAT, GraphSAGE, FNN\n",
    "from models.utils import ContagionDataset, set_seed\n",
    "from sklearn.metrics import matthews_corrcoef, mean_squared_error, mean_absolute_error"
   ]
  },
  {
   "cell_type": "code",
   "execution_count": 3,
   "metadata": {},
   "outputs": [],
   "source": [
    "def pretty(ld, indent=0):\n",
    "    with open('result.txt', 'w', encoding='utf-8') as file:\n",
    "        for d in tqdm(ld):\n",
    "            file.write('{' + '\\n')\n",
    "            for key, value in d.items():\n",
    "                file.write('\\t' * (indent+1) + str(key) + ':' + str(value) + '\\n')\n",
    "                # file.write('\\t' * (indent+1) + str(key) + '\\n')\n",
    "                # file.write('\\t' * (indent+2) + str(value) + '\\n')\n",
    "            file.write('},\\n')"
   ]
  },
  {
   "cell_type": "code",
   "execution_count": 4,
   "metadata": {},
   "outputs": [],
   "source": [
    "do_train = True\n",
    "\n",
    "seed = 4444\n",
    "set_seed(seed)\n",
    "\n",
    "metric_filter_1 = 'val_rmse_perc'\n",
    "metric_filter_2 = 'test_rmse_perc'\n",
    "\n",
    "data_dir = '../data'\n",
    "log_path = './logs'\n",
    "save_path = './saved'"
   ]
  },
  {
   "cell_type": "markdown",
   "metadata": {},
   "source": [
    "# Big dataset: Additional stress"
   ]
  },
  {
   "cell_type": "code",
   "execution_count": 5,
   "metadata": {},
   "outputs": [],
   "source": [
    "sets_lengths = (0.08, 0.02, 0.9)\n",
    "target = 'additional_stress'\n",
    "\n",
    "dataset = ContagionDataset(\n",
    "    raw_dir=data_dir,\n",
    "    drop_edges=0,\n",
    "    sets_lengths=sets_lengths,\n",
    "    target = target,\n",
    ")\n",
    "\n",
    "out_feats = 1"
   ]
  },
  {
   "cell_type": "markdown",
   "metadata": {},
   "source": [
    "## Baseline"
   ]
  },
  {
   "cell_type": "markdown",
   "metadata": {},
   "source": [
    "### FNN"
   ]
  },
  {
   "cell_type": "code",
   "execution_count": 6,
   "metadata": {},
   "outputs": [],
   "source": [
    "save_model = f'{save_path}_fnn'\n",
    "log_dir = f'{log_path}_fnn'\n",
    "\n",
    "dataset_val = ContagionDataset(\n",
    "    raw_dir=data_dir,\n",
    "    drop_edges=0,\n",
    "    sets_lengths=sets_lengths,\n",
    "    add_self_loop = False,\n",
    "    target = target,\n",
    ")\n",
    "\n",
    "# fnn_model = dict(\n",
    "#     in_features=[len(dataset_val.node_attributes)],\n",
    "#     h_features=[[5, 10], [10, 15], [5,5,5], [5, 10, 15], [5, 10, 15, 20], [5], [10], [15]],\n",
    "#     out_features=[dataset_val.num_classes],\n",
    "#     activation=[torch.nn.ReLU()],\n",
    "#     norm_nodes = [None, 'bn', 'gn'],\n",
    "#     dropout=[0.2, 0.5, 0.0],\n",
    "#     # other\n",
    "#     lr=[1, 1e-1, 1e-2],\n",
    "#     label_smoothing=[0.0, 0.2, 0.4],\n",
    "# )\n",
    "\n",
    "fnn_model = dict(\n",
    "    in_features=[len(dataset_val.node_attributes)],\n",
    "    h_features=[[10, 15], [10, 15, 20], [5, 10, 15], [len(dataset_val.node_attributes)] * 2],\n",
    "    out_features=[dataset_val.num_classes],\n",
    "    activation=[torch.nn.ReLU()],\n",
    "    norm_nodes = [None, 'bn', 'gn'],\n",
    "    dropout=[0.2, 0.0],\n",
    "    # other\n",
    "    lr=[1e-1],\n",
    ")\n",
    "list_model = [dict(zip(fnn_model.keys(), k)) for k in itertools.product(*fnn_model.values())]"
   ]
  },
  {
   "cell_type": "code",
   "execution_count": 7,
   "metadata": {
    "collapsed": false,
    "pycharm": {
     "name": "#%%\n"
    }
   },
   "outputs": [
    {
     "name": "stderr",
     "output_type": "stream",
     "text": [
      "100%|██████████| 24/24 [00:51<00:00,  2.15s/it]\n"
     ]
    }
   ],
   "source": [
    "if do_train:\n",
    "    for d in tqdm(list_model):\n",
    "        d = d.copy()\n",
    "        lr = d.pop('lr')\n",
    "\n",
    "        train(\n",
    "            model=FNN(**d),\n",
    "            dict_model=d,\n",
    "            dataset_train=dataset_val,\n",
    "            dataset_val=dataset_val,\n",
    "            log_dir=log_dir,\n",
    "            save_path=save_model,\n",
    "            lr=lr,\n",
    "            optimizer_name=\"adamw\",\n",
    "            n_epochs=100,\n",
    "            scheduler_mode='max_val_mcc',\n",
    "            debug_mode=False,\n",
    "            steps_save=10,\n",
    "            use_cpu=False,\n",
    "            use_edge_weight=False,\n",
    "            loss_type='mse',\n",
    "        )"
   ]
  },
  {
   "cell_type": "markdown",
   "metadata": {},
   "source": [
    "#### Results"
   ]
  },
  {
   "cell_type": "code",
   "execution_count": 8,
   "metadata": {},
   "outputs": [
    {
     "name": "stderr",
     "output_type": "stream",
     "text": [
      "100%|██████████| 746/746 [00:21<00:00, 35.48it/s]\n"
     ]
    }
   ],
   "source": [
    "res_edges_fnn = test(\n",
    "    dataset=dataset_val,\n",
    "    save_path=save_model,\n",
    "    n_runs=1,\n",
    "    debug_mode=False,\n",
    "    use_cpu=False,\n",
    "    save=True,\n",
    "    use_edge_weight=False,\n",
    ")"
   ]
  },
  {
   "cell_type": "code",
   "execution_count": 9,
   "metadata": {},
   "outputs": [
    {
     "data": {
      "text/plain": [
       "{'in_features': 4,\n",
       " 'h_features': [5, 10, 15],\n",
       " 'out_features': 4,\n",
       " 'activation': ReLU(),\n",
       " 'norm_nodes': 'bn',\n",
       " 'dropout': 0.0,\n",
       " 'tr_par_lr': 0.1,\n",
       " 'tr_par_optimizer_name': 'adamw',\n",
       " 'tr_par_scheduler_mode': 'max_val_mcc',\n",
       " 'tr_par_use_edge_weight': False,\n",
       " 'tr_par_loss_type': 'mse',\n",
       " 'tr_par_approach': 'dist',\n",
       " 'tr_par_scheduler_patience': 10,\n",
       " 'train_self_loop': False,\n",
       " 'train_drop_edges': 0,\n",
       " 'val_mcc': 0.4380952380952381,\n",
       " 'epoch': 56,\n",
       " 'train_loss': 0.042766016,\n",
       " 'val_loss': 0.05819223,\n",
       " 'train_acc': 0.44999995827674866,\n",
       " 'val_acc': 0.5666664838790894,\n",
       " 'val_rmse_perc': 0.23556113,\n",
       " 'model_class': 'fnn',\n",
       " 'path_name': 'saved_fnn\\\\0.57_2023-03-30_12.05.23.457423',\n",
       " 'train_rmse': 1.0327955589886444,\n",
       " 'val_rmse': 0.9660917830792959,\n",
       " 'test_rmse': 0.9899494936611666,\n",
       " 'train_mae': 0.7166666666666667,\n",
       " 'val_mae': 0.6,\n",
       " 'test_mae': 0.6792592592592592,\n",
       " 'train_mcc': 0.2901182641846422,\n",
       " 'test_mcc': 0.2966998397917408,\n",
       " 'test_acc': 0.46074074506759644,\n",
       " 'train_rmse_perc': 0.24126673,\n",
       " 'test_rmse_perc': 0.24285506,\n",
       " 'train_mae_perc': 0.19742082,\n",
       " 'val_mae_perc': 0.18556939,\n",
       " 'test_mae_perc': 0.19644767}"
      ]
     },
     "execution_count": 9,
     "metadata": {},
     "output_type": "execute_result"
    }
   ],
   "source": [
    "res_edges = res_edges_fnn\n",
    "res_edges[0]"
   ]
  },
  {
   "cell_type": "code",
   "execution_count": 10,
   "metadata": {},
   "outputs": [
    {
     "data": {
      "text/plain": [
       "{'in_features': 4,\n",
       " 'h_features': [4, 4],\n",
       " 'out_features': 4,\n",
       " 'activation': ReLU(),\n",
       " 'norm_nodes': 'bn',\n",
       " 'dropout': 0.0,\n",
       " 'tr_par_lr': 0.1,\n",
       " 'tr_par_optimizer_name': 'adamw',\n",
       " 'tr_par_scheduler_mode': 'max_val_mcc',\n",
       " 'tr_par_use_edge_weight': False,\n",
       " 'tr_par_loss_type': 'mse',\n",
       " 'tr_par_approach': 'dist',\n",
       " 'tr_par_scheduler_patience': 10,\n",
       " 'train_self_loop': False,\n",
       " 'train_drop_edges': 0,\n",
       " 'val_mcc': 0.3236694374850748,\n",
       " 'epoch': 90,\n",
       " 'train_loss': 0.044356395,\n",
       " 'val_loss': 0.029511405,\n",
       " 'train_acc': 0.3333333134651184,\n",
       " 'val_acc': 0.49999985098838806,\n",
       " 'val_rmse_perc': 0.17419961,\n",
       " 'model_class': 'fnn',\n",
       " 'path_name': 'saved_fnn\\\\0.50_2023-03-30_21.31.30.378540_90',\n",
       " 'train_rmse': 0.917423929634859,\n",
       " 'val_rmse': 0.7745966692414834,\n",
       " 'test_rmse': 0.8989706047186127,\n",
       " 'train_mae': 0.725,\n",
       " 'val_mae': 0.5333333333333333,\n",
       " 'test_mae': 0.6659259259259259,\n",
       " 'train_mcc': 0.1577725288644732,\n",
       " 'test_mcc': 0.23097123027641706,\n",
       " 'test_acc': 0.40074074268341064,\n",
       " 'train_rmse_perc': 0.21264741,\n",
       " 'test_rmse_perc': 0.21092492,\n",
       " 'train_mae_perc': 0.18258162,\n",
       " 'val_mae_perc': 0.14382264,\n",
       " 'test_mae_perc': 0.1775729}"
      ]
     },
     "execution_count": 10,
     "metadata": {},
     "output_type": "execute_result"
    }
   ],
   "source": [
    "all = res_edges[2]\n",
    "\n",
    "sort_idx = np.argsort([k['dict'][metric_filter_1] for k in all])\n",
    "all[sort_idx[0]]['dict']"
   ]
  },
  {
   "cell_type": "code",
   "execution_count": 11,
   "metadata": {},
   "outputs": [
    {
     "data": {
      "text/plain": [
       "{'in_features': 4,\n",
       " 'h_features': [4, 4],\n",
       " 'out_features': 4,\n",
       " 'activation': ReLU(),\n",
       " 'norm_nodes': 'bn',\n",
       " 'dropout': 0.0,\n",
       " 'tr_par_lr': 0.1,\n",
       " 'tr_par_optimizer_name': 'adamw',\n",
       " 'tr_par_scheduler_mode': 'max_val_mcc',\n",
       " 'tr_par_use_edge_weight': False,\n",
       " 'tr_par_loss_type': 'mse',\n",
       " 'tr_par_approach': 'dist',\n",
       " 'tr_par_scheduler_patience': 10,\n",
       " 'train_self_loop': False,\n",
       " 'train_drop_edges': 0,\n",
       " 'val_mcc': 0.3768915491607762,\n",
       " 'epoch': 100,\n",
       " 'train_loss': 0.0443563,\n",
       " 'val_loss': 0.029657265,\n",
       " 'train_acc': 0.3333333134651184,\n",
       " 'val_acc': 0.5333331823348999,\n",
       " 'val_rmse_perc': 0.17431422,\n",
       " 'model_class': 'fnn',\n",
       " 'path_name': 'saved_fnn\\\\0.53_2023-03-30_12.05.37.820359',\n",
       " 'train_rmse': 0.917423929634859,\n",
       " 'val_rmse': 0.752772652709081,\n",
       " 'test_rmse': 0.9055385138137416,\n",
       " 'train_mae': 0.725,\n",
       " 'val_mae': 0.5,\n",
       " 'test_mae': 0.6703703703703704,\n",
       " 'train_mcc': 0.1577725288644732,\n",
       " 'test_mcc': 0.23144379032775492,\n",
       " 'test_acc': 0.4000000059604645,\n",
       " 'train_rmse_perc': 0.21216895,\n",
       " 'test_rmse_perc': 0.2103974,\n",
       " 'train_mae_perc': 0.18232203,\n",
       " 'val_mae_perc': 0.14380553,\n",
       " 'test_mae_perc': 0.17711505}"
      ]
     },
     "execution_count": 11,
     "metadata": {},
     "output_type": "execute_result"
    }
   ],
   "source": [
    "all = res_edges[2]\n",
    "\n",
    "sort_idx = np.argsort([k['dict'][metric_filter_2] for k in all])\n",
    "all[sort_idx[0]]['dict']"
   ]
  },
  {
   "cell_type": "code",
   "execution_count": 12,
   "metadata": {},
   "outputs": [
    {
     "name": "stderr",
     "output_type": "stream",
     "text": [
      "100%|██████████| 746/746 [00:00<00:00, 32437.81it/s]\n"
     ]
    }
   ],
   "source": [
    "pretty([all[k]['dict'] for k in sort_idx])"
   ]
  },
  {
   "cell_type": "code",
   "execution_count": 13,
   "metadata": {},
   "outputs": [],
   "source": [
    "cm = all[sort_idx[0]]['test_cm'][0]"
   ]
  },
  {
   "cell_type": "code",
   "execution_count": 14,
   "metadata": {},
   "outputs": [
    {
     "data": {
      "text/plain": [
       "tensor(335)"
      ]
     },
     "execution_count": 14,
     "metadata": {},
     "output_type": "execute_result"
    }
   ],
   "source": [
    "(cm.labels==0).sum()"
   ]
  },
  {
   "cell_type": "code",
   "execution_count": 15,
   "metadata": {},
   "outputs": [
    {
     "data": {
      "text/plain": [
       "<module 'matplotlib.pyplot' from 'c:\\\\Users\\\\vibal\\\\miniconda3\\\\envs\\\\ml\\\\lib\\\\site-packages\\\\matplotlib\\\\pyplot.py'>"
      ]
     },
     "execution_count": 15,
     "metadata": {},
     "output_type": "execute_result"
    },
    {
     "data": {
      "image/png": "[encoded data removed]",
      "text/plain": [
       "<Figure size 1500x1000 with 2 Axes>"
      ]
     },
     "metadata": {},
     "output_type": "display_data"
    }
   ],
   "source": [
    "cm.visualize()"
   ]
  },
  {
   "cell_type": "code",
   "execution_count": 16,
   "metadata": {},
   "outputs": [
    {
     "data": {
      "text/plain": [
       "tensor([0.5701, 0.2455, 0.7719, 0.0088])"
      ]
     },
     "execution_count": 16,
     "metadata": {},
     "output_type": "execute_result"
    }
   ],
   "source": [
    "cm.class_accuracy"
   ]
  },
  {
   "cell_type": "code",
   "execution_count": 17,
   "metadata": {},
   "outputs": [
    {
     "data": {
      "text/plain": [
       "[0.215714, 0.19492356, 0.14260346, 0.26898107]"
      ]
     },
     "execution_count": 17,
     "metadata": {},
     "output_type": "execute_result"
    }
   ],
   "source": [
    "[mean_squared_error(y_true=cm.true_percentiles[cm.labels==k], y_pred=cm.perc[cm.labels==k], squared=False) for k in range(0, cm.size)]"
   ]
  },
  {
   "cell_type": "code",
   "execution_count": 18,
   "metadata": {},
   "outputs": [
    {
     "data": {
      "text/plain": [
       "[0.1716129, 0.17052576, 0.11066178, 0.25608575]"
      ]
     },
     "execution_count": 18,
     "metadata": {},
     "output_type": "execute_result"
    }
   ],
   "source": [
    "[mean_absolute_error(y_true=cm.true_percentiles[cm.labels==k], y_pred=cm.perc[cm.labels==k]) for k in range(0, cm.size)]"
   ]
  },
  {
   "cell_type": "markdown",
   "metadata": {
    "collapsed": false
   },
   "source": [
    "### GCN"
   ]
  },
  {
   "cell_type": "code",
   "execution_count": 19,
   "metadata": {},
   "outputs": [],
   "source": [
    "save_model = f'{save_path}_gcn'\n",
    "log_dir = f'{log_path}_gcn'\n",
    "\n",
    "add_self_loop = True\n",
    "\n",
    "dataset_val = ContagionDataset(\n",
    "    raw_dir=data_dir,\n",
    "    drop_edges=0,\n",
    "    sets_lengths=sets_lengths,\n",
    "    add_self_loop = add_self_loop,\n",
    "    target = target,\n",
    ")\n",
    "\n",
    "gcn_model = dict(\n",
    "    in_features=[len(dataset_val.node_attributes)],\n",
    "    h_features=[[15] * 3, [10, 15, 20], [5, 10, 15, 20],],\n",
    "    out_features=[dataset_val.num_classes],\n",
    "    activation=[torch.nn.ReLU()],\n",
    "    norm_edges=['both', 'none'],\n",
    "    norm_nodes=[None, 'bn', 'gn'],\n",
    "    dropout=[0.2, 0.0],\n",
    "    # other\n",
    "    lr=[1e-1],\n",
    "    use_edge_weight=[True,],\n",
    "    drop_edges=[0,0.2],\n",
    ")\n",
    "list_model = [dict(zip(gcn_model.keys(), k)) for k in itertools.product(*gcn_model.values())]\n",
    "\n",
    "# gcn_model = dict(\n",
    "#     in_features=[len(dataset_val.node_attributes)],\n",
    "#     h_features=[[10] * 3],\n",
    "#     out_features=[dataset_val.num_classes],\n",
    "#     activation=[torch.nn.ReLU()],\n",
    "#     norm_edges=['both', 'none'],\n",
    "#     norm_nodes=[None, 'bn', 'gn'],\n",
    "#     dropout=[0.2, 0.0],\n",
    "#     # other\n",
    "#     lr=[1],\n",
    "#     label_smoothing=[0.0,],\n",
    "#     use_edge_weight=[True, ],\n",
    "#     drop_edges=[0,0.2],\n",
    "# )\n",
    "# list_model = [{i:j[k] for i,j in gcn_model.items()} for k in range(len(gcn_model['in_features']))]"
   ]
  },
  {
   "cell_type": "code",
   "execution_count": 20,
   "metadata": {
    "collapsed": false,
    "pycharm": {
     "name": "#%%\n"
    }
   },
   "outputs": [
    {
     "name": "stderr",
     "output_type": "stream",
     "text": [
      "100%|██████████| 72/72 [05:37<00:00,  4.68s/it]\n"
     ]
    }
   ],
   "source": [
    "if do_train:\n",
    "    for d in tqdm(list_model):\n",
    "        d = d.copy()\n",
    "        lr = d.pop('lr')\n",
    "        drop_edges = d.pop('drop_edges')\n",
    "        use_edge_weight = d.pop('use_edge_weight')\n",
    "\n",
    "        # dataset_valid = ContagionDataset(\n",
    "        #     raw_dir=data_dir,\n",
    "        #     drop_edges=0,\n",
    "        #     sets_lengths=sets_lengths,\n",
    "        #     add_self_loop = add_self_loop,\n",
    "        #     target = target,\n",
    "        #     seed=seed,\n",
    "        # )\n",
    "\n",
    "        dataset_train = ContagionDataset(\n",
    "            raw_dir=data_dir,\n",
    "            drop_edges=drop_edges,\n",
    "            sets_lengths=sets_lengths,\n",
    "            add_self_loop = add_self_loop,\n",
    "            target = target,\n",
    "        )\n",
    "\n",
    "        train(\n",
    "            model=GCN(**d),\n",
    "            dict_model=d,\n",
    "            dataset_train=dataset_train,\n",
    "            dataset_val=dataset_val,\n",
    "            log_dir=log_dir,\n",
    "            save_path=save_model,\n",
    "            lr=lr,\n",
    "            optimizer_name=\"adamw\",\n",
    "            n_epochs=100,\n",
    "            scheduler_mode='max_val_mcc',\n",
    "            debug_mode=False,\n",
    "            steps_save=10,\n",
    "            use_cpu=False,\n",
    "            use_edge_weight=use_edge_weight,\n",
    "            loss_type='mse',\n",
    "        )"
   ]
  },
  {
   "cell_type": "markdown",
   "metadata": {},
   "source": [
    "#### Results"
   ]
  },
  {
   "cell_type": "code",
   "execution_count": 21,
   "metadata": {},
   "outputs": [
    {
     "name": "stderr",
     "output_type": "stream",
     "text": [
      "100%|██████████| 1065/1065 [00:42<00:00, 24.94it/s]\n"
     ]
    }
   ],
   "source": [
    "res_edges_gcn = test(\n",
    "    dataset=dataset_val,\n",
    "    save_path=save_model,\n",
    "    n_runs=1,\n",
    "    debug_mode=False,\n",
    "    use_cpu=False,\n",
    "    save=True,\n",
    "    use_edge_weight=True,\n",
    ")"
   ]
  },
  {
   "cell_type": "code",
   "execution_count": 22,
   "metadata": {},
   "outputs": [
    {
     "data": {
      "text/plain": [
       "{'in_features': 4,\n",
       " 'h_features': [15, 15, 15],\n",
       " 'out_features': 4,\n",
       " 'activation': ReLU(),\n",
       " 'norm_edges': 'both',\n",
       " 'norm_nodes': 'gn',\n",
       " 'dropout': 0.0,\n",
       " 'tr_par_lr': 0.1,\n",
       " 'tr_par_optimizer_name': 'adamw',\n",
       " 'tr_par_scheduler_mode': 'max_val_mcc',\n",
       " 'tr_par_use_edge_weight': True,\n",
       " 'tr_par_loss_type': 'mse',\n",
       " 'tr_par_approach': 'dist',\n",
       " 'tr_par_scheduler_patience': 10,\n",
       " 'train_self_loop': True,\n",
       " 'train_drop_edges': 0,\n",
       " 'val_mcc': 0.5382126540823101,\n",
       " 'epoch': 30,\n",
       " 'train_loss': 0.02870563,\n",
       " 'val_loss': 0.050799504,\n",
       " 'train_acc': 0.6749999523162842,\n",
       " 'val_acc': 0.6666664481163025,\n",
       " 'val_rmse_perc': 0.22297737,\n",
       " 'model_class': 'gcn',\n",
       " 'path_name': 'saved_gcn\\\\0.67_2023-03-30_21.32.41.558801_30',\n",
       " 'train_rmse': 0.6708203932499369,\n",
       " 'val_rmse': 0.8366600265340756,\n",
       " 'test_rmse': 0.7308037178846821,\n",
       " 'train_mae': 0.36666666666666664,\n",
       " 'val_mae': 0.43333333333333335,\n",
       " 'test_mae': 0.42,\n",
       " 'train_mcc': 0.572095567365114,\n",
       " 'test_mcc': 0.5154744447768107,\n",
       " 'test_acc': 0.631851851940155,\n",
       " 'train_rmse_perc': 0.15977368,\n",
       " 'test_rmse_perc': 0.18202148,\n",
       " 'train_mae_perc': 0.12690786,\n",
       " 'val_mae_perc': 0.16113387,\n",
       " 'test_mae_perc': 0.13470261}"
      ]
     },
     "execution_count": 22,
     "metadata": {},
     "output_type": "execute_result"
    }
   ],
   "source": [
    "res_edges = res_edges_gcn\n",
    "res_edges[0]"
   ]
  },
  {
   "cell_type": "code",
   "execution_count": 23,
   "metadata": {},
   "outputs": [
    {
     "data": {
      "text/plain": [
       "{'in_features': 4,\n",
       " 'h_features': [15, 15, 15],\n",
       " 'out_features': 4,\n",
       " 'activation': ReLU(),\n",
       " 'norm_edges': 'both',\n",
       " 'norm_nodes': 'gn',\n",
       " 'dropout': 0.0,\n",
       " 'tr_par_lr': 0.1,\n",
       " 'tr_par_optimizer_name': 'adamw',\n",
       " 'tr_par_scheduler_mode': 'max_val_mcc',\n",
       " 'tr_par_use_edge_weight': True,\n",
       " 'tr_par_loss_type': 'mse',\n",
       " 'tr_par_approach': 'dist',\n",
       " 'tr_par_scheduler_patience': 10,\n",
       " 'train_self_loop': True,\n",
       " 'train_drop_edges': 0,\n",
       " 'val_mcc': 0.5346528522441568,\n",
       " 'epoch': 20,\n",
       " 'train_loss': 0.033978898,\n",
       " 'val_loss': 0.019928468,\n",
       " 'train_acc': 0.4583333134651184,\n",
       " 'val_acc': 0.6666664481163025,\n",
       " 'val_rmse_perc': 0.1555115,\n",
       " 'model_class': 'gcn',\n",
       " 'path_name': 'saved_gcn\\\\0.67_2023-03-30_21.32.41.558801_20',\n",
       " 'train_rmse': 0.7691987172809551,\n",
       " 'val_rmse': 0.5773502691896257,\n",
       " 'test_rmse': 0.8133151181931155,\n",
       " 'train_mae': 0.5583333333333333,\n",
       " 'val_mae': 0.3333333333333333,\n",
       " 'test_mae': 0.5503703703703704,\n",
       " 'train_mcc': 0.3190277775882403,\n",
       " 'test_mcc': 0.3689096417797928,\n",
       " 'test_acc': 0.5007407665252686,\n",
       " 'train_rmse_perc': 0.18230104,\n",
       " 'test_rmse_perc': 0.19061677,\n",
       " 'train_mae_perc': 0.14784496,\n",
       " 'val_mae_perc': 0.12614797,\n",
       " 'test_mae_perc': 0.14775446}"
      ]
     },
     "execution_count": 23,
     "metadata": {},
     "output_type": "execute_result"
    }
   ],
   "source": [
    "all = res_edges[2]\n",
    "\n",
    "sort_idx = np.argsort([k['dict'][metric_filter_1] for k in all])\n",
    "all[sort_idx[0]]['dict']"
   ]
  },
  {
   "cell_type": "code",
   "execution_count": 24,
   "metadata": {},
   "outputs": [
    {
     "data": {
      "text/plain": [
       "{'in_features': 4,\n",
       " 'h_features': [15, 15, 15],\n",
       " 'out_features': 4,\n",
       " 'activation': ReLU(),\n",
       " 'norm_edges': 'both',\n",
       " 'norm_nodes': 'gn',\n",
       " 'dropout': 0.0,\n",
       " 'tr_par_lr': 0.1,\n",
       " 'tr_par_optimizer_name': 'adamw',\n",
       " 'tr_par_scheduler_mode': 'max_val_mcc',\n",
       " 'tr_par_use_edge_weight': True,\n",
       " 'tr_par_loss_type': 'mse',\n",
       " 'tr_par_approach': 'dist',\n",
       " 'tr_par_scheduler_patience': 10,\n",
       " 'train_self_loop': True,\n",
       " 'train_drop_edges': 0,\n",
       " 'val_mcc': 0.4440028022691885,\n",
       " 'epoch': 100,\n",
       " 'train_loss': 0.02386108,\n",
       " 'val_loss': 0.043213855,\n",
       " 'train_acc': 0.6916666030883789,\n",
       " 'val_acc': 0.5999997854232788,\n",
       " 'val_rmse_perc': 0.20591235,\n",
       " 'model_class': 'gcn',\n",
       " 'path_name': 'saved_gcn\\\\0.60_2023-03-30_21.32.41.558801_100',\n",
       " 'train_rmse': 0.5986094998689324,\n",
       " 'val_rmse': 0.816496580927726,\n",
       " 'test_rmse': 0.7231617820121324,\n",
       " 'train_mae': 0.325,\n",
       " 'val_mae': 0.4666666666666667,\n",
       " 'test_mae': 0.43407407407407406,\n",
       " 'train_mcc': 0.6002748825732254,\n",
       " 'test_mcc': 0.491216383782709,\n",
       " 'test_acc': 0.6066666841506958,\n",
       " 'train_rmse_perc': 0.15133622,\n",
       " 'test_rmse_perc': 0.17548794,\n",
       " 'train_mae_perc': 0.11936753,\n",
       " 'val_mae_perc': 0.15955573,\n",
       " 'test_mae_perc': 0.13243663}"
      ]
     },
     "execution_count": 24,
     "metadata": {},
     "output_type": "execute_result"
    }
   ],
   "source": [
    "all = res_edges[2]\n",
    "\n",
    "sort_idx = np.argsort([k['dict'][metric_filter_2] for k in all])\n",
    "all[sort_idx[0]]['dict']"
   ]
  },
  {
   "cell_type": "code",
   "execution_count": 25,
   "metadata": {},
   "outputs": [
    {
     "name": "stderr",
     "output_type": "stream",
     "text": [
      "100%|██████████| 1065/1065 [00:00<00:00, 29295.98it/s]\n"
     ]
    }
   ],
   "source": [
    "pretty([all[k]['dict'] for k in sort_idx])"
   ]
  },
  {
   "cell_type": "markdown",
   "metadata": {
    "collapsed": false
   },
   "source": [
    "### GraphSAGE"
   ]
  },
  {
   "cell_type": "code",
   "execution_count": 26,
   "metadata": {},
   "outputs": [],
   "source": [
    "save_model = f'{save_path}_sage_dist'\n",
    "log_dir = f'{log_path}_sage_dist'\n",
    "\n",
    "dataset_val = ContagionDataset(\n",
    "    raw_dir=data_dir,\n",
    "    drop_edges=0,\n",
    "    sets_lengths=sets_lengths,\n",
    "    add_self_loop = True,\n",
    "    target = target,\n",
    ")\n",
    "\n",
    "sage_model = dict(\n",
    "    in_features = [len(dataset.node_attributes)],\n",
    "    h_features = [[15] * 3, [20], [15], [20] * 2, [15] * 2, [25], [30]], \n",
    "    out_features = [out_feats],\n",
    "    aggregator_type = ['lstm'],\n",
    "    norm_edges = ['right', 'none'],\n",
    "    norm_nodes = [None, 'bn', 'gn'],\n",
    "    activation = [torch.nn.ReLU()],\n",
    "    feat_drop = [0.2, 0],\n",
    "    # other\n",
    "    lr=[1e-2],\n",
    "    use_edge_weight=[True],\n",
    "    add_self_loop=[True],\n",
    "    drop_edges=[0,0.2],\n",
    ")\n",
    "list_model = [dict(zip(sage_model.keys(), k)) for k in itertools.product(*sage_model.values())]\n",
    "\n",
    "# sage_model = dict(\n",
    "#     in_features = [len(dataset.node_attributes)],\n",
    "#     h_features = [[30] * 3], \n",
    "#     out_features = [out_feats],\n",
    "#     aggregator_type = ['lstm'],\n",
    "#     norm_edges = ['none'],\n",
    "#     norm_nodes = ['gn'],\n",
    "#     activation = [torch.nn.ReLU()],\n",
    "#     feat_drop = [0],\n",
    "#     # other\n",
    "#     lr=[1e-2],\n",
    "#     label_smoothing=[0.0],\n",
    "#     use_edge_weight=[True],\n",
    "#     add_self_loop=[True],\n",
    "#     drop_edges=[0],\n",
    "# )\n",
    "# list_model = [{i:j[k] for i,j in sage_model.items()} for k in range(len(sage_model['in_features']))]"
   ]
  },
  {
   "cell_type": "code",
   "execution_count": 27,
   "metadata": {
    "collapsed": false,
    "pycharm": {
     "name": "#%%\n"
    }
   },
   "outputs": [
    {
     "name": "stderr",
     "output_type": "stream",
     "text": [
      "100%|██████████| 168/168 [1:02:50<00:00, 22.44s/it]\n"
     ]
    }
   ],
   "source": [
    "if do_train:\n",
    "    for d in tqdm(list_model):\n",
    "        d = d.copy()\n",
    "        lr = d.pop('lr')\n",
    "        add_self_loop = d.pop('add_self_loop')\n",
    "        drop_edges = d.pop('drop_edges')\n",
    "        use_edge_weight = d.pop('use_edge_weight')\n",
    "\n",
    "        dataset_valid = ContagionDataset(\n",
    "            raw_dir=data_dir,\n",
    "            drop_edges=0,\n",
    "            sets_lengths=sets_lengths,\n",
    "            add_self_loop = add_self_loop,\n",
    "            target = target,\n",
    "        )\n",
    "\n",
    "        dataset_train = ContagionDataset(\n",
    "            raw_dir=data_dir,\n",
    "            drop_edges=drop_edges,\n",
    "            sets_lengths=sets_lengths,\n",
    "            add_self_loop = add_self_loop,\n",
    "            target = target,\n",
    "        )\n",
    "\n",
    "        train(\n",
    "            model=GraphSAGE(**d),\n",
    "            dict_model=d,\n",
    "            dataset_train=dataset_train,\n",
    "            dataset_val=dataset_valid,\n",
    "            log_dir=log_dir,\n",
    "            save_path=save_model,\n",
    "            lr=lr,\n",
    "            optimizer_name=\"adamw\",\n",
    "            n_epochs=100,\n",
    "            scheduler_mode='max_val_mcc',\n",
    "            debug_mode=False,\n",
    "            steps_save=10,\n",
    "            use_cpu=False,\n",
    "            use_edge_weight=use_edge_weight,\n",
    "            loss_type='mse',\n",
    "        )"
   ]
  },
  {
   "cell_type": "markdown",
   "metadata": {},
   "source": [
    "#### Results"
   ]
  },
  {
   "cell_type": "code",
   "execution_count": 28,
   "metadata": {},
   "outputs": [
    {
     "name": "stderr",
     "output_type": "stream",
     "text": [
      "100%|██████████| 2921/2921 [05:32<00:00,  8.78it/s]\n"
     ]
    }
   ],
   "source": [
    "res_edges_sage = test(\n",
    "    dataset=dataset_val,\n",
    "    save_path=save_model,\n",
    "    n_runs=1,\n",
    "    debug_mode=False,\n",
    "    use_cpu=False,\n",
    "    save=True,\n",
    "    use_edge_weight=True,\n",
    ")"
   ]
  },
  {
   "cell_type": "code",
   "execution_count": 29,
   "metadata": {},
   "outputs": [
    {
     "data": {
      "text/plain": [
       "{'in_features': 4,\n",
       " 'h_features': [25],\n",
       " 'out_features': 1,\n",
       " 'aggregator_type': 'lstm',\n",
       " 'norm_edges': 'none',\n",
       " 'norm_nodes': 'gn',\n",
       " 'activation': ReLU(),\n",
       " 'feat_drop': 0,\n",
       " 'tr_par_lr': 0.01,\n",
       " 'tr_par_optimizer_name': 'adamw',\n",
       " 'tr_par_scheduler_mode': 'max_val_mcc',\n",
       " 'tr_par_use_edge_weight': True,\n",
       " 'tr_par_loss_type': 'mse',\n",
       " 'tr_par_approach': 'dist',\n",
       " 'tr_par_scheduler_patience': 10,\n",
       " 'train_self_loop': True,\n",
       " 'train_drop_edges': 0,\n",
       " 'val_mcc': 0.6687805545758807,\n",
       " 'epoch': 80,\n",
       " 'train_loss': 0.008294858,\n",
       " 'val_loss': 0.01143741,\n",
       " 'train_acc': 0.8499999642372131,\n",
       " 'val_acc': 0.7666664123535156,\n",
       " 'val_rmse_perc': 0.105981015,\n",
       " 'model_class': 'sage',\n",
       " 'path_name': 'saved_sage_dist\\\\0.77_2023-03-30_22.33.15.019939_80',\n",
       " 'train_rmse': 0.4183300132670378,\n",
       " 'val_rmse': 0.48304589153964794,\n",
       " 'test_rmse': 0.5537749241945383,\n",
       " 'train_mae': 0.15833333333333333,\n",
       " 'val_mae': 0.23333333333333334,\n",
       " 'test_mae': 0.27555555555555555,\n",
       " 'train_mcc': 0.8017476260888731,\n",
       " 'test_mcc': 0.6546068728376354,\n",
       " 'test_acc': 0.7400000095367432,\n",
       " 'train_rmse_perc': 0.084194906,\n",
       " 'test_rmse_perc': 0.120859414,\n",
       " 'train_mae_perc': 0.0682484,\n",
       " 'val_mae_perc': 0.07931003,\n",
       " 'test_mae_perc': 0.08713639}"
      ]
     },
     "execution_count": 29,
     "metadata": {},
     "output_type": "execute_result"
    }
   ],
   "source": [
    "res_edges = res_edges_sage\n",
    "res_edges[0]"
   ]
  },
  {
   "cell_type": "code",
   "execution_count": 30,
   "metadata": {},
   "outputs": [
    {
     "data": {
      "text/plain": [
       "{'in_features': 4,\n",
       " 'h_features': [15, 15, 15],\n",
       " 'out_features': 1,\n",
       " 'aggregator_type': 'lstm',\n",
       " 'norm_edges': 'right',\n",
       " 'norm_nodes': 'gn',\n",
       " 'activation': ReLU(),\n",
       " 'feat_drop': 0,\n",
       " 'tr_par_lr': 0.01,\n",
       " 'tr_par_optimizer_name': 'adamw',\n",
       " 'tr_par_scheduler_mode': 'max_val_mcc',\n",
       " 'tr_par_use_edge_weight': True,\n",
       " 'tr_par_loss_type': 'mse',\n",
       " 'tr_par_approach': 'dist',\n",
       " 'tr_par_scheduler_patience': 10,\n",
       " 'train_self_loop': True,\n",
       " 'train_drop_edges': 0,\n",
       " 'val_mcc': 0.7244256247549917,\n",
       " 'epoch': 50,\n",
       " 'train_loss': 0.0049812044,\n",
       " 'val_loss': 0.010558005,\n",
       " 'train_acc': 0.9249999523162842,\n",
       " 'val_acc': 0.7999997735023499,\n",
       " 'val_rmse_perc': 0.09272639,\n",
       " 'model_class': 'sage',\n",
       " 'path_name': 'saved_sage_dist\\\\0.80_2023-03-30_21.43.37.265797_50',\n",
       " 'train_rmse': 0.27386127875258304,\n",
       " 'val_rmse': 0.4472135954999579,\n",
       " 'test_rmse': 0.5805489101161392,\n",
       " 'train_mae': 0.075,\n",
       " 'val_mae': 0.2,\n",
       " 'test_mae': 0.30148148148148146,\n",
       " 'train_mcc': 0.9005945812562289,\n",
       " 'test_mcc': 0.6196244667589538,\n",
       " 'test_acc': 0.7140740752220154,\n",
       " 'train_rmse_perc': 0.0698254,\n",
       " 'test_rmse_perc': 0.12404688,\n",
       " 'train_mae_perc': 0.05701902,\n",
       " 'val_mae_perc': 0.07236392,\n",
       " 'test_mae_perc': 0.089913316}"
      ]
     },
     "execution_count": 30,
     "metadata": {},
     "output_type": "execute_result"
    }
   ],
   "source": [
    "all = res_edges[2]\n",
    "\n",
    "sort_idx = np.argsort([k['dict'][metric_filter_1] for k in all])\n",
    "all[sort_idx[0]]['dict']"
   ]
  },
  {
   "cell_type": "code",
   "execution_count": 31,
   "metadata": {},
   "outputs": [
    {
     "data": {
      "text/plain": [
       "{'in_features': 4,\n",
       " 'h_features': [25],\n",
       " 'out_features': 1,\n",
       " 'aggregator_type': 'lstm',\n",
       " 'norm_edges': 'none',\n",
       " 'norm_nodes': 'gn',\n",
       " 'activation': ReLU(),\n",
       " 'feat_drop': 0,\n",
       " 'tr_par_lr': 0.01,\n",
       " 'tr_par_optimizer_name': 'adamw',\n",
       " 'tr_par_scheduler_mode': 'max_val_mcc',\n",
       " 'tr_par_use_edge_weight': True,\n",
       " 'tr_par_loss_type': 'mse',\n",
       " 'tr_par_approach': 'dist',\n",
       " 'tr_par_scheduler_patience': 10,\n",
       " 'train_self_loop': True,\n",
       " 'train_drop_edges': 0,\n",
       " 'val_mcc': 0.6687805545758807,\n",
       " 'epoch': 100,\n",
       " 'train_loss': 0.008266096,\n",
       " 'val_loss': 0.011465361,\n",
       " 'train_acc': 0.8499999642372131,\n",
       " 'val_acc': 0.7666664123535156,\n",
       " 'val_rmse_perc': 0.10598496,\n",
       " 'model_class': 'sage',\n",
       " 'path_name': 'saved_sage_dist\\\\0.77_2023-03-30_22.33.15.019939_100',\n",
       " 'train_rmse': 0.4183300132670378,\n",
       " 'val_rmse': 0.48304589153964794,\n",
       " 'test_rmse': 0.55444333110554,\n",
       " 'train_mae': 0.15833333333333333,\n",
       " 'val_mae': 0.23333333333333334,\n",
       " 'test_mae': 0.2762962962962963,\n",
       " 'train_mcc': 0.8017476260888731,\n",
       " 'test_mcc': 0.6536481798626558,\n",
       " 'test_acc': 0.7392592430114746,\n",
       " 'train_rmse_perc': 0.084132284,\n",
       " 'test_rmse_perc': 0.120805435,\n",
       " 'train_mae_perc': 0.06828142,\n",
       " 'val_mae_perc': 0.07943917,\n",
       " 'test_mae_perc': 0.08704579}"
      ]
     },
     "execution_count": 31,
     "metadata": {},
     "output_type": "execute_result"
    }
   ],
   "source": [
    "all = res_edges[2]\n",
    "\n",
    "sort_idx = np.argsort([k['dict'][metric_filter_2] for k in all])\n",
    "all[sort_idx[0]]['dict']"
   ]
  },
  {
   "cell_type": "code",
   "execution_count": 32,
   "metadata": {},
   "outputs": [
    {
     "name": "stderr",
     "output_type": "stream",
     "text": [
      "100%|██████████| 2921/2921 [00:00<00:00, 26235.28it/s]\n"
     ]
    }
   ],
   "source": [
    "pretty([all[k]['dict'] for k in sort_idx])"
   ]
  },
  {
   "cell_type": "markdown",
   "metadata": {},
   "source": [
    "#### cm"
   ]
  },
  {
   "cell_type": "code",
   "execution_count": 33,
   "metadata": {},
   "outputs": [],
   "source": [
    "cm = all[sort_idx[0]]['test_cm'][0]"
   ]
  },
  {
   "cell_type": "code",
   "execution_count": 34,
   "metadata": {},
   "outputs": [
    {
     "data": {
      "text/plain": [
       "tensor(335)"
      ]
     },
     "execution_count": 34,
     "metadata": {},
     "output_type": "execute_result"
    }
   ],
   "source": [
    "(cm.labels==0).sum()"
   ]
  },
  {
   "cell_type": "code",
   "execution_count": 35,
   "metadata": {},
   "outputs": [
    {
     "data": {
      "text/plain": [
       "<module 'matplotlib.pyplot' from 'c:\\\\Users\\\\vibal\\\\miniconda3\\\\envs\\\\ml\\\\lib\\\\site-packages\\\\matplotlib\\\\pyplot.py'>"
      ]
     },
     "execution_count": 35,
     "metadata": {},
     "output_type": "execute_result"
    },
    {
     "data": {
      "image/png": "[encoded data removed]",
      "text/plain": [
       "<Figure size 1500x1000 with 2 Axes>"
      ]
     },
     "metadata": {},
     "output_type": "display_data"
    }
   ],
   "source": [
    "cm.visualize()"
   ]
  },
  {
   "cell_type": "code",
   "execution_count": 36,
   "metadata": {},
   "outputs": [
    {
     "data": {
      "text/plain": [
       "tensor([0.7821, 0.7545, 0.6140, 0.8083])"
      ]
     },
     "execution_count": 36,
     "metadata": {},
     "output_type": "execute_result"
    }
   ],
   "source": [
    "cm.class_accuracy"
   ]
  },
  {
   "cell_type": "code",
   "execution_count": 37,
   "metadata": {},
   "outputs": [
    {
     "data": {
      "text/plain": [
       "[0.11187979, 0.12281127, 0.12362353, 0.12437823]"
      ]
     },
     "execution_count": 37,
     "metadata": {},
     "output_type": "execute_result"
    }
   ],
   "source": [
    "[mean_squared_error(y_true=cm.true_percentiles[cm.labels==k], y_pred=cm.perc[cm.labels==k], squared=False) for k in range(0, cm.size)]"
   ]
  },
  {
   "cell_type": "code",
   "execution_count": 38,
   "metadata": {},
   "outputs": [
    {
     "data": {
      "text/plain": [
       "[0.07406783, 0.08507681, 0.096324876, 0.092449315]"
      ]
     },
     "execution_count": 38,
     "metadata": {},
     "output_type": "execute_result"
    }
   ],
   "source": [
    "[mean_absolute_error(y_true=cm.true_percentiles[cm.labels==k], y_pred=cm.perc[cm.labels==k]) for k in range(0, cm.size)]"
   ]
  },
  {
   "cell_type": "markdown",
   "metadata": {},
   "source": [
    "#### GraphSAGE Base_n"
   ]
  },
  {
   "cell_type": "code",
   "execution_count": 39,
   "metadata": {},
   "outputs": [],
   "source": [
    "save_model = f'{save_path}_sage_base'\n",
    "log_dir = f'{log_path}_sage_base'\n",
    "\n",
    "dataset_val = ContagionDataset(\n",
    "    raw_dir=data_dir,\n",
    "    drop_edges=0,\n",
    "    sets_lengths=sets_lengths,\n",
    "    add_self_loop = True,\n",
    "    target = target,\n",
    ")\n",
    "\n",
    "sage_model = dict(\n",
    "    in_features = [len(dataset.node_attributes)],\n",
    "    h_features = [[15] * 3, [20], [15], [20] * 2, [15] * 2, [25], [30]], \n",
    "    out_features = [out_feats],\n",
    "    aggregator_type = ['mean', 'lstm'],\n",
    "    norm_edges = ['right', 'none'],\n",
    "    norm_nodes = [None, 'bn', 'gn'],\n",
    "    activation = [torch.nn.ReLU()],\n",
    "    feat_drop = [0.2, 0],\n",
    "    # other\n",
    "    lr=[1e-2],\n",
    "    use_edge_weight=[True],\n",
    "    add_self_loop=[True],\n",
    "    drop_edges=[0,0.2],\n",
    ")\n",
    "list_model = [dict(zip(sage_model.keys(), k)) for k in itertools.product(*sage_model.values())]\n",
    "\n",
    "# sage_model = dict(\n",
    "#     in_features = [len(dataset.node_attributes)],\n",
    "#     h_features = [[30] * 3], \n",
    "#     out_features = [out_feats],\n",
    "#     aggregator_type = ['lstm'],\n",
    "#     norm_edges = ['none'],\n",
    "#     norm_nodes = ['gn'],\n",
    "#     activation = [torch.nn.ReLU()],\n",
    "#     feat_drop = [0],\n",
    "#     # other\n",
    "#     lr=[1e-2],\n",
    "#     label_smoothing=[0.0],\n",
    "#     use_edge_weight=[True],\n",
    "#     add_self_loop=[True],\n",
    "#     drop_edges=[0],\n",
    "# )\n",
    "# list_model = [{i:j[k] for i,j in sage_model.items()} for k in range(len(sage_model['in_features']))]"
   ]
  },
  {
   "cell_type": "code",
   "execution_count": 40,
   "metadata": {
    "collapsed": false,
    "pycharm": {
     "name": "#%%\n"
    }
   },
   "outputs": [
    {
     "name": "stderr",
     "output_type": "stream",
     "text": [
      "100%|██████████| 336/336 [1:16:20<00:00, 13.63s/it]\n"
     ]
    }
   ],
   "source": [
    "if do_train:\n",
    "    for d in tqdm(list_model):\n",
    "        d = d.copy()\n",
    "        lr = d.pop('lr')\n",
    "        add_self_loop = d.pop('add_self_loop')\n",
    "        drop_edges = d.pop('drop_edges')\n",
    "        use_edge_weight = d.pop('use_edge_weight')\n",
    "\n",
    "        dataset_valid = ContagionDataset(\n",
    "            raw_dir=data_dir,\n",
    "            drop_edges=0,\n",
    "            sets_lengths=sets_lengths,\n",
    "            add_self_loop = add_self_loop,\n",
    "            target = target,\n",
    "        )\n",
    "\n",
    "        dataset_train = ContagionDataset(\n",
    "            raw_dir=data_dir,\n",
    "            drop_edges=drop_edges,\n",
    "            sets_lengths=sets_lengths,\n",
    "            add_self_loop = add_self_loop,\n",
    "            target = target,\n",
    "        )\n",
    "\n",
    "        train(\n",
    "            model=GraphSAGE(**d),\n",
    "            dict_model=d,\n",
    "            dataset_train=dataset_train,\n",
    "            dataset_val=dataset_valid,\n",
    "            log_dir=log_dir,\n",
    "            save_path=save_model,\n",
    "            lr=lr,\n",
    "            optimizer_name=\"adamw\",\n",
    "            n_epochs=100,\n",
    "            scheduler_mode='max_val_mcc',\n",
    "            debug_mode=False,\n",
    "            steps_save=10,\n",
    "            use_cpu=False,\n",
    "            use_edge_weight=use_edge_weight,\n",
    "            loss_type='mse',\n",
    "            approach='base_n',\n",
    "        )"
   ]
  },
  {
   "cell_type": "markdown",
   "metadata": {},
   "source": [
    "##### Results"
   ]
  },
  {
   "cell_type": "code",
   "execution_count": 41,
   "metadata": {},
   "outputs": [
    {
     "name": "stderr",
     "output_type": "stream",
     "text": [
      "100%|██████████| 5340/5340 [11:09<00:00,  7.98it/s]\n"
     ]
    }
   ],
   "source": [
    "res_edges_sage_base = test(\n",
    "    dataset=dataset_val,\n",
    "    save_path=save_model,\n",
    "    n_runs=1,\n",
    "    debug_mode=False,\n",
    "    use_cpu=False,\n",
    "    save=True,\n",
    "    use_edge_weight=True,\n",
    "    approach_default='base_n',\n",
    ")"
   ]
  },
  {
   "cell_type": "code",
   "execution_count": 42,
   "metadata": {},
   "outputs": [
    {
     "data": {
      "text/plain": [
       "{'in_features': 4,\n",
       " 'h_features': [15, 15],\n",
       " 'out_features': 1,\n",
       " 'aggregator_type': 'lstm',\n",
       " 'norm_edges': 'none',\n",
       " 'norm_nodes': 'bn',\n",
       " 'activation': ReLU(),\n",
       " 'feat_drop': 0,\n",
       " 'tr_par_lr': 0.01,\n",
       " 'tr_par_optimizer_name': 'adamw',\n",
       " 'tr_par_scheduler_mode': 'max_val_mcc',\n",
       " 'tr_par_use_edge_weight': True,\n",
       " 'tr_par_loss_type': 'mse',\n",
       " 'tr_par_approach': 'base_n',\n",
       " 'tr_par_scheduler_patience': 10,\n",
       " 'train_self_loop': True,\n",
       " 'train_drop_edges': 0,\n",
       " 'val_mcc': 0.44314722829403247,\n",
       " 'epoch': 50,\n",
       " 'train_loss': 0.008034148,\n",
       " 'val_loss': 0.026777541,\n",
       " 'train_acc': 0.5916666388511658,\n",
       " 'val_acc': 0.5999997854232788,\n",
       " 'val_rmse_perc': 0.120056085,\n",
       " 'model_class': 'sage',\n",
       " 'path_name': 'saved_sage_base\\\\0.60_2023-03-30_23.42.50.508865_50',\n",
       " 'train_rmse': 0.6582805886043833,\n",
       " 'val_rmse': 0.6324555320336759,\n",
       " 'test_rmse': 0.7023769168568492,\n",
       " 'train_mae': 0.4166666666666667,\n",
       " 'val_mae': 0.4,\n",
       " 'test_mae': 0.4414814814814815,\n",
       " 'train_mcc': 0.520850398819945,\n",
       " 'test_mcc': 0.48636269837407975,\n",
       " 'test_acc': 0.5822222232818604,\n",
       " 'train_rmse_perc': 0.12374279,\n",
       " 'test_rmse_perc': 0.1504615,\n",
       " 'train_mae_perc': 0.09619656,\n",
       " 'val_mae_perc': 0.09452047,\n",
       " 'test_mae_perc': 0.10921316}"
      ]
     },
     "execution_count": 42,
     "metadata": {},
     "output_type": "execute_result"
    }
   ],
   "source": [
    "res_edges = res_edges_sage_base\n",
    "res_edges[0]"
   ]
  },
  {
   "cell_type": "code",
   "execution_count": 43,
   "metadata": {},
   "outputs": [
    {
     "data": {
      "text/plain": [
       "{'in_features': 4,\n",
       " 'h_features': [15, 15],\n",
       " 'out_features': 1,\n",
       " 'aggregator_type': 'lstm',\n",
       " 'norm_edges': 'none',\n",
       " 'norm_nodes': 'bn',\n",
       " 'activation': ReLU(),\n",
       " 'feat_drop': 0,\n",
       " 'tr_par_lr': 0.01,\n",
       " 'tr_par_optimizer_name': 'adamw',\n",
       " 'tr_par_scheduler_mode': 'max_val_mcc',\n",
       " 'tr_par_use_edge_weight': True,\n",
       " 'tr_par_loss_type': 'mse',\n",
       " 'tr_par_approach': 'base_n',\n",
       " 'tr_par_scheduler_patience': 10,\n",
       " 'train_self_loop': True,\n",
       " 'train_drop_edges': 0,\n",
       " 'val_mcc': 0.49858170925731227,\n",
       " 'epoch': 40,\n",
       " 'train_loss': 0.011523595,\n",
       " 'val_loss': 0.026261542,\n",
       " 'train_acc': 0.5999999642372131,\n",
       " 'val_acc': 0.633333146572113,\n",
       " 'val_rmse_perc': 0.11692519,\n",
       " 'model_class': 'sage',\n",
       " 'path_name': 'saved_sage_base\\\\0.63_2023-03-30_23.42.50.508865_40',\n",
       " 'train_rmse': 0.6519202405202649,\n",
       " 'val_rmse': 0.6055300708194983,\n",
       " 'test_rmse': 0.7169895913289636,\n",
       " 'train_mae': 0.4083333333333333,\n",
       " 'val_mae': 0.36666666666666664,\n",
       " 'test_mae': 0.4651851851851852,\n",
       " 'train_mcc': 0.5338470932927505,\n",
       " 'test_mcc': 0.45256325032373806,\n",
       " 'test_acc': 0.5562962889671326,\n",
       " 'train_rmse_perc': 0.12383243,\n",
       " 'test_rmse_perc': 0.15083976,\n",
       " 'train_mae_perc': 0.095420204,\n",
       " 'val_mae_perc': 0.09751067,\n",
       " 'test_mae_perc': 0.11087873}"
      ]
     },
     "execution_count": 43,
     "metadata": {},
     "output_type": "execute_result"
    }
   ],
   "source": [
    "all = res_edges[2]\n",
    "\n",
    "sort_idx = np.argsort([k['dict'][metric_filter_1] for k in all])\n",
    "all[sort_idx[0]]['dict']"
   ]
  },
  {
   "cell_type": "code",
   "execution_count": 44,
   "metadata": {},
   "outputs": [
    {
     "data": {
      "text/plain": [
       "{'in_features': 4,\n",
       " 'h_features': [15, 15],\n",
       " 'out_features': 1,\n",
       " 'aggregator_type': 'lstm',\n",
       " 'norm_edges': 'none',\n",
       " 'norm_nodes': 'bn',\n",
       " 'activation': ReLU(),\n",
       " 'feat_drop': 0,\n",
       " 'tr_par_lr': 0.01,\n",
       " 'tr_par_optimizer_name': 'adamw',\n",
       " 'tr_par_scheduler_mode': 'max_val_mcc',\n",
       " 'tr_par_use_edge_weight': True,\n",
       " 'tr_par_loss_type': 'mse',\n",
       " 'tr_par_approach': 'base_n',\n",
       " 'tr_par_scheduler_patience': 10,\n",
       " 'train_self_loop': True,\n",
       " 'train_drop_edges': 0,\n",
       " 'val_mcc': 0.44314722829403247,\n",
       " 'epoch': 50,\n",
       " 'train_loss': 0.008034148,\n",
       " 'val_loss': 0.026777541,\n",
       " 'train_acc': 0.5916666388511658,\n",
       " 'val_acc': 0.5999997854232788,\n",
       " 'val_rmse_perc': 0.120056085,\n",
       " 'model_class': 'sage',\n",
       " 'path_name': 'saved_sage_base\\\\0.60_2023-03-30_23.42.50.508865_50',\n",
       " 'train_rmse': 0.6582805886043833,\n",
       " 'val_rmse': 0.6324555320336759,\n",
       " 'test_rmse': 0.7023769168568492,\n",
       " 'train_mae': 0.4166666666666667,\n",
       " 'val_mae': 0.4,\n",
       " 'test_mae': 0.4414814814814815,\n",
       " 'train_mcc': 0.520850398819945,\n",
       " 'test_mcc': 0.48636269837407975,\n",
       " 'test_acc': 0.5822222232818604,\n",
       " 'train_rmse_perc': 0.12374279,\n",
       " 'test_rmse_perc': 0.1504615,\n",
       " 'train_mae_perc': 0.09619656,\n",
       " 'val_mae_perc': 0.09452047,\n",
       " 'test_mae_perc': 0.10921316}"
      ]
     },
     "execution_count": 44,
     "metadata": {},
     "output_type": "execute_result"
    }
   ],
   "source": [
    "all = res_edges[2]\n",
    "\n",
    "sort_idx = np.argsort([k['dict'][metric_filter_2] for k in all])\n",
    "all[sort_idx[0]]['dict']"
   ]
  },
  {
   "cell_type": "code",
   "execution_count": 45,
   "metadata": {},
   "outputs": [
    {
     "name": "stderr",
     "output_type": "stream",
     "text": [
      "100%|██████████| 5340/5340 [00:00<00:00, 18164.99it/s]\n"
     ]
    }
   ],
   "source": [
    "pretty([all[k]['dict'] for k in sort_idx])"
   ]
  },
  {
   "cell_type": "markdown",
   "metadata": {},
   "source": [
    "##### cm"
   ]
  },
  {
   "cell_type": "code",
   "execution_count": 46,
   "metadata": {},
   "outputs": [],
   "source": [
    "cm = all[sort_idx[0]]['test_cm'][0]"
   ]
  },
  {
   "cell_type": "code",
   "execution_count": 47,
   "metadata": {},
   "outputs": [
    {
     "data": {
      "text/plain": [
       "tensor(335)"
      ]
     },
     "execution_count": 47,
     "metadata": {},
     "output_type": "execute_result"
    }
   ],
   "source": [
    "(cm.labels==0).sum()"
   ]
  },
  {
   "cell_type": "code",
   "execution_count": 48,
   "metadata": {},
   "outputs": [
    {
     "data": {
      "text/plain": [
       "<module 'matplotlib.pyplot' from 'c:\\\\Users\\\\vibal\\\\miniconda3\\\\envs\\\\ml\\\\lib\\\\site-packages\\\\matplotlib\\\\pyplot.py'>"
      ]
     },
     "execution_count": 48,
     "metadata": {},
     "output_type": "execute_result"
    },
    {
     "data": {
      "image/png": "[encoded data removed]",
      "text/plain": [
       "<Figure size 1500x1000 with 2 Axes>"
      ]
     },
     "metadata": {},
     "output_type": "display_data"
    }
   ],
   "source": [
    "cm.visualize()"
   ]
  },
  {
   "cell_type": "code",
   "execution_count": 49,
   "metadata": {},
   "outputs": [
    {
     "data": {
      "text/plain": [
       "tensor([0.8299, 0.5749, 0.8655, 0.0590])"
      ]
     },
     "execution_count": 49,
     "metadata": {},
     "output_type": "execute_result"
    }
   ],
   "source": [
    "cm.class_accuracy"
   ]
  },
  {
   "cell_type": "code",
   "execution_count": 50,
   "metadata": {},
   "outputs": [
    {
     "data": {
      "text/plain": [
       "[0.16863516, 0.12482597, 0.08718976, 0.19756179]"
      ]
     },
     "execution_count": 50,
     "metadata": {},
     "output_type": "execute_result"
    }
   ],
   "source": [
    "[mean_squared_error(y_true=cm.true_percentiles[cm.labels==k], y_pred=cm.perc[cm.labels==k], squared=False) for k in range(0, cm.size)]"
   ]
  },
  {
   "cell_type": "code",
   "execution_count": 51,
   "metadata": {},
   "outputs": [
    {
     "data": {
      "text/plain": [
       "[0.09668238, 0.09605375, 0.067509815, 0.17663379]"
      ]
     },
     "execution_count": 51,
     "metadata": {},
     "output_type": "execute_result"
    }
   ],
   "source": [
    "[mean_absolute_error(y_true=cm.true_percentiles[cm.labels==k], y_pred=cm.perc[cm.labels==k]) for k in range(0, cm.size)]"
   ]
  },
  {
   "cell_type": "markdown",
   "metadata": {},
   "source": [
    "#### GraphSAGE Scale"
   ]
  },
  {
   "cell_type": "code",
   "execution_count": 52,
   "metadata": {},
   "outputs": [],
   "source": [
    "save_model = f'{save_path}_sage_scale'\n",
    "log_dir = f'{log_path}_sage_scale'\n",
    "\n",
    "dataset_val = ContagionDataset(\n",
    "    raw_dir=data_dir,\n",
    "    drop_edges=0,\n",
    "    sets_lengths=sets_lengths,\n",
    "    add_self_loop = True,\n",
    "    target = target,\n",
    ")\n",
    "\n",
    "sage_model = dict(\n",
    "    in_features = [len(dataset.node_attributes)],\n",
    "    h_features = [[15] * 3, [20], [15], [20] * 2, [15] * 2, [25], [30]], \n",
    "    out_features = [out_feats],\n",
    "    aggregator_type = ['mean', 'lstm'],\n",
    "    norm_edges = ['right', 'none'],\n",
    "    norm_nodes = [None, 'bn', 'gn'],\n",
    "    activation = [torch.nn.ReLU()],\n",
    "    feat_drop = [0.2, 0],\n",
    "    # other\n",
    "    lr=[1e-2],\n",
    "    use_edge_weight=[True],\n",
    "    add_self_loop=[True],\n",
    "    drop_edges=[0,0.2],\n",
    ")\n",
    "list_model = [dict(zip(sage_model.keys(), k)) for k in itertools.product(*sage_model.values())]\n",
    "\n",
    "# sage_model = dict(\n",
    "#     in_features = [len(dataset.node_attributes)],\n",
    "#     h_features = [[30] * 3], \n",
    "#     out_features = [out_feats],\n",
    "#     aggregator_type = ['lstm'],\n",
    "#     norm_edges = ['none'],\n",
    "#     norm_nodes = ['gn'],\n",
    "#     activation = [torch.nn.ReLU()],\n",
    "#     feat_drop = [0],\n",
    "#     # other\n",
    "#     lr=[1e-2],\n",
    "#     label_smoothing=[0.0],\n",
    "#     use_edge_weight=[True],\n",
    "#     add_self_loop=[True],\n",
    "#     drop_edges=[0],\n",
    "# )\n",
    "# list_model = [{i:j[k] for i,j in sage_model.items()} for k in range(len(sage_model['in_features']))]"
   ]
  },
  {
   "cell_type": "code",
   "execution_count": 53,
   "metadata": {
    "collapsed": false,
    "pycharm": {
     "name": "#%%\n"
    }
   },
   "outputs": [
    {
     "name": "stderr",
     "output_type": "stream",
     "text": [
      "100%|██████████| 336/336 [1:23:30<00:00, 14.91s/it]\n"
     ]
    }
   ],
   "source": [
    "if do_train:\n",
    "    for d in tqdm(list_model):\n",
    "        d = d.copy()\n",
    "        lr = d.pop('lr')\n",
    "        add_self_loop = d.pop('add_self_loop')\n",
    "        drop_edges = d.pop('drop_edges')\n",
    "        use_edge_weight = d.pop('use_edge_weight')\n",
    "\n",
    "        dataset_valid = ContagionDataset(\n",
    "            raw_dir=data_dir,\n",
    "            drop_edges=0,\n",
    "            sets_lengths=sets_lengths,\n",
    "            add_self_loop = add_self_loop,\n",
    "            target = target,\n",
    "        )\n",
    "\n",
    "        dataset_train = ContagionDataset(\n",
    "            raw_dir=data_dir,\n",
    "            drop_edges=drop_edges,\n",
    "            sets_lengths=sets_lengths,\n",
    "            add_self_loop = add_self_loop,\n",
    "            target = target,\n",
    "        )\n",
    "\n",
    "        train(\n",
    "            model=GraphSAGE(**d),\n",
    "            dict_model=d,\n",
    "            dataset_train=dataset_train,\n",
    "            dataset_val=dataset_valid,\n",
    "            log_dir=log_dir,\n",
    "            save_path=save_model,\n",
    "            lr=lr,\n",
    "            optimizer_name=\"adamw\",\n",
    "            n_epochs=100,\n",
    "            scheduler_mode='max_val_mcc',\n",
    "            debug_mode=False,\n",
    "            steps_save=10,\n",
    "            use_cpu=False,\n",
    "            use_edge_weight=use_edge_weight,\n",
    "            loss_type='mse',\n",
    "            approach='scale',\n",
    "        )"
   ]
  },
  {
   "cell_type": "markdown",
   "metadata": {},
   "source": [
    "##### Results"
   ]
  },
  {
   "cell_type": "code",
   "execution_count": 54,
   "metadata": {},
   "outputs": [
    {
     "name": "stderr",
     "output_type": "stream",
     "text": [
      "100%|██████████| 5750/5750 [11:20<00:00,  8.45it/s]\n"
     ]
    }
   ],
   "source": [
    "res_edges_sage_scale = test(\n",
    "    dataset=dataset_val,\n",
    "    save_path=save_model,\n",
    "    n_runs=1,\n",
    "    debug_mode=False,\n",
    "    use_cpu=False,\n",
    "    save=True,\n",
    "    use_edge_weight=True,\n",
    "    approach_default='scale',\n",
    ")"
   ]
  },
  {
   "cell_type": "code",
   "execution_count": 55,
   "metadata": {},
   "outputs": [
    {
     "data": {
      "text/plain": [
       "{'in_features': 4,\n",
       " 'h_features': [15, 15],\n",
       " 'out_features': 1,\n",
       " 'aggregator_type': 'lstm',\n",
       " 'norm_edges': 'none',\n",
       " 'norm_nodes': 'bn',\n",
       " 'activation': ReLU(),\n",
       " 'feat_drop': 0,\n",
       " 'tr_par_lr': 0.01,\n",
       " 'tr_par_optimizer_name': 'adamw',\n",
       " 'tr_par_scheduler_mode': 'max_val_mcc',\n",
       " 'tr_par_use_edge_weight': True,\n",
       " 'tr_par_loss_type': 'mse',\n",
       " 'tr_par_approach': 'scale',\n",
       " 'tr_par_scheduler_patience': 10,\n",
       " 'train_self_loop': True,\n",
       " 'train_drop_edges': 0,\n",
       " 'val_mcc': 0.5421151989096864,\n",
       " 'epoch': 80,\n",
       " 'train_loss': 0.010116731,\n",
       " 'val_loss': 0.027939655,\n",
       " 'train_acc': 0.8583332896232605,\n",
       " 'val_acc': 0.6666664481163025,\n",
       " 'val_rmse_perc': 0.15404807,\n",
       " 'model_class': 'sage',\n",
       " 'path_name': 'saved_sage_scale\\\\0.67_2023-03-31_01.15.30.863212_80',\n",
       " 'train_rmse': 0.408248290463863,\n",
       " 'val_rmse': 0.6582805886043833,\n",
       " 'test_rmse': 0.6283429118043864,\n",
       " 'train_mae': 0.15,\n",
       " 'val_mae': 0.36666666666666664,\n",
       " 'test_mae': 0.32814814814814813,\n",
       " 'train_mcc': 0.8154920111019092,\n",
       " 'test_mcc': 0.6075377675844287,\n",
       " 'test_acc': 0.7029629349708557,\n",
       " 'train_rmse_perc': 0.08955859,\n",
       " 'test_rmse_perc': 0.13874006,\n",
       " 'train_mae_perc': 0.067038424,\n",
       " 'val_mae_perc': 0.11562562,\n",
       " 'test_mae_perc': 0.09805709}"
      ]
     },
     "execution_count": 55,
     "metadata": {},
     "output_type": "execute_result"
    }
   ],
   "source": [
    "res_edges = res_edges_sage_scale\n",
    "res_edges[0]"
   ]
  },
  {
   "cell_type": "code",
   "execution_count": 56,
   "metadata": {},
   "outputs": [
    {
     "data": {
      "text/plain": [
       "{'in_features': 4,\n",
       " 'h_features': [15, 15, 15],\n",
       " 'out_features': 1,\n",
       " 'aggregator_type': 'lstm',\n",
       " 'norm_edges': 'right',\n",
       " 'norm_nodes': 'bn',\n",
       " 'activation': ReLU(),\n",
       " 'feat_drop': 0,\n",
       " 'tr_par_lr': 0.01,\n",
       " 'tr_par_optimizer_name': 'adamw',\n",
       " 'tr_par_scheduler_mode': 'max_val_mcc',\n",
       " 'tr_par_use_edge_weight': True,\n",
       " 'tr_par_loss_type': 'mse',\n",
       " 'tr_par_approach': 'scale',\n",
       " 'tr_par_scheduler_patience': 10,\n",
       " 'train_self_loop': True,\n",
       " 'train_drop_edges': 0.2,\n",
       " 'val_mcc': 0.8194965287937439,\n",
       " 'epoch': 79,\n",
       " 'train_loss': 0.042891107,\n",
       " 'val_loss': 0.018039433,\n",
       " 'train_acc': 0.8416666388511658,\n",
       " 'val_acc': 0.8666663765907288,\n",
       " 'val_rmse_perc': 0.12281855,\n",
       " 'model_class': 'sage',\n",
       " 'path_name': 'saved_sage_scale\\\\0.87_2023-03-31_00.22.47.098928',\n",
       " 'train_rmse': 0.4281744192888376,\n",
       " 'val_rmse': 0.48304589153964794,\n",
       " 'test_rmse': 0.7338382100425941,\n",
       " 'train_mae': 0.16666666666666666,\n",
       " 'val_mae': 0.16666666666666666,\n",
       " 'test_mae': 0.40370370370370373,\n",
       " 'train_mcc': 0.7926739797813105,\n",
       " 'test_mcc': 0.541324387322616,\n",
       " 'test_acc': 0.6555555462837219,\n",
       " 'train_rmse_perc': 0.10318509,\n",
       " 'test_rmse_perc': 0.16317932,\n",
       " 'train_mae_perc': 0.075751975,\n",
       " 'val_mae_perc': 0.09280174,\n",
       " 'test_mae_perc': 0.113626935}"
      ]
     },
     "execution_count": 56,
     "metadata": {},
     "output_type": "execute_result"
    }
   ],
   "source": [
    "all = res_edges[2]\n",
    "\n",
    "sort_idx = np.argsort([k['dict'][metric_filter_1] for k in all])\n",
    "all[sort_idx[0]]['dict']"
   ]
  },
  {
   "cell_type": "code",
   "execution_count": 57,
   "metadata": {},
   "outputs": [
    {
     "data": {
      "text/plain": [
       "{'in_features': 4,\n",
       " 'h_features': [20, 20],\n",
       " 'out_features': 1,\n",
       " 'aggregator_type': 'lstm',\n",
       " 'norm_edges': 'none',\n",
       " 'norm_nodes': 'bn',\n",
       " 'activation': ReLU(),\n",
       " 'feat_drop': 0,\n",
       " 'tr_par_lr': 0.01,\n",
       " 'tr_par_optimizer_name': 'adamw',\n",
       " 'tr_par_scheduler_mode': 'max_val_mcc',\n",
       " 'tr_par_use_edge_weight': True,\n",
       " 'tr_par_loss_type': 'mse',\n",
       " 'tr_par_approach': 'scale',\n",
       " 'tr_par_scheduler_patience': 10,\n",
       " 'train_self_loop': True,\n",
       " 'train_drop_edges': 0,\n",
       " 'val_mcc': 0.5746751208615254,\n",
       " 'epoch': 30,\n",
       " 'train_loss': 0.022761375,\n",
       " 'val_loss': 0.034857526,\n",
       " 'train_acc': 0.8249999284744263,\n",
       " 'val_acc': 0.6999997496604919,\n",
       " 'val_rmse_perc': 0.14437981,\n",
       " 'model_class': 'sage',\n",
       " 'path_name': 'saved_sage_scale\\\\0.70_2023-03-31_01.02.10.867737_30',\n",
       " 'train_rmse': 0.4743416490252569,\n",
       " 'val_rmse': 0.5477225575051661,\n",
       " 'test_rmse': 0.6200358412579424,\n",
       " 'train_mae': 0.19166666666666668,\n",
       " 'val_mae': 0.3,\n",
       " 'test_mae': 0.3414814814814815,\n",
       " 'train_mcc': 0.7688162766753286,\n",
       " 'test_mcc': 0.5764939731939038,\n",
       " 'test_acc': 0.6800000071525574,\n",
       " 'train_rmse_perc': 0.10889495,\n",
       " 'test_rmse_perc': 0.13607995,\n",
       " 'train_mae_perc': 0.08903071,\n",
       " 'val_mae_perc': 0.11850645,\n",
       " 'test_mae_perc': 0.10433143}"
      ]
     },
     "execution_count": 57,
     "metadata": {},
     "output_type": "execute_result"
    }
   ],
   "source": [
    "all = res_edges[2]\n",
    "\n",
    "sort_idx = np.argsort([k['dict'][metric_filter_2] for k in all])\n",
    "all[sort_idx[0]]['dict']"
   ]
  },
  {
   "cell_type": "code",
   "execution_count": 58,
   "metadata": {},
   "outputs": [
    {
     "name": "stderr",
     "output_type": "stream",
     "text": [
      "100%|██████████| 5750/5750 [00:00<00:00, 17014.59it/s]\n"
     ]
    }
   ],
   "source": [
    "pretty([all[k]['dict'] for k in sort_idx])"
   ]
  },
  {
   "cell_type": "markdown",
   "metadata": {},
   "source": [
    "##### cm"
   ]
  },
  {
   "cell_type": "code",
   "execution_count": 59,
   "metadata": {},
   "outputs": [],
   "source": [
    "cm = all[sort_idx[0]]['test_cm'][0]"
   ]
  },
  {
   "cell_type": "code",
   "execution_count": 60,
   "metadata": {},
   "outputs": [
    {
     "data": {
      "text/plain": [
       "tensor(335)"
      ]
     },
     "execution_count": 60,
     "metadata": {},
     "output_type": "execute_result"
    }
   ],
   "source": [
    "(cm.labels==0).sum()"
   ]
  },
  {
   "cell_type": "code",
   "execution_count": 61,
   "metadata": {},
   "outputs": [
    {
     "data": {
      "text/plain": [
       "<module 'matplotlib.pyplot' from 'c:\\\\Users\\\\vibal\\\\miniconda3\\\\envs\\\\ml\\\\lib\\\\site-packages\\\\matplotlib\\\\pyplot.py'>"
      ]
     },
     "execution_count": 61,
     "metadata": {},
     "output_type": "execute_result"
    },
    {
     "data": {
      "image/png": "[encoded data removed]",
      "text/plain": [
       "<Figure size 1500x1000 with 2 Axes>"
      ]
     },
     "metadata": {},
     "output_type": "display_data"
    }
   ],
   "source": [
    "cm.visualize()"
   ]
  },
  {
   "cell_type": "code",
   "execution_count": 62,
   "metadata": {},
   "outputs": [
    {
     "data": {
      "text/plain": [
       "tensor([0.7284, 0.7096, 0.4825, 0.8024])"
      ]
     },
     "execution_count": 62,
     "metadata": {},
     "output_type": "execute_result"
    }
   ],
   "source": [
    "cm.class_accuracy"
   ]
  },
  {
   "cell_type": "code",
   "execution_count": 63,
   "metadata": {},
   "outputs": [
    {
     "data": {
      "text/plain": [
       "[0.11941393, 0.1547642, 0.14401934, 0.1229961]"
      ]
     },
     "execution_count": 63,
     "metadata": {},
     "output_type": "execute_result"
    }
   ],
   "source": [
    "[mean_squared_error(y_true=cm.true_percentiles[cm.labels==k], y_pred=cm.perc[cm.labels==k], squared=False) for k in range(0, cm.size)]"
   ]
  },
  {
   "cell_type": "code",
   "execution_count": 64,
   "metadata": {},
   "outputs": [
    {
     "data": {
      "text/plain": [
       "[0.08783304, 0.113169484, 0.11680231, 0.09934622]"
      ]
     },
     "execution_count": 64,
     "metadata": {},
     "output_type": "execute_result"
    }
   ],
   "source": [
    "[mean_absolute_error(y_true=cm.true_percentiles[cm.labels==k], y_pred=cm.perc[cm.labels==k]) for k in range(0, cm.size)]"
   ]
  },
  {
   "cell_type": "markdown",
   "metadata": {
    "collapsed": false
   },
   "source": [
    "### GAT"
   ]
  },
  {
   "cell_type": "code",
   "execution_count": 65,
   "metadata": {},
   "outputs": [],
   "source": [
    "save_model = f'{save_path}_gat'\n",
    "log_dir = f'{log_path}_gat'\n",
    "\n",
    "add_self_loop = True\n",
    "\n",
    "dataset_val = ContagionDataset(\n",
    "    raw_dir=data_dir,\n",
    "    drop_edges=0,\n",
    "    sets_lengths=sets_lengths,\n",
    "    add_self_loop = add_self_loop,\n",
    "    target = target,\n",
    ")\n",
    "\n",
    "gat_model = dict(\n",
    "    in_features = [len(dataset.node_attributes)],\n",
    "    h_features = [[10], [10] * 2, [15], [15] * 2, [20], [20] * 2, [25], [25] * 2],\n",
    "    out_features = [out_feats],\n",
    "    num_heads = [[4] * 2, [2] * 2, [4, 2]],\n",
    "    norm_nodes = [None, 'bn', 'gn'],\n",
    "    activation = [torch.nn.ReLU()],\n",
    "    negative_slope = [0.2, 0.4],\n",
    "    feat_drop = [0.2],\n",
    "    attn_drop = [0.2],\n",
    "    residual = [True],\n",
    "    # other\n",
    "    lr=[1e-2,],\n",
    "    use_edge_weight=[True, False],\n",
    "    drop_edges=[0,0.2],\n",
    ")\n",
    "list_model = [dict(zip(gat_model.keys(), k)) for k in itertools.product(*gat_model.values())]\n",
    "\n",
    "# gat_model = dict(\n",
    "#     in_features = [len(dataset.node_attributes)],\n",
    "#     # h_features = [[10], [15], [20]], \n",
    "#     h_features = [[10] * 3, [15] * 3, [20] * 3], \n",
    "#     out_features = [out_feats],\n",
    "#     # num_heads = [[4] * 4],\n",
    "#     num_heads = [[4, 2, 2]],\n",
    "#     norm_nodes = [None, 'bn', 'gn'],\n",
    "#     activation = [torch.nn.ReLU()],\n",
    "#     negative_slope = [0.2, 0.3, 0.4],\n",
    "#     feat_drop = [0.2],\n",
    "#     attn_drop = [0.2],\n",
    "#     residual = [True],\n",
    "#     # other\n",
    "#     lr=[1e-2,],\n",
    "#     label_smoothing=[0.0],\n",
    "#     use_edge_weight=[False],\n",
    "#     drop_edges=[0,],\n",
    "# )\n",
    "# list_model = [dict(zip(gat_model.keys(), k)) for k in itertools.product(*gat_model.values())]\n",
    "# list_model = [{i:j[k] for i,j in gat_model.items()} for k in range(len(gat_model['in_features']))]"
   ]
  },
  {
   "cell_type": "code",
   "execution_count": 66,
   "metadata": {
    "collapsed": false,
    "pycharm": {
     "name": "#%%\n"
    }
   },
   "outputs": [
    {
     "name": "stderr",
     "output_type": "stream",
     "text": [
      "100%|██████████| 576/576 [47:53<00:00,  4.99s/it] \n"
     ]
    }
   ],
   "source": [
    "if do_train:\n",
    "    for d in tqdm(list_model):\n",
    "        d = d.copy()\n",
    "        lr = d.pop('lr')\n",
    "        drop_edges = d.pop('drop_edges')\n",
    "        use_edge_weight = d.pop('use_edge_weight')\n",
    "\n",
    "        # dataset_valid = ContagionDataset(\n",
    "        #     raw_dir=data_dir,\n",
    "        #     drop_edges=0,\n",
    "        #     sets_lengths=sets_lengths,\n",
    "        #     add_self_loop = add_self_loop,\n",
    "        #     target = target,\n",
    "        #     seed=seed,\n",
    "        # )\n",
    "\n",
    "        dataset_train = ContagionDataset(\n",
    "            raw_dir=data_dir,\n",
    "            drop_edges=drop_edges,\n",
    "            sets_lengths=sets_lengths,\n",
    "            add_self_loop = add_self_loop,\n",
    "            target = target,\n",
    "        )\n",
    "\n",
    "        train(\n",
    "            model=GAT(**d),\n",
    "            dict_model=d,\n",
    "            dataset_train=dataset_train,\n",
    "            dataset_val=dataset_val,\n",
    "            log_dir=log_dir,\n",
    "            save_path=save_model,\n",
    "            lr=lr,\n",
    "            optimizer_name=\"adamw\",\n",
    "            n_epochs=100,\n",
    "            scheduler_mode='max_val_mcc',\n",
    "            debug_mode=False,\n",
    "            steps_save=10,\n",
    "            use_cpu=False,\n",
    "            use_edge_weight=use_edge_weight,\n",
    "            loss_type='mse',\n",
    "        )"
   ]
  },
  {
   "cell_type": "markdown",
   "metadata": {},
   "source": [
    "#### Results"
   ]
  },
  {
   "cell_type": "code",
   "execution_count": 67,
   "metadata": {},
   "outputs": [
    {
     "name": "stderr",
     "output_type": "stream",
     "text": [
      "100%|██████████| 7432/7432 [05:32<00:00, 22.35it/s]\n"
     ]
    }
   ],
   "source": [
    "res_edges_gat = test(\n",
    "    dataset=dataset_val,\n",
    "    save_path=save_model,\n",
    "    n_runs=1,\n",
    "    debug_mode=False,\n",
    "    use_cpu=False,\n",
    "    save=True,\n",
    "    use_edge_weight=False,\n",
    ")"
   ]
  },
  {
   "cell_type": "code",
   "execution_count": 68,
   "metadata": {},
   "outputs": [
    {
     "data": {
      "text/plain": [
       "{'in_features': 4,\n",
       " 'h_features': [20],\n",
       " 'out_features': 1,\n",
       " 'num_heads': [4, 4],\n",
       " 'norm_nodes': None,\n",
       " 'activation': ReLU(),\n",
       " 'negative_slope': 0.2,\n",
       " 'feat_drop': 0.2,\n",
       " 'attn_drop': 0.2,\n",
       " 'residual': True,\n",
       " 'tr_par_lr': 0.01,\n",
       " 'tr_par_optimizer_name': 'adamw',\n",
       " 'tr_par_scheduler_mode': 'max_val_mcc',\n",
       " 'tr_par_use_edge_weight': False,\n",
       " 'tr_par_loss_type': 'mse',\n",
       " 'tr_par_approach': 'dist',\n",
       " 'tr_par_scheduler_patience': 10,\n",
       " 'train_self_loop': True,\n",
       " 'train_drop_edges': 0.2,\n",
       " 'val_mcc': 0.1974977550187474,\n",
       " 'epoch': 12,\n",
       " 'train_loss': 0.20639938,\n",
       " 'val_loss': 0.047751237,\n",
       " 'train_acc': 0.34166663885116577,\n",
       " 'val_acc': 0.3999998867511749,\n",
       " 'val_rmse_perc': 0.22822577,\n",
       " 'model_class': 'gat',\n",
       " 'path_name': 'saved_gat\\\\0.40_2023-03-31_02.12.59.865701',\n",
       " 'train_rmse': 1.1510864433221337,\n",
       " 'val_rmse': 0.8944271909999159,\n",
       " 'test_rmse': 1.0201670161011582,\n",
       " 'train_mae': 0.8583333333333333,\n",
       " 'val_mae': 0.6666666666666666,\n",
       " 'test_mae': 0.6925925925925925,\n",
       " 'train_mcc': 0.13734761090363673,\n",
       " 'test_mcc': 0.29045792500247797,\n",
       " 'test_acc': 0.4533333480358124,\n",
       " 'train_rmse_perc': 0.30437836,\n",
       " 'test_rmse_perc': 0.27700636,\n",
       " 'train_mae_perc': 0.23932056,\n",
       " 'val_mae_perc': 0.19288859,\n",
       " 'test_mae_perc': 0.20594765}"
      ]
     },
     "execution_count": 68,
     "metadata": {},
     "output_type": "execute_result"
    }
   ],
   "source": [
    "res_edges = res_edges_gat\n",
    "res_edges[0]"
   ]
  },
  {
   "cell_type": "code",
   "execution_count": 69,
   "metadata": {},
   "outputs": [
    {
     "data": {
      "text/plain": [
       "{'in_features': 4,\n",
       " 'h_features': [15],\n",
       " 'out_features': 1,\n",
       " 'num_heads': [4, 2],\n",
       " 'norm_nodes': 'gn',\n",
       " 'activation': ReLU(),\n",
       " 'negative_slope': 0.2,\n",
       " 'feat_drop': 0.2,\n",
       " 'attn_drop': 0.2,\n",
       " 'residual': True,\n",
       " 'tr_par_lr': 0.01,\n",
       " 'tr_par_optimizer_name': 'adamw',\n",
       " 'tr_par_scheduler_mode': 'max_val_mcc',\n",
       " 'tr_par_use_edge_weight': False,\n",
       " 'tr_par_loss_type': 'mse',\n",
       " 'tr_par_approach': 'dist',\n",
       " 'tr_par_scheduler_patience': 10,\n",
       " 'train_self_loop': True,\n",
       " 'train_drop_edges': 0,\n",
       " 'val_mcc': 0.134078218086324,\n",
       " 'epoch': 20,\n",
       " 'train_loss': 0.050939523,\n",
       " 'val_loss': 0.039853696,\n",
       " 'train_acc': 0.4583333134651184,\n",
       " 'val_acc': 0.33333322405815125,\n",
       " 'val_rmse_perc': 0.2049784,\n",
       " 'model_class': 'gat',\n",
       " 'path_name': 'saved_gat\\\\0.33_2023-03-31_02.05.58.877707_20',\n",
       " 'train_rmse': 0.8416254115301732,\n",
       " 'val_rmse': 0.816496580927726,\n",
       " 'test_rmse': 0.9714441330841953,\n",
       " 'train_mae': 0.5916666666666667,\n",
       " 'val_mae': 0.6666666666666666,\n",
       " 'test_mae': 0.682962962962963,\n",
       " 'train_mcc': 0.2829136834267641,\n",
       " 'test_mcc': 0.2500279607429515,\n",
       " 'test_acc': 0.42888888716697693,\n",
       " 'train_rmse_perc': 0.19683613,\n",
       " 'test_rmse_perc': 0.23630477,\n",
       " 'train_mae_perc': 0.1565446,\n",
       " 'val_mae_perc': 0.17504285,\n",
       " 'test_mae_perc': 0.18447727}"
      ]
     },
     "execution_count": 69,
     "metadata": {},
     "output_type": "execute_result"
    }
   ],
   "source": [
    "all = res_edges[2]\n",
    "\n",
    "sort_idx = np.argsort([k['dict'][metric_filter_1] for k in all])\n",
    "all[sort_idx[0]]['dict']"
   ]
  },
  {
   "cell_type": "code",
   "execution_count": 70,
   "metadata": {},
   "outputs": [
    {
     "data": {
      "text/plain": [
       "{'in_features': 4,\n",
       " 'h_features': [15],\n",
       " 'out_features': 1,\n",
       " 'num_heads': [4, 2],\n",
       " 'norm_nodes': 'gn',\n",
       " 'activation': ReLU(),\n",
       " 'negative_slope': 0.2,\n",
       " 'feat_drop': 0.2,\n",
       " 'attn_drop': 0.2,\n",
       " 'residual': True,\n",
       " 'tr_par_lr': 0.01,\n",
       " 'tr_par_optimizer_name': 'adamw',\n",
       " 'tr_par_scheduler_mode': 'max_val_mcc',\n",
       " 'tr_par_use_edge_weight': False,\n",
       " 'tr_par_loss_type': 'mse',\n",
       " 'tr_par_approach': 'dist',\n",
       " 'tr_par_scheduler_patience': 10,\n",
       " 'train_self_loop': True,\n",
       " 'train_drop_edges': 0,\n",
       " 'val_mcc': 0.184143824752997,\n",
       " 'epoch': 40,\n",
       " 'train_loss': 0.051327843,\n",
       " 'val_loss': 0.041820277,\n",
       " 'train_acc': 0.4583333134651184,\n",
       " 'val_acc': 0.3666665554046631,\n",
       " 'val_rmse_perc': 0.20871143,\n",
       " 'model_class': 'gat',\n",
       " 'path_name': 'saved_gat\\\\0.37_2023-03-31_02.05.58.877707_40',\n",
       " 'train_rmse': 0.8010409893798611,\n",
       " 'val_rmse': 0.8563488385776752,\n",
       " 'test_rmse': 0.9193395374861157,\n",
       " 'train_mae': 0.575,\n",
       " 'val_mae': 0.6666666666666666,\n",
       " 'test_mae': 0.6570370370370371,\n",
       " 'train_mcc': 0.2921626240901565,\n",
       " 'test_mcc': 0.25914250517219706,\n",
       " 'test_acc': 0.431851863861084,\n",
       " 'train_rmse_perc': 0.18299927,\n",
       " 'test_rmse_perc': 0.2200582,\n",
       " 'train_mae_perc': 0.14775081,\n",
       " 'val_mae_perc': 0.17273448,\n",
       " 'test_mae_perc': 0.17589052}"
      ]
     },
     "execution_count": 70,
     "metadata": {},
     "output_type": "execute_result"
    }
   ],
   "source": [
    "all = res_edges[2]\n",
    "\n",
    "sort_idx = np.argsort([k['dict'][metric_filter_2] for k in all])\n",
    "all[sort_idx[0]]['dict']"
   ]
  },
  {
   "cell_type": "code",
   "execution_count": 71,
   "metadata": {},
   "outputs": [
    {
     "name": "stderr",
     "output_type": "stream",
     "text": [
      "100%|██████████| 7432/7432 [00:00<00:00, 25103.58it/s]\n"
     ]
    }
   ],
   "source": [
    "pretty([all[k]['dict'] for k in sort_idx])"
   ]
  }
 ],
 "metadata": {
  "interpreter": {
   "hash": "5533aa900e676eb13701c8fcbd0b5e657688ba839b290cdc5cd85347c7aef055"
  },
  "kernelspec": {
   "display_name": "Python 3.9.5 ('venv': venv)",
   "language": "python",
   "name": "python3"
  },
  "language_info": {
   "codemirror_mode": {
    "name": "ipython",
    "version": 3
   },
   "file_extension": ".py",
   "mimetype": "text/x-python",
   "name": "python",
   "nbconvert_exporter": "python",
   "pygments_lexer": "ipython3",
   "version": "3.9.16"
  },
  "orig_nbformat": 4
 },
 "nbformat": 4,
 "nbformat_minor": 2
}
