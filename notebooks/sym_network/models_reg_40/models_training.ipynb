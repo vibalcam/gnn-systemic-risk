{
 "cells": [
  {
   "cell_type": "code",
   "execution_count": 1,
   "metadata": {},
   "outputs": [],
   "source": [
    "import sys\n",
    "sys.path.append('../../../')"
   ]
  },
  {
   "cell_type": "code",
   "execution_count": 2,
   "metadata": {},
   "outputs": [
    {
     "name": "stderr",
     "output_type": "stream",
     "text": [
      "c:\\Users\\vibal\\miniconda3\\envs\\ml\\lib\\site-packages\\tqdm\\auto.py:21: TqdmWarning: IProgress not found. Please update jupyter and ipywidgets. See https://ipywidgets.readthedocs.io/en/stable/user_install.html\n",
      "  from .autonotebook import tqdm as notebook_tqdm\n"
     ]
    }
   ],
   "source": [
    "import torch\n",
    "import itertools\n",
    "from sklearn.linear_model import LogisticRegression\n",
    "from sklearn.model_selection import train_test_split\n",
    "from sklearn.ensemble import RandomForestClassifier\n",
    "from sklearn.metrics import classification_report\n",
    "from sklearn.neighbors import KNeighborsClassifier\n",
    "import pandas as pd\n",
    "import numpy as np\n",
    "from tqdm.auto import tqdm, trange\n",
    "\n",
    "from models.train_reg import train, test\n",
    "from models.models import GCN, GAT, GraphSAGE, FNN\n",
    "from models.utils import ContagionDataset, set_seed\n",
    "from sklearn.metrics import matthews_corrcoef, mean_squared_error, mean_absolute_error"
   ]
  },
  {
   "cell_type": "code",
   "execution_count": 3,
   "metadata": {},
   "outputs": [],
   "source": [
    "def pretty(ld, indent=0):\n",
    "    with open('result.txt', 'w', encoding='utf-8') as file:\n",
    "        for d in tqdm(ld):\n",
    "            file.write('{' + '\\n')\n",
    "            for key, value in d.items():\n",
    "                file.write('\\t' * (indent+1) + str(key) + ':' + str(value) + '\\n')\n",
    "                # file.write('\\t' * (indent+1) + str(key) + '\\n')\n",
    "                # file.write('\\t' * (indent+2) + str(value) + '\\n')\n",
    "            file.write('},\\n')"
   ]
  },
  {
   "cell_type": "code",
   "execution_count": 4,
   "metadata": {},
   "outputs": [],
   "source": [
    "do_train = True\n",
    "\n",
    "seed = 4444\n",
    "set_seed(seed)\n",
    "\n",
    "metric_filter_1 = 'val_rmse_perc'\n",
    "metric_filter_2 = 'test_rmse_perc'\n",
    "\n",
    "data_dir = '../data'\n",
    "log_path = './logs'\n",
    "save_path = './saved'"
   ]
  },
  {
   "cell_type": "markdown",
   "metadata": {},
   "source": [
    "# Big dataset: Additional stress"
   ]
  },
  {
   "cell_type": "code",
   "execution_count": 5,
   "metadata": {},
   "outputs": [],
   "source": [
    "sets_lengths = (0.32, 0.08, 0.6)\n",
    "target = 'additional_stress'\n",
    "\n",
    "dataset = ContagionDataset(\n",
    "    raw_dir=data_dir,\n",
    "    drop_edges=0,\n",
    "    sets_lengths=sets_lengths,\n",
    "    target = target,\n",
    ")\n",
    "\n",
    "out_feats = 1"
   ]
  },
  {
   "cell_type": "markdown",
   "metadata": {},
   "source": [
    "## Baseline"
   ]
  },
  {
   "cell_type": "markdown",
   "metadata": {},
   "source": [
    "### FNN"
   ]
  },
  {
   "cell_type": "code",
   "execution_count": 6,
   "metadata": {},
   "outputs": [],
   "source": [
    "save_model = f'{save_path}_fnn'\n",
    "log_dir = f'{log_path}_fnn'\n",
    "\n",
    "dataset_val = ContagionDataset(\n",
    "    raw_dir=data_dir,\n",
    "    drop_edges=0,\n",
    "    sets_lengths=sets_lengths,\n",
    "    add_self_loop = False,\n",
    "    target = target,\n",
    ")\n",
    "\n",
    "# fnn_model = dict(\n",
    "#     in_features=[len(dataset_val.node_attributes)],\n",
    "#     h_features=[[5, 10], [10, 15], [5,5,5], [5, 10, 15], [5, 10, 15, 20], [5], [10], [15]],\n",
    "#     out_features=[dataset_val.num_classes],\n",
    "#     activation=[torch.nn.ReLU()],\n",
    "#     norm_nodes = [None, 'bn', 'gn'],\n",
    "#     dropout=[0.2, 0.5, 0.0],\n",
    "#     # other\n",
    "#     lr=[1, 1e-1, 1e-2],\n",
    "#     label_smoothing=[0.0, 0.2, 0.4],\n",
    "# )\n",
    "\n",
    "fnn_model = dict(\n",
    "    in_features=[len(dataset_val.node_attributes)],\n",
    "    h_features=[[10, 15], [10, 15, 20], [5, 10, 15], [15] * 2, [15] * 3],\n",
    "    out_features=[dataset_val.num_classes],\n",
    "    activation=[torch.nn.ReLU()],\n",
    "    norm_nodes = [None, 'bn', 'gn'],\n",
    "    dropout=[0.2, 0.0],\n",
    "    # other\n",
    "    lr=[1e-1],\n",
    ")\n",
    "list_model = [dict(zip(fnn_model.keys(), k)) for k in itertools.product(*fnn_model.values())]"
   ]
  },
  {
   "cell_type": "code",
   "execution_count": 7,
   "metadata": {
    "collapsed": false,
    "pycharm": {
     "name": "#%%\n"
    }
   },
   "outputs": [
    {
     "name": "stderr",
     "output_type": "stream",
     "text": [
      "100%|██████████| 30/30 [01:51<00:00,  3.71s/it]\n"
     ]
    }
   ],
   "source": [
    "if do_train:\n",
    "    for d in tqdm(list_model):\n",
    "        d = d.copy()\n",
    "        lr = d.pop('lr')\n",
    "\n",
    "        train(\n",
    "            model=FNN(**d),\n",
    "            dict_model=d,\n",
    "            dataset_train=dataset_val,\n",
    "            dataset_val=dataset_val,\n",
    "            log_dir=log_dir,\n",
    "            save_path=save_model,\n",
    "            lr=lr,\n",
    "            optimizer_name=\"adamw\",\n",
    "            n_epochs=100,\n",
    "            scheduler_mode='max_val_mcc',\n",
    "            debug_mode=False,\n",
    "            steps_save=10,\n",
    "            use_cpu=False,\n",
    "            use_edge_weight=False,\n",
    "            loss_type='mse',\n",
    "        )"
   ]
  },
  {
   "cell_type": "markdown",
   "metadata": {},
   "source": [
    "#### Results"
   ]
  },
  {
   "cell_type": "code",
   "execution_count": 8,
   "metadata": {},
   "outputs": [
    {
     "name": "stderr",
     "output_type": "stream",
     "text": [
      "100%|██████████| 550/550 [00:17<00:00, 31.30it/s]\n"
     ]
    }
   ],
   "source": [
    "res_edges_fnn = test(\n",
    "    dataset=dataset_val,\n",
    "    save_path=save_model,\n",
    "    n_runs=1,\n",
    "    debug_mode=False,\n",
    "    use_cpu=False,\n",
    "    save=True,\n",
    "    use_edge_weight=False,\n",
    ")"
   ]
  },
  {
   "cell_type": "code",
   "execution_count": 9,
   "metadata": {},
   "outputs": [
    {
     "data": {
      "text/plain": [
       "{'in_features': 4,\n",
       " 'h_features': [15, 15],\n",
       " 'out_features': 4,\n",
       " 'activation': ReLU(),\n",
       " 'norm_nodes': 'bn',\n",
       " 'dropout': 0.0,\n",
       " 'tr_par_lr': 0.1,\n",
       " 'tr_par_optimizer_name': 'adamw',\n",
       " 'tr_par_scheduler_mode': 'max_val_mcc',\n",
       " 'tr_par_use_edge_weight': False,\n",
       " 'tr_par_loss_type': 'mse',\n",
       " 'tr_par_approach': 'dist',\n",
       " 'tr_par_scheduler_patience': 10,\n",
       " 'train_self_loop': False,\n",
       " 'train_drop_edges': 0,\n",
       " 'val_mcc': 0.38679761463482526,\n",
       " 'epoch': 30,\n",
       " 'train_loss': 0.04167158,\n",
       " 'val_loss': 0.05092112,\n",
       " 'train_acc': 0.49791666865348816,\n",
       " 'val_acc': 0.49166664481163025,\n",
       " 'val_rmse_perc': 0.2273177,\n",
       " 'model_class': 'fnn',\n",
       " 'path_name': 'saved_fnn\\\\0.49_2023-03-30_21.34.53.217976',\n",
       " 'train_rmse': 0.8862373647430279,\n",
       " 'val_rmse': 0.8990735972840785,\n",
       " 'test_rmse': 0.8881941729649485,\n",
       " 'train_mae': 0.59375,\n",
       " 'val_mae': 0.6083333333333333,\n",
       " 'test_mae': 0.5911111111111111,\n",
       " 'train_mcc': 0.3749059488103034,\n",
       " 'test_mcc': 0.38889263451808587,\n",
       " 'test_acc': 0.5055555701255798,\n",
       " 'train_rmse_perc': 0.21583025,\n",
       " 'test_rmse_perc': 0.22312789,\n",
       " 'train_mae_perc': 0.17114891,\n",
       " 'val_mae_perc': 0.18373242,\n",
       " 'test_mae_perc': 0.17672536}"
      ]
     },
     "execution_count": 9,
     "metadata": {},
     "output_type": "execute_result"
    }
   ],
   "source": [
    "res_edges = res_edges_fnn\n",
    "res_edges[0]"
   ]
  },
  {
   "cell_type": "code",
   "execution_count": 10,
   "metadata": {},
   "outputs": [
    {
     "data": {
      "text/plain": [
       "{'in_features': 4,\n",
       " 'h_features': [10, 15, 20],\n",
       " 'out_features': 4,\n",
       " 'activation': ReLU(),\n",
       " 'norm_nodes': 'gn',\n",
       " 'dropout': 0.0,\n",
       " 'tr_par_lr': 0.1,\n",
       " 'tr_par_optimizer_name': 'adamw',\n",
       " 'tr_par_scheduler_mode': 'max_val_mcc',\n",
       " 'tr_par_use_edge_weight': False,\n",
       " 'tr_par_loss_type': 'mse',\n",
       " 'tr_par_approach': 'dist',\n",
       " 'tr_par_scheduler_patience': 10,\n",
       " 'train_self_loop': False,\n",
       " 'train_drop_edges': 0,\n",
       " 'val_mcc': 0.32217965168185103,\n",
       " 'epoch': 50,\n",
       " 'train_loss': 0.0384381,\n",
       " 'val_loss': 0.03363439,\n",
       " 'train_acc': 0.5062500238418579,\n",
       " 'val_acc': 0.47499996423721313,\n",
       " 'val_rmse_perc': 0.1877307,\n",
       " 'model_class': 'fnn',\n",
       " 'path_name': 'saved_fnn\\\\0.47_2023-03-30_21.34.19.738794_50',\n",
       " 'train_rmse': 0.8139410298049853,\n",
       " 'val_rmse': 0.806225774829855,\n",
       " 'test_rmse': 0.8299933065325822,\n",
       " 'train_mae': 0.55,\n",
       " 'val_mae': 0.5666666666666667,\n",
       " 'test_mae': 0.5755555555555556,\n",
       " 'train_mcc': 0.36110696970354456,\n",
       " 'test_mcc': 0.3202837602431622,\n",
       " 'test_acc': 0.47999998927116394,\n",
       " 'train_rmse_perc': 0.19052072,\n",
       " 'test_rmse_perc': 0.19354136,\n",
       " 'train_mae_perc': 0.15776959,\n",
       " 'val_mae_perc': 0.15957758,\n",
       " 'test_mae_perc': 0.1616418}"
      ]
     },
     "execution_count": 10,
     "metadata": {},
     "output_type": "execute_result"
    }
   ],
   "source": [
    "all = res_edges[2]\n",
    "\n",
    "sort_idx = np.argsort([k['dict'][metric_filter_1] for k in all])\n",
    "all[sort_idx[0]]['dict']"
   ]
  },
  {
   "cell_type": "code",
   "execution_count": 11,
   "metadata": {},
   "outputs": [
    {
     "data": {
      "text/plain": [
       "{'in_features': 4,\n",
       " 'h_features': [10, 15, 20],\n",
       " 'out_features': 4,\n",
       " 'activation': ReLU(),\n",
       " 'norm_nodes': 'gn',\n",
       " 'dropout': 0.0,\n",
       " 'tr_par_lr': 0.1,\n",
       " 'tr_par_optimizer_name': 'adamw',\n",
       " 'tr_par_scheduler_mode': 'max_val_mcc',\n",
       " 'tr_par_use_edge_weight': False,\n",
       " 'tr_par_loss_type': 'mse',\n",
       " 'tr_par_approach': 'dist',\n",
       " 'tr_par_scheduler_patience': 10,\n",
       " 'train_self_loop': False,\n",
       " 'train_drop_edges': 0,\n",
       " 'val_mcc': 0.31672905248477057,\n",
       " 'epoch': 100,\n",
       " 'train_loss': 0.038049422,\n",
       " 'val_loss': 0.034446627,\n",
       " 'train_acc': 0.5,\n",
       " 'val_acc': 0.47499996423721313,\n",
       " 'val_rmse_perc': 0.18978104,\n",
       " 'model_class': 'fnn',\n",
       " 'path_name': 'saved_fnn\\\\0.47_2023-03-30_21.34.19.738794_100',\n",
       " 'train_rmse': 0.8177713616898062,\n",
       " 'val_rmse': 0.806225774829855,\n",
       " 'test_rmse': 0.8319989316232457,\n",
       " 'train_mae': 0.55625,\n",
       " 'val_mae': 0.5666666666666667,\n",
       " 'test_mae': 0.5788888888888889,\n",
       " 'train_mcc': 0.3517218799829905,\n",
       " 'test_mcc': 0.31331128687509674,\n",
       " 'test_acc': 0.476666659116745,\n",
       " 'train_rmse_perc': 0.19031946,\n",
       " 'test_rmse_perc': 0.19339572,\n",
       " 'train_mae_perc': 0.15829788,\n",
       " 'val_mae_perc': 0.16270575,\n",
       " 'test_mae_perc': 0.16136529}"
      ]
     },
     "execution_count": 11,
     "metadata": {},
     "output_type": "execute_result"
    }
   ],
   "source": [
    "all = res_edges[2]\n",
    "\n",
    "sort_idx = np.argsort([k['dict'][metric_filter_2] for k in all])\n",
    "all[sort_idx[0]]['dict']"
   ]
  },
  {
   "cell_type": "code",
   "execution_count": 12,
   "metadata": {},
   "outputs": [
    {
     "name": "stderr",
     "output_type": "stream",
     "text": [
      "100%|██████████| 550/550 [00:00<00:00, 23643.69it/s]\n"
     ]
    }
   ],
   "source": [
    "pretty([all[k]['dict'] for k in sort_idx])"
   ]
  },
  {
   "cell_type": "code",
   "execution_count": 13,
   "metadata": {},
   "outputs": [],
   "source": [
    "cm = all[sort_idx[0]]['test_cm'][0]"
   ]
  },
  {
   "cell_type": "code",
   "execution_count": 14,
   "metadata": {},
   "outputs": [
    {
     "data": {
      "text/plain": [
       "tensor(220)"
      ]
     },
     "execution_count": 14,
     "metadata": {},
     "output_type": "execute_result"
    }
   ],
   "source": [
    "(cm.labels==0).sum()"
   ]
  },
  {
   "cell_type": "code",
   "execution_count": 15,
   "metadata": {},
   "outputs": [
    {
     "data": {
      "text/plain": [
       "<module 'matplotlib.pyplot' from 'c:\\\\Users\\\\vibal\\\\miniconda3\\\\envs\\\\ml\\\\lib\\\\site-packages\\\\matplotlib\\\\pyplot.py'>"
      ]
     },
     "execution_count": 15,
     "metadata": {},
     "output_type": "execute_result"
    },
    {
     "data": {
      "image/png": "[encoded data removed]",
      "text/plain": [
       "<Figure size 1500x1000 with 2 Axes>"
      ]
     },
     "metadata": {},
     "output_type": "display_data"
    }
   ],
   "source": [
    "cm.visualize()"
   ]
  },
  {
   "cell_type": "code",
   "execution_count": 16,
   "metadata": {},
   "outputs": [
    {
     "data": {
      "text/plain": [
       "tensor([0.7045, 0.2609, 0.5974, 0.3470])"
      ]
     },
     "execution_count": 16,
     "metadata": {},
     "output_type": "execute_result"
    }
   ],
   "source": [
    "cm.class_accuracy"
   ]
  },
  {
   "cell_type": "code",
   "execution_count": 17,
   "metadata": {},
   "outputs": [
    {
     "data": {
      "text/plain": [
       "[0.18322606, 0.20501718, 0.1569776, 0.223262]"
      ]
     },
     "execution_count": 17,
     "metadata": {},
     "output_type": "execute_result"
    }
   ],
   "source": [
    "[mean_squared_error(y_true=cm.true_percentiles[cm.labels==k], y_pred=cm.perc[cm.labels==k], squared=False) for k in range(0, cm.size)]"
   ]
  },
  {
   "cell_type": "code",
   "execution_count": 18,
   "metadata": {},
   "outputs": [
    {
     "data": {
      "text/plain": [
       "[0.14386964, 0.17902185, 0.12633762, 0.19734439]"
      ]
     },
     "execution_count": 18,
     "metadata": {},
     "output_type": "execute_result"
    }
   ],
   "source": [
    "[mean_absolute_error(y_true=cm.true_percentiles[cm.labels==k], y_pred=cm.perc[cm.labels==k]) for k in range(0, cm.size)]"
   ]
  },
  {
   "cell_type": "markdown",
   "metadata": {
    "collapsed": false
   },
   "source": [
    "### GCN"
   ]
  },
  {
   "cell_type": "code",
   "execution_count": 19,
   "metadata": {},
   "outputs": [],
   "source": [
    "save_model = f'{save_path}_gcn'\n",
    "log_dir = f'{log_path}_gcn'\n",
    "\n",
    "add_self_loop = True\n",
    "\n",
    "dataset_val = ContagionDataset(\n",
    "    raw_dir=data_dir,\n",
    "    drop_edges=0,\n",
    "    sets_lengths=sets_lengths,\n",
    "    add_self_loop = add_self_loop,\n",
    "    target = target,\n",
    ")\n",
    "\n",
    "gcn_model = dict(\n",
    "    in_features=[len(dataset_val.node_attributes)],\n",
    "    h_features=[[15] * 3, [10, 15, 20], [5, 10, 15, 20],],\n",
    "    out_features=[dataset_val.num_classes],\n",
    "    activation=[torch.nn.ReLU()],\n",
    "    norm_edges=['both', 'none'],\n",
    "    norm_nodes=[None, 'bn', 'gn'],\n",
    "    dropout=[0.2, 0.0],\n",
    "    # other\n",
    "    lr=[1e-1],\n",
    "    use_edge_weight=[True,],\n",
    "    drop_edges=[0,0.2],\n",
    ")\n",
    "list_model = [dict(zip(gcn_model.keys(), k)) for k in itertools.product(*gcn_model.values())]\n",
    "\n",
    "# gcn_model = dict(\n",
    "#     in_features=[len(dataset_val.node_attributes)],\n",
    "#     h_features=[[10] * 3],\n",
    "#     out_features=[dataset_val.num_classes],\n",
    "#     activation=[torch.nn.ReLU()],\n",
    "#     norm_edges=['both', 'none'],\n",
    "#     norm_nodes=[None, 'bn', 'gn'],\n",
    "#     dropout=[0.2, 0.0],\n",
    "#     # other\n",
    "#     lr=[1],\n",
    "#     label_smoothing=[0.0,],\n",
    "#     use_edge_weight=[True, ],\n",
    "#     drop_edges=[0,0.2],\n",
    "# )\n",
    "# list_model = [{i:j[k] for i,j in gcn_model.items()} for k in range(len(gcn_model['in_features']))]"
   ]
  },
  {
   "cell_type": "code",
   "execution_count": 20,
   "metadata": {
    "collapsed": false,
    "pycharm": {
     "name": "#%%\n"
    }
   },
   "outputs": [
    {
     "name": "stderr",
     "output_type": "stream",
     "text": [
      "100%|██████████| 72/72 [05:57<00:00,  4.96s/it]\n"
     ]
    }
   ],
   "source": [
    "if do_train:\n",
    "    for d in tqdm(list_model):\n",
    "        d = d.copy()\n",
    "        lr = d.pop('lr')\n",
    "        drop_edges = d.pop('drop_edges')\n",
    "        use_edge_weight = d.pop('use_edge_weight')\n",
    "\n",
    "        # dataset_valid = ContagionDataset(\n",
    "        #     raw_dir=data_dir,\n",
    "        #     drop_edges=0,\n",
    "        #     sets_lengths=sets_lengths,\n",
    "        #     add_self_loop = add_self_loop,\n",
    "        #     target = target,\n",
    "        #     seed=seed,\n",
    "        # )\n",
    "\n",
    "        dataset_train = ContagionDataset(\n",
    "            raw_dir=data_dir,\n",
    "            drop_edges=drop_edges,\n",
    "            sets_lengths=sets_lengths,\n",
    "            add_self_loop = add_self_loop,\n",
    "            target = target,\n",
    "        )\n",
    "\n",
    "        train(\n",
    "            model=GCN(**d),\n",
    "            dict_model=d,\n",
    "            dataset_train=dataset_train,\n",
    "            dataset_val=dataset_val,\n",
    "            log_dir=log_dir,\n",
    "            save_path=save_model,\n",
    "            lr=lr,\n",
    "            optimizer_name=\"adamw\",\n",
    "            n_epochs=100,\n",
    "            scheduler_mode='max_val_mcc',\n",
    "            debug_mode=False,\n",
    "            steps_save=10,\n",
    "            use_cpu=False,\n",
    "            use_edge_weight=use_edge_weight,\n",
    "            loss_type='mse',\n",
    "        )"
   ]
  },
  {
   "cell_type": "markdown",
   "metadata": {},
   "source": [
    "#### Results"
   ]
  },
  {
   "cell_type": "code",
   "execution_count": 21,
   "metadata": {},
   "outputs": [
    {
     "name": "stderr",
     "output_type": "stream",
     "text": [
      "100%|██████████| 1190/1190 [01:17<00:00, 15.45it/s]\n"
     ]
    }
   ],
   "source": [
    "res_edges_gcn = test(\n",
    "    dataset=dataset_val,\n",
    "    save_path=save_model,\n",
    "    n_runs=1,\n",
    "    debug_mode=False,\n",
    "    use_cpu=False,\n",
    "    save=True,\n",
    "    use_edge_weight=True,\n",
    ")"
   ]
  },
  {
   "cell_type": "code",
   "execution_count": 22,
   "metadata": {},
   "outputs": [
    {
     "data": {
      "text/plain": [
       "{'in_features': 4,\n",
       " 'h_features': [10, 15, 20],\n",
       " 'out_features': 4,\n",
       " 'activation': ReLU(),\n",
       " 'norm_edges': 'both',\n",
       " 'norm_nodes': 'gn',\n",
       " 'dropout': 0.0,\n",
       " 'tr_par_lr': 0.1,\n",
       " 'tr_par_optimizer_name': 'adamw',\n",
       " 'tr_par_scheduler_mode': 'max_val_mcc',\n",
       " 'tr_par_use_edge_weight': True,\n",
       " 'tr_par_loss_type': 'mse',\n",
       " 'tr_par_approach': 'dist',\n",
       " 'tr_par_scheduler_patience': 10,\n",
       " 'train_self_loop': True,\n",
       " 'train_drop_edges': 0,\n",
       " 'val_mcc': 0.34555620926691455,\n",
       " 'epoch': 100,\n",
       " 'train_loss': 0.026910115,\n",
       " 'val_loss': 0.04248635,\n",
       " 'train_acc': 0.6395833492279053,\n",
       " 'val_acc': 0.4999999701976776,\n",
       " 'val_rmse_perc': 0.21052678,\n",
       " 'model_class': 'gcn',\n",
       " 'path_name': 'saved_gcn\\\\0.50_2023-03-30_21.38.18.733205_100',\n",
       " 'train_rmse': 0.6454972243679028,\n",
       " 'val_rmse': 0.8465616732800196,\n",
       " 'test_rmse': 0.7272474743090476,\n",
       " 'train_mae': 0.37916666666666665,\n",
       " 'val_mae': 0.5666666666666667,\n",
       " 'test_mae': 0.42,\n",
       " 'train_mcc': 0.533593733747212,\n",
       " 'test_mcc': 0.5134244689318022,\n",
       " 'test_acc': 0.6299999952316284,\n",
       " 'train_rmse_perc': 0.15833345,\n",
       " 'test_rmse_perc': 0.16948764,\n",
       " 'train_mae_perc': 0.12417326,\n",
       " 'val_mae_perc': 0.16239567,\n",
       " 'test_mae_perc': 0.12707725}"
      ]
     },
     "execution_count": 22,
     "metadata": {},
     "output_type": "execute_result"
    }
   ],
   "source": [
    "res_edges = res_edges_gcn\n",
    "res_edges[0]"
   ]
  },
  {
   "cell_type": "code",
   "execution_count": 23,
   "metadata": {},
   "outputs": [
    {
     "data": {
      "text/plain": [
       "{'in_features': 4,\n",
       " 'h_features': [15, 15, 15],\n",
       " 'out_features': 4,\n",
       " 'activation': ReLU(),\n",
       " 'norm_edges': 'both',\n",
       " 'norm_nodes': 'bn',\n",
       " 'dropout': 0.2,\n",
       " 'tr_par_lr': 0.1,\n",
       " 'tr_par_optimizer_name': 'adamw',\n",
       " 'tr_par_scheduler_mode': 'max_val_mcc',\n",
       " 'tr_par_use_edge_weight': True,\n",
       " 'tr_par_loss_type': 'mse',\n",
       " 'tr_par_approach': 'dist',\n",
       " 'tr_par_scheduler_patience': 10,\n",
       " 'train_self_loop': True,\n",
       " 'train_drop_edges': 0,\n",
       " 'val_mcc': 0.4033245258310579,\n",
       " 'epoch': 100,\n",
       " 'train_loss': 0.031911835,\n",
       " 'val_loss': 0.029130787,\n",
       " 'train_acc': 0.5562499761581421,\n",
       " 'val_acc': 0.5249999761581421,\n",
       " 'val_rmse_perc': 0.17660473,\n",
       " 'model_class': 'gcn',\n",
       " 'path_name': 'saved_gcn\\\\0.52_2023-03-30_21.35.55.129846_100',\n",
       " 'train_rmse': 0.7026734661277598,\n",
       " 'val_rmse': 0.7071067811865476,\n",
       " 'test_rmse': 0.7287737036358481,\n",
       " 'train_mae': 0.46041666666666664,\n",
       " 'val_mae': 0.48333333333333334,\n",
       " 'test_mae': 0.4688888888888889,\n",
       " 'train_mcc': 0.43929417331741205,\n",
       " 'test_mcc': 0.4406894490168838,\n",
       " 'test_acc': 0.5611110925674438,\n",
       " 'train_rmse_perc': 0.16797513,\n",
       " 'test_rmse_perc': 0.17007808,\n",
       " 'train_mae_perc': 0.13682604,\n",
       " 'val_mae_perc': 0.14443436,\n",
       " 'test_mae_perc': 0.1374302}"
      ]
     },
     "execution_count": 23,
     "metadata": {},
     "output_type": "execute_result"
    }
   ],
   "source": [
    "all = res_edges[2]\n",
    "\n",
    "sort_idx = np.argsort([k['dict'][metric_filter_1] for k in all])\n",
    "all[sort_idx[0]]['dict']"
   ]
  },
  {
   "cell_type": "code",
   "execution_count": 24,
   "metadata": {},
   "outputs": [
    {
     "data": {
      "text/plain": [
       "{'in_features': 4,\n",
       " 'h_features': [5, 10, 15, 20],\n",
       " 'out_features': 4,\n",
       " 'activation': ReLU(),\n",
       " 'norm_edges': 'both',\n",
       " 'norm_nodes': 'bn',\n",
       " 'dropout': 0.0,\n",
       " 'tr_par_lr': 0.1,\n",
       " 'tr_par_optimizer_name': 'adamw',\n",
       " 'tr_par_scheduler_mode': 'max_val_mcc',\n",
       " 'tr_par_use_edge_weight': True,\n",
       " 'tr_par_loss_type': 'mse',\n",
       " 'tr_par_approach': 'dist',\n",
       " 'tr_par_scheduler_patience': 10,\n",
       " 'train_self_loop': True,\n",
       " 'train_drop_edges': 0,\n",
       " 'val_mcc': 0.40195030602537957,\n",
       " 'epoch': 100,\n",
       " 'train_loss': 0.027516402,\n",
       " 'val_loss': 0.046163537,\n",
       " 'train_acc': 0.6291666626930237,\n",
       " 'val_acc': 0.5416666269302368,\n",
       " 'val_rmse_perc': 0.22272934,\n",
       " 'model_class': 'gcn',\n",
       " 'path_name': 'saved_gcn\\\\0.54_2023-03-30_21.39.55.746036_100',\n",
       " 'train_rmse': 0.6677075208003377,\n",
       " 'val_rmse': 0.8465616732800196,\n",
       " 'test_rmse': 0.7,\n",
       " 'train_mae': 0.3958333333333333,\n",
       " 'val_mae': 0.5333333333333333,\n",
       " 'test_mae': 0.41444444444444445,\n",
       " 'train_mcc': 0.5186109250692492,\n",
       " 'test_mcc': 0.502280264013642,\n",
       " 'test_acc': 0.6211110949516296,\n",
       " 'train_rmse_perc': 0.16421339,\n",
       " 'test_rmse_perc': 0.16554168,\n",
       " 'train_mae_perc': 0.12943134,\n",
       " 'val_mae_perc': 0.16266225,\n",
       " 'test_mae_perc': 0.12765704}"
      ]
     },
     "execution_count": 24,
     "metadata": {},
     "output_type": "execute_result"
    }
   ],
   "source": [
    "all = res_edges[2]\n",
    "\n",
    "sort_idx = np.argsort([k['dict'][metric_filter_2] for k in all])\n",
    "all[sort_idx[0]]['dict']"
   ]
  },
  {
   "cell_type": "code",
   "execution_count": 25,
   "metadata": {},
   "outputs": [
    {
     "name": "stderr",
     "output_type": "stream",
     "text": [
      "100%|██████████| 1190/1190 [00:00<00:00, 28611.84it/s]\n"
     ]
    }
   ],
   "source": [
    "pretty([all[k]['dict'] for k in sort_idx])"
   ]
  },
  {
   "cell_type": "markdown",
   "metadata": {
    "collapsed": false
   },
   "source": [
    "### GraphSAGE"
   ]
  },
  {
   "cell_type": "code",
   "execution_count": 26,
   "metadata": {},
   "outputs": [],
   "source": [
    "save_model = f'{save_path}_sage_dist'\n",
    "log_dir = f'{log_path}_sage_dist'\n",
    "\n",
    "dataset_val = ContagionDataset(\n",
    "    raw_dir=data_dir,\n",
    "    drop_edges=0,\n",
    "    sets_lengths=sets_lengths,\n",
    "    add_self_loop = True,\n",
    "    target = target,\n",
    ")\n",
    "\n",
    "sage_model = dict(\n",
    "    in_features = [len(dataset.node_attributes)],\n",
    "    h_features = [[20] * 3, [25] * 3, [15] * 3, [10], [20,25,20], [30] * 3], \n",
    "    out_features = [out_feats],\n",
    "    aggregator_type = ['lstm'],\n",
    "    norm_edges = ['right', 'none'],\n",
    "    norm_nodes = [None, 'bn', 'gn'],\n",
    "    activation = [torch.nn.ReLU()],\n",
    "    feat_drop = [0.2, 0],\n",
    "    # other\n",
    "    lr=[1e-2],\n",
    "    use_edge_weight=[True],\n",
    "    add_self_loop=[True],\n",
    "    drop_edges=[0,0.2],\n",
    ")\n",
    "list_model = [dict(zip(sage_model.keys(), k)) for k in itertools.product(*sage_model.values())]\n",
    "\n",
    "# sage_model = dict(\n",
    "#     in_features = [len(dataset.node_attributes)],\n",
    "#     h_features = [[30] * 3], \n",
    "#     out_features = [out_feats],\n",
    "#     aggregator_type = ['lstm'],\n",
    "#     norm_edges = ['none'],\n",
    "#     norm_nodes = ['gn'],\n",
    "#     activation = [torch.nn.ReLU()],\n",
    "#     feat_drop = [0],\n",
    "#     # other\n",
    "#     lr=[1e-2],\n",
    "#     label_smoothing=[0.0],\n",
    "#     use_edge_weight=[True],\n",
    "#     add_self_loop=[True],\n",
    "#     drop_edges=[0],\n",
    "# )\n",
    "# list_model = [{i:j[k] for i,j in sage_model.items()} for k in range(len(sage_model['in_features']))]"
   ]
  },
  {
   "cell_type": "code",
   "execution_count": 27,
   "metadata": {
    "collapsed": false,
    "pycharm": {
     "name": "#%%\n"
    }
   },
   "outputs": [
    {
     "name": "stderr",
     "output_type": "stream",
     "text": [
      "100%|██████████| 144/144 [1:14:51<00:00, 31.19s/it]\n"
     ]
    }
   ],
   "source": [
    "if do_train:\n",
    "    for d in tqdm(list_model):\n",
    "        d = d.copy()\n",
    "        lr = d.pop('lr')\n",
    "        add_self_loop = d.pop('add_self_loop')\n",
    "        drop_edges = d.pop('drop_edges')\n",
    "        use_edge_weight = d.pop('use_edge_weight')\n",
    "\n",
    "        dataset_valid = ContagionDataset(\n",
    "            raw_dir=data_dir,\n",
    "            drop_edges=0,\n",
    "            sets_lengths=sets_lengths,\n",
    "            add_self_loop = add_self_loop,\n",
    "            target = target,\n",
    "        )\n",
    "\n",
    "        dataset_train = ContagionDataset(\n",
    "            raw_dir=data_dir,\n",
    "            drop_edges=drop_edges,\n",
    "            sets_lengths=sets_lengths,\n",
    "            add_self_loop = add_self_loop,\n",
    "            target = target,\n",
    "        )\n",
    "\n",
    "        train(\n",
    "            model=GraphSAGE(**d),\n",
    "            dict_model=d,\n",
    "            dataset_train=dataset_train,\n",
    "            dataset_val=dataset_valid,\n",
    "            log_dir=log_dir,\n",
    "            save_path=save_model,\n",
    "            lr=lr,\n",
    "            optimizer_name=\"adamw\",\n",
    "            n_epochs=100,\n",
    "            scheduler_mode='max_val_mcc',\n",
    "            debug_mode=False,\n",
    "            steps_save=10,\n",
    "            use_cpu=False,\n",
    "            use_edge_weight=use_edge_weight,\n",
    "            loss_type='mse',\n",
    "        )"
   ]
  },
  {
   "cell_type": "markdown",
   "metadata": {},
   "source": [
    "#### Results"
   ]
  },
  {
   "cell_type": "code",
   "execution_count": 28,
   "metadata": {},
   "outputs": [
    {
     "name": "stderr",
     "output_type": "stream",
     "text": [
      "100%|██████████| 4025/4025 [10:14<00:00,  6.55it/s]\n"
     ]
    }
   ],
   "source": [
    "res_edges_sage = test(\n",
    "    dataset=dataset_val,\n",
    "    save_path=save_model,\n",
    "    n_runs=1,\n",
    "    debug_mode=False,\n",
    "    use_cpu=False,\n",
    "    save=True,\n",
    "    use_edge_weight=True,\n",
    ")"
   ]
  },
  {
   "cell_type": "code",
   "execution_count": 29,
   "metadata": {},
   "outputs": [
    {
     "data": {
      "text/plain": [
       "{'in_features': 4,\n",
       " 'h_features': [30, 30, 30],\n",
       " 'out_features': 1,\n",
       " 'aggregator_type': 'lstm',\n",
       " 'norm_edges': 'none',\n",
       " 'norm_nodes': 'bn',\n",
       " 'activation': ReLU(),\n",
       " 'feat_drop': 0,\n",
       " 'tr_par_lr': 0.01,\n",
       " 'tr_par_optimizer_name': 'adamw',\n",
       " 'tr_par_scheduler_mode': 'max_val_mcc',\n",
       " 'tr_par_use_edge_weight': True,\n",
       " 'tr_par_loss_type': 'mse',\n",
       " 'tr_par_approach': 'dist',\n",
       " 'tr_par_scheduler_patience': 10,\n",
       " 'train_self_loop': True,\n",
       " 'train_drop_edges': 0,\n",
       " 'val_mcc': 0.7672198049098212,\n",
       " 'epoch': 80,\n",
       " 'train_loss': 0.0018600997,\n",
       " 'val_loss': 0.0078117643,\n",
       " 'train_acc': 0.9750000238418579,\n",
       " 'val_acc': 0.8249999284744263,\n",
       " 'val_rmse_perc': 0.07807372,\n",
       " 'model_class': 'sage',\n",
       " 'path_name': 'saved_sage_dist\\\\0.82_2023-03-30_22.54.13.841927_80',\n",
       " 'train_rmse': 0.15811388300841897,\n",
       " 'val_rmse': 0.4183300132670378,\n",
       " 'test_rmse': 0.4654746681256314,\n",
       " 'train_mae': 0.025,\n",
       " 'val_mae': 0.175,\n",
       " 'test_mae': 0.1988888888888889,\n",
       " 'train_mcc': 0.9666628151390576,\n",
       " 'test_mcc': 0.7439421131203788,\n",
       " 'test_acc': 0.8077777624130249,\n",
       " 'train_rmse_perc': 0.06369158,\n",
       " 'test_rmse_perc': 0.0989015,\n",
       " 'train_mae_perc': 0.05146707,\n",
       " 'val_mae_perc': 0.060040593,\n",
       " 'test_mae_perc': 0.06958777}"
      ]
     },
     "execution_count": 29,
     "metadata": {},
     "output_type": "execute_result"
    }
   ],
   "source": [
    "res_edges = res_edges_sage\n",
    "res_edges[0]"
   ]
  },
  {
   "cell_type": "code",
   "execution_count": 30,
   "metadata": {},
   "outputs": [
    {
     "data": {
      "text/plain": [
       "{'in_features': 4,\n",
       " 'h_features': [20, 25, 20],\n",
       " 'out_features': 1,\n",
       " 'aggregator_type': 'lstm',\n",
       " 'norm_edges': 'right',\n",
       " 'norm_nodes': 'gn',\n",
       " 'activation': ReLU(),\n",
       " 'feat_drop': 0,\n",
       " 'tr_par_lr': 0.01,\n",
       " 'tr_par_optimizer_name': 'adamw',\n",
       " 'tr_par_scheduler_mode': 'max_val_mcc',\n",
       " 'tr_par_use_edge_weight': True,\n",
       " 'tr_par_loss_type': 'mse',\n",
       " 'tr_par_approach': 'dist',\n",
       " 'tr_par_scheduler_patience': 10,\n",
       " 'train_self_loop': True,\n",
       " 'train_drop_edges': 0,\n",
       " 'val_mcc': 0.8232463592982684,\n",
       " 'epoch': 90,\n",
       " 'train_loss': 0.0039668838,\n",
       " 'val_loss': 0.0067782626,\n",
       " 'train_acc': 0.9458333253860474,\n",
       " 'val_acc': 0.8666666150093079,\n",
       " 'val_rmse_perc': 0.06509194,\n",
       " 'model_class': 'sage',\n",
       " 'path_name': 'saved_sage_dist\\\\0.87_2023-03-30_22.36.46.564492_90',\n",
       " 'train_rmse': 0.2327373340628157,\n",
       " 'val_rmse': 0.3651483716701107,\n",
       " 'test_rmse': 0.47842333648024415,\n",
       " 'train_mae': 0.05416666666666667,\n",
       " 'val_mae': 0.13333333333333333,\n",
       " 'test_mae': 0.21555555555555556,\n",
       " 'train_mcc': 0.9285559909255632,\n",
       " 'test_mcc': 0.7221609715531004,\n",
       " 'test_acc': 0.7900000214576721,\n",
       " 'train_rmse_perc': 0.061917458,\n",
       " 'test_rmse_perc': 0.08725206,\n",
       " 'train_mae_perc': 0.047633305,\n",
       " 'val_mae_perc': 0.048558507,\n",
       " 'test_mae_perc': 0.06162057}"
      ]
     },
     "execution_count": 30,
     "metadata": {},
     "output_type": "execute_result"
    }
   ],
   "source": [
    "all = res_edges[2]\n",
    "\n",
    "sort_idx = np.argsort([k['dict'][metric_filter_1] for k in all])\n",
    "all[sort_idx[0]]['dict']"
   ]
  },
  {
   "cell_type": "code",
   "execution_count": 31,
   "metadata": {},
   "outputs": [
    {
     "data": {
      "text/plain": [
       "{'in_features': 4,\n",
       " 'h_features': [30, 30, 30],\n",
       " 'out_features': 1,\n",
       " 'aggregator_type': 'lstm',\n",
       " 'norm_edges': 'right',\n",
       " 'norm_nodes': 'gn',\n",
       " 'activation': ReLU(),\n",
       " 'feat_drop': 0,\n",
       " 'tr_par_lr': 0.01,\n",
       " 'tr_par_optimizer_name': 'adamw',\n",
       " 'tr_par_scheduler_mode': 'max_val_mcc',\n",
       " 'tr_par_use_edge_weight': True,\n",
       " 'tr_par_loss_type': 'mse',\n",
       " 'tr_par_approach': 'dist',\n",
       " 'tr_par_scheduler_patience': 10,\n",
       " 'train_self_loop': True,\n",
       " 'train_drop_edges': 0,\n",
       " 'val_mcc': 0.7890882833618471,\n",
       " 'epoch': 56,\n",
       " 'train_loss': 0.0037485906,\n",
       " 'val_loss': 0.0084467875,\n",
       " 'train_acc': 0.956250011920929,\n",
       " 'val_acc': 0.8416666388511658,\n",
       " 'val_rmse_perc': 0.0784975,\n",
       " 'model_class': 'sage',\n",
       " 'path_name': 'saved_sage_dist\\\\0.84_2023-03-30_22.49.40.721795',\n",
       " 'train_rmse': 0.2091650066335189,\n",
       " 'val_rmse': 0.39791121287711073,\n",
       " 'test_rmse': 0.469041575982343,\n",
       " 'train_mae': 0.04375,\n",
       " 'val_mae': 0.15833333333333333,\n",
       " 'test_mae': 0.2088888888888889,\n",
       " 'train_mcc': 0.9417207610831949,\n",
       " 'test_mcc': 0.7278411975950755,\n",
       " 'test_acc': 0.7955555319786072,\n",
       " 'train_rmse_perc': 0.056483906,\n",
       " 'test_rmse_perc': 0.08644245,\n",
       " 'train_mae_perc': 0.04538303,\n",
       " 'val_mae_perc': 0.05683678,\n",
       " 'test_mae_perc': 0.06197409}"
      ]
     },
     "execution_count": 31,
     "metadata": {},
     "output_type": "execute_result"
    }
   ],
   "source": [
    "all = res_edges[2]\n",
    "\n",
    "sort_idx = np.argsort([k['dict'][metric_filter_2] for k in all])\n",
    "all[sort_idx[0]]['dict']"
   ]
  },
  {
   "cell_type": "code",
   "execution_count": 32,
   "metadata": {},
   "outputs": [
    {
     "name": "stderr",
     "output_type": "stream",
     "text": [
      "100%|██████████| 4025/4025 [00:00<00:00, 27006.00it/s]\n"
     ]
    }
   ],
   "source": [
    "pretty([all[k]['dict'] for k in sort_idx])"
   ]
  },
  {
   "cell_type": "markdown",
   "metadata": {},
   "source": [
    "#### cm"
   ]
  },
  {
   "cell_type": "code",
   "execution_count": 33,
   "metadata": {},
   "outputs": [],
   "source": [
    "cm = all[sort_idx[0]]['test_cm'][0]"
   ]
  },
  {
   "cell_type": "code",
   "execution_count": 34,
   "metadata": {},
   "outputs": [
    {
     "data": {
      "text/plain": [
       "tensor(220)"
      ]
     },
     "execution_count": 34,
     "metadata": {},
     "output_type": "execute_result"
    }
   ],
   "source": [
    "(cm.labels==0).sum()"
   ]
  },
  {
   "cell_type": "code",
   "execution_count": 35,
   "metadata": {},
   "outputs": [
    {
     "data": {
      "text/plain": [
       "<module 'matplotlib.pyplot' from 'c:\\\\Users\\\\vibal\\\\miniconda3\\\\envs\\\\ml\\\\lib\\\\site-packages\\\\matplotlib\\\\pyplot.py'>"
      ]
     },
     "execution_count": 35,
     "metadata": {},
     "output_type": "execute_result"
    },
    {
     "data": {
      "image/png": "[encoded data removed]",
      "text/plain": [
       "<Figure size 1500x1000 with 2 Axes>"
      ]
     },
     "metadata": {},
     "output_type": "display_data"
    }
   ],
   "source": [
    "cm.visualize()"
   ]
  },
  {
   "cell_type": "code",
   "execution_count": 36,
   "metadata": {},
   "outputs": [
    {
     "data": {
      "text/plain": [
       "tensor([0.8318, 0.7565, 0.7056, 0.8950])"
      ]
     },
     "execution_count": 36,
     "metadata": {},
     "output_type": "execute_result"
    }
   ],
   "source": [
    "cm.class_accuracy"
   ]
  },
  {
   "cell_type": "code",
   "execution_count": 37,
   "metadata": {},
   "outputs": [
    {
     "data": {
      "text/plain": [
       "[0.08288079, 0.08707018, 0.08948341, 0.08601995]"
      ]
     },
     "execution_count": 37,
     "metadata": {},
     "output_type": "execute_result"
    }
   ],
   "source": [
    "[mean_squared_error(y_true=cm.true_percentiles[cm.labels==k], y_pred=cm.perc[cm.labels==k], squared=False) for k in range(0, cm.size)]"
   ]
  },
  {
   "cell_type": "code",
   "execution_count": 38,
   "metadata": {},
   "outputs": [
    {
     "data": {
      "text/plain": [
       "[0.05617288, 0.06195351, 0.06816564, 0.061292578]"
      ]
     },
     "execution_count": 38,
     "metadata": {},
     "output_type": "execute_result"
    }
   ],
   "source": [
    "[mean_absolute_error(y_true=cm.true_percentiles[cm.labels==k], y_pred=cm.perc[cm.labels==k]) for k in range(0, cm.size)]"
   ]
  },
  {
   "cell_type": "markdown",
   "metadata": {},
   "source": [
    "#### GraphSAGE Base_n"
   ]
  },
  {
   "cell_type": "code",
   "execution_count": 39,
   "metadata": {},
   "outputs": [],
   "source": [
    "save_model = f'{save_path}_sage_base'\n",
    "log_dir = f'{log_path}_sage_base'\n",
    "\n",
    "dataset_val = ContagionDataset(\n",
    "    raw_dir=data_dir,\n",
    "    drop_edges=0,\n",
    "    sets_lengths=sets_lengths,\n",
    "    add_self_loop = True,\n",
    "    target = target,\n",
    ")\n",
    "\n",
    "sage_model = dict(\n",
    "    in_features = [len(dataset.node_attributes)],\n",
    "    h_features = [[20] * 3, [25] * 3, [15] * 3, [10], [20,25,20], [30] * 3], \n",
    "    out_features = [out_feats],\n",
    "    aggregator_type = ['lstm'],\n",
    "    norm_edges = ['right', 'none'],\n",
    "    norm_nodes = [None, 'bn', 'gn'],\n",
    "    activation = [torch.nn.ReLU()],\n",
    "    feat_drop = [0.2, 0],\n",
    "    # other\n",
    "    lr=[1e-2],\n",
    "    use_edge_weight=[True],\n",
    "    add_self_loop=[True],\n",
    "    drop_edges=[0,0.2],\n",
    ")\n",
    "list_model = [dict(zip(sage_model.keys(), k)) for k in itertools.product(*sage_model.values())]\n",
    "\n",
    "# sage_model = dict(\n",
    "#     in_features = [len(dataset.node_attributes)],\n",
    "#     h_features = [[30] * 3], \n",
    "#     out_features = [out_feats],\n",
    "#     aggregator_type = ['lstm'],\n",
    "#     norm_edges = ['none'],\n",
    "#     norm_nodes = ['gn'],\n",
    "#     activation = [torch.nn.ReLU()],\n",
    "#     feat_drop = [0],\n",
    "#     # other\n",
    "#     lr=[1e-2],\n",
    "#     label_smoothing=[0.0],\n",
    "#     use_edge_weight=[True],\n",
    "#     add_self_loop=[True],\n",
    "#     drop_edges=[0],\n",
    "# )\n",
    "# list_model = [{i:j[k] for i,j in sage_model.items()} for k in range(len(sage_model['in_features']))]"
   ]
  },
  {
   "cell_type": "code",
   "execution_count": 40,
   "metadata": {
    "collapsed": false,
    "pycharm": {
     "name": "#%%\n"
    }
   },
   "outputs": [
    {
     "name": "stderr",
     "output_type": "stream",
     "text": [
      "100%|██████████| 144/144 [1:23:46<00:00, 34.91s/it]\n"
     ]
    }
   ],
   "source": [
    "if do_train:\n",
    "    for d in tqdm(list_model):\n",
    "        d = d.copy()\n",
    "        lr = d.pop('lr')\n",
    "        add_self_loop = d.pop('add_self_loop')\n",
    "        drop_edges = d.pop('drop_edges')\n",
    "        use_edge_weight = d.pop('use_edge_weight')\n",
    "\n",
    "        dataset_valid = ContagionDataset(\n",
    "            raw_dir=data_dir,\n",
    "            drop_edges=0,\n",
    "            sets_lengths=sets_lengths,\n",
    "            add_self_loop = add_self_loop,\n",
    "            target = target,\n",
    "        )\n",
    "\n",
    "        dataset_train = ContagionDataset(\n",
    "            raw_dir=data_dir,\n",
    "            drop_edges=drop_edges,\n",
    "            sets_lengths=sets_lengths,\n",
    "            add_self_loop = add_self_loop,\n",
    "            target = target,\n",
    "        )\n",
    "\n",
    "        train(\n",
    "            model=GraphSAGE(**d),\n",
    "            dict_model=d,\n",
    "            dataset_train=dataset_train,\n",
    "            dataset_val=dataset_valid,\n",
    "            log_dir=log_dir,\n",
    "            save_path=save_model,\n",
    "            lr=lr,\n",
    "            optimizer_name=\"adamw\",\n",
    "            n_epochs=100,\n",
    "            scheduler_mode='max_val_mcc',\n",
    "            debug_mode=False,\n",
    "            steps_save=10,\n",
    "            use_cpu=False,\n",
    "            use_edge_weight=use_edge_weight,\n",
    "            loss_type='mse',\n",
    "            approach='base_n',\n",
    "        )"
   ]
  },
  {
   "cell_type": "markdown",
   "metadata": {},
   "source": [
    "##### Results"
   ]
  },
  {
   "cell_type": "code",
   "execution_count": 41,
   "metadata": {},
   "outputs": [
    {
     "name": "stderr",
     "output_type": "stream",
     "text": [
      "100%|██████████| 2773/2773 [06:49<00:00,  6.77it/s]\n"
     ]
    }
   ],
   "source": [
    "res_edges_sage_base = test(\n",
    "    dataset=dataset_val,\n",
    "    save_path=save_model,\n",
    "    n_runs=1,\n",
    "    debug_mode=False,\n",
    "    use_cpu=False,\n",
    "    save=True,\n",
    "    use_edge_weight=True,\n",
    "    approach_default='base_n',\n",
    ")"
   ]
  },
  {
   "cell_type": "code",
   "execution_count": 42,
   "metadata": {},
   "outputs": [
    {
     "data": {
      "text/plain": [
       "{'in_features': 4,\n",
       " 'h_features': [25, 25, 25],\n",
       " 'out_features': 1,\n",
       " 'aggregator_type': 'lstm',\n",
       " 'norm_edges': 'right',\n",
       " 'norm_nodes': 'bn',\n",
       " 'activation': ReLU(),\n",
       " 'feat_drop': 0,\n",
       " 'tr_par_lr': 0.01,\n",
       " 'tr_par_optimizer_name': 'adamw',\n",
       " 'tr_par_scheduler_mode': 'max_val_mcc',\n",
       " 'tr_par_use_edge_weight': True,\n",
       " 'tr_par_loss_type': 'mse',\n",
       " 'tr_par_approach': 'base_n',\n",
       " 'tr_par_scheduler_patience': 10,\n",
       " 'train_self_loop': True,\n",
       " 'train_drop_edges': 0,\n",
       " 'val_mcc': 0.6961838397918007,\n",
       " 'epoch': 59,\n",
       " 'train_loss': 0.0041528195,\n",
       " 'val_loss': 0.015650231,\n",
       " 'train_acc': 0.8229166865348816,\n",
       " 'val_acc': 0.76666659116745,\n",
       " 'val_rmse_perc': 0.10168174,\n",
       " 'model_class': 'sage',\n",
       " 'path_name': 'saved_sage_base\\\\0.77_2023-03-30_23.25.34.606630',\n",
       " 'train_rmse': 0.4208127057650866,\n",
       " 'val_rmse': 0.48304589153964794,\n",
       " 'test_rmse': 0.4910306620885412,\n",
       " 'train_mae': 0.17708333333333334,\n",
       " 'val_mae': 0.23333333333333334,\n",
       " 'test_mae': 0.23,\n",
       " 'train_mcc': 0.7704553717543353,\n",
       " 'test_mcc': 0.7010110693664554,\n",
       " 'test_acc': 0.7744444608688354,\n",
       " 'train_rmse_perc': 0.09767614,\n",
       " 'test_rmse_perc': 0.10356535,\n",
       " 'train_mae_perc': 0.07867743,\n",
       " 'val_mae_perc': 0.0788507,\n",
       " 'test_mae_perc': 0.07941879}"
      ]
     },
     "execution_count": 42,
     "metadata": {},
     "output_type": "execute_result"
    }
   ],
   "source": [
    "res_edges = res_edges_sage_base\n",
    "res_edges[0]"
   ]
  },
  {
   "cell_type": "code",
   "execution_count": 43,
   "metadata": {},
   "outputs": [
    {
     "data": {
      "text/plain": [
       "{'in_features': 4,\n",
       " 'h_features': [25, 25, 25],\n",
       " 'out_features': 1,\n",
       " 'aggregator_type': 'lstm',\n",
       " 'norm_edges': 'right',\n",
       " 'norm_nodes': 'bn',\n",
       " 'activation': ReLU(),\n",
       " 'feat_drop': 0,\n",
       " 'tr_par_lr': 0.01,\n",
       " 'tr_par_optimizer_name': 'adamw',\n",
       " 'tr_par_scheduler_mode': 'max_val_mcc',\n",
       " 'tr_par_use_edge_weight': True,\n",
       " 'tr_par_loss_type': 'mse',\n",
       " 'tr_par_approach': 'base_n',\n",
       " 'tr_par_scheduler_patience': 10,\n",
       " 'train_self_loop': True,\n",
       " 'train_drop_edges': 0,\n",
       " 'val_mcc': 0.6961838397918007,\n",
       " 'epoch': 59,\n",
       " 'train_loss': 0.0041528195,\n",
       " 'val_loss': 0.015650231,\n",
       " 'train_acc': 0.8229166865348816,\n",
       " 'val_acc': 0.76666659116745,\n",
       " 'val_rmse_perc': 0.10168174,\n",
       " 'model_class': 'sage',\n",
       " 'path_name': 'saved_sage_base\\\\0.77_2023-03-30_23.25.34.606630',\n",
       " 'train_rmse': 0.4208127057650866,\n",
       " 'val_rmse': 0.48304589153964794,\n",
       " 'test_rmse': 0.4910306620885412,\n",
       " 'train_mae': 0.17708333333333334,\n",
       " 'val_mae': 0.23333333333333334,\n",
       " 'test_mae': 0.23,\n",
       " 'train_mcc': 0.7704553717543353,\n",
       " 'test_mcc': 0.7010110693664554,\n",
       " 'test_acc': 0.7744444608688354,\n",
       " 'train_rmse_perc': 0.09767614,\n",
       " 'test_rmse_perc': 0.10356535,\n",
       " 'train_mae_perc': 0.07867743,\n",
       " 'val_mae_perc': 0.0788507,\n",
       " 'test_mae_perc': 0.07941879}"
      ]
     },
     "execution_count": 43,
     "metadata": {},
     "output_type": "execute_result"
    }
   ],
   "source": [
    "all = res_edges[2]\n",
    "\n",
    "sort_idx = np.argsort([k['dict'][metric_filter_1] for k in all])\n",
    "all[sort_idx[0]]['dict']"
   ]
  },
  {
   "cell_type": "code",
   "execution_count": 44,
   "metadata": {},
   "outputs": [
    {
     "data": {
      "text/plain": [
       "{'in_features': 4,\n",
       " 'h_features': [25, 25, 25],\n",
       " 'out_features': 1,\n",
       " 'aggregator_type': 'lstm',\n",
       " 'norm_edges': 'right',\n",
       " 'norm_nodes': 'bn',\n",
       " 'activation': ReLU(),\n",
       " 'feat_drop': 0,\n",
       " 'tr_par_lr': 0.01,\n",
       " 'tr_par_optimizer_name': 'adamw',\n",
       " 'tr_par_scheduler_mode': 'max_val_mcc',\n",
       " 'tr_par_use_edge_weight': True,\n",
       " 'tr_par_loss_type': 'mse',\n",
       " 'tr_par_approach': 'base_n',\n",
       " 'tr_par_scheduler_patience': 10,\n",
       " 'train_self_loop': True,\n",
       " 'train_drop_edges': 0,\n",
       " 'val_mcc': 0.6961838397918007,\n",
       " 'epoch': 59,\n",
       " 'train_loss': 0.0041528195,\n",
       " 'val_loss': 0.015650231,\n",
       " 'train_acc': 0.8229166865348816,\n",
       " 'val_acc': 0.76666659116745,\n",
       " 'val_rmse_perc': 0.10168174,\n",
       " 'model_class': 'sage',\n",
       " 'path_name': 'saved_sage_base\\\\0.77_2023-03-30_23.25.34.606630',\n",
       " 'train_rmse': 0.4208127057650866,\n",
       " 'val_rmse': 0.48304589153964794,\n",
       " 'test_rmse': 0.4910306620885412,\n",
       " 'train_mae': 0.17708333333333334,\n",
       " 'val_mae': 0.23333333333333334,\n",
       " 'test_mae': 0.23,\n",
       " 'train_mcc': 0.7704553717543353,\n",
       " 'test_mcc': 0.7010110693664554,\n",
       " 'test_acc': 0.7744444608688354,\n",
       " 'train_rmse_perc': 0.09767614,\n",
       " 'test_rmse_perc': 0.10356535,\n",
       " 'train_mae_perc': 0.07867743,\n",
       " 'val_mae_perc': 0.0788507,\n",
       " 'test_mae_perc': 0.07941879}"
      ]
     },
     "execution_count": 44,
     "metadata": {},
     "output_type": "execute_result"
    }
   ],
   "source": [
    "all = res_edges[2]\n",
    "\n",
    "sort_idx = np.argsort([k['dict'][metric_filter_2] for k in all])\n",
    "all[sort_idx[0]]['dict']"
   ]
  },
  {
   "cell_type": "code",
   "execution_count": 45,
   "metadata": {},
   "outputs": [
    {
     "name": "stderr",
     "output_type": "stream",
     "text": [
      "100%|██████████| 2773/2773 [00:00<00:00, 26279.67it/s]\n"
     ]
    }
   ],
   "source": [
    "pretty([all[k]['dict'] for k in sort_idx])"
   ]
  },
  {
   "cell_type": "markdown",
   "metadata": {},
   "source": [
    "##### cm"
   ]
  },
  {
   "cell_type": "code",
   "execution_count": 46,
   "metadata": {},
   "outputs": [],
   "source": [
    "cm = all[sort_idx[0]]['test_cm'][0]"
   ]
  },
  {
   "cell_type": "code",
   "execution_count": 47,
   "metadata": {},
   "outputs": [
    {
     "data": {
      "text/plain": [
       "tensor(220)"
      ]
     },
     "execution_count": 47,
     "metadata": {},
     "output_type": "execute_result"
    }
   ],
   "source": [
    "(cm.labels==0).sum()"
   ]
  },
  {
   "cell_type": "code",
   "execution_count": 48,
   "metadata": {},
   "outputs": [
    {
     "data": {
      "text/plain": [
       "<module 'matplotlib.pyplot' from 'c:\\\\Users\\\\vibal\\\\miniconda3\\\\envs\\\\ml\\\\lib\\\\site-packages\\\\matplotlib\\\\pyplot.py'>"
      ]
     },
     "execution_count": 48,
     "metadata": {},
     "output_type": "execute_result"
    },
    {
     "data": {
      "image/png": "[encoded data removed]",
      "text/plain": [
       "<Figure size 1500x1000 with 2 Axes>"
      ]
     },
     "metadata": {},
     "output_type": "display_data"
    }
   ],
   "source": [
    "cm.visualize()"
   ]
  },
  {
   "cell_type": "code",
   "execution_count": 49,
   "metadata": {},
   "outputs": [
    {
     "data": {
      "text/plain": [
       "tensor([0.8864, 0.6826, 0.7922, 0.7397])"
      ]
     },
     "execution_count": 49,
     "metadata": {},
     "output_type": "execute_result"
    }
   ],
   "source": [
    "cm.class_accuracy"
   ]
  },
  {
   "cell_type": "code",
   "execution_count": 50,
   "metadata": {},
   "outputs": [
    {
     "data": {
      "text/plain": [
       "[0.08365558, 0.100747615, 0.07485438, 0.1431022]"
      ]
     },
     "execution_count": 50,
     "metadata": {},
     "output_type": "execute_result"
    }
   ],
   "source": [
    "[mean_squared_error(y_true=cm.true_percentiles[cm.labels==k], y_pred=cm.perc[cm.labels==k], squared=False) for k in range(0, cm.size)]"
   ]
  },
  {
   "cell_type": "code",
   "execution_count": 51,
   "metadata": {},
   "outputs": [
    {
     "data": {
      "text/plain": [
       "[0.06253841, 0.07755158, 0.05689157, 0.122098826]"
      ]
     },
     "execution_count": 51,
     "metadata": {},
     "output_type": "execute_result"
    }
   ],
   "source": [
    "[mean_absolute_error(y_true=cm.true_percentiles[cm.labels==k], y_pred=cm.perc[cm.labels==k]) for k in range(0, cm.size)]"
   ]
  },
  {
   "cell_type": "markdown",
   "metadata": {},
   "source": [
    "#### GraphSAGE Scale"
   ]
  },
  {
   "cell_type": "code",
   "execution_count": 52,
   "metadata": {},
   "outputs": [],
   "source": [
    "save_model = f'{save_path}_sage_scale'\n",
    "log_dir = f'{log_path}_sage_scale'\n",
    "\n",
    "dataset_val = ContagionDataset(\n",
    "    raw_dir=data_dir,\n",
    "    drop_edges=0,\n",
    "    sets_lengths=sets_lengths,\n",
    "    add_self_loop = True,\n",
    "    target = target,\n",
    ")\n",
    "\n",
    "sage_model = dict(\n",
    "    in_features = [len(dataset.node_attributes)],\n",
    "    h_features = [[20] * 3, [25] * 3, [15] * 3, [10], [20,25,20], [30] * 3], \n",
    "    out_features = [out_feats],\n",
    "    aggregator_type = ['lstm'],\n",
    "    norm_edges = ['right', 'none'],\n",
    "    norm_nodes = [None, 'bn', 'gn'],\n",
    "    activation = [torch.nn.ReLU()],\n",
    "    feat_drop = [0.2, 0],\n",
    "    # other\n",
    "    lr=[1e-2],\n",
    "    use_edge_weight=[True],\n",
    "    add_self_loop=[True],\n",
    "    drop_edges=[0,0.2],\n",
    ")\n",
    "list_model = [dict(zip(sage_model.keys(), k)) for k in itertools.product(*sage_model.values())]\n",
    "\n",
    "# sage_model = dict(\n",
    "#     in_features = [len(dataset.node_attributes)],\n",
    "#     h_features = [[30] * 3], \n",
    "#     out_features = [out_feats],\n",
    "#     aggregator_type = ['lstm'],\n",
    "#     norm_edges = ['none'],\n",
    "#     norm_nodes = ['gn'],\n",
    "#     activation = [torch.nn.ReLU()],\n",
    "#     feat_drop = [0],\n",
    "#     # other\n",
    "#     lr=[1e-2],\n",
    "#     label_smoothing=[0.0],\n",
    "#     use_edge_weight=[True],\n",
    "#     add_self_loop=[True],\n",
    "#     drop_edges=[0],\n",
    "# )\n",
    "# list_model = [{i:j[k] for i,j in sage_model.items()} for k in range(len(sage_model['in_features']))]"
   ]
  },
  {
   "cell_type": "code",
   "execution_count": 53,
   "metadata": {
    "collapsed": false,
    "pycharm": {
     "name": "#%%\n"
    }
   },
   "outputs": [
    {
     "name": "stderr",
     "output_type": "stream",
     "text": [
      "100%|██████████| 144/144 [1:21:26<00:00, 33.94s/it]\n"
     ]
    }
   ],
   "source": [
    "if do_train:\n",
    "    for d in tqdm(list_model):\n",
    "        d = d.copy()\n",
    "        lr = d.pop('lr')\n",
    "        add_self_loop = d.pop('add_self_loop')\n",
    "        drop_edges = d.pop('drop_edges')\n",
    "        use_edge_weight = d.pop('use_edge_weight')\n",
    "\n",
    "        dataset_valid = ContagionDataset(\n",
    "            raw_dir=data_dir,\n",
    "            drop_edges=0,\n",
    "            sets_lengths=sets_lengths,\n",
    "            add_self_loop = add_self_loop,\n",
    "            target = target,\n",
    "        )\n",
    "\n",
    "        dataset_train = ContagionDataset(\n",
    "            raw_dir=data_dir,\n",
    "            drop_edges=drop_edges,\n",
    "            sets_lengths=sets_lengths,\n",
    "            add_self_loop = add_self_loop,\n",
    "            target = target,\n",
    "        )\n",
    "\n",
    "        train(\n",
    "            model=GraphSAGE(**d),\n",
    "            dict_model=d,\n",
    "            dataset_train=dataset_train,\n",
    "            dataset_val=dataset_valid,\n",
    "            log_dir=log_dir,\n",
    "            save_path=save_model,\n",
    "            lr=lr,\n",
    "            optimizer_name=\"adamw\",\n",
    "            n_epochs=100,\n",
    "            scheduler_mode='max_val_mcc',\n",
    "            debug_mode=False,\n",
    "            steps_save=10,\n",
    "            use_cpu=False,\n",
    "            use_edge_weight=use_edge_weight,\n",
    "            loss_type='mse',\n",
    "            approach='scale',\n",
    "        )"
   ]
  },
  {
   "cell_type": "markdown",
   "metadata": {},
   "source": [
    "##### Results"
   ]
  },
  {
   "cell_type": "code",
   "execution_count": 54,
   "metadata": {},
   "outputs": [
    {
     "name": "stderr",
     "output_type": "stream",
     "text": [
      "100%|██████████| 3767/3767 [09:17<00:00,  6.76it/s]\n"
     ]
    }
   ],
   "source": [
    "res_edges_sage_dist = test(\n",
    "    dataset=dataset_val,\n",
    "    save_path=save_model,\n",
    "    n_runs=1,\n",
    "    debug_mode=False,\n",
    "    use_cpu=False,\n",
    "    save=True,\n",
    "    use_edge_weight=True,\n",
    "    approach_default='scale',\n",
    ")"
   ]
  },
  {
   "cell_type": "code",
   "execution_count": 55,
   "metadata": {},
   "outputs": [
    {
     "data": {
      "text/plain": [
       "{'in_features': 4,\n",
       " 'h_features': [30, 30, 30],\n",
       " 'out_features': 1,\n",
       " 'aggregator_type': 'lstm',\n",
       " 'norm_edges': 'right',\n",
       " 'norm_nodes': 'gn',\n",
       " 'activation': ReLU(),\n",
       " 'feat_drop': 0,\n",
       " 'tr_par_lr': 0.01,\n",
       " 'tr_par_optimizer_name': 'adamw',\n",
       " 'tr_par_scheduler_mode': 'max_val_mcc',\n",
       " 'tr_par_use_edge_weight': True,\n",
       " 'tr_par_loss_type': 'mse',\n",
       " 'tr_par_approach': 'scale',\n",
       " 'tr_par_scheduler_patience': 10,\n",
       " 'train_self_loop': True,\n",
       " 'train_drop_edges': 0,\n",
       " 'val_mcc': 0.7732224760511508,\n",
       " 'epoch': 71,\n",
       " 'train_loss': 0.0070222574,\n",
       " 'val_loss': 0.014448856,\n",
       " 'train_acc': 0.9145833253860474,\n",
       " 'val_acc': 0.8249999284744263,\n",
       " 'val_rmse_perc': 0.098472156,\n",
       " 'model_class': 'sage',\n",
       " 'path_name': 'saved_sage_scale\\\\0.82_2023-03-31_01.52.32.317227',\n",
       " 'train_rmse': 0.29226129861250305,\n",
       " 'val_rmse': 0.4183300132670378,\n",
       " 'test_rmse': 0.4630814663149935,\n",
       " 'train_mae': 0.08541666666666667,\n",
       " 'val_mae': 0.175,\n",
       " 'test_mae': 0.1988888888888889,\n",
       " 'train_mcc': 0.8886122720522943,\n",
       " 'test_mcc': 0.7521343353043258,\n",
       " 'test_acc': 0.8077777624130249,\n",
       " 'train_rmse_perc': 0.09328238,\n",
       " 'test_rmse_perc': 0.10783801,\n",
       " 'train_mae_perc': 0.073657736,\n",
       " 'val_mae_perc': 0.07725368,\n",
       " 'test_mae_perc': 0.07982015}"
      ]
     },
     "execution_count": 55,
     "metadata": {},
     "output_type": "execute_result"
    }
   ],
   "source": [
    "res_edges = res_edges_sage_dist\n",
    "res_edges[0]"
   ]
  },
  {
   "cell_type": "code",
   "execution_count": 56,
   "metadata": {},
   "outputs": [
    {
     "data": {
      "text/plain": [
       "{'in_features': 4,\n",
       " 'h_features': [30, 30, 30],\n",
       " 'out_features': 1,\n",
       " 'aggregator_type': 'lstm',\n",
       " 'norm_edges': 'right',\n",
       " 'norm_nodes': 'gn',\n",
       " 'activation': ReLU(),\n",
       " 'feat_drop': 0,\n",
       " 'tr_par_lr': 0.01,\n",
       " 'tr_par_optimizer_name': 'adamw',\n",
       " 'tr_par_scheduler_mode': 'max_val_mcc',\n",
       " 'tr_par_use_edge_weight': True,\n",
       " 'tr_par_loss_type': 'mse',\n",
       " 'tr_par_approach': 'scale',\n",
       " 'tr_par_scheduler_patience': 10,\n",
       " 'train_self_loop': True,\n",
       " 'train_drop_edges': 0,\n",
       " 'val_mcc': 0.7454110534319268,\n",
       " 'epoch': 55,\n",
       " 'train_loss': 0.009648407,\n",
       " 'val_loss': 0.0139767295,\n",
       " 'train_acc': 0.862500011920929,\n",
       " 'val_acc': 0.7999999523162842,\n",
       " 'val_rmse_perc': 0.09539192,\n",
       " 'model_class': 'sage',\n",
       " 'path_name': 'saved_sage_scale\\\\0.80_2023-03-31_01.52.32.317227',\n",
       " 'train_rmse': 0.37080992435478316,\n",
       " 'val_rmse': 0.4472135954999579,\n",
       " 'test_rmse': 0.5163977794943222,\n",
       " 'train_mae': 0.1375,\n",
       " 'val_mae': 0.2,\n",
       " 'test_mae': 0.2511111111111111,\n",
       " 'train_mcc': 0.8216429396220848,\n",
       " 'test_mcc': 0.6854485918947825,\n",
       " 'test_acc': 0.7555555701255798,\n",
       " 'train_rmse_perc': 0.097045995,\n",
       " 'test_rmse_perc': 0.11189002,\n",
       " 'train_mae_perc': 0.07582732,\n",
       " 'val_mae_perc': 0.07690034,\n",
       " 'test_mae_perc': 0.086169526}"
      ]
     },
     "execution_count": 56,
     "metadata": {},
     "output_type": "execute_result"
    }
   ],
   "source": [
    "all = res_edges[2]\n",
    "\n",
    "sort_idx = np.argsort([k['dict'][metric_filter_1] for k in all])\n",
    "all[sort_idx[0]]['dict']"
   ]
  },
  {
   "cell_type": "code",
   "execution_count": 57,
   "metadata": {},
   "outputs": [
    {
     "data": {
      "text/plain": [
       "{'in_features': 4,\n",
       " 'h_features': [30, 30, 30],\n",
       " 'out_features': 1,\n",
       " 'aggregator_type': 'lstm',\n",
       " 'norm_edges': 'right',\n",
       " 'norm_nodes': 'gn',\n",
       " 'activation': ReLU(),\n",
       " 'feat_drop': 0,\n",
       " 'tr_par_lr': 0.01,\n",
       " 'tr_par_optimizer_name': 'adamw',\n",
       " 'tr_par_scheduler_mode': 'max_val_mcc',\n",
       " 'tr_par_use_edge_weight': True,\n",
       " 'tr_par_loss_type': 'mse',\n",
       " 'tr_par_approach': 'scale',\n",
       " 'tr_par_scheduler_patience': 10,\n",
       " 'train_self_loop': True,\n",
       " 'train_drop_edges': 0,\n",
       " 'val_mcc': 0.7732224760511508,\n",
       " 'epoch': 71,\n",
       " 'train_loss': 0.0070222574,\n",
       " 'val_loss': 0.014448856,\n",
       " 'train_acc': 0.9145833253860474,\n",
       " 'val_acc': 0.8249999284744263,\n",
       " 'val_rmse_perc': 0.098472156,\n",
       " 'model_class': 'sage',\n",
       " 'path_name': 'saved_sage_scale\\\\0.82_2023-03-31_01.52.32.317227',\n",
       " 'train_rmse': 0.29226129861250305,\n",
       " 'val_rmse': 0.4183300132670378,\n",
       " 'test_rmse': 0.4630814663149935,\n",
       " 'train_mae': 0.08541666666666667,\n",
       " 'val_mae': 0.175,\n",
       " 'test_mae': 0.1988888888888889,\n",
       " 'train_mcc': 0.8886122720522943,\n",
       " 'test_mcc': 0.7521343353043258,\n",
       " 'test_acc': 0.8077777624130249,\n",
       " 'train_rmse_perc': 0.09328238,\n",
       " 'test_rmse_perc': 0.10783801,\n",
       " 'train_mae_perc': 0.073657736,\n",
       " 'val_mae_perc': 0.07725368,\n",
       " 'test_mae_perc': 0.07982015}"
      ]
     },
     "execution_count": 57,
     "metadata": {},
     "output_type": "execute_result"
    }
   ],
   "source": [
    "all = res_edges[2]\n",
    "\n",
    "sort_idx = np.argsort([k['dict'][metric_filter_2] for k in all])\n",
    "all[sort_idx[0]]['dict']"
   ]
  },
  {
   "cell_type": "code",
   "execution_count": 58,
   "metadata": {},
   "outputs": [
    {
     "name": "stderr",
     "output_type": "stream",
     "text": [
      "100%|██████████| 3767/3767 [00:00<00:00, 23937.35it/s]\n"
     ]
    }
   ],
   "source": [
    "pretty([all[k]['dict'] for k in sort_idx])"
   ]
  },
  {
   "cell_type": "markdown",
   "metadata": {},
   "source": [
    "##### cm"
   ]
  },
  {
   "cell_type": "code",
   "execution_count": 59,
   "metadata": {},
   "outputs": [],
   "source": [
    "cm = all[sort_idx[0]]['test_cm'][0]"
   ]
  },
  {
   "cell_type": "code",
   "execution_count": 60,
   "metadata": {},
   "outputs": [
    {
     "data": {
      "text/plain": [
       "tensor(220)"
      ]
     },
     "execution_count": 60,
     "metadata": {},
     "output_type": "execute_result"
    }
   ],
   "source": [
    "(cm.labels==0).sum()"
   ]
  },
  {
   "cell_type": "code",
   "execution_count": 61,
   "metadata": {},
   "outputs": [
    {
     "data": {
      "text/plain": [
       "<module 'matplotlib.pyplot' from 'c:\\\\Users\\\\vibal\\\\miniconda3\\\\envs\\\\ml\\\\lib\\\\site-packages\\\\matplotlib\\\\pyplot.py'>"
      ]
     },
     "execution_count": 61,
     "metadata": {},
     "output_type": "execute_result"
    },
    {
     "data": {
      "image/png": "[encoded data removed]",
      "text/plain": [
       "<Figure size 1500x1000 with 2 Axes>"
      ]
     },
     "metadata": {},
     "output_type": "display_data"
    }
   ],
   "source": [
    "cm.visualize()"
   ]
  },
  {
   "cell_type": "code",
   "execution_count": 62,
   "metadata": {},
   "outputs": [
    {
     "data": {
      "text/plain": [
       "tensor([0.9409, 0.7217, 0.6061, 0.9772])"
      ]
     },
     "execution_count": 62,
     "metadata": {},
     "output_type": "execute_result"
    }
   ],
   "source": [
    "cm.class_accuracy"
   ]
  },
  {
   "cell_type": "code",
   "execution_count": 63,
   "metadata": {},
   "outputs": [
    {
     "data": {
      "text/plain": [
       "[0.10184891, 0.10861495, 0.123974875, 0.093639135]"
      ]
     },
     "execution_count": 63,
     "metadata": {},
     "output_type": "execute_result"
    }
   ],
   "source": [
    "[mean_squared_error(y_true=cm.true_percentiles[cm.labels==k], y_pred=cm.perc[cm.labels==k], squared=False) for k in range(0, cm.size)]"
   ]
  },
  {
   "cell_type": "code",
   "execution_count": 64,
   "metadata": {},
   "outputs": [
    {
     "data": {
      "text/plain": [
       "[0.077107206, 0.07493878, 0.09071536, 0.07617982]"
      ]
     },
     "execution_count": 64,
     "metadata": {},
     "output_type": "execute_result"
    }
   ],
   "source": [
    "[mean_absolute_error(y_true=cm.true_percentiles[cm.labels==k], y_pred=cm.perc[cm.labels==k]) for k in range(0, cm.size)]"
   ]
  },
  {
   "cell_type": "markdown",
   "metadata": {
    "collapsed": false
   },
   "source": [
    "### GAT"
   ]
  },
  {
   "cell_type": "code",
   "execution_count": 65,
   "metadata": {},
   "outputs": [],
   "source": [
    "save_model = f'{save_path}_gat'\n",
    "log_dir = f'{log_path}_gat'\n",
    "\n",
    "add_self_loop = True\n",
    "\n",
    "dataset_val = ContagionDataset(\n",
    "    raw_dir=data_dir,\n",
    "    drop_edges=0,\n",
    "    sets_lengths=sets_lengths,\n",
    "    add_self_loop = add_self_loop,\n",
    "    target = target,\n",
    ")\n",
    "\n",
    "gat_model = dict(\n",
    "    in_features = [len(dataset.node_attributes)],\n",
    "    h_features = [[10], [10] * 2, [15], [15] * 2, [20], [20] * 2, [25], [25] * 2],\n",
    "    out_features = [out_feats],\n",
    "    num_heads = [[4] * 2, [2] * 2, [4, 2]],\n",
    "    norm_nodes = [None, 'bn', 'gn'],\n",
    "    activation = [torch.nn.ReLU()],\n",
    "    negative_slope = [0.2, 0.4],\n",
    "    feat_drop = [0.2],\n",
    "    attn_drop = [0.2],\n",
    "    residual = [True],\n",
    "    # other\n",
    "    lr=[1e-2,],\n",
    "    use_edge_weight=[False],\n",
    "    drop_edges=[0,0.2],\n",
    ")\n",
    "list_model = [dict(zip(gat_model.keys(), k)) for k in itertools.product(*gat_model.values())]\n",
    "\n",
    "# gat_model = dict(\n",
    "#     in_features = [len(dataset.node_attributes)],\n",
    "#     # h_features = [[10], [15], [20]], \n",
    "#     h_features = [[10] * 3, [15] * 3, [20] * 3], \n",
    "#     out_features = [out_feats],\n",
    "#     # num_heads = [[4] * 4],\n",
    "#     num_heads = [[4, 2, 2]],\n",
    "#     norm_nodes = [None, 'bn', 'gn'],\n",
    "#     activation = [torch.nn.ReLU()],\n",
    "#     negative_slope = [0.2, 0.3, 0.4],\n",
    "#     feat_drop = [0.2],\n",
    "#     attn_drop = [0.2],\n",
    "#     residual = [True],\n",
    "#     # other\n",
    "#     lr=[1e-2,],\n",
    "#     label_smoothing=[0.0],\n",
    "#     use_edge_weight=[False],\n",
    "#     drop_edges=[0,],\n",
    "# )\n",
    "# list_model = [dict(zip(gat_model.keys(), k)) for k in itertools.product(*gat_model.values())]\n",
    "# list_model = [{i:j[k] for i,j in gat_model.items()} for k in range(len(gat_model['in_features']))]"
   ]
  },
  {
   "cell_type": "code",
   "execution_count": 66,
   "metadata": {
    "collapsed": false,
    "pycharm": {
     "name": "#%%\n"
    }
   },
   "outputs": [
    {
     "name": "stderr",
     "output_type": "stream",
     "text": [
      "100%|██████████| 288/288 [26:13<00:00,  5.46s/it]\n"
     ]
    }
   ],
   "source": [
    "if do_train:\n",
    "    for d in tqdm(list_model):\n",
    "        d = d.copy()\n",
    "        lr = d.pop('lr')\n",
    "        drop_edges = d.pop('drop_edges')\n",
    "        use_edge_weight = d.pop('use_edge_weight')\n",
    "\n",
    "        # dataset_valid = ContagionDataset(\n",
    "        #     raw_dir=data_dir,\n",
    "        #     drop_edges=0,\n",
    "        #     sets_lengths=sets_lengths,\n",
    "        #     add_self_loop = add_self_loop,\n",
    "        #     target = target,\n",
    "        #     seed=seed,\n",
    "        # )\n",
    "\n",
    "        dataset_train = ContagionDataset(\n",
    "            raw_dir=data_dir,\n",
    "            drop_edges=drop_edges,\n",
    "            sets_lengths=sets_lengths,\n",
    "            add_self_loop = add_self_loop,\n",
    "            target = target,\n",
    "        )\n",
    "\n",
    "        train(\n",
    "            model=GAT(**d),\n",
    "            dict_model=d,\n",
    "            dataset_train=dataset_train,\n",
    "            dataset_val=dataset_val,\n",
    "            log_dir=log_dir,\n",
    "            save_path=save_model,\n",
    "            lr=lr,\n",
    "            optimizer_name=\"adamw\",\n",
    "            n_epochs=100,\n",
    "            scheduler_mode='max_val_mcc',\n",
    "            debug_mode=False,\n",
    "            steps_save=10,\n",
    "            use_cpu=False,\n",
    "            use_edge_weight=use_edge_weight,\n",
    "            loss_type='mse',\n",
    "        )"
   ]
  },
  {
   "cell_type": "markdown",
   "metadata": {},
   "source": [
    "#### Results"
   ]
  },
  {
   "cell_type": "code",
   "execution_count": 67,
   "metadata": {},
   "outputs": [
    {
     "name": "stderr",
     "output_type": "stream",
     "text": [
      "100%|██████████| 4470/4470 [03:52<00:00, 19.23it/s]\n"
     ]
    }
   ],
   "source": [
    "res_edges_gat = test(\n",
    "    dataset=dataset_val,\n",
    "    save_path=save_model,\n",
    "    n_runs=1,\n",
    "    debug_mode=False,\n",
    "    use_cpu=False,\n",
    "    save=True,\n",
    "    use_edge_weight=False,\n",
    ")"
   ]
  },
  {
   "cell_type": "code",
   "execution_count": 68,
   "metadata": {},
   "outputs": [
    {
     "data": {
      "text/plain": [
       "{'in_features': 4,\n",
       " 'h_features': [25, 25],\n",
       " 'out_features': 1,\n",
       " 'num_heads': [4, 2],\n",
       " 'norm_nodes': 'gn',\n",
       " 'activation': ReLU(),\n",
       " 'negative_slope': 0.4,\n",
       " 'feat_drop': 0.2,\n",
       " 'attn_drop': 0.2,\n",
       " 'residual': True,\n",
       " 'tr_par_lr': 0.01,\n",
       " 'tr_par_optimizer_name': 'adamw',\n",
       " 'tr_par_scheduler_mode': 'max_val_mcc',\n",
       " 'tr_par_use_edge_weight': False,\n",
       " 'tr_par_loss_type': 'mse',\n",
       " 'tr_par_approach': 'dist',\n",
       " 'tr_par_scheduler_patience': 10,\n",
       " 'train_self_loop': True,\n",
       " 'train_drop_edges': 0,\n",
       " 'val_mcc': 0.3816788277537618,\n",
       " 'epoch': 100,\n",
       " 'train_loss': 0.036763392,\n",
       " 'val_loss': 0.036767878,\n",
       " 'train_acc': 0.6312500238418579,\n",
       " 'val_acc': 0.5333333015441895,\n",
       " 'val_rmse_perc': 0.19548106,\n",
       " 'model_class': 'gat',\n",
       " 'path_name': 'saved_gat\\\\0.53_2023-03-31_02.35.23.053260_100',\n",
       " 'train_rmse': 0.6661456297237114,\n",
       " 'val_rmse': 0.8416254115301732,\n",
       " 'test_rmse': 0.7564537145273478,\n",
       " 'train_mae': 0.39375,\n",
       " 'val_mae': 0.5416666666666666,\n",
       " 'test_mae': 0.47,\n",
       " 'train_mcc': 0.5196072909195565,\n",
       " 'test_mcc': 0.443149206206969,\n",
       " 'test_acc': 0.5788888931274414,\n",
       " 'train_rmse_perc': 0.15215114,\n",
       " 'test_rmse_perc': 0.16685727,\n",
       " 'train_mae_perc': 0.117300555,\n",
       " 'val_mae_perc': 0.14178486,\n",
       " 'test_mae_perc': 0.12739067}"
      ]
     },
     "execution_count": 68,
     "metadata": {},
     "output_type": "execute_result"
    }
   ],
   "source": [
    "res_edges = res_edges_gat\n",
    "res_edges[0]"
   ]
  },
  {
   "cell_type": "code",
   "execution_count": 69,
   "metadata": {},
   "outputs": [
    {
     "data": {
      "text/plain": [
       "{'in_features': 4,\n",
       " 'h_features': [25, 25],\n",
       " 'out_features': 1,\n",
       " 'num_heads': [4, 2],\n",
       " 'norm_nodes': 'gn',\n",
       " 'activation': ReLU(),\n",
       " 'negative_slope': 0.4,\n",
       " 'feat_drop': 0.2,\n",
       " 'attn_drop': 0.2,\n",
       " 'residual': True,\n",
       " 'tr_par_lr': 0.01,\n",
       " 'tr_par_optimizer_name': 'adamw',\n",
       " 'tr_par_scheduler_mode': 'max_val_mcc',\n",
       " 'tr_par_use_edge_weight': False,\n",
       " 'tr_par_loss_type': 'mse',\n",
       " 'tr_par_approach': 'dist',\n",
       " 'tr_par_scheduler_patience': 10,\n",
       " 'train_self_loop': True,\n",
       " 'train_drop_edges': 0,\n",
       " 'val_mcc': 0.3816788277537618,\n",
       " 'epoch': 100,\n",
       " 'train_loss': 0.036763392,\n",
       " 'val_loss': 0.036767878,\n",
       " 'train_acc': 0.6312500238418579,\n",
       " 'val_acc': 0.5333333015441895,\n",
       " 'val_rmse_perc': 0.19548106,\n",
       " 'model_class': 'gat',\n",
       " 'path_name': 'saved_gat\\\\0.53_2023-03-31_02.35.23.053260_100',\n",
       " 'train_rmse': 0.6661456297237114,\n",
       " 'val_rmse': 0.8416254115301732,\n",
       " 'test_rmse': 0.7564537145273478,\n",
       " 'train_mae': 0.39375,\n",
       " 'val_mae': 0.5416666666666666,\n",
       " 'test_mae': 0.47,\n",
       " 'train_mcc': 0.5196072909195565,\n",
       " 'test_mcc': 0.443149206206969,\n",
       " 'test_acc': 0.5788888931274414,\n",
       " 'train_rmse_perc': 0.15215114,\n",
       " 'test_rmse_perc': 0.16685727,\n",
       " 'train_mae_perc': 0.117300555,\n",
       " 'val_mae_perc': 0.14178486,\n",
       " 'test_mae_perc': 0.12739067}"
      ]
     },
     "execution_count": 69,
     "metadata": {},
     "output_type": "execute_result"
    }
   ],
   "source": [
    "all = res_edges[2]\n",
    "\n",
    "sort_idx = np.argsort([k['dict'][metric_filter_1] for k in all])\n",
    "all[sort_idx[0]]['dict']"
   ]
  },
  {
   "cell_type": "code",
   "execution_count": 70,
   "metadata": {},
   "outputs": [
    {
     "data": {
      "text/plain": [
       "{'in_features': 4,\n",
       " 'h_features': [25, 25],\n",
       " 'out_features': 1,\n",
       " 'num_heads': [4, 2],\n",
       " 'norm_nodes': 'gn',\n",
       " 'activation': ReLU(),\n",
       " 'negative_slope': 0.4,\n",
       " 'feat_drop': 0.2,\n",
       " 'attn_drop': 0.2,\n",
       " 'residual': True,\n",
       " 'tr_par_lr': 0.01,\n",
       " 'tr_par_optimizer_name': 'adamw',\n",
       " 'tr_par_scheduler_mode': 'max_val_mcc',\n",
       " 'tr_par_use_edge_weight': False,\n",
       " 'tr_par_loss_type': 'mse',\n",
       " 'tr_par_approach': 'dist',\n",
       " 'tr_par_scheduler_patience': 10,\n",
       " 'train_self_loop': True,\n",
       " 'train_drop_edges': 0,\n",
       " 'val_mcc': 0.3816788277537618,\n",
       " 'epoch': 100,\n",
       " 'train_loss': 0.036763392,\n",
       " 'val_loss': 0.036767878,\n",
       " 'train_acc': 0.6312500238418579,\n",
       " 'val_acc': 0.5333333015441895,\n",
       " 'val_rmse_perc': 0.19548106,\n",
       " 'model_class': 'gat',\n",
       " 'path_name': 'saved_gat\\\\0.53_2023-03-31_02.35.23.053260_100',\n",
       " 'train_rmse': 0.6661456297237114,\n",
       " 'val_rmse': 0.8416254115301732,\n",
       " 'test_rmse': 0.7564537145273478,\n",
       " 'train_mae': 0.39375,\n",
       " 'val_mae': 0.5416666666666666,\n",
       " 'test_mae': 0.47,\n",
       " 'train_mcc': 0.5196072909195565,\n",
       " 'test_mcc': 0.443149206206969,\n",
       " 'test_acc': 0.5788888931274414,\n",
       " 'train_rmse_perc': 0.15215114,\n",
       " 'test_rmse_perc': 0.16685727,\n",
       " 'train_mae_perc': 0.117300555,\n",
       " 'val_mae_perc': 0.14178486,\n",
       " 'test_mae_perc': 0.12739067}"
      ]
     },
     "execution_count": 70,
     "metadata": {},
     "output_type": "execute_result"
    }
   ],
   "source": [
    "all = res_edges[2]\n",
    "\n",
    "sort_idx = np.argsort([k['dict'][metric_filter_2] for k in all])\n",
    "all[sort_idx[0]]['dict']"
   ]
  },
  {
   "cell_type": "code",
   "execution_count": 71,
   "metadata": {},
   "outputs": [
    {
     "name": "stderr",
     "output_type": "stream",
     "text": [
      "100%|██████████| 4470/4470 [00:00<00:00, 22445.65it/s]\n"
     ]
    }
   ],
   "source": [
    "pretty([all[k]['dict'] for k in sort_idx])"
   ]
  },
  {
   "cell_type": "code",
   "execution_count": null,
   "metadata": {},
   "outputs": [],
   "source": []
  }
 ],
 "metadata": {
  "interpreter": {
   "hash": "5533aa900e676eb13701c8fcbd0b5e657688ba839b290cdc5cd85347c7aef055"
  },
  "kernelspec": {
   "display_name": "Python 3.9.5 ('venv': venv)",
   "language": "python",
   "name": "python3"
  },
  "language_info": {
   "codemirror_mode": {
    "name": "ipython",
    "version": 3
   },
   "file_extension": ".py",
   "mimetype": "text/x-python",
   "name": "python",
   "nbconvert_exporter": "python",
   "pygments_lexer": "ipython3",
   "version": "3.9.16"
  },
  "orig_nbformat": 4
 },
 "nbformat": 4,
 "nbformat_minor": 2
}
