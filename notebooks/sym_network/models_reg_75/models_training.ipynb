{
 "cells": [
  {
   "cell_type": "code",
   "execution_count": 1,
   "metadata": {},
   "outputs": [],
   "source": [
    "import sys\n",
    "sys.path.append('../../../')"
   ]
  },
  {
   "cell_type": "code",
   "execution_count": 2,
   "metadata": {},
   "outputs": [
    {
     "name": "stderr",
     "output_type": "stream",
     "text": [
      "c:\\Users\\vibal\\miniconda3\\envs\\ml\\lib\\site-packages\\tqdm\\auto.py:21: TqdmWarning: IProgress not found. Please update jupyter and ipywidgets. See https://ipywidgets.readthedocs.io/en/stable/user_install.html\n",
      "  from .autonotebook import tqdm as notebook_tqdm\n"
     ]
    }
   ],
   "source": [
    "import torch\n",
    "import itertools\n",
    "from sklearn.linear_model import LogisticRegression\n",
    "from sklearn.model_selection import train_test_split\n",
    "from sklearn.ensemble import RandomForestClassifier\n",
    "from sklearn.metrics import classification_report\n",
    "from sklearn.neighbors import KNeighborsClassifier\n",
    "import pandas as pd\n",
    "import numpy as np\n",
    "from tqdm.auto import tqdm, trange\n",
    "\n",
    "from models.train_reg import train, test\n",
    "from models.models import GCN, GAT, GraphSAGE, FNN\n",
    "from models.utils import ContagionDataset, set_seed\n",
    "from sklearn.metrics import matthews_corrcoef, mean_squared_error, mean_absolute_error"
   ]
  },
  {
   "cell_type": "code",
   "execution_count": 3,
   "metadata": {},
   "outputs": [],
   "source": [
    "def pretty(ld, indent=0):\n",
    "    with open('result.txt', 'w', encoding='utf-8') as file:\n",
    "        for d in tqdm(ld):\n",
    "            file.write('{' + '\\n')\n",
    "            for key, value in d.items():\n",
    "                file.write('\\t' * (indent+1) + str(key) + ':' + str(value) + '\\n')\n",
    "                # file.write('\\t' * (indent+1) + str(key) + '\\n')\n",
    "                # file.write('\\t' * (indent+2) + str(value) + '\\n')\n",
    "            file.write('},\\n')"
   ]
  },
  {
   "cell_type": "code",
   "execution_count": 4,
   "metadata": {},
   "outputs": [],
   "source": [
    "do_train = True\n",
    "\n",
    "seed = 4444\n",
    "set_seed(seed)\n",
    "\n",
    "metric_filter_1 = 'val_rmse_perc'\n",
    "metric_filter_2 = 'test_rmse_perc'\n",
    "\n",
    "data_dir = '../data'\n",
    "log_path = './logs'\n",
    "save_path = './saved'"
   ]
  },
  {
   "cell_type": "markdown",
   "metadata": {},
   "source": [
    "# Big dataset: Additional stress"
   ]
  },
  {
   "cell_type": "code",
   "execution_count": 5,
   "metadata": {},
   "outputs": [],
   "source": [
    "sets_lengths = (0.6, 0.15, 0.25)\n",
    "target = 'additional_stress'\n",
    "\n",
    "dataset = ContagionDataset(\n",
    "    raw_dir=data_dir,\n",
    "    drop_edges=0,\n",
    "    sets_lengths=sets_lengths,\n",
    "    target = target,\n",
    ")\n",
    "\n",
    "out_feats = 1"
   ]
  },
  {
   "cell_type": "markdown",
   "metadata": {},
   "source": [
    "## Baseline"
   ]
  },
  {
   "cell_type": "markdown",
   "metadata": {},
   "source": [
    "### FNN"
   ]
  },
  {
   "cell_type": "code",
   "execution_count": 6,
   "metadata": {},
   "outputs": [],
   "source": [
    "save_model = f'{save_path}_fnn'\n",
    "log_dir = f'{log_path}_fnn'\n",
    "\n",
    "dataset_val = ContagionDataset(\n",
    "    raw_dir=data_dir,\n",
    "    drop_edges=0,\n",
    "    sets_lengths=sets_lengths,\n",
    "    add_self_loop = False,\n",
    "    target = target,\n",
    ")\n",
    "\n",
    "# fnn_model = dict(\n",
    "#     in_features=[len(dataset_val.node_attributes)],\n",
    "#     h_features=[[5, 10], [10, 15], [5,5,5], [5, 10, 15], [5, 10, 15, 20], [5], [10], [15]],\n",
    "#     out_features=[dataset_val.num_classes],\n",
    "#     activation=[torch.nn.ReLU()],\n",
    "#     norm_nodes = [None, 'bn', 'gn'],\n",
    "#     dropout=[0.2, 0.5, 0.0],\n",
    "#     # other\n",
    "#     lr=[1, 1e-1, 1e-2],\n",
    "#     label_smoothing=[0.0, 0.2, 0.4],\n",
    "# )\n",
    "\n",
    "fnn_model = dict(\n",
    "    in_features=[len(dataset_val.node_attributes)],\n",
    "    h_features=[[10, 15], [10, 15, 20], [5, 10, 15], [15] * 2, [15] * 3],\n",
    "    out_features=[dataset_val.num_classes],\n",
    "    activation=[torch.nn.ReLU()],\n",
    "    norm_nodes = [None, 'bn', 'gn'],\n",
    "    dropout=[0.2, 0.0],\n",
    "    # other\n",
    "    lr=[1e-1],\n",
    ")\n",
    "list_model = [dict(zip(fnn_model.keys(), k)) for k in itertools.product(*fnn_model.values())]"
   ]
  },
  {
   "cell_type": "code",
   "execution_count": 7,
   "metadata": {
    "collapsed": false,
    "pycharm": {
     "name": "#%%\n"
    }
   },
   "outputs": [
    {
     "name": "stderr",
     "output_type": "stream",
     "text": [
      "100%|██████████| 30/30 [01:45<00:00,  3.51s/it]\n"
     ]
    }
   ],
   "source": [
    "if do_train:\n",
    "    for d in tqdm(list_model):\n",
    "        d = d.copy()\n",
    "        lr = d.pop('lr')\n",
    "\n",
    "        train(\n",
    "            model=FNN(**d),\n",
    "            dict_model=d,\n",
    "            dataset_train=dataset_val,\n",
    "            dataset_val=dataset_val,\n",
    "            log_dir=log_dir,\n",
    "            save_path=save_model,\n",
    "            lr=lr,\n",
    "            optimizer_name=\"adamw\",\n",
    "            n_epochs=100,\n",
    "            scheduler_mode='max_val_mcc',\n",
    "            debug_mode=False,\n",
    "            steps_save=10,\n",
    "            use_cpu=False,\n",
    "            use_edge_weight=False,\n",
    "            loss_type='mse',\n",
    "        )"
   ]
  },
  {
   "cell_type": "markdown",
   "metadata": {},
   "source": [
    "#### Results"
   ]
  },
  {
   "cell_type": "code",
   "execution_count": 8,
   "metadata": {},
   "outputs": [
    {
     "name": "stderr",
     "output_type": "stream",
     "text": [
      "100%|██████████| 512/512 [00:16<00:00, 31.36it/s]\n"
     ]
    }
   ],
   "source": [
    "res_edges_fnn = test(\n",
    "    dataset=dataset_val,\n",
    "    save_path=save_model,\n",
    "    n_runs=1,\n",
    "    debug_mode=False,\n",
    "    use_cpu=False,\n",
    "    save=True,\n",
    "    use_edge_weight=False,\n",
    ")"
   ]
  },
  {
   "cell_type": "code",
   "execution_count": 9,
   "metadata": {},
   "outputs": [
    {
     "data": {
      "text/plain": [
       "{'in_features': 4,\n",
       " 'h_features': [10, 15, 20],\n",
       " 'out_features': 4,\n",
       " 'activation': ReLU(),\n",
       " 'norm_nodes': 'gn',\n",
       " 'dropout': 0.0,\n",
       " 'tr_par_lr': 0.1,\n",
       " 'tr_par_optimizer_name': 'adamw',\n",
       " 'tr_par_scheduler_mode': 'max_val_mcc',\n",
       " 'tr_par_use_edge_weight': False,\n",
       " 'tr_par_loss_type': 'mse',\n",
       " 'tr_par_approach': 'dist',\n",
       " 'tr_par_scheduler_patience': 10,\n",
       " 'train_self_loop': False,\n",
       " 'train_drop_edges': 0,\n",
       " 'val_mcc': 0.3654127433397791,\n",
       " 'epoch': 49,\n",
       " 'train_loss': 0.038628444,\n",
       " 'val_loss': 0.040835936,\n",
       " 'train_acc': 0.4955555498600006,\n",
       " 'val_acc': 0.4977777302265167,\n",
       " 'val_rmse_perc': 0.19914956,\n",
       " 'model_class': 'fnn',\n",
       " 'path_name': 'saved_fnn\\\\0.50_2023-03-31_03.26.11.961394',\n",
       " 'train_rmse': 0.8366600265340756,\n",
       " 'val_rmse': 0.8219218670625302,\n",
       " 'test_rmse': 0.8326663997864531,\n",
       " 'train_mae': 0.5688888888888889,\n",
       " 'val_mae': 0.56,\n",
       " 'test_mae': 0.5653333333333334,\n",
       " 'train_mcc': 0.3408728141747431,\n",
       " 'test_mcc': 0.34580920987011987,\n",
       " 'test_acc': 0.4986666738986969,\n",
       " 'train_rmse_perc': 0.19476107,\n",
       " 'test_rmse_perc': 0.18935496,\n",
       " 'train_mae_perc': 0.16383308,\n",
       " 'val_mae_perc': 0.16279066,\n",
       " 'test_mae_perc': 0.16014636}"
      ]
     },
     "execution_count": 9,
     "metadata": {},
     "output_type": "execute_result"
    }
   ],
   "source": [
    "res_edges = res_edges_fnn\n",
    "res_edges[0]"
   ]
  },
  {
   "cell_type": "code",
   "execution_count": 10,
   "metadata": {},
   "outputs": [
    {
     "data": {
      "text/plain": [
       "{'in_features': 4,\n",
       " 'h_features': [10, 15, 20],\n",
       " 'out_features': 4,\n",
       " 'activation': ReLU(),\n",
       " 'norm_nodes': 'gn',\n",
       " 'dropout': 0.0,\n",
       " 'tr_par_lr': 0.1,\n",
       " 'tr_par_optimizer_name': 'adamw',\n",
       " 'tr_par_scheduler_mode': 'max_val_mcc',\n",
       " 'tr_par_use_edge_weight': False,\n",
       " 'tr_par_loss_type': 'mse',\n",
       " 'tr_par_approach': 'dist',\n",
       " 'tr_par_scheduler_patience': 10,\n",
       " 'train_self_loop': False,\n",
       " 'train_drop_edges': 0,\n",
       " 'val_mcc': 0.37054695820428524,\n",
       " 'epoch': 57,\n",
       " 'train_loss': 0.03803584,\n",
       " 'val_loss': 0.039797753,\n",
       " 'train_acc': 0.46000000834465027,\n",
       " 'val_acc': 0.47555550932884216,\n",
       " 'val_rmse_perc': 0.1971893,\n",
       " 'model_class': 'fnn',\n",
       " 'path_name': 'saved_fnn\\\\0.48_2023-03-31_03.26.11.961394',\n",
       " 'train_rmse': 0.8504900548115383,\n",
       " 'val_rmse': 0.8273115763993905,\n",
       " 'test_rmse': 0.8516650358758033,\n",
       " 'train_mae': 0.6011111111111112,\n",
       " 'val_mae': 0.5777777777777777,\n",
       " 'test_mae': 0.5973333333333334,\n",
       " 'train_mcc': 0.30777554745697594,\n",
       " 'test_mcc': 0.3147347463761463,\n",
       " 'test_acc': 0.46666666865348816,\n",
       " 'train_rmse_perc': 0.1935278,\n",
       " 'test_rmse_perc': 0.18973035,\n",
       " 'train_mae_perc': 0.16292694,\n",
       " 'val_mae_perc': 0.16142805,\n",
       " 'test_mae_perc': 0.1613352}"
      ]
     },
     "execution_count": 10,
     "metadata": {},
     "output_type": "execute_result"
    }
   ],
   "source": [
    "all = res_edges[2]\n",
    "\n",
    "sort_idx = np.argsort([k['dict'][metric_filter_1] for k in all])\n",
    "all[sort_idx[0]]['dict']"
   ]
  },
  {
   "cell_type": "code",
   "execution_count": 11,
   "metadata": {},
   "outputs": [
    {
     "data": {
      "text/plain": [
       "{'in_features': 4,\n",
       " 'h_features': [10, 15, 20],\n",
       " 'out_features': 4,\n",
       " 'activation': ReLU(),\n",
       " 'norm_nodes': 'gn',\n",
       " 'dropout': 0.0,\n",
       " 'tr_par_lr': 0.1,\n",
       " 'tr_par_optimizer_name': 'adamw',\n",
       " 'tr_par_scheduler_mode': 'max_val_mcc',\n",
       " 'tr_par_use_edge_weight': False,\n",
       " 'tr_par_loss_type': 'mse',\n",
       " 'tr_par_approach': 'dist',\n",
       " 'tr_par_scheduler_patience': 10,\n",
       " 'train_self_loop': False,\n",
       " 'train_drop_edges': 0,\n",
       " 'val_mcc': 0.3242966373464316,\n",
       " 'epoch': 100,\n",
       " 'train_loss': 0.037680436,\n",
       " 'val_loss': 0.04012714,\n",
       " 'train_acc': 0.4566666781902313,\n",
       " 'val_acc': 0.457777738571167,\n",
       " 'val_rmse_perc': 0.19872667,\n",
       " 'model_class': 'fnn',\n",
       " 'path_name': 'saved_fnn\\\\0.46_2023-03-31_03.26.11.961394_100',\n",
       " 'train_rmse': 0.8366600265340756,\n",
       " 'val_rmse': 0.8459051693633013,\n",
       " 'test_rmse': 0.8262364471909156,\n",
       " 'train_mae': 0.5955555555555555,\n",
       " 'val_mae': 0.6,\n",
       " 'test_mae': 0.5866666666666667,\n",
       " 'train_mcc': 0.29239849193174466,\n",
       " 'test_mcc': 0.29740389289446734,\n",
       " 'test_acc': 0.46133333444595337,\n",
       " 'train_rmse_perc': 0.19324306,\n",
       " 'test_rmse_perc': 0.1874602,\n",
       " 'train_mae_perc': 0.16318713,\n",
       " 'val_mae_perc': 0.16324827,\n",
       " 'test_mae_perc': 0.16013765}"
      ]
     },
     "execution_count": 11,
     "metadata": {},
     "output_type": "execute_result"
    }
   ],
   "source": [
    "all = res_edges[2]\n",
    "\n",
    "sort_idx = np.argsort([k['dict'][metric_filter_2] for k in all])\n",
    "all[sort_idx[0]]['dict']"
   ]
  },
  {
   "cell_type": "code",
   "execution_count": 12,
   "metadata": {},
   "outputs": [
    {
     "name": "stderr",
     "output_type": "stream",
     "text": [
      "100%|██████████| 512/512 [00:00<00:00, 29983.58it/s]\n"
     ]
    }
   ],
   "source": [
    "pretty([all[k]['dict'] for k in sort_idx])"
   ]
  },
  {
   "cell_type": "code",
   "execution_count": 13,
   "metadata": {},
   "outputs": [],
   "source": [
    "cm = all[sort_idx[0]]['test_cm'][0]"
   ]
  },
  {
   "cell_type": "code",
   "execution_count": 14,
   "metadata": {},
   "outputs": [
    {
     "data": {
      "text/plain": [
       "tensor(98)"
      ]
     },
     "execution_count": 14,
     "metadata": {},
     "output_type": "execute_result"
    }
   ],
   "source": [
    "(cm.labels==0).sum()"
   ]
  },
  {
   "cell_type": "code",
   "execution_count": 15,
   "metadata": {},
   "outputs": [
    {
     "data": {
      "text/plain": [
       "<module 'matplotlib.pyplot' from 'c:\\\\Users\\\\vibal\\\\miniconda3\\\\envs\\\\ml\\\\lib\\\\site-packages\\\\matplotlib\\\\pyplot.py'>"
      ]
     },
     "execution_count": 15,
     "metadata": {},
     "output_type": "execute_result"
    },
    {
     "data": {
      "image/png": "[encoded data removed]",
      "text/plain": [
       "<Figure size 1500x1000 with 2 Axes>"
      ]
     },
     "metadata": {},
     "output_type": "display_data"
    }
   ],
   "source": [
    "cm.visualize()"
   ]
  },
  {
   "cell_type": "code",
   "execution_count": 16,
   "metadata": {},
   "outputs": [
    {
     "data": {
      "text/plain": [
       "tensor([0.6327, 0.2421, 0.6667, 0.2921])"
      ]
     },
     "execution_count": 16,
     "metadata": {},
     "output_type": "execute_result"
    }
   ],
   "source": [
    "cm.class_accuracy"
   ]
  },
  {
   "cell_type": "code",
   "execution_count": 17,
   "metadata": {},
   "outputs": [
    {
     "data": {
      "text/plain": [
       "[0.17599513, 0.19236298, 0.16711493, 0.21279137]"
      ]
     },
     "execution_count": 17,
     "metadata": {},
     "output_type": "execute_result"
    }
   ],
   "source": [
    "[mean_squared_error(y_true=cm.true_percentiles[cm.labels==k], y_pred=cm.perc[cm.labels==k], squared=False) for k in range(0, cm.size)]"
   ]
  },
  {
   "cell_type": "code",
   "execution_count": 18,
   "metadata": {},
   "outputs": [
    {
     "data": {
      "text/plain": [
       "[0.14964464, 0.17056371, 0.13369206, 0.18819693]"
      ]
     },
     "execution_count": 18,
     "metadata": {},
     "output_type": "execute_result"
    }
   ],
   "source": [
    "[mean_absolute_error(y_true=cm.true_percentiles[cm.labels==k], y_pred=cm.perc[cm.labels==k]) for k in range(0, cm.size)]"
   ]
  },
  {
   "cell_type": "markdown",
   "metadata": {
    "collapsed": false
   },
   "source": [
    "### GCN"
   ]
  },
  {
   "cell_type": "code",
   "execution_count": 19,
   "metadata": {},
   "outputs": [],
   "source": [
    "save_model = f'{save_path}_gcn'\n",
    "log_dir = f'{log_path}_gcn'\n",
    "\n",
    "add_self_loop = True\n",
    "\n",
    "dataset_val = ContagionDataset(\n",
    "    raw_dir=data_dir,\n",
    "    drop_edges=0,\n",
    "    sets_lengths=sets_lengths,\n",
    "    add_self_loop = add_self_loop,\n",
    "    target = target,\n",
    ")\n",
    "\n",
    "gcn_model = dict(\n",
    "    in_features=[len(dataset_val.node_attributes)],\n",
    "    h_features=[[15] * 3, [10, 15, 20], [5, 10, 15, 20],],\n",
    "    out_features=[dataset_val.num_classes],\n",
    "    activation=[torch.nn.ReLU()],\n",
    "    norm_edges=['both', 'none'],\n",
    "    norm_nodes=[None, 'bn', 'gn'],\n",
    "    dropout=[0.2, 0.0],\n",
    "    # other\n",
    "    lr=[1e-1],\n",
    "    use_edge_weight=[True,],\n",
    "    drop_edges=[0,0.2],\n",
    ")\n",
    "list_model = [dict(zip(gcn_model.keys(), k)) for k in itertools.product(*gcn_model.values())]\n",
    "\n",
    "# gcn_model = dict(\n",
    "#     in_features=[len(dataset_val.node_attributes)],\n",
    "#     h_features=[[10] * 3],\n",
    "#     out_features=[dataset_val.num_classes],\n",
    "#     activation=[torch.nn.ReLU()],\n",
    "#     norm_edges=['both', 'none'],\n",
    "#     norm_nodes=[None, 'bn', 'gn'],\n",
    "#     dropout=[0.2, 0.0],\n",
    "#     # other\n",
    "#     lr=[1],\n",
    "#     label_smoothing=[0.0,],\n",
    "#     use_edge_weight=[True, ],\n",
    "#     drop_edges=[0,0.2],\n",
    "# )\n",
    "# list_model = [{i:j[k] for i,j in gcn_model.items()} for k in range(len(gcn_model['in_features']))]"
   ]
  },
  {
   "cell_type": "code",
   "execution_count": 20,
   "metadata": {
    "collapsed": false,
    "pycharm": {
     "name": "#%%\n"
    }
   },
   "outputs": [
    {
     "name": "stderr",
     "output_type": "stream",
     "text": [
      "100%|██████████| 72/72 [07:08<00:00,  5.95s/it]\n"
     ]
    }
   ],
   "source": [
    "if do_train:\n",
    "    for d in tqdm(list_model):\n",
    "        d = d.copy()\n",
    "        lr = d.pop('lr')\n",
    "        drop_edges = d.pop('drop_edges')\n",
    "        use_edge_weight = d.pop('use_edge_weight')\n",
    "\n",
    "        # dataset_valid = ContagionDataset(\n",
    "        #     raw_dir=data_dir,\n",
    "        #     drop_edges=0,\n",
    "        #     sets_lengths=sets_lengths,\n",
    "        #     add_self_loop = add_self_loop,\n",
    "        #     target = target,\n",
    "        #     seed=seed,\n",
    "        # )\n",
    "\n",
    "        dataset_train = ContagionDataset(\n",
    "            raw_dir=data_dir,\n",
    "            drop_edges=drop_edges,\n",
    "            sets_lengths=sets_lengths,\n",
    "            add_self_loop = add_self_loop,\n",
    "            target = target,\n",
    "        )\n",
    "\n",
    "        train(\n",
    "            model=GCN(**d),\n",
    "            dict_model=d,\n",
    "            dataset_train=dataset_train,\n",
    "            dataset_val=dataset_val,\n",
    "            log_dir=log_dir,\n",
    "            save_path=save_model,\n",
    "            lr=lr,\n",
    "            optimizer_name=\"adamw\",\n",
    "            n_epochs=100,\n",
    "            scheduler_mode='max_val_mcc',\n",
    "            debug_mode=False,\n",
    "            steps_save=10,\n",
    "            use_cpu=False,\n",
    "            use_edge_weight=use_edge_weight,\n",
    "            loss_type='mse',\n",
    "        )"
   ]
  },
  {
   "cell_type": "markdown",
   "metadata": {},
   "source": [
    "#### Results"
   ]
  },
  {
   "cell_type": "code",
   "execution_count": 21,
   "metadata": {},
   "outputs": [
    {
     "name": "stderr",
     "output_type": "stream",
     "text": [
      "100%|██████████| 1227/1227 [01:22<00:00, 14.93it/s]\n"
     ]
    }
   ],
   "source": [
    "res_edges_gcn = test(\n",
    "    dataset=dataset_val,\n",
    "    save_path=save_model,\n",
    "    n_runs=1,\n",
    "    debug_mode=False,\n",
    "    use_cpu=False,\n",
    "    save=True,\n",
    "    use_edge_weight=True,\n",
    ")"
   ]
  },
  {
   "cell_type": "code",
   "execution_count": 22,
   "metadata": {},
   "outputs": [
    {
     "data": {
      "text/plain": [
       "{'in_features': 4,\n",
       " 'h_features': [15, 15, 15],\n",
       " 'out_features': 4,\n",
       " 'activation': ReLU(),\n",
       " 'norm_edges': 'both',\n",
       " 'norm_nodes': 'bn',\n",
       " 'dropout': 0.0,\n",
       " 'tr_par_lr': 0.1,\n",
       " 'tr_par_optimizer_name': 'adamw',\n",
       " 'tr_par_scheduler_mode': 'max_val_mcc',\n",
       " 'tr_par_use_edge_weight': True,\n",
       " 'tr_par_loss_type': 'mse',\n",
       " 'tr_par_approach': 'dist',\n",
       " 'tr_par_scheduler_patience': 10,\n",
       " 'train_self_loop': True,\n",
       " 'train_drop_edges': 0,\n",
       " 'val_mcc': 0.5757695317630739,\n",
       " 'epoch': 100,\n",
       " 'train_loss': 0.023910522,\n",
       " 'val_loss': 0.027527736,\n",
       " 'train_acc': 0.648888885974884,\n",
       " 'val_acc': 0.6711110472679138,\n",
       " 'val_rmse_perc': 0.15626079,\n",
       " 'model_class': 'gcn',\n",
       " 'path_name': 'saved_gcn\\\\0.67_2023-03-31_03.28.10.004854',\n",
       " 'train_rmse': 0.648074069840786,\n",
       " 'val_rmse': 0.6633249580710799,\n",
       " 'test_rmse': 0.7080489625254268,\n",
       " 'train_mae': 0.37333333333333335,\n",
       " 'val_mae': 0.36,\n",
       " 'test_mae': 0.416,\n",
       " 'train_mcc': 0.5396245428815164,\n",
       " 'test_mcc': 0.5036212701087672,\n",
       " 'test_acc': 0.6213333606719971,\n",
       " 'train_rmse_perc': 0.15063226,\n",
       " 'test_rmse_perc': 0.1490641,\n",
       " 'train_mae_perc': 0.116576076,\n",
       " 'val_mae_perc': 0.11558195,\n",
       " 'test_mae_perc': 0.1150993}"
      ]
     },
     "execution_count": 22,
     "metadata": {},
     "output_type": "execute_result"
    }
   ],
   "source": [
    "res_edges = res_edges_gcn\n",
    "res_edges[0]"
   ]
  },
  {
   "cell_type": "code",
   "execution_count": 23,
   "metadata": {},
   "outputs": [
    {
     "data": {
      "text/plain": [
       "{'in_features': 4,\n",
       " 'h_features': [10, 15, 20],\n",
       " 'out_features': 4,\n",
       " 'activation': ReLU(),\n",
       " 'norm_edges': 'both',\n",
       " 'norm_nodes': 'bn',\n",
       " 'dropout': 0.0,\n",
       " 'tr_par_lr': 0.1,\n",
       " 'tr_par_optimizer_name': 'adamw',\n",
       " 'tr_par_scheduler_mode': 'max_val_mcc',\n",
       " 'tr_par_use_edge_weight': True,\n",
       " 'tr_par_loss_type': 'mse',\n",
       " 'tr_par_approach': 'dist',\n",
       " 'tr_par_scheduler_patience': 10,\n",
       " 'train_self_loop': True,\n",
       " 'train_drop_edges': 0,\n",
       " 'val_mcc': 0.5676989994860647,\n",
       " 'epoch': 90,\n",
       " 'train_loss': 0.026969396,\n",
       " 'val_loss': 0.025781777,\n",
       " 'train_acc': 0.6255555748939514,\n",
       " 'val_acc': 0.657777726650238,\n",
       " 'val_rmse_perc': 0.14968103,\n",
       " 'model_class': 'gcn',\n",
       " 'path_name': 'saved_gcn\\\\0.66_2023-03-31_03.30.26.707802_90',\n",
       " 'train_rmse': 0.676592771006148,\n",
       " 'val_rmse': 0.6394442031083626,\n",
       " 'test_rmse': 0.7192588778272627,\n",
       " 'train_mae': 0.4,\n",
       " 'val_mae': 0.36444444444444446,\n",
       " 'test_mae': 0.44266666666666665,\n",
       " 'train_mcc': 0.515281112205468,\n",
       " 'test_mcc': 0.4659914827198915,\n",
       " 'test_acc': 0.5893333554267883,\n",
       " 'train_rmse_perc': 0.16355653,\n",
       " 'test_rmse_perc': 0.16412579,\n",
       " 'train_mae_perc': 0.12434896,\n",
       " 'val_mae_perc': 0.1165142,\n",
       " 'test_mae_perc': 0.12536463}"
      ]
     },
     "execution_count": 23,
     "metadata": {},
     "output_type": "execute_result"
    }
   ],
   "source": [
    "all = res_edges[2]\n",
    "\n",
    "sort_idx = np.argsort([k['dict'][metric_filter_1] for k in all])\n",
    "all[sort_idx[0]]['dict']"
   ]
  },
  {
   "cell_type": "code",
   "execution_count": 24,
   "metadata": {},
   "outputs": [
    {
     "data": {
      "text/plain": [
       "{'in_features': 4,\n",
       " 'h_features': [15, 15, 15],\n",
       " 'out_features': 4,\n",
       " 'activation': ReLU(),\n",
       " 'norm_edges': 'both',\n",
       " 'norm_nodes': 'bn',\n",
       " 'dropout': 0.0,\n",
       " 'tr_par_lr': 0.1,\n",
       " 'tr_par_optimizer_name': 'adamw',\n",
       " 'tr_par_scheduler_mode': 'max_val_mcc',\n",
       " 'tr_par_use_edge_weight': True,\n",
       " 'tr_par_loss_type': 'mse',\n",
       " 'tr_par_approach': 'dist',\n",
       " 'tr_par_scheduler_patience': 10,\n",
       " 'train_self_loop': True,\n",
       " 'train_drop_edges': 0,\n",
       " 'val_mcc': 0.5757695317630739,\n",
       " 'epoch': 100,\n",
       " 'train_loss': 0.023910522,\n",
       " 'val_loss': 0.027527736,\n",
       " 'train_acc': 0.648888885974884,\n",
       " 'val_acc': 0.6711110472679138,\n",
       " 'val_rmse_perc': 0.15626079,\n",
       " 'model_class': 'gcn',\n",
       " 'path_name': 'saved_gcn\\\\0.67_2023-03-31_03.28.10.004854_100',\n",
       " 'train_rmse': 0.648074069840786,\n",
       " 'val_rmse': 0.6633249580710799,\n",
       " 'test_rmse': 0.7080489625254268,\n",
       " 'train_mae': 0.37333333333333335,\n",
       " 'val_mae': 0.36,\n",
       " 'test_mae': 0.416,\n",
       " 'train_mcc': 0.5396245428815164,\n",
       " 'test_mcc': 0.5036212701087672,\n",
       " 'test_acc': 0.6213333606719971,\n",
       " 'train_rmse_perc': 0.15063226,\n",
       " 'test_rmse_perc': 0.1490641,\n",
       " 'train_mae_perc': 0.116576076,\n",
       " 'val_mae_perc': 0.11558195,\n",
       " 'test_mae_perc': 0.1150993}"
      ]
     },
     "execution_count": 24,
     "metadata": {},
     "output_type": "execute_result"
    }
   ],
   "source": [
    "all = res_edges[2]\n",
    "\n",
    "sort_idx = np.argsort([k['dict'][metric_filter_2] for k in all])\n",
    "all[sort_idx[0]]['dict']"
   ]
  },
  {
   "cell_type": "code",
   "execution_count": 25,
   "metadata": {},
   "outputs": [
    {
     "name": "stderr",
     "output_type": "stream",
     "text": [
      "100%|██████████| 1227/1227 [00:00<00:00, 18613.78it/s]\n"
     ]
    }
   ],
   "source": [
    "pretty([all[k]['dict'] for k in sort_idx])"
   ]
  },
  {
   "cell_type": "markdown",
   "metadata": {
    "collapsed": false
   },
   "source": [
    "### GraphSAGE"
   ]
  },
  {
   "cell_type": "code",
   "execution_count": 26,
   "metadata": {},
   "outputs": [],
   "source": [
    "save_model = f'{save_path}_sage_dist'\n",
    "log_dir = f'{log_path}_sage_dist'\n",
    "\n",
    "dataset_val = ContagionDataset(\n",
    "    raw_dir=data_dir,\n",
    "    drop_edges=0,\n",
    "    sets_lengths=sets_lengths,\n",
    "    add_self_loop = True,\n",
    "    target = target,\n",
    ")\n",
    "\n",
    "sage_model = dict(\n",
    "    in_features = [len(dataset.node_attributes)],\n",
    "    h_features = [[20] * 3, [25] * 3, [15] * 3, [10], [20,25,20], [30] * 3], \n",
    "    out_features = [out_feats],\n",
    "    aggregator_type = ['lstm'],\n",
    "    norm_edges = ['right', 'none'],\n",
    "    norm_nodes = [None, 'bn', 'gn'],\n",
    "    activation = [torch.nn.ReLU()],\n",
    "    feat_drop = [0.2, 0],\n",
    "    # other\n",
    "    lr=[1e-2],\n",
    "    use_edge_weight=[True],\n",
    "    add_self_loop=[True],\n",
    "    drop_edges=[0,0.2],\n",
    ")\n",
    "list_model = [dict(zip(sage_model.keys(), k)) for k in itertools.product(*sage_model.values())]\n",
    "\n",
    "# sage_model = dict(\n",
    "#     in_features = [len(dataset.node_attributes)],\n",
    "#     h_features = [[30] * 3], \n",
    "#     out_features = [out_feats],\n",
    "#     aggregator_type = ['lstm'],\n",
    "#     norm_edges = ['none'],\n",
    "#     norm_nodes = ['gn'],\n",
    "#     activation = [torch.nn.ReLU()],\n",
    "#     feat_drop = [0],\n",
    "#     # other\n",
    "#     lr=[1e-2],\n",
    "#     label_smoothing=[0.0],\n",
    "#     use_edge_weight=[True],\n",
    "#     add_self_loop=[True],\n",
    "#     drop_edges=[0],\n",
    "# )\n",
    "# list_model = [{i:j[k] for i,j in sage_model.items()} for k in range(len(sage_model['in_features']))]"
   ]
  },
  {
   "cell_type": "code",
   "execution_count": 27,
   "metadata": {
    "collapsed": false,
    "pycharm": {
     "name": "#%%\n"
    }
   },
   "outputs": [
    {
     "name": "stderr",
     "output_type": "stream",
     "text": [
      "100%|██████████| 144/144 [1:06:36<00:00, 27.75s/it]\n"
     ]
    }
   ],
   "source": [
    "if do_train:\n",
    "    for d in tqdm(list_model):\n",
    "        d = d.copy()\n",
    "        lr = d.pop('lr')\n",
    "        add_self_loop = d.pop('add_self_loop')\n",
    "        drop_edges = d.pop('drop_edges')\n",
    "        use_edge_weight = d.pop('use_edge_weight')\n",
    "\n",
    "        dataset_valid = ContagionDataset(\n",
    "            raw_dir=data_dir,\n",
    "            drop_edges=0,\n",
    "            sets_lengths=sets_lengths,\n",
    "            add_self_loop = add_self_loop,\n",
    "            target = target,\n",
    "        )\n",
    "\n",
    "        dataset_train = ContagionDataset(\n",
    "            raw_dir=data_dir,\n",
    "            drop_edges=drop_edges,\n",
    "            sets_lengths=sets_lengths,\n",
    "            add_self_loop = add_self_loop,\n",
    "            target = target,\n",
    "        )\n",
    "\n",
    "        train(\n",
    "            model=GraphSAGE(**d),\n",
    "            dict_model=d,\n",
    "            dataset_train=dataset_train,\n",
    "            dataset_val=dataset_valid,\n",
    "            log_dir=log_dir,\n",
    "            save_path=save_model,\n",
    "            lr=lr,\n",
    "            optimizer_name=\"adamw\",\n",
    "            n_epochs=100,\n",
    "            scheduler_mode='max_val_mcc',\n",
    "            debug_mode=False,\n",
    "            steps_save=10,\n",
    "            use_cpu=False,\n",
    "            use_edge_weight=use_edge_weight,\n",
    "            loss_type='mse',\n",
    "        )"
   ]
  },
  {
   "cell_type": "markdown",
   "metadata": {},
   "source": [
    "#### Results"
   ]
  },
  {
   "cell_type": "code",
   "execution_count": 28,
   "metadata": {},
   "outputs": [
    {
     "name": "stderr",
     "output_type": "stream",
     "text": [
      "100%|██████████| 4127/4127 [09:04<00:00,  7.58it/s]\n"
     ]
    }
   ],
   "source": [
    "res_edges_sage = test(\n",
    "    dataset=dataset_val,\n",
    "    save_path=save_model,\n",
    "    n_runs=1,\n",
    "    debug_mode=False,\n",
    "    use_cpu=False,\n",
    "    save=True,\n",
    "    use_edge_weight=True,\n",
    ")"
   ]
  },
  {
   "cell_type": "code",
   "execution_count": 29,
   "metadata": {},
   "outputs": [
    {
     "data": {
      "text/plain": [
       "{'in_features': 4,\n",
       " 'h_features': [20, 20, 20],\n",
       " 'out_features': 1,\n",
       " 'aggregator_type': 'lstm',\n",
       " 'norm_edges': 'none',\n",
       " 'norm_nodes': 'bn',\n",
       " 'activation': ReLU(),\n",
       " 'feat_drop': 0,\n",
       " 'tr_par_lr': 0.01,\n",
       " 'tr_par_optimizer_name': 'adamw',\n",
       " 'tr_par_scheduler_mode': 'max_val_mcc',\n",
       " 'tr_par_use_edge_weight': True,\n",
       " 'tr_par_loss_type': 'mse',\n",
       " 'tr_par_approach': 'dist',\n",
       " 'tr_par_scheduler_patience': 10,\n",
       " 'train_self_loop': True,\n",
       " 'train_drop_edges': 0,\n",
       " 'val_mcc': 0.8521726458031486,\n",
       " 'epoch': 100,\n",
       " 'train_loss': 0.002821728,\n",
       " 'val_loss': 0.0077203913,\n",
       " 'train_acc': 0.9711111187934875,\n",
       " 'val_acc': 0.8888888359069824,\n",
       " 'val_rmse_perc': 0.07287121,\n",
       " 'model_class': 'sage',\n",
       " 'path_name': 'saved_sage_dist\\\\0.89_2023-03-31_03.47.02.188045_100',\n",
       " 'train_rmse': 0.1699673171197595,\n",
       " 'val_rmse': 0.38873012632302,\n",
       " 'test_rmse': 0.39665266081716044,\n",
       " 'train_mae': 0.028888888888888888,\n",
       " 'val_mae': 0.12444444444444444,\n",
       " 'test_mae': 0.14133333333333334,\n",
       " 'train_mcc': 0.9615066759998887,\n",
       " 'test_mcc': 0.818988988610572,\n",
       " 'test_acc': 0.8640000224113464,\n",
       " 'train_rmse_perc': 0.054576,\n",
       " 'test_rmse_perc': 0.07568438,\n",
       " 'train_mae_perc': 0.042320855,\n",
       " 'val_mae_perc': 0.049791057,\n",
       " 'test_mae_perc': 0.05237458}"
      ]
     },
     "execution_count": 29,
     "metadata": {},
     "output_type": "execute_result"
    }
   ],
   "source": [
    "res_edges = res_edges_sage\n",
    "res_edges[0]"
   ]
  },
  {
   "cell_type": "code",
   "execution_count": 30,
   "metadata": {},
   "outputs": [
    {
     "data": {
      "text/plain": [
       "{'in_features': 4,\n",
       " 'h_features': [15, 15, 15],\n",
       " 'out_features': 1,\n",
       " 'aggregator_type': 'lstm',\n",
       " 'norm_edges': 'right',\n",
       " 'norm_nodes': 'gn',\n",
       " 'activation': ReLU(),\n",
       " 'feat_drop': 0,\n",
       " 'tr_par_lr': 0.01,\n",
       " 'tr_par_optimizer_name': 'adamw',\n",
       " 'tr_par_scheduler_mode': 'max_val_mcc',\n",
       " 'tr_par_use_edge_weight': True,\n",
       " 'tr_par_loss_type': 'mse',\n",
       " 'tr_par_approach': 'dist',\n",
       " 'tr_par_scheduler_patience': 10,\n",
       " 'train_self_loop': True,\n",
       " 'train_drop_edges': 0,\n",
       " 'val_mcc': 0.8274067257237099,\n",
       " 'epoch': 100,\n",
       " 'train_loss': 0.0036951178,\n",
       " 'val_loss': 0.0062968945,\n",
       " 'train_acc': 0.9511111378669739,\n",
       " 'val_acc': 0.8711110353469849,\n",
       " 'val_rmse_perc': 0.06085968,\n",
       " 'model_class': 'sage',\n",
       " 'path_name': 'saved_sage_dist\\\\0.87_2023-03-31_04.06.16.986806_100',\n",
       " 'train_rmse': 0.22110831935702666,\n",
       " 'val_rmse': 0.3590109871423003,\n",
       " 'test_rmse': 0.4472135954999579,\n",
       " 'train_mae': 0.04888888888888889,\n",
       " 'val_mae': 0.1288888888888889,\n",
       " 'test_mae': 0.184,\n",
       " 'train_mcc': 0.9348955975615103,\n",
       " 'test_mcc': 0.7631703049984518,\n",
       " 'test_acc': 0.8213333487510681,\n",
       " 'train_rmse_perc': 0.056416634,\n",
       " 'test_rmse_perc': 0.07564326,\n",
       " 'train_mae_perc': 0.043442678,\n",
       " 'val_mae_perc': 0.047894593,\n",
       " 'test_mae_perc': 0.05295813}"
      ]
     },
     "execution_count": 30,
     "metadata": {},
     "output_type": "execute_result"
    }
   ],
   "source": [
    "all = res_edges[2]\n",
    "\n",
    "sort_idx = np.argsort([k['dict'][metric_filter_1] for k in all])\n",
    "all[sort_idx[0]]['dict']"
   ]
  },
  {
   "cell_type": "code",
   "execution_count": 31,
   "metadata": {},
   "outputs": [
    {
     "data": {
      "text/plain": [
       "{'in_features': 4,\n",
       " 'h_features': [20, 25, 20],\n",
       " 'out_features': 1,\n",
       " 'aggregator_type': 'lstm',\n",
       " 'norm_edges': 'right',\n",
       " 'norm_nodes': 'bn',\n",
       " 'activation': ReLU(),\n",
       " 'feat_drop': 0,\n",
       " 'tr_par_lr': 0.01,\n",
       " 'tr_par_optimizer_name': 'adamw',\n",
       " 'tr_par_scheduler_mode': 'max_val_mcc',\n",
       " 'tr_par_use_edge_weight': True,\n",
       " 'tr_par_loss_type': 'mse',\n",
       " 'tr_par_approach': 'dist',\n",
       " 'tr_par_scheduler_patience': 10,\n",
       " 'train_self_loop': True,\n",
       " 'train_drop_edges': 0,\n",
       " 'val_mcc': 0.8039343846286789,\n",
       " 'epoch': 100,\n",
       " 'train_loss': 0.0039570937,\n",
       " 'val_loss': 0.007840253,\n",
       " 'train_acc': 0.9399999976158142,\n",
       " 'val_acc': 0.8533332943916321,\n",
       " 'val_rmse_perc': 0.07701361,\n",
       " 'model_class': 'sage',\n",
       " 'path_name': 'saved_sage_dist\\\\0.85_2023-03-31_04.23.14.309532',\n",
       " 'train_rmse': 0.2449489742783178,\n",
       " 'val_rmse': 0.4,\n",
       " 'test_rmse': 0.44422216663887154,\n",
       " 'train_mae': 0.06,\n",
       " 'val_mae': 0.1511111111111111,\n",
       " 'test_mae': 0.17066666666666666,\n",
       " 'train_mcc': 0.9205319083508711,\n",
       " 'test_mcc': 0.7873519064493351,\n",
       " 'test_acc': 0.8399999737739563,\n",
       " 'train_rmse_perc': 0.056572177,\n",
       " 'test_rmse_perc': 0.07481304,\n",
       " 'train_mae_perc': 0.04352013,\n",
       " 'val_mae_perc': 0.053554174,\n",
       " 'test_mae_perc': 0.05012326}"
      ]
     },
     "execution_count": 31,
     "metadata": {},
     "output_type": "execute_result"
    }
   ],
   "source": [
    "all = res_edges[2]\n",
    "\n",
    "sort_idx = np.argsort([k['dict'][metric_filter_2] for k in all])\n",
    "all[sort_idx[0]]['dict']"
   ]
  },
  {
   "cell_type": "code",
   "execution_count": 32,
   "metadata": {},
   "outputs": [
    {
     "name": "stderr",
     "output_type": "stream",
     "text": [
      "100%|██████████| 4127/4127 [00:00<00:00, 30283.02it/s]\n"
     ]
    }
   ],
   "source": [
    "pretty([all[k]['dict'] for k in sort_idx])"
   ]
  },
  {
   "cell_type": "markdown",
   "metadata": {},
   "source": [
    "#### cm"
   ]
  },
  {
   "cell_type": "code",
   "execution_count": 33,
   "metadata": {},
   "outputs": [],
   "source": [
    "cm = all[sort_idx[0]]['test_cm'][0]"
   ]
  },
  {
   "cell_type": "code",
   "execution_count": 34,
   "metadata": {},
   "outputs": [
    {
     "data": {
      "text/plain": [
       "tensor(98)"
      ]
     },
     "execution_count": 34,
     "metadata": {},
     "output_type": "execute_result"
    }
   ],
   "source": [
    "(cm.labels==0).sum()"
   ]
  },
  {
   "cell_type": "code",
   "execution_count": 35,
   "metadata": {},
   "outputs": [
    {
     "data": {
      "text/plain": [
       "<module 'matplotlib.pyplot' from 'c:\\\\Users\\\\vibal\\\\miniconda3\\\\envs\\\\ml\\\\lib\\\\site-packages\\\\matplotlib\\\\pyplot.py'>"
      ]
     },
     "execution_count": 35,
     "metadata": {},
     "output_type": "execute_result"
    },
    {
     "data": {
      "image/png": "[encoded data removed]",
      "text/plain": [
       "<Figure size 1500x1000 with 2 Axes>"
      ]
     },
     "metadata": {},
     "output_type": "display_data"
    }
   ],
   "source": [
    "cm.visualize()"
   ]
  },
  {
   "cell_type": "code",
   "execution_count": 36,
   "metadata": {},
   "outputs": [
    {
     "data": {
      "text/plain": [
       "tensor([0.8367, 0.8000, 0.7957, 0.9326])"
      ]
     },
     "execution_count": 36,
     "metadata": {},
     "output_type": "execute_result"
    }
   ],
   "source": [
    "cm.class_accuracy"
   ]
  },
  {
   "cell_type": "code",
   "execution_count": 37,
   "metadata": {},
   "outputs": [
    {
     "data": {
      "text/plain": [
       "[0.09378044, 0.07969058, 0.05355306, 0.06421177]"
      ]
     },
     "execution_count": 37,
     "metadata": {},
     "output_type": "execute_result"
    }
   ],
   "source": [
    "[mean_squared_error(y_true=cm.true_percentiles[cm.labels==k], y_pred=cm.perc[cm.labels==k], squared=False) for k in range(0, cm.size)]"
   ]
  },
  {
   "cell_type": "code",
   "execution_count": 38,
   "metadata": {},
   "outputs": [
    {
     "data": {
      "text/plain": [
       "[0.054866605, 0.056097187, 0.041910905, 0.047105033]"
      ]
     },
     "execution_count": 38,
     "metadata": {},
     "output_type": "execute_result"
    }
   ],
   "source": [
    "[mean_absolute_error(y_true=cm.true_percentiles[cm.labels==k], y_pred=cm.perc[cm.labels==k]) for k in range(0, cm.size)]"
   ]
  },
  {
   "cell_type": "markdown",
   "metadata": {},
   "source": [
    "#### GraphSAGE Base_n"
   ]
  },
  {
   "cell_type": "code",
   "execution_count": 39,
   "metadata": {},
   "outputs": [],
   "source": [
    "save_model = f'{save_path}_sage_base'\n",
    "log_dir = f'{log_path}_sage_base'\n",
    "\n",
    "dataset_val = ContagionDataset(\n",
    "    raw_dir=data_dir,\n",
    "    drop_edges=0,\n",
    "    sets_lengths=sets_lengths,\n",
    "    add_self_loop = True,\n",
    "    target = target,\n",
    ")\n",
    "\n",
    "sage_model = dict(\n",
    "    in_features = [len(dataset.node_attributes)],\n",
    "    h_features = [[20] * 3, [25] * 3, [15] * 3, [10], [20,25,20], [30] * 3], \n",
    "    out_features = [out_feats],\n",
    "    aggregator_type = ['lstm'],\n",
    "    norm_edges = ['right', 'none'],\n",
    "    norm_nodes = [None, 'bn', 'gn'],\n",
    "    activation = [torch.nn.ReLU()],\n",
    "    feat_drop = [0.2, 0],\n",
    "    # other\n",
    "    lr=[1e-2],\n",
    "    use_edge_weight=[True],\n",
    "    add_self_loop=[True],\n",
    "    drop_edges=[0,0.2],\n",
    ")\n",
    "list_model = [dict(zip(sage_model.keys(), k)) for k in itertools.product(*sage_model.values())]\n",
    "\n",
    "# sage_model = dict(\n",
    "#     in_features = [len(dataset.node_attributes)],\n",
    "#     h_features = [[30] * 3], \n",
    "#     out_features = [out_feats],\n",
    "#     aggregator_type = ['lstm'],\n",
    "#     norm_edges = ['none'],\n",
    "#     norm_nodes = ['gn'],\n",
    "#     activation = [torch.nn.ReLU()],\n",
    "#     feat_drop = [0],\n",
    "#     # other\n",
    "#     lr=[1e-2],\n",
    "#     label_smoothing=[0.0],\n",
    "#     use_edge_weight=[True],\n",
    "#     add_self_loop=[True],\n",
    "#     drop_edges=[0],\n",
    "# )\n",
    "# list_model = [{i:j[k] for i,j in sage_model.items()} for k in range(len(sage_model['in_features']))]"
   ]
  },
  {
   "cell_type": "code",
   "execution_count": 40,
   "metadata": {
    "collapsed": false,
    "pycharm": {
     "name": "#%%\n"
    }
   },
   "outputs": [
    {
     "name": "stderr",
     "output_type": "stream",
     "text": [
      "100%|██████████| 144/144 [59:38<00:00, 24.85s/it] \n"
     ]
    }
   ],
   "source": [
    "if do_train:\n",
    "    for d in tqdm(list_model):\n",
    "        d = d.copy()\n",
    "        lr = d.pop('lr')\n",
    "        add_self_loop = d.pop('add_self_loop')\n",
    "        drop_edges = d.pop('drop_edges')\n",
    "        use_edge_weight = d.pop('use_edge_weight')\n",
    "\n",
    "        dataset_valid = ContagionDataset(\n",
    "            raw_dir=data_dir,\n",
    "            drop_edges=0,\n",
    "            sets_lengths=sets_lengths,\n",
    "            add_self_loop = add_self_loop,\n",
    "            target = target,\n",
    "        )\n",
    "\n",
    "        dataset_train = ContagionDataset(\n",
    "            raw_dir=data_dir,\n",
    "            drop_edges=drop_edges,\n",
    "            sets_lengths=sets_lengths,\n",
    "            add_self_loop = add_self_loop,\n",
    "            target = target,\n",
    "        )\n",
    "\n",
    "        train(\n",
    "            model=GraphSAGE(**d),\n",
    "            dict_model=d,\n",
    "            dataset_train=dataset_train,\n",
    "            dataset_val=dataset_valid,\n",
    "            log_dir=log_dir,\n",
    "            save_path=save_model,\n",
    "            lr=lr,\n",
    "            optimizer_name=\"adamw\",\n",
    "            n_epochs=100,\n",
    "            scheduler_mode='max_val_mcc',\n",
    "            debug_mode=False,\n",
    "            steps_save=10,\n",
    "            use_cpu=False,\n",
    "            use_edge_weight=use_edge_weight,\n",
    "            loss_type='mse',\n",
    "            approach='base_n',\n",
    "        )"
   ]
  },
  {
   "cell_type": "markdown",
   "metadata": {},
   "source": [
    "##### Results"
   ]
  },
  {
   "cell_type": "code",
   "execution_count": 41,
   "metadata": {},
   "outputs": [
    {
     "name": "stderr",
     "output_type": "stream",
     "text": [
      "100%|██████████| 2973/2973 [06:02<00:00,  8.21it/s]\n"
     ]
    }
   ],
   "source": [
    "res_edges_sage_base = test(\n",
    "    dataset=dataset_val,\n",
    "    save_path=save_model,\n",
    "    n_runs=1,\n",
    "    debug_mode=False,\n",
    "    use_cpu=False,\n",
    "    save=True,\n",
    "    use_edge_weight=True,\n",
    "    approach_default='base_n',\n",
    ")"
   ]
  },
  {
   "cell_type": "code",
   "execution_count": 42,
   "metadata": {},
   "outputs": [
    {
     "data": {
      "text/plain": [
       "{'in_features': 4,\n",
       " 'h_features': [20, 20, 20],\n",
       " 'out_features': 1,\n",
       " 'aggregator_type': 'lstm',\n",
       " 'norm_edges': 'none',\n",
       " 'norm_nodes': 'bn',\n",
       " 'activation': ReLU(),\n",
       " 'feat_drop': 0,\n",
       " 'tr_par_lr': 0.01,\n",
       " 'tr_par_optimizer_name': 'adamw',\n",
       " 'tr_par_scheduler_mode': 'max_val_mcc',\n",
       " 'tr_par_use_edge_weight': True,\n",
       " 'tr_par_loss_type': 'mse',\n",
       " 'tr_par_approach': 'base_n',\n",
       " 'tr_par_scheduler_patience': 10,\n",
       " 'train_self_loop': True,\n",
       " 'train_drop_edges': 0,\n",
       " 'val_mcc': 0.7476726010667785,\n",
       " 'epoch': 71,\n",
       " 'train_loss': 0.0035511542,\n",
       " 'val_loss': 0.013726075,\n",
       " 'train_acc': 0.8155555725097656,\n",
       " 'val_acc': 0.7999999523162842,\n",
       " 'val_rmse_perc': 0.0985322,\n",
       " 'model_class': 'sage',\n",
       " 'path_name': 'saved_sage_base\\\\0.80_2023-03-31_05.00.04.041109',\n",
       " 'train_rmse': 0.42946995755750417,\n",
       " 'val_rmse': 0.4472135954999579,\n",
       " 'test_rmse': 0.5316640543300503,\n",
       " 'train_mae': 0.18444444444444444,\n",
       " 'val_mae': 0.2,\n",
       " 'test_mae': 0.26666666666666666,\n",
       " 'train_mcc': 0.7653599515174213,\n",
       " 'test_mcc': 0.6640777646708467,\n",
       " 'test_acc': 0.7413333058357239,\n",
       " 'train_rmse_perc': 0.10387762,\n",
       " 'test_rmse_perc': 0.114357725,\n",
       " 'train_mae_perc': 0.08476588,\n",
       " 'val_mae_perc': 0.08017497,\n",
       " 'test_mae_perc': 0.08856073}"
      ]
     },
     "execution_count": 42,
     "metadata": {},
     "output_type": "execute_result"
    }
   ],
   "source": [
    "res_edges = res_edges_sage_base\n",
    "res_edges[0]"
   ]
  },
  {
   "cell_type": "code",
   "execution_count": 43,
   "metadata": {},
   "outputs": [
    {
     "data": {
      "text/plain": [
       "{'in_features': 4,\n",
       " 'h_features': [20, 20, 20],\n",
       " 'out_features': 1,\n",
       " 'aggregator_type': 'lstm',\n",
       " 'norm_edges': 'none',\n",
       " 'norm_nodes': 'bn',\n",
       " 'activation': ReLU(),\n",
       " 'feat_drop': 0,\n",
       " 'tr_par_lr': 0.01,\n",
       " 'tr_par_optimizer_name': 'adamw',\n",
       " 'tr_par_scheduler_mode': 'max_val_mcc',\n",
       " 'tr_par_use_edge_weight': True,\n",
       " 'tr_par_loss_type': 'mse',\n",
       " 'tr_par_approach': 'base_n',\n",
       " 'tr_par_scheduler_patience': 10,\n",
       " 'train_self_loop': True,\n",
       " 'train_drop_edges': 0,\n",
       " 'val_mcc': 0.7476726010667785,\n",
       " 'epoch': 71,\n",
       " 'train_loss': 0.0035511542,\n",
       " 'val_loss': 0.013726075,\n",
       " 'train_acc': 0.8155555725097656,\n",
       " 'val_acc': 0.7999999523162842,\n",
       " 'val_rmse_perc': 0.0985322,\n",
       " 'model_class': 'sage',\n",
       " 'path_name': 'saved_sage_base\\\\0.80_2023-03-31_05.00.04.041109',\n",
       " 'train_rmse': 0.42946995755750417,\n",
       " 'val_rmse': 0.4472135954999579,\n",
       " 'test_rmse': 0.5316640543300503,\n",
       " 'train_mae': 0.18444444444444444,\n",
       " 'val_mae': 0.2,\n",
       " 'test_mae': 0.26666666666666666,\n",
       " 'train_mcc': 0.7653599515174213,\n",
       " 'test_mcc': 0.6640777646708467,\n",
       " 'test_acc': 0.7413333058357239,\n",
       " 'train_rmse_perc': 0.10387762,\n",
       " 'test_rmse_perc': 0.114357725,\n",
       " 'train_mae_perc': 0.08476588,\n",
       " 'val_mae_perc': 0.08017497,\n",
       " 'test_mae_perc': 0.08856073}"
      ]
     },
     "execution_count": 43,
     "metadata": {},
     "output_type": "execute_result"
    }
   ],
   "source": [
    "all = res_edges[2]\n",
    "\n",
    "sort_idx = np.argsort([k['dict'][metric_filter_1] for k in all])\n",
    "all[sort_idx[0]]['dict']"
   ]
  },
  {
   "cell_type": "code",
   "execution_count": 44,
   "metadata": {},
   "outputs": [
    {
     "data": {
      "text/plain": [
       "{'in_features': 4,\n",
       " 'h_features': [20, 20, 20],\n",
       " 'out_features': 1,\n",
       " 'aggregator_type': 'lstm',\n",
       " 'norm_edges': 'none',\n",
       " 'norm_nodes': 'bn',\n",
       " 'activation': ReLU(),\n",
       " 'feat_drop': 0,\n",
       " 'tr_par_lr': 0.01,\n",
       " 'tr_par_optimizer_name': 'adamw',\n",
       " 'tr_par_scheduler_mode': 'max_val_mcc',\n",
       " 'tr_par_use_edge_weight': True,\n",
       " 'tr_par_loss_type': 'mse',\n",
       " 'tr_par_approach': 'base_n',\n",
       " 'tr_par_scheduler_patience': 10,\n",
       " 'train_self_loop': True,\n",
       " 'train_drop_edges': 0,\n",
       " 'val_mcc': 0.7476726010667785,\n",
       " 'epoch': 71,\n",
       " 'train_loss': 0.0035511542,\n",
       " 'val_loss': 0.013726075,\n",
       " 'train_acc': 0.8155555725097656,\n",
       " 'val_acc': 0.7999999523162842,\n",
       " 'val_rmse_perc': 0.0985322,\n",
       " 'model_class': 'sage',\n",
       " 'path_name': 'saved_sage_base\\\\0.80_2023-03-31_05.00.04.041109',\n",
       " 'train_rmse': 0.42946995755750417,\n",
       " 'val_rmse': 0.4472135954999579,\n",
       " 'test_rmse': 0.5316640543300503,\n",
       " 'train_mae': 0.18444444444444444,\n",
       " 'val_mae': 0.2,\n",
       " 'test_mae': 0.26666666666666666,\n",
       " 'train_mcc': 0.7653599515174213,\n",
       " 'test_mcc': 0.6640777646708467,\n",
       " 'test_acc': 0.7413333058357239,\n",
       " 'train_rmse_perc': 0.10387762,\n",
       " 'test_rmse_perc': 0.114357725,\n",
       " 'train_mae_perc': 0.08476588,\n",
       " 'val_mae_perc': 0.08017497,\n",
       " 'test_mae_perc': 0.08856073}"
      ]
     },
     "execution_count": 44,
     "metadata": {},
     "output_type": "execute_result"
    }
   ],
   "source": [
    "all = res_edges[2]\n",
    "\n",
    "sort_idx = np.argsort([k['dict'][metric_filter_2] for k in all])\n",
    "all[sort_idx[0]]['dict']"
   ]
  },
  {
   "cell_type": "code",
   "execution_count": 45,
   "metadata": {},
   "outputs": [
    {
     "name": "stderr",
     "output_type": "stream",
     "text": [
      "100%|██████████| 2973/2973 [00:00<00:00, 28124.93it/s]\n"
     ]
    }
   ],
   "source": [
    "pretty([all[k]['dict'] for k in sort_idx])"
   ]
  },
  {
   "cell_type": "markdown",
   "metadata": {},
   "source": [
    "##### cm"
   ]
  },
  {
   "cell_type": "code",
   "execution_count": 46,
   "metadata": {},
   "outputs": [],
   "source": [
    "cm = all[sort_idx[0]]['test_cm'][0]"
   ]
  },
  {
   "cell_type": "code",
   "execution_count": 47,
   "metadata": {},
   "outputs": [
    {
     "data": {
      "text/plain": [
       "tensor(98)"
      ]
     },
     "execution_count": 47,
     "metadata": {},
     "output_type": "execute_result"
    }
   ],
   "source": [
    "(cm.labels==0).sum()"
   ]
  },
  {
   "cell_type": "code",
   "execution_count": 48,
   "metadata": {},
   "outputs": [
    {
     "data": {
      "text/plain": [
       "tensor(0.9986)"
      ]
     },
     "execution_count": 48,
     "metadata": {},
     "output_type": "execute_result"
    }
   ],
   "source": [
    "cm.perc.max()"
   ]
  },
  {
   "cell_type": "code",
   "execution_count": 49,
   "metadata": {},
   "outputs": [
    {
     "data": {
      "text/plain": [
       "<module 'matplotlib.pyplot' from 'c:\\\\Users\\\\vibal\\\\miniconda3\\\\envs\\\\ml\\\\lib\\\\site-packages\\\\matplotlib\\\\pyplot.py'>"
      ]
     },
     "execution_count": 49,
     "metadata": {},
     "output_type": "execute_result"
    },
    {
     "data": {
      "image/png": "[encoded data removed]",
      "text/plain": [
       "<Figure size 1500x1000 with 2 Axes>"
      ]
     },
     "metadata": {},
     "output_type": "display_data"
    }
   ],
   "source": [
    "cm.visualize()"
   ]
  },
  {
   "cell_type": "code",
   "execution_count": 50,
   "metadata": {},
   "outputs": [
    {
     "data": {
      "text/plain": [
       "tensor([0.9388, 0.6000, 0.8280, 0.5843])"
      ]
     },
     "execution_count": 50,
     "metadata": {},
     "output_type": "execute_result"
    }
   ],
   "source": [
    "cm.class_accuracy"
   ]
  },
  {
   "cell_type": "code",
   "execution_count": 51,
   "metadata": {},
   "outputs": [
    {
     "data": {
      "text/plain": [
       "[0.114956714, 0.11894281, 0.075429484, 0.13965939]"
      ]
     },
     "execution_count": 51,
     "metadata": {},
     "output_type": "execute_result"
    }
   ],
   "source": [
    "[mean_squared_error(y_true=cm.true_percentiles[cm.labels==k], y_pred=cm.perc[cm.labels==k], squared=False) for k in range(0, cm.size)]"
   ]
  },
  {
   "cell_type": "code",
   "execution_count": 52,
   "metadata": {},
   "outputs": [
    {
     "data": {
      "text/plain": [
       "[0.08490146, 0.08781, 0.059777725, 0.12346801]"
      ]
     },
     "execution_count": 52,
     "metadata": {},
     "output_type": "execute_result"
    }
   ],
   "source": [
    "[mean_absolute_error(y_true=cm.true_percentiles[cm.labels==k], y_pred=cm.perc[cm.labels==k]) for k in range(0, cm.size)]"
   ]
  },
  {
   "cell_type": "markdown",
   "metadata": {},
   "source": [
    "#### GraphSAGE Scale"
   ]
  },
  {
   "cell_type": "code",
   "execution_count": 53,
   "metadata": {},
   "outputs": [],
   "source": [
    "save_model = f'{save_path}_sage_scale'\n",
    "log_dir = f'{log_path}_sage_scale'\n",
    "\n",
    "dataset_val = ContagionDataset(\n",
    "    raw_dir=data_dir,\n",
    "    drop_edges=0,\n",
    "    sets_lengths=sets_lengths,\n",
    "    add_self_loop = True,\n",
    "    target = target,\n",
    ")\n",
    "\n",
    "sage_model = dict(\n",
    "    in_features = [len(dataset.node_attributes)],\n",
    "    h_features = [[20] * 3, [25] * 3, [15] * 3, [10], [20,25,20], [30] * 3], \n",
    "    out_features = [out_feats],\n",
    "    aggregator_type = ['lstm'],\n",
    "    norm_edges = ['right', 'none'],\n",
    "    norm_nodes = [None, 'bn', 'gn'],\n",
    "    activation = [torch.nn.ReLU()],\n",
    "    feat_drop = [0.2, 0],\n",
    "    # other\n",
    "    lr=[1e-2],\n",
    "    use_edge_weight=[True],\n",
    "    add_self_loop=[True],\n",
    "    drop_edges=[0,0.2],\n",
    ")\n",
    "list_model = [dict(zip(sage_model.keys(), k)) for k in itertools.product(*sage_model.values())]\n",
    "\n",
    "# sage_model = dict(\n",
    "#     in_features = [len(dataset.node_attributes)],\n",
    "#     h_features = [[30] * 3], \n",
    "#     out_features = [out_feats],\n",
    "#     aggregator_type = ['lstm'],\n",
    "#     norm_edges = ['none'],\n",
    "#     norm_nodes = ['gn'],\n",
    "#     activation = [torch.nn.ReLU()],\n",
    "#     feat_drop = [0],\n",
    "#     # other\n",
    "#     lr=[1e-2],\n",
    "#     label_smoothing=[0.0],\n",
    "#     use_edge_weight=[True],\n",
    "#     add_self_loop=[True],\n",
    "#     drop_edges=[0],\n",
    "# )\n",
    "# list_model = [{i:j[k] for i,j in sage_model.items()} for k in range(len(sage_model['in_features']))]"
   ]
  },
  {
   "cell_type": "code",
   "execution_count": 54,
   "metadata": {
    "collapsed": false,
    "pycharm": {
     "name": "#%%\n"
    }
   },
   "outputs": [
    {
     "name": "stderr",
     "output_type": "stream",
     "text": [
      "100%|██████████| 144/144 [59:20<00:00, 24.72s/it] \n"
     ]
    }
   ],
   "source": [
    "if do_train:\n",
    "    for d in tqdm(list_model):\n",
    "        d = d.copy()\n",
    "        lr = d.pop('lr')\n",
    "        add_self_loop = d.pop('add_self_loop')\n",
    "        drop_edges = d.pop('drop_edges')\n",
    "        use_edge_weight = d.pop('use_edge_weight')\n",
    "\n",
    "        dataset_valid = ContagionDataset(\n",
    "            raw_dir=data_dir,\n",
    "            drop_edges=0,\n",
    "            sets_lengths=sets_lengths,\n",
    "            add_self_loop = add_self_loop,\n",
    "            target = target,\n",
    "        )\n",
    "\n",
    "        dataset_train = ContagionDataset(\n",
    "            raw_dir=data_dir,\n",
    "            drop_edges=drop_edges,\n",
    "            sets_lengths=sets_lengths,\n",
    "            add_self_loop = add_self_loop,\n",
    "            target = target,\n",
    "        )\n",
    "\n",
    "        train(\n",
    "            model=GraphSAGE(**d),\n",
    "            dict_model=d,\n",
    "            dataset_train=dataset_train,\n",
    "            dataset_val=dataset_valid,\n",
    "            log_dir=log_dir,\n",
    "            save_path=save_model,\n",
    "            lr=lr,\n",
    "            optimizer_name=\"adamw\",\n",
    "            n_epochs=100,\n",
    "            scheduler_mode='max_val_mcc',\n",
    "            debug_mode=False,\n",
    "            steps_save=10,\n",
    "            use_cpu=False,\n",
    "            use_edge_weight=use_edge_weight,\n",
    "            loss_type='mse',\n",
    "            approach='scale',\n",
    "        )"
   ]
  },
  {
   "cell_type": "markdown",
   "metadata": {},
   "source": [
    "##### Results"
   ]
  },
  {
   "cell_type": "code",
   "execution_count": 55,
   "metadata": {},
   "outputs": [
    {
     "name": "stderr",
     "output_type": "stream",
     "text": [
      "100%|██████████| 4154/4154 [08:35<00:00,  8.06it/s]\n"
     ]
    }
   ],
   "source": [
    "res_edges_sage_dist = test(\n",
    "    dataset=dataset_val,\n",
    "    save_path=save_model,\n",
    "    n_runs=1,\n",
    "    debug_mode=False,\n",
    "    use_cpu=False,\n",
    "    save=True,\n",
    "    use_edge_weight=True,\n",
    "    approach_default='scale',\n",
    ")"
   ]
  },
  {
   "cell_type": "code",
   "execution_count": 56,
   "metadata": {},
   "outputs": [
    {
     "data": {
      "text/plain": [
       "{'in_features': 4,\n",
       " 'h_features': [30, 30, 30],\n",
       " 'out_features': 1,\n",
       " 'aggregator_type': 'lstm',\n",
       " 'norm_edges': 'none',\n",
       " 'norm_nodes': 'gn',\n",
       " 'activation': ReLU(),\n",
       " 'feat_drop': 0,\n",
       " 'tr_par_lr': 0.01,\n",
       " 'tr_par_optimizer_name': 'adamw',\n",
       " 'tr_par_scheduler_mode': 'max_val_mcc',\n",
       " 'tr_par_use_edge_weight': True,\n",
       " 'tr_par_loss_type': 'mse',\n",
       " 'tr_par_approach': 'scale',\n",
       " 'tr_par_scheduler_patience': 10,\n",
       " 'train_self_loop': True,\n",
       " 'train_drop_edges': 0,\n",
       " 'val_mcc': 0.7833636983729316,\n",
       " 'epoch': 90,\n",
       " 'train_loss': 0.0045344047,\n",
       " 'val_loss': 0.014487512,\n",
       " 'train_acc': 0.9344444274902344,\n",
       " 'val_acc': 0.8355554938316345,\n",
       " 'val_rmse_perc': 0.10811863,\n",
       " 'model_class': 'sage',\n",
       " 'path_name': 'saved_sage_scale\\\\0.84_2023-03-31_06.55.57.056748_90',\n",
       " 'train_rmse': 0.2560381915956203,\n",
       " 'val_rmse': 0.43716256828680006,\n",
       " 'test_rmse': 0.4979959839195493,\n",
       " 'train_mae': 0.06555555555555556,\n",
       " 'val_mae': 0.17333333333333334,\n",
       " 'test_mae': 0.19466666666666665,\n",
       " 'train_mcc': 0.9150991407288697,\n",
       " 'test_mcc': 0.7742617978858987,\n",
       " 'test_acc': 0.8266666531562805,\n",
       " 'train_rmse_perc': 0.091679834,\n",
       " 'test_rmse_perc': 0.118259884,\n",
       " 'train_mae_perc': 0.072656974,\n",
       " 'val_mae_perc': 0.081764884,\n",
       " 'test_mae_perc': 0.08365534}"
      ]
     },
     "execution_count": 56,
     "metadata": {},
     "output_type": "execute_result"
    }
   ],
   "source": [
    "res_edges = res_edges_sage_dist\n",
    "res_edges[0]"
   ]
  },
  {
   "cell_type": "code",
   "execution_count": 57,
   "metadata": {},
   "outputs": [
    {
     "data": {
      "text/plain": [
       "{'in_features': 4,\n",
       " 'h_features': [25, 25, 25],\n",
       " 'out_features': 1,\n",
       " 'aggregator_type': 'lstm',\n",
       " 'norm_edges': 'right',\n",
       " 'norm_nodes': 'gn',\n",
       " 'activation': ReLU(),\n",
       " 'feat_drop': 0,\n",
       " 'tr_par_lr': 0.01,\n",
       " 'tr_par_optimizer_name': 'adamw',\n",
       " 'tr_par_scheduler_mode': 'max_val_mcc',\n",
       " 'tr_par_use_edge_weight': True,\n",
       " 'tr_par_loss_type': 'mse',\n",
       " 'tr_par_approach': 'scale',\n",
       " 'tr_par_scheduler_patience': 10,\n",
       " 'train_self_loop': True,\n",
       " 'train_drop_edges': 0.2,\n",
       " 'val_mcc': 0.7943747390683861,\n",
       " 'epoch': 100,\n",
       " 'train_loss': 0.02251551,\n",
       " 'val_loss': 0.011989775,\n",
       " 'train_acc': 0.8422222137451172,\n",
       " 'val_acc': 0.8444443941116333,\n",
       " 'val_rmse_perc': 0.08097541,\n",
       " 'model_class': 'sage',\n",
       " 'path_name': 'saved_sage_scale\\\\0.84_2023-03-31_06.13.03.869481_100',\n",
       " 'train_rmse': 0.39721250959376614,\n",
       " 'val_rmse': 0.39440531887330776,\n",
       " 'test_rmse': 0.48716869083853626,\n",
       " 'train_mae': 0.15777777777777777,\n",
       " 'val_mae': 0.15555555555555556,\n",
       " 'test_mae': 0.21066666666666667,\n",
       " 'train_mcc': 0.796283305100663,\n",
       " 'test_mcc': 0.7394170904603323,\n",
       " 'test_acc': 0.800000011920929,\n",
       " 'train_rmse_perc': 0.08160236,\n",
       " 'test_rmse_perc': 0.10304843,\n",
       " 'train_mae_perc': 0.06466146,\n",
       " 'val_mae_perc': 0.06119372,\n",
       " 'test_mae_perc': 0.07356967}"
      ]
     },
     "execution_count": 57,
     "metadata": {},
     "output_type": "execute_result"
    }
   ],
   "source": [
    "all = res_edges[2]\n",
    "\n",
    "sort_idx = np.argsort([k['dict'][metric_filter_1] for k in all])\n",
    "all[sort_idx[0]]['dict']"
   ]
  },
  {
   "cell_type": "code",
   "execution_count": 58,
   "metadata": {},
   "outputs": [
    {
     "data": {
      "text/plain": [
       "{'in_features': 4,\n",
       " 'h_features': [30, 30, 30],\n",
       " 'out_features': 1,\n",
       " 'aggregator_type': 'lstm',\n",
       " 'norm_edges': 'right',\n",
       " 'norm_nodes': 'gn',\n",
       " 'activation': ReLU(),\n",
       " 'feat_drop': 0,\n",
       " 'tr_par_lr': 0.01,\n",
       " 'tr_par_optimizer_name': 'adamw',\n",
       " 'tr_par_scheduler_mode': 'max_val_mcc',\n",
       " 'tr_par_use_edge_weight': True,\n",
       " 'tr_par_loss_type': 'mse',\n",
       " 'tr_par_approach': 'scale',\n",
       " 'tr_par_scheduler_patience': 10,\n",
       " 'train_self_loop': True,\n",
       " 'train_drop_edges': 0.2,\n",
       " 'val_mcc': 0.811159373579835,\n",
       " 'epoch': 68,\n",
       " 'train_loss': 0.020981455,\n",
       " 'val_loss': 0.014438559,\n",
       " 'train_acc': 0.8600000143051147,\n",
       " 'val_acc': 0.8577777147293091,\n",
       " 'val_rmse_perc': 0.08210671,\n",
       " 'model_class': 'sage',\n",
       " 'path_name': 'saved_sage_scale\\\\0.86_2023-03-31_06.51.06.063771',\n",
       " 'train_rmse': 0.37416573867739417,\n",
       " 'val_rmse': 0.37712361663282534,\n",
       " 'test_rmse': 0.48166378315169184,\n",
       " 'train_mae': 0.14,\n",
       " 'val_mae': 0.14222222222222222,\n",
       " 'test_mae': 0.20533333333333334,\n",
       " 'train_mcc': 0.8184977431067929,\n",
       " 'test_mcc': 0.7441610495149474,\n",
       " 'test_acc': 0.8053333163261414,\n",
       " 'train_rmse_perc': 0.08119684,\n",
       " 'test_rmse_perc': 0.0954157,\n",
       " 'train_mae_perc': 0.06442187,\n",
       " 'val_mae_perc': 0.062473174,\n",
       " 'test_mae_perc': 0.07182175}"
      ]
     },
     "execution_count": 58,
     "metadata": {},
     "output_type": "execute_result"
    }
   ],
   "source": [
    "all = res_edges[2]\n",
    "\n",
    "sort_idx = np.argsort([k['dict'][metric_filter_2] for k in all])\n",
    "all[sort_idx[0]]['dict']"
   ]
  },
  {
   "cell_type": "code",
   "execution_count": 59,
   "metadata": {},
   "outputs": [
    {
     "name": "stderr",
     "output_type": "stream",
     "text": [
      "100%|██████████| 4154/4154 [00:00<00:00, 30564.82it/s]\n"
     ]
    }
   ],
   "source": [
    "pretty([all[k]['dict'] for k in sort_idx])"
   ]
  },
  {
   "cell_type": "markdown",
   "metadata": {},
   "source": [
    "##### cm"
   ]
  },
  {
   "cell_type": "code",
   "execution_count": 60,
   "metadata": {},
   "outputs": [],
   "source": [
    "cm = all[sort_idx[0]]['test_cm'][0]"
   ]
  },
  {
   "cell_type": "code",
   "execution_count": 61,
   "metadata": {},
   "outputs": [
    {
     "data": {
      "text/plain": [
       "tensor(98)"
      ]
     },
     "execution_count": 61,
     "metadata": {},
     "output_type": "execute_result"
    }
   ],
   "source": [
    "(cm.labels==0).sum()"
   ]
  },
  {
   "cell_type": "code",
   "execution_count": 62,
   "metadata": {},
   "outputs": [
    {
     "data": {
      "text/plain": [
       "tensor(0.9987)"
      ]
     },
     "execution_count": 62,
     "metadata": {},
     "output_type": "execute_result"
    }
   ],
   "source": [
    "cm.perc.max()"
   ]
  },
  {
   "cell_type": "code",
   "execution_count": 63,
   "metadata": {},
   "outputs": [
    {
     "data": {
      "text/plain": [
       "<module 'matplotlib.pyplot' from 'c:\\\\Users\\\\vibal\\\\miniconda3\\\\envs\\\\ml\\\\lib\\\\site-packages\\\\matplotlib\\\\pyplot.py'>"
      ]
     },
     "execution_count": 63,
     "metadata": {},
     "output_type": "execute_result"
    },
    {
     "data": {
      "image/png": "[encoded data removed]",
      "text/plain": [
       "<Figure size 1500x1000 with 2 Axes>"
      ]
     },
     "metadata": {},
     "output_type": "display_data"
    }
   ],
   "source": [
    "cm.visualize()"
   ]
  },
  {
   "cell_type": "code",
   "execution_count": 64,
   "metadata": {},
   "outputs": [
    {
     "data": {
      "text/plain": [
       "tensor([0.9490, 0.5895, 0.7312, 0.9551])"
      ]
     },
     "execution_count": 64,
     "metadata": {},
     "output_type": "execute_result"
    }
   ],
   "source": [
    "cm.class_accuracy"
   ]
  },
  {
   "cell_type": "code",
   "execution_count": 65,
   "metadata": {},
   "outputs": [
    {
     "data": {
      "text/plain": [
       "[0.09921537, 0.12425664, 0.08530331, 0.058624234]"
      ]
     },
     "execution_count": 65,
     "metadata": {},
     "output_type": "execute_result"
    }
   ],
   "source": [
    "[mean_squared_error(y_true=cm.true_percentiles[cm.labels==k], y_pred=cm.perc[cm.labels==k], squared=False) for k in range(0, cm.size)]"
   ]
  },
  {
   "cell_type": "code",
   "execution_count": 66,
   "metadata": {},
   "outputs": [
    {
     "data": {
      "text/plain": [
       "[0.07412166, 0.09615984, 0.067601725, 0.04772008]"
      ]
     },
     "execution_count": 66,
     "metadata": {},
     "output_type": "execute_result"
    }
   ],
   "source": [
    "[mean_absolute_error(y_true=cm.true_percentiles[cm.labels==k], y_pred=cm.perc[cm.labels==k]) for k in range(0, cm.size)]"
   ]
  },
  {
   "cell_type": "markdown",
   "metadata": {
    "collapsed": false
   },
   "source": [
    "### GAT"
   ]
  },
  {
   "cell_type": "code",
   "execution_count": 67,
   "metadata": {},
   "outputs": [],
   "source": [
    "save_model = f'{save_path}_gat'\n",
    "log_dir = f'{log_path}_gat'\n",
    "\n",
    "add_self_loop = True\n",
    "\n",
    "dataset_val = ContagionDataset(\n",
    "    raw_dir=data_dir,\n",
    "    drop_edges=0,\n",
    "    sets_lengths=sets_lengths,\n",
    "    add_self_loop = add_self_loop,\n",
    "    target = target,\n",
    ")\n",
    "\n",
    "gat_model = dict(\n",
    "    in_features = [len(dataset.node_attributes)],\n",
    "    h_features = [[10], [10] * 2, [15], [15] * 2, [20], [20] * 2, [25], [25] * 2],\n",
    "    out_features = [out_feats],\n",
    "    num_heads = [[4] * 2, [2] * 2, [4, 2]],\n",
    "    norm_nodes = [None, 'bn', 'gn'],\n",
    "    activation = [torch.nn.ReLU()],\n",
    "    negative_slope = [0.2, 0.4],\n",
    "    feat_drop = [0.2],\n",
    "    attn_drop = [0.2],\n",
    "    residual = [True],\n",
    "    # other\n",
    "    lr=[1e-2,],\n",
    "    use_edge_weight=[False],\n",
    "    drop_edges=[0,0.2],\n",
    ")\n",
    "list_model = [dict(zip(gat_model.keys(), k)) for k in itertools.product(*gat_model.values())]\n",
    "\n",
    "# gat_model = dict(\n",
    "#     in_features = [len(dataset.node_attributes)],\n",
    "#     # h_features = [[10], [15], [20]], \n",
    "#     h_features = [[10] * 3, [15] * 3, [20] * 3], \n",
    "#     out_features = [out_feats],\n",
    "#     # num_heads = [[4] * 4],\n",
    "#     num_heads = [[4, 2, 2]],\n",
    "#     norm_nodes = [None, 'bn', 'gn'],\n",
    "#     activation = [torch.nn.ReLU()],\n",
    "#     negative_slope = [0.2, 0.3, 0.4],\n",
    "#     feat_drop = [0.2],\n",
    "#     attn_drop = [0.2],\n",
    "#     residual = [True],\n",
    "#     # other\n",
    "#     lr=[1e-2,],\n",
    "#     label_smoothing=[0.0],\n",
    "#     use_edge_weight=[False],\n",
    "#     drop_edges=[0,],\n",
    "# )\n",
    "# list_model = [dict(zip(gat_model.keys(), k)) for k in itertools.product(*gat_model.values())]\n",
    "# list_model = [{i:j[k] for i,j in gat_model.items()} for k in range(len(gat_model['in_features']))]"
   ]
  },
  {
   "cell_type": "code",
   "execution_count": 68,
   "metadata": {
    "collapsed": false,
    "pycharm": {
     "name": "#%%\n"
    }
   },
   "outputs": [
    {
     "name": "stderr",
     "output_type": "stream",
     "text": [
      "100%|██████████| 288/288 [24:41<00:00,  5.14s/it]\n"
     ]
    }
   ],
   "source": [
    "if do_train:\n",
    "    for d in tqdm(list_model):\n",
    "        d = d.copy()\n",
    "        lr = d.pop('lr')\n",
    "        drop_edges = d.pop('drop_edges')\n",
    "        use_edge_weight = d.pop('use_edge_weight')\n",
    "\n",
    "        # dataset_valid = ContagionDataset(\n",
    "        #     raw_dir=data_dir,\n",
    "        #     drop_edges=0,\n",
    "        #     sets_lengths=sets_lengths,\n",
    "        #     add_self_loop = add_self_loop,\n",
    "        #     target = target,\n",
    "        #     seed=seed,\n",
    "        # )\n",
    "\n",
    "        dataset_train = ContagionDataset(\n",
    "            raw_dir=data_dir,\n",
    "            drop_edges=drop_edges,\n",
    "            sets_lengths=sets_lengths,\n",
    "            add_self_loop = add_self_loop,\n",
    "            target = target,\n",
    "        )\n",
    "\n",
    "        train(\n",
    "            model=GAT(**d),\n",
    "            dict_model=d,\n",
    "            dataset_train=dataset_train,\n",
    "            dataset_val=dataset_val,\n",
    "            log_dir=log_dir,\n",
    "            save_path=save_model,\n",
    "            lr=lr,\n",
    "            optimizer_name=\"adamw\",\n",
    "            n_epochs=100,\n",
    "            scheduler_mode='max_val_mcc',\n",
    "            debug_mode=False,\n",
    "            steps_save=10,\n",
    "            use_cpu=False,\n",
    "            use_edge_weight=use_edge_weight,\n",
    "            loss_type='mse',\n",
    "        )"
   ]
  },
  {
   "cell_type": "markdown",
   "metadata": {},
   "source": [
    "#### Results"
   ]
  },
  {
   "cell_type": "code",
   "execution_count": 69,
   "metadata": {},
   "outputs": [
    {
     "name": "stderr",
     "output_type": "stream",
     "text": [
      "100%|██████████| 4958/4958 [02:54<00:00, 28.39it/s]\n"
     ]
    }
   ],
   "source": [
    "res_edges_gat = test(\n",
    "    dataset=dataset_val,\n",
    "    save_path=save_model,\n",
    "    n_runs=1,\n",
    "    debug_mode=False,\n",
    "    use_cpu=False,\n",
    "    save=True,\n",
    "    use_edge_weight=False,\n",
    ")"
   ]
  },
  {
   "cell_type": "code",
   "execution_count": 70,
   "metadata": {},
   "outputs": [
    {
     "data": {
      "text/plain": [
       "{'in_features': 4,\n",
       " 'h_features': [20, 20],\n",
       " 'out_features': 1,\n",
       " 'num_heads': [4, 2],\n",
       " 'norm_nodes': 'gn',\n",
       " 'activation': ReLU(),\n",
       " 'negative_slope': 0.4,\n",
       " 'feat_drop': 0.2,\n",
       " 'attn_drop': 0.2,\n",
       " 'residual': True,\n",
       " 'tr_par_lr': 0.01,\n",
       " 'tr_par_optimizer_name': 'adamw',\n",
       " 'tr_par_scheduler_mode': 'max_val_mcc',\n",
       " 'tr_par_use_edge_weight': False,\n",
       " 'tr_par_loss_type': 'mse',\n",
       " 'tr_par_approach': 'dist',\n",
       " 'tr_par_scheduler_patience': 10,\n",
       " 'train_self_loop': True,\n",
       " 'train_drop_edges': 0,\n",
       " 'val_mcc': 0.4565308208485304,\n",
       " 'epoch': 89,\n",
       " 'train_loss': 0.04206028,\n",
       " 'val_loss': 0.032786656,\n",
       " 'train_acc': 0.597777783870697,\n",
       " 'val_acc': 0.5777777433395386,\n",
       " 'val_rmse_perc': 0.16987495,\n",
       " 'model_class': 'gat',\n",
       " 'path_name': 'saved_gat\\\\0.58_2023-03-31_07.23.45.568100',\n",
       " 'train_rmse': 0.6871842709362768,\n",
       " 'val_rmse': 0.7542472332656507,\n",
       " 'test_rmse': 0.7882470002057308,\n",
       " 'train_mae': 0.4255555555555556,\n",
       " 'val_mae': 0.4711111111111111,\n",
       " 'test_mae': 0.5093333333333333,\n",
       " 'train_mcc': 0.47384063862140685,\n",
       " 'test_mcc': 0.4132587270203972,\n",
       " 'test_acc': 0.54666668176651,\n",
       " 'train_rmse_perc': 0.15840407,\n",
       " 'test_rmse_perc': 0.17457904,\n",
       " 'train_mae_perc': 0.122984126,\n",
       " 'val_mae_perc': 0.12997358,\n",
       " 'test_mae_perc': 0.13308859}"
      ]
     },
     "execution_count": 70,
     "metadata": {},
     "output_type": "execute_result"
    }
   ],
   "source": [
    "res_edges = res_edges_gat\n",
    "res_edges[0]"
   ]
  },
  {
   "cell_type": "code",
   "execution_count": 71,
   "metadata": {},
   "outputs": [
    {
     "data": {
      "text/plain": [
       "{'in_features': 4,\n",
       " 'h_features': [15],\n",
       " 'out_features': 1,\n",
       " 'num_heads': [4, 2],\n",
       " 'norm_nodes': 'gn',\n",
       " 'activation': ReLU(),\n",
       " 'negative_slope': 0.2,\n",
       " 'feat_drop': 0.2,\n",
       " 'attn_drop': 0.2,\n",
       " 'residual': True,\n",
       " 'tr_par_lr': 0.01,\n",
       " 'tr_par_optimizer_name': 'adamw',\n",
       " 'tr_par_scheduler_mode': 'max_val_mcc',\n",
       " 'tr_par_use_edge_weight': False,\n",
       " 'tr_par_loss_type': 'mse',\n",
       " 'tr_par_approach': 'dist',\n",
       " 'tr_par_scheduler_patience': 10,\n",
       " 'train_self_loop': True,\n",
       " 'train_drop_edges': 0,\n",
       " 'val_mcc': 0.47098367223720233,\n",
       " 'epoch': 100,\n",
       " 'train_loss': 0.036250204,\n",
       " 'val_loss': 0.02912499,\n",
       " 'train_acc': 0.5955555438995361,\n",
       " 'val_acc': 0.5866666436195374,\n",
       " 'val_rmse_perc': 0.1588115,\n",
       " 'model_class': 'gat',\n",
       " 'path_name': 'saved_gat\\\\0.59_2023-03-31_07.14.05.221182_100',\n",
       " 'train_rmse': 0.6839428176227731,\n",
       " 'val_rmse': 0.7180219742846006,\n",
       " 'test_rmse': 0.7694153624668538,\n",
       " 'train_mae': 0.4255555555555556,\n",
       " 'val_mae': 0.4444444444444444,\n",
       " 'test_mae': 0.5173333333333333,\n",
       " 'train_mcc': 0.4755716791152981,\n",
       " 'test_mcc': 0.37837827045512984,\n",
       " 'test_acc': 0.5199999809265137,\n",
       " 'train_rmse_perc': 0.1519774,\n",
       " 'test_rmse_perc': 0.16420394,\n",
       " 'train_mae_perc': 0.11907811,\n",
       " 'val_mae_perc': 0.119895205,\n",
       " 'test_mae_perc': 0.12770338}"
      ]
     },
     "execution_count": 71,
     "metadata": {},
     "output_type": "execute_result"
    }
   ],
   "source": [
    "all = res_edges[2]\n",
    "\n",
    "sort_idx = np.argsort([k['dict'][metric_filter_1] for k in all])\n",
    "all[sort_idx[0]]['dict']"
   ]
  },
  {
   "cell_type": "code",
   "execution_count": 72,
   "metadata": {},
   "outputs": [
    {
     "data": {
      "text/plain": [
       "{'in_features': 4,\n",
       " 'h_features': [15],\n",
       " 'out_features': 1,\n",
       " 'num_heads': [4, 2],\n",
       " 'norm_nodes': 'gn',\n",
       " 'activation': ReLU(),\n",
       " 'negative_slope': 0.2,\n",
       " 'feat_drop': 0.2,\n",
       " 'attn_drop': 0.2,\n",
       " 'residual': True,\n",
       " 'tr_par_lr': 0.01,\n",
       " 'tr_par_optimizer_name': 'adamw',\n",
       " 'tr_par_scheduler_mode': 'max_val_mcc',\n",
       " 'tr_par_use_edge_weight': False,\n",
       " 'tr_par_loss_type': 'mse',\n",
       " 'tr_par_approach': 'dist',\n",
       " 'tr_par_scheduler_patience': 10,\n",
       " 'train_self_loop': True,\n",
       " 'train_drop_edges': 0,\n",
       " 'val_mcc': 0.47098367223720233,\n",
       " 'epoch': 100,\n",
       " 'train_loss': 0.036250204,\n",
       " 'val_loss': 0.02912499,\n",
       " 'train_acc': 0.5955555438995361,\n",
       " 'val_acc': 0.5866666436195374,\n",
       " 'val_rmse_perc': 0.1588115,\n",
       " 'model_class': 'gat',\n",
       " 'path_name': 'saved_gat\\\\0.59_2023-03-31_07.14.05.221182_100',\n",
       " 'train_rmse': 0.6839428176227731,\n",
       " 'val_rmse': 0.7180219742846006,\n",
       " 'test_rmse': 0.7694153624668538,\n",
       " 'train_mae': 0.4255555555555556,\n",
       " 'val_mae': 0.4444444444444444,\n",
       " 'test_mae': 0.5173333333333333,\n",
       " 'train_mcc': 0.4755716791152981,\n",
       " 'test_mcc': 0.37837827045512984,\n",
       " 'test_acc': 0.5199999809265137,\n",
       " 'train_rmse_perc': 0.1519774,\n",
       " 'test_rmse_perc': 0.16420394,\n",
       " 'train_mae_perc': 0.11907811,\n",
       " 'val_mae_perc': 0.119895205,\n",
       " 'test_mae_perc': 0.12770338}"
      ]
     },
     "execution_count": 72,
     "metadata": {},
     "output_type": "execute_result"
    }
   ],
   "source": [
    "all = res_edges[2]\n",
    "\n",
    "sort_idx = np.argsort([k['dict'][metric_filter_2] for k in all])\n",
    "all[sort_idx[0]]['dict']"
   ]
  },
  {
   "cell_type": "code",
   "execution_count": 73,
   "metadata": {},
   "outputs": [
    {
     "name": "stderr",
     "output_type": "stream",
     "text": [
      "100%|██████████| 4958/4958 [00:00<00:00, 30605.08it/s]\n"
     ]
    }
   ],
   "source": [
    "pretty([all[k]['dict'] for k in sort_idx])"
   ]
  },
  {
   "cell_type": "code",
   "execution_count": null,
   "metadata": {},
   "outputs": [],
   "source": []
  }
 ],
 "metadata": {
  "interpreter": {
   "hash": "5533aa900e676eb13701c8fcbd0b5e657688ba839b290cdc5cd85347c7aef055"
  },
  "kernelspec": {
   "display_name": "Python 3.9.5 ('venv': venv)",
   "language": "python",
   "name": "python3"
  },
  "language_info": {
   "codemirror_mode": {
    "name": "ipython",
    "version": 3
   },
   "file_extension": ".py",
   "mimetype": "text/x-python",
   "name": "python",
   "nbconvert_exporter": "python",
   "pygments_lexer": "ipython3",
   "version": "3.9.16"
  },
  "orig_nbformat": 4
 },
 "nbformat": 4,
 "nbformat_minor": 2
}
